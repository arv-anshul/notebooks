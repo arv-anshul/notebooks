{
 "cells": [
  {
   "cell_type": "markdown",
   "metadata": {},
   "source": [
    "I am analysing a playlist which contains almost 300 tracks but I want to reduce the size of it.\n",
    "\n",
    "1. So, I am using Spotify api to fetch data and do the analysis on it.\n",
    "2. So, I have copied the HTML of that playlist and now using it I am performaing that analysis to reduce the tracks count of the playlist."
   ]
  },
  {
   "cell_type": "code",
   "execution_count": 19,
   "metadata": {},
   "outputs": [],
   "source": [
    "import json\n",
    "from pathlib import Path\n",
    "\n",
    "import spotipy as sp\n",
    "from dotenv import load_dotenv\n",
    "from spotipy.oauth2 import SpotifyClientCredentials"
   ]
  },
  {
   "cell_type": "markdown",
   "metadata": {},
   "source": [
    "# Fetch Playlist Tracks"
   ]
  },
  {
   "cell_type": "markdown",
   "metadata": {},
   "source": [
    "## Connect with Spotify API"
   ]
  },
  {
   "cell_type": "code",
   "execution_count": 2,
   "metadata": {},
   "outputs": [
    {
     "data": {
      "text/plain": [
       "<spotipy.client.Spotify at 0x10c076d10>"
      ]
     },
     "execution_count": 2,
     "metadata": {},
     "output_type": "execute_result"
    }
   ],
   "source": [
    "load_dotenv()\n",
    "app = sp.Spotify(auth_manager=SpotifyClientCredentials())\n",
    "app"
   ]
  },
  {
   "cell_type": "code",
   "execution_count": 21,
   "metadata": {},
   "outputs": [],
   "source": [
    "def get_all_tracks_from_playlist(app: sp.Spotify, playlist_id: str) -> list[dict]:\n",
    "    \"\"\" Fetch all tracks present in a Spotify playlist. \"\"\"\n",
    "    # Fetch the first batch of tracks\n",
    "    response: dict | None = app.playlist_items(playlist_id)\n",
    "    if response is None:\n",
    "        raise ValueError(\"Playlist response is None.\")\n",
    "    all_tracks: list = response[\"items\"]\n",
    "\n",
    "    # Iterate through the remaining pages\n",
    "    while response.get(\"next\"):\n",
    "        response = app.next(response)\n",
    "        all_tracks.extend(response[\"items\"])\n",
    "\n",
    "    return all_tracks"
   ]
  },
  {
   "cell_type": "markdown",
   "metadata": {},
   "source": [
    "## Get playlist data using `playlist_id`"
   ]
  },
  {
   "cell_type": "code",
   "execution_count": 22,
   "metadata": {},
   "outputs": [],
   "source": [
    "golden_era = get_all_tracks_from_playlist(app, \"6W4xIGHYuLXTbWXEGfmwxw\")\n",
    "\n",
    "playlist_path = Path(\"data/playlist-items.json\")\n",
    "with playlist_path.open(\"w\") as f:\n",
    "    json.dump(golden_era, f)"
   ]
  },
  {
   "cell_type": "markdown",
   "metadata": {},
   "source": [
    "# Data Analysis on Playlist"
   ]
  },
  {
   "cell_type": "markdown",
   "metadata": {},
   "source": [
    "## Import playlist as `pl.DataFrame`"
   ]
  },
  {
   "cell_type": "code",
   "execution_count": 24,
   "metadata": {},
   "outputs": [],
   "source": [
    "import polars as pl"
   ]
  },
  {
   "cell_type": "code",
   "execution_count": 48,
   "metadata": {},
   "outputs": [
    {
     "data": {
      "text/plain": [
       "polars.config.Config"
      ]
     },
     "execution_count": 48,
     "metadata": {},
     "output_type": "execute_result"
    }
   ],
   "source": [
    "pl.Config.set_fmt_str_lengths(40)"
   ]
  },
  {
   "cell_type": "code",
   "execution_count": 26,
   "metadata": {},
   "outputs": [
    {
     "name": "stdout",
     "output_type": "stream",
     "text": [
      "(293, 6)\n"
     ]
    },
    {
     "data": {
      "text/html": [
       "<div><style>\n",
       ".dataframe > thead > tr,\n",
       ".dataframe > tbody > tr {\n",
       "  text-align: right;\n",
       "  white-space: pre-wrap;\n",
       "}\n",
       "</style>\n",
       "<small>shape: (2, 6)</small><table border=\"1\" class=\"dataframe\"><thead><tr><th>added_at</th><th>added_by</th><th>is_local</th><th>primary_color</th><th>track</th><th>video_thumbnail</th></tr><tr><td>str</td><td>struct[5]</td><td>bool</td><td>null</td><td>struct[19]</td><td>struct[1]</td></tr></thead><tbody><tr><td>&quot;2022-10-16T06:…</td><td>{{&quot;https://open.spotify.com/user/31ps2negrszyvigiiyrdqjbqf5gi&quot;},&quot;https://api.spotify.com/v1/users/31ps2negrszyvigiiyrdqjbqf5gi&quot;,&quot;31ps2negrszyvigiiyrdqjbqf5gi&quot;,&quot;user&quot;,&quot;spotify:user:31ps2negrszyvigiiyrdqjbqf5gi&quot;}</td><td>false</td><td>null</td><td>{{&quot;compilation&quot;,[{{&quot;https://open.spotify.com/artist/0LyfQWJT6nXafLPZqxe9Of&quot;},&quot;https://api.spotify.com/v1/artists/0LyfQWJT6nXafLPZqxe9Of&quot;,&quot;0LyfQWJT6nXafLPZqxe9Of&quot;,&quot;Various Artists&quot;,&quot;artist&quot;,&quot;spotify:artist:0LyfQWJT6nXafLPZqxe9Of&quot;}],[&quot;IN&quot;],{&quot;https://open.spotify.com/album/5JCx0naviMFsPTfmaBmYbj&quot;},&quot;https://api.spotify.com/v1/albums/5JCx0naviMFsPTfmaBmYbj&quot;,&quot;5JCx0naviMFsPTfmaBmYbj&quot;,[{640,&quot;https://i.scdn.co/image/ab67616d0000b273a1fd486925da9490d70a9d2f&quot;,640}, {300,&quot;https://i.scdn.co/image/ab67616d00001e02a1fd486925da9490d70a9d2f&quot;,300}, {64,&quot;https://i.scdn.co/image/ab67616d00004851a1fd486925da9490d70a9d2f&quot;,64}],&quot;Nikaah&quot;,&quot;1982-09-24&quot;,&quot;day&quot;,8,&quot;album&quot;,&quot;spotify:album:5JCx0naviMFsPTfmaBmYbj&quot;},[{{&quot;https://open.spotify.com/artist/62mCohf6aiF3nryWghwCxM&quot;},&quot;https://api.spotify.com/v1/artists/62mCohf6aiF3nryWghwCxM&quot;,&quot;62mCohf6aiF3nryWghwCxM&quot;,&quot;Ghulam Ali&quot;,&quot;artist&quot;,&quot;spotify:artist:62mCohf6aiF3nryWghwCxM&quot;}],[&quot;IN&quot;],1,468826,false,false,{&quot;INH109633640&quot;},{&quot;https://open.spotify.com/track/7nUAHij7tN3aBFaeEqKhMt&quot;},&quot;https://api.spotify.com/v1/tracks/7nUAHij7tN3aBFaeEqKhMt&quot;,&quot;7nUAHij7tN3aBFaeEqKhMt&quot;,false,&quot;Chupke Chupke Raat Din&quot;,50,&quot;https://p.scdn.co/mp3-preview/b92bbb34b0760ee6ca272ae524b782e240ac0ea9?cid=24a0d2915dd944f1b5303b801bae5ba0&quot;,true,5,&quot;track&quot;,&quot;spotify:track:7nUAHij7tN3aBFaeEqKhMt&quot;}</td><td>{null}</td></tr><tr><td>&quot;2023-04-26T15:…</td><td>{{&quot;https://open.spotify.com/user/31ps2negrszyvigiiyrdqjbqf5gi&quot;},&quot;https://api.spotify.com/v1/users/31ps2negrszyvigiiyrdqjbqf5gi&quot;,&quot;31ps2negrszyvigiiyrdqjbqf5gi&quot;,&quot;user&quot;,&quot;spotify:user:31ps2negrszyvigiiyrdqjbqf5gi&quot;}</td><td>false</td><td>null</td><td>{{&quot;album&quot;,[{{&quot;https://open.spotify.com/artist/0wcJ6Eio1d7Te1lf3B7bVK&quot;},&quot;https://api.spotify.com/v1/artists/0wcJ6Eio1d7Te1lf3B7bVK&quot;,&quot;0wcJ6Eio1d7Te1lf3B7bVK&quot;,&quot;Kaifi Azmi&quot;,&quot;artist&quot;,&quot;spotify:artist:0wcJ6Eio1d7Te1lf3B7bVK&quot;}],[&quot;IN&quot;],{&quot;https://open.spotify.com/album/04KrFv8qKzc0CjztfX3smv&quot;},&quot;https://api.spotify.com/v1/albums/04KrFv8qKzc0CjztfX3smv&quot;,&quot;04KrFv8qKzc0CjztfX3smv&quot;,[{640,&quot;https://i.scdn.co/image/ab67616d0000b273d9fdb5b496b4963c90111a12&quot;,640}, {300,&quot;https://i.scdn.co/image/ab67616d00001e02d9fdb5b496b4963c90111a12&quot;,300}, {64,&quot;https://i.scdn.co/image/ab67616d00004851d9fdb5b496b4963c90111a12&quot;,64}],&quot;Kaifi Azmi Ki Kalam Se&quot;,&quot;2022-05-02&quot;,&quot;day&quot;,20,&quot;album&quot;,&quot;spotify:album:04KrFv8qKzc0CjztfX3smv&quot;},[{{&quot;https://open.spotify.com/artist/2ijWbN5KykTYiBoVmhzCTU&quot;},&quot;https://api.spotify.com/v1/artists/2ijWbN5KykTYiBoVmhzCTU&quot;,&quot;2ijWbN5KykTYiBoVmhzCTU&quot;,&quot;Jagjit Singh&quot;,&quot;artist&quot;,&quot;spotify:artist:2ijWbN5KykTYiBoVmhzCTU&quot;}],[&quot;IN&quot;],1,302733,false,false,{&quot;INH109632470&quot;},{&quot;https://open.spotify.com/track/52Af7bUm7zfhQ8qgWWEDMF&quot;},&quot;https://api.spotify.com/v1/tracks/52Af7bUm7zfhQ8qgWWEDMF&quot;,&quot;52Af7bUm7zfhQ8qgWWEDMF&quot;,false,&quot;Jhuki Jhuki Si Nazar&quot;,55,&quot;https://p.scdn.co/mp3-preview/2d243270d05dd4e2cbb311b71e3f67f9e6f886a2?cid=24a0d2915dd944f1b5303b801bae5ba0&quot;,true,9,&quot;track&quot;,&quot;spotify:track:52Af7bUm7zfhQ8qgWWEDMF&quot;}</td><td>{null}</td></tr></tbody></table></div>"
      ],
      "text/plain": [
       "shape: (2, 6)\n",
       "┌─────────────────┬─────────────────┬──────────┬───────────────┬─────────────────┬─────────────────┐\n",
       "│ added_at        ┆ added_by        ┆ is_local ┆ primary_color ┆ track           ┆ video_thumbnail │\n",
       "│ ---             ┆ ---             ┆ ---      ┆ ---           ┆ ---             ┆ ---             │\n",
       "│ str             ┆ struct[5]       ┆ bool     ┆ null          ┆ struct[19]      ┆ struct[1]       │\n",
       "╞═════════════════╪═════════════════╪══════════╪═══════════════╪═════════════════╪═════════════════╡\n",
       "│ 2022-10-16T06:3 ┆ {{\"https://open ┆ false    ┆ null          ┆ {{\"compilation\" ┆ {null}          │\n",
       "│ 4:28Z           ┆ .spotify.com/us ┆          ┆               ┆ ,[{{\"https://op ┆                 │\n",
       "│                 ┆ er…             ┆          ┆               ┆ en…             ┆                 │\n",
       "│ 2023-04-26T15:2 ┆ {{\"https://open ┆ false    ┆ null          ┆ {{\"album\",[{{\"h ┆ {null}          │\n",
       "│ 9:48Z           ┆ .spotify.com/us ┆          ┆               ┆ ttps://open.spo ┆                 │\n",
       "│                 ┆ er…             ┆          ┆               ┆ ti…             ┆                 │\n",
       "└─────────────────┴─────────────────┴──────────┴───────────────┴─────────────────┴─────────────────┘"
      ]
     },
     "execution_count": 26,
     "metadata": {},
     "output_type": "execute_result"
    }
   ],
   "source": [
    "df = pl.read_json(\"data/playlist-items.json\")\n",
    "print(df.shape)\n",
    "df.head(2)"
   ]
  },
  {
   "cell_type": "markdown",
   "metadata": {},
   "source": [
    "## Normalize dataframe"
   ]
  },
  {
   "cell_type": "code",
   "execution_count": 75,
   "metadata": {},
   "outputs": [
    {
     "name": "stdout",
     "output_type": "stream",
     "text": [
      "(293, 14)\n"
     ]
    },
    {
     "data": {
      "text/html": [
       "<div><style>\n",
       ".dataframe > thead > tr,\n",
       ".dataframe > tbody > tr {\n",
       "  text-align: right;\n",
       "  white-space: pre-wrap;\n",
       "}\n",
       "</style>\n",
       "<small>shape: (5, 14)</small><table border=\"1\" class=\"dataframe\"><thead><tr><th>track_id</th><th>track_name</th><th>track_type</th><th>duration_ms</th><th>popularity</th><th>explicit</th><th>added_at</th><th>track_number</th><th>preview_url</th><th>album_id</th><th>album_name</th><th>album_type</th><th>artists_name</th><th>artists_id</th></tr><tr><td>str</td><td>str</td><td>str</td><td>i64</td><td>i64</td><td>bool</td><td>str</td><td>i64</td><td>str</td><td>str</td><td>str</td><td>str</td><td>list[str]</td><td>list[str]</td></tr></thead><tbody><tr><td>&quot;7nUAHij7tN3aBFaeEqKhMt&quot;</td><td>&quot;Chupke Chupke Raat Din&quot;</td><td>&quot;track&quot;</td><td>468826</td><td>50</td><td>false</td><td>&quot;2022-10-16T06:34:28Z&quot;</td><td>5</td><td>&quot;https://p.scdn.co/mp3-preview/b92bbb34b…</td><td>&quot;5JCx0naviMFsPTfmaBmYbj&quot;</td><td>&quot;Nikaah&quot;</td><td>&quot;compilation&quot;</td><td>[&quot;Ghulam Ali&quot;]</td><td>[&quot;62mCohf6aiF3nryWghwCxM&quot;]</td></tr><tr><td>&quot;52Af7bUm7zfhQ8qgWWEDMF&quot;</td><td>&quot;Jhuki Jhuki Si Nazar&quot;</td><td>&quot;track&quot;</td><td>302733</td><td>55</td><td>false</td><td>&quot;2023-04-26T15:29:48Z&quot;</td><td>9</td><td>&quot;https://p.scdn.co/mp3-preview/2d243270d…</td><td>&quot;04KrFv8qKzc0CjztfX3smv&quot;</td><td>&quot;Kaifi Azmi Ki Kalam Se&quot;</td><td>&quot;album&quot;</td><td>[&quot;Jagjit Singh&quot;]</td><td>[&quot;2ijWbN5KykTYiBoVmhzCTU&quot;]</td></tr><tr><td>&quot;0Uju0OCAsVwlNSY0mQlGTb&quot;</td><td>&quot;Tum Itna Jo Muskura Rahe Ho&quot;</td><td>&quot;track&quot;</td><td>321311</td><td>60</td><td>false</td><td>&quot;2023-04-26T15:30:19Z&quot;</td><td>1</td><td>&quot;https://p.scdn.co/mp3-preview/11f5e3096…</td><td>&quot;04KrFv8qKzc0CjztfX3smv&quot;</td><td>&quot;Kaifi Azmi Ki Kalam Se&quot;</td><td>&quot;album&quot;</td><td>[&quot;Jagjit Singh&quot;]</td><td>[&quot;2ijWbN5KykTYiBoVmhzCTU&quot;]</td></tr><tr><td>&quot;15nZ2OViXR5mNwmSuZhx03&quot;</td><td>&quot;Dil Ke Arman Ansuon Men Bah Gaye&quot;</td><td>&quot;track&quot;</td><td>262989</td><td>37</td><td>false</td><td>&quot;2023-09-22T12:20:29Z&quot;</td><td>7</td><td>&quot;https://p.scdn.co/mp3-preview/5cb8c0ea4…</td><td>&quot;5JCx0naviMFsPTfmaBmYbj&quot;</td><td>&quot;Nikaah&quot;</td><td>&quot;compilation&quot;</td><td>[&quot;Salma Agha&quot;]</td><td>[&quot;7liaWSL1uPVjIrnYSFDB6V&quot;]</td></tr><tr><td>&quot;4Pnqpq21ngybetlCK3upTR&quot;</td><td>&quot;Yeh Raat Yeh Chandni&quot;</td><td>&quot;track&quot;</td><td>296240</td><td>45</td><td>false</td><td>&quot;2024-02-22T02:47:51Z&quot;</td><td>7</td><td>&quot;https://p.scdn.co/mp3-preview/553806b4e…</td><td>&quot;2YClj18H0MtjOGWwqII1sh&quot;</td><td>&quot;Baarishein, Chai Aur Hemant Kumar&quot;</td><td>&quot;album&quot;</td><td>[&quot;Hemant Kumar&quot;]</td><td>[&quot;02Um2HIOrUdsy3wqPBZwsj&quot;]</td></tr></tbody></table></div>"
      ],
      "text/plain": [
       "shape: (5, 14)\n",
       "┌───────────┬───────────┬───────────┬───────────┬───┬───────────┬───────────┬───────────┬──────────┐\n",
       "│ track_id  ┆ track_nam ┆ track_typ ┆ duration_ ┆ … ┆ album_nam ┆ album_typ ┆ artists_n ┆ artists_ │\n",
       "│ ---       ┆ e         ┆ e         ┆ ms        ┆   ┆ e         ┆ e         ┆ ame       ┆ id       │\n",
       "│ str       ┆ ---       ┆ ---       ┆ ---       ┆   ┆ ---       ┆ ---       ┆ ---       ┆ ---      │\n",
       "│           ┆ str       ┆ str       ┆ i64       ┆   ┆ str       ┆ str       ┆ list[str] ┆ list[str │\n",
       "│           ┆           ┆           ┆           ┆   ┆           ┆           ┆           ┆ ]        │\n",
       "╞═══════════╪═══════════╪═══════════╪═══════════╪═══╪═══════════╪═══════════╪═══════════╪══════════╡\n",
       "│ 7nUAHij7t ┆ Chupke    ┆ track     ┆ 468826    ┆ … ┆ Nikaah    ┆ compilati ┆ [\"Ghulam  ┆ [\"62mCoh │\n",
       "│ N3aBFaeEq ┆ Chupke    ┆           ┆           ┆   ┆           ┆ on        ┆ Ali\"]     ┆ f6aiF3nr │\n",
       "│ KhMt      ┆ Raat Din  ┆           ┆           ┆   ┆           ┆           ┆           ┆ yWghwCxM │\n",
       "│           ┆           ┆           ┆           ┆   ┆           ┆           ┆           ┆ \"]       │\n",
       "│ 52Af7bUm7 ┆ Jhuki     ┆ track     ┆ 302733    ┆ … ┆ Kaifi     ┆ album     ┆ [\"Jagjit  ┆ [\"2ijWbN │\n",
       "│ zfhQ8qgWW ┆ Jhuki Si  ┆           ┆           ┆   ┆ Azmi Ki   ┆           ┆ Singh\"]   ┆ 5KykTYiB │\n",
       "│ EDMF      ┆ Nazar     ┆           ┆           ┆   ┆ Kalam Se  ┆           ┆           ┆ oVmhzCTU │\n",
       "│           ┆           ┆           ┆           ┆   ┆           ┆           ┆           ┆ \"]       │\n",
       "│ 0Uju0OCAs ┆ Tum Itna  ┆ track     ┆ 321311    ┆ … ┆ Kaifi     ┆ album     ┆ [\"Jagjit  ┆ [\"2ijWbN │\n",
       "│ VwlNSY0mQ ┆ Jo        ┆           ┆           ┆   ┆ Azmi Ki   ┆           ┆ Singh\"]   ┆ 5KykTYiB │\n",
       "│ lGTb      ┆ Muskura   ┆           ┆           ┆   ┆ Kalam Se  ┆           ┆           ┆ oVmhzCTU │\n",
       "│           ┆ Rahe Ho   ┆           ┆           ┆   ┆           ┆           ┆           ┆ \"]       │\n",
       "│ 15nZ2OViX ┆ Dil Ke    ┆ track     ┆ 262989    ┆ … ┆ Nikaah    ┆ compilati ┆ [\"Salma   ┆ [\"7liaWS │\n",
       "│ R5mNwmSuZ ┆ Arman     ┆           ┆           ┆   ┆           ┆ on        ┆ Agha\"]    ┆ L1uPVjIr │\n",
       "│ hx03      ┆ Ansuon    ┆           ┆           ┆   ┆           ┆           ┆           ┆ nYSFDB6V │\n",
       "│           ┆ Men Bah   ┆           ┆           ┆   ┆           ┆           ┆           ┆ \"]       │\n",
       "│           ┆ Gaye      ┆           ┆           ┆   ┆           ┆           ┆           ┆          │\n",
       "│ 4Pnqpq21n ┆ Yeh Raat  ┆ track     ┆ 296240    ┆ … ┆ Baarishei ┆ album     ┆ [\"Hemant  ┆ [\"02Um2H │\n",
       "│ gybetlCK3 ┆ Yeh       ┆           ┆           ┆   ┆ n, Chai   ┆           ┆ Kumar\"]   ┆ IOrUdsy3 │\n",
       "│ upTR      ┆ Chandni   ┆           ┆           ┆   ┆ Aur       ┆           ┆           ┆ wqPBZwsj │\n",
       "│           ┆           ┆           ┆           ┆   ┆ Hemant    ┆           ┆           ┆ \"]       │\n",
       "│           ┆           ┆           ┆           ┆   ┆ Kumar     ┆           ┆           ┆          │\n",
       "└───────────┴───────────┴───────────┴───────────┴───┴───────────┴───────────┴───────────┴──────────┘"
      ]
     },
     "execution_count": 75,
     "metadata": {},
     "output_type": "execute_result"
    }
   ],
   "source": [
    "data = (\n",
    "    df.select(\"added_at\", \"track\")\n",
    "    .unnest(\"track\")\n",
    "    .select(\n",
    "        pl.col(\"id\").alias(\"track_id\"),\n",
    "        pl.col(\"name\").alias(\"track_name\"),\n",
    "        pl.col(\"type\").alias(\"track_type\"),\n",
    "        \"artists\",\n",
    "        \"album\",\n",
    "        \"duration_ms\",\n",
    "        \"popularity\",\n",
    "        \"explicit\",\n",
    "        \"added_at\",\n",
    "        \"preview_url\",\n",
    "    )\n",
    "    .with_columns(\n",
    "        pl.col(\"album\").struct.field(\"id\").alias(\"album_id\"),\n",
    "        pl.col(\"album\").struct.field(\"name\").alias(\"album_name\"),\n",
    "        pl.col(\"album\").struct.field(\"album_type\"),\n",
    "        pl.col(\"artists\")\n",
    "        .map_elements(lambda x: x.struct.field(\"name\"))\n",
    "        .alias(\"artists_name\"),\n",
    "        pl.col(\"artists\")\n",
    "        .map_elements(lambda x: x.struct.field(\"id\"))\n",
    "        .alias(\"artists_id\"),\n",
    "    )\n",
    "    .drop(\"album\", \"artists\")\n",
    ")\n",
    "print(data.shape)\n",
    "data.head()"
   ]
  },
  {
   "cell_type": "markdown",
   "metadata": {},
   "source": [
    "## Analysis Begins"
   ]
  },
  {
   "cell_type": "code",
   "execution_count": 56,
   "metadata": {},
   "outputs": [
    {
     "name": "stdout",
     "output_type": "stream",
     "text": [
      "No. of unique track_id:    290\n",
      "No. of unique album_id:    198\n",
      "No. of unique artists_id:  62\n"
     ]
    }
   ],
   "source": [
    "# No. of Uninque tracks, albums, artists\n",
    "print(\"No. of unique track_id:   \", data[\"track_id\"].n_unique())\n",
    "print(\"No. of unique album_id:   \", data[\"album_id\"].n_unique())\n",
    "print(\"No. of unique artists_id: \", data[\"artists_id\"].explode().n_unique())"
   ]
  },
  {
   "cell_type": "code",
   "execution_count": 76,
   "metadata": {},
   "outputs": [
    {
     "data": {
      "text/html": [
       "<div><style>\n",
       ".dataframe > thead > tr,\n",
       ".dataframe > tbody > tr {\n",
       "  text-align: right;\n",
       "  white-space: pre-wrap;\n",
       "}\n",
       "</style>\n",
       "<small>shape: (3, 16)</small><table border=\"1\" class=\"dataframe\"><thead><tr><th>track_id</th><th>track_name</th><th>track_type</th><th>duration_ms</th><th>popularity</th><th>explicit</th><th>added_at</th><th>track_number</th><th>preview_url</th><th>album_id</th><th>album_name</th><th>album_type</th><th>artists_name</th><th>artists_id</th><th>track_name_extra</th><th>track_name_true</th></tr><tr><td>str</td><td>str</td><td>str</td><td>i64</td><td>i64</td><td>bool</td><td>str</td><td>i64</td><td>str</td><td>str</td><td>str</td><td>str</td><td>list[str]</td><td>list[str]</td><td>str</td><td>str</td></tr></thead><tbody><tr><td>&quot;0ophwoCMQqMF8hOSkklmjL&quot;</td><td>&quot;Kuchh To Log Kahenge&quot;</td><td>&quot;track&quot;</td><td>259932</td><td>56</td><td>false</td><td>&quot;2022-08-27T10:36:49Z&quot;</td><td>3</td><td>&quot;https://p.scdn.co/mp3-preview/b5890cd58…</td><td>&quot;6TEdHpAfx5l2NipTfzRix9&quot;</td><td>&quot;Amar Prem&quot;</td><td>&quot;album&quot;</td><td>[&quot;Kishore Kumar&quot;, &quot;R. D. Burman&quot;]</td><td>[&quot;0GF4shudTAFv8ak9eWdd4Y&quot;, &quot;2JSYASbWU5Y0fVpts3Eq7g&quot;]</td><td>null</td><td>&quot;Kuchh To Log Kahenge&quot;</td></tr><tr><td>&quot;1CD8kjfHhJQQgzNqmIMFmU&quot;</td><td>&quot;Sawan Ka Mahina&quot;</td><td>&quot;track&quot;</td><td>328800</td><td>33</td><td>false</td><td>&quot;2023-09-22T13:41:43Z&quot;</td><td>3</td><td>&quot;https://p.scdn.co/mp3-preview/2304b1e57…</td><td>&quot;1AXStvax5tZhvxpbsYqcsZ&quot;</td><td>&quot;Milan (Original Motion Picture Soundtra…</td><td>&quot;album&quot;</td><td>[&quot;Lata Mangeshkar&quot;, &quot;Mukesh&quot;]</td><td>[&quot;61JrslREXq98hurYL2hYoc&quot;, &quot;4etv0ut4ws0GbXBtolzf5e&quot;]</td><td>null</td><td>&quot;Sawan Ka Mahina&quot;</td></tr><tr><td>&quot;5XDngPrHgHqf7eWBxe2D5L&quot;</td><td>&quot;Phoolon Ke Rang Se&quot;</td><td>&quot;track&quot;</td><td>306666</td><td>55</td><td>false</td><td>&quot;2024-01-06T16:37:50Z&quot;</td><td>1</td><td>&quot;https://p.scdn.co/mp3-preview/0c5b3fd05…</td><td>&quot;2BmgtXGVLaxBuI14LAkh8O&quot;</td><td>&quot;Prem Pujari&quot;</td><td>&quot;album&quot;</td><td>[&quot;Kishore Kumar&quot;]</td><td>[&quot;0GF4shudTAFv8ak9eWdd4Y&quot;]</td><td>null</td><td>&quot;Phoolon Ke Rang Se&quot;</td></tr></tbody></table></div>"
      ],
      "text/plain": [
       "shape: (3, 16)\n",
       "┌───────────┬───────────┬───────────┬───────────┬───┬───────────┬───────────┬───────────┬──────────┐\n",
       "│ track_id  ┆ track_nam ┆ track_typ ┆ duration_ ┆ … ┆ artists_n ┆ artists_i ┆ track_nam ┆ track_na │\n",
       "│ ---       ┆ e         ┆ e         ┆ ms        ┆   ┆ ame       ┆ d         ┆ e_extra   ┆ me_true  │\n",
       "│ str       ┆ ---       ┆ ---       ┆ ---       ┆   ┆ ---       ┆ ---       ┆ ---       ┆ ---      │\n",
       "│           ┆ str       ┆ str       ┆ i64       ┆   ┆ list[str] ┆ list[str] ┆ str       ┆ str      │\n",
       "╞═══════════╪═══════════╪═══════════╪═══════════╪═══╪═══════════╪═══════════╪═══════════╪══════════╡\n",
       "│ 0ophwoCMQ ┆ Kuchh To  ┆ track     ┆ 259932    ┆ … ┆ [\"Kishore ┆ [\"0GF4shu ┆ null      ┆ Kuchh To │\n",
       "│ qMF8hOSkk ┆ Log       ┆           ┆           ┆   ┆ Kumar\",   ┆ dTAFv8ak9 ┆           ┆ Log      │\n",
       "│ lmjL      ┆ Kahenge   ┆           ┆           ┆   ┆ \"R. D.    ┆ eWdd4Y\",  ┆           ┆ Kahenge  │\n",
       "│           ┆           ┆           ┆           ┆   ┆ Burman\"]  ┆ \"2JSYASbW ┆           ┆          │\n",
       "│           ┆           ┆           ┆           ┆   ┆           ┆ U5Y0…     ┆           ┆          │\n",
       "│ 1CD8kjfHh ┆ Sawan Ka  ┆ track     ┆ 328800    ┆ … ┆ [\"Lata    ┆ [\"61JrslR ┆ null      ┆ Sawan Ka │\n",
       "│ JQQgzNqmI ┆ Mahina    ┆           ┆           ┆   ┆ Mangeshka ┆ EXq98hurY ┆           ┆ Mahina   │\n",
       "│ MFmU      ┆           ┆           ┆           ┆   ┆ r\",       ┆ L2hYoc\",  ┆           ┆          │\n",
       "│           ┆           ┆           ┆           ┆   ┆ \"Mukesh\"] ┆ \"4etv0ut4 ┆           ┆          │\n",
       "│           ┆           ┆           ┆           ┆   ┆           ┆ ws0G…     ┆           ┆          │\n",
       "│ 5XDngPrHg ┆ Phoolon   ┆ track     ┆ 306666    ┆ … ┆ [\"Kishore ┆ [\"0GF4shu ┆ null      ┆ Phoolon  │\n",
       "│ Hqf7eWBxe ┆ Ke Rang   ┆           ┆           ┆   ┆ Kumar\"]   ┆ dTAFv8ak9 ┆           ┆ Ke Rang  │\n",
       "│ 2D5L      ┆ Se        ┆           ┆           ┆   ┆           ┆ eWdd4Y\"]  ┆           ┆ Se       │\n",
       "└───────────┴───────────┴───────────┴───────────┴───┴───────────┴───────────┴───────────┴──────────┘"
      ]
     },
     "execution_count": 76,
     "metadata": {},
     "output_type": "execute_result"
    }
   ],
   "source": [
    "# Filter track_name by removing the extra infos\n",
    "data = data.with_columns(\n",
    "    pl.col(\"track_name\").str.extract(r\"([-\\(].+)\").alias(\"track_name_extra\"),\n",
    "    pl.col(\"track_name\")\n",
    "    .str.replace(r\"([-\\(].+)\", \"\")\n",
    "    .str.strip_chars_end()\n",
    "    .alias(\"track_name_true\"),\n",
    ")\n",
    "data.sample(3)"
   ]
  },
  {
   "cell_type": "code",
   "execution_count": 77,
   "metadata": {},
   "outputs": [
    {
     "name": "stdout",
     "output_type": "stream",
     "text": [
      "No. of unique track_name_true 269\n"
     ]
    }
   ],
   "source": [
    "# no. of unique track_name\n",
    "print(\"No. of unique track_name_true\", data[\"track_name_true\"].n_unique())"
   ]
  },
  {
   "cell_type": "code",
   "execution_count": 93,
   "metadata": {},
   "outputs": [
    {
     "data": {
      "text/html": [
       "<div><style>\n",
       ".dataframe > thead > tr,\n",
       ".dataframe > tbody > tr {\n",
       "  text-align: right;\n",
       "  white-space: pre-wrap;\n",
       "}\n",
       "</style>\n",
       "<small>shape: (47, 3)</small><table border=\"1\" class=\"dataframe\"><thead><tr><th>track_name</th><th>album_name</th><th>duration_ms</th></tr><tr><td>str</td><td>str</td><td>i64</td></tr></thead><tbody><tr><td>&quot;Suhana Safar Aur Yeh Mausam&quot;</td><td>&quot;Mukesh Ki Barfi&quot;</td><td>229506</td></tr><tr><td>&quot;Ehsan Tera Hoga Mujh Par&quot;</td><td>&quot;Baarishein, Chai Aur Rafi&quot;</td><td>206893</td></tr><tr><td>&quot;Ek Pyar Ka Naghma Hai&quot;</td><td>&quot;Classic Revival Ek Pyar Ka Naghma Hai&quot;</td><td>287893</td></tr><tr><td>&quot;Ek Pyar Ka Naghma Hai - Shor&quot;</td><td>&quot;Close To My Heart Jagjit Singh&quot;</td><td>291655</td></tr><tr><td>&quot;Chhu Kar Mere Manko - From &quot;Yaarana&quot;&quot;</td><td>&quot;Audiobiography - Kishore Kumar&quot;</td><td>252520</td></tr><tr><td>&quot;Ek Pyar Ka Naghma Hai (Happy)&quot;</td><td>&quot;Remembering Lata Mangeshkar&quot;</td><td>366000</td></tr><tr><td>&quot;Maine Tere Liye&quot;</td><td>&quot;Mukesh Ki Barfi&quot;</td><td>186493</td></tr><tr><td>&quot;Jane Kahan Mera Jigar Gaya Ji&quot;</td><td>&quot;Mr. And Mrs. 55&quot;</td><td>218373</td></tr><tr><td>&quot;Pyar Hua Iqrar Hua&quot;</td><td>&quot;Remembering Lata Mangeshkar&quot;</td><td>260426</td></tr><tr><td>&quot;Tera Mujhse - From &quot;Aa Gale Lag Jaa&quot;&quot;</td><td>&quot;Timeless Kishore&quot;</td><td>339666</td></tr><tr><td>&quot;Ae Mere Zohra Jabeen&quot;</td><td>&quot;Waqt&quot;</td><td>235333</td></tr><tr><td>&quot;Babuji Dheere Chalna&quot;</td><td>&quot;Aar Paar&quot;</td><td>207785</td></tr><tr><td>&hellip;</td><td>&hellip;</td><td>&hellip;</td></tr><tr><td>&quot;Mere Mehboob Qayamat Hogi&quot;</td><td>&quot;Mr. X In Bombay&quot;</td><td>228693</td></tr><tr><td>&quot;Mana Janab Ne Pukara Nahin&quot;</td><td>&quot;Paying Guest (Original Motion Picture S…</td><td>249093</td></tr><tr><td>&quot;Zindagi Ka Safar - From &quot;Safar&quot;&quot;</td><td>&quot;Best of Kishore Kumar&quot;</td><td>256946</td></tr><tr><td>&quot;Jahan Chaar Yaar Mil Jayen - From &quot;Shar…</td><td>&quot;Ek Cup Dosti&quot;</td><td>396693</td></tr><tr><td>&quot;Yeh Vaada Raha - From &quot;Yeh Vaada Raha&quot;&quot;</td><td>&quot;Master Blaster - Asha Bhosle&quot;</td><td>408306</td></tr><tr><td>&quot;Jane Kahan Mera Jigar Gaya Ji&quot;</td><td>&quot;Vintage Melody Geeta Dutt&quot;</td><td>218373</td></tr><tr><td>&quot;Babuji Dheere Chalna&quot;</td><td>&quot;Vintage Melody Geeta Dutt&quot;</td><td>207785</td></tr><tr><td>&quot;Mana Janab Ne Pukara Nahin&quot;</td><td>&quot;Kishore Kumar Masti Ki Chakri&quot;</td><td>247193</td></tr><tr><td>&quot;Chanda Ko Dhundne&quot;</td><td>&quot;Jeene Ki Raah&quot;</td><td>279040</td></tr><tr><td>&quot;Pyar Hua Iqrar Hua&quot;</td><td>&quot;Shree 420&quot;</td><td>260426</td></tr><tr><td>&quot;Chanda Ko Dhundne - Pt. 1&quot;</td><td>&quot;Jeene Ki Raah&quot;</td><td>348775</td></tr><tr><td>&quot;Maine Tere Liye&quot;</td><td>&quot;Anand&quot;</td><td>186493</td></tr></tbody></table></div>"
      ],
      "text/plain": [
       "shape: (47, 3)\n",
       "┌──────────────────────────────────────┬───────────────────────────────────────┬─────────────┐\n",
       "│ track_name                           ┆ album_name                            ┆ duration_ms │\n",
       "│ ---                                  ┆ ---                                   ┆ ---         │\n",
       "│ str                                  ┆ str                                   ┆ i64         │\n",
       "╞══════════════════════════════════════╪═══════════════════════════════════════╪═════════════╡\n",
       "│ Suhana Safar Aur Yeh Mausam          ┆ Mukesh Ki Barfi                       ┆ 229506      │\n",
       "│ Ehsan Tera Hoga Mujh Par             ┆ Baarishein, Chai Aur Rafi             ┆ 206893      │\n",
       "│ Ek Pyar Ka Naghma Hai                ┆ Classic Revival Ek Pyar Ka Naghma Hai ┆ 287893      │\n",
       "│ Ek Pyar Ka Naghma Hai - Shor         ┆ Close To My Heart Jagjit Singh        ┆ 291655      │\n",
       "│ Chhu Kar Mere Manko - From \"Yaarana\" ┆ Audiobiography - Kishore Kumar        ┆ 252520      │\n",
       "│ …                                    ┆ …                                     ┆ …           │\n",
       "│ Mana Janab Ne Pukara Nahin           ┆ Kishore Kumar Masti Ki Chakri         ┆ 247193      │\n",
       "│ Chanda Ko Dhundne                    ┆ Jeene Ki Raah                         ┆ 279040      │\n",
       "│ Pyar Hua Iqrar Hua                   ┆ Shree 420                             ┆ 260426      │\n",
       "│ Chanda Ko Dhundne - Pt. 1            ┆ Jeene Ki Raah                         ┆ 348775      │\n",
       "│ Maine Tere Liye                      ┆ Anand                                 ┆ 186493      │\n",
       "└──────────────────────────────────────┴───────────────────────────────────────┴─────────────┘"
      ]
     },
     "execution_count": 93,
     "metadata": {},
     "output_type": "execute_result"
    }
   ],
   "source": [
    "# Duplicate songs whoes names are different\n",
    "data.filter(pl.col(\"track_name_true\").is_duplicated()).select(\n",
    "    \"track_name\",\n",
    "    \"album_name\",\n",
    "    \"duration_ms\",\n",
    ")"
   ]
  },
  {
   "cell_type": "code",
   "execution_count": 98,
   "metadata": {},
   "outputs": [
    {
     "data": {
      "text/html": [
       "<div><style>\n",
       ".dataframe > thead > tr,\n",
       ".dataframe > tbody > tr {\n",
       "  text-align: right;\n",
       "  white-space: pre-wrap;\n",
       "}\n",
       "</style>\n",
       "<small>shape: (7, 2)</small><table border=\"1\" class=\"dataframe\"><thead><tr><th>artists_name</th><th>count</th></tr><tr><td>str</td><td>u32</td></tr></thead><tbody><tr><td>&quot;Kishore Kumar&quot;</td><td>97</td></tr><tr><td>&quot;Lata Mangeshkar&quot;</td><td>76</td></tr><tr><td>&quot;Mohammed Rafi&quot;</td><td>56</td></tr><tr><td>&quot;R. D. Burman&quot;</td><td>49</td></tr><tr><td>&quot;Mukesh&quot;</td><td>37</td></tr><tr><td>&quot;Laxmikant–Pyarelal&quot;</td><td>31</td></tr><tr><td>&quot;Asha Bhosle&quot;</td><td>29</td></tr></tbody></table></div>"
      ],
      "text/plain": [
       "shape: (7, 2)\n",
       "┌────────────────────┬───────┐\n",
       "│ artists_name       ┆ count │\n",
       "│ ---                ┆ ---   │\n",
       "│ str                ┆ u32   │\n",
       "╞════════════════════╪═══════╡\n",
       "│ Kishore Kumar      ┆ 97    │\n",
       "│ Lata Mangeshkar    ┆ 76    │\n",
       "│ Mohammed Rafi      ┆ 56    │\n",
       "│ R. D. Burman       ┆ 49    │\n",
       "│ Mukesh             ┆ 37    │\n",
       "│ Laxmikant–Pyarelal ┆ 31    │\n",
       "│ Asha Bhosle        ┆ 29    │\n",
       "└────────────────────┴───────┘"
      ]
     },
     "execution_count": 98,
     "metadata": {},
     "output_type": "execute_result"
    }
   ],
   "source": [
    "# No. of tracks present in playlist of artists\n",
    "(\n",
    "    data[\"artists_name\"]\n",
    "    .explode()\n",
    "    .value_counts()\n",
    "    .filter(\n",
    "        pl.col(\"count\").ge(20),\n",
    "    )\n",
    "    .sort(\"count\", descending=True)\n",
    ")"
   ]
  },
  {
   "cell_type": "code",
   "execution_count": 102,
   "metadata": {},
   "outputs": [
    {
     "data": {
      "text/html": [
       "<div><style>\n",
       ".dataframe > thead > tr,\n",
       ".dataframe > tbody > tr {\n",
       "  text-align: right;\n",
       "  white-space: pre-wrap;\n",
       "}\n",
       "</style>\n",
       "<small>shape: (15, 2)</small><table border=\"1\" class=\"dataframe\"><thead><tr><th>track_name</th><th>duration_ms</th></tr><tr><td>str</td><td>i64</td></tr></thead><tbody><tr><td>&quot;Pag Ghunghroo Baandh&quot;</td><td>697616</td></tr><tr><td>&quot;Koi Fariyaad&quot;</td><td>541346</td></tr><tr><td>&quot;Intaha Ho Gai Intezar Ki&quot;</td><td>529635</td></tr><tr><td>&quot;Piya Tose Naina Laage Re&quot;</td><td>509466</td></tr><tr><td>&quot;Ek Hasina Thi Ek Diwana Tha&quot;</td><td>472946</td></tr><tr><td>&quot;Chupke Chupke Raat Din&quot;</td><td>468826</td></tr><tr><td>&quot;Yunhi Kat Jaayega&quot;</td><td>463933</td></tr><tr><td>&quot;Zeehale Muskin - From &quot;Ghulami&quot;&quot;</td><td>446440</td></tr><tr><td>&quot;Ankhiyon Ke Jharokhon Se - Part 1&quot;</td><td>445707</td></tr><tr><td>&quot;Tauba Yeh Matwali Chaal&quot;</td><td>442160</td></tr><tr><td>&quot;Zindagi Ki Na Toote Ladi&quot;</td><td>422066</td></tr><tr><td>&quot;Aadmi Musafir Hai - Happy&quot;</td><td>421600</td></tr><tr><td>&quot;Chandi Jaisa Rang Hai&quot;</td><td>418000</td></tr><tr><td>&quot;O Haseena Zulfonwale Jane Jahan&quot;</td><td>415236</td></tr><tr><td>&quot;Kaun Disha Mein Leke Chala&quot;</td><td>412080</td></tr></tbody></table></div>"
      ],
      "text/plain": [
       "shape: (15, 2)\n",
       "┌─────────────────────────────────┬─────────────┐\n",
       "│ track_name                      ┆ duration_ms │\n",
       "│ ---                             ┆ ---         │\n",
       "│ str                             ┆ i64         │\n",
       "╞═════════════════════════════════╪═════════════╡\n",
       "│ Pag Ghunghroo Baandh            ┆ 697616      │\n",
       "│ Koi Fariyaad                    ┆ 541346      │\n",
       "│ Intaha Ho Gai Intezar Ki        ┆ 529635      │\n",
       "│ Piya Tose Naina Laage Re        ┆ 509466      │\n",
       "│ Ek Hasina Thi Ek Diwana Tha     ┆ 472946      │\n",
       "│ …                               ┆ …           │\n",
       "│ Zindagi Ki Na Toote Ladi        ┆ 422066      │\n",
       "│ Aadmi Musafir Hai - Happy       ┆ 421600      │\n",
       "│ Chandi Jaisa Rang Hai           ┆ 418000      │\n",
       "│ O Haseena Zulfonwale Jane Jahan ┆ 415236      │\n",
       "│ Kaun Disha Mein Leke Chala      ┆ 412080      │\n",
       "└─────────────────────────────────┴─────────────┘"
      ]
     },
     "execution_count": 102,
     "metadata": {},
     "output_type": "execute_result"
    }
   ],
   "source": [
    "# Top tracks a/c duration\n",
    "data.select(\"track_name\", \"duration_ms\").top_k(15, by=\"duration_ms\")"
   ]
  },
  {
   "cell_type": "code",
   "execution_count": 104,
   "metadata": {},
   "outputs": [
    {
     "data": {
      "text/html": [
       "<div><style>\n",
       ".dataframe > thead > tr,\n",
       ".dataframe > tbody > tr {\n",
       "  text-align: right;\n",
       "  white-space: pre-wrap;\n",
       "}\n",
       "</style>\n",
       "<small>shape: (10, 2)</small><table border=\"1\" class=\"dataframe\"><thead><tr><th>added_at</th><th>track_name</th></tr><tr><td>datetime[μs, UTC]</td><td>str</td></tr></thead><tbody><tr><td>2022-08-02 15:54:14 UTC</td><td>&quot;Tera Mujhse - From &quot;Aa Gale Lag Jaa&quot;&quot;</td></tr><tr><td>2022-08-02 15:54:47 UTC</td><td>&quot;Zindagi Ki Yahi Reet Hai&quot;</td></tr><tr><td>2022-08-02 15:55:03 UTC</td><td>&quot;O Saathi Re - Kishore Kumar&quot;</td></tr><tr><td>2022-08-02 15:55:16 UTC</td><td>&quot;Ek Ajnabee Haseena Se&quot;</td></tr><tr><td>2022-08-02 15:55:54 UTC</td><td>&quot;Dekha Ek Khwab - II&quot;</td></tr><tr><td>2022-08-02 15:56:35 UTC</td><td>&quot;Yunhi Kat Jaayega&quot;</td></tr><tr><td>2022-08-02 16:01:22 UTC</td><td>&quot;Main Pal Do Pal Ka Shair Hoon&quot;</td></tr><tr><td>2022-08-02 16:01:29 UTC</td><td>&quot;Samne Ye Kaun Aya - From &quot;Jawani Diwani…</td></tr><tr><td>2022-08-02 16:01:35 UTC</td><td>&quot;Maine Poochha Chand Se - From &quot;Abdullah…</td></tr><tr><td>2022-08-02 16:01:37 UTC</td><td>&quot;Ek Din Bik Jayega Mati Ke Mol (Happy)&quot;</td></tr></tbody></table></div>"
      ],
      "text/plain": [
       "shape: (10, 2)\n",
       "┌─────────────────────────┬──────────────────────────────────────────┐\n",
       "│ added_at                ┆ track_name                               │\n",
       "│ ---                     ┆ ---                                      │\n",
       "│ datetime[μs, UTC]       ┆ str                                      │\n",
       "╞═════════════════════════╪══════════════════════════════════════════╡\n",
       "│ 2022-08-02 15:54:14 UTC ┆ Tera Mujhse - From \"Aa Gale Lag Jaa\"     │\n",
       "│ 2022-08-02 15:54:47 UTC ┆ Zindagi Ki Yahi Reet Hai                 │\n",
       "│ 2022-08-02 15:55:03 UTC ┆ O Saathi Re - Kishore Kumar              │\n",
       "│ 2022-08-02 15:55:16 UTC ┆ Ek Ajnabee Haseena Se                    │\n",
       "│ 2022-08-02 15:55:54 UTC ┆ Dekha Ek Khwab - II                      │\n",
       "│ 2022-08-02 15:56:35 UTC ┆ Yunhi Kat Jaayega                        │\n",
       "│ 2022-08-02 16:01:22 UTC ┆ Main Pal Do Pal Ka Shair Hoon            │\n",
       "│ 2022-08-02 16:01:29 UTC ┆ Samne Ye Kaun Aya - From \"Jawani Diwani\" │\n",
       "│ 2022-08-02 16:01:35 UTC ┆ Maine Poochha Chand Se - From \"Abdullah\" │\n",
       "│ 2022-08-02 16:01:37 UTC ┆ Ek Din Bik Jayega Mati Ke Mol (Happy)    │\n",
       "└─────────────────────────┴──────────────────────────────────────────┘"
      ]
     },
     "execution_count": 104,
     "metadata": {},
     "output_type": "execute_result"
    }
   ],
   "source": [
    "# First n tracks added in playlist\n",
    "(\n",
    "    data.select(\"added_at\", \"track_name\")\n",
    "    .with_columns(\n",
    "        pl.col(\"added_at\").str.to_datetime(),\n",
    "    )\n",
    "    .bottom_k(10, by=\"added_at\")\n",
    ")"
   ]
  },
  {
   "cell_type": "code",
   "execution_count": 103,
   "metadata": {},
   "outputs": [
    {
     "data": {
      "text/html": [
       "<div><style>\n",
       ".dataframe > thead > tr,\n",
       ".dataframe > tbody > tr {\n",
       "  text-align: right;\n",
       "  white-space: pre-wrap;\n",
       "}\n",
       "</style>\n",
       "<small>shape: (10, 2)</small><table border=\"1\" class=\"dataframe\"><thead><tr><th>added_at</th><th>track_name</th></tr><tr><td>datetime[μs, UTC]</td><td>str</td></tr></thead><tbody><tr><td>2024-03-17 08:10:33 UTC</td><td>&quot;Tere Naam Ka Diwana - From &quot;Suraj Aur C…</td></tr><tr><td>2024-03-15 09:09:42 UTC</td><td>&quot;Saathiya Nahin Jana Revival Film - Aya …</td></tr><tr><td>2024-03-13 08:04:12 UTC</td><td>&quot;Solah Baras Ki Bali Umar&quot;</td></tr><tr><td>2024-03-13 06:34:48 UTC</td><td>&quot;Yaara O Yaara - Narendra Chanchal&quot;</td></tr><tr><td>2024-03-11 14:42:04 UTC</td><td>&quot;Mere Dil Mein Aaj Kya Hai&quot;</td></tr><tr><td>2024-03-11 14:40:31 UTC</td><td>&quot;Maine Tere Liye&quot;</td></tr><tr><td>2024-03-09 10:54:21 UTC</td><td>&quot;Tumhin Mere Mandir&quot;</td></tr><tr><td>2024-03-05 05:13:15 UTC</td><td>&quot;Mujhe Tum Yaad Karna&quot;</td></tr><tr><td>2024-03-03 15:35:23 UTC</td><td>&quot;Yeh Reshmi Zulfen&quot;</td></tr><tr><td>2024-03-01 18:27:46 UTC</td><td>&quot;Pukarta Chala Hoon Main - Mere Sanam&quot;</td></tr></tbody></table></div>"
      ],
      "text/plain": [
       "shape: (10, 2)\n",
       "┌─────────────────────────┬───────────────────────────────────────────┐\n",
       "│ added_at                ┆ track_name                                │\n",
       "│ ---                     ┆ ---                                       │\n",
       "│ datetime[μs, UTC]       ┆ str                                       │\n",
       "╞═════════════════════════╪═══════════════════════════════════════════╡\n",
       "│ 2024-03-17 08:10:33 UTC ┆ Tere Naam Ka Diwana - From \"Suraj Aur Ch… │\n",
       "│ 2024-03-15 09:09:42 UTC ┆ Saathiya Nahin Jana Revival Film - Aya S… │\n",
       "│ 2024-03-13 08:04:12 UTC ┆ Solah Baras Ki Bali Umar                  │\n",
       "│ 2024-03-13 06:34:48 UTC ┆ Yaara O Yaara - Narendra Chanchal         │\n",
       "│ 2024-03-11 14:42:04 UTC ┆ Mere Dil Mein Aaj Kya Hai                 │\n",
       "│ 2024-03-11 14:40:31 UTC ┆ Maine Tere Liye                           │\n",
       "│ 2024-03-09 10:54:21 UTC ┆ Tumhin Mere Mandir                        │\n",
       "│ 2024-03-05 05:13:15 UTC ┆ Mujhe Tum Yaad Karna                      │\n",
       "│ 2024-03-03 15:35:23 UTC ┆ Yeh Reshmi Zulfen                         │\n",
       "│ 2024-03-01 18:27:46 UTC ┆ Pukarta Chala Hoon Main - Mere Sanam      │\n",
       "└─────────────────────────┴───────────────────────────────────────────┘"
      ]
     },
     "execution_count": 103,
     "metadata": {},
     "output_type": "execute_result"
    }
   ],
   "source": [
    "# Last n tracks added in playlist\n",
    "(\n",
    "    data.select(\"added_at\", \"track_name\")\n",
    "    .with_columns(\n",
    "        pl.col(\"added_at\").str.to_datetime(),\n",
    "    )\n",
    "    .top_k(10, by=\"added_at\")\n",
    ")"
   ]
  },
  {
   "cell_type": "code",
   "execution_count": 107,
   "metadata": {},
   "outputs": [
    {
     "data": {
      "text/html": [
       "<div><style>\n",
       ".dataframe > thead > tr,\n",
       ".dataframe > tbody > tr {\n",
       "  text-align: right;\n",
       "  white-space: pre-wrap;\n",
       "}\n",
       "</style>\n",
       "<small>shape: (0, 2)</small><table border=\"1\" class=\"dataframe\"><thead><tr><th>track_name</th><th>album_name</th></tr><tr><td>str</td><td>str</td></tr></thead><tbody></tbody></table></div>"
      ],
      "text/plain": [
       "shape: (0, 2)\n",
       "┌────────────┬────────────┐\n",
       "│ track_name ┆ album_name │\n",
       "│ ---        ┆ ---        │\n",
       "│ str        ┆ str        │\n",
       "╞════════════╪════════════╡\n",
       "└────────────┴────────────┘"
      ]
     },
     "execution_count": 107,
     "metadata": {},
     "output_type": "execute_result"
    }
   ],
   "source": [
    "# Explicit tracks in playlist\n",
    "data.filter(pl.col(\"explicit\").eq(True)).select(\"track_name\", \"album_name\")"
   ]
  },
  {
   "cell_type": "code",
   "execution_count": 108,
   "metadata": {},
   "outputs": [
    {
     "data": {
      "text/html": [
       "<div><style>\n",
       ".dataframe > thead > tr,\n",
       ".dataframe > tbody > tr {\n",
       "  text-align: right;\n",
       "  white-space: pre-wrap;\n",
       "}\n",
       "</style>\n",
       "<small>shape: (10, 2)</small><table border=\"1\" class=\"dataframe\"><thead><tr><th>popularity</th><th>track_name</th></tr><tr><td>i64</td><td>str</td></tr></thead><tbody><tr><td>66</td><td>&quot;Hoshwalon Ko Khabar Kya&quot;</td></tr><tr><td>64</td><td>&quot;Kya Hua Tera Vada&quot;</td></tr><tr><td>63</td><td>&quot;Ek Ajnabee Haseena Se&quot;</td></tr><tr><td>63</td><td>&quot;Mere Mehboob Qayamat Hogi&quot;</td></tr><tr><td>63</td><td>&quot;Main Pal Do Pal Ka Shair Hoon&quot;</td></tr><tr><td>62</td><td>&quot;Pal Pal Dil Ke Paas - From &quot;Blackmail&quot;&quot;</td></tr><tr><td>61</td><td>&quot;Gulabi Ankhen - From &quot;The Train&quot;&quot;</td></tr><tr><td>61</td><td>&quot;Bade Achhe Lagte Hain&quot;</td></tr><tr><td>60</td><td>&quot;Likhe Jo Khat Tujhe&quot;</td></tr><tr><td>60</td><td>&quot;Kahin Door Jab Din Dhal Jaye&quot;</td></tr></tbody></table></div>"
      ],
      "text/plain": [
       "shape: (10, 2)\n",
       "┌────────────┬────────────────────────────────────────┐\n",
       "│ popularity ┆ track_name                             │\n",
       "│ ---        ┆ ---                                    │\n",
       "│ i64        ┆ str                                    │\n",
       "╞════════════╪════════════════════════════════════════╡\n",
       "│ 66         ┆ Hoshwalon Ko Khabar Kya                │\n",
       "│ 64         ┆ Kya Hua Tera Vada                      │\n",
       "│ 63         ┆ Ek Ajnabee Haseena Se                  │\n",
       "│ 63         ┆ Mere Mehboob Qayamat Hogi              │\n",
       "│ 63         ┆ Main Pal Do Pal Ka Shair Hoon          │\n",
       "│ 62         ┆ Pal Pal Dil Ke Paas - From \"Blackmail\" │\n",
       "│ 61         ┆ Gulabi Ankhen - From \"The Train\"       │\n",
       "│ 61         ┆ Bade Achhe Lagte Hain                  │\n",
       "│ 60         ┆ Likhe Jo Khat Tujhe                    │\n",
       "│ 60         ┆ Kahin Door Jab Din Dhal Jaye           │\n",
       "└────────────┴────────────────────────────────────────┘"
      ]
     },
     "execution_count": 108,
     "metadata": {},
     "output_type": "execute_result"
    }
   ],
   "source": [
    "data.select(\"popularity\", \"track_name\").top_k(10, by=\"popularity\")"
   ]
  },
  {
   "cell_type": "code",
   "execution_count": 110,
   "metadata": {},
   "outputs": [
    {
     "data": {
      "text/html": [
       "<div><style>\n",
       ".dataframe > thead > tr,\n",
       ".dataframe > tbody > tr {\n",
       "  text-align: right;\n",
       "  white-space: pre-wrap;\n",
       "}\n",
       "</style>\n",
       "<small>shape: (10, 2)</small><table border=\"1\" class=\"dataframe\"><thead><tr><th>popularity</th><th>track_name</th></tr><tr><td>i64</td><td>str</td></tr></thead><tbody><tr><td>11</td><td>&quot;Saathiya Nahin Jana Revival Film - Aya …</td></tr><tr><td>12</td><td>&quot;Chanda Ko Dhundne - Pt. 1&quot;</td></tr><tr><td>12</td><td>&quot;Pardesiyon Se Na Ankhiyan Milana - Male…</td></tr><tr><td>13</td><td>&quot;Jo Hamne Daastaan Apnee&quot;</td></tr><tr><td>13</td><td>&quot;Pukarta Chala Hoon Main - Mere Sanam&quot;</td></tr><tr><td>13</td><td>&quot;Palkon Ke Peechhe Se&quot;</td></tr><tr><td>13</td><td>&quot;Teri Aankhon Ke Siva - Female Vocals&quot;</td></tr><tr><td>14</td><td>&quot;Mera Saaya Saath Hoga&quot;</td></tr><tr><td>14</td><td>&quot;Haule Haule Chalo Mere Sajna&quot;</td></tr><tr><td>15</td><td>&quot;Kiss Kiss Se Pyar Karoon&quot;</td></tr></tbody></table></div>"
      ],
      "text/plain": [
       "shape: (10, 2)\n",
       "┌────────────┬───────────────────────────────────────────┐\n",
       "│ popularity ┆ track_name                                │\n",
       "│ ---        ┆ ---                                       │\n",
       "│ i64        ┆ str                                       │\n",
       "╞════════════╪═══════════════════════════════════════════╡\n",
       "│ 11         ┆ Saathiya Nahin Jana Revival Film - Aya S… │\n",
       "│ 12         ┆ Chanda Ko Dhundne - Pt. 1                 │\n",
       "│ 12         ┆ Pardesiyon Se Na Ankhiyan Milana - Male … │\n",
       "│ 13         ┆ Jo Hamne Daastaan Apnee                   │\n",
       "│ 13         ┆ Pukarta Chala Hoon Main - Mere Sanam      │\n",
       "│ 13         ┆ Palkon Ke Peechhe Se                      │\n",
       "│ 13         ┆ Teri Aankhon Ke Siva - Female Vocals      │\n",
       "│ 14         ┆ Mera Saaya Saath Hoga                     │\n",
       "│ 14         ┆ Haule Haule Chalo Mere Sajna              │\n",
       "│ 15         ┆ Kiss Kiss Se Pyar Karoon                  │\n",
       "└────────────┴───────────────────────────────────────────┘"
      ]
     },
     "execution_count": 110,
     "metadata": {},
     "output_type": "execute_result"
    }
   ],
   "source": [
    "data.select(\"popularity\", \"track_name\").filter(pl.col(\"popularity\").gt(0)).bottom_k(\n",
    "    10, by=\"popularity\"\n",
    ")"
   ]
  },
  {
   "cell_type": "code",
   "execution_count": 111,
   "metadata": {},
   "outputs": [
    {
     "data": {
      "text/html": [
       "<div><style>\n",
       ".dataframe > thead > tr,\n",
       ".dataframe > tbody > tr {\n",
       "  text-align: right;\n",
       "  white-space: pre-wrap;\n",
       "}\n",
       "</style>\n",
       "<small>shape: (19, 2)</small><table border=\"1\" class=\"dataframe\"><thead><tr><th>popularity</th><th>track_name</th></tr><tr><td>i64</td><td>str</td></tr></thead><tbody><tr><td>0</td><td>&quot;Chala Jata Hoon&quot;</td></tr><tr><td>0</td><td>&quot;Hai apna dil to aawara&quot;</td></tr><tr><td>0</td><td>&quot;Kora Kagaz Tha Yeh Man Mera&quot;</td></tr><tr><td>0</td><td>&quot;Bachna Ae Hasinon Lo Main Aa Gaya - Fro…</td></tr><tr><td>0</td><td>&quot;Is Mod Se Jate Hain&quot;</td></tr><tr><td>0</td><td>&quot;Zindagi Ka Safar - From &quot;Safar&quot;&quot;</td></tr><tr><td>0</td><td>&quot;Ek Chatur Naar Karke Sringar - From &quot;Pa…</td></tr><tr><td>0</td><td>&quot;Lekar Hum Diwana Dil - Duet Version&quot;</td></tr><tr><td>0</td><td>&quot;Kanchi Re Kanchi Re - From &quot;Hare Rama H…</td></tr><tr><td>0</td><td>&quot;Ek Hasina Thi Ek Diwana Tha&quot;</td></tr><tr><td>0</td><td>&quot;Phir Wohi Raat Hai Khwab Ki - From &quot;Gha…</td></tr><tr><td>0</td><td>&quot;Dil Aesa Kisine Mera Toda - From &quot;Amanu…</td></tr><tr><td>0</td><td>&quot;Diwana Leke Aaya Hai - From &quot;Mere Jeeva…</td></tr><tr><td>0</td><td>&quot;Meet Na Mila Re Man Ka&quot;</td></tr><tr><td>0</td><td>&quot;Jahan Chaar Yaar Mil Jayen - From &quot;Shar…</td></tr><tr><td>0</td><td>&quot;Tujh Sang Preet - From &quot;Kaamchor&quot;&quot;</td></tr><tr><td>0</td><td>&quot;Main Shair Badnaam - From &quot;Namak Haraam…</td></tr><tr><td>0</td><td>&quot;Aa Chal Ke Tujhe&quot;</td></tr><tr><td>0</td><td>&quot;Aaye Tum Yaad Mujhe - From &quot;Mili&quot;&quot;</td></tr></tbody></table></div>"
      ],
      "text/plain": [
       "shape: (19, 2)\n",
       "┌────────────┬───────────────────────────────────────────┐\n",
       "│ popularity ┆ track_name                                │\n",
       "│ ---        ┆ ---                                       │\n",
       "│ i64        ┆ str                                       │\n",
       "╞════════════╪═══════════════════════════════════════════╡\n",
       "│ 0          ┆ Chala Jata Hoon                           │\n",
       "│ 0          ┆ Hai apna dil to aawara                    │\n",
       "│ 0          ┆ Kora Kagaz Tha Yeh Man Mera               │\n",
       "│ 0          ┆ Bachna Ae Hasinon Lo Main Aa Gaya - From… │\n",
       "│ 0          ┆ Is Mod Se Jate Hain                       │\n",
       "│ …          ┆ …                                         │\n",
       "│ 0          ┆ Jahan Chaar Yaar Mil Jayen - From \"Shara… │\n",
       "│ 0          ┆ Tujh Sang Preet - From \"Kaamchor\"         │\n",
       "│ 0          ┆ Main Shair Badnaam - From \"Namak Haraam\"  │\n",
       "│ 0          ┆ Aa Chal Ke Tujhe                          │\n",
       "│ 0          ┆ Aaye Tum Yaad Mujhe - From \"Mili\"         │\n",
       "└────────────┴───────────────────────────────────────────┘"
      ]
     },
     "execution_count": 111,
     "metadata": {},
     "output_type": "execute_result"
    }
   ],
   "source": [
    "data.select(\"popularity\", \"track_name\").filter(pl.col(\"popularity\").eq(0))"
   ]
  },
  {
   "cell_type": "code",
   "execution_count": 112,
   "metadata": {},
   "outputs": [
    {
     "data": {
      "text/html": [
       "<div><style>\n",
       ".dataframe > thead > tr,\n",
       ".dataframe > tbody > tr {\n",
       "  text-align: right;\n",
       "  white-space: pre-wrap;\n",
       "}\n",
       "</style>\n",
       "<small>shape: (3, 2)</small><table border=\"1\" class=\"dataframe\"><thead><tr><th>album_type</th><th>count</th></tr><tr><td>str</td><td>u32</td></tr></thead><tbody><tr><td>&quot;album&quot;</td><td>226</td></tr><tr><td>&quot;compilation&quot;</td><td>25</td></tr><tr><td>&quot;single&quot;</td><td>42</td></tr></tbody></table></div>"
      ],
      "text/plain": [
       "shape: (3, 2)\n",
       "┌─────────────┬───────┐\n",
       "│ album_type  ┆ count │\n",
       "│ ---         ┆ ---   │\n",
       "│ str         ┆ u32   │\n",
       "╞═════════════╪═══════╡\n",
       "│ album       ┆ 226   │\n",
       "│ compilation ┆ 25    │\n",
       "│ single      ┆ 42    │\n",
       "└─────────────┴───────┘"
      ]
     },
     "execution_count": 112,
     "metadata": {},
     "output_type": "execute_result"
    }
   ],
   "source": [
    "data[\"album_type\"].value_counts()"
   ]
  }
 ],
 "metadata": {
  "kernelspec": {
   "display_name": ".venv",
   "language": "python",
   "name": "python3"
  },
  "language_info": {
   "codemirror_mode": {
    "name": "ipython",
    "version": 3
   },
   "file_extension": ".py",
   "mimetype": "text/x-python",
   "name": "python",
   "nbconvert_exporter": "python",
   "pygments_lexer": "ipython3",
   "version": "3.11.8"
  }
 },
 "nbformat": 4,
 "nbformat_minor": 2
}
