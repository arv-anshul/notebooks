{
 "cells": [
  {
   "cell_type": "markdown",
   "metadata": {},
   "source": [
    "I am analysing a playlist which contains almost 300 tracks but I want to reduce the size of it.\n",
    "\n",
    "1. So, I am using Spotify api to fetch data and do the analysis on it.\n",
    "2. So, I have copied the HTML of that playlist and now using it I am performaing that analysis to reduce the tracks count of the playlist."
   ]
  },
  {
   "cell_type": "code",
   "execution_count": 19,
   "metadata": {},
   "outputs": [],
   "source": [
    "import json\n",
    "from pathlib import Path\n",
    "\n",
    "import spotipy as sp\n",
    "from dotenv import load_dotenv\n",
    "from spotipy.oauth2 import SpotifyClientCredentials"
   ]
  },
  {
   "cell_type": "markdown",
   "metadata": {},
   "source": [
    "# Fetch Playlist Tracks"
   ]
  },
  {
   "cell_type": "markdown",
   "metadata": {},
   "source": [
    "## Connect with Spotify API"
   ]
  },
  {
   "cell_type": "code",
   "execution_count": 2,
   "metadata": {},
   "outputs": [
    {
     "data": {
      "text/plain": [
       "<spotipy.client.Spotify at 0x10c076d10>"
      ]
     },
     "execution_count": 2,
     "metadata": {},
     "output_type": "execute_result"
    }
   ],
   "source": [
    "load_dotenv()\n",
    "app = sp.Spotify(auth_manager=SpotifyClientCredentials())\n",
    "app"
   ]
  },
  {
   "cell_type": "code",
   "execution_count": 21,
   "metadata": {},
   "outputs": [],
   "source": [
    "def get_all_tracks_from_playlist(app: sp.Spotify, playlist_id: str) -> list[dict]:\n",
    "    \"\"\" Fetch all tracks present in a Spotify playlist. \"\"\"\n",
    "    # Fetch the first batch of tracks\n",
    "    response: dict | None = app.playlist_items(playlist_id)\n",
    "    if response is None:\n",
    "        raise ValueError(\"Playlist response is None.\")\n",
    "    all_tracks: list = response[\"items\"]\n",
    "\n",
    "    # Iterate through the remaining pages\n",
    "    while response.get(\"next\"):\n",
    "        response = app.next(response)\n",
    "        all_tracks.extend(response[\"items\"])\n",
    "\n",
    "    return all_tracks"
   ]
  },
  {
   "cell_type": "markdown",
   "metadata": {},
   "source": [
    "## Get playlist data using `playlist_id`"
   ]
  },
  {
   "cell_type": "code",
   "execution_count": 22,
   "metadata": {},
   "outputs": [],
   "source": [
    "golden_era = get_all_tracks_from_playlist(app, \"6W4xIGHYuLXTbWXEGfmwxw\")\n",
    "\n",
    "playlist_path = Path(\"data/playlist-items.json\")\n",
    "with playlist_path.open(\"w\") as f:\n",
    "    json.dump(golden_era, f)"
   ]
  },
  {
   "cell_type": "markdown",
   "metadata": {},
   "source": [
    "# Data Analysis on Playlist"
   ]
  },
  {
   "cell_type": "markdown",
   "metadata": {},
   "source": [
    "## Import playlist as `pl.DataFrame`"
   ]
  },
  {
   "cell_type": "code",
   "execution_count": 5,
   "metadata": {},
   "outputs": [],
   "source": [
    "import polars as pl"
   ]
  },
  {
   "cell_type": "code",
   "execution_count": 6,
   "metadata": {},
   "outputs": [
    {
     "data": {
      "text/plain": [
       "polars.config.Config"
      ]
     },
     "execution_count": 6,
     "metadata": {},
     "output_type": "execute_result"
    }
   ],
   "source": [
    "pl.Config.set_fmt_str_lengths(40)"
   ]
  },
  {
   "cell_type": "code",
   "execution_count": 7,
   "metadata": {},
   "outputs": [
    {
     "name": "stdout",
     "output_type": "stream",
     "text": [
      "(293, 6)\n"
     ]
    },
    {
     "data": {
      "text/html": [
       "<div><style>\n",
       ".dataframe > thead > tr,\n",
       ".dataframe > tbody > tr {\n",
       "  text-align: right;\n",
       "  white-space: pre-wrap;\n",
       "}\n",
       "</style>\n",
       "<small>shape: (2, 6)</small><table border=\"1\" class=\"dataframe\"><thead><tr><th>added_at</th><th>added_by</th><th>is_local</th><th>primary_color</th><th>track</th><th>video_thumbnail</th></tr><tr><td>str</td><td>struct[5]</td><td>bool</td><td>null</td><td>struct[19]</td><td>struct[1]</td></tr></thead><tbody><tr><td>&quot;2022-10-16T06:34:28Z&quot;</td><td>{{&quot;https://open.spotify.com/user/31ps2negrszyvigiiyrdqjbqf5gi&quot;},&quot;https://api.spotify.com/v1/users/31ps2negrszyvigiiyrdqjbqf5gi&quot;,&quot;31ps2negrszyvigiiyrdqjbqf5gi&quot;,&quot;user&quot;,&quot;spotify:user:31ps2negrszyvigiiyrdqjbqf5gi&quot;}</td><td>false</td><td>null</td><td>{{&quot;compilation&quot;,[{{&quot;https://open.spotify.com/artist/0LyfQWJT6nXafLPZqxe9Of&quot;},&quot;https://api.spotify.com/v1/artists/0LyfQWJT6nXafLPZqxe9Of&quot;,&quot;0LyfQWJT6nXafLPZqxe9Of&quot;,&quot;Various Artists&quot;,&quot;artist&quot;,&quot;spotify:artist:0LyfQWJT6nXafLPZqxe9Of&quot;}],[&quot;IN&quot;],{&quot;https://open.spotify.com/album/5JCx0naviMFsPTfmaBmYbj&quot;},&quot;https://api.spotify.com/v1/albums/5JCx0naviMFsPTfmaBmYbj&quot;,&quot;5JCx0naviMFsPTfmaBmYbj&quot;,[{640,&quot;https://i.scdn.co/image/ab67616d0000b273a1fd486925da9490d70a9d2f&quot;,640}, {300,&quot;https://i.scdn.co/image/ab67616d00001e02a1fd486925da9490d70a9d2f&quot;,300}, {64,&quot;https://i.scdn.co/image/ab67616d00004851a1fd486925da9490d70a9d2f&quot;,64}],&quot;Nikaah&quot;,&quot;1982-09-24&quot;,&quot;day&quot;,8,&quot;album&quot;,&quot;spotify:album:5JCx0naviMFsPTfmaBmYbj&quot;},[{{&quot;https://open.spotify.com/artist/62mCohf6aiF3nryWghwCxM&quot;},&quot;https://api.spotify.com/v1/artists/62mCohf6aiF3nryWghwCxM&quot;,&quot;62mCohf6aiF3nryWghwCxM&quot;,&quot;Ghulam Ali&quot;,&quot;artist&quot;,&quot;spotify:artist:62mCohf6aiF3nryWghwCxM&quot;}],[&quot;IN&quot;],1,468826,false,false,{&quot;INH109633640&quot;},{&quot;https://open.spotify.com/track/7nUAHij7tN3aBFaeEqKhMt&quot;},&quot;https://api.spotify.com/v1/tracks/7nUAHij7tN3aBFaeEqKhMt&quot;,&quot;7nUAHij7tN3aBFaeEqKhMt&quot;,false,&quot;Chupke Chupke Raat Din&quot;,50,&quot;https://p.scdn.co/mp3-preview/b92bbb34b0760ee6ca272ae524b782e240ac0ea9?cid=24a0d2915dd944f1b5303b801bae5ba0&quot;,true,5,&quot;track&quot;,&quot;spotify:track:7nUAHij7tN3aBFaeEqKhMt&quot;}</td><td>{null}</td></tr><tr><td>&quot;2023-04-26T15:29:48Z&quot;</td><td>{{&quot;https://open.spotify.com/user/31ps2negrszyvigiiyrdqjbqf5gi&quot;},&quot;https://api.spotify.com/v1/users/31ps2negrszyvigiiyrdqjbqf5gi&quot;,&quot;31ps2negrszyvigiiyrdqjbqf5gi&quot;,&quot;user&quot;,&quot;spotify:user:31ps2negrszyvigiiyrdqjbqf5gi&quot;}</td><td>false</td><td>null</td><td>{{&quot;album&quot;,[{{&quot;https://open.spotify.com/artist/0wcJ6Eio1d7Te1lf3B7bVK&quot;},&quot;https://api.spotify.com/v1/artists/0wcJ6Eio1d7Te1lf3B7bVK&quot;,&quot;0wcJ6Eio1d7Te1lf3B7bVK&quot;,&quot;Kaifi Azmi&quot;,&quot;artist&quot;,&quot;spotify:artist:0wcJ6Eio1d7Te1lf3B7bVK&quot;}],[&quot;IN&quot;],{&quot;https://open.spotify.com/album/04KrFv8qKzc0CjztfX3smv&quot;},&quot;https://api.spotify.com/v1/albums/04KrFv8qKzc0CjztfX3smv&quot;,&quot;04KrFv8qKzc0CjztfX3smv&quot;,[{640,&quot;https://i.scdn.co/image/ab67616d0000b273d9fdb5b496b4963c90111a12&quot;,640}, {300,&quot;https://i.scdn.co/image/ab67616d00001e02d9fdb5b496b4963c90111a12&quot;,300}, {64,&quot;https://i.scdn.co/image/ab67616d00004851d9fdb5b496b4963c90111a12&quot;,64}],&quot;Kaifi Azmi Ki Kalam Se&quot;,&quot;2022-05-02&quot;,&quot;day&quot;,20,&quot;album&quot;,&quot;spotify:album:04KrFv8qKzc0CjztfX3smv&quot;},[{{&quot;https://open.spotify.com/artist/2ijWbN5KykTYiBoVmhzCTU&quot;},&quot;https://api.spotify.com/v1/artists/2ijWbN5KykTYiBoVmhzCTU&quot;,&quot;2ijWbN5KykTYiBoVmhzCTU&quot;,&quot;Jagjit Singh&quot;,&quot;artist&quot;,&quot;spotify:artist:2ijWbN5KykTYiBoVmhzCTU&quot;}],[&quot;IN&quot;],1,302733,false,false,{&quot;INH109632470&quot;},{&quot;https://open.spotify.com/track/52Af7bUm7zfhQ8qgWWEDMF&quot;},&quot;https://api.spotify.com/v1/tracks/52Af7bUm7zfhQ8qgWWEDMF&quot;,&quot;52Af7bUm7zfhQ8qgWWEDMF&quot;,false,&quot;Jhuki Jhuki Si Nazar&quot;,55,&quot;https://p.scdn.co/mp3-preview/2d243270d05dd4e2cbb311b71e3f67f9e6f886a2?cid=24a0d2915dd944f1b5303b801bae5ba0&quot;,true,9,&quot;track&quot;,&quot;spotify:track:52Af7bUm7zfhQ8qgWWEDMF&quot;}</td><td>{null}</td></tr></tbody></table></div>"
      ],
      "text/plain": [
       "shape: (2, 6)\n",
       "┌─────────────────┬─────────────────┬──────────┬───────────────┬─────────────────┬─────────────────┐\n",
       "│ added_at        ┆ added_by        ┆ is_local ┆ primary_color ┆ track           ┆ video_thumbnail │\n",
       "│ ---             ┆ ---             ┆ ---      ┆ ---           ┆ ---             ┆ ---             │\n",
       "│ str             ┆ struct[5]       ┆ bool     ┆ null          ┆ struct[19]      ┆ struct[1]       │\n",
       "╞═════════════════╪═════════════════╪══════════╪═══════════════╪═════════════════╪═════════════════╡\n",
       "│ 2022-10-16T06:3 ┆ {{\"https://open ┆ false    ┆ null          ┆ {{\"compilation\" ┆ {null}          │\n",
       "│ 4:28Z           ┆ .spotify.com/us ┆          ┆               ┆ ,[{{\"https://op ┆                 │\n",
       "│                 ┆ er/31ps2ne…     ┆          ┆               ┆ en.spotify…     ┆                 │\n",
       "│ 2023-04-26T15:2 ┆ {{\"https://open ┆ false    ┆ null          ┆ {{\"album\",[{{\"h ┆ {null}          │\n",
       "│ 9:48Z           ┆ .spotify.com/us ┆          ┆               ┆ ttps://open.spo ┆                 │\n",
       "│                 ┆ er/31ps2ne…     ┆          ┆               ┆ tify.com/a…     ┆                 │\n",
       "└─────────────────┴─────────────────┴──────────┴───────────────┴─────────────────┴─────────────────┘"
      ]
     },
     "execution_count": 7,
     "metadata": {},
     "output_type": "execute_result"
    }
   ],
   "source": [
    "df = pl.read_json(\"data/playlist-items.json\")\n",
    "print(df.shape)\n",
    "df.head(2)"
   ]
  },
  {
   "cell_type": "markdown",
   "metadata": {},
   "source": [
    "## Normalize dataframe"
   ]
  },
  {
   "cell_type": "code",
   "execution_count": 8,
   "metadata": {},
   "outputs": [
    {
     "name": "stdout",
     "output_type": "stream",
     "text": [
      "(293, 13)\n"
     ]
    },
    {
     "data": {
      "text/html": [
       "<div><style>\n",
       ".dataframe > thead > tr,\n",
       ".dataframe > tbody > tr {\n",
       "  text-align: right;\n",
       "  white-space: pre-wrap;\n",
       "}\n",
       "</style>\n",
       "<small>shape: (5, 13)</small><table border=\"1\" class=\"dataframe\"><thead><tr><th>track_id</th><th>track_name</th><th>track_type</th><th>duration_ms</th><th>popularity</th><th>explicit</th><th>added_at</th><th>preview_url</th><th>album_id</th><th>album_name</th><th>album_type</th><th>artists_name</th><th>artists_id</th></tr><tr><td>str</td><td>str</td><td>str</td><td>i64</td><td>i64</td><td>bool</td><td>datetime[μs, UTC]</td><td>str</td><td>str</td><td>str</td><td>str</td><td>list[str]</td><td>list[str]</td></tr></thead><tbody><tr><td>&quot;7nUAHij7tN3aBFaeEqKhMt&quot;</td><td>&quot;Chupke Chupke Raat Din&quot;</td><td>&quot;track&quot;</td><td>468826</td><td>50</td><td>false</td><td>2022-10-16 06:34:28 UTC</td><td>&quot;https://p.scdn.co/mp3-preview/b92bbb34b…</td><td>&quot;5JCx0naviMFsPTfmaBmYbj&quot;</td><td>&quot;Nikaah&quot;</td><td>&quot;compilation&quot;</td><td>[&quot;Ghulam Ali&quot;]</td><td>[&quot;62mCohf6aiF3nryWghwCxM&quot;]</td></tr><tr><td>&quot;52Af7bUm7zfhQ8qgWWEDMF&quot;</td><td>&quot;Jhuki Jhuki Si Nazar&quot;</td><td>&quot;track&quot;</td><td>302733</td><td>55</td><td>false</td><td>2023-04-26 15:29:48 UTC</td><td>&quot;https://p.scdn.co/mp3-preview/2d243270d…</td><td>&quot;04KrFv8qKzc0CjztfX3smv&quot;</td><td>&quot;Kaifi Azmi Ki Kalam Se&quot;</td><td>&quot;album&quot;</td><td>[&quot;Jagjit Singh&quot;]</td><td>[&quot;2ijWbN5KykTYiBoVmhzCTU&quot;]</td></tr><tr><td>&quot;0Uju0OCAsVwlNSY0mQlGTb&quot;</td><td>&quot;Tum Itna Jo Muskura Rahe Ho&quot;</td><td>&quot;track&quot;</td><td>321311</td><td>60</td><td>false</td><td>2023-04-26 15:30:19 UTC</td><td>&quot;https://p.scdn.co/mp3-preview/11f5e3096…</td><td>&quot;04KrFv8qKzc0CjztfX3smv&quot;</td><td>&quot;Kaifi Azmi Ki Kalam Se&quot;</td><td>&quot;album&quot;</td><td>[&quot;Jagjit Singh&quot;]</td><td>[&quot;2ijWbN5KykTYiBoVmhzCTU&quot;]</td></tr><tr><td>&quot;15nZ2OViXR5mNwmSuZhx03&quot;</td><td>&quot;Dil Ke Arman Ansuon Men Bah Gaye&quot;</td><td>&quot;track&quot;</td><td>262989</td><td>37</td><td>false</td><td>2023-09-22 12:20:29 UTC</td><td>&quot;https://p.scdn.co/mp3-preview/5cb8c0ea4…</td><td>&quot;5JCx0naviMFsPTfmaBmYbj&quot;</td><td>&quot;Nikaah&quot;</td><td>&quot;compilation&quot;</td><td>[&quot;Salma Agha&quot;]</td><td>[&quot;7liaWSL1uPVjIrnYSFDB6V&quot;]</td></tr><tr><td>&quot;4Pnqpq21ngybetlCK3upTR&quot;</td><td>&quot;Yeh Raat Yeh Chandni&quot;</td><td>&quot;track&quot;</td><td>296240</td><td>45</td><td>false</td><td>2024-02-22 02:47:51 UTC</td><td>&quot;https://p.scdn.co/mp3-preview/553806b4e…</td><td>&quot;2YClj18H0MtjOGWwqII1sh&quot;</td><td>&quot;Baarishein, Chai Aur Hemant Kumar&quot;</td><td>&quot;album&quot;</td><td>[&quot;Hemant Kumar&quot;]</td><td>[&quot;02Um2HIOrUdsy3wqPBZwsj&quot;]</td></tr></tbody></table></div>"
      ],
      "text/plain": [
       "shape: (5, 13)\n",
       "┌───────────┬───────────┬───────────┬───────────┬───┬───────────┬───────────┬───────────┬──────────┐\n",
       "│ track_id  ┆ track_nam ┆ track_typ ┆ duration_ ┆ … ┆ album_nam ┆ album_typ ┆ artists_n ┆ artists_ │\n",
       "│ ---       ┆ e         ┆ e         ┆ ms        ┆   ┆ e         ┆ e         ┆ ame       ┆ id       │\n",
       "│ str       ┆ ---       ┆ ---       ┆ ---       ┆   ┆ ---       ┆ ---       ┆ ---       ┆ ---      │\n",
       "│           ┆ str       ┆ str       ┆ i64       ┆   ┆ str       ┆ str       ┆ list[str] ┆ list[str │\n",
       "│           ┆           ┆           ┆           ┆   ┆           ┆           ┆           ┆ ]        │\n",
       "╞═══════════╪═══════════╪═══════════╪═══════════╪═══╪═══════════╪═══════════╪═══════════╪══════════╡\n",
       "│ 7nUAHij7t ┆ Chupke    ┆ track     ┆ 468826    ┆ … ┆ Nikaah    ┆ compilati ┆ [\"Ghulam  ┆ [\"62mCoh │\n",
       "│ N3aBFaeEq ┆ Chupke    ┆           ┆           ┆   ┆           ┆ on        ┆ Ali\"]     ┆ f6aiF3nr │\n",
       "│ KhMt      ┆ Raat Din  ┆           ┆           ┆   ┆           ┆           ┆           ┆ yWghwCxM │\n",
       "│           ┆           ┆           ┆           ┆   ┆           ┆           ┆           ┆ \"]       │\n",
       "│ 52Af7bUm7 ┆ Jhuki     ┆ track     ┆ 302733    ┆ … ┆ Kaifi     ┆ album     ┆ [\"Jagjit  ┆ [\"2ijWbN │\n",
       "│ zfhQ8qgWW ┆ Jhuki Si  ┆           ┆           ┆   ┆ Azmi Ki   ┆           ┆ Singh\"]   ┆ 5KykTYiB │\n",
       "│ EDMF      ┆ Nazar     ┆           ┆           ┆   ┆ Kalam Se  ┆           ┆           ┆ oVmhzCTU │\n",
       "│           ┆           ┆           ┆           ┆   ┆           ┆           ┆           ┆ \"]       │\n",
       "│ 0Uju0OCAs ┆ Tum Itna  ┆ track     ┆ 321311    ┆ … ┆ Kaifi     ┆ album     ┆ [\"Jagjit  ┆ [\"2ijWbN │\n",
       "│ VwlNSY0mQ ┆ Jo        ┆           ┆           ┆   ┆ Azmi Ki   ┆           ┆ Singh\"]   ┆ 5KykTYiB │\n",
       "│ lGTb      ┆ Muskura   ┆           ┆           ┆   ┆ Kalam Se  ┆           ┆           ┆ oVmhzCTU │\n",
       "│           ┆ Rahe Ho   ┆           ┆           ┆   ┆           ┆           ┆           ┆ \"]       │\n",
       "│ 15nZ2OViX ┆ Dil Ke    ┆ track     ┆ 262989    ┆ … ┆ Nikaah    ┆ compilati ┆ [\"Salma   ┆ [\"7liaWS │\n",
       "│ R5mNwmSuZ ┆ Arman     ┆           ┆           ┆   ┆           ┆ on        ┆ Agha\"]    ┆ L1uPVjIr │\n",
       "│ hx03      ┆ Ansuon    ┆           ┆           ┆   ┆           ┆           ┆           ┆ nYSFDB6V │\n",
       "│           ┆ Men Bah   ┆           ┆           ┆   ┆           ┆           ┆           ┆ \"]       │\n",
       "│           ┆ Gaye      ┆           ┆           ┆   ┆           ┆           ┆           ┆          │\n",
       "│ 4Pnqpq21n ┆ Yeh Raat  ┆ track     ┆ 296240    ┆ … ┆ Baarishei ┆ album     ┆ [\"Hemant  ┆ [\"02Um2H │\n",
       "│ gybetlCK3 ┆ Yeh       ┆           ┆           ┆   ┆ n, Chai   ┆           ┆ Kumar\"]   ┆ IOrUdsy3 │\n",
       "│ upTR      ┆ Chandni   ┆           ┆           ┆   ┆ Aur       ┆           ┆           ┆ wqPBZwsj │\n",
       "│           ┆           ┆           ┆           ┆   ┆ Hemant    ┆           ┆           ┆ \"]       │\n",
       "│           ┆           ┆           ┆           ┆   ┆ Kumar     ┆           ┆           ┆          │\n",
       "└───────────┴───────────┴───────────┴───────────┴───┴───────────┴───────────┴───────────┴──────────┘"
      ]
     },
     "execution_count": 8,
     "metadata": {},
     "output_type": "execute_result"
    }
   ],
   "source": [
    "data = (\n",
    "    df.select(\"added_at\", \"track\")\n",
    "    .unnest(\"track\")\n",
    "    .select(\n",
    "        pl.col(\"id\").alias(\"track_id\"),\n",
    "        pl.col(\"name\").alias(\"track_name\"),\n",
    "        pl.col(\"type\").alias(\"track_type\"),\n",
    "        \"artists\",\n",
    "        \"album\",\n",
    "        \"duration_ms\",\n",
    "        \"popularity\",\n",
    "        \"explicit\",\n",
    "        \"added_at\",\n",
    "        \"preview_url\",\n",
    "    )\n",
    "    .with_columns(\n",
    "        pl.col(\"album\").struct.field(\"id\").alias(\"album_id\"),\n",
    "        pl.col(\"album\").struct.field(\"name\").alias(\"album_name\"),\n",
    "        pl.col(\"album\").struct.field(\"album_type\"),\n",
    "        pl.col(\"artists\")\n",
    "        .map_elements(lambda x: x.struct.field(\"name\"))\n",
    "        .alias(\"artists_name\"),\n",
    "        pl.col(\"artists\")\n",
    "        .map_elements(lambda x: x.struct.field(\"id\"))\n",
    "        .alias(\"artists_id\"),\n",
    "    )\n",
    "    .drop(\"album\", \"artists\")\n",
    "    .with_columns(\n",
    "        pl.col(\"added_at\").str.to_datetime(),\n",
    "    )\n",
    ")\n",
    "print(data.shape)\n",
    "data.head()"
   ]
  },
  {
   "cell_type": "markdown",
   "metadata": {},
   "source": [
    "## Analysis Begins"
   ]
  },
  {
   "cell_type": "code",
   "execution_count": 56,
   "metadata": {},
   "outputs": [
    {
     "name": "stdout",
     "output_type": "stream",
     "text": [
      "No. of unique track_id:    290\n",
      "No. of unique album_id:    198\n",
      "No. of unique artists_id:  62\n"
     ]
    }
   ],
   "source": [
    "# No. of Uninque tracks, albums, artists\n",
    "print(\"No. of unique track_id:   \", data[\"track_id\"].n_unique())\n",
    "print(\"No. of unique album_id:   \", data[\"album_id\"].n_unique())\n",
    "print(\"No. of unique artists_id: \", data[\"artists_id\"].explode().n_unique())"
   ]
  },
  {
   "cell_type": "code",
   "execution_count": 9,
   "metadata": {},
   "outputs": [
    {
     "data": {
      "text/html": [
       "<div><style>\n",
       ".dataframe > thead > tr,\n",
       ".dataframe > tbody > tr {\n",
       "  text-align: right;\n",
       "  white-space: pre-wrap;\n",
       "}\n",
       "</style>\n",
       "<small>shape: (6, 2)</small><table border=\"1\" class=\"dataframe\"><thead><tr><th>track_id</th><th>track_name</th></tr><tr><td>str</td><td>str</td></tr></thead><tbody><tr><td>&quot;6xCnMMPkIIhn3QyGJgd5xd&quot;</td><td>&quot;Ae Mere Zohra Jabeen&quot;</td></tr><tr><td>&quot;65Jc0dClAN7bfmhLJ9gJyU&quot;</td><td>&quot;Samne Ye Kaun Aya - From &quot;Jawani Diwani…</td></tr><tr><td>&quot;0UUEg4ozehOADGnhQ4OOam&quot;</td><td>&quot;Chahoonga Main Tujhe&quot;</td></tr><tr><td>&quot;6xCnMMPkIIhn3QyGJgd5xd&quot;</td><td>&quot;Ae Mere Zohra Jabeen&quot;</td></tr><tr><td>&quot;65Jc0dClAN7bfmhLJ9gJyU&quot;</td><td>&quot;Samne Ye Kaun Aya - From &quot;Jawani Diwani…</td></tr><tr><td>&quot;0UUEg4ozehOADGnhQ4OOam&quot;</td><td>&quot;Chahoonga Main Tujhe&quot;</td></tr></tbody></table></div>"
      ],
      "text/plain": [
       "shape: (6, 2)\n",
       "┌────────────────────────┬──────────────────────────────────────────┐\n",
       "│ track_id               ┆ track_name                               │\n",
       "│ ---                    ┆ ---                                      │\n",
       "│ str                    ┆ str                                      │\n",
       "╞════════════════════════╪══════════════════════════════════════════╡\n",
       "│ 6xCnMMPkIIhn3QyGJgd5xd ┆ Ae Mere Zohra Jabeen                     │\n",
       "│ 65Jc0dClAN7bfmhLJ9gJyU ┆ Samne Ye Kaun Aya - From \"Jawani Diwani\" │\n",
       "│ 0UUEg4ozehOADGnhQ4OOam ┆ Chahoonga Main Tujhe                     │\n",
       "│ 6xCnMMPkIIhn3QyGJgd5xd ┆ Ae Mere Zohra Jabeen                     │\n",
       "│ 65Jc0dClAN7bfmhLJ9gJyU ┆ Samne Ye Kaun Aya - From \"Jawani Diwani\" │\n",
       "│ 0UUEg4ozehOADGnhQ4OOam ┆ Chahoonga Main Tujhe                     │\n",
       "└────────────────────────┴──────────────────────────────────────────┘"
      ]
     },
     "execution_count": 9,
     "metadata": {},
     "output_type": "execute_result"
    }
   ],
   "source": [
    "data.select(\"track_id\", \"track_name\").filter(pl.col(\"track_id\").is_duplicated())"
   ]
  },
  {
   "cell_type": "code",
   "execution_count": 10,
   "metadata": {},
   "outputs": [
    {
     "data": {
      "text/html": [
       "<div><style>\n",
       ".dataframe > thead > tr,\n",
       ".dataframe > tbody > tr {\n",
       "  text-align: right;\n",
       "  white-space: pre-wrap;\n",
       "}\n",
       "</style>\n",
       "<small>shape: (3, 15)</small><table border=\"1\" class=\"dataframe\"><thead><tr><th>track_id</th><th>track_name</th><th>track_type</th><th>duration_ms</th><th>popularity</th><th>explicit</th><th>added_at</th><th>preview_url</th><th>album_id</th><th>album_name</th><th>album_type</th><th>artists_name</th><th>artists_id</th><th>track_name_extra</th><th>track_name_true</th></tr><tr><td>str</td><td>str</td><td>str</td><td>i64</td><td>i64</td><td>bool</td><td>datetime[μs, UTC]</td><td>str</td><td>str</td><td>str</td><td>str</td><td>list[str]</td><td>list[str]</td><td>str</td><td>str</td></tr></thead><tbody><tr><td>&quot;6OFlQp1PQ5b1oKMR7L0Vjx&quot;</td><td>&quot;Aane Se Uske Aaye Bahar-Duet&quot;</td><td>&quot;track&quot;</td><td>88712</td><td>19</td><td>false</td><td>2023-10-02 07:25:12 UTC</td><td>&quot;https://p.scdn.co/mp3-preview/06c127099…</td><td>&quot;4yNcphRaHZF70l7J0VDsoL&quot;</td><td>&quot;Jeene Ki Raah&quot;</td><td>&quot;album&quot;</td><td>[&quot;Mohammed Rafi&quot;, &quot;Bhupinder Singh&quot;, &quot;Laxmikant–Pyarelal&quot;]</td><td>[&quot;0gXDpqwYNDODn7fB0RDN8J&quot;, &quot;4FMGD43a8aLM0LRKXDSXne&quot;, &quot;3yS84AjNFqhmuJlIXy7sax&quot;]</td><td>&quot;-Duet&quot;</td><td>&quot;Aane Se Uske Aaye Bahar&quot;</td></tr><tr><td>&quot;024NXo94cy9NtPSDqBCmMn&quot;</td><td>&quot;Mera Joota Hai Japani&quot;</td><td>&quot;track&quot;</td><td>268533</td><td>43</td><td>false</td><td>2023-04-19 17:18:58 UTC</td><td>&quot;https://p.scdn.co/mp3-preview/5af330461…</td><td>&quot;30AnFi0y2n2KZIHMzYhSWX&quot;</td><td>&quot;Mukesh Ki Barfi&quot;</td><td>&quot;album&quot;</td><td>[&quot;Mukesh&quot;]</td><td>[&quot;4etv0ut4ws0GbXBtolzf5e&quot;]</td><td>null</td><td>&quot;Mera Joota Hai Japani&quot;</td></tr><tr><td>&quot;1b5MoUyroLfLEdhJOZfQLP&quot;</td><td>&quot;Babuji Dheere Chalna&quot;</td><td>&quot;track&quot;</td><td>207785</td><td>50</td><td>false</td><td>2024-02-21 18:13:09 UTC</td><td>&quot;https://p.scdn.co/mp3-preview/77dd2e5ea…</td><td>&quot;75cPtv4f6SZ7aKUAJMHWXJ&quot;</td><td>&quot;Vintage Melody Geeta Dutt&quot;</td><td>&quot;album&quot;</td><td>[&quot;Geeta Dutt&quot;]</td><td>[&quot;0QsbYX8XslSSUcztc6u4pO&quot;]</td><td>null</td><td>&quot;Babuji Dheere Chalna&quot;</td></tr></tbody></table></div>"
      ],
      "text/plain": [
       "shape: (3, 15)\n",
       "┌───────────┬───────────┬───────────┬───────────┬───┬───────────┬───────────┬───────────┬──────────┐\n",
       "│ track_id  ┆ track_nam ┆ track_typ ┆ duration_ ┆ … ┆ artists_n ┆ artists_i ┆ track_nam ┆ track_na │\n",
       "│ ---       ┆ e         ┆ e         ┆ ms        ┆   ┆ ame       ┆ d         ┆ e_extra   ┆ me_true  │\n",
       "│ str       ┆ ---       ┆ ---       ┆ ---       ┆   ┆ ---       ┆ ---       ┆ ---       ┆ ---      │\n",
       "│           ┆ str       ┆ str       ┆ i64       ┆   ┆ list[str] ┆ list[str] ┆ str       ┆ str      │\n",
       "╞═══════════╪═══════════╪═══════════╪═══════════╪═══╪═══════════╪═══════════╪═══════════╪══════════╡\n",
       "│ 6OFlQp1PQ ┆ Aane Se   ┆ track     ┆ 88712     ┆ … ┆ [\"Mohamme ┆ [\"0gXDpqw ┆ -Duet     ┆ Aane Se  │\n",
       "│ 5b1oKMR7L ┆ Uske Aaye ┆           ┆           ┆   ┆ d Rafi\",  ┆ YNDODn7fB ┆           ┆ Uske     │\n",
       "│ 0Vjx      ┆ Bahar-Due ┆           ┆           ┆   ┆ \"Bhupinde ┆ 0RDN8J\",  ┆           ┆ Aaye     │\n",
       "│           ┆ t         ┆           ┆           ┆   ┆ r Singh\", ┆ \"4FMGD43a ┆           ┆ Bahar    │\n",
       "│           ┆           ┆           ┆           ┆   ┆ \"La…      ┆ 8aLM…     ┆           ┆          │\n",
       "│ 024NXo94c ┆ Mera      ┆ track     ┆ 268533    ┆ … ┆ [\"Mukesh\" ┆ [\"4etv0ut ┆ null      ┆ Mera     │\n",
       "│ y9NtPSDqB ┆ Joota Hai ┆           ┆           ┆   ┆ ]         ┆ 4ws0GbXBt ┆           ┆ Joota    │\n",
       "│ CmMn      ┆ Japani    ┆           ┆           ┆   ┆           ┆ olzf5e\"]  ┆           ┆ Hai      │\n",
       "│           ┆           ┆           ┆           ┆   ┆           ┆           ┆           ┆ Japani   │\n",
       "│ 1b5MoUyro ┆ Babuji    ┆ track     ┆ 207785    ┆ … ┆ [\"Geeta   ┆ [\"0QsbYX8 ┆ null      ┆ Babuji   │\n",
       "│ LfLEdhJOZ ┆ Dheere    ┆           ┆           ┆   ┆ Dutt\"]    ┆ XslSSUczt ┆           ┆ Dheere   │\n",
       "│ fQLP      ┆ Chalna    ┆           ┆           ┆   ┆           ┆ c6u4pO\"]  ┆           ┆ Chalna   │\n",
       "└───────────┴───────────┴───────────┴───────────┴───┴───────────┴───────────┴───────────┴──────────┘"
      ]
     },
     "execution_count": 10,
     "metadata": {},
     "output_type": "execute_result"
    }
   ],
   "source": [
    "# Filter track_name by removing the extra infos\n",
    "data = data.with_columns(\n",
    "    pl.col(\"track_name\").str.extract(r\"([-\\(].+)\").alias(\"track_name_extra\"),\n",
    "    pl.col(\"track_name\")\n",
    "    .str.replace(r\"([-\\(].+)\", \"\")\n",
    "    .str.strip_chars_end()\n",
    "    .alias(\"track_name_true\"),\n",
    ")\n",
    "data.sample(3)"
   ]
  },
  {
   "cell_type": "code",
   "execution_count": 11,
   "metadata": {},
   "outputs": [
    {
     "name": "stdout",
     "output_type": "stream",
     "text": [
      "No. of unique track_name_true 269\n"
     ]
    }
   ],
   "source": [
    "# no. of unique track_name\n",
    "print(\"No. of unique track_name_true\", data[\"track_name_true\"].n_unique())"
   ]
  },
  {
   "cell_type": "code",
   "execution_count": 16,
   "metadata": {},
   "outputs": [
    {
     "data": {
      "text/html": [
       "<div><style>\n",
       ".dataframe > thead > tr,\n",
       ".dataframe > tbody > tr {\n",
       "  text-align: right;\n",
       "  white-space: pre-wrap;\n",
       "}\n",
       "</style>\n",
       "<small>shape: (47, 5)</small><table border=\"1\" class=\"dataframe\"><thead><tr><th>track_name</th><th>album_name</th><th>duration_ms</th><th>added_at</th><th>artists_name</th></tr><tr><td>str</td><td>str</td><td>i64</td><td>datetime[μs, UTC]</td><td>list[str]</td></tr></thead><tbody><tr><td>&quot;Aane Se Uske Aaye Bahar&quot;</td><td>&quot;Jeene Ki Raah&quot;</td><td>247613</td><td>2022-08-27 10:36:57 UTC</td><td>[&quot;Mohammed Rafi&quot;, &quot;Laxmikant–Pyarelal&quot;]</td></tr><tr><td>&quot;Aane Se Uske Aaye Bahar-Duet&quot;</td><td>&quot;Jeene Ki Raah&quot;</td><td>88712</td><td>2023-10-02 07:25:12 UTC</td><td>[&quot;Mohammed Rafi&quot;, &quot;Bhupinder Singh&quot;, &quot;Laxmikant–Pyarelal&quot;]</td></tr><tr><td>&quot;Ae Mere Zohra Jabeen&quot;</td><td>&quot;Waqt&quot;</td><td>235333</td><td>2023-04-19 17:40:10 UTC</td><td>[&quot;Manna Dey&quot;]</td></tr><tr><td>&quot;Ae Mere Zohra Jabeen&quot;</td><td>&quot;Waqt&quot;</td><td>235333</td><td>2023-09-30 12:48:24 UTC</td><td>[&quot;Manna Dey&quot;]</td></tr><tr><td>&quot;Babuji Dheere Chalna&quot;</td><td>&quot;Aar Paar&quot;</td><td>207785</td><td>2023-04-26 15:29:38 UTC</td><td>[&quot;Geeta Dutt&quot;]</td></tr><tr><td>&quot;Babuji Dheere Chalna&quot;</td><td>&quot;Vintage Melody Geeta Dutt&quot;</td><td>207785</td><td>2024-02-21 18:13:09 UTC</td><td>[&quot;Geeta Dutt&quot;]</td></tr><tr><td>&quot;Chahoonga Main Tujhe&quot;</td><td>&quot;Dosti&quot;</td><td>294493</td><td>2023-05-15 07:19:53 UTC</td><td>[&quot;Mohammed Rafi&quot;, &quot;Laxmikant–Pyarelal&quot;]</td></tr><tr><td>&quot;Chahoonga Main Tujhe&quot;</td><td>&quot;Dosti&quot;</td><td>294493</td><td>2023-09-30 12:50:32 UTC</td><td>[&quot;Mohammed Rafi&quot;, &quot;Laxmikant–Pyarelal&quot;]</td></tr><tr><td>&quot;Chanda Ko Dhundne&quot;</td><td>&quot;Jeene Ki Raah&quot;</td><td>279040</td><td>2024-02-21 18:21:53 UTC</td><td>[&quot;Asha Bhosle&quot;, &quot;Usha Mangeshkar&quot;, … &quot;Laxmikant–Pyarelal&quot;]</td></tr><tr><td>&quot;Chanda Ko Dhundne - Pt. 1&quot;</td><td>&quot;Jeene Ki Raah&quot;</td><td>348775</td><td>2024-02-22 02:31:13 UTC</td><td>[&quot;Mohammed Rafi&quot;, &quot;Asha Bhosle&quot;, … &quot;Laxmikant–Pyarelal&quot;]</td></tr><tr><td>&quot;Chhu Kar Mere Manko - From &quot;Yaarana&quot;&quot;</td><td>&quot;Audiobiography - Kishore Kumar&quot;</td><td>252520</td><td>2022-08-27 10:35:27 UTC</td><td>[&quot;Kishore Kumar&quot;]</td></tr><tr><td>&quot;Chhu Kar Mere Manko - From &quot;Yaarana&quot;&quot;</td><td>&quot;Timeless Kishore&quot;</td><td>252133</td><td>2023-11-04 04:53:01 UTC</td><td>[&quot;Kishore Kumar&quot;]</td></tr><tr><td>&hellip;</td><td>&hellip;</td><td>&hellip;</td><td>&hellip;</td><td>&hellip;</td></tr><tr><td>&quot;Tera Mujhse - From &quot;Aa Gale Lag Jaa&quot;&quot;</td><td>&quot;Timeless Kishore&quot;</td><td>339666</td><td>2022-08-02 15:54:14 UTC</td><td>[&quot;Kishore Kumar&quot;, &quot;R. D. Burman&quot;]</td></tr><tr><td>&quot;Tera Mujhse - From &quot;Aa Gale Lag Jaa&quot;&quot;</td><td>&quot;Aa Gale Lag Jaa (Original Motion Pictur…</td><td>254773</td><td>2022-08-02 16:20:38 UTC</td><td>[&quot;Kishore Kumar&quot;, &quot;Sushma Shrestha&quot;, &quot;R. D. Burman&quot;]</td></tr><tr><td>&quot;Tujhse Naraz Nahin Zindagi - Anup Ghosh…</td><td>&quot;Masoom&quot;</td><td>340733</td><td>2022-08-27 10:37:39 UTC</td><td>[&quot;Anup Ghoshal&quot;, &quot;R. D. Burman&quot;]</td></tr><tr><td>&quot;Tujhse Naraz Nahin Zindagi - Lata Mange…</td><td>&quot;Masoom&quot;</td><td>220106</td><td>2022-08-02 16:03:26 UTC</td><td>[&quot;Lata Mangeshkar&quot;, &quot;Gulzar&quot;, &quot;R. D. Burman&quot;]</td></tr><tr><td>&quot;Wada Na Tod - From &quot;Dil Tujhko Diya&quot;&quot;</td><td>&quot;Dil Tujhko Diya (Original Motion Pictur…</td><td>361293</td><td>2023-10-05 07:10:58 UTC</td><td>[&quot;Lata Mangeshkar&quot;]</td></tr><tr><td>&quot;Wada Na Tod - From &quot;Dil Tujhko Diya&quot;&quot;</td><td>&quot;The Legend Forever, Vol. 1&quot;</td><td>356466</td><td>2023-11-21 17:03:45 UTC</td><td>[&quot;Lata Mangeshkar&quot;]</td></tr><tr><td>&quot;Yeh Vaada Raha - From &quot;Yeh Vaada Raha&quot;&quot;</td><td>&quot;Yeh Vaada Raha (Original Motion Picture…</td><td>409333</td><td>2023-09-30 12:47:48 UTC</td><td>[&quot;Kishore Kumar&quot;, &quot;Asha Bhosle&quot;, &quot;R. D. Burman&quot;]</td></tr><tr><td>&quot;Yeh Vaada Raha - From &quot;Yeh Vaada Raha&quot;&quot;</td><td>&quot;Master Blaster - Asha Bhosle&quot;</td><td>408306</td><td>2024-02-21 18:11:06 UTC</td><td>[&quot;Kishore Kumar&quot;, &quot;Asha Bhosle&quot;, &quot;R. D. Burman&quot;]</td></tr><tr><td>&quot;Zindagi Ka Safar&quot;</td><td>&quot;Safar&quot;</td><td>239533</td><td>2022-08-27 10:36:44 UTC</td><td>[&quot;Kishore Kumar&quot;, &quot;Kalyanji-Anandji&quot;]</td></tr><tr><td>&quot;Zindagi Ka Safar - From &quot;Safar&quot;&quot;</td><td>&quot;Best of Kishore Kumar&quot;</td><td>256946</td><td>2024-01-06 16:41:10 UTC</td><td>[&quot;Kishore Kumar&quot;]</td></tr><tr><td>&quot;Zindagi Ke Safar Mein&quot;</td><td>&quot;Aap Ki Kasam&quot;</td><td>398773</td><td>2022-08-27 10:35:42 UTC</td><td>[&quot;Kishore Kumar&quot;, &quot;R. D. Burman&quot;]</td></tr><tr><td>&quot;Zindagi Ke Safar Mein - Jhankar Beats&quot;</td><td>&quot;Aap Ki Kasam - Jhankar Beats&quot;</td><td>393592</td><td>2023-06-29 05:11:05 UTC</td><td>[&quot;Kishore Kumar&quot;]</td></tr></tbody></table></div>"
      ],
      "text/plain": [
       "shape: (47, 5)\n",
       "┌─────────────────────┬────────────────────┬─────────────┬────────────────────┬────────────────────┐\n",
       "│ track_name          ┆ album_name         ┆ duration_ms ┆ added_at           ┆ artists_name       │\n",
       "│ ---                 ┆ ---                ┆ ---         ┆ ---                ┆ ---                │\n",
       "│ str                 ┆ str                ┆ i64         ┆ datetime[μs, UTC]  ┆ list[str]          │\n",
       "╞═════════════════════╪════════════════════╪═════════════╪════════════════════╪════════════════════╡\n",
       "│ Aane Se Uske Aaye   ┆ Jeene Ki Raah      ┆ 247613      ┆ 2022-08-27         ┆ [\"Mohammed Rafi\",  │\n",
       "│ Bahar               ┆                    ┆             ┆ 10:36:57 UTC       ┆ \"Laxmikant–Pyarela │\n",
       "│                     ┆                    ┆             ┆                    ┆ l\"]                │\n",
       "│ Aane Se Uske Aaye   ┆ Jeene Ki Raah      ┆ 88712       ┆ 2023-10-02         ┆ [\"Mohammed Rafi\",  │\n",
       "│ Bahar-Duet          ┆                    ┆             ┆ 07:25:12 UTC       ┆ \"Bhupinder Singh\", │\n",
       "│                     ┆                    ┆             ┆                    ┆ \"La…               │\n",
       "│ Ae Mere Zohra       ┆ Waqt               ┆ 235333      ┆ 2023-04-19         ┆ [\"Manna Dey\"]      │\n",
       "│ Jabeen              ┆                    ┆             ┆ 17:40:10 UTC       ┆                    │\n",
       "│ Ae Mere Zohra       ┆ Waqt               ┆ 235333      ┆ 2023-09-30         ┆ [\"Manna Dey\"]      │\n",
       "│ Jabeen              ┆                    ┆             ┆ 12:48:24 UTC       ┆                    │\n",
       "│ Babuji Dheere       ┆ Aar Paar           ┆ 207785      ┆ 2023-04-26         ┆ [\"Geeta Dutt\"]     │\n",
       "│ Chalna              ┆                    ┆             ┆ 15:29:38 UTC       ┆                    │\n",
       "│ …                   ┆ …                  ┆ …           ┆ …                  ┆ …                  │\n",
       "│ Yeh Vaada Raha -    ┆ Master Blaster -   ┆ 408306      ┆ 2024-02-21         ┆ [\"Kishore Kumar\",  │\n",
       "│ From \"Yeh Vaada     ┆ Asha Bhosle        ┆             ┆ 18:11:06 UTC       ┆ \"Asha Bhosle\", \"R. │\n",
       "│ Raha\"               ┆                    ┆             ┆                    ┆ D. …               │\n",
       "│ Zindagi Ka Safar    ┆ Safar              ┆ 239533      ┆ 2022-08-27         ┆ [\"Kishore Kumar\",  │\n",
       "│                     ┆                    ┆             ┆ 10:36:44 UTC       ┆ \"Kalyanji-Anandji\" │\n",
       "│                     ┆                    ┆             ┆                    ┆ ]                  │\n",
       "│ Zindagi Ka Safar -  ┆ Best of Kishore    ┆ 256946      ┆ 2024-01-06         ┆ [\"Kishore Kumar\"]  │\n",
       "│ From \"Safar\"        ┆ Kumar              ┆             ┆ 16:41:10 UTC       ┆                    │\n",
       "│ Zindagi Ke Safar    ┆ Aap Ki Kasam       ┆ 398773      ┆ 2022-08-27         ┆ [\"Kishore Kumar\",  │\n",
       "│ Mein                ┆                    ┆             ┆ 10:35:42 UTC       ┆ \"R. D. Burman\"]    │\n",
       "│ Zindagi Ke Safar    ┆ Aap Ki Kasam -     ┆ 393592      ┆ 2023-06-29         ┆ [\"Kishore Kumar\"]  │\n",
       "│ Mein - Jhankar      ┆ Jhankar Beats      ┆             ┆ 05:11:05 UTC       ┆                    │\n",
       "│ Beats               ┆                    ┆             ┆                    ┆                    │\n",
       "└─────────────────────┴────────────────────┴─────────────┴────────────────────┴────────────────────┘"
      ]
     },
     "execution_count": 16,
     "metadata": {},
     "output_type": "execute_result"
    }
   ],
   "source": [
    "# Duplicate songs whoes names are different\n",
    "data.filter(pl.col(\"track_name_true\").is_duplicated()).select(\n",
    "    \"track_name\", \"album_name\", \"duration_ms\", \"added_at\", \"artists_name\"\n",
    ").sort(\"track_name\")"
   ]
  },
  {
   "cell_type": "code",
   "execution_count": 19,
   "metadata": {},
   "outputs": [
    {
     "data": {
      "text/html": [
       "<div><style>\n",
       ".dataframe > thead > tr,\n",
       ".dataframe > tbody > tr {\n",
       "  text-align: right;\n",
       "  white-space: pre-wrap;\n",
       "}\n",
       "</style>\n",
       "<small>shape: (15, 2)</small><table border=\"1\" class=\"dataframe\"><thead><tr><th>artists_name</th><th>count</th></tr><tr><td>str</td><td>u32</td></tr></thead><tbody><tr><td>&quot;Kishore Kumar&quot;</td><td>97</td></tr><tr><td>&quot;Lata Mangeshkar&quot;</td><td>76</td></tr><tr><td>&quot;Mohammed Rafi&quot;</td><td>56</td></tr><tr><td>&quot;R. D. Burman&quot;</td><td>49</td></tr><tr><td>&quot;Mukesh&quot;</td><td>37</td></tr><tr><td>&quot;Laxmikant–Pyarelal&quot;</td><td>31</td></tr><tr><td>&quot;Asha Bhosle&quot;</td><td>29</td></tr><tr><td>&quot;S. D. Burman&quot;</td><td>16</td></tr><tr><td>&quot;Manna Dey&quot;</td><td>13</td></tr><tr><td>&quot;Geeta Dutt&quot;</td><td>8</td></tr><tr><td>&quot;Kalyanji-Anandji&quot;</td><td>8</td></tr><tr><td>&quot;Shamshad Begum&quot;</td><td>6</td></tr><tr><td>&quot;Jagjit Singh&quot;</td><td>6</td></tr><tr><td>&quot;Hemlata&quot;</td><td>6</td></tr><tr><td>&quot;Hemant Kumar&quot;</td><td>5</td></tr></tbody></table></div>"
      ],
      "text/plain": [
       "shape: (15, 2)\n",
       "┌──────────────────┬───────┐\n",
       "│ artists_name     ┆ count │\n",
       "│ ---              ┆ ---   │\n",
       "│ str              ┆ u32   │\n",
       "╞══════════════════╪═══════╡\n",
       "│ Kishore Kumar    ┆ 97    │\n",
       "│ Lata Mangeshkar  ┆ 76    │\n",
       "│ Mohammed Rafi    ┆ 56    │\n",
       "│ R. D. Burman     ┆ 49    │\n",
       "│ Mukesh           ┆ 37    │\n",
       "│ …                ┆ …     │\n",
       "│ Kalyanji-Anandji ┆ 8     │\n",
       "│ Shamshad Begum   ┆ 6     │\n",
       "│ Jagjit Singh     ┆ 6     │\n",
       "│ Hemlata          ┆ 6     │\n",
       "│ Hemant Kumar     ┆ 5     │\n",
       "└──────────────────┴───────┘"
      ]
     },
     "execution_count": 19,
     "metadata": {},
     "output_type": "execute_result"
    }
   ],
   "source": [
    "# No. of tracks present in playlist of artists\n",
    "(\n",
    "    data[\"artists_name\"]\n",
    "    .explode()\n",
    "    .value_counts()\n",
    "    .filter(\n",
    "        pl.col(\"count\").ge(20),\n",
    "    )\n",
    "    .sort(\"count\", descending=True)\n",
    ")"
   ]
  },
  {
   "cell_type": "code",
   "execution_count": 102,
   "metadata": {},
   "outputs": [
    {
     "data": {
      "text/html": [
       "<div><style>\n",
       ".dataframe > thead > tr,\n",
       ".dataframe > tbody > tr {\n",
       "  text-align: right;\n",
       "  white-space: pre-wrap;\n",
       "}\n",
       "</style>\n",
       "<small>shape: (15, 2)</small><table border=\"1\" class=\"dataframe\"><thead><tr><th>track_name</th><th>duration_ms</th></tr><tr><td>str</td><td>i64</td></tr></thead><tbody><tr><td>&quot;Pag Ghunghroo Baandh&quot;</td><td>697616</td></tr><tr><td>&quot;Koi Fariyaad&quot;</td><td>541346</td></tr><tr><td>&quot;Intaha Ho Gai Intezar Ki&quot;</td><td>529635</td></tr><tr><td>&quot;Piya Tose Naina Laage Re&quot;</td><td>509466</td></tr><tr><td>&quot;Ek Hasina Thi Ek Diwana Tha&quot;</td><td>472946</td></tr><tr><td>&quot;Chupke Chupke Raat Din&quot;</td><td>468826</td></tr><tr><td>&quot;Yunhi Kat Jaayega&quot;</td><td>463933</td></tr><tr><td>&quot;Zeehale Muskin - From &quot;Ghulami&quot;&quot;</td><td>446440</td></tr><tr><td>&quot;Ankhiyon Ke Jharokhon Se - Part 1&quot;</td><td>445707</td></tr><tr><td>&quot;Tauba Yeh Matwali Chaal&quot;</td><td>442160</td></tr><tr><td>&quot;Zindagi Ki Na Toote Ladi&quot;</td><td>422066</td></tr><tr><td>&quot;Aadmi Musafir Hai - Happy&quot;</td><td>421600</td></tr><tr><td>&quot;Chandi Jaisa Rang Hai&quot;</td><td>418000</td></tr><tr><td>&quot;O Haseena Zulfonwale Jane Jahan&quot;</td><td>415236</td></tr><tr><td>&quot;Kaun Disha Mein Leke Chala&quot;</td><td>412080</td></tr></tbody></table></div>"
      ],
      "text/plain": [
       "shape: (15, 2)\n",
       "┌─────────────────────────────────┬─────────────┐\n",
       "│ track_name                      ┆ duration_ms │\n",
       "│ ---                             ┆ ---         │\n",
       "│ str                             ┆ i64         │\n",
       "╞═════════════════════════════════╪═════════════╡\n",
       "│ Pag Ghunghroo Baandh            ┆ 697616      │\n",
       "│ Koi Fariyaad                    ┆ 541346      │\n",
       "│ Intaha Ho Gai Intezar Ki        ┆ 529635      │\n",
       "│ Piya Tose Naina Laage Re        ┆ 509466      │\n",
       "│ Ek Hasina Thi Ek Diwana Tha     ┆ 472946      │\n",
       "│ …                               ┆ …           │\n",
       "│ Zindagi Ki Na Toote Ladi        ┆ 422066      │\n",
       "│ Aadmi Musafir Hai - Happy       ┆ 421600      │\n",
       "│ Chandi Jaisa Rang Hai           ┆ 418000      │\n",
       "│ O Haseena Zulfonwale Jane Jahan ┆ 415236      │\n",
       "│ Kaun Disha Mein Leke Chala      ┆ 412080      │\n",
       "└─────────────────────────────────┴─────────────┘"
      ]
     },
     "execution_count": 102,
     "metadata": {},
     "output_type": "execute_result"
    }
   ],
   "source": [
    "# Top tracks a/c duration\n",
    "data.select(\"track_name\", \"duration_ms\").top_k(15, by=\"duration_ms\")"
   ]
  },
  {
   "cell_type": "code",
   "execution_count": 104,
   "metadata": {},
   "outputs": [
    {
     "data": {
      "text/html": [
       "<div><style>\n",
       ".dataframe > thead > tr,\n",
       ".dataframe > tbody > tr {\n",
       "  text-align: right;\n",
       "  white-space: pre-wrap;\n",
       "}\n",
       "</style>\n",
       "<small>shape: (10, 2)</small><table border=\"1\" class=\"dataframe\"><thead><tr><th>added_at</th><th>track_name</th></tr><tr><td>datetime[μs, UTC]</td><td>str</td></tr></thead><tbody><tr><td>2022-08-02 15:54:14 UTC</td><td>&quot;Tera Mujhse - From &quot;Aa Gale Lag Jaa&quot;&quot;</td></tr><tr><td>2022-08-02 15:54:47 UTC</td><td>&quot;Zindagi Ki Yahi Reet Hai&quot;</td></tr><tr><td>2022-08-02 15:55:03 UTC</td><td>&quot;O Saathi Re - Kishore Kumar&quot;</td></tr><tr><td>2022-08-02 15:55:16 UTC</td><td>&quot;Ek Ajnabee Haseena Se&quot;</td></tr><tr><td>2022-08-02 15:55:54 UTC</td><td>&quot;Dekha Ek Khwab - II&quot;</td></tr><tr><td>2022-08-02 15:56:35 UTC</td><td>&quot;Yunhi Kat Jaayega&quot;</td></tr><tr><td>2022-08-02 16:01:22 UTC</td><td>&quot;Main Pal Do Pal Ka Shair Hoon&quot;</td></tr><tr><td>2022-08-02 16:01:29 UTC</td><td>&quot;Samne Ye Kaun Aya - From &quot;Jawani Diwani…</td></tr><tr><td>2022-08-02 16:01:35 UTC</td><td>&quot;Maine Poochha Chand Se - From &quot;Abdullah…</td></tr><tr><td>2022-08-02 16:01:37 UTC</td><td>&quot;Ek Din Bik Jayega Mati Ke Mol (Happy)&quot;</td></tr></tbody></table></div>"
      ],
      "text/plain": [
       "shape: (10, 2)\n",
       "┌─────────────────────────┬──────────────────────────────────────────┐\n",
       "│ added_at                ┆ track_name                               │\n",
       "│ ---                     ┆ ---                                      │\n",
       "│ datetime[μs, UTC]       ┆ str                                      │\n",
       "╞═════════════════════════╪══════════════════════════════════════════╡\n",
       "│ 2022-08-02 15:54:14 UTC ┆ Tera Mujhse - From \"Aa Gale Lag Jaa\"     │\n",
       "│ 2022-08-02 15:54:47 UTC ┆ Zindagi Ki Yahi Reet Hai                 │\n",
       "│ 2022-08-02 15:55:03 UTC ┆ O Saathi Re - Kishore Kumar              │\n",
       "│ 2022-08-02 15:55:16 UTC ┆ Ek Ajnabee Haseena Se                    │\n",
       "│ 2022-08-02 15:55:54 UTC ┆ Dekha Ek Khwab - II                      │\n",
       "│ 2022-08-02 15:56:35 UTC ┆ Yunhi Kat Jaayega                        │\n",
       "│ 2022-08-02 16:01:22 UTC ┆ Main Pal Do Pal Ka Shair Hoon            │\n",
       "│ 2022-08-02 16:01:29 UTC ┆ Samne Ye Kaun Aya - From \"Jawani Diwani\" │\n",
       "│ 2022-08-02 16:01:35 UTC ┆ Maine Poochha Chand Se - From \"Abdullah\" │\n",
       "│ 2022-08-02 16:01:37 UTC ┆ Ek Din Bik Jayega Mati Ke Mol (Happy)    │\n",
       "└─────────────────────────┴──────────────────────────────────────────┘"
      ]
     },
     "execution_count": 104,
     "metadata": {},
     "output_type": "execute_result"
    }
   ],
   "source": [
    "# First n tracks added in playlist\n",
    "(\n",
    "    data.select(\"added_at\", \"track_name\")\n",
    "    .with_columns(\n",
    "        pl.col(\"added_at\").str.to_datetime(),\n",
    "    )\n",
    "    .bottom_k(10, by=\"added_at\")\n",
    ")"
   ]
  },
  {
   "cell_type": "code",
   "execution_count": 103,
   "metadata": {},
   "outputs": [
    {
     "data": {
      "text/html": [
       "<div><style>\n",
       ".dataframe > thead > tr,\n",
       ".dataframe > tbody > tr {\n",
       "  text-align: right;\n",
       "  white-space: pre-wrap;\n",
       "}\n",
       "</style>\n",
       "<small>shape: (10, 2)</small><table border=\"1\" class=\"dataframe\"><thead><tr><th>added_at</th><th>track_name</th></tr><tr><td>datetime[μs, UTC]</td><td>str</td></tr></thead><tbody><tr><td>2024-03-17 08:10:33 UTC</td><td>&quot;Tere Naam Ka Diwana - From &quot;Suraj Aur C…</td></tr><tr><td>2024-03-15 09:09:42 UTC</td><td>&quot;Saathiya Nahin Jana Revival Film - Aya …</td></tr><tr><td>2024-03-13 08:04:12 UTC</td><td>&quot;Solah Baras Ki Bali Umar&quot;</td></tr><tr><td>2024-03-13 06:34:48 UTC</td><td>&quot;Yaara O Yaara - Narendra Chanchal&quot;</td></tr><tr><td>2024-03-11 14:42:04 UTC</td><td>&quot;Mere Dil Mein Aaj Kya Hai&quot;</td></tr><tr><td>2024-03-11 14:40:31 UTC</td><td>&quot;Maine Tere Liye&quot;</td></tr><tr><td>2024-03-09 10:54:21 UTC</td><td>&quot;Tumhin Mere Mandir&quot;</td></tr><tr><td>2024-03-05 05:13:15 UTC</td><td>&quot;Mujhe Tum Yaad Karna&quot;</td></tr><tr><td>2024-03-03 15:35:23 UTC</td><td>&quot;Yeh Reshmi Zulfen&quot;</td></tr><tr><td>2024-03-01 18:27:46 UTC</td><td>&quot;Pukarta Chala Hoon Main - Mere Sanam&quot;</td></tr></tbody></table></div>"
      ],
      "text/plain": [
       "shape: (10, 2)\n",
       "┌─────────────────────────┬───────────────────────────────────────────┐\n",
       "│ added_at                ┆ track_name                                │\n",
       "│ ---                     ┆ ---                                       │\n",
       "│ datetime[μs, UTC]       ┆ str                                       │\n",
       "╞═════════════════════════╪═══════════════════════════════════════════╡\n",
       "│ 2024-03-17 08:10:33 UTC ┆ Tere Naam Ka Diwana - From \"Suraj Aur Ch… │\n",
       "│ 2024-03-15 09:09:42 UTC ┆ Saathiya Nahin Jana Revival Film - Aya S… │\n",
       "│ 2024-03-13 08:04:12 UTC ┆ Solah Baras Ki Bali Umar                  │\n",
       "│ 2024-03-13 06:34:48 UTC ┆ Yaara O Yaara - Narendra Chanchal         │\n",
       "│ 2024-03-11 14:42:04 UTC ┆ Mere Dil Mein Aaj Kya Hai                 │\n",
       "│ 2024-03-11 14:40:31 UTC ┆ Maine Tere Liye                           │\n",
       "│ 2024-03-09 10:54:21 UTC ┆ Tumhin Mere Mandir                        │\n",
       "│ 2024-03-05 05:13:15 UTC ┆ Mujhe Tum Yaad Karna                      │\n",
       "│ 2024-03-03 15:35:23 UTC ┆ Yeh Reshmi Zulfen                         │\n",
       "│ 2024-03-01 18:27:46 UTC ┆ Pukarta Chala Hoon Main - Mere Sanam      │\n",
       "└─────────────────────────┴───────────────────────────────────────────┘"
      ]
     },
     "execution_count": 103,
     "metadata": {},
     "output_type": "execute_result"
    }
   ],
   "source": [
    "# Last n tracks added in playlist\n",
    "(\n",
    "    data.select(\"added_at\", \"track_name\")\n",
    "    .with_columns(\n",
    "        pl.col(\"added_at\").str.to_datetime(),\n",
    "    )\n",
    "    .top_k(10, by=\"added_at\")\n",
    ")"
   ]
  },
  {
   "cell_type": "code",
   "execution_count": 107,
   "metadata": {},
   "outputs": [
    {
     "data": {
      "text/html": [
       "<div><style>\n",
       ".dataframe > thead > tr,\n",
       ".dataframe > tbody > tr {\n",
       "  text-align: right;\n",
       "  white-space: pre-wrap;\n",
       "}\n",
       "</style>\n",
       "<small>shape: (0, 2)</small><table border=\"1\" class=\"dataframe\"><thead><tr><th>track_name</th><th>album_name</th></tr><tr><td>str</td><td>str</td></tr></thead><tbody></tbody></table></div>"
      ],
      "text/plain": [
       "shape: (0, 2)\n",
       "┌────────────┬────────────┐\n",
       "│ track_name ┆ album_name │\n",
       "│ ---        ┆ ---        │\n",
       "│ str        ┆ str        │\n",
       "╞════════════╪════════════╡\n",
       "└────────────┴────────────┘"
      ]
     },
     "execution_count": 107,
     "metadata": {},
     "output_type": "execute_result"
    }
   ],
   "source": [
    "# Explicit tracks in playlist\n",
    "data.filter(pl.col(\"explicit\").eq(True)).select(\"track_name\", \"album_name\")"
   ]
  },
  {
   "cell_type": "code",
   "execution_count": 108,
   "metadata": {},
   "outputs": [
    {
     "data": {
      "text/html": [
       "<div><style>\n",
       ".dataframe > thead > tr,\n",
       ".dataframe > tbody > tr {\n",
       "  text-align: right;\n",
       "  white-space: pre-wrap;\n",
       "}\n",
       "</style>\n",
       "<small>shape: (10, 2)</small><table border=\"1\" class=\"dataframe\"><thead><tr><th>popularity</th><th>track_name</th></tr><tr><td>i64</td><td>str</td></tr></thead><tbody><tr><td>66</td><td>&quot;Hoshwalon Ko Khabar Kya&quot;</td></tr><tr><td>64</td><td>&quot;Kya Hua Tera Vada&quot;</td></tr><tr><td>63</td><td>&quot;Ek Ajnabee Haseena Se&quot;</td></tr><tr><td>63</td><td>&quot;Mere Mehboob Qayamat Hogi&quot;</td></tr><tr><td>63</td><td>&quot;Main Pal Do Pal Ka Shair Hoon&quot;</td></tr><tr><td>62</td><td>&quot;Pal Pal Dil Ke Paas - From &quot;Blackmail&quot;&quot;</td></tr><tr><td>61</td><td>&quot;Gulabi Ankhen - From &quot;The Train&quot;&quot;</td></tr><tr><td>61</td><td>&quot;Bade Achhe Lagte Hain&quot;</td></tr><tr><td>60</td><td>&quot;Likhe Jo Khat Tujhe&quot;</td></tr><tr><td>60</td><td>&quot;Kahin Door Jab Din Dhal Jaye&quot;</td></tr></tbody></table></div>"
      ],
      "text/plain": [
       "shape: (10, 2)\n",
       "┌────────────┬────────────────────────────────────────┐\n",
       "│ popularity ┆ track_name                             │\n",
       "│ ---        ┆ ---                                    │\n",
       "│ i64        ┆ str                                    │\n",
       "╞════════════╪════════════════════════════════════════╡\n",
       "│ 66         ┆ Hoshwalon Ko Khabar Kya                │\n",
       "│ 64         ┆ Kya Hua Tera Vada                      │\n",
       "│ 63         ┆ Ek Ajnabee Haseena Se                  │\n",
       "│ 63         ┆ Mere Mehboob Qayamat Hogi              │\n",
       "│ 63         ┆ Main Pal Do Pal Ka Shair Hoon          │\n",
       "│ 62         ┆ Pal Pal Dil Ke Paas - From \"Blackmail\" │\n",
       "│ 61         ┆ Gulabi Ankhen - From \"The Train\"       │\n",
       "│ 61         ┆ Bade Achhe Lagte Hain                  │\n",
       "│ 60         ┆ Likhe Jo Khat Tujhe                    │\n",
       "│ 60         ┆ Kahin Door Jab Din Dhal Jaye           │\n",
       "└────────────┴────────────────────────────────────────┘"
      ]
     },
     "execution_count": 108,
     "metadata": {},
     "output_type": "execute_result"
    }
   ],
   "source": [
    "data.select(\"popularity\", \"track_name\").top_k(10, by=\"popularity\")"
   ]
  },
  {
   "cell_type": "code",
   "execution_count": 110,
   "metadata": {},
   "outputs": [
    {
     "data": {
      "text/html": [
       "<div><style>\n",
       ".dataframe > thead > tr,\n",
       ".dataframe > tbody > tr {\n",
       "  text-align: right;\n",
       "  white-space: pre-wrap;\n",
       "}\n",
       "</style>\n",
       "<small>shape: (10, 2)</small><table border=\"1\" class=\"dataframe\"><thead><tr><th>popularity</th><th>track_name</th></tr><tr><td>i64</td><td>str</td></tr></thead><tbody><tr><td>11</td><td>&quot;Saathiya Nahin Jana Revival Film - Aya …</td></tr><tr><td>12</td><td>&quot;Chanda Ko Dhundne - Pt. 1&quot;</td></tr><tr><td>12</td><td>&quot;Pardesiyon Se Na Ankhiyan Milana - Male…</td></tr><tr><td>13</td><td>&quot;Jo Hamne Daastaan Apnee&quot;</td></tr><tr><td>13</td><td>&quot;Pukarta Chala Hoon Main - Mere Sanam&quot;</td></tr><tr><td>13</td><td>&quot;Palkon Ke Peechhe Se&quot;</td></tr><tr><td>13</td><td>&quot;Teri Aankhon Ke Siva - Female Vocals&quot;</td></tr><tr><td>14</td><td>&quot;Mera Saaya Saath Hoga&quot;</td></tr><tr><td>14</td><td>&quot;Haule Haule Chalo Mere Sajna&quot;</td></tr><tr><td>15</td><td>&quot;Kiss Kiss Se Pyar Karoon&quot;</td></tr></tbody></table></div>"
      ],
      "text/plain": [
       "shape: (10, 2)\n",
       "┌────────────┬───────────────────────────────────────────┐\n",
       "│ popularity ┆ track_name                                │\n",
       "│ ---        ┆ ---                                       │\n",
       "│ i64        ┆ str                                       │\n",
       "╞════════════╪═══════════════════════════════════════════╡\n",
       "│ 11         ┆ Saathiya Nahin Jana Revival Film - Aya S… │\n",
       "│ 12         ┆ Chanda Ko Dhundne - Pt. 1                 │\n",
       "│ 12         ┆ Pardesiyon Se Na Ankhiyan Milana - Male … │\n",
       "│ 13         ┆ Jo Hamne Daastaan Apnee                   │\n",
       "│ 13         ┆ Pukarta Chala Hoon Main - Mere Sanam      │\n",
       "│ 13         ┆ Palkon Ke Peechhe Se                      │\n",
       "│ 13         ┆ Teri Aankhon Ke Siva - Female Vocals      │\n",
       "│ 14         ┆ Mera Saaya Saath Hoga                     │\n",
       "│ 14         ┆ Haule Haule Chalo Mere Sajna              │\n",
       "│ 15         ┆ Kiss Kiss Se Pyar Karoon                  │\n",
       "└────────────┴───────────────────────────────────────────┘"
      ]
     },
     "execution_count": 110,
     "metadata": {},
     "output_type": "execute_result"
    }
   ],
   "source": [
    "data.select(\"popularity\", \"track_name\").filter(pl.col(\"popularity\").gt(0)).bottom_k(\n",
    "    10, by=\"popularity\"\n",
    ")"
   ]
  },
  {
   "cell_type": "code",
   "execution_count": 111,
   "metadata": {},
   "outputs": [
    {
     "data": {
      "text/html": [
       "<div><style>\n",
       ".dataframe > thead > tr,\n",
       ".dataframe > tbody > tr {\n",
       "  text-align: right;\n",
       "  white-space: pre-wrap;\n",
       "}\n",
       "</style>\n",
       "<small>shape: (19, 2)</small><table border=\"1\" class=\"dataframe\"><thead><tr><th>popularity</th><th>track_name</th></tr><tr><td>i64</td><td>str</td></tr></thead><tbody><tr><td>0</td><td>&quot;Chala Jata Hoon&quot;</td></tr><tr><td>0</td><td>&quot;Hai apna dil to aawara&quot;</td></tr><tr><td>0</td><td>&quot;Kora Kagaz Tha Yeh Man Mera&quot;</td></tr><tr><td>0</td><td>&quot;Bachna Ae Hasinon Lo Main Aa Gaya - Fro…</td></tr><tr><td>0</td><td>&quot;Is Mod Se Jate Hain&quot;</td></tr><tr><td>0</td><td>&quot;Zindagi Ka Safar - From &quot;Safar&quot;&quot;</td></tr><tr><td>0</td><td>&quot;Ek Chatur Naar Karke Sringar - From &quot;Pa…</td></tr><tr><td>0</td><td>&quot;Lekar Hum Diwana Dil - Duet Version&quot;</td></tr><tr><td>0</td><td>&quot;Kanchi Re Kanchi Re - From &quot;Hare Rama H…</td></tr><tr><td>0</td><td>&quot;Ek Hasina Thi Ek Diwana Tha&quot;</td></tr><tr><td>0</td><td>&quot;Phir Wohi Raat Hai Khwab Ki - From &quot;Gha…</td></tr><tr><td>0</td><td>&quot;Dil Aesa Kisine Mera Toda - From &quot;Amanu…</td></tr><tr><td>0</td><td>&quot;Diwana Leke Aaya Hai - From &quot;Mere Jeeva…</td></tr><tr><td>0</td><td>&quot;Meet Na Mila Re Man Ka&quot;</td></tr><tr><td>0</td><td>&quot;Jahan Chaar Yaar Mil Jayen - From &quot;Shar…</td></tr><tr><td>0</td><td>&quot;Tujh Sang Preet - From &quot;Kaamchor&quot;&quot;</td></tr><tr><td>0</td><td>&quot;Main Shair Badnaam - From &quot;Namak Haraam…</td></tr><tr><td>0</td><td>&quot;Aa Chal Ke Tujhe&quot;</td></tr><tr><td>0</td><td>&quot;Aaye Tum Yaad Mujhe - From &quot;Mili&quot;&quot;</td></tr></tbody></table></div>"
      ],
      "text/plain": [
       "shape: (19, 2)\n",
       "┌────────────┬───────────────────────────────────────────┐\n",
       "│ popularity ┆ track_name                                │\n",
       "│ ---        ┆ ---                                       │\n",
       "│ i64        ┆ str                                       │\n",
       "╞════════════╪═══════════════════════════════════════════╡\n",
       "│ 0          ┆ Chala Jata Hoon                           │\n",
       "│ 0          ┆ Hai apna dil to aawara                    │\n",
       "│ 0          ┆ Kora Kagaz Tha Yeh Man Mera               │\n",
       "│ 0          ┆ Bachna Ae Hasinon Lo Main Aa Gaya - From… │\n",
       "│ 0          ┆ Is Mod Se Jate Hain                       │\n",
       "│ …          ┆ …                                         │\n",
       "│ 0          ┆ Jahan Chaar Yaar Mil Jayen - From \"Shara… │\n",
       "│ 0          ┆ Tujh Sang Preet - From \"Kaamchor\"         │\n",
       "│ 0          ┆ Main Shair Badnaam - From \"Namak Haraam\"  │\n",
       "│ 0          ┆ Aa Chal Ke Tujhe                          │\n",
       "│ 0          ┆ Aaye Tum Yaad Mujhe - From \"Mili\"         │\n",
       "└────────────┴───────────────────────────────────────────┘"
      ]
     },
     "execution_count": 111,
     "metadata": {},
     "output_type": "execute_result"
    }
   ],
   "source": [
    "data.select(\"popularity\", \"track_name\").filter(pl.col(\"popularity\").eq(0))"
   ]
  },
  {
   "cell_type": "code",
   "execution_count": 112,
   "metadata": {},
   "outputs": [
    {
     "data": {
      "text/html": [
       "<div><style>\n",
       ".dataframe > thead > tr,\n",
       ".dataframe > tbody > tr {\n",
       "  text-align: right;\n",
       "  white-space: pre-wrap;\n",
       "}\n",
       "</style>\n",
       "<small>shape: (3, 2)</small><table border=\"1\" class=\"dataframe\"><thead><tr><th>album_type</th><th>count</th></tr><tr><td>str</td><td>u32</td></tr></thead><tbody><tr><td>&quot;album&quot;</td><td>226</td></tr><tr><td>&quot;compilation&quot;</td><td>25</td></tr><tr><td>&quot;single&quot;</td><td>42</td></tr></tbody></table></div>"
      ],
      "text/plain": [
       "shape: (3, 2)\n",
       "┌─────────────┬───────┐\n",
       "│ album_type  ┆ count │\n",
       "│ ---         ┆ ---   │\n",
       "│ str         ┆ u32   │\n",
       "╞═════════════╪═══════╡\n",
       "│ album       ┆ 226   │\n",
       "│ compilation ┆ 25    │\n",
       "│ single      ┆ 42    │\n",
       "└─────────────┴───────┘"
      ]
     },
     "execution_count": 112,
     "metadata": {},
     "output_type": "execute_result"
    }
   ],
   "source": [
    "data[\"album_type\"].value_counts()"
   ]
  },
  {
   "cell_type": "code",
   "execution_count": 21,
   "metadata": {},
   "outputs": [
    {
     "data": {
      "text/html": [
       "<div><style>\n",
       ".dataframe > thead > tr,\n",
       ".dataframe > tbody > tr {\n",
       "  text-align: right;\n",
       "  white-space: pre-wrap;\n",
       "}\n",
       "</style>\n",
       "<small>shape: (10, 2)</small><table border=\"1\" class=\"dataframe\"><thead><tr><th>added_at</th><th>len</th></tr><tr><td>date</td><td>u32</td></tr></thead><tbody><tr><td>2024-02-21</td><td>33</td></tr><tr><td>2022-08-27</td><td>31</td></tr><tr><td>2024-01-06</td><td>28</td></tr><tr><td>2022-08-02</td><td>19</td></tr><tr><td>2023-04-19</td><td>18</td></tr><tr><td>2023-11-04</td><td>18</td></tr><tr><td>2024-02-22</td><td>16</td></tr><tr><td>2023-04-26</td><td>11</td></tr><tr><td>2023-09-22</td><td>10</td></tr><tr><td>2023-12-31</td><td>10</td></tr></tbody></table></div>"
      ],
      "text/plain": [
       "shape: (10, 2)\n",
       "┌────────────┬─────┐\n",
       "│ added_at   ┆ len │\n",
       "│ ---        ┆ --- │\n",
       "│ date       ┆ u32 │\n",
       "╞════════════╪═════╡\n",
       "│ 2024-02-21 ┆ 33  │\n",
       "│ 2022-08-27 ┆ 31  │\n",
       "│ 2024-01-06 ┆ 28  │\n",
       "│ 2022-08-02 ┆ 19  │\n",
       "│ 2023-04-19 ┆ 18  │\n",
       "│ 2023-11-04 ┆ 18  │\n",
       "│ 2024-02-22 ┆ 16  │\n",
       "│ 2023-04-26 ┆ 11  │\n",
       "│ 2023-09-22 ┆ 10  │\n",
       "│ 2023-12-31 ┆ 10  │\n",
       "└────────────┴─────┘"
      ]
     },
     "execution_count": 21,
     "metadata": {},
     "output_type": "execute_result"
    }
   ],
   "source": [
    "data.group_by(\n",
    "    pl.col(\"added_at\").dt.date().alias('date'),\n",
    ").len().top_k(10, by=\"len\")"
   ]
  },
  {
   "cell_type": "code",
   "execution_count": 24,
   "metadata": {},
   "outputs": [
    {
     "data": {
      "text/html": [
       "<div><style>\n",
       ".dataframe > thead > tr,\n",
       ".dataframe > tbody > tr {\n",
       "  text-align: right;\n",
       "  white-space: pre-wrap;\n",
       "}\n",
       "</style>\n",
       "<small>shape: (10, 3)</small><table border=\"1\" class=\"dataframe\"><thead><tr><th>year</th><th>month</th><th>len</th></tr><tr><td>i32</td><td>i8</td><td>u32</td></tr></thead><tbody><tr><td>2022</td><td>8</td><td>55</td></tr><tr><td>2024</td><td>2</td><td>50</td></tr><tr><td>2024</td><td>1</td><td>35</td></tr><tr><td>2023</td><td>4</td><td>34</td></tr><tr><td>2023</td><td>9</td><td>21</td></tr><tr><td>2023</td><td>11</td><td>21</td></tr><tr><td>2023</td><td>10</td><td>16</td></tr><tr><td>2023</td><td>12</td><td>15</td></tr><tr><td>2024</td><td>3</td><td>10</td></tr><tr><td>2023</td><td>5</td><td>7</td></tr></tbody></table></div>"
      ],
      "text/plain": [
       "shape: (10, 3)\n",
       "┌──────┬───────┬─────┐\n",
       "│ year ┆ month ┆ len │\n",
       "│ ---  ┆ ---   ┆ --- │\n",
       "│ i32  ┆ i8    ┆ u32 │\n",
       "╞══════╪═══════╪═════╡\n",
       "│ 2022 ┆ 8     ┆ 55  │\n",
       "│ 2024 ┆ 2     ┆ 50  │\n",
       "│ 2024 ┆ 1     ┆ 35  │\n",
       "│ 2023 ┆ 4     ┆ 34  │\n",
       "│ 2023 ┆ 9     ┆ 21  │\n",
       "│ 2023 ┆ 11    ┆ 21  │\n",
       "│ 2023 ┆ 10    ┆ 16  │\n",
       "│ 2023 ┆ 12    ┆ 15  │\n",
       "│ 2024 ┆ 3     ┆ 10  │\n",
       "│ 2023 ┆ 5     ┆ 7   │\n",
       "└──────┴───────┴─────┘"
      ]
     },
     "execution_count": 24,
     "metadata": {},
     "output_type": "execute_result"
    }
   ],
   "source": [
    "data.group_by(\n",
    "    pl.col(\"added_at\").dt.year().alias(\"year\"),\n",
    "    pl.col(\"added_at\").dt.month().alias(\"month\"),\n",
    ").len().top_k(10, by=\"len\")"
   ]
  },
  {
   "cell_type": "code",
   "execution_count": 25,
   "metadata": {},
   "outputs": [
    {
     "data": {
      "text/html": [
       "<div><style>\n",
       ".dataframe > thead > tr,\n",
       ".dataframe > tbody > tr {\n",
       "  text-align: right;\n",
       "  white-space: pre-wrap;\n",
       "}\n",
       "</style>\n",
       "<small>shape: (3, 2)</small><table border=\"1\" class=\"dataframe\"><thead><tr><th>year</th><th>len</th></tr><tr><td>i32</td><td>u32</td></tr></thead><tbody><tr><td>2023</td><td>128</td></tr><tr><td>2024</td><td>95</td></tr><tr><td>2022</td><td>70</td></tr></tbody></table></div>"
      ],
      "text/plain": [
       "shape: (3, 2)\n",
       "┌──────┬─────┐\n",
       "│ year ┆ len │\n",
       "│ ---  ┆ --- │\n",
       "│ i32  ┆ u32 │\n",
       "╞══════╪═════╡\n",
       "│ 2023 ┆ 128 │\n",
       "│ 2024 ┆ 95  │\n",
       "│ 2022 ┆ 70  │\n",
       "└──────┴─────┘"
      ]
     },
     "execution_count": 25,
     "metadata": {},
     "output_type": "execute_result"
    }
   ],
   "source": [
    "data.group_by(\n",
    "    pl.col(\"added_at\").dt.year().alias(\"year\"),\n",
    ").len().top_k(10, by=\"len\")"
   ]
  }
 ],
 "metadata": {
  "kernelspec": {
   "display_name": ".venv",
   "language": "python",
   "name": "python3"
  },
  "language_info": {
   "codemirror_mode": {
    "name": "ipython",
    "version": 3
   },
   "file_extension": ".py",
   "mimetype": "text/x-python",
   "name": "python",
   "nbconvert_exporter": "python",
   "pygments_lexer": "ipython3",
   "version": "3.11.8"
  }
 },
 "nbformat": 4,
 "nbformat_minor": 2
}
