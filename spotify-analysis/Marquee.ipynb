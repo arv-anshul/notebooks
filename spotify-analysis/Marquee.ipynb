{
 "cells": [
  {
   "cell_type": "code",
   "execution_count": 1,
   "metadata": {},
   "outputs": [],
   "source": [
    "import polars as pl"
   ]
  },
  {
   "cell_type": "code",
   "execution_count": 4,
   "metadata": {},
   "outputs": [
    {
     "data": {
      "text/plain": [
       "polars.config.Config"
      ]
     },
     "execution_count": 4,
     "metadata": {},
     "output_type": "execute_result"
    }
   ],
   "source": [
    "pl.Config.set_fmt_str_lengths(40)"
   ]
  },
  {
   "cell_type": "code",
   "execution_count": 5,
   "metadata": {},
   "outputs": [
    {
     "name": "stdout",
     "output_type": "stream",
     "text": [
      "(1627, 2)\n"
     ]
    },
    {
     "data": {
      "text/html": [
       "<div><style>\n",
       ".dataframe > thead > tr,\n",
       ".dataframe > tbody > tr {\n",
       "  text-align: right;\n",
       "  white-space: pre-wrap;\n",
       "}\n",
       "</style>\n",
       "<small>shape: (5, 2)</small><table border=\"1\" class=\"dataframe\"><thead><tr><th>artistName</th><th>segment</th></tr><tr><td>str</td><td>str</td></tr></thead><tbody><tr><td>&quot;Shubham Shirule&quot;</td><td>&quot;Previously Active Listeners&quot;</td></tr><tr><td>&quot;Srinisha Jayaseelan&quot;</td><td>&quot;Previously Active Listeners&quot;</td></tr><tr><td>&quot;Billie Eilish&quot;</td><td>&quot;Previously Active Listeners&quot;</td></tr><tr><td>&quot;Thalapathy Vijay&quot;</td><td>&quot;Previously Active Listeners&quot;</td></tr><tr><td>&quot;Gurpreet Saini&quot;</td><td>&quot;Previously Active Listeners&quot;</td></tr></tbody></table></div>"
      ],
      "text/plain": [
       "shape: (5, 2)\n",
       "┌─────────────────────┬─────────────────────────────┐\n",
       "│ artistName          ┆ segment                     │\n",
       "│ ---                 ┆ ---                         │\n",
       "│ str                 ┆ str                         │\n",
       "╞═════════════════════╪═════════════════════════════╡\n",
       "│ Shubham Shirule     ┆ Previously Active Listeners │\n",
       "│ Srinisha Jayaseelan ┆ Previously Active Listeners │\n",
       "│ Billie Eilish       ┆ Previously Active Listeners │\n",
       "│ Thalapathy Vijay    ┆ Previously Active Listeners │\n",
       "│ Gurpreet Saini      ┆ Previously Active Listeners │\n",
       "└─────────────────────┴─────────────────────────────┘"
      ]
     },
     "execution_count": 5,
     "metadata": {},
     "output_type": "execute_result"
    }
   ],
   "source": [
    "df = pl.read_json(\"data.arv/Spotify Account Data/Marquee.json\")\n",
    "print(df.shape)\n",
    "df.head()"
   ]
  },
  {
   "cell_type": "code",
   "execution_count": 6,
   "metadata": {},
   "outputs": [
    {
     "data": {
      "text/html": [
       "<div><style>\n",
       ".dataframe > thead > tr,\n",
       ".dataframe > tbody > tr {\n",
       "  text-align: right;\n",
       "  white-space: pre-wrap;\n",
       "}\n",
       "</style>\n",
       "<small>shape: (4, 2)</small><table border=\"1\" class=\"dataframe\"><thead><tr><th>segment</th><th>count</th></tr><tr><td>str</td><td>u32</td></tr></thead><tbody><tr><td>&quot;Super Listeners&quot;</td><td>10</td></tr><tr><td>&quot;Previously Active Listeners&quot;</td><td>1447</td></tr><tr><td>&quot;Light listeners&quot;</td><td>130</td></tr><tr><td>&quot;Moderate listeners&quot;</td><td>40</td></tr></tbody></table></div>"
      ],
      "text/plain": [
       "shape: (4, 2)\n",
       "┌─────────────────────────────┬───────┐\n",
       "│ segment                     ┆ count │\n",
       "│ ---                         ┆ ---   │\n",
       "│ str                         ┆ u32   │\n",
       "╞═════════════════════════════╪═══════╡\n",
       "│ Super Listeners             ┆ 10    │\n",
       "│ Previously Active Listeners ┆ 1447  │\n",
       "│ Light listeners             ┆ 130   │\n",
       "│ Moderate listeners          ┆ 40    │\n",
       "└─────────────────────────────┴───────┘"
      ]
     },
     "execution_count": 6,
     "metadata": {},
     "output_type": "execute_result"
    }
   ],
   "source": [
    "df.get_column(\"segment\").value_counts()"
   ]
  },
  {
   "cell_type": "code",
   "execution_count": 10,
   "metadata": {},
   "outputs": [
    {
     "data": {
      "text/plain": [
       "1619"
      ]
     },
     "execution_count": 10,
     "metadata": {},
     "output_type": "execute_result"
    }
   ],
   "source": [
    "# Unique artists\n",
    "df.get_column(\"artistName\").n_unique()"
   ]
  },
  {
   "cell_type": "code",
   "execution_count": 11,
   "metadata": {},
   "outputs": [
    {
     "data": {
      "text/html": [
       "<div><style>\n",
       ".dataframe > thead > tr,\n",
       ".dataframe > tbody > tr {\n",
       "  text-align: right;\n",
       "  white-space: pre-wrap;\n",
       "}\n",
       "</style>\n",
       "<small>shape: (16,)</small><table border=\"1\" class=\"dataframe\"><thead><tr><th>artistName</th></tr><tr><td>str</td></tr></thead><tbody><tr><td>&quot;Ibara&quot;</td></tr><tr><td>&quot;Mohan Kannan&quot;</td></tr><tr><td>&quot;Rico&quot;</td></tr><tr><td>&quot;S.P. Charan&quot;</td></tr><tr><td>&quot;Rico&quot;</td></tr><tr><td>&quot;S.P. Charan&quot;</td></tr><tr><td>&quot;Ibara&quot;</td></tr><tr><td>&quot;Toshi&quot;</td></tr><tr><td>&quot;Romy&quot;</td></tr><tr><td>&quot;Mohan Kannan&quot;</td></tr><tr><td>&quot;Toshi&quot;</td></tr><tr><td>&quot;Alex Benjamin&quot;</td></tr><tr><td>&quot;AMAN&quot;</td></tr><tr><td>&quot;AMAN&quot;</td></tr><tr><td>&quot;Romy&quot;</td></tr><tr><td>&quot;Alex Benjamin&quot;</td></tr></tbody></table></div>"
      ],
      "text/plain": [
       "shape: (16,)\n",
       "Series: 'artistName' [str]\n",
       "[\n",
       "\t\"Ibara\"\n",
       "\t\"Mohan Kannan\"\n",
       "\t\"Rico\"\n",
       "\t\"S.P. Charan\"\n",
       "\t\"Rico\"\n",
       "\t\"S.P. Charan\"\n",
       "\t\"Ibara\"\n",
       "\t\"Toshi\"\n",
       "\t\"Romy\"\n",
       "\t\"Mohan Kannan\"\n",
       "\t\"Toshi\"\n",
       "\t\"Alex Benjamin\"\n",
       "\t\"AMAN\"\n",
       "\t\"AMAN\"\n",
       "\t\"Romy\"\n",
       "\t\"Alex Benjamin\"\n",
       "]"
      ]
     },
     "execution_count": 11,
     "metadata": {},
     "output_type": "execute_result"
    }
   ],
   "source": [
    "# Duplicated artists\n",
    "df.get_column(\"artistName\").filter(\n",
    "    df.get_column(\"artistName\").is_duplicated(),\n",
    ")"
   ]
  },
  {
   "cell_type": "code",
   "execution_count": 15,
   "metadata": {},
   "outputs": [
    {
     "data": {
      "text/html": [
       "<div><style>\n",
       ".dataframe > thead > tr,\n",
       ".dataframe > tbody > tr {\n",
       "  text-align: right;\n",
       "  white-space: pre-wrap;\n",
       "}\n",
       "</style>\n",
       "<small>shape: (10,)</small><table border=\"1\" class=\"dataframe\"><thead><tr><th>artistName</th></tr><tr><td>str</td></tr></thead><tbody><tr><td>&quot;Ankur Tewari&quot;</td></tr><tr><td>&quot;Bayaan&quot;</td></tr><tr><td>&quot;Bharat Chauhan&quot;</td></tr><tr><td>&quot;Big Thief&quot;</td></tr><tr><td>&quot;Christopher Bear&quot;</td></tr><tr><td>&quot;Daniel Rossen&quot;</td></tr><tr><td>&quot;Kaavish&quot;</td></tr><tr><td>&quot;Osho Jain&quot;</td></tr><tr><td>&quot;Prateek Kuhad&quot;</td></tr><tr><td>&quot;Villagers&quot;</td></tr></tbody></table></div>"
      ],
      "text/plain": [
       "shape: (10,)\n",
       "Series: 'artistName' [str]\n",
       "[\n",
       "\t\"Ankur Tewari\"\n",
       "\t\"Bayaan\"\n",
       "\t\"Bharat Chauhan\"\n",
       "\t\"Big Thief\"\n",
       "\t\"Christopher Bear\"\n",
       "\t\"Daniel Rossen\"\n",
       "\t\"Kaavish\"\n",
       "\t\"Osho Jain\"\n",
       "\t\"Prateek Kuhad\"\n",
       "\t\"Villagers\"\n",
       "]"
      ]
     },
     "execution_count": 15,
     "metadata": {},
     "output_type": "execute_result"
    }
   ],
   "source": [
    "df.filter(\n",
    "    pl.col(\"segment\").eq(\"Super Listeners\"),\n",
    ").get_column(\"artistName\").sort()"
   ]
  },
  {
   "cell_type": "code",
   "execution_count": 16,
   "metadata": {},
   "outputs": [
    {
     "data": {
      "text/html": [
       "<div><style>\n",
       ".dataframe > thead > tr,\n",
       ".dataframe > tbody > tr {\n",
       "  text-align: right;\n",
       "  white-space: pre-wrap;\n",
       "}\n",
       "</style>\n",
       "<small>shape: (40,)</small><table border=\"1\" class=\"dataframe\"><thead><tr><th>artistName</th></tr><tr><td>str</td></tr></thead><tbody><tr><td>&quot;Abhin &amp; Tanish&quot;</td></tr><tr><td>&quot;Abir&quot;</td></tr><tr><td>&quot;Adrianne Lenker&quot;</td></tr><tr><td>&quot;Arijit Singh&quot;</td></tr><tr><td>&quot;B. Ajaneesh Loknath&quot;</td></tr><tr><td>&quot;Babul Supriyo&quot;</td></tr><tr><td>&quot;Belle and Sebastian&quot;</td></tr><tr><td>&quot;Enrique Iglesias&quot;</td></tr><tr><td>&quot;Fiza Sharma&quot;</td></tr><tr><td>&quot;Garvit - Priyansh&quot;</td></tr><tr><td>&quot;Garvit Soni&quot;</td></tr><tr><td>&quot;JUNO&quot;</td></tr><tr><td>&hellip;</td></tr><tr><td>&quot;Sanjana Devarajan&quot;</td></tr><tr><td>&quot;Shantanu Moitra&quot;</td></tr><tr><td>&quot;Sharon Van Etten&quot;</td></tr><tr><td>&quot;Shreya Ghoshal&quot;</td></tr><tr><td>&quot;Shubham Kabra&quot;</td></tr><tr><td>&quot;Sonu Nigam&quot;</td></tr><tr><td>&quot;Sufjan Stevens&quot;</td></tr><tr><td>&quot;Tanmaya Bhatnagar&quot;</td></tr><tr><td>&quot;Taylor Swift&quot;</td></tr><tr><td>&quot;Various Artists&quot;</td></tr><tr><td>&quot;Vasuda Sharma&quot;</td></tr><tr><td>&quot;Zeeshan Ali&quot;</td></tr></tbody></table></div>"
      ],
      "text/plain": [
       "shape: (40,)\n",
       "Series: 'artistName' [str]\n",
       "[\n",
       "\t\"Abhin & Tanish\"\n",
       "\t\"Abir\"\n",
       "\t\"Adrianne Lenker\"\n",
       "\t\"Arijit Singh\"\n",
       "\t\"B. Ajaneesh Loknath\"\n",
       "\t\"Babul Supriyo\"\n",
       "\t\"Belle and Sebastian\"\n",
       "\t\"Enrique Iglesias\"\n",
       "\t\"Fiza Sharma\"\n",
       "\t\"Garvit - Priyansh\"\n",
       "\t\"Garvit Soni\"\n",
       "\t\"JUNO\"\n",
       "\t…\n",
       "\t\"Samarth Saxena\"\n",
       "\t\"Sanjana Devarajan\"\n",
       "\t\"Shantanu Moitra\"\n",
       "\t\"Sharon Van Etten\"\n",
       "\t\"Shreya Ghoshal\"\n",
       "\t\"Shubham Kabra\"\n",
       "\t\"Sonu Nigam\"\n",
       "\t\"Sufjan Stevens\"\n",
       "\t\"Tanmaya Bhatnagar\"\n",
       "\t\"Taylor Swift\"\n",
       "\t\"Various Artists\"\n",
       "\t\"Vasuda Sharma\"\n",
       "\t\"Zeeshan Ali\"\n",
       "]"
      ]
     },
     "execution_count": 16,
     "metadata": {},
     "output_type": "execute_result"
    }
   ],
   "source": [
    "df.filter(\n",
    "    pl.col(\"segment\").eq(\"Moderate listeners\"),\n",
    ").get_column(\"artistName\").sort()"
   ]
  },
  {
   "cell_type": "markdown",
   "metadata": {},
   "source": [
    "**Why this is important?**\n",
    "\n",
    "I can merge this dataset with `StreamingHistory.json` data. This helps to get some different insights with data.\n",
    "\n",
    "1. I can plot the playtime of each `segment`(s)."
   ]
  }
 ],
 "metadata": {
  "kernelspec": {
   "display_name": ".venv",
   "language": "python",
   "name": "python3"
  },
  "language_info": {
   "codemirror_mode": {
    "name": "ipython",
    "version": 3
   },
   "file_extension": ".py",
   "mimetype": "text/x-python",
   "name": "python",
   "nbconvert_exporter": "python",
   "pygments_lexer": "ipython3",
   "version": "3.11.7"
  }
 },
 "nbformat": 4,
 "nbformat_minor": 2
}
