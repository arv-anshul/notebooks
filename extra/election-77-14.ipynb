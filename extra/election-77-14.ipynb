{
 "cells": [
  {
   "cell_type": "code",
   "execution_count": 1,
   "metadata": {},
   "outputs": [],
   "source": [
    "import polars as pl\n",
    "from plotly import express as px"
   ]
  },
  {
   "cell_type": "markdown",
   "metadata": {},
   "source": [
    "## Election data from 1977 - 2014\n",
    "\n",
    "- **Website:** https://www.indiavotes.com/\n",
    "- **Dataset on Kaggle:** https://www.kaggle.com/datasets/awadhi123/indian-election-dataset"
   ]
  },
  {
   "cell_type": "code",
   "execution_count": 2,
   "metadata": {},
   "outputs": [
    {
     "name": "stdout",
     "output_type": "stream",
     "text": [
      "(73081, 11)\n"
     ]
    },
    {
     "data": {
      "text/html": [
       "<div><style>\n",
       ".dataframe > thead > tr,\n",
       ".dataframe > tbody > tr {\n",
       "  text-align: right;\n",
       "  white-space: pre-wrap;\n",
       "}\n",
       "</style>\n",
       "<small>shape: (5, 11)</small><table border=\"1\" class=\"dataframe\"><thead><tr><th>st_name</th><th>year</th><th>pc_no</th><th>pc_name</th><th>pc_type</th><th>cand_name</th><th>cand_sex</th><th>partyname</th><th>partyabbre</th><th>totvotpoll</th><th>electors</th></tr><tr><td>str</td><td>i64</td><td>i64</td><td>str</td><td>str</td><td>str</td><td>str</td><td>str</td><td>str</td><td>i64</td><td>i64</td></tr></thead><tbody><tr><td>&quot;Andaman &amp; Nicobar Islands&quot;</td><td>1977</td><td>1</td><td>&quot;Andaman &amp; Nicobar Islands&quot;</td><td>&quot;GEN&quot;</td><td>&quot;K.R. Ganesh&quot;</td><td>&quot;M&quot;</td><td>&quot;Independents&quot;</td><td>&quot;IND&quot;</td><td>25168</td><td>85308</td></tr><tr><td>&quot;Andaman &amp; Nicobar Islands&quot;</td><td>1977</td><td>1</td><td>&quot;Andaman &amp; Nicobar Islands&quot;</td><td>&quot;GEN&quot;</td><td>&quot;Manoranjan Bhakta&quot;</td><td>&quot;M&quot;</td><td>&quot;Indian National Congress&quot;</td><td>&quot;INC&quot;</td><td>35400</td><td>85308</td></tr><tr><td>&quot;Andaman &amp; Nicobar Islands&quot;</td><td>1980</td><td>1</td><td>&quot;Andaman &amp; Nicobar Islands&quot;</td><td>&quot;GEN&quot;</td><td>&quot;Ramesh Mazumdar&quot;</td><td>&quot;M&quot;</td><td>&quot;Independents&quot;</td><td>&quot;IND&quot;</td><td>109</td><td>96084</td></tr><tr><td>&quot;Andaman &amp; Nicobar Islands&quot;</td><td>1980</td><td>1</td><td>&quot;Andaman &amp; Nicobar Islands&quot;</td><td>&quot;GEN&quot;</td><td>&quot;Alagiri Swamy&quot;</td><td>&quot;M&quot;</td><td>&quot;Independents&quot;</td><td>&quot;IND&quot;</td><td>125</td><td>96084</td></tr><tr><td>&quot;Andaman &amp; Nicobar Islands&quot;</td><td>1980</td><td>1</td><td>&quot;Andaman &amp; Nicobar Islands&quot;</td><td>&quot;GEN&quot;</td><td>&quot;Kannu Chemy&quot;</td><td>&quot;M&quot;</td><td>&quot;Independents&quot;</td><td>&quot;IND&quot;</td><td>405</td><td>96084</td></tr></tbody></table></div>"
      ],
      "text/plain": [
       "shape: (5, 11)\n",
       "┌──────────────┬──────┬───────┬─────────────┬───┬─────────────┬────────────┬────────────┬──────────┐\n",
       "│ st_name      ┆ year ┆ pc_no ┆ pc_name     ┆ … ┆ partyname   ┆ partyabbre ┆ totvotpoll ┆ electors │\n",
       "│ ---          ┆ ---  ┆ ---   ┆ ---         ┆   ┆ ---         ┆ ---        ┆ ---        ┆ ---      │\n",
       "│ str          ┆ i64  ┆ i64   ┆ str         ┆   ┆ str         ┆ str        ┆ i64        ┆ i64      │\n",
       "╞══════════════╪══════╪═══════╪═════════════╪═══╪═════════════╪════════════╪════════════╪══════════╡\n",
       "│ Andaman &    ┆ 1977 ┆ 1     ┆ Andaman &   ┆ … ┆ Independent ┆ IND        ┆ 25168      ┆ 85308    │\n",
       "│ Nicobar      ┆      ┆       ┆ Nicobar     ┆   ┆ s           ┆            ┆            ┆          │\n",
       "│ Islands      ┆      ┆       ┆ Islands     ┆   ┆             ┆            ┆            ┆          │\n",
       "│ Andaman &    ┆ 1977 ┆ 1     ┆ Andaman &   ┆ … ┆ Indian      ┆ INC        ┆ 35400      ┆ 85308    │\n",
       "│ Nicobar      ┆      ┆       ┆ Nicobar     ┆   ┆ National    ┆            ┆            ┆          │\n",
       "│ Islands      ┆      ┆       ┆ Islands     ┆   ┆ Congress    ┆            ┆            ┆          │\n",
       "│ Andaman &    ┆ 1980 ┆ 1     ┆ Andaman &   ┆ … ┆ Independent ┆ IND        ┆ 109        ┆ 96084    │\n",
       "│ Nicobar      ┆      ┆       ┆ Nicobar     ┆   ┆ s           ┆            ┆            ┆          │\n",
       "│ Islands      ┆      ┆       ┆ Islands     ┆   ┆             ┆            ┆            ┆          │\n",
       "│ Andaman &    ┆ 1980 ┆ 1     ┆ Andaman &   ┆ … ┆ Independent ┆ IND        ┆ 125        ┆ 96084    │\n",
       "│ Nicobar      ┆      ┆       ┆ Nicobar     ┆   ┆ s           ┆            ┆            ┆          │\n",
       "│ Islands      ┆      ┆       ┆ Islands     ┆   ┆             ┆            ┆            ┆          │\n",
       "│ Andaman &    ┆ 1980 ┆ 1     ┆ Andaman &   ┆ … ┆ Independent ┆ IND        ┆ 405        ┆ 96084    │\n",
       "│ Nicobar      ┆      ┆       ┆ Nicobar     ┆   ┆ s           ┆            ┆            ┆          │\n",
       "│ Islands      ┆      ┆       ┆ Islands     ┆   ┆             ┆            ┆            ┆          │\n",
       "└──────────────┴──────┴───────┴─────────────┴───┴─────────────┴────────────┴────────────┴──────────┘"
      ]
     },
     "execution_count": 2,
     "metadata": {},
     "output_type": "execute_result"
    }
   ],
   "source": [
    "df = pl.read_csv(\"extra/archive/indian-national-level-election.csv\")\n",
    "print(df.shape)\n",
    "df.head()"
   ]
  },
  {
   "cell_type": "code",
   "execution_count": 3,
   "metadata": {},
   "outputs": [
    {
     "data": {
      "text/html": [
       "<div><style>\n",
       ".dataframe > thead > tr,\n",
       ".dataframe > tbody > tr {\n",
       "  text-align: right;\n",
       "  white-space: pre-wrap;\n",
       "}\n",
       "</style>\n",
       "<small>shape: (11, 2)</small><table border=\"1\" class=\"dataframe\"><thead><tr><th>year</th><th>count</th></tr><tr><td>i64</td><td>u32</td></tr></thead><tbody><tr><td>1998</td><td>4740</td></tr><tr><td>2009</td><td>8070</td></tr><tr><td>1977</td><td>2439</td></tr><tr><td>1980</td><td>4629</td></tr><tr><td>1996</td><td>13940</td></tr><tr><td>&hellip;</td><td>&hellip;</td></tr><tr><td>1984</td><td>5492</td></tr><tr><td>1991</td><td>8744</td></tr><tr><td>2004</td><td>5435</td></tr><tr><td>2014</td><td>8794</td></tr><tr><td>1989</td><td>6156</td></tr></tbody></table></div>"
      ],
      "text/plain": [
       "shape: (11, 2)\n",
       "┌──────┬───────┐\n",
       "│ year ┆ count │\n",
       "│ ---  ┆ ---   │\n",
       "│ i64  ┆ u32   │\n",
       "╞══════╪═══════╡\n",
       "│ 1998 ┆ 4740  │\n",
       "│ 2009 ┆ 8070  │\n",
       "│ 1977 ┆ 2439  │\n",
       "│ 1980 ┆ 4629  │\n",
       "│ 1996 ┆ 13940 │\n",
       "│ …    ┆ …     │\n",
       "│ 1984 ┆ 5492  │\n",
       "│ 1991 ┆ 8744  │\n",
       "│ 2004 ┆ 5435  │\n",
       "│ 2014 ┆ 8794  │\n",
       "│ 1989 ┆ 6156  │\n",
       "└──────┴───────┘"
      ]
     },
     "execution_count": 3,
     "metadata": {},
     "output_type": "execute_result"
    }
   ],
   "source": [
    "df.get_column(\"year\").value_counts()"
   ]
  },
  {
   "cell_type": "code",
   "execution_count": 4,
   "metadata": {},
   "outputs": [
    {
     "data": {
      "text/html": [
       "<div><style>\n",
       ".dataframe > thead > tr,\n",
       ".dataframe > tbody > tr {\n",
       "  text-align: right;\n",
       "  white-space: pre-wrap;\n",
       "}\n",
       "</style>\n",
       "<small>shape: (5, 2)</small><table border=\"1\" class=\"dataframe\"><thead><tr><th>pc_type</th><th>count</th></tr><tr><td>str</td><td>u32</td></tr></thead><tbody><tr><td>&quot;SC&quot;</td><td>7293</td></tr><tr><td>&quot;ST&quot;</td><td>2841</td></tr><tr><td>&quot;SC &quot;</td><td>15</td></tr><tr><td>null</td><td>8070</td></tr><tr><td>&quot;GEN&quot;</td><td>54862</td></tr></tbody></table></div>"
      ],
      "text/plain": [
       "shape: (5, 2)\n",
       "┌─────────┬───────┐\n",
       "│ pc_type ┆ count │\n",
       "│ ---     ┆ ---   │\n",
       "│ str     ┆ u32   │\n",
       "╞═════════╪═══════╡\n",
       "│ SC      ┆ 7293  │\n",
       "│ ST      ┆ 2841  │\n",
       "│ SC      ┆ 15    │\n",
       "│ null    ┆ 8070  │\n",
       "│ GEN     ┆ 54862 │\n",
       "└─────────┴───────┘"
      ]
     },
     "execution_count": 4,
     "metadata": {},
     "output_type": "execute_result"
    }
   ],
   "source": [
    "df.get_column(\"pc_type\").value_counts()"
   ]
  },
  {
   "cell_type": "code",
   "execution_count": 5,
   "metadata": {},
   "outputs": [
    {
     "data": {
      "text/html": [
       "<div><style>\n",
       ".dataframe > thead > tr,\n",
       ".dataframe > tbody > tr {\n",
       "  text-align: right;\n",
       "  white-space: pre-wrap;\n",
       "}\n",
       "</style>\n",
       "<small>shape: (10, 11)</small><table border=\"1\" class=\"dataframe\"><thead><tr><th>st_name</th><th>year</th><th>pc_no</th><th>pc_name</th><th>pc_type</th><th>cand_name</th><th>cand_sex</th><th>partyname</th><th>partyabbre</th><th>totvotpoll</th><th>electors</th></tr><tr><td>str</td><td>i64</td><td>i64</td><td>str</td><td>str</td><td>str</td><td>str</td><td>str</td><td>str</td><td>i64</td><td>i64</td></tr></thead><tbody><tr><td>&quot;Andaman &amp; Nicobar Islands&quot;</td><td>1980</td><td>1</td><td>&quot;Andaman &amp; Nicobar Islands&quot;</td><td>&quot;GEN&quot;</td><td>&quot;Ramesh Mazumdar&quot;</td><td>&quot;M&quot;</td><td>&quot;Independents&quot;</td><td>&quot;IND&quot;</td><td>109</td><td>96084</td></tr><tr><td>&quot;Andaman &amp; Nicobar Islands&quot;</td><td>1980</td><td>1</td><td>&quot;Andaman &amp; Nicobar Islands&quot;</td><td>&quot;GEN&quot;</td><td>&quot;Alagiri Swamy&quot;</td><td>&quot;M&quot;</td><td>&quot;Independents&quot;</td><td>&quot;IND&quot;</td><td>125</td><td>96084</td></tr><tr><td>&quot;Andaman &amp; Nicobar Islands&quot;</td><td>1980</td><td>1</td><td>&quot;Andaman &amp; Nicobar Islands&quot;</td><td>&quot;GEN&quot;</td><td>&quot;Kannu Chemy&quot;</td><td>&quot;M&quot;</td><td>&quot;Independents&quot;</td><td>&quot;IND&quot;</td><td>405</td><td>96084</td></tr><tr><td>&quot;Andaman &amp; Nicobar Islands&quot;</td><td>1980</td><td>1</td><td>&quot;Andaman &amp; Nicobar Islands&quot;</td><td>&quot;GEN&quot;</td><td>&quot;K.N. Raju&quot;</td><td>&quot;M&quot;</td><td>&quot;Independents&quot;</td><td>&quot;IND&quot;</td><td>470</td><td>96084</td></tr><tr><td>&quot;Andaman &amp; Nicobar Islands&quot;</td><td>1980</td><td>1</td><td>&quot;Andaman &amp; Nicobar Islands&quot;</td><td>&quot;GEN&quot;</td><td>&quot;Rajender Lall Saha&quot;</td><td>&quot;M&quot;</td><td>&quot;Janta Party (Secular)&quot;</td><td>&quot;JNP(S)&quot;</td><td>717</td><td>96084</td></tr><tr><td>&quot;Andaman &amp; Nicobar Islands&quot;</td><td>1980</td><td>1</td><td>&quot;Andaman &amp; Nicobar Islands&quot;</td><td>&quot;GEN&quot;</td><td>&quot;Karpu Swamy&quot;</td><td>&quot;M&quot;</td><td>&quot;Independents&quot;</td><td>&quot;IND&quot;</td><td>1123</td><td>96084</td></tr><tr><td>&quot;Andaman &amp; Nicobar Islands&quot;</td><td>1980</td><td>1</td><td>&quot;Andaman &amp; Nicobar Islands&quot;</td><td>&quot;GEN&quot;</td><td>&quot;Samar Choudhury&quot;</td><td>&quot;M&quot;</td><td>&quot;Janta Party&quot;</td><td>&quot;JNP&quot;</td><td>2034</td><td>96084</td></tr><tr><td>&quot;Andaman &amp; Nicobar Islands&quot;</td><td>1980</td><td>1</td><td>&quot;Andaman &amp; Nicobar Islands&quot;</td><td>&quot;GEN&quot;</td><td>&quot;K. Kanda Swamy&quot;</td><td>&quot;M&quot;</td><td>&quot;Independents&quot;</td><td>&quot;IND&quot;</td><td>15856</td><td>96084</td></tr><tr><td>&quot;Andaman &amp; Nicobar Islands&quot;</td><td>1980</td><td>1</td><td>&quot;Andaman &amp; Nicobar Islands&quot;</td><td>&quot;GEN&quot;</td><td>&quot;P.K.S. Prasad&quot;</td><td>&quot;M&quot;</td><td>&quot;Communist Party Of India (Marx…</td><td>&quot;CPM&quot;</td><td>16014</td><td>96084</td></tr><tr><td>&quot;Andaman &amp; Nicobar Islands&quot;</td><td>1980</td><td>1</td><td>&quot;Andaman &amp; Nicobar Islands&quot;</td><td>&quot;GEN&quot;</td><td>&quot;Manoranjan Bhakta&quot;</td><td>&quot;M&quot;</td><td>&quot;Indian Natioanl Congress (I)&quot;</td><td>&quot;INC(I)&quot;</td><td>42046</td><td>96084</td></tr></tbody></table></div>"
      ],
      "text/plain": [
       "shape: (10, 11)\n",
       "┌──────────────┬──────┬───────┬─────────────┬───┬─────────────┬────────────┬────────────┬──────────┐\n",
       "│ st_name      ┆ year ┆ pc_no ┆ pc_name     ┆ … ┆ partyname   ┆ partyabbre ┆ totvotpoll ┆ electors │\n",
       "│ ---          ┆ ---  ┆ ---   ┆ ---         ┆   ┆ ---         ┆ ---        ┆ ---        ┆ ---      │\n",
       "│ str          ┆ i64  ┆ i64   ┆ str         ┆   ┆ str         ┆ str        ┆ i64        ┆ i64      │\n",
       "╞══════════════╪══════╪═══════╪═════════════╪═══╪═════════════╪════════════╪════════════╪══════════╡\n",
       "│ Andaman &    ┆ 1980 ┆ 1     ┆ Andaman &   ┆ … ┆ Independent ┆ IND        ┆ 109        ┆ 96084    │\n",
       "│ Nicobar      ┆      ┆       ┆ Nicobar     ┆   ┆ s           ┆            ┆            ┆          │\n",
       "│ Islands      ┆      ┆       ┆ Islands     ┆   ┆             ┆            ┆            ┆          │\n",
       "│ Andaman &    ┆ 1980 ┆ 1     ┆ Andaman &   ┆ … ┆ Independent ┆ IND        ┆ 125        ┆ 96084    │\n",
       "│ Nicobar      ┆      ┆       ┆ Nicobar     ┆   ┆ s           ┆            ┆            ┆          │\n",
       "│ Islands      ┆      ┆       ┆ Islands     ┆   ┆             ┆            ┆            ┆          │\n",
       "│ Andaman &    ┆ 1980 ┆ 1     ┆ Andaman &   ┆ … ┆ Independent ┆ IND        ┆ 405        ┆ 96084    │\n",
       "│ Nicobar      ┆      ┆       ┆ Nicobar     ┆   ┆ s           ┆            ┆            ┆          │\n",
       "│ Islands      ┆      ┆       ┆ Islands     ┆   ┆             ┆            ┆            ┆          │\n",
       "│ Andaman &    ┆ 1980 ┆ 1     ┆ Andaman &   ┆ … ┆ Independent ┆ IND        ┆ 470        ┆ 96084    │\n",
       "│ Nicobar      ┆      ┆       ┆ Nicobar     ┆   ┆ s           ┆            ┆            ┆          │\n",
       "│ Islands      ┆      ┆       ┆ Islands     ┆   ┆             ┆            ┆            ┆          │\n",
       "│ Andaman &    ┆ 1980 ┆ 1     ┆ Andaman &   ┆ … ┆ Janta Party ┆ JNP(S)     ┆ 717        ┆ 96084    │\n",
       "│ Nicobar      ┆      ┆       ┆ Nicobar     ┆   ┆ (Secular)   ┆            ┆            ┆          │\n",
       "│ Islands      ┆      ┆       ┆ Islands     ┆   ┆             ┆            ┆            ┆          │\n",
       "│ Andaman &    ┆ 1980 ┆ 1     ┆ Andaman &   ┆ … ┆ Independent ┆ IND        ┆ 1123       ┆ 96084    │\n",
       "│ Nicobar      ┆      ┆       ┆ Nicobar     ┆   ┆ s           ┆            ┆            ┆          │\n",
       "│ Islands      ┆      ┆       ┆ Islands     ┆   ┆             ┆            ┆            ┆          │\n",
       "│ Andaman &    ┆ 1980 ┆ 1     ┆ Andaman &   ┆ … ┆ Janta Party ┆ JNP        ┆ 2034       ┆ 96084    │\n",
       "│ Nicobar      ┆      ┆       ┆ Nicobar     ┆   ┆             ┆            ┆            ┆          │\n",
       "│ Islands      ┆      ┆       ┆ Islands     ┆   ┆             ┆            ┆            ┆          │\n",
       "│ Andaman &    ┆ 1980 ┆ 1     ┆ Andaman &   ┆ … ┆ Independent ┆ IND        ┆ 15856      ┆ 96084    │\n",
       "│ Nicobar      ┆      ┆       ┆ Nicobar     ┆   ┆ s           ┆            ┆            ┆          │\n",
       "│ Islands      ┆      ┆       ┆ Islands     ┆   ┆             ┆            ┆            ┆          │\n",
       "│ Andaman &    ┆ 1980 ┆ 1     ┆ Andaman &   ┆ … ┆ Communist   ┆ CPM        ┆ 16014      ┆ 96084    │\n",
       "│ Nicobar      ┆      ┆       ┆ Nicobar     ┆   ┆ Party Of    ┆            ┆            ┆          │\n",
       "│ Islands      ┆      ┆       ┆ Islands     ┆   ┆ India       ┆            ┆            ┆          │\n",
       "│              ┆      ┆       ┆             ┆   ┆ (Marx…      ┆            ┆            ┆          │\n",
       "│ Andaman &    ┆ 1980 ┆ 1     ┆ Andaman &   ┆ … ┆ Indian      ┆ INC(I)     ┆ 42046      ┆ 96084    │\n",
       "│ Nicobar      ┆      ┆       ┆ Nicobar     ┆   ┆ Natioanl    ┆            ┆            ┆          │\n",
       "│ Islands      ┆      ┆       ┆ Islands     ┆   ┆ Congress    ┆            ┆            ┆          │\n",
       "│              ┆      ┆       ┆             ┆   ┆ (I)         ┆            ┆            ┆          │\n",
       "└──────────────┴──────┴───────┴─────────────┴───┴─────────────┴────────────┴────────────┴──────────┘"
      ]
     },
     "execution_count": 5,
     "metadata": {},
     "output_type": "execute_result"
    }
   ],
   "source": [
    "df.filter(pl.col(\"year\").eq(1980)).head(10)"
   ]
  },
  {
   "cell_type": "code",
   "execution_count": 6,
   "metadata": {},
   "outputs": [],
   "source": [
    "party = \"INC\"\n",
    "st_name = \"Bihar\""
   ]
  },
  {
   "cell_type": "code",
   "execution_count": 8,
   "metadata": {},
   "outputs": [
    {
     "data": {
      "text/html": [
       "<div><style>\n",
       ".dataframe > thead > tr,\n",
       ".dataframe > tbody > tr {\n",
       "  text-align: right;\n",
       "  white-space: pre-wrap;\n",
       "}\n",
       "</style>\n",
       "<small>shape: (35, 5)</small><table border=\"1\" class=\"dataframe\"><thead><tr><th>partyabbre</th><th>year</th><th>totvotpoll</th><th>polled</th><th>pct</th></tr><tr><td>str</td><td>i64</td><td>i64</td><td>i64</td><td>f64</td></tr></thead><tbody><tr><td>&quot;INC&quot;</td><td>1977</td><td>65211589</td><td>188917504</td><td>34.52</td></tr><tr><td>&quot;BJP&quot;</td><td>1984</td><td>18466137</td><td>249583543</td><td>7.4</td></tr><tr><td>&quot;INC&quot;</td><td>1984</td><td>120107044</td><td>249583543</td><td>48.12</td></tr><tr><td>&quot;BJP&quot;</td><td>1989</td><td>34147503</td><td>300713862</td><td>11.36</td></tr><tr><td>&quot;INC&quot;</td><td>1989</td><td>118894702</td><td>300713862</td><td>39.54</td></tr><tr><td>&hellip;</td><td>&hellip;</td><td>&hellip;</td><td>&hellip;</td><td>&hellip;</td></tr><tr><td>&quot;RJD&quot;</td><td>2014</td><td>7440937</td><td>553802946</td><td>1.34</td></tr><tr><td>&quot;SP&quot;</td><td>2014</td><td>18673089</td><td>553802946</td><td>3.37</td></tr><tr><td>&quot;INC&quot;</td><td>2014</td><td>106935942</td><td>553802946</td><td>19.31</td></tr><tr><td>&quot;BJP&quot;</td><td>2014</td><td>171660230</td><td>553802946</td><td>31.0</td></tr><tr><td>&quot;JD(U)&quot;</td><td>2014</td><td>5992281</td><td>553802946</td><td>1.08</td></tr></tbody></table></div>"
      ],
      "text/plain": [
       "shape: (35, 5)\n",
       "┌────────────┬──────┬────────────┬───────────┬───────┐\n",
       "│ partyabbre ┆ year ┆ totvotpoll ┆ polled    ┆ pct   │\n",
       "│ ---        ┆ ---  ┆ ---        ┆ ---       ┆ ---   │\n",
       "│ str        ┆ i64  ┆ i64        ┆ i64       ┆ f64   │\n",
       "╞════════════╪══════╪════════════╪═══════════╪═══════╡\n",
       "│ INC        ┆ 1977 ┆ 65211589   ┆ 188917504 ┆ 34.52 │\n",
       "│ BJP        ┆ 1984 ┆ 18466137   ┆ 249583543 ┆ 7.4   │\n",
       "│ INC        ┆ 1984 ┆ 120107044  ┆ 249583543 ┆ 48.12 │\n",
       "│ BJP        ┆ 1989 ┆ 34147503   ┆ 300713862 ┆ 11.36 │\n",
       "│ INC        ┆ 1989 ┆ 118894702  ┆ 300713862 ┆ 39.54 │\n",
       "│ …          ┆ …    ┆ …          ┆ …         ┆ …     │\n",
       "│ RJD        ┆ 2014 ┆ 7440937    ┆ 553802946 ┆ 1.34  │\n",
       "│ SP         ┆ 2014 ┆ 18673089   ┆ 553802946 ┆ 3.37  │\n",
       "│ INC        ┆ 2014 ┆ 106935942  ┆ 553802946 ┆ 19.31 │\n",
       "│ BJP        ┆ 2014 ┆ 171660230  ┆ 553802946 ┆ 31.0  │\n",
       "│ JD(U)      ┆ 2014 ┆ 5992281    ┆ 553802946 ┆ 1.08  │\n",
       "└────────────┴──────┴────────────┴───────────┴───────┘"
      ]
     },
     "execution_count": 8,
     "metadata": {},
     "output_type": "execute_result"
    }
   ],
   "source": [
    "temp = (\n",
    "    df.filter(\n",
    "        pl.col(\"partyabbre\").is_in([\"INC\", \"BJP\", \"JD(U)\", \"RJD\", \"SP\"]),\n",
    "        # pl.col(\"st_name\").eq(st_name),\n",
    "    )\n",
    "    .group_by(\"partyabbre\", \"year\")\n",
    "    .agg(pl.sum(\"totvotpoll\"))\n",
    "    .join(\n",
    "        df.group_by(\"year\", \"pc_name\")\n",
    "        .agg(pl.sum(\"totvotpoll\"))\n",
    "        .select(\n",
    "            \"year\",\n",
    "            pl.sum(\"totvotpoll\").over(\"year\").alias(\"polled\"),\n",
    "        )\n",
    "        .unique()\n",
    "        .sort(\"year\"),\n",
    "        on=\"year\",\n",
    "    )\n",
    "    .with_columns(\n",
    "        pct=pl.col(\"totvotpoll\").mul(100).truediv(pl.col(\"polled\")).round(2),\n",
    "    )\n",
    "    .sort(\"year\")\n",
    ")\n",
    "temp"
   ]
  },
  {
   "cell_type": "code",
   "execution_count": 9,
   "metadata": {},
   "outputs": [
    {
     "data": {},
     "metadata": {},
     "output_type": "display_data"
    },
    {
     "data": {
      "application/vnd.holoviews_exec.v0+json": "",
      "text/html": [
       "<div id='p1145'>\n",
       "  <div id=\"d4378f58-608f-4bc1-8c40-e18c5553a764\" data-root-id=\"p1145\" style=\"display: contents;\"></div>\n",
       "</div>\n",
       "<script type=\"application/javascript\">(function(root) {\n",
       "  var docs_json = {\"b21dfe56-73aa-4e88-86de-989f6cc6d3e1\":{\"version\":\"3.4.1\",\"title\":\"Bokeh Application\",\"roots\":[{\"type\":\"object\",\"name\":\"Row\",\"id\":\"p1145\",\"attributes\":{\"name\":\"Row01271\",\"tags\":[\"embedded\"],\"stylesheets\":[\"\\n:host(.pn-loading):before, .pn-loading:before {\\n  background-color: #c3c3c3;\\n  mask-size: auto calc(min(50%, 400px));\\n  -webkit-mask-size: auto calc(min(50%, 400px));\\n}\",{\"type\":\"object\",\"name\":\"ImportedStyleSheet\",\"id\":\"p1148\",\"attributes\":{\"url\":\"https://cdn.holoviz.org/panel/1.4.4/dist/css/loading.css\"}},{\"type\":\"object\",\"name\":\"ImportedStyleSheet\",\"id\":\"p1274\",\"attributes\":{\"url\":\"https://cdn.holoviz.org/panel/1.4.4/dist/css/listpanel.css\"}},{\"type\":\"object\",\"name\":\"ImportedStyleSheet\",\"id\":\"p1146\",\"attributes\":{\"url\":\"https://cdn.holoviz.org/panel/1.4.4/dist/bundled/theme/default.css\"}},{\"type\":\"object\",\"name\":\"ImportedStyleSheet\",\"id\":\"p1147\",\"attributes\":{\"url\":\"https://cdn.holoviz.org/panel/1.4.4/dist/bundled/theme/native.css\"}}],\"min_width\":700,\"margin\":0,\"sizing_mode\":\"stretch_width\",\"align\":\"start\",\"children\":[{\"type\":\"object\",\"name\":\"Spacer\",\"id\":\"p1149\",\"attributes\":{\"name\":\"HSpacer01278\",\"stylesheets\":[\"\\n:host(.pn-loading):before, .pn-loading:before {\\n  background-color: #c3c3c3;\\n  mask-size: auto calc(min(50%, 400px));\\n  -webkit-mask-size: auto calc(min(50%, 400px));\\n}\",{\"id\":\"p1148\"},{\"id\":\"p1146\"},{\"id\":\"p1147\"}],\"margin\":0,\"sizing_mode\":\"stretch_width\",\"align\":\"start\"}},{\"type\":\"object\",\"name\":\"Figure\",\"id\":\"p1169\",\"attributes\":{\"width\":700,\"height\":300,\"margin\":[5,10],\"sizing_mode\":\"fixed\",\"align\":\"start\",\"x_range\":{\"type\":\"object\",\"name\":\"Range1d\",\"id\":\"p1150\",\"attributes\":{\"tags\":[[[\"year\",null]],[]],\"start\":1977.0,\"end\":2014.0,\"reset_start\":1977.0,\"reset_end\":2014.0}},\"y_range\":{\"type\":\"object\",\"name\":\"Range1d\",\"id\":\"p1151\",\"attributes\":{\"tags\":[[[\"pct\",null]],{\"type\":\"map\",\"entries\":[[\"invert_yaxis\",false],[\"autorange\",false]]}],\"start\":-4.812,\"end\":52.931999999999995,\"reset_start\":-4.812,\"reset_end\":52.931999999999995}},\"x_scale\":{\"type\":\"object\",\"name\":\"LinearScale\",\"id\":\"p1179\"},\"y_scale\":{\"type\":\"object\",\"name\":\"LinearScale\",\"id\":\"p1180\"},\"title\":{\"type\":\"object\",\"name\":\"Title\",\"id\":\"p1172\",\"attributes\":{\"text_color\":\"black\",\"text_font_size\":\"12pt\"}},\"renderers\":[{\"type\":\"object\",\"name\":\"GlyphRenderer\",\"id\":\"p1209\",\"attributes\":{\"name\":\"BJP\",\"data_source\":{\"type\":\"object\",\"name\":\"ColumnDataSource\",\"id\":\"p1200\",\"attributes\":{\"selected\":{\"type\":\"object\",\"name\":\"Selection\",\"id\":\"p1201\",\"attributes\":{\"indices\":[],\"line_indices\":[]}},\"selection_policy\":{\"type\":\"object\",\"name\":\"UnionRenderers\",\"id\":\"p1202\"},\"data\":{\"type\":\"map\",\"entries\":[[\"year\",{\"type\":\"ndarray\",\"array\":{\"type\":\"bytes\",\"data\":\"wAcAAMUHAADHBwAAzAcAAM4HAADPBwAA1AcAANkHAADeBwAA\"},\"shape\":[9],\"dtype\":\"int32\",\"order\":\"little\"}],[\"pct\",{\"type\":\"ndarray\",\"array\":{\"type\":\"bytes\",\"data\":\"mpmZmZmZHUC4HoXrUbgmQFK4HoXrETRAKVyPwvUoNEAfhetRuJ45QKRwPQrXozdAKVyPwvUoNkAK16NwPcoyQAAAAAAAAD9A\"},\"shape\":[9],\"dtype\":\"float64\",\"order\":\"little\"}],[\"partyabbre\",[\"BJP\",\"BJP\",\"BJP\",\"BJP\",\"BJP\",\"BJP\",\"BJP\",\"BJP\",\"BJP\"]]]}}},\"view\":{\"type\":\"object\",\"name\":\"CDSView\",\"id\":\"p1210\",\"attributes\":{\"filter\":{\"type\":\"object\",\"name\":\"AllIndices\",\"id\":\"p1211\"}}},\"glyph\":{\"type\":\"object\",\"name\":\"Line\",\"id\":\"p1206\",\"attributes\":{\"tags\":[\"apply_ranges\"],\"x\":{\"type\":\"field\",\"field\":\"year\"},\"y\":{\"type\":\"field\",\"field\":\"pct\"},\"line_color\":\"#30a2da\",\"line_width\":2}},\"selection_glyph\":{\"type\":\"object\",\"name\":\"Line\",\"id\":\"p1214\",\"attributes\":{\"tags\":[\"apply_ranges\"],\"x\":{\"type\":\"field\",\"field\":\"year\"},\"y\":{\"type\":\"field\",\"field\":\"pct\"},\"line_color\":\"#30a2da\",\"line_width\":2}},\"nonselection_glyph\":{\"type\":\"object\",\"name\":\"Line\",\"id\":\"p1207\",\"attributes\":{\"tags\":[\"apply_ranges\"],\"x\":{\"type\":\"field\",\"field\":\"year\"},\"y\":{\"type\":\"field\",\"field\":\"pct\"},\"line_color\":\"#30a2da\",\"line_alpha\":0.1,\"line_width\":2}},\"muted_glyph\":{\"type\":\"object\",\"name\":\"Line\",\"id\":\"p1208\",\"attributes\":{\"tags\":[\"apply_ranges\"],\"x\":{\"type\":\"field\",\"field\":\"year\"},\"y\":{\"type\":\"field\",\"field\":\"pct\"},\"line_color\":\"#30a2da\",\"line_alpha\":0.2,\"line_width\":2}}}},{\"type\":\"object\",\"name\":\"GlyphRenderer\",\"id\":\"p1224\",\"attributes\":{\"name\":\"INC\",\"data_source\":{\"type\":\"object\",\"name\":\"ColumnDataSource\",\"id\":\"p1215\",\"attributes\":{\"selected\":{\"type\":\"object\",\"name\":\"Selection\",\"id\":\"p1216\",\"attributes\":{\"indices\":[],\"line_indices\":[]}},\"selection_policy\":{\"type\":\"object\",\"name\":\"UnionRenderers\",\"id\":\"p1217\"},\"data\":{\"type\":\"map\",\"entries\":[[\"year\",{\"type\":\"ndarray\",\"array\":{\"type\":\"bytes\",\"data\":\"uQcAAMAHAADFBwAAxwcAAMwHAADOBwAAzwcAANQHAADZBwAA3gcAAA==\"},\"shape\":[10],\"dtype\":\"int32\",\"order\":\"little\"}],[\"pct\",{\"type\":\"ndarray\",\"array\":{\"type\":\"bytes\",\"data\":\"w/UoXI9CQUCPwvUoXA9IQIXrUbgexUNAFK5H4Xo0QkCamZmZmdk8QJqZmZmZ2TlAmpmZmZlZPEBI4XoUroc6QLgehetReDxAj8L1KFxPM0A=\"},\"shape\":[10],\"dtype\":\"float64\",\"order\":\"little\"}],[\"partyabbre\",[\"INC\",\"INC\",\"INC\",\"INC\",\"INC\",\"INC\",\"INC\",\"INC\",\"INC\",\"INC\"]]]}}},\"view\":{\"type\":\"object\",\"name\":\"CDSView\",\"id\":\"p1225\",\"attributes\":{\"filter\":{\"type\":\"object\",\"name\":\"AllIndices\",\"id\":\"p1226\"}}},\"glyph\":{\"type\":\"object\",\"name\":\"Line\",\"id\":\"p1221\",\"attributes\":{\"tags\":[\"apply_ranges\"],\"x\":{\"type\":\"field\",\"field\":\"year\"},\"y\":{\"type\":\"field\",\"field\":\"pct\"},\"line_color\":\"#fc4f30\",\"line_width\":2}},\"selection_glyph\":{\"type\":\"object\",\"name\":\"Line\",\"id\":\"p1228\",\"attributes\":{\"tags\":[\"apply_ranges\"],\"x\":{\"type\":\"field\",\"field\":\"year\"},\"y\":{\"type\":\"field\",\"field\":\"pct\"},\"line_color\":\"#fc4f30\",\"line_width\":2}},\"nonselection_glyph\":{\"type\":\"object\",\"name\":\"Line\",\"id\":\"p1222\",\"attributes\":{\"tags\":[\"apply_ranges\"],\"x\":{\"type\":\"field\",\"field\":\"year\"},\"y\":{\"type\":\"field\",\"field\":\"pct\"},\"line_color\":\"#fc4f30\",\"line_alpha\":0.1,\"line_width\":2}},\"muted_glyph\":{\"type\":\"object\",\"name\":\"Line\",\"id\":\"p1223\",\"attributes\":{\"tags\":[\"apply_ranges\"],\"x\":{\"type\":\"field\",\"field\":\"year\"},\"y\":{\"type\":\"field\",\"field\":\"pct\"},\"line_color\":\"#fc4f30\",\"line_alpha\":0.2,\"line_width\":2}}}},{\"type\":\"object\",\"name\":\"GlyphRenderer\",\"id\":\"p1238\",\"attributes\":{\"name\":\"JD(U)\",\"data_source\":{\"type\":\"object\",\"name\":\"ColumnDataSource\",\"id\":\"p1229\",\"attributes\":{\"selected\":{\"type\":\"object\",\"name\":\"Selection\",\"id\":\"p1230\",\"attributes\":{\"indices\":[],\"line_indices\":[]}},\"selection_policy\":{\"type\":\"object\",\"name\":\"UnionRenderers\",\"id\":\"p1231\"},\"data\":{\"type\":\"map\",\"entries\":[[\"year\",{\"type\":\"ndarray\",\"array\":{\"type\":\"bytes\",\"data\":\"zwcAANQHAADZBwAA3gcAAA==\"},\"shape\":[4],\"dtype\":\"int32\",\"order\":\"little\"}],[\"pct\",{\"type\":\"ndarray\",\"array\":{\"type\":\"bytes\",\"data\":\"zczMzMzMCEDNzMzMzMwCQFK4HoXrUfg/SOF6FK5H8T8=\"},\"shape\":[4],\"dtype\":\"float64\",\"order\":\"little\"}],[\"partyabbre\",[\"JD(U)\",\"JD(U)\",\"JD(U)\",\"JD(U)\"]]]}}},\"view\":{\"type\":\"object\",\"name\":\"CDSView\",\"id\":\"p1239\",\"attributes\":{\"filter\":{\"type\":\"object\",\"name\":\"AllIndices\",\"id\":\"p1240\"}}},\"glyph\":{\"type\":\"object\",\"name\":\"Line\",\"id\":\"p1235\",\"attributes\":{\"tags\":[\"apply_ranges\"],\"x\":{\"type\":\"field\",\"field\":\"year\"},\"y\":{\"type\":\"field\",\"field\":\"pct\"},\"line_color\":\"#e5ae38\",\"line_width\":2}},\"selection_glyph\":{\"type\":\"object\",\"name\":\"Line\",\"id\":\"p1242\",\"attributes\":{\"tags\":[\"apply_ranges\"],\"x\":{\"type\":\"field\",\"field\":\"year\"},\"y\":{\"type\":\"field\",\"field\":\"pct\"},\"line_color\":\"#e5ae38\",\"line_width\":2}},\"nonselection_glyph\":{\"type\":\"object\",\"name\":\"Line\",\"id\":\"p1236\",\"attributes\":{\"tags\":[\"apply_ranges\"],\"x\":{\"type\":\"field\",\"field\":\"year\"},\"y\":{\"type\":\"field\",\"field\":\"pct\"},\"line_color\":\"#e5ae38\",\"line_alpha\":0.1,\"line_width\":2}},\"muted_glyph\":{\"type\":\"object\",\"name\":\"Line\",\"id\":\"p1237\",\"attributes\":{\"tags\":[\"apply_ranges\"],\"x\":{\"type\":\"field\",\"field\":\"year\"},\"y\":{\"type\":\"field\",\"field\":\"pct\"},\"line_color\":\"#e5ae38\",\"line_alpha\":0.2,\"line_width\":2}}}},{\"type\":\"object\",\"name\":\"GlyphRenderer\",\"id\":\"p1252\",\"attributes\":{\"name\":\"RJD\",\"data_source\":{\"type\":\"object\",\"name\":\"ColumnDataSource\",\"id\":\"p1243\",\"attributes\":{\"selected\":{\"type\":\"object\",\"name\":\"Selection\",\"id\":\"p1244\",\"attributes\":{\"indices\":[],\"line_indices\":[]}},\"selection_policy\":{\"type\":\"object\",\"name\":\"UnionRenderers\",\"id\":\"p1245\"},\"data\":{\"type\":\"map\",\"entries\":[[\"year\",{\"type\":\"ndarray\",\"array\":{\"type\":\"bytes\",\"data\":\"zgcAAM8HAADUBwAA2QcAAN4HAAA=\"},\"shape\":[5],\"dtype\":\"int32\",\"order\":\"little\"}],[\"pct\",{\"type\":\"ndarray\",\"array\":{\"type\":\"bytes\",\"data\":\"cT0K16NwBUBSuB6F61EGQEjhehSuRwNAUrgehetR9D9xPQrXo3D1Pw==\"},\"shape\":[5],\"dtype\":\"float64\",\"order\":\"little\"}],[\"partyabbre\",[\"RJD\",\"RJD\",\"RJD\",\"RJD\",\"RJD\"]]]}}},\"view\":{\"type\":\"object\",\"name\":\"CDSView\",\"id\":\"p1253\",\"attributes\":{\"filter\":{\"type\":\"object\",\"name\":\"AllIndices\",\"id\":\"p1254\"}}},\"glyph\":{\"type\":\"object\",\"name\":\"Line\",\"id\":\"p1249\",\"attributes\":{\"tags\":[\"apply_ranges\"],\"x\":{\"type\":\"field\",\"field\":\"year\"},\"y\":{\"type\":\"field\",\"field\":\"pct\"},\"line_color\":\"#6d904f\",\"line_width\":2}},\"selection_glyph\":{\"type\":\"object\",\"name\":\"Line\",\"id\":\"p1256\",\"attributes\":{\"tags\":[\"apply_ranges\"],\"x\":{\"type\":\"field\",\"field\":\"year\"},\"y\":{\"type\":\"field\",\"field\":\"pct\"},\"line_color\":\"#6d904f\",\"line_width\":2}},\"nonselection_glyph\":{\"type\":\"object\",\"name\":\"Line\",\"id\":\"p1250\",\"attributes\":{\"tags\":[\"apply_ranges\"],\"x\":{\"type\":\"field\",\"field\":\"year\"},\"y\":{\"type\":\"field\",\"field\":\"pct\"},\"line_color\":\"#6d904f\",\"line_alpha\":0.1,\"line_width\":2}},\"muted_glyph\":{\"type\":\"object\",\"name\":\"Line\",\"id\":\"p1251\",\"attributes\":{\"tags\":[\"apply_ranges\"],\"x\":{\"type\":\"field\",\"field\":\"year\"},\"y\":{\"type\":\"field\",\"field\":\"pct\"},\"line_color\":\"#6d904f\",\"line_alpha\":0.2,\"line_width\":2}}}},{\"type\":\"object\",\"name\":\"GlyphRenderer\",\"id\":\"p1266\",\"attributes\":{\"name\":\"SP\",\"data_source\":{\"type\":\"object\",\"name\":\"ColumnDataSource\",\"id\":\"p1257\",\"attributes\":{\"selected\":{\"type\":\"object\",\"name\":\"Selection\",\"id\":\"p1258\",\"attributes\":{\"indices\":[],\"line_indices\":[]}},\"selection_policy\":{\"type\":\"object\",\"name\":\"UnionRenderers\",\"id\":\"p1259\"},\"data\":{\"type\":\"map\",\"entries\":[[\"year\",{\"type\":\"ndarray\",\"array\":{\"type\":\"bytes\",\"data\":\"xwcAAMwHAADOBwAAzwcAANQHAADZBwAA3gcAAA==\"},\"shape\":[7],\"dtype\":\"int32\",\"order\":\"little\"}],[\"pct\",{\"type\":\"ndarray\",\"array\":{\"type\":\"bytes\",\"data\":\"AAAAAAAAAABSuB6F61EKQMP1KFyPwhNAKVyPwvUoDkBI4XoUrkcRQFyPwvUoXAtA9ihcj8L1CkA=\"},\"shape\":[7],\"dtype\":\"float64\",\"order\":\"little\"}],[\"partyabbre\",[\"SP\",\"SP\",\"SP\",\"SP\",\"SP\",\"SP\",\"SP\"]]]}}},\"view\":{\"type\":\"object\",\"name\":\"CDSView\",\"id\":\"p1267\",\"attributes\":{\"filter\":{\"type\":\"object\",\"name\":\"AllIndices\",\"id\":\"p1268\"}}},\"glyph\":{\"type\":\"object\",\"name\":\"Line\",\"id\":\"p1263\",\"attributes\":{\"tags\":[\"apply_ranges\"],\"x\":{\"type\":\"field\",\"field\":\"year\"},\"y\":{\"type\":\"field\",\"field\":\"pct\"},\"line_color\":\"#8b8b8b\",\"line_width\":2}},\"selection_glyph\":{\"type\":\"object\",\"name\":\"Line\",\"id\":\"p1270\",\"attributes\":{\"tags\":[\"apply_ranges\"],\"x\":{\"type\":\"field\",\"field\":\"year\"},\"y\":{\"type\":\"field\",\"field\":\"pct\"},\"line_color\":\"#8b8b8b\",\"line_width\":2}},\"nonselection_glyph\":{\"type\":\"object\",\"name\":\"Line\",\"id\":\"p1264\",\"attributes\":{\"tags\":[\"apply_ranges\"],\"x\":{\"type\":\"field\",\"field\":\"year\"},\"y\":{\"type\":\"field\",\"field\":\"pct\"},\"line_color\":\"#8b8b8b\",\"line_alpha\":0.1,\"line_width\":2}},\"muted_glyph\":{\"type\":\"object\",\"name\":\"Line\",\"id\":\"p1265\",\"attributes\":{\"tags\":[\"apply_ranges\"],\"x\":{\"type\":\"field\",\"field\":\"year\"},\"y\":{\"type\":\"field\",\"field\":\"pct\"},\"line_color\":\"#8b8b8b\",\"line_alpha\":0.2,\"line_width\":2}}}}],\"toolbar\":{\"type\":\"object\",\"name\":\"Toolbar\",\"id\":\"p1178\",\"attributes\":{\"tools\":[{\"type\":\"object\",\"name\":\"WheelZoomTool\",\"id\":\"p1155\",\"attributes\":{\"tags\":[\"hv_created\"],\"renderers\":\"auto\",\"zoom_together\":\"none\"}},{\"type\":\"object\",\"name\":\"HoverTool\",\"id\":\"p1156\",\"attributes\":{\"tags\":[\"hv_created\"],\"renderers\":[{\"id\":\"p1209\"},{\"id\":\"p1224\"},{\"id\":\"p1238\"},{\"id\":\"p1252\"},{\"id\":\"p1266\"}],\"tooltips\":[[\"partyabbre\",\"@{partyabbre}\"],[\"year\",\"@{year}\"],[\"pct\",\"@{pct}\"]]}},{\"type\":\"object\",\"name\":\"SaveTool\",\"id\":\"p1191\"},{\"type\":\"object\",\"name\":\"PanTool\",\"id\":\"p1192\"},{\"type\":\"object\",\"name\":\"BoxZoomTool\",\"id\":\"p1193\",\"attributes\":{\"overlay\":{\"type\":\"object\",\"name\":\"BoxAnnotation\",\"id\":\"p1194\",\"attributes\":{\"syncable\":false,\"level\":\"overlay\",\"visible\":false,\"left\":{\"type\":\"number\",\"value\":\"nan\"},\"right\":{\"type\":\"number\",\"value\":\"nan\"},\"top\":{\"type\":\"number\",\"value\":\"nan\"},\"bottom\":{\"type\":\"number\",\"value\":\"nan\"},\"left_units\":\"canvas\",\"right_units\":\"canvas\",\"top_units\":\"canvas\",\"bottom_units\":\"canvas\",\"line_color\":\"black\",\"line_alpha\":1.0,\"line_width\":2,\"line_dash\":[4,4],\"fill_color\":\"lightgrey\",\"fill_alpha\":0.5}}}},{\"type\":\"object\",\"name\":\"ResetTool\",\"id\":\"p1199\"}],\"active_drag\":{\"id\":\"p1192\"},\"active_scroll\":{\"id\":\"p1155\"}}},\"left\":[{\"type\":\"object\",\"name\":\"LinearAxis\",\"id\":\"p1186\",\"attributes\":{\"ticker\":{\"type\":\"object\",\"name\":\"BasicTicker\",\"id\":\"p1187\",\"attributes\":{\"mantissas\":[1,2,5]}},\"formatter\":{\"type\":\"object\",\"name\":\"BasicTickFormatter\",\"id\":\"p1188\"},\"axis_label\":\"pct\",\"major_label_policy\":{\"type\":\"object\",\"name\":\"AllLabels\",\"id\":\"p1189\"}}}],\"right\":[{\"type\":\"object\",\"name\":\"Legend\",\"id\":\"p1212\",\"attributes\":{\"location\":[0,0],\"title\":\"partyabbre\",\"click_policy\":\"mute\",\"items\":[{\"type\":\"object\",\"name\":\"LegendItem\",\"id\":\"p1213\",\"attributes\":{\"label\":{\"type\":\"value\",\"value\":\"BJP\"},\"renderers\":[{\"id\":\"p1209\"}]}},{\"type\":\"object\",\"name\":\"LegendItem\",\"id\":\"p1227\",\"attributes\":{\"label\":{\"type\":\"value\",\"value\":\"INC\"},\"renderers\":[{\"id\":\"p1224\"}]}},{\"type\":\"object\",\"name\":\"LegendItem\",\"id\":\"p1241\",\"attributes\":{\"label\":{\"type\":\"value\",\"value\":\"JD(U)\"},\"renderers\":[{\"id\":\"p1238\"}]}},{\"type\":\"object\",\"name\":\"LegendItem\",\"id\":\"p1255\",\"attributes\":{\"label\":{\"type\":\"value\",\"value\":\"RJD\"},\"renderers\":[{\"id\":\"p1252\"}]}},{\"type\":\"object\",\"name\":\"LegendItem\",\"id\":\"p1269\",\"attributes\":{\"label\":{\"type\":\"value\",\"value\":\"SP\"},\"renderers\":[{\"id\":\"p1266\"}]}}]}}],\"below\":[{\"type\":\"object\",\"name\":\"LinearAxis\",\"id\":\"p1181\",\"attributes\":{\"ticker\":{\"type\":\"object\",\"name\":\"BasicTicker\",\"id\":\"p1182\",\"attributes\":{\"mantissas\":[1,2,5]}},\"formatter\":{\"type\":\"object\",\"name\":\"BasicTickFormatter\",\"id\":\"p1183\"},\"axis_label\":\"year\",\"major_label_policy\":{\"type\":\"object\",\"name\":\"AllLabels\",\"id\":\"p1184\"}}}],\"center\":[{\"type\":\"object\",\"name\":\"Grid\",\"id\":\"p1185\",\"attributes\":{\"axis\":{\"id\":\"p1181\"},\"grid_line_color\":null}},{\"type\":\"object\",\"name\":\"Grid\",\"id\":\"p1190\",\"attributes\":{\"dimension\":1,\"axis\":{\"id\":\"p1186\"},\"grid_line_color\":null}}],\"min_border_top\":10,\"min_border_bottom\":10,\"min_border_left\":10,\"min_border_right\":10,\"output_backend\":\"webgl\"}},{\"type\":\"object\",\"name\":\"Spacer\",\"id\":\"p1272\",\"attributes\":{\"name\":\"HSpacer01279\",\"stylesheets\":[\"\\n:host(.pn-loading):before, .pn-loading:before {\\n  background-color: #c3c3c3;\\n  mask-size: auto calc(min(50%, 400px));\\n  -webkit-mask-size: auto calc(min(50%, 400px));\\n}\",{\"id\":\"p1148\"},{\"id\":\"p1146\"},{\"id\":\"p1147\"}],\"margin\":0,\"sizing_mode\":\"stretch_width\",\"align\":\"start\"}}]}}],\"defs\":[{\"type\":\"model\",\"name\":\"ReactiveHTML1\"},{\"type\":\"model\",\"name\":\"FlexBox1\",\"properties\":[{\"name\":\"align_content\",\"kind\":\"Any\",\"default\":\"flex-start\"},{\"name\":\"align_items\",\"kind\":\"Any\",\"default\":\"flex-start\"},{\"name\":\"flex_direction\",\"kind\":\"Any\",\"default\":\"row\"},{\"name\":\"flex_wrap\",\"kind\":\"Any\",\"default\":\"wrap\"},{\"name\":\"gap\",\"kind\":\"Any\",\"default\":\"\"},{\"name\":\"justify_content\",\"kind\":\"Any\",\"default\":\"flex-start\"}]},{\"type\":\"model\",\"name\":\"FloatPanel1\",\"properties\":[{\"name\":\"config\",\"kind\":\"Any\",\"default\":{\"type\":\"map\"}},{\"name\":\"contained\",\"kind\":\"Any\",\"default\":true},{\"name\":\"position\",\"kind\":\"Any\",\"default\":\"right-top\"},{\"name\":\"offsetx\",\"kind\":\"Any\",\"default\":null},{\"name\":\"offsety\",\"kind\":\"Any\",\"default\":null},{\"name\":\"theme\",\"kind\":\"Any\",\"default\":\"primary\"},{\"name\":\"status\",\"kind\":\"Any\",\"default\":\"normalized\"}]},{\"type\":\"model\",\"name\":\"GridStack1\",\"properties\":[{\"name\":\"mode\",\"kind\":\"Any\",\"default\":\"warn\"},{\"name\":\"ncols\",\"kind\":\"Any\",\"default\":null},{\"name\":\"nrows\",\"kind\":\"Any\",\"default\":null},{\"name\":\"allow_resize\",\"kind\":\"Any\",\"default\":true},{\"name\":\"allow_drag\",\"kind\":\"Any\",\"default\":true},{\"name\":\"state\",\"kind\":\"Any\",\"default\":[]}]},{\"type\":\"model\",\"name\":\"drag1\",\"properties\":[{\"name\":\"slider_width\",\"kind\":\"Any\",\"default\":5},{\"name\":\"slider_color\",\"kind\":\"Any\",\"default\":\"black\"},{\"name\":\"value\",\"kind\":\"Any\",\"default\":50}]},{\"type\":\"model\",\"name\":\"click1\",\"properties\":[{\"name\":\"terminal_output\",\"kind\":\"Any\",\"default\":\"\"},{\"name\":\"debug_name\",\"kind\":\"Any\",\"default\":\"\"},{\"name\":\"clears\",\"kind\":\"Any\",\"default\":0}]},{\"type\":\"model\",\"name\":\"FastWrapper1\",\"properties\":[{\"name\":\"object\",\"kind\":\"Any\",\"default\":null},{\"name\":\"style\",\"kind\":\"Any\",\"default\":null}]},{\"type\":\"model\",\"name\":\"NotificationAreaBase1\",\"properties\":[{\"name\":\"js_events\",\"kind\":\"Any\",\"default\":{\"type\":\"map\"}},{\"name\":\"position\",\"kind\":\"Any\",\"default\":\"bottom-right\"},{\"name\":\"_clear\",\"kind\":\"Any\",\"default\":0}]},{\"type\":\"model\",\"name\":\"NotificationArea1\",\"properties\":[{\"name\":\"js_events\",\"kind\":\"Any\",\"default\":{\"type\":\"map\"}},{\"name\":\"notifications\",\"kind\":\"Any\",\"default\":[]},{\"name\":\"position\",\"kind\":\"Any\",\"default\":\"bottom-right\"},{\"name\":\"_clear\",\"kind\":\"Any\",\"default\":0},{\"name\":\"types\",\"kind\":\"Any\",\"default\":[{\"type\":\"map\",\"entries\":[[\"type\",\"warning\"],[\"background\",\"#ffc107\"],[\"icon\",{\"type\":\"map\",\"entries\":[[\"className\",\"fas fa-exclamation-triangle\"],[\"tagName\",\"i\"],[\"color\",\"white\"]]}]]},{\"type\":\"map\",\"entries\":[[\"type\",\"info\"],[\"background\",\"#007bff\"],[\"icon\",{\"type\":\"map\",\"entries\":[[\"className\",\"fas fa-info-circle\"],[\"tagName\",\"i\"],[\"color\",\"white\"]]}]]}]}]},{\"type\":\"model\",\"name\":\"Notification\",\"properties\":[{\"name\":\"background\",\"kind\":\"Any\",\"default\":null},{\"name\":\"duration\",\"kind\":\"Any\",\"default\":3000},{\"name\":\"icon\",\"kind\":\"Any\",\"default\":null},{\"name\":\"message\",\"kind\":\"Any\",\"default\":\"\"},{\"name\":\"notification_type\",\"kind\":\"Any\",\"default\":null},{\"name\":\"_destroyed\",\"kind\":\"Any\",\"default\":false}]},{\"type\":\"model\",\"name\":\"TemplateActions1\",\"properties\":[{\"name\":\"open_modal\",\"kind\":\"Any\",\"default\":0},{\"name\":\"close_modal\",\"kind\":\"Any\",\"default\":0}]},{\"type\":\"model\",\"name\":\"BootstrapTemplateActions1\",\"properties\":[{\"name\":\"open_modal\",\"kind\":\"Any\",\"default\":0},{\"name\":\"close_modal\",\"kind\":\"Any\",\"default\":0}]},{\"type\":\"model\",\"name\":\"TemplateEditor1\",\"properties\":[{\"name\":\"layout\",\"kind\":\"Any\",\"default\":[]}]},{\"type\":\"model\",\"name\":\"MaterialTemplateActions1\",\"properties\":[{\"name\":\"open_modal\",\"kind\":\"Any\",\"default\":0},{\"name\":\"close_modal\",\"kind\":\"Any\",\"default\":0}]},{\"type\":\"model\",\"name\":\"copy_to_clipboard1\",\"properties\":[{\"name\":\"fill\",\"kind\":\"Any\",\"default\":\"none\"},{\"name\":\"value\",\"kind\":\"Any\",\"default\":null}]}]}};\n",
       "  var render_items = [{\"docid\":\"b21dfe56-73aa-4e88-86de-989f6cc6d3e1\",\"roots\":{\"p1145\":\"d4378f58-608f-4bc1-8c40-e18c5553a764\"},\"root_ids\":[\"p1145\"]}];\n",
       "  var docs = Object.values(docs_json)\n",
       "  if (!docs) {\n",
       "    return\n",
       "  }\n",
       "  const py_version = docs[0].version.replace('rc', '-rc.').replace('.dev', '-dev.')\n",
       "  async function embed_document(root) {\n",
       "    var Bokeh = get_bokeh(root)\n",
       "    await Bokeh.embed.embed_items_notebook(docs_json, render_items);\n",
       "    for (const render_item of render_items) {\n",
       "      for (const root_id of render_item.root_ids) {\n",
       "\tconst id_el = document.getElementById(root_id)\n",
       "\tif (id_el.children.length && id_el.children[0].hasAttribute('data-root-id')) {\n",
       "\t  const root_el = id_el.children[0]\n",
       "\t  root_el.id = root_el.id + '-rendered'\n",
       "\t  for (const child of root_el.children) {\n",
       "            // Ensure JupyterLab does not capture keyboard shortcuts\n",
       "            // see: https://jupyterlab.readthedocs.io/en/4.1.x/extension/notebook.html#keyboard-interaction-model\n",
       "\t    child.setAttribute('data-lm-suppress-shortcuts', 'true')\n",
       "\t  }\n",
       "\t}\n",
       "      }\n",
       "    }\n",
       "  }\n",
       "  function get_bokeh(root) {\n",
       "    if (root.Bokeh === undefined) {\n",
       "      return null\n",
       "    } else if (root.Bokeh.version !== py_version) {\n",
       "      if (root.Bokeh.versions === undefined || !root.Bokeh.versions.has(py_version)) {\n",
       "\treturn null\n",
       "      }\n",
       "      return root.Bokeh.versions.get(py_version);\n",
       "    } else if (root.Bokeh.version === py_version) {\n",
       "      return root.Bokeh\n",
       "    }\n",
       "    return null\n",
       "  }\n",
       "  function is_loaded(root) {\n",
       "    var Bokeh = get_bokeh(root)\n",
       "    return (Bokeh != null && Bokeh.Panel !== undefined)\n",
       "  }\n",
       "  if (is_loaded(root)) {\n",
       "    embed_document(root);\n",
       "  } else {\n",
       "    var attempts = 0;\n",
       "    var timer = setInterval(function(root) {\n",
       "      if (is_loaded(root)) {\n",
       "        clearInterval(timer);\n",
       "        embed_document(root);\n",
       "      } else if (document.readyState == \"complete\") {\n",
       "        attempts++;\n",
       "        if (attempts > 200) {\n",
       "          clearInterval(timer);\n",
       "\t  var Bokeh = get_bokeh(root)\n",
       "\t  if (Bokeh == null || Bokeh.Panel == null) {\n",
       "            console.warn(\"Panel: ERROR: Unable to run Panel code because Bokeh or Panel library is missing\");\n",
       "\t  } else {\n",
       "\t    console.warn(\"Panel: WARNING: Attempting to render but not all required libraries could be resolved.\")\n",
       "\t    embed_document(root)\n",
       "\t  }\n",
       "        }\n",
       "      }\n",
       "    }, 25, root)\n",
       "  }\n",
       "})(window);</script>"
      ],
      "text/plain": [
       ":NdOverlay   [partyabbre]\n",
       "   :Curve   [year]   (pct)"
      ]
     },
     "execution_count": 9,
     "metadata": {
      "application/vnd.holoviews_exec.v0+json": {
       "id": "p1145"
      }
     },
     "output_type": "execute_result"
    }
   ],
   "source": [
    "temp.plot.line(\n",
    "    x=\"year\",\n",
    "    y=\"pct\",\n",
    "    by=\"partyabbre\",\n",
    ")"
   ]
  },
  {
   "cell_type": "code",
   "execution_count": 15,
   "metadata": {},
   "outputs": [
    {
     "data": {},
     "metadata": {},
     "output_type": "display_data"
    },
    {
     "data": {
      "application/vnd.holoviews_exec.v0+json": "",
      "text/html": [
       "<div id='p1606'>\n",
       "  <div id=\"c67a08c6-730a-499a-a5e4-7b6bd394c9e1\" data-root-id=\"p1606\" style=\"display: contents;\"></div>\n",
       "</div>\n",
       "<script type=\"application/javascript\">(function(root) {\n",
       "  var docs_json = {\"65f7d339-16a5-415f-95ed-642d276a6817\":{\"version\":\"3.4.1\",\"title\":\"Bokeh Application\",\"roots\":[{\"type\":\"object\",\"name\":\"Row\",\"id\":\"p1606\",\"attributes\":{\"name\":\"Row02615\",\"tags\":[\"embedded\"],\"stylesheets\":[\"\\n:host(.pn-loading):before, .pn-loading:before {\\n  background-color: #c3c3c3;\\n  mask-size: auto calc(min(50%, 400px));\\n  -webkit-mask-size: auto calc(min(50%, 400px));\\n}\",{\"type\":\"object\",\"name\":\"ImportedStyleSheet\",\"id\":\"p1609\",\"attributes\":{\"url\":\"https://cdn.holoviz.org/panel/1.4.4/dist/css/loading.css\"}},{\"type\":\"object\",\"name\":\"ImportedStyleSheet\",\"id\":\"p1666\",\"attributes\":{\"url\":\"https://cdn.holoviz.org/panel/1.4.4/dist/css/listpanel.css\"}},{\"type\":\"object\",\"name\":\"ImportedStyleSheet\",\"id\":\"p1607\",\"attributes\":{\"url\":\"https://cdn.holoviz.org/panel/1.4.4/dist/bundled/theme/default.css\"}},{\"type\":\"object\",\"name\":\"ImportedStyleSheet\",\"id\":\"p1608\",\"attributes\":{\"url\":\"https://cdn.holoviz.org/panel/1.4.4/dist/bundled/theme/native.css\"}}],\"min_width\":1000,\"margin\":0,\"sizing_mode\":\"stretch_width\",\"align\":\"start\",\"children\":[{\"type\":\"object\",\"name\":\"Spacer\",\"id\":\"p1610\",\"attributes\":{\"name\":\"HSpacer02622\",\"stylesheets\":[\"\\n:host(.pn-loading):before, .pn-loading:before {\\n  background-color: #c3c3c3;\\n  mask-size: auto calc(min(50%, 400px));\\n  -webkit-mask-size: auto calc(min(50%, 400px));\\n}\",{\"id\":\"p1609\"},{\"id\":\"p1607\"},{\"id\":\"p1608\"}],\"margin\":0,\"sizing_mode\":\"stretch_width\",\"align\":\"start\"}},{\"type\":\"object\",\"name\":\"Figure\",\"id\":\"p1618\",\"attributes\":{\"width\":1000,\"height\":300,\"margin\":[5,10],\"sizing_mode\":\"fixed\",\"align\":\"start\",\"x_range\":{\"type\":\"object\",\"name\":\"FactorRange\",\"id\":\"p1611\",\"attributes\":{\"tags\":[[[\"year\",null],[\"partyabbre\",null]],[]],\"factors\":[[\"1977\",\"INC\"],[\"1977\",\"BJP\"],[\"1977\",\"SP\"],[\"1977\",\"RJD\"],[\"1977\",\"JD(U)\"],[\"1984\",\"INC\"],[\"1984\",\"BJP\"],[\"1984\",\"SP\"],[\"1984\",\"RJD\"],[\"1984\",\"JD(U)\"],[\"1989\",\"INC\"],[\"1989\",\"BJP\"],[\"1989\",\"SP\"],[\"1989\",\"RJD\"],[\"1989\",\"JD(U)\"],[\"1991\",\"INC\"],[\"1991\",\"BJP\"],[\"1991\",\"SP\"],[\"1991\",\"RJD\"],[\"1991\",\"JD(U)\"],[\"1996\",\"INC\"],[\"1996\",\"BJP\"],[\"1996\",\"SP\"],[\"1996\",\"RJD\"],[\"1996\",\"JD(U)\"],[\"1998\",\"INC\"],[\"1998\",\"BJP\"],[\"1998\",\"SP\"],[\"1998\",\"RJD\"],[\"1998\",\"JD(U)\"],[\"1999\",\"INC\"],[\"1999\",\"BJP\"],[\"1999\",\"SP\"],[\"1999\",\"RJD\"],[\"1999\",\"JD(U)\"],[\"2004\",\"INC\"],[\"2004\",\"BJP\"],[\"2004\",\"SP\"],[\"2004\",\"RJD\"],[\"2004\",\"JD(U)\"],[\"2009\",\"INC\"],[\"2009\",\"BJP\"],[\"2009\",\"SP\"],[\"2009\",\"RJD\"],[\"2009\",\"JD(U)\"],[\"2014\",\"INC\"],[\"2014\",\"BJP\"],[\"2014\",\"SP\"],[\"2014\",\"RJD\"],[\"2014\",\"JD(U)\"]]}},\"y_range\":{\"type\":\"object\",\"name\":\"Range1d\",\"id\":\"p1612\",\"attributes\":{\"tags\":[[[\"pct\",null]],{\"type\":\"map\",\"entries\":[[\"invert_yaxis\",false],[\"autorange\",false]]}],\"end\":52.931999999999995,\"reset_start\":0.0,\"reset_end\":52.931999999999995}},\"x_scale\":{\"type\":\"object\",\"name\":\"CategoricalScale\",\"id\":\"p1628\"},\"y_scale\":{\"type\":\"object\",\"name\":\"LinearScale\",\"id\":\"p1629\"},\"title\":{\"type\":\"object\",\"name\":\"Title\",\"id\":\"p1621\",\"attributes\":{\"text_color\":\"black\",\"text_font_size\":\"12pt\"}},\"renderers\":[{\"type\":\"object\",\"name\":\"GlyphRenderer\",\"id\":\"p1659\",\"attributes\":{\"data_source\":{\"type\":\"object\",\"name\":\"ColumnDataSource\",\"id\":\"p1650\",\"attributes\":{\"selected\":{\"type\":\"object\",\"name\":\"Selection\",\"id\":\"p1651\",\"attributes\":{\"indices\":[],\"line_indices\":[]}},\"selection_policy\":{\"type\":\"object\",\"name\":\"UnionRenderers\",\"id\":\"p1652\"},\"data\":{\"type\":\"map\",\"entries\":[[\"xoffsets\",[[\"1977\",\"INC\"],[\"1984\",\"INC\"],[\"1989\",\"INC\"],[\"1991\",\"INC\"],[\"1996\",\"INC\"],[\"1998\",\"INC\"],[\"1999\",\"INC\"],[\"2004\",\"INC\"],[\"2009\",\"INC\"],[\"2014\",\"INC\"],[\"1984\",\"BJP\"],[\"1989\",\"BJP\"],[\"1991\",\"BJP\"],[\"1996\",\"BJP\"],[\"1998\",\"BJP\"],[\"1999\",\"BJP\"],[\"2004\",\"BJP\"],[\"2009\",\"BJP\"],[\"2014\",\"BJP\"],[\"1991\",\"SP\"],[\"1996\",\"SP\"],[\"1998\",\"SP\"],[\"1999\",\"SP\"],[\"2004\",\"SP\"],[\"2009\",\"SP\"],[\"2014\",\"SP\"],[\"1998\",\"RJD\"],[\"1999\",\"RJD\"],[\"2004\",\"RJD\"],[\"2009\",\"RJD\"],[\"2014\",\"RJD\"],[\"1999\",\"JD(U)\"],[\"2004\",\"JD(U)\"],[\"2009\",\"JD(U)\"],[\"2014\",\"JD(U)\"]]],[\"pct\",{\"type\":\"ndarray\",\"array\":{\"type\":\"bytes\",\"data\":\"w/UoXI9CQUCPwvUoXA9IQIXrUbgexUNAFK5H4Xo0QkCamZmZmdk8QJqZmZmZ2TlAmpmZmZlZPEBI4XoUroc6QLgehetReDxAj8L1KFxPM0CamZmZmZkdQLgehetRuCZAUrgehesRNEApXI/C9Sg0QB+F61G4njlApHA9CtejN0ApXI/C9Sg2QArXo3A9yjJAAAAAAAAAP0AAAAAAAAAAAFK4HoXrUQpAw/UoXI/CE0ApXI/C9SgOQEjhehSuRxFAXI/C9ShcC0D2KFyPwvUKQHE9CtejcAVAUrgehetRBkBI4XoUrkcDQFK4HoXrUfQ/cT0K16Nw9T/NzMzMzMwIQM3MzMzMzAJAUrgehetR+D9I4XoUrkfxPw==\"},\"shape\":[35],\"dtype\":\"float64\",\"order\":\"little\"}],[\"year\",{\"type\":\"ndarray\",\"array\":{\"type\":\"bytes\",\"data\":\"uQcAAMAHAADFBwAAxwcAAMwHAADOBwAAzwcAANQHAADZBwAA3gcAAMAHAADFBwAAxwcAAMwHAADOBwAAzwcAANQHAADZBwAA3gcAAMcHAADMBwAAzgcAAM8HAADUBwAA2QcAAN4HAADOBwAAzwcAANQHAADZBwAA3gcAAM8HAADUBwAA2QcAAN4HAAA=\"},\"shape\":[35],\"dtype\":\"int32\",\"order\":\"little\"}],[\"partyabbre\",[\"INC\",\"INC\",\"INC\",\"INC\",\"INC\",\"INC\",\"INC\",\"INC\",\"INC\",\"INC\",\"BJP\",\"BJP\",\"BJP\",\"BJP\",\"BJP\",\"BJP\",\"BJP\",\"BJP\",\"BJP\",\"SP\",\"SP\",\"SP\",\"SP\",\"SP\",\"SP\",\"SP\",\"RJD\",\"RJD\",\"RJD\",\"RJD\",\"RJD\",\"JD(U)\",\"JD(U)\",\"JD(U)\",\"JD(U)\"]]]}}},\"view\":{\"type\":\"object\",\"name\":\"CDSView\",\"id\":\"p1660\",\"attributes\":{\"filter\":{\"type\":\"object\",\"name\":\"AllIndices\",\"id\":\"p1661\"}}},\"glyph\":{\"type\":\"object\",\"name\":\"VBar\",\"id\":\"p1656\",\"attributes\":{\"tags\":[\"apply_ranges\"],\"x\":{\"type\":\"field\",\"field\":\"xoffsets\"},\"width\":{\"type\":\"value\",\"value\":0.8},\"top\":{\"type\":\"field\",\"field\":\"pct\"},\"fill_color\":{\"type\":\"field\",\"field\":\"partyabbre\",\"transform\":{\"type\":\"object\",\"name\":\"CategoricalColorMapper\",\"id\":\"p1649\",\"attributes\":{\"palette\":[\"#30a2da\",\"#fc4f30\",\"#e5ae38\",\"#6d904f\",\"#8b8b8b\"],\"factors\":[\"INC\",\"BJP\",\"SP\",\"RJD\",\"JD(U)\"]}}},\"hatch_color\":{\"type\":\"field\",\"field\":\"partyabbre\",\"transform\":{\"id\":\"p1649\"}}}},\"selection_glyph\":{\"type\":\"object\",\"name\":\"VBar\",\"id\":\"p1662\",\"attributes\":{\"tags\":[\"apply_ranges\"],\"x\":{\"type\":\"field\",\"field\":\"xoffsets\"},\"width\":{\"type\":\"value\",\"value\":0.8},\"bottom\":{\"type\":\"value\",\"value\":0},\"top\":{\"type\":\"field\",\"field\":\"pct\"},\"line_color\":{\"type\":\"value\",\"value\":\"black\"},\"line_alpha\":{\"type\":\"value\",\"value\":1.0},\"line_width\":{\"type\":\"value\",\"value\":1},\"line_join\":{\"type\":\"value\",\"value\":\"bevel\"},\"line_cap\":{\"type\":\"value\",\"value\":\"butt\"},\"line_dash\":{\"type\":\"value\",\"value\":[]},\"line_dash_offset\":{\"type\":\"value\",\"value\":0},\"fill_color\":{\"type\":\"field\",\"field\":\"partyabbre\",\"transform\":{\"id\":\"p1649\"}},\"fill_alpha\":{\"type\":\"value\",\"value\":1.0},\"hatch_color\":{\"type\":\"field\",\"field\":\"partyabbre\",\"transform\":{\"id\":\"p1649\"}},\"hatch_alpha\":{\"type\":\"value\",\"value\":1.0},\"hatch_scale\":{\"type\":\"value\",\"value\":12.0},\"hatch_pattern\":{\"type\":\"value\",\"value\":null},\"hatch_weight\":{\"type\":\"value\",\"value\":1.0}}},\"nonselection_glyph\":{\"type\":\"object\",\"name\":\"VBar\",\"id\":\"p1657\",\"attributes\":{\"tags\":[\"apply_ranges\"],\"x\":{\"type\":\"field\",\"field\":\"xoffsets\"},\"width\":{\"type\":\"value\",\"value\":0.8},\"top\":{\"type\":\"field\",\"field\":\"pct\"},\"line_alpha\":{\"type\":\"value\",\"value\":0.1},\"fill_color\":{\"type\":\"field\",\"field\":\"partyabbre\",\"transform\":{\"id\":\"p1649\"}},\"fill_alpha\":{\"type\":\"value\",\"value\":0.1},\"hatch_color\":{\"type\":\"field\",\"field\":\"partyabbre\",\"transform\":{\"id\":\"p1649\"}},\"hatch_alpha\":{\"type\":\"value\",\"value\":0.1}}},\"muted_glyph\":{\"type\":\"object\",\"name\":\"VBar\",\"id\":\"p1658\",\"attributes\":{\"tags\":[\"apply_ranges\"],\"x\":{\"type\":\"field\",\"field\":\"xoffsets\"},\"width\":{\"type\":\"value\",\"value\":0.8},\"top\":{\"type\":\"field\",\"field\":\"pct\"},\"line_alpha\":{\"type\":\"value\",\"value\":0.2},\"fill_color\":{\"type\":\"field\",\"field\":\"partyabbre\",\"transform\":{\"id\":\"p1649\"}},\"fill_alpha\":{\"type\":\"value\",\"value\":0.2},\"hatch_color\":{\"type\":\"field\",\"field\":\"partyabbre\",\"transform\":{\"id\":\"p1649\"}},\"hatch_alpha\":{\"type\":\"value\",\"value\":0.2}}}}}],\"toolbar\":{\"type\":\"object\",\"name\":\"Toolbar\",\"id\":\"p1627\",\"attributes\":{\"tools\":[{\"type\":\"object\",\"name\":\"WheelZoomTool\",\"id\":\"p1616\",\"attributes\":{\"tags\":[\"hv_created\"],\"renderers\":\"auto\",\"zoom_together\":\"none\"}},{\"type\":\"object\",\"name\":\"HoverTool\",\"id\":\"p1617\",\"attributes\":{\"tags\":[\"hv_created\"],\"renderers\":[{\"id\":\"p1659\"}],\"tooltips\":[[\"year\",\"@{year}\"],[\"partyabbre\",\"@{partyabbre}\"],[\"pct\",\"@{pct}\"]]}},{\"type\":\"object\",\"name\":\"SaveTool\",\"id\":\"p1640\"},{\"type\":\"object\",\"name\":\"PanTool\",\"id\":\"p1641\"},{\"type\":\"object\",\"name\":\"BoxZoomTool\",\"id\":\"p1642\",\"attributes\":{\"overlay\":{\"type\":\"object\",\"name\":\"BoxAnnotation\",\"id\":\"p1643\",\"attributes\":{\"syncable\":false,\"level\":\"overlay\",\"visible\":false,\"left\":{\"type\":\"number\",\"value\":\"nan\"},\"right\":{\"type\":\"number\",\"value\":\"nan\"},\"top\":{\"type\":\"number\",\"value\":\"nan\"},\"bottom\":{\"type\":\"number\",\"value\":\"nan\"},\"left_units\":\"canvas\",\"right_units\":\"canvas\",\"top_units\":\"canvas\",\"bottom_units\":\"canvas\",\"line_color\":\"black\",\"line_alpha\":1.0,\"line_width\":2,\"line_dash\":[4,4],\"fill_color\":\"lightgrey\",\"fill_alpha\":0.5}}}},{\"type\":\"object\",\"name\":\"ResetTool\",\"id\":\"p1648\"}],\"active_drag\":{\"id\":\"p1641\"},\"active_scroll\":{\"id\":\"p1616\"}}},\"left\":[{\"type\":\"object\",\"name\":\"LinearAxis\",\"id\":\"p1635\",\"attributes\":{\"ticker\":{\"type\":\"object\",\"name\":\"BasicTicker\",\"id\":\"p1636\",\"attributes\":{\"mantissas\":[1,2,5]}},\"formatter\":{\"type\":\"object\",\"name\":\"BasicTickFormatter\",\"id\":\"p1637\"},\"axis_label\":\"pct\",\"major_label_policy\":{\"type\":\"object\",\"name\":\"AllLabels\",\"id\":\"p1638\"}}}],\"below\":[{\"type\":\"object\",\"name\":\"CategoricalAxis\",\"id\":\"p1630\",\"attributes\":{\"ticker\":{\"type\":\"object\",\"name\":\"CategoricalTicker\",\"id\":\"p1631\"},\"formatter\":{\"type\":\"object\",\"name\":\"CategoricalTickFormatter\",\"id\":\"p1632\"},\"axis_label\":\"year, partyabbre\",\"major_label_orientation\":0.7853981633974483,\"major_label_policy\":{\"type\":\"object\",\"name\":\"AllLabels\",\"id\":\"p1633\"}}}],\"center\":[{\"type\":\"object\",\"name\":\"Grid\",\"id\":\"p1634\",\"attributes\":{\"axis\":{\"id\":\"p1630\"},\"grid_line_color\":null}},{\"type\":\"object\",\"name\":\"Grid\",\"id\":\"p1639\",\"attributes\":{\"dimension\":1,\"axis\":{\"id\":\"p1635\"},\"grid_line_color\":null}}],\"min_border_top\":10,\"min_border_bottom\":10,\"min_border_left\":10,\"min_border_right\":10,\"output_backend\":\"webgl\"}},{\"type\":\"object\",\"name\":\"Spacer\",\"id\":\"p1664\",\"attributes\":{\"name\":\"HSpacer02623\",\"stylesheets\":[\"\\n:host(.pn-loading):before, .pn-loading:before {\\n  background-color: #c3c3c3;\\n  mask-size: auto calc(min(50%, 400px));\\n  -webkit-mask-size: auto calc(min(50%, 400px));\\n}\",{\"id\":\"p1609\"},{\"id\":\"p1607\"},{\"id\":\"p1608\"}],\"margin\":0,\"sizing_mode\":\"stretch_width\",\"align\":\"start\"}}]}}],\"defs\":[{\"type\":\"model\",\"name\":\"ReactiveHTML1\"},{\"type\":\"model\",\"name\":\"FlexBox1\",\"properties\":[{\"name\":\"align_content\",\"kind\":\"Any\",\"default\":\"flex-start\"},{\"name\":\"align_items\",\"kind\":\"Any\",\"default\":\"flex-start\"},{\"name\":\"flex_direction\",\"kind\":\"Any\",\"default\":\"row\"},{\"name\":\"flex_wrap\",\"kind\":\"Any\",\"default\":\"wrap\"},{\"name\":\"gap\",\"kind\":\"Any\",\"default\":\"\"},{\"name\":\"justify_content\",\"kind\":\"Any\",\"default\":\"flex-start\"}]},{\"type\":\"model\",\"name\":\"FloatPanel1\",\"properties\":[{\"name\":\"config\",\"kind\":\"Any\",\"default\":{\"type\":\"map\"}},{\"name\":\"contained\",\"kind\":\"Any\",\"default\":true},{\"name\":\"position\",\"kind\":\"Any\",\"default\":\"right-top\"},{\"name\":\"offsetx\",\"kind\":\"Any\",\"default\":null},{\"name\":\"offsety\",\"kind\":\"Any\",\"default\":null},{\"name\":\"theme\",\"kind\":\"Any\",\"default\":\"primary\"},{\"name\":\"status\",\"kind\":\"Any\",\"default\":\"normalized\"}]},{\"type\":\"model\",\"name\":\"GridStack1\",\"properties\":[{\"name\":\"mode\",\"kind\":\"Any\",\"default\":\"warn\"},{\"name\":\"ncols\",\"kind\":\"Any\",\"default\":null},{\"name\":\"nrows\",\"kind\":\"Any\",\"default\":null},{\"name\":\"allow_resize\",\"kind\":\"Any\",\"default\":true},{\"name\":\"allow_drag\",\"kind\":\"Any\",\"default\":true},{\"name\":\"state\",\"kind\":\"Any\",\"default\":[]}]},{\"type\":\"model\",\"name\":\"drag1\",\"properties\":[{\"name\":\"slider_width\",\"kind\":\"Any\",\"default\":5},{\"name\":\"slider_color\",\"kind\":\"Any\",\"default\":\"black\"},{\"name\":\"value\",\"kind\":\"Any\",\"default\":50}]},{\"type\":\"model\",\"name\":\"click1\",\"properties\":[{\"name\":\"terminal_output\",\"kind\":\"Any\",\"default\":\"\"},{\"name\":\"debug_name\",\"kind\":\"Any\",\"default\":\"\"},{\"name\":\"clears\",\"kind\":\"Any\",\"default\":0}]},{\"type\":\"model\",\"name\":\"FastWrapper1\",\"properties\":[{\"name\":\"object\",\"kind\":\"Any\",\"default\":null},{\"name\":\"style\",\"kind\":\"Any\",\"default\":null}]},{\"type\":\"model\",\"name\":\"NotificationAreaBase1\",\"properties\":[{\"name\":\"js_events\",\"kind\":\"Any\",\"default\":{\"type\":\"map\"}},{\"name\":\"position\",\"kind\":\"Any\",\"default\":\"bottom-right\"},{\"name\":\"_clear\",\"kind\":\"Any\",\"default\":0}]},{\"type\":\"model\",\"name\":\"NotificationArea1\",\"properties\":[{\"name\":\"js_events\",\"kind\":\"Any\",\"default\":{\"type\":\"map\"}},{\"name\":\"notifications\",\"kind\":\"Any\",\"default\":[]},{\"name\":\"position\",\"kind\":\"Any\",\"default\":\"bottom-right\"},{\"name\":\"_clear\",\"kind\":\"Any\",\"default\":0},{\"name\":\"types\",\"kind\":\"Any\",\"default\":[{\"type\":\"map\",\"entries\":[[\"type\",\"warning\"],[\"background\",\"#ffc107\"],[\"icon\",{\"type\":\"map\",\"entries\":[[\"className\",\"fas fa-exclamation-triangle\"],[\"tagName\",\"i\"],[\"color\",\"white\"]]}]]},{\"type\":\"map\",\"entries\":[[\"type\",\"info\"],[\"background\",\"#007bff\"],[\"icon\",{\"type\":\"map\",\"entries\":[[\"className\",\"fas fa-info-circle\"],[\"tagName\",\"i\"],[\"color\",\"white\"]]}]]}]}]},{\"type\":\"model\",\"name\":\"Notification\",\"properties\":[{\"name\":\"background\",\"kind\":\"Any\",\"default\":null},{\"name\":\"duration\",\"kind\":\"Any\",\"default\":3000},{\"name\":\"icon\",\"kind\":\"Any\",\"default\":null},{\"name\":\"message\",\"kind\":\"Any\",\"default\":\"\"},{\"name\":\"notification_type\",\"kind\":\"Any\",\"default\":null},{\"name\":\"_destroyed\",\"kind\":\"Any\",\"default\":false}]},{\"type\":\"model\",\"name\":\"TemplateActions1\",\"properties\":[{\"name\":\"open_modal\",\"kind\":\"Any\",\"default\":0},{\"name\":\"close_modal\",\"kind\":\"Any\",\"default\":0}]},{\"type\":\"model\",\"name\":\"BootstrapTemplateActions1\",\"properties\":[{\"name\":\"open_modal\",\"kind\":\"Any\",\"default\":0},{\"name\":\"close_modal\",\"kind\":\"Any\",\"default\":0}]},{\"type\":\"model\",\"name\":\"TemplateEditor1\",\"properties\":[{\"name\":\"layout\",\"kind\":\"Any\",\"default\":[]}]},{\"type\":\"model\",\"name\":\"MaterialTemplateActions1\",\"properties\":[{\"name\":\"open_modal\",\"kind\":\"Any\",\"default\":0},{\"name\":\"close_modal\",\"kind\":\"Any\",\"default\":0}]},{\"type\":\"model\",\"name\":\"copy_to_clipboard1\",\"properties\":[{\"name\":\"fill\",\"kind\":\"Any\",\"default\":\"none\"},{\"name\":\"value\",\"kind\":\"Any\",\"default\":null}]}]}};\n",
       "  var render_items = [{\"docid\":\"65f7d339-16a5-415f-95ed-642d276a6817\",\"roots\":{\"p1606\":\"c67a08c6-730a-499a-a5e4-7b6bd394c9e1\"},\"root_ids\":[\"p1606\"]}];\n",
       "  var docs = Object.values(docs_json)\n",
       "  if (!docs) {\n",
       "    return\n",
       "  }\n",
       "  const py_version = docs[0].version.replace('rc', '-rc.').replace('.dev', '-dev.')\n",
       "  async function embed_document(root) {\n",
       "    var Bokeh = get_bokeh(root)\n",
       "    await Bokeh.embed.embed_items_notebook(docs_json, render_items);\n",
       "    for (const render_item of render_items) {\n",
       "      for (const root_id of render_item.root_ids) {\n",
       "\tconst id_el = document.getElementById(root_id)\n",
       "\tif (id_el.children.length && id_el.children[0].hasAttribute('data-root-id')) {\n",
       "\t  const root_el = id_el.children[0]\n",
       "\t  root_el.id = root_el.id + '-rendered'\n",
       "\t  for (const child of root_el.children) {\n",
       "            // Ensure JupyterLab does not capture keyboard shortcuts\n",
       "            // see: https://jupyterlab.readthedocs.io/en/4.1.x/extension/notebook.html#keyboard-interaction-model\n",
       "\t    child.setAttribute('data-lm-suppress-shortcuts', 'true')\n",
       "\t  }\n",
       "\t}\n",
       "      }\n",
       "    }\n",
       "  }\n",
       "  function get_bokeh(root) {\n",
       "    if (root.Bokeh === undefined) {\n",
       "      return null\n",
       "    } else if (root.Bokeh.version !== py_version) {\n",
       "      if (root.Bokeh.versions === undefined || !root.Bokeh.versions.has(py_version)) {\n",
       "\treturn null\n",
       "      }\n",
       "      return root.Bokeh.versions.get(py_version);\n",
       "    } else if (root.Bokeh.version === py_version) {\n",
       "      return root.Bokeh\n",
       "    }\n",
       "    return null\n",
       "  }\n",
       "  function is_loaded(root) {\n",
       "    var Bokeh = get_bokeh(root)\n",
       "    return (Bokeh != null && Bokeh.Panel !== undefined)\n",
       "  }\n",
       "  if (is_loaded(root)) {\n",
       "    embed_document(root);\n",
       "  } else {\n",
       "    var attempts = 0;\n",
       "    var timer = setInterval(function(root) {\n",
       "      if (is_loaded(root)) {\n",
       "        clearInterval(timer);\n",
       "        embed_document(root);\n",
       "      } else if (document.readyState == \"complete\") {\n",
       "        attempts++;\n",
       "        if (attempts > 200) {\n",
       "          clearInterval(timer);\n",
       "\t  var Bokeh = get_bokeh(root)\n",
       "\t  if (Bokeh == null || Bokeh.Panel == null) {\n",
       "            console.warn(\"Panel: ERROR: Unable to run Panel code because Bokeh or Panel library is missing\");\n",
       "\t  } else {\n",
       "\t    console.warn(\"Panel: WARNING: Attempting to render but not all required libraries could be resolved.\")\n",
       "\t    embed_document(root)\n",
       "\t  }\n",
       "        }\n",
       "      }\n",
       "    }, 25, root)\n",
       "  }\n",
       "})(window);</script>"
      ],
      "text/plain": [
       ":Bars   [year,partyabbre]   (pct)"
      ]
     },
     "execution_count": 15,
     "metadata": {
      "application/vnd.holoviews_exec.v0+json": {
       "id": "p1606"
      }
     },
     "output_type": "execute_result"
    }
   ],
   "source": [
    "temp.plot.bar(\n",
    "    x=\"year\",\n",
    "    y=\"pct\",\n",
    "    by=\"partyabbre\",\n",
    "    rot=45,\n",
    "    width=1000,\n",
    ")"
   ]
  },
  {
   "cell_type": "code",
   "execution_count": 24,
   "metadata": {},
   "outputs": [
    {
     "ename": "ValueError",
     "evalue": "Mime type rendering requires nbformat>=4.2.0 but it is not installed",
     "output_type": "error",
     "traceback": [
      "\u001b[0;31m---------------------------------------------------------------------------\u001b[0m",
      "\u001b[0;31mValueError\u001b[0m                                Traceback (most recent call last)",
      "File \u001b[0;32m~/Developer/notebooks/.venv/lib/python3.11/site-packages/IPython/core/formatters.py:925\u001b[0m, in \u001b[0;36mIPythonDisplayFormatter.__call__\u001b[0;34m(self, obj)\u001b[0m\n\u001b[1;32m    923\u001b[0m method \u001b[38;5;241m=\u001b[39m get_real_method(obj, \u001b[38;5;28mself\u001b[39m\u001b[38;5;241m.\u001b[39mprint_method)\n\u001b[1;32m    924\u001b[0m \u001b[38;5;28;01mif\u001b[39;00m method \u001b[38;5;129;01mis\u001b[39;00m \u001b[38;5;129;01mnot\u001b[39;00m \u001b[38;5;28;01mNone\u001b[39;00m:\n\u001b[0;32m--> 925\u001b[0m     \u001b[43mmethod\u001b[49m\u001b[43m(\u001b[49m\u001b[43m)\u001b[49m\n\u001b[1;32m    926\u001b[0m     \u001b[38;5;28;01mreturn\u001b[39;00m \u001b[38;5;28;01mTrue\u001b[39;00m\n",
      "File \u001b[0;32m~/Developer/notebooks/.venv/lib/python3.11/site-packages/plotly/basedatatypes.py:832\u001b[0m, in \u001b[0;36mBaseFigure._ipython_display_\u001b[0;34m(self)\u001b[0m\n\u001b[1;32m    829\u001b[0m \u001b[38;5;28;01mimport\u001b[39;00m \u001b[38;5;21;01mplotly\u001b[39;00m\u001b[38;5;21;01m.\u001b[39;00m\u001b[38;5;21;01mio\u001b[39;00m \u001b[38;5;28;01mas\u001b[39;00m \u001b[38;5;21;01mpio\u001b[39;00m\n\u001b[1;32m    831\u001b[0m \u001b[38;5;28;01mif\u001b[39;00m pio\u001b[38;5;241m.\u001b[39mrenderers\u001b[38;5;241m.\u001b[39mrender_on_display \u001b[38;5;129;01mand\u001b[39;00m pio\u001b[38;5;241m.\u001b[39mrenderers\u001b[38;5;241m.\u001b[39mdefault:\n\u001b[0;32m--> 832\u001b[0m     \u001b[43mpio\u001b[49m\u001b[38;5;241;43m.\u001b[39;49m\u001b[43mshow\u001b[49m\u001b[43m(\u001b[49m\u001b[38;5;28;43mself\u001b[39;49m\u001b[43m)\u001b[49m\n\u001b[1;32m    833\u001b[0m \u001b[38;5;28;01melse\u001b[39;00m:\n\u001b[1;32m    834\u001b[0m     \u001b[38;5;28mprint\u001b[39m(\u001b[38;5;28mrepr\u001b[39m(\u001b[38;5;28mself\u001b[39m))\n",
      "File \u001b[0;32m~/Developer/notebooks/.venv/lib/python3.11/site-packages/plotly/io/_renderers.py:394\u001b[0m, in \u001b[0;36mshow\u001b[0;34m(fig, renderer, validate, **kwargs)\u001b[0m\n\u001b[1;32m    389\u001b[0m         \u001b[38;5;28;01mraise\u001b[39;00m \u001b[38;5;167;01mValueError\u001b[39;00m(\n\u001b[1;32m    390\u001b[0m             \u001b[38;5;124m\"\u001b[39m\u001b[38;5;124mMime type rendering requires ipython but it is not installed\u001b[39m\u001b[38;5;124m\"\u001b[39m\n\u001b[1;32m    391\u001b[0m         )\n\u001b[1;32m    393\u001b[0m     \u001b[38;5;28;01mif\u001b[39;00m \u001b[38;5;129;01mnot\u001b[39;00m nbformat \u001b[38;5;129;01mor\u001b[39;00m Version(nbformat\u001b[38;5;241m.\u001b[39m__version__) \u001b[38;5;241m<\u001b[39m Version(\u001b[38;5;124m\"\u001b[39m\u001b[38;5;124m4.2.0\u001b[39m\u001b[38;5;124m\"\u001b[39m):\n\u001b[0;32m--> 394\u001b[0m         \u001b[38;5;28;01mraise\u001b[39;00m \u001b[38;5;167;01mValueError\u001b[39;00m(\n\u001b[1;32m    395\u001b[0m             \u001b[38;5;124m\"\u001b[39m\u001b[38;5;124mMime type rendering requires nbformat>=4.2.0 but it is not installed\u001b[39m\u001b[38;5;124m\"\u001b[39m\n\u001b[1;32m    396\u001b[0m         )\n\u001b[1;32m    398\u001b[0m     ipython_display\u001b[38;5;241m.\u001b[39mdisplay(bundle, raw\u001b[38;5;241m=\u001b[39m\u001b[38;5;28;01mTrue\u001b[39;00m)\n\u001b[1;32m    400\u001b[0m \u001b[38;5;66;03m# external renderers\u001b[39;00m\n",
      "\u001b[0;31mValueError\u001b[0m: Mime type rendering requires nbformat>=4.2.0 but it is not installed"
     ]
    },
    {
     "data": {
      "application/vnd.plotly.v1+json": {
       "config": {
        "plotlyServerURL": "https://plot.ly"
       },
       "data": [
        {
         "branchvalues": "total",
         "domain": {
          "x": [
           0,
           1
          ],
          "y": [
           0,
           1
          ]
         },
         "hovertemplate": "labels=%{label}<br>pct=%{value}<br>parent=%{parent}<br>id=%{id}<extra></extra>",
         "ids": [
          "1984/BJP",
          "1989/BJP",
          "1991/BJP",
          "1996/BJP",
          "1998/BJP",
          "1999/BJP",
          "2004/BJP",
          "2009/BJP",
          "2014/BJP",
          "1977/INC",
          "1984/INC",
          "1989/INC",
          "1991/INC",
          "1996/INC",
          "1998/INC",
          "1999/INC",
          "2004/INC",
          "2009/INC",
          "2014/INC",
          "1999/JD(U)",
          "2004/JD(U)",
          "2009/JD(U)",
          "2014/JD(U)",
          "1998/RJD",
          "1999/RJD",
          "2004/RJD",
          "2009/RJD",
          "2014/RJD",
          "1991/SP",
          "1996/SP",
          "1998/SP",
          "1999/SP",
          "2004/SP",
          "2009/SP",
          "2014/SP",
          "1977",
          "1984",
          "1989",
          "1991",
          "1996",
          "1998",
          "1999",
          "2004",
          "2009",
          "2014"
         ],
         "labels": [
          "BJP",
          "BJP",
          "BJP",
          "BJP",
          "BJP",
          "BJP",
          "BJP",
          "BJP",
          "BJP",
          "INC",
          "INC",
          "INC",
          "INC",
          "INC",
          "INC",
          "INC",
          "INC",
          "INC",
          "INC",
          "JD(U)",
          "JD(U)",
          "JD(U)",
          "JD(U)",
          "RJD",
          "RJD",
          "RJD",
          "RJD",
          "RJD",
          "SP",
          "SP",
          "SP",
          "SP",
          "SP",
          "SP",
          "SP",
          "1977",
          "1984",
          "1989",
          "1991",
          "1996",
          "1998",
          "1999",
          "2004",
          "2009",
          "2014"
         ],
         "name": "",
         "parents": [
          "1984",
          "1989",
          "1991",
          "1996",
          "1998",
          "1999",
          "2004",
          "2009",
          "2014",
          "1977",
          "1984",
          "1989",
          "1991",
          "1996",
          "1998",
          "1999",
          "2004",
          "2009",
          "2014",
          "1999",
          "2004",
          "2009",
          "2014",
          "1998",
          "1999",
          "2004",
          "2009",
          "2014",
          "1991",
          "1996",
          "1998",
          "1999",
          "2004",
          "2009",
          "2014",
          "",
          "",
          "",
          "",
          "",
          "",
          "",
          "",
          "",
          ""
         ],
         "type": "sunburst",
         "values": [
          7.4,
          11.36,
          20.07,
          20.16,
          25.62,
          23.64,
          22.16,
          18.79,
          31,
          34.52,
          48.12,
          39.54,
          36.41,
          28.85,
          25.85,
          28.35,
          26.53,
          28.47,
          19.31,
          3.1,
          2.35,
          1.52,
          1.08,
          2.68,
          2.79,
          2.41,
          1.27,
          1.34,
          0,
          3.29,
          4.94,
          3.77,
          4.32,
          3.42,
          3.37,
          34.52,
          55.52,
          50.9,
          56.48,
          52.3,
          59.09,
          61.650000000000006,
          57.77,
          53.47,
          56.1
         ]
        }
       ],
       "layout": {
        "legend": {
         "tracegroupgap": 0
        },
        "margin": {
         "t": 60
        },
        "template": {
         "data": {
          "bar": [
           {
            "error_x": {
             "color": "#2a3f5f"
            },
            "error_y": {
             "color": "#2a3f5f"
            },
            "marker": {
             "line": {
              "color": "#E5ECF6",
              "width": 0.5
             },
             "pattern": {
              "fillmode": "overlay",
              "size": 10,
              "solidity": 0.2
             }
            },
            "type": "bar"
           }
          ],
          "barpolar": [
           {
            "marker": {
             "line": {
              "color": "#E5ECF6",
              "width": 0.5
             },
             "pattern": {
              "fillmode": "overlay",
              "size": 10,
              "solidity": 0.2
             }
            },
            "type": "barpolar"
           }
          ],
          "carpet": [
           {
            "aaxis": {
             "endlinecolor": "#2a3f5f",
             "gridcolor": "white",
             "linecolor": "white",
             "minorgridcolor": "white",
             "startlinecolor": "#2a3f5f"
            },
            "baxis": {
             "endlinecolor": "#2a3f5f",
             "gridcolor": "white",
             "linecolor": "white",
             "minorgridcolor": "white",
             "startlinecolor": "#2a3f5f"
            },
            "type": "carpet"
           }
          ],
          "choropleth": [
           {
            "colorbar": {
             "outlinewidth": 0,
             "ticks": ""
            },
            "type": "choropleth"
           }
          ],
          "contour": [
           {
            "colorbar": {
             "outlinewidth": 0,
             "ticks": ""
            },
            "colorscale": [
             [
              0,
              "#0d0887"
             ],
             [
              0.1111111111111111,
              "#46039f"
             ],
             [
              0.2222222222222222,
              "#7201a8"
             ],
             [
              0.3333333333333333,
              "#9c179e"
             ],
             [
              0.4444444444444444,
              "#bd3786"
             ],
             [
              0.5555555555555556,
              "#d8576b"
             ],
             [
              0.6666666666666666,
              "#ed7953"
             ],
             [
              0.7777777777777778,
              "#fb9f3a"
             ],
             [
              0.8888888888888888,
              "#fdca26"
             ],
             [
              1,
              "#f0f921"
             ]
            ],
            "type": "contour"
           }
          ],
          "contourcarpet": [
           {
            "colorbar": {
             "outlinewidth": 0,
             "ticks": ""
            },
            "type": "contourcarpet"
           }
          ],
          "heatmap": [
           {
            "colorbar": {
             "outlinewidth": 0,
             "ticks": ""
            },
            "colorscale": [
             [
              0,
              "#0d0887"
             ],
             [
              0.1111111111111111,
              "#46039f"
             ],
             [
              0.2222222222222222,
              "#7201a8"
             ],
             [
              0.3333333333333333,
              "#9c179e"
             ],
             [
              0.4444444444444444,
              "#bd3786"
             ],
             [
              0.5555555555555556,
              "#d8576b"
             ],
             [
              0.6666666666666666,
              "#ed7953"
             ],
             [
              0.7777777777777778,
              "#fb9f3a"
             ],
             [
              0.8888888888888888,
              "#fdca26"
             ],
             [
              1,
              "#f0f921"
             ]
            ],
            "type": "heatmap"
           }
          ],
          "heatmapgl": [
           {
            "colorbar": {
             "outlinewidth": 0,
             "ticks": ""
            },
            "colorscale": [
             [
              0,
              "#0d0887"
             ],
             [
              0.1111111111111111,
              "#46039f"
             ],
             [
              0.2222222222222222,
              "#7201a8"
             ],
             [
              0.3333333333333333,
              "#9c179e"
             ],
             [
              0.4444444444444444,
              "#bd3786"
             ],
             [
              0.5555555555555556,
              "#d8576b"
             ],
             [
              0.6666666666666666,
              "#ed7953"
             ],
             [
              0.7777777777777778,
              "#fb9f3a"
             ],
             [
              0.8888888888888888,
              "#fdca26"
             ],
             [
              1,
              "#f0f921"
             ]
            ],
            "type": "heatmapgl"
           }
          ],
          "histogram": [
           {
            "marker": {
             "pattern": {
              "fillmode": "overlay",
              "size": 10,
              "solidity": 0.2
             }
            },
            "type": "histogram"
           }
          ],
          "histogram2d": [
           {
            "colorbar": {
             "outlinewidth": 0,
             "ticks": ""
            },
            "colorscale": [
             [
              0,
              "#0d0887"
             ],
             [
              0.1111111111111111,
              "#46039f"
             ],
             [
              0.2222222222222222,
              "#7201a8"
             ],
             [
              0.3333333333333333,
              "#9c179e"
             ],
             [
              0.4444444444444444,
              "#bd3786"
             ],
             [
              0.5555555555555556,
              "#d8576b"
             ],
             [
              0.6666666666666666,
              "#ed7953"
             ],
             [
              0.7777777777777778,
              "#fb9f3a"
             ],
             [
              0.8888888888888888,
              "#fdca26"
             ],
             [
              1,
              "#f0f921"
             ]
            ],
            "type": "histogram2d"
           }
          ],
          "histogram2dcontour": [
           {
            "colorbar": {
             "outlinewidth": 0,
             "ticks": ""
            },
            "colorscale": [
             [
              0,
              "#0d0887"
             ],
             [
              0.1111111111111111,
              "#46039f"
             ],
             [
              0.2222222222222222,
              "#7201a8"
             ],
             [
              0.3333333333333333,
              "#9c179e"
             ],
             [
              0.4444444444444444,
              "#bd3786"
             ],
             [
              0.5555555555555556,
              "#d8576b"
             ],
             [
              0.6666666666666666,
              "#ed7953"
             ],
             [
              0.7777777777777778,
              "#fb9f3a"
             ],
             [
              0.8888888888888888,
              "#fdca26"
             ],
             [
              1,
              "#f0f921"
             ]
            ],
            "type": "histogram2dcontour"
           }
          ],
          "mesh3d": [
           {
            "colorbar": {
             "outlinewidth": 0,
             "ticks": ""
            },
            "type": "mesh3d"
           }
          ],
          "parcoords": [
           {
            "line": {
             "colorbar": {
              "outlinewidth": 0,
              "ticks": ""
             }
            },
            "type": "parcoords"
           }
          ],
          "pie": [
           {
            "automargin": true,
            "type": "pie"
           }
          ],
          "scatter": [
           {
            "fillpattern": {
             "fillmode": "overlay",
             "size": 10,
             "solidity": 0.2
            },
            "type": "scatter"
           }
          ],
          "scatter3d": [
           {
            "line": {
             "colorbar": {
              "outlinewidth": 0,
              "ticks": ""
             }
            },
            "marker": {
             "colorbar": {
              "outlinewidth": 0,
              "ticks": ""
             }
            },
            "type": "scatter3d"
           }
          ],
          "scattercarpet": [
           {
            "marker": {
             "colorbar": {
              "outlinewidth": 0,
              "ticks": ""
             }
            },
            "type": "scattercarpet"
           }
          ],
          "scattergeo": [
           {
            "marker": {
             "colorbar": {
              "outlinewidth": 0,
              "ticks": ""
             }
            },
            "type": "scattergeo"
           }
          ],
          "scattergl": [
           {
            "marker": {
             "colorbar": {
              "outlinewidth": 0,
              "ticks": ""
             }
            },
            "type": "scattergl"
           }
          ],
          "scattermapbox": [
           {
            "marker": {
             "colorbar": {
              "outlinewidth": 0,
              "ticks": ""
             }
            },
            "type": "scattermapbox"
           }
          ],
          "scatterpolar": [
           {
            "marker": {
             "colorbar": {
              "outlinewidth": 0,
              "ticks": ""
             }
            },
            "type": "scatterpolar"
           }
          ],
          "scatterpolargl": [
           {
            "marker": {
             "colorbar": {
              "outlinewidth": 0,
              "ticks": ""
             }
            },
            "type": "scatterpolargl"
           }
          ],
          "scatterternary": [
           {
            "marker": {
             "colorbar": {
              "outlinewidth": 0,
              "ticks": ""
             }
            },
            "type": "scatterternary"
           }
          ],
          "surface": [
           {
            "colorbar": {
             "outlinewidth": 0,
             "ticks": ""
            },
            "colorscale": [
             [
              0,
              "#0d0887"
             ],
             [
              0.1111111111111111,
              "#46039f"
             ],
             [
              0.2222222222222222,
              "#7201a8"
             ],
             [
              0.3333333333333333,
              "#9c179e"
             ],
             [
              0.4444444444444444,
              "#bd3786"
             ],
             [
              0.5555555555555556,
              "#d8576b"
             ],
             [
              0.6666666666666666,
              "#ed7953"
             ],
             [
              0.7777777777777778,
              "#fb9f3a"
             ],
             [
              0.8888888888888888,
              "#fdca26"
             ],
             [
              1,
              "#f0f921"
             ]
            ],
            "type": "surface"
           }
          ],
          "table": [
           {
            "cells": {
             "fill": {
              "color": "#EBF0F8"
             },
             "line": {
              "color": "white"
             }
            },
            "header": {
             "fill": {
              "color": "#C8D4E3"
             },
             "line": {
              "color": "white"
             }
            },
            "type": "table"
           }
          ]
         },
         "layout": {
          "annotationdefaults": {
           "arrowcolor": "#2a3f5f",
           "arrowhead": 0,
           "arrowwidth": 1
          },
          "autotypenumbers": "strict",
          "coloraxis": {
           "colorbar": {
            "outlinewidth": 0,
            "ticks": ""
           }
          },
          "colorscale": {
           "diverging": [
            [
             0,
             "#8e0152"
            ],
            [
             0.1,
             "#c51b7d"
            ],
            [
             0.2,
             "#de77ae"
            ],
            [
             0.3,
             "#f1b6da"
            ],
            [
             0.4,
             "#fde0ef"
            ],
            [
             0.5,
             "#f7f7f7"
            ],
            [
             0.6,
             "#e6f5d0"
            ],
            [
             0.7,
             "#b8e186"
            ],
            [
             0.8,
             "#7fbc41"
            ],
            [
             0.9,
             "#4d9221"
            ],
            [
             1,
             "#276419"
            ]
           ],
           "sequential": [
            [
             0,
             "#0d0887"
            ],
            [
             0.1111111111111111,
             "#46039f"
            ],
            [
             0.2222222222222222,
             "#7201a8"
            ],
            [
             0.3333333333333333,
             "#9c179e"
            ],
            [
             0.4444444444444444,
             "#bd3786"
            ],
            [
             0.5555555555555556,
             "#d8576b"
            ],
            [
             0.6666666666666666,
             "#ed7953"
            ],
            [
             0.7777777777777778,
             "#fb9f3a"
            ],
            [
             0.8888888888888888,
             "#fdca26"
            ],
            [
             1,
             "#f0f921"
            ]
           ],
           "sequentialminus": [
            [
             0,
             "#0d0887"
            ],
            [
             0.1111111111111111,
             "#46039f"
            ],
            [
             0.2222222222222222,
             "#7201a8"
            ],
            [
             0.3333333333333333,
             "#9c179e"
            ],
            [
             0.4444444444444444,
             "#bd3786"
            ],
            [
             0.5555555555555556,
             "#d8576b"
            ],
            [
             0.6666666666666666,
             "#ed7953"
            ],
            [
             0.7777777777777778,
             "#fb9f3a"
            ],
            [
             0.8888888888888888,
             "#fdca26"
            ],
            [
             1,
             "#f0f921"
            ]
           ]
          },
          "colorway": [
           "#636efa",
           "#EF553B",
           "#00cc96",
           "#ab63fa",
           "#FFA15A",
           "#19d3f3",
           "#FF6692",
           "#B6E880",
           "#FF97FF",
           "#FECB52"
          ],
          "font": {
           "color": "#2a3f5f"
          },
          "geo": {
           "bgcolor": "white",
           "lakecolor": "white",
           "landcolor": "#E5ECF6",
           "showlakes": true,
           "showland": true,
           "subunitcolor": "white"
          },
          "hoverlabel": {
           "align": "left"
          },
          "hovermode": "closest",
          "mapbox": {
           "style": "light"
          },
          "paper_bgcolor": "white",
          "plot_bgcolor": "#E5ECF6",
          "polar": {
           "angularaxis": {
            "gridcolor": "white",
            "linecolor": "white",
            "ticks": ""
           },
           "bgcolor": "#E5ECF6",
           "radialaxis": {
            "gridcolor": "white",
            "linecolor": "white",
            "ticks": ""
           }
          },
          "scene": {
           "xaxis": {
            "backgroundcolor": "#E5ECF6",
            "gridcolor": "white",
            "gridwidth": 2,
            "linecolor": "white",
            "showbackground": true,
            "ticks": "",
            "zerolinecolor": "white"
           },
           "yaxis": {
            "backgroundcolor": "#E5ECF6",
            "gridcolor": "white",
            "gridwidth": 2,
            "linecolor": "white",
            "showbackground": true,
            "ticks": "",
            "zerolinecolor": "white"
           },
           "zaxis": {
            "backgroundcolor": "#E5ECF6",
            "gridcolor": "white",
            "gridwidth": 2,
            "linecolor": "white",
            "showbackground": true,
            "ticks": "",
            "zerolinecolor": "white"
           }
          },
          "shapedefaults": {
           "line": {
            "color": "#2a3f5f"
           }
          },
          "ternary": {
           "aaxis": {
            "gridcolor": "white",
            "linecolor": "white",
            "ticks": ""
           },
           "baxis": {
            "gridcolor": "white",
            "linecolor": "white",
            "ticks": ""
           },
           "bgcolor": "#E5ECF6",
           "caxis": {
            "gridcolor": "white",
            "linecolor": "white",
            "ticks": ""
           }
          },
          "title": {
           "x": 0.05
          },
          "xaxis": {
           "automargin": true,
           "gridcolor": "white",
           "linecolor": "white",
           "ticks": "",
           "title": {
            "standoff": 15
           },
           "zerolinecolor": "white",
           "zerolinewidth": 2
          },
          "yaxis": {
           "automargin": true,
           "gridcolor": "white",
           "linecolor": "white",
           "ticks": "",
           "title": {
            "standoff": 15
           },
           "zerolinecolor": "white",
           "zerolinewidth": 2
          }
         }
        }
       }
      },
      "text/html": [
       "<div>                        <script type=\"text/javascript\">window.PlotlyConfig = {MathJaxConfig: 'local'};</script>\n",
       "        <script charset=\"utf-8\" src=\"https://cdn.plot.ly/plotly-2.32.0.min.js\"></script>                <div id=\"f34077c4-ebdb-4033-b1d8-27bb63db9f2b\" class=\"plotly-graph-div\" style=\"height:100%; width:100%;\"></div>            <script type=\"text/javascript\">                                    window.PLOTLYENV=window.PLOTLYENV || {};                                    if (document.getElementById(\"f34077c4-ebdb-4033-b1d8-27bb63db9f2b\")) {                    Plotly.newPlot(                        \"f34077c4-ebdb-4033-b1d8-27bb63db9f2b\",                        [{\"branchvalues\":\"total\",\"domain\":{\"x\":[0.0,1.0],\"y\":[0.0,1.0]},\"hovertemplate\":\"labels=%{label}\\u003cbr\\u003epct=%{value}\\u003cbr\\u003eparent=%{parent}\\u003cbr\\u003eid=%{id}\\u003cextra\\u003e\\u003c\\u002fextra\\u003e\",\"ids\":[\"1984\\u002fBJP\",\"1989\\u002fBJP\",\"1991\\u002fBJP\",\"1996\\u002fBJP\",\"1998\\u002fBJP\",\"1999\\u002fBJP\",\"2004\\u002fBJP\",\"2009\\u002fBJP\",\"2014\\u002fBJP\",\"1977\\u002fINC\",\"1984\\u002fINC\",\"1989\\u002fINC\",\"1991\\u002fINC\",\"1996\\u002fINC\",\"1998\\u002fINC\",\"1999\\u002fINC\",\"2004\\u002fINC\",\"2009\\u002fINC\",\"2014\\u002fINC\",\"1999\\u002fJD(U)\",\"2004\\u002fJD(U)\",\"2009\\u002fJD(U)\",\"2014\\u002fJD(U)\",\"1998\\u002fRJD\",\"1999\\u002fRJD\",\"2004\\u002fRJD\",\"2009\\u002fRJD\",\"2014\\u002fRJD\",\"1991\\u002fSP\",\"1996\\u002fSP\",\"1998\\u002fSP\",\"1999\\u002fSP\",\"2004\\u002fSP\",\"2009\\u002fSP\",\"2014\\u002fSP\",\"1977\",\"1984\",\"1989\",\"1991\",\"1996\",\"1998\",\"1999\",\"2004\",\"2009\",\"2014\"],\"labels\":[\"BJP\",\"BJP\",\"BJP\",\"BJP\",\"BJP\",\"BJP\",\"BJP\",\"BJP\",\"BJP\",\"INC\",\"INC\",\"INC\",\"INC\",\"INC\",\"INC\",\"INC\",\"INC\",\"INC\",\"INC\",\"JD(U)\",\"JD(U)\",\"JD(U)\",\"JD(U)\",\"RJD\",\"RJD\",\"RJD\",\"RJD\",\"RJD\",\"SP\",\"SP\",\"SP\",\"SP\",\"SP\",\"SP\",\"SP\",\"1977\",\"1984\",\"1989\",\"1991\",\"1996\",\"1998\",\"1999\",\"2004\",\"2009\",\"2014\"],\"name\":\"\",\"parents\":[\"1984\",\"1989\",\"1991\",\"1996\",\"1998\",\"1999\",\"2004\",\"2009\",\"2014\",\"1977\",\"1984\",\"1989\",\"1991\",\"1996\",\"1998\",\"1999\",\"2004\",\"2009\",\"2014\",\"1999\",\"2004\",\"2009\",\"2014\",\"1998\",\"1999\",\"2004\",\"2009\",\"2014\",\"1991\",\"1996\",\"1998\",\"1999\",\"2004\",\"2009\",\"2014\",\"\",\"\",\"\",\"\",\"\",\"\",\"\",\"\",\"\",\"\"],\"values\":[7.4,11.36,20.07,20.16,25.62,23.64,22.16,18.79,31.0,34.52,48.12,39.54,36.41,28.85,25.85,28.35,26.53,28.47,19.31,3.1,2.35,1.52,1.08,2.68,2.79,2.41,1.27,1.34,0.0,3.29,4.94,3.77,4.32,3.42,3.37,34.52,55.519999999999996,50.9,56.48,52.3,59.09,61.650000000000006,57.77,53.47,56.1],\"type\":\"sunburst\"}],                        {\"template\":{\"data\":{\"histogram2dcontour\":[{\"type\":\"histogram2dcontour\",\"colorbar\":{\"outlinewidth\":0,\"ticks\":\"\"},\"colorscale\":[[0.0,\"#0d0887\"],[0.1111111111111111,\"#46039f\"],[0.2222222222222222,\"#7201a8\"],[0.3333333333333333,\"#9c179e\"],[0.4444444444444444,\"#bd3786\"],[0.5555555555555556,\"#d8576b\"],[0.6666666666666666,\"#ed7953\"],[0.7777777777777778,\"#fb9f3a\"],[0.8888888888888888,\"#fdca26\"],[1.0,\"#f0f921\"]]}],\"choropleth\":[{\"type\":\"choropleth\",\"colorbar\":{\"outlinewidth\":0,\"ticks\":\"\"}}],\"histogram2d\":[{\"type\":\"histogram2d\",\"colorbar\":{\"outlinewidth\":0,\"ticks\":\"\"},\"colorscale\":[[0.0,\"#0d0887\"],[0.1111111111111111,\"#46039f\"],[0.2222222222222222,\"#7201a8\"],[0.3333333333333333,\"#9c179e\"],[0.4444444444444444,\"#bd3786\"],[0.5555555555555556,\"#d8576b\"],[0.6666666666666666,\"#ed7953\"],[0.7777777777777778,\"#fb9f3a\"],[0.8888888888888888,\"#fdca26\"],[1.0,\"#f0f921\"]]}],\"heatmap\":[{\"type\":\"heatmap\",\"colorbar\":{\"outlinewidth\":0,\"ticks\":\"\"},\"colorscale\":[[0.0,\"#0d0887\"],[0.1111111111111111,\"#46039f\"],[0.2222222222222222,\"#7201a8\"],[0.3333333333333333,\"#9c179e\"],[0.4444444444444444,\"#bd3786\"],[0.5555555555555556,\"#d8576b\"],[0.6666666666666666,\"#ed7953\"],[0.7777777777777778,\"#fb9f3a\"],[0.8888888888888888,\"#fdca26\"],[1.0,\"#f0f921\"]]}],\"heatmapgl\":[{\"type\":\"heatmapgl\",\"colorbar\":{\"outlinewidth\":0,\"ticks\":\"\"},\"colorscale\":[[0.0,\"#0d0887\"],[0.1111111111111111,\"#46039f\"],[0.2222222222222222,\"#7201a8\"],[0.3333333333333333,\"#9c179e\"],[0.4444444444444444,\"#bd3786\"],[0.5555555555555556,\"#d8576b\"],[0.6666666666666666,\"#ed7953\"],[0.7777777777777778,\"#fb9f3a\"],[0.8888888888888888,\"#fdca26\"],[1.0,\"#f0f921\"]]}],\"contourcarpet\":[{\"type\":\"contourcarpet\",\"colorbar\":{\"outlinewidth\":0,\"ticks\":\"\"}}],\"contour\":[{\"type\":\"contour\",\"colorbar\":{\"outlinewidth\":0,\"ticks\":\"\"},\"colorscale\":[[0.0,\"#0d0887\"],[0.1111111111111111,\"#46039f\"],[0.2222222222222222,\"#7201a8\"],[0.3333333333333333,\"#9c179e\"],[0.4444444444444444,\"#bd3786\"],[0.5555555555555556,\"#d8576b\"],[0.6666666666666666,\"#ed7953\"],[0.7777777777777778,\"#fb9f3a\"],[0.8888888888888888,\"#fdca26\"],[1.0,\"#f0f921\"]]}],\"surface\":[{\"type\":\"surface\",\"colorbar\":{\"outlinewidth\":0,\"ticks\":\"\"},\"colorscale\":[[0.0,\"#0d0887\"],[0.1111111111111111,\"#46039f\"],[0.2222222222222222,\"#7201a8\"],[0.3333333333333333,\"#9c179e\"],[0.4444444444444444,\"#bd3786\"],[0.5555555555555556,\"#d8576b\"],[0.6666666666666666,\"#ed7953\"],[0.7777777777777778,\"#fb9f3a\"],[0.8888888888888888,\"#fdca26\"],[1.0,\"#f0f921\"]]}],\"mesh3d\":[{\"type\":\"mesh3d\",\"colorbar\":{\"outlinewidth\":0,\"ticks\":\"\"}}],\"scatter\":[{\"fillpattern\":{\"fillmode\":\"overlay\",\"size\":10,\"solidity\":0.2},\"type\":\"scatter\"}],\"parcoords\":[{\"type\":\"parcoords\",\"line\":{\"colorbar\":{\"outlinewidth\":0,\"ticks\":\"\"}}}],\"scatterpolargl\":[{\"type\":\"scatterpolargl\",\"marker\":{\"colorbar\":{\"outlinewidth\":0,\"ticks\":\"\"}}}],\"bar\":[{\"error_x\":{\"color\":\"#2a3f5f\"},\"error_y\":{\"color\":\"#2a3f5f\"},\"marker\":{\"line\":{\"color\":\"#E5ECF6\",\"width\":0.5},\"pattern\":{\"fillmode\":\"overlay\",\"size\":10,\"solidity\":0.2}},\"type\":\"bar\"}],\"scattergeo\":[{\"type\":\"scattergeo\",\"marker\":{\"colorbar\":{\"outlinewidth\":0,\"ticks\":\"\"}}}],\"scatterpolar\":[{\"type\":\"scatterpolar\",\"marker\":{\"colorbar\":{\"outlinewidth\":0,\"ticks\":\"\"}}}],\"histogram\":[{\"marker\":{\"pattern\":{\"fillmode\":\"overlay\",\"size\":10,\"solidity\":0.2}},\"type\":\"histogram\"}],\"scattergl\":[{\"type\":\"scattergl\",\"marker\":{\"colorbar\":{\"outlinewidth\":0,\"ticks\":\"\"}}}],\"scatter3d\":[{\"type\":\"scatter3d\",\"line\":{\"colorbar\":{\"outlinewidth\":0,\"ticks\":\"\"}},\"marker\":{\"colorbar\":{\"outlinewidth\":0,\"ticks\":\"\"}}}],\"scattermapbox\":[{\"type\":\"scattermapbox\",\"marker\":{\"colorbar\":{\"outlinewidth\":0,\"ticks\":\"\"}}}],\"scatterternary\":[{\"type\":\"scatterternary\",\"marker\":{\"colorbar\":{\"outlinewidth\":0,\"ticks\":\"\"}}}],\"scattercarpet\":[{\"type\":\"scattercarpet\",\"marker\":{\"colorbar\":{\"outlinewidth\":0,\"ticks\":\"\"}}}],\"carpet\":[{\"aaxis\":{\"endlinecolor\":\"#2a3f5f\",\"gridcolor\":\"white\",\"linecolor\":\"white\",\"minorgridcolor\":\"white\",\"startlinecolor\":\"#2a3f5f\"},\"baxis\":{\"endlinecolor\":\"#2a3f5f\",\"gridcolor\":\"white\",\"linecolor\":\"white\",\"minorgridcolor\":\"white\",\"startlinecolor\":\"#2a3f5f\"},\"type\":\"carpet\"}],\"table\":[{\"cells\":{\"fill\":{\"color\":\"#EBF0F8\"},\"line\":{\"color\":\"white\"}},\"header\":{\"fill\":{\"color\":\"#C8D4E3\"},\"line\":{\"color\":\"white\"}},\"type\":\"table\"}],\"barpolar\":[{\"marker\":{\"line\":{\"color\":\"#E5ECF6\",\"width\":0.5},\"pattern\":{\"fillmode\":\"overlay\",\"size\":10,\"solidity\":0.2}},\"type\":\"barpolar\"}],\"pie\":[{\"automargin\":true,\"type\":\"pie\"}]},\"layout\":{\"autotypenumbers\":\"strict\",\"colorway\":[\"#636efa\",\"#EF553B\",\"#00cc96\",\"#ab63fa\",\"#FFA15A\",\"#19d3f3\",\"#FF6692\",\"#B6E880\",\"#FF97FF\",\"#FECB52\"],\"font\":{\"color\":\"#2a3f5f\"},\"hovermode\":\"closest\",\"hoverlabel\":{\"align\":\"left\"},\"paper_bgcolor\":\"white\",\"plot_bgcolor\":\"#E5ECF6\",\"polar\":{\"bgcolor\":\"#E5ECF6\",\"angularaxis\":{\"gridcolor\":\"white\",\"linecolor\":\"white\",\"ticks\":\"\"},\"radialaxis\":{\"gridcolor\":\"white\",\"linecolor\":\"white\",\"ticks\":\"\"}},\"ternary\":{\"bgcolor\":\"#E5ECF6\",\"aaxis\":{\"gridcolor\":\"white\",\"linecolor\":\"white\",\"ticks\":\"\"},\"baxis\":{\"gridcolor\":\"white\",\"linecolor\":\"white\",\"ticks\":\"\"},\"caxis\":{\"gridcolor\":\"white\",\"linecolor\":\"white\",\"ticks\":\"\"}},\"coloraxis\":{\"colorbar\":{\"outlinewidth\":0,\"ticks\":\"\"}},\"colorscale\":{\"sequential\":[[0.0,\"#0d0887\"],[0.1111111111111111,\"#46039f\"],[0.2222222222222222,\"#7201a8\"],[0.3333333333333333,\"#9c179e\"],[0.4444444444444444,\"#bd3786\"],[0.5555555555555556,\"#d8576b\"],[0.6666666666666666,\"#ed7953\"],[0.7777777777777778,\"#fb9f3a\"],[0.8888888888888888,\"#fdca26\"],[1.0,\"#f0f921\"]],\"sequentialminus\":[[0.0,\"#0d0887\"],[0.1111111111111111,\"#46039f\"],[0.2222222222222222,\"#7201a8\"],[0.3333333333333333,\"#9c179e\"],[0.4444444444444444,\"#bd3786\"],[0.5555555555555556,\"#d8576b\"],[0.6666666666666666,\"#ed7953\"],[0.7777777777777778,\"#fb9f3a\"],[0.8888888888888888,\"#fdca26\"],[1.0,\"#f0f921\"]],\"diverging\":[[0,\"#8e0152\"],[0.1,\"#c51b7d\"],[0.2,\"#de77ae\"],[0.3,\"#f1b6da\"],[0.4,\"#fde0ef\"],[0.5,\"#f7f7f7\"],[0.6,\"#e6f5d0\"],[0.7,\"#b8e186\"],[0.8,\"#7fbc41\"],[0.9,\"#4d9221\"],[1,\"#276419\"]]},\"xaxis\":{\"gridcolor\":\"white\",\"linecolor\":\"white\",\"ticks\":\"\",\"title\":{\"standoff\":15},\"zerolinecolor\":\"white\",\"automargin\":true,\"zerolinewidth\":2},\"yaxis\":{\"gridcolor\":\"white\",\"linecolor\":\"white\",\"ticks\":\"\",\"title\":{\"standoff\":15},\"zerolinecolor\":\"white\",\"automargin\":true,\"zerolinewidth\":2},\"scene\":{\"xaxis\":{\"backgroundcolor\":\"#E5ECF6\",\"gridcolor\":\"white\",\"linecolor\":\"white\",\"showbackground\":true,\"ticks\":\"\",\"zerolinecolor\":\"white\",\"gridwidth\":2},\"yaxis\":{\"backgroundcolor\":\"#E5ECF6\",\"gridcolor\":\"white\",\"linecolor\":\"white\",\"showbackground\":true,\"ticks\":\"\",\"zerolinecolor\":\"white\",\"gridwidth\":2},\"zaxis\":{\"backgroundcolor\":\"#E5ECF6\",\"gridcolor\":\"white\",\"linecolor\":\"white\",\"showbackground\":true,\"ticks\":\"\",\"zerolinecolor\":\"white\",\"gridwidth\":2}},\"shapedefaults\":{\"line\":{\"color\":\"#2a3f5f\"}},\"annotationdefaults\":{\"arrowcolor\":\"#2a3f5f\",\"arrowhead\":0,\"arrowwidth\":1},\"geo\":{\"bgcolor\":\"white\",\"landcolor\":\"#E5ECF6\",\"subunitcolor\":\"white\",\"showland\":true,\"showlakes\":true,\"lakecolor\":\"white\"},\"title\":{\"x\":0.05},\"mapbox\":{\"style\":\"light\"}}},\"legend\":{\"tracegroupgap\":0},\"margin\":{\"t\":60}},                        {\"responsive\": true}                    )                };                            </script>        </div>"
      ],
      "text/plain": [
       "Figure({\n",
       "    'data': [{'branchvalues': 'total',\n",
       "              'domain': {'x': [0.0, 1.0], 'y': [0.0, 1.0]},\n",
       "              'hovertemplate': 'labels=%{label}<br>pct=%{value}<br>parent=%{parent}<br>id=%{id}<extra></extra>',\n",
       "              'ids': array(['1984/BJP', '1989/BJP', '1991/BJP', '1996/BJP', '1998/BJP', '1999/BJP',\n",
       "                            '2004/BJP', '2009/BJP', '2014/BJP', '1977/INC', '1984/INC', '1989/INC',\n",
       "                            '1991/INC', '1996/INC', '1998/INC', '1999/INC', '2004/INC', '2009/INC',\n",
       "                            '2014/INC', '1999/JD(U)', '2004/JD(U)', '2009/JD(U)', '2014/JD(U)',\n",
       "                            '1998/RJD', '1999/RJD', '2004/RJD', '2009/RJD', '2014/RJD', '1991/SP',\n",
       "                            '1996/SP', '1998/SP', '1999/SP', '2004/SP', '2009/SP', '2014/SP',\n",
       "                            '1977', '1984', '1989', '1991', '1996', '1998', '1999', '2004', '2009',\n",
       "                            '2014'], dtype=object),\n",
       "              'labels': array(['BJP', 'BJP', 'BJP', 'BJP', 'BJP', 'BJP', 'BJP', 'BJP', 'BJP', 'INC',\n",
       "                               'INC', 'INC', 'INC', 'INC', 'INC', 'INC', 'INC', 'INC', 'INC', 'JD(U)',\n",
       "                               'JD(U)', 'JD(U)', 'JD(U)', 'RJD', 'RJD', 'RJD', 'RJD', 'RJD', 'SP',\n",
       "                               'SP', 'SP', 'SP', 'SP', 'SP', 'SP', '1977', '1984', '1989', '1991',\n",
       "                               '1996', '1998', '1999', '2004', '2009', '2014'], dtype=object),\n",
       "              'name': '',\n",
       "              'parents': array(['1984', '1989', '1991', '1996', '1998', '1999', '2004', '2009', '2014',\n",
       "                                '1977', '1984', '1989', '1991', '1996', '1998', '1999', '2004', '2009',\n",
       "                                '2014', '1999', '2004', '2009', '2014', '1998', '1999', '2004', '2009',\n",
       "                                '2014', '1991', '1996', '1998', '1999', '2004', '2009', '2014', '', '',\n",
       "                                '', '', '', '', '', '', '', ''], dtype=object),\n",
       "              'type': 'sunburst',\n",
       "              'values': array([ 7.4 , 11.36, 20.07, 20.16, 25.62, 23.64, 22.16, 18.79, 31.  , 34.52,\n",
       "                               48.12, 39.54, 36.41, 28.85, 25.85, 28.35, 26.53, 28.47, 19.31,  3.1 ,\n",
       "                                2.35,  1.52,  1.08,  2.68,  2.79,  2.41,  1.27,  1.34,  0.  ,  3.29,\n",
       "                                4.94,  3.77,  4.32,  3.42,  3.37, 34.52, 55.52, 50.9 , 56.48, 52.3 ,\n",
       "                               59.09, 61.65, 57.77, 53.47, 56.1 ])}],\n",
       "    'layout': {'legend': {'tracegroupgap': 0}, 'margin': {'t': 60}, 'template': '...'}\n",
       "})"
      ]
     },
     "execution_count": 24,
     "metadata": {},
     "output_type": "execute_result"
    }
   ],
   "source": [
    "px.sunburst(\n",
    "    temp,\n",
    "    \"partyabbre\",\n",
    "    \"pct\",\n",
    "    path=[\"year\", \"partyabbre\"],\n",
    ")"
   ]
  }
 ],
 "metadata": {
  "kernelspec": {
   "display_name": ".venv",
   "language": "python",
   "name": "python3"
  },
  "language_info": {
   "codemirror_mode": {
    "name": "ipython",
    "version": 3
   },
   "file_extension": ".py",
   "mimetype": "text/x-python",
   "name": "python",
   "nbconvert_exporter": "python",
   "pygments_lexer": "ipython3",
   "version": "3.11.9"
  }
 },
 "nbformat": 4,
 "nbformat_minor": 2
}
