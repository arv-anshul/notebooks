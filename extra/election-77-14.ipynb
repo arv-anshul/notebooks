{
 "cells": [
  {
   "cell_type": "code",
   "execution_count": 2,
   "metadata": {},
   "outputs": [],
   "source": [
    "import polars as pl\n",
    "from plotly import express as px"
   ]
  },
  {
   "cell_type": "markdown",
   "metadata": {},
   "source": [
    "## Election data from 1977 - 2014\n",
    "\n",
    "- **Website:** https://www.indiavotes.com/\n",
    "- **Dataset on Kaggle:** https://www.kaggle.com/datasets/awadhi123/indian-election-dataset"
   ]
  },
  {
   "cell_type": "code",
   "execution_count": 21,
   "metadata": {},
   "outputs": [
    {
     "name": "stdout",
     "output_type": "stream",
     "text": [
      "(73081, 11)\n"
     ]
    },
    {
     "data": {
      "text/html": [
       "<div><style>\n",
       ".dataframe > thead > tr,\n",
       ".dataframe > tbody > tr {\n",
       "  text-align: right;\n",
       "  white-space: pre-wrap;\n",
       "}\n",
       "</style>\n",
       "<small>shape: (5, 11)</small><table border=\"1\" class=\"dataframe\"><thead><tr><th>st_name</th><th>year</th><th>pc_no</th><th>pc_name</th><th>pc_type</th><th>cand_name</th><th>cand_sex</th><th>partyname</th><th>partyabbre</th><th>totvotpoll</th><th>electors</th></tr><tr><td>str</td><td>i64</td><td>i64</td><td>str</td><td>str</td><td>str</td><td>str</td><td>str</td><td>str</td><td>i64</td><td>i64</td></tr></thead><tbody><tr><td>&quot;Andaman &amp; Nicobar Islands&quot;</td><td>1977</td><td>1</td><td>&quot;Andaman &amp; Nicobar Islands&quot;</td><td>&quot;GEN&quot;</td><td>&quot;K.R. Ganesh&quot;</td><td>&quot;M&quot;</td><td>&quot;Independents&quot;</td><td>&quot;IND&quot;</td><td>25168</td><td>85308</td></tr><tr><td>&quot;Andaman &amp; Nicobar Islands&quot;</td><td>1977</td><td>1</td><td>&quot;Andaman &amp; Nicobar Islands&quot;</td><td>&quot;GEN&quot;</td><td>&quot;Manoranjan Bhakta&quot;</td><td>&quot;M&quot;</td><td>&quot;Indian National Congress&quot;</td><td>&quot;INC&quot;</td><td>35400</td><td>85308</td></tr><tr><td>&quot;Andaman &amp; Nicobar Islands&quot;</td><td>1980</td><td>1</td><td>&quot;Andaman &amp; Nicobar Islands&quot;</td><td>&quot;GEN&quot;</td><td>&quot;Ramesh Mazumdar&quot;</td><td>&quot;M&quot;</td><td>&quot;Independents&quot;</td><td>&quot;IND&quot;</td><td>109</td><td>96084</td></tr><tr><td>&quot;Andaman &amp; Nicobar Islands&quot;</td><td>1980</td><td>1</td><td>&quot;Andaman &amp; Nicobar Islands&quot;</td><td>&quot;GEN&quot;</td><td>&quot;Alagiri Swamy&quot;</td><td>&quot;M&quot;</td><td>&quot;Independents&quot;</td><td>&quot;IND&quot;</td><td>125</td><td>96084</td></tr><tr><td>&quot;Andaman &amp; Nicobar Islands&quot;</td><td>1980</td><td>1</td><td>&quot;Andaman &amp; Nicobar Islands&quot;</td><td>&quot;GEN&quot;</td><td>&quot;Kannu Chemy&quot;</td><td>&quot;M&quot;</td><td>&quot;Independents&quot;</td><td>&quot;IND&quot;</td><td>405</td><td>96084</td></tr></tbody></table></div>"
      ],
      "text/plain": [
       "shape: (5, 11)\n",
       "┌──────────────┬──────┬───────┬─────────────┬───┬─────────────┬────────────┬────────────┬──────────┐\n",
       "│ st_name      ┆ year ┆ pc_no ┆ pc_name     ┆ … ┆ partyname   ┆ partyabbre ┆ totvotpoll ┆ electors │\n",
       "│ ---          ┆ ---  ┆ ---   ┆ ---         ┆   ┆ ---         ┆ ---        ┆ ---        ┆ ---      │\n",
       "│ str          ┆ i64  ┆ i64   ┆ str         ┆   ┆ str         ┆ str        ┆ i64        ┆ i64      │\n",
       "╞══════════════╪══════╪═══════╪═════════════╪═══╪═════════════╪════════════╪════════════╪══════════╡\n",
       "│ Andaman &    ┆ 1977 ┆ 1     ┆ Andaman &   ┆ … ┆ Independent ┆ IND        ┆ 25168      ┆ 85308    │\n",
       "│ Nicobar      ┆      ┆       ┆ Nicobar     ┆   ┆ s           ┆            ┆            ┆          │\n",
       "│ Islands      ┆      ┆       ┆ Islands     ┆   ┆             ┆            ┆            ┆          │\n",
       "│ Andaman &    ┆ 1977 ┆ 1     ┆ Andaman &   ┆ … ┆ Indian      ┆ INC        ┆ 35400      ┆ 85308    │\n",
       "│ Nicobar      ┆      ┆       ┆ Nicobar     ┆   ┆ National    ┆            ┆            ┆          │\n",
       "│ Islands      ┆      ┆       ┆ Islands     ┆   ┆ Congress    ┆            ┆            ┆          │\n",
       "│ Andaman &    ┆ 1980 ┆ 1     ┆ Andaman &   ┆ … ┆ Independent ┆ IND        ┆ 109        ┆ 96084    │\n",
       "│ Nicobar      ┆      ┆       ┆ Nicobar     ┆   ┆ s           ┆            ┆            ┆          │\n",
       "│ Islands      ┆      ┆       ┆ Islands     ┆   ┆             ┆            ┆            ┆          │\n",
       "│ Andaman &    ┆ 1980 ┆ 1     ┆ Andaman &   ┆ … ┆ Independent ┆ IND        ┆ 125        ┆ 96084    │\n",
       "│ Nicobar      ┆      ┆       ┆ Nicobar     ┆   ┆ s           ┆            ┆            ┆          │\n",
       "│ Islands      ┆      ┆       ┆ Islands     ┆   ┆             ┆            ┆            ┆          │\n",
       "│ Andaman &    ┆ 1980 ┆ 1     ┆ Andaman &   ┆ … ┆ Independent ┆ IND        ┆ 405        ┆ 96084    │\n",
       "│ Nicobar      ┆      ┆       ┆ Nicobar     ┆   ┆ s           ┆            ┆            ┆          │\n",
       "│ Islands      ┆      ┆       ┆ Islands     ┆   ┆             ┆            ┆            ┆          │\n",
       "└──────────────┴──────┴───────┴─────────────┴───┴─────────────┴────────────┴────────────┴──────────┘"
      ]
     },
     "execution_count": 21,
     "metadata": {},
     "output_type": "execute_result"
    }
   ],
   "source": [
    "df = pl.read_csv(\"data/archive/indian-national-level-election.csv\")\n",
    "print(df.shape)\n",
    "df.head()"
   ]
  },
  {
   "cell_type": "code",
   "execution_count": 34,
   "metadata": {},
   "outputs": [
    {
     "data": {
      "text/html": [
       "<div><style>\n",
       ".dataframe > thead > tr,\n",
       ".dataframe > tbody > tr {\n",
       "  text-align: right;\n",
       "  white-space: pre-wrap;\n",
       "}\n",
       "</style>\n",
       "<small>shape: (11, 2)</small><table border=\"1\" class=\"dataframe\"><thead><tr><th>year</th><th>count</th></tr><tr><td>i64</td><td>u32</td></tr></thead><tbody><tr><td>1977</td><td>2439</td></tr><tr><td>2009</td><td>8070</td></tr><tr><td>1999</td><td>4642</td></tr><tr><td>1996</td><td>13940</td></tr><tr><td>2004</td><td>5435</td></tr><tr><td>&hellip;</td><td>&hellip;</td></tr><tr><td>2014</td><td>8794</td></tr><tr><td>1991</td><td>8744</td></tr><tr><td>1989</td><td>6156</td></tr><tr><td>1980</td><td>4629</td></tr><tr><td>1984</td><td>5492</td></tr></tbody></table></div>"
      ],
      "text/plain": [
       "shape: (11, 2)\n",
       "┌──────┬───────┐\n",
       "│ year ┆ count │\n",
       "│ ---  ┆ ---   │\n",
       "│ i64  ┆ u32   │\n",
       "╞══════╪═══════╡\n",
       "│ 1977 ┆ 2439  │\n",
       "│ 2009 ┆ 8070  │\n",
       "│ 1999 ┆ 4642  │\n",
       "│ 1996 ┆ 13940 │\n",
       "│ 2004 ┆ 5435  │\n",
       "│ …    ┆ …     │\n",
       "│ 2014 ┆ 8794  │\n",
       "│ 1991 ┆ 8744  │\n",
       "│ 1989 ┆ 6156  │\n",
       "│ 1980 ┆ 4629  │\n",
       "│ 1984 ┆ 5492  │\n",
       "└──────┴───────┘"
      ]
     },
     "execution_count": 34,
     "metadata": {},
     "output_type": "execute_result"
    }
   ],
   "source": [
    "df.get_column(\"year\").value_counts()"
   ]
  },
  {
   "cell_type": "code",
   "execution_count": 30,
   "metadata": {},
   "outputs": [
    {
     "data": {
      "text/html": [
       "<div><style>\n",
       ".dataframe > thead > tr,\n",
       ".dataframe > tbody > tr {\n",
       "  text-align: right;\n",
       "  white-space: pre-wrap;\n",
       "}\n",
       "</style>\n",
       "<small>shape: (5, 2)</small><table border=\"1\" class=\"dataframe\"><thead><tr><th>pc_type</th><th>count</th></tr><tr><td>str</td><td>u32</td></tr></thead><tbody><tr><td>&quot;GEN&quot;</td><td>54862</td></tr><tr><td>&quot;ST&quot;</td><td>2841</td></tr><tr><td>&quot;SC&quot;</td><td>7293</td></tr><tr><td>null</td><td>8070</td></tr><tr><td>&quot;SC &quot;</td><td>15</td></tr></tbody></table></div>"
      ],
      "text/plain": [
       "shape: (5, 2)\n",
       "┌─────────┬───────┐\n",
       "│ pc_type ┆ count │\n",
       "│ ---     ┆ ---   │\n",
       "│ str     ┆ u32   │\n",
       "╞═════════╪═══════╡\n",
       "│ GEN     ┆ 54862 │\n",
       "│ ST      ┆ 2841  │\n",
       "│ SC      ┆ 7293  │\n",
       "│ null    ┆ 8070  │\n",
       "│ SC      ┆ 15    │\n",
       "└─────────┴───────┘"
      ]
     },
     "execution_count": 30,
     "metadata": {},
     "output_type": "execute_result"
    }
   ],
   "source": [
    "df.get_column(\"pc_type\").value_counts()"
   ]
  },
  {
   "cell_type": "code",
   "execution_count": 40,
   "metadata": {},
   "outputs": [
    {
     "data": {
      "text/html": [
       "<div><style>\n",
       ".dataframe > thead > tr,\n",
       ".dataframe > tbody > tr {\n",
       "  text-align: right;\n",
       "  white-space: pre-wrap;\n",
       "}\n",
       "</style>\n",
       "<small>shape: (10, 11)</small><table border=\"1\" class=\"dataframe\"><thead><tr><th>st_name</th><th>year</th><th>pc_no</th><th>pc_name</th><th>pc_type</th><th>cand_name</th><th>cand_sex</th><th>partyname</th><th>partyabbre</th><th>totvotpoll</th><th>electors</th></tr><tr><td>str</td><td>i64</td><td>i64</td><td>str</td><td>str</td><td>str</td><td>str</td><td>str</td><td>str</td><td>i64</td><td>i64</td></tr></thead><tbody><tr><td>&quot;Andaman &amp; Nicobar Islands&quot;</td><td>1980</td><td>1</td><td>&quot;Andaman &amp; Nicobar Islands&quot;</td><td>&quot;GEN&quot;</td><td>&quot;Ramesh Mazumdar&quot;</td><td>&quot;M&quot;</td><td>&quot;Independents&quot;</td><td>&quot;IND&quot;</td><td>109</td><td>96084</td></tr><tr><td>&quot;Andaman &amp; Nicobar Islands&quot;</td><td>1980</td><td>1</td><td>&quot;Andaman &amp; Nicobar Islands&quot;</td><td>&quot;GEN&quot;</td><td>&quot;Alagiri Swamy&quot;</td><td>&quot;M&quot;</td><td>&quot;Independents&quot;</td><td>&quot;IND&quot;</td><td>125</td><td>96084</td></tr><tr><td>&quot;Andaman &amp; Nicobar Islands&quot;</td><td>1980</td><td>1</td><td>&quot;Andaman &amp; Nicobar Islands&quot;</td><td>&quot;GEN&quot;</td><td>&quot;Kannu Chemy&quot;</td><td>&quot;M&quot;</td><td>&quot;Independents&quot;</td><td>&quot;IND&quot;</td><td>405</td><td>96084</td></tr><tr><td>&quot;Andaman &amp; Nicobar Islands&quot;</td><td>1980</td><td>1</td><td>&quot;Andaman &amp; Nicobar Islands&quot;</td><td>&quot;GEN&quot;</td><td>&quot;K.N. Raju&quot;</td><td>&quot;M&quot;</td><td>&quot;Independents&quot;</td><td>&quot;IND&quot;</td><td>470</td><td>96084</td></tr><tr><td>&quot;Andaman &amp; Nicobar Islands&quot;</td><td>1980</td><td>1</td><td>&quot;Andaman &amp; Nicobar Islands&quot;</td><td>&quot;GEN&quot;</td><td>&quot;Rajender Lall Saha&quot;</td><td>&quot;M&quot;</td><td>&quot;Janta Party (Secular)&quot;</td><td>&quot;JNP(S)&quot;</td><td>717</td><td>96084</td></tr><tr><td>&quot;Andaman &amp; Nicobar Islands&quot;</td><td>1980</td><td>1</td><td>&quot;Andaman &amp; Nicobar Islands&quot;</td><td>&quot;GEN&quot;</td><td>&quot;Karpu Swamy&quot;</td><td>&quot;M&quot;</td><td>&quot;Independents&quot;</td><td>&quot;IND&quot;</td><td>1123</td><td>96084</td></tr><tr><td>&quot;Andaman &amp; Nicobar Islands&quot;</td><td>1980</td><td>1</td><td>&quot;Andaman &amp; Nicobar Islands&quot;</td><td>&quot;GEN&quot;</td><td>&quot;Samar Choudhury&quot;</td><td>&quot;M&quot;</td><td>&quot;Janta Party&quot;</td><td>&quot;JNP&quot;</td><td>2034</td><td>96084</td></tr><tr><td>&quot;Andaman &amp; Nicobar Islands&quot;</td><td>1980</td><td>1</td><td>&quot;Andaman &amp; Nicobar Islands&quot;</td><td>&quot;GEN&quot;</td><td>&quot;K. Kanda Swamy&quot;</td><td>&quot;M&quot;</td><td>&quot;Independents&quot;</td><td>&quot;IND&quot;</td><td>15856</td><td>96084</td></tr><tr><td>&quot;Andaman &amp; Nicobar Islands&quot;</td><td>1980</td><td>1</td><td>&quot;Andaman &amp; Nicobar Islands&quot;</td><td>&quot;GEN&quot;</td><td>&quot;P.K.S. Prasad&quot;</td><td>&quot;M&quot;</td><td>&quot;Communist Party Of India (Marx…</td><td>&quot;CPM&quot;</td><td>16014</td><td>96084</td></tr><tr><td>&quot;Andaman &amp; Nicobar Islands&quot;</td><td>1980</td><td>1</td><td>&quot;Andaman &amp; Nicobar Islands&quot;</td><td>&quot;GEN&quot;</td><td>&quot;Manoranjan Bhakta&quot;</td><td>&quot;M&quot;</td><td>&quot;Indian Natioanl Congress (I)&quot;</td><td>&quot;INC(I)&quot;</td><td>42046</td><td>96084</td></tr></tbody></table></div>"
      ],
      "text/plain": [
       "shape: (10, 11)\n",
       "┌──────────────┬──────┬───────┬─────────────┬───┬─────────────┬────────────┬────────────┬──────────┐\n",
       "│ st_name      ┆ year ┆ pc_no ┆ pc_name     ┆ … ┆ partyname   ┆ partyabbre ┆ totvotpoll ┆ electors │\n",
       "│ ---          ┆ ---  ┆ ---   ┆ ---         ┆   ┆ ---         ┆ ---        ┆ ---        ┆ ---      │\n",
       "│ str          ┆ i64  ┆ i64   ┆ str         ┆   ┆ str         ┆ str        ┆ i64        ┆ i64      │\n",
       "╞══════════════╪══════╪═══════╪═════════════╪═══╪═════════════╪════════════╪════════════╪══════════╡\n",
       "│ Andaman &    ┆ 1980 ┆ 1     ┆ Andaman &   ┆ … ┆ Independent ┆ IND        ┆ 109        ┆ 96084    │\n",
       "│ Nicobar      ┆      ┆       ┆ Nicobar     ┆   ┆ s           ┆            ┆            ┆          │\n",
       "│ Islands      ┆      ┆       ┆ Islands     ┆   ┆             ┆            ┆            ┆          │\n",
       "│ Andaman &    ┆ 1980 ┆ 1     ┆ Andaman &   ┆ … ┆ Independent ┆ IND        ┆ 125        ┆ 96084    │\n",
       "│ Nicobar      ┆      ┆       ┆ Nicobar     ┆   ┆ s           ┆            ┆            ┆          │\n",
       "│ Islands      ┆      ┆       ┆ Islands     ┆   ┆             ┆            ┆            ┆          │\n",
       "│ Andaman &    ┆ 1980 ┆ 1     ┆ Andaman &   ┆ … ┆ Independent ┆ IND        ┆ 405        ┆ 96084    │\n",
       "│ Nicobar      ┆      ┆       ┆ Nicobar     ┆   ┆ s           ┆            ┆            ┆          │\n",
       "│ Islands      ┆      ┆       ┆ Islands     ┆   ┆             ┆            ┆            ┆          │\n",
       "│ Andaman &    ┆ 1980 ┆ 1     ┆ Andaman &   ┆ … ┆ Independent ┆ IND        ┆ 470        ┆ 96084    │\n",
       "│ Nicobar      ┆      ┆       ┆ Nicobar     ┆   ┆ s           ┆            ┆            ┆          │\n",
       "│ Islands      ┆      ┆       ┆ Islands     ┆   ┆             ┆            ┆            ┆          │\n",
       "│ Andaman &    ┆ 1980 ┆ 1     ┆ Andaman &   ┆ … ┆ Janta Party ┆ JNP(S)     ┆ 717        ┆ 96084    │\n",
       "│ Nicobar      ┆      ┆       ┆ Nicobar     ┆   ┆ (Secular)   ┆            ┆            ┆          │\n",
       "│ Islands      ┆      ┆       ┆ Islands     ┆   ┆             ┆            ┆            ┆          │\n",
       "│ Andaman &    ┆ 1980 ┆ 1     ┆ Andaman &   ┆ … ┆ Independent ┆ IND        ┆ 1123       ┆ 96084    │\n",
       "│ Nicobar      ┆      ┆       ┆ Nicobar     ┆   ┆ s           ┆            ┆            ┆          │\n",
       "│ Islands      ┆      ┆       ┆ Islands     ┆   ┆             ┆            ┆            ┆          │\n",
       "│ Andaman &    ┆ 1980 ┆ 1     ┆ Andaman &   ┆ … ┆ Janta Party ┆ JNP        ┆ 2034       ┆ 96084    │\n",
       "│ Nicobar      ┆      ┆       ┆ Nicobar     ┆   ┆             ┆            ┆            ┆          │\n",
       "│ Islands      ┆      ┆       ┆ Islands     ┆   ┆             ┆            ┆            ┆          │\n",
       "│ Andaman &    ┆ 1980 ┆ 1     ┆ Andaman &   ┆ … ┆ Independent ┆ IND        ┆ 15856      ┆ 96084    │\n",
       "│ Nicobar      ┆      ┆       ┆ Nicobar     ┆   ┆ s           ┆            ┆            ┆          │\n",
       "│ Islands      ┆      ┆       ┆ Islands     ┆   ┆             ┆            ┆            ┆          │\n",
       "│ Andaman &    ┆ 1980 ┆ 1     ┆ Andaman &   ┆ … ┆ Communist   ┆ CPM        ┆ 16014      ┆ 96084    │\n",
       "│ Nicobar      ┆      ┆       ┆ Nicobar     ┆   ┆ Party Of    ┆            ┆            ┆          │\n",
       "│ Islands      ┆      ┆       ┆ Islands     ┆   ┆ India       ┆            ┆            ┆          │\n",
       "│              ┆      ┆       ┆             ┆   ┆ (Marx…      ┆            ┆            ┆          │\n",
       "│ Andaman &    ┆ 1980 ┆ 1     ┆ Andaman &   ┆ … ┆ Indian      ┆ INC(I)     ┆ 42046      ┆ 96084    │\n",
       "│ Nicobar      ┆      ┆       ┆ Nicobar     ┆   ┆ Natioanl    ┆            ┆            ┆          │\n",
       "│ Islands      ┆      ┆       ┆ Islands     ┆   ┆ Congress    ┆            ┆            ┆          │\n",
       "│              ┆      ┆       ┆             ┆   ┆ (I)         ┆            ┆            ┆          │\n",
       "└──────────────┴──────┴───────┴─────────────┴───┴─────────────┴────────────┴────────────┴──────────┘"
      ]
     },
     "execution_count": 40,
     "metadata": {},
     "output_type": "execute_result"
    }
   ],
   "source": [
    "df.filter(pl.col(\"year\").eq(1980)).head(10)"
   ]
  },
  {
   "cell_type": "code",
   "execution_count": 45,
   "metadata": {},
   "outputs": [],
   "source": [
    "party = \"INC\"\n",
    "st_name = \"Bihar\""
   ]
  },
  {
   "cell_type": "code",
   "execution_count": 95,
   "metadata": {},
   "outputs": [
    {
     "data": {},
     "metadata": {},
     "output_type": "display_data"
    },
    {
     "data": {
      "application/vnd.holoviews_exec.v0+json": "",
      "text/html": [
       "<div id='p2413'>\n",
       "  <div id=\"fcce2339-8abb-4fc3-bd19-b78d2611567e\" data-root-id=\"p2413\" style=\"display: contents;\"></div>\n",
       "</div>\n",
       "<script type=\"application/javascript\">(function(root) {\n",
       "  var docs_json = {\"dd71a322-1a23-43c7-a06b-169ae9f9a1e8\":{\"version\":\"3.4.1\",\"title\":\"Bokeh Application\",\"roots\":[{\"type\":\"object\",\"name\":\"Row\",\"id\":\"p2413\",\"attributes\":{\"name\":\"Row03647\",\"tags\":[\"embedded\"],\"stylesheets\":[\"\\n:host(.pn-loading):before, .pn-loading:before {\\n  background-color: #c3c3c3;\\n  mask-size: auto calc(min(50%, 400px));\\n  -webkit-mask-size: auto calc(min(50%, 400px));\\n}\",{\"type\":\"object\",\"name\":\"ImportedStyleSheet\",\"id\":\"p2416\",\"attributes\":{\"url\":\"https://cdn.holoviz.org/panel/1.4.4/dist/css/loading.css\"}},{\"type\":\"object\",\"name\":\"ImportedStyleSheet\",\"id\":\"p2542\",\"attributes\":{\"url\":\"https://cdn.holoviz.org/panel/1.4.4/dist/css/listpanel.css\"}},{\"type\":\"object\",\"name\":\"ImportedStyleSheet\",\"id\":\"p2414\",\"attributes\":{\"url\":\"https://cdn.holoviz.org/panel/1.4.4/dist/bundled/theme/default.css\"}},{\"type\":\"object\",\"name\":\"ImportedStyleSheet\",\"id\":\"p2415\",\"attributes\":{\"url\":\"https://cdn.holoviz.org/panel/1.4.4/dist/bundled/theme/native.css\"}}],\"min_width\":700,\"margin\":0,\"sizing_mode\":\"stretch_width\",\"align\":\"start\",\"children\":[{\"type\":\"object\",\"name\":\"Spacer\",\"id\":\"p2417\",\"attributes\":{\"name\":\"HSpacer03654\",\"stylesheets\":[\"\\n:host(.pn-loading):before, .pn-loading:before {\\n  background-color: #c3c3c3;\\n  mask-size: auto calc(min(50%, 400px));\\n  -webkit-mask-size: auto calc(min(50%, 400px));\\n}\",{\"id\":\"p2416\"},{\"id\":\"p2414\"},{\"id\":\"p2415\"}],\"margin\":0,\"sizing_mode\":\"stretch_width\",\"align\":\"start\"}},{\"type\":\"object\",\"name\":\"Figure\",\"id\":\"p2437\",\"attributes\":{\"width\":700,\"height\":300,\"margin\":[5,10],\"sizing_mode\":\"fixed\",\"align\":\"start\",\"x_range\":{\"type\":\"object\",\"name\":\"Range1d\",\"id\":\"p2418\",\"attributes\":{\"tags\":[[[\"year\",\"year\",null]],[]],\"start\":1977.0,\"end\":2014.0,\"reset_start\":1977.0,\"reset_end\":2014.0}},\"y_range\":{\"type\":\"object\",\"name\":\"Range1d\",\"id\":\"p2419\",\"attributes\":{\"tags\":[[[\"pct\",\"pct\",null]],{\"type\":\"map\",\"entries\":[[\"invert_yaxis\",false],[\"autorange\",false]]}],\"start\":-4.812,\"end\":52.931999999999995,\"reset_start\":-4.812,\"reset_end\":52.931999999999995}},\"x_scale\":{\"type\":\"object\",\"name\":\"LinearScale\",\"id\":\"p2447\"},\"y_scale\":{\"type\":\"object\",\"name\":\"LinearScale\",\"id\":\"p2448\"},\"title\":{\"type\":\"object\",\"name\":\"Title\",\"id\":\"p2440\",\"attributes\":{\"text_color\":\"black\",\"text_font_size\":\"12pt\"}},\"renderers\":[{\"type\":\"object\",\"name\":\"GlyphRenderer\",\"id\":\"p2477\",\"attributes\":{\"name\":\"BJP\",\"data_source\":{\"type\":\"object\",\"name\":\"ColumnDataSource\",\"id\":\"p2468\",\"attributes\":{\"selected\":{\"type\":\"object\",\"name\":\"Selection\",\"id\":\"p2469\",\"attributes\":{\"indices\":[],\"line_indices\":[]}},\"selection_policy\":{\"type\":\"object\",\"name\":\"UnionRenderers\",\"id\":\"p2470\"},\"data\":{\"type\":\"map\",\"entries\":[[\"year\",{\"type\":\"ndarray\",\"array\":{\"type\":\"bytes\",\"data\":\"wAcAAMUHAADHBwAAzAcAAM4HAADPBwAA1AcAANkHAADeBwAA\"},\"shape\":[9],\"dtype\":\"int32\",\"order\":\"little\"}],[\"pct\",{\"type\":\"ndarray\",\"array\":{\"type\":\"bytes\",\"data\":\"mpmZmZmZHUC4HoXrUbgmQFK4HoXrETRAKVyPwvUoNEAfhetRuJ45QKRwPQrXozdAKVyPwvUoNkAK16NwPcoyQAAAAAAAAD9A\"},\"shape\":[9],\"dtype\":\"float64\",\"order\":\"little\"}],[\"partyabbre\",[\"BJP\",\"BJP\",\"BJP\",\"BJP\",\"BJP\",\"BJP\",\"BJP\",\"BJP\",\"BJP\"]]]}}},\"view\":{\"type\":\"object\",\"name\":\"CDSView\",\"id\":\"p2478\",\"attributes\":{\"filter\":{\"type\":\"object\",\"name\":\"AllIndices\",\"id\":\"p2479\"}}},\"glyph\":{\"type\":\"object\",\"name\":\"Line\",\"id\":\"p2474\",\"attributes\":{\"tags\":[\"apply_ranges\"],\"x\":{\"type\":\"field\",\"field\":\"year\"},\"y\":{\"type\":\"field\",\"field\":\"pct\"},\"line_color\":\"#30a2da\",\"line_width\":2}},\"selection_glyph\":{\"type\":\"object\",\"name\":\"Line\",\"id\":\"p2482\",\"attributes\":{\"tags\":[\"apply_ranges\"],\"x\":{\"type\":\"field\",\"field\":\"year\"},\"y\":{\"type\":\"field\",\"field\":\"pct\"},\"line_color\":\"#30a2da\",\"line_width\":2}},\"nonselection_glyph\":{\"type\":\"object\",\"name\":\"Line\",\"id\":\"p2475\",\"attributes\":{\"tags\":[\"apply_ranges\"],\"x\":{\"type\":\"field\",\"field\":\"year\"},\"y\":{\"type\":\"field\",\"field\":\"pct\"},\"line_color\":\"#30a2da\",\"line_alpha\":0.1,\"line_width\":2}},\"muted_glyph\":{\"type\":\"object\",\"name\":\"Line\",\"id\":\"p2476\",\"attributes\":{\"tags\":[\"apply_ranges\"],\"x\":{\"type\":\"field\",\"field\":\"year\"},\"y\":{\"type\":\"field\",\"field\":\"pct\"},\"line_color\":\"#30a2da\",\"line_alpha\":0.2,\"line_width\":2}}}},{\"type\":\"object\",\"name\":\"GlyphRenderer\",\"id\":\"p2492\",\"attributes\":{\"name\":\"INC\",\"data_source\":{\"type\":\"object\",\"name\":\"ColumnDataSource\",\"id\":\"p2483\",\"attributes\":{\"selected\":{\"type\":\"object\",\"name\":\"Selection\",\"id\":\"p2484\",\"attributes\":{\"indices\":[],\"line_indices\":[]}},\"selection_policy\":{\"type\":\"object\",\"name\":\"UnionRenderers\",\"id\":\"p2485\"},\"data\":{\"type\":\"map\",\"entries\":[[\"year\",{\"type\":\"ndarray\",\"array\":{\"type\":\"bytes\",\"data\":\"uQcAAMAHAADFBwAAxwcAAMwHAADOBwAAzwcAANQHAADZBwAA3gcAAA==\"},\"shape\":[10],\"dtype\":\"int32\",\"order\":\"little\"}],[\"pct\",{\"type\":\"ndarray\",\"array\":{\"type\":\"bytes\",\"data\":\"w/UoXI9CQUCPwvUoXA9IQIXrUbgexUNAFK5H4Xo0QkCamZmZmdk8QJqZmZmZ2TlAmpmZmZlZPEBI4XoUroc6QLgehetReDxAj8L1KFxPM0A=\"},\"shape\":[10],\"dtype\":\"float64\",\"order\":\"little\"}],[\"partyabbre\",[\"INC\",\"INC\",\"INC\",\"INC\",\"INC\",\"INC\",\"INC\",\"INC\",\"INC\",\"INC\"]]]}}},\"view\":{\"type\":\"object\",\"name\":\"CDSView\",\"id\":\"p2493\",\"attributes\":{\"filter\":{\"type\":\"object\",\"name\":\"AllIndices\",\"id\":\"p2494\"}}},\"glyph\":{\"type\":\"object\",\"name\":\"Line\",\"id\":\"p2489\",\"attributes\":{\"tags\":[\"apply_ranges\"],\"x\":{\"type\":\"field\",\"field\":\"year\"},\"y\":{\"type\":\"field\",\"field\":\"pct\"},\"line_color\":\"#fc4f30\",\"line_width\":2}},\"selection_glyph\":{\"type\":\"object\",\"name\":\"Line\",\"id\":\"p2496\",\"attributes\":{\"tags\":[\"apply_ranges\"],\"x\":{\"type\":\"field\",\"field\":\"year\"},\"y\":{\"type\":\"field\",\"field\":\"pct\"},\"line_color\":\"#fc4f30\",\"line_width\":2}},\"nonselection_glyph\":{\"type\":\"object\",\"name\":\"Line\",\"id\":\"p2490\",\"attributes\":{\"tags\":[\"apply_ranges\"],\"x\":{\"type\":\"field\",\"field\":\"year\"},\"y\":{\"type\":\"field\",\"field\":\"pct\"},\"line_color\":\"#fc4f30\",\"line_alpha\":0.1,\"line_width\":2}},\"muted_glyph\":{\"type\":\"object\",\"name\":\"Line\",\"id\":\"p2491\",\"attributes\":{\"tags\":[\"apply_ranges\"],\"x\":{\"type\":\"field\",\"field\":\"year\"},\"y\":{\"type\":\"field\",\"field\":\"pct\"},\"line_color\":\"#fc4f30\",\"line_alpha\":0.2,\"line_width\":2}}}},{\"type\":\"object\",\"name\":\"GlyphRenderer\",\"id\":\"p2506\",\"attributes\":{\"name\":\"JD(U)\",\"data_source\":{\"type\":\"object\",\"name\":\"ColumnDataSource\",\"id\":\"p2497\",\"attributes\":{\"selected\":{\"type\":\"object\",\"name\":\"Selection\",\"id\":\"p2498\",\"attributes\":{\"indices\":[],\"line_indices\":[]}},\"selection_policy\":{\"type\":\"object\",\"name\":\"UnionRenderers\",\"id\":\"p2499\"},\"data\":{\"type\":\"map\",\"entries\":[[\"year\",{\"type\":\"ndarray\",\"array\":{\"type\":\"bytes\",\"data\":\"zwcAANQHAADZBwAA3gcAAA==\"},\"shape\":[4],\"dtype\":\"int32\",\"order\":\"little\"}],[\"pct\",{\"type\":\"ndarray\",\"array\":{\"type\":\"bytes\",\"data\":\"zczMzMzMCEDNzMzMzMwCQFK4HoXrUfg/SOF6FK5H8T8=\"},\"shape\":[4],\"dtype\":\"float64\",\"order\":\"little\"}],[\"partyabbre\",[\"JD(U)\",\"JD(U)\",\"JD(U)\",\"JD(U)\"]]]}}},\"view\":{\"type\":\"object\",\"name\":\"CDSView\",\"id\":\"p2507\",\"attributes\":{\"filter\":{\"type\":\"object\",\"name\":\"AllIndices\",\"id\":\"p2508\"}}},\"glyph\":{\"type\":\"object\",\"name\":\"Line\",\"id\":\"p2503\",\"attributes\":{\"tags\":[\"apply_ranges\"],\"x\":{\"type\":\"field\",\"field\":\"year\"},\"y\":{\"type\":\"field\",\"field\":\"pct\"},\"line_color\":\"#e5ae38\",\"line_width\":2}},\"selection_glyph\":{\"type\":\"object\",\"name\":\"Line\",\"id\":\"p2510\",\"attributes\":{\"tags\":[\"apply_ranges\"],\"x\":{\"type\":\"field\",\"field\":\"year\"},\"y\":{\"type\":\"field\",\"field\":\"pct\"},\"line_color\":\"#e5ae38\",\"line_width\":2}},\"nonselection_glyph\":{\"type\":\"object\",\"name\":\"Line\",\"id\":\"p2504\",\"attributes\":{\"tags\":[\"apply_ranges\"],\"x\":{\"type\":\"field\",\"field\":\"year\"},\"y\":{\"type\":\"field\",\"field\":\"pct\"},\"line_color\":\"#e5ae38\",\"line_alpha\":0.1,\"line_width\":2}},\"muted_glyph\":{\"type\":\"object\",\"name\":\"Line\",\"id\":\"p2505\",\"attributes\":{\"tags\":[\"apply_ranges\"],\"x\":{\"type\":\"field\",\"field\":\"year\"},\"y\":{\"type\":\"field\",\"field\":\"pct\"},\"line_color\":\"#e5ae38\",\"line_alpha\":0.2,\"line_width\":2}}}},{\"type\":\"object\",\"name\":\"GlyphRenderer\",\"id\":\"p2520\",\"attributes\":{\"name\":\"RJD\",\"data_source\":{\"type\":\"object\",\"name\":\"ColumnDataSource\",\"id\":\"p2511\",\"attributes\":{\"selected\":{\"type\":\"object\",\"name\":\"Selection\",\"id\":\"p2512\",\"attributes\":{\"indices\":[],\"line_indices\":[]}},\"selection_policy\":{\"type\":\"object\",\"name\":\"UnionRenderers\",\"id\":\"p2513\"},\"data\":{\"type\":\"map\",\"entries\":[[\"year\",{\"type\":\"ndarray\",\"array\":{\"type\":\"bytes\",\"data\":\"zgcAAM8HAADUBwAA2QcAAN4HAAA=\"},\"shape\":[5],\"dtype\":\"int32\",\"order\":\"little\"}],[\"pct\",{\"type\":\"ndarray\",\"array\":{\"type\":\"bytes\",\"data\":\"cT0K16NwBUBSuB6F61EGQEjhehSuRwNAUrgehetR9D9xPQrXo3D1Pw==\"},\"shape\":[5],\"dtype\":\"float64\",\"order\":\"little\"}],[\"partyabbre\",[\"RJD\",\"RJD\",\"RJD\",\"RJD\",\"RJD\"]]]}}},\"view\":{\"type\":\"object\",\"name\":\"CDSView\",\"id\":\"p2521\",\"attributes\":{\"filter\":{\"type\":\"object\",\"name\":\"AllIndices\",\"id\":\"p2522\"}}},\"glyph\":{\"type\":\"object\",\"name\":\"Line\",\"id\":\"p2517\",\"attributes\":{\"tags\":[\"apply_ranges\"],\"x\":{\"type\":\"field\",\"field\":\"year\"},\"y\":{\"type\":\"field\",\"field\":\"pct\"},\"line_color\":\"#6d904f\",\"line_width\":2}},\"selection_glyph\":{\"type\":\"object\",\"name\":\"Line\",\"id\":\"p2524\",\"attributes\":{\"tags\":[\"apply_ranges\"],\"x\":{\"type\":\"field\",\"field\":\"year\"},\"y\":{\"type\":\"field\",\"field\":\"pct\"},\"line_color\":\"#6d904f\",\"line_width\":2}},\"nonselection_glyph\":{\"type\":\"object\",\"name\":\"Line\",\"id\":\"p2518\",\"attributes\":{\"tags\":[\"apply_ranges\"],\"x\":{\"type\":\"field\",\"field\":\"year\"},\"y\":{\"type\":\"field\",\"field\":\"pct\"},\"line_color\":\"#6d904f\",\"line_alpha\":0.1,\"line_width\":2}},\"muted_glyph\":{\"type\":\"object\",\"name\":\"Line\",\"id\":\"p2519\",\"attributes\":{\"tags\":[\"apply_ranges\"],\"x\":{\"type\":\"field\",\"field\":\"year\"},\"y\":{\"type\":\"field\",\"field\":\"pct\"},\"line_color\":\"#6d904f\",\"line_alpha\":0.2,\"line_width\":2}}}},{\"type\":\"object\",\"name\":\"GlyphRenderer\",\"id\":\"p2534\",\"attributes\":{\"name\":\"SP\",\"data_source\":{\"type\":\"object\",\"name\":\"ColumnDataSource\",\"id\":\"p2525\",\"attributes\":{\"selected\":{\"type\":\"object\",\"name\":\"Selection\",\"id\":\"p2526\",\"attributes\":{\"indices\":[],\"line_indices\":[]}},\"selection_policy\":{\"type\":\"object\",\"name\":\"UnionRenderers\",\"id\":\"p2527\"},\"data\":{\"type\":\"map\",\"entries\":[[\"year\",{\"type\":\"ndarray\",\"array\":{\"type\":\"bytes\",\"data\":\"xwcAAMwHAADOBwAAzwcAANQHAADZBwAA3gcAAA==\"},\"shape\":[7],\"dtype\":\"int32\",\"order\":\"little\"}],[\"pct\",{\"type\":\"ndarray\",\"array\":{\"type\":\"bytes\",\"data\":\"AAAAAAAAAABSuB6F61EKQMP1KFyPwhNAKVyPwvUoDkBI4XoUrkcRQFyPwvUoXAtA9ihcj8L1CkA=\"},\"shape\":[7],\"dtype\":\"float64\",\"order\":\"little\"}],[\"partyabbre\",[\"SP\",\"SP\",\"SP\",\"SP\",\"SP\",\"SP\",\"SP\"]]]}}},\"view\":{\"type\":\"object\",\"name\":\"CDSView\",\"id\":\"p2535\",\"attributes\":{\"filter\":{\"type\":\"object\",\"name\":\"AllIndices\",\"id\":\"p2536\"}}},\"glyph\":{\"type\":\"object\",\"name\":\"Line\",\"id\":\"p2531\",\"attributes\":{\"tags\":[\"apply_ranges\"],\"x\":{\"type\":\"field\",\"field\":\"year\"},\"y\":{\"type\":\"field\",\"field\":\"pct\"},\"line_color\":\"#8b8b8b\",\"line_width\":2}},\"selection_glyph\":{\"type\":\"object\",\"name\":\"Line\",\"id\":\"p2538\",\"attributes\":{\"tags\":[\"apply_ranges\"],\"x\":{\"type\":\"field\",\"field\":\"year\"},\"y\":{\"type\":\"field\",\"field\":\"pct\"},\"line_color\":\"#8b8b8b\",\"line_width\":2}},\"nonselection_glyph\":{\"type\":\"object\",\"name\":\"Line\",\"id\":\"p2532\",\"attributes\":{\"tags\":[\"apply_ranges\"],\"x\":{\"type\":\"field\",\"field\":\"year\"},\"y\":{\"type\":\"field\",\"field\":\"pct\"},\"line_color\":\"#8b8b8b\",\"line_alpha\":0.1,\"line_width\":2}},\"muted_glyph\":{\"type\":\"object\",\"name\":\"Line\",\"id\":\"p2533\",\"attributes\":{\"tags\":[\"apply_ranges\"],\"x\":{\"type\":\"field\",\"field\":\"year\"},\"y\":{\"type\":\"field\",\"field\":\"pct\"},\"line_color\":\"#8b8b8b\",\"line_alpha\":0.2,\"line_width\":2}}}}],\"toolbar\":{\"type\":\"object\",\"name\":\"Toolbar\",\"id\":\"p2446\",\"attributes\":{\"tools\":[{\"type\":\"object\",\"name\":\"WheelZoomTool\",\"id\":\"p2423\",\"attributes\":{\"tags\":[\"hv_created\"],\"renderers\":\"auto\",\"zoom_together\":\"none\"}},{\"type\":\"object\",\"name\":\"HoverTool\",\"id\":\"p2424\",\"attributes\":{\"tags\":[\"hv_created\"],\"renderers\":[{\"id\":\"p2477\"},{\"id\":\"p2492\"},{\"id\":\"p2506\"},{\"id\":\"p2520\"},{\"id\":\"p2534\"}],\"tooltips\":[[\"partyabbre\",\"@{partyabbre}\"],[\"year\",\"@{year}\"],[\"pct\",\"@{pct}\"]]}},{\"type\":\"object\",\"name\":\"SaveTool\",\"id\":\"p2459\"},{\"type\":\"object\",\"name\":\"PanTool\",\"id\":\"p2460\"},{\"type\":\"object\",\"name\":\"BoxZoomTool\",\"id\":\"p2461\",\"attributes\":{\"overlay\":{\"type\":\"object\",\"name\":\"BoxAnnotation\",\"id\":\"p2462\",\"attributes\":{\"syncable\":false,\"level\":\"overlay\",\"visible\":false,\"left\":{\"type\":\"number\",\"value\":\"nan\"},\"right\":{\"type\":\"number\",\"value\":\"nan\"},\"top\":{\"type\":\"number\",\"value\":\"nan\"},\"bottom\":{\"type\":\"number\",\"value\":\"nan\"},\"left_units\":\"canvas\",\"right_units\":\"canvas\",\"top_units\":\"canvas\",\"bottom_units\":\"canvas\",\"line_color\":\"black\",\"line_alpha\":1.0,\"line_width\":2,\"line_dash\":[4,4],\"fill_color\":\"lightgrey\",\"fill_alpha\":0.5}}}},{\"type\":\"object\",\"name\":\"ResetTool\",\"id\":\"p2467\"}],\"active_drag\":{\"id\":\"p2460\"},\"active_scroll\":{\"id\":\"p2423\"}}},\"left\":[{\"type\":\"object\",\"name\":\"LinearAxis\",\"id\":\"p2454\",\"attributes\":{\"ticker\":{\"type\":\"object\",\"name\":\"BasicTicker\",\"id\":\"p2455\",\"attributes\":{\"mantissas\":[1,2,5]}},\"formatter\":{\"type\":\"object\",\"name\":\"BasicTickFormatter\",\"id\":\"p2456\"},\"axis_label\":\"pct\",\"major_label_policy\":{\"type\":\"object\",\"name\":\"AllLabels\",\"id\":\"p2457\"}}}],\"right\":[{\"type\":\"object\",\"name\":\"Legend\",\"id\":\"p2480\",\"attributes\":{\"location\":[0,0],\"title\":\"partyabbre\",\"click_policy\":\"mute\",\"items\":[{\"type\":\"object\",\"name\":\"LegendItem\",\"id\":\"p2481\",\"attributes\":{\"label\":{\"type\":\"value\",\"value\":\"BJP\"},\"renderers\":[{\"id\":\"p2477\"}]}},{\"type\":\"object\",\"name\":\"LegendItem\",\"id\":\"p2495\",\"attributes\":{\"label\":{\"type\":\"value\",\"value\":\"INC\"},\"renderers\":[{\"id\":\"p2492\"}]}},{\"type\":\"object\",\"name\":\"LegendItem\",\"id\":\"p2509\",\"attributes\":{\"label\":{\"type\":\"value\",\"value\":\"JD(U)\"},\"renderers\":[{\"id\":\"p2506\"}]}},{\"type\":\"object\",\"name\":\"LegendItem\",\"id\":\"p2523\",\"attributes\":{\"label\":{\"type\":\"value\",\"value\":\"RJD\"},\"renderers\":[{\"id\":\"p2520\"}]}},{\"type\":\"object\",\"name\":\"LegendItem\",\"id\":\"p2537\",\"attributes\":{\"label\":{\"type\":\"value\",\"value\":\"SP\"},\"renderers\":[{\"id\":\"p2534\"}]}}]}}],\"below\":[{\"type\":\"object\",\"name\":\"LinearAxis\",\"id\":\"p2449\",\"attributes\":{\"ticker\":{\"type\":\"object\",\"name\":\"BasicTicker\",\"id\":\"p2450\",\"attributes\":{\"mantissas\":[1,2,5]}},\"formatter\":{\"type\":\"object\",\"name\":\"BasicTickFormatter\",\"id\":\"p2451\"},\"axis_label\":\"year\",\"major_label_policy\":{\"type\":\"object\",\"name\":\"AllLabels\",\"id\":\"p2452\"}}}],\"center\":[{\"type\":\"object\",\"name\":\"Grid\",\"id\":\"p2453\",\"attributes\":{\"axis\":{\"id\":\"p2449\"},\"grid_line_color\":null}},{\"type\":\"object\",\"name\":\"Grid\",\"id\":\"p2458\",\"attributes\":{\"dimension\":1,\"axis\":{\"id\":\"p2454\"},\"grid_line_color\":null}}],\"min_border_top\":10,\"min_border_bottom\":10,\"min_border_left\":10,\"min_border_right\":10,\"output_backend\":\"webgl\"}},{\"type\":\"object\",\"name\":\"Spacer\",\"id\":\"p2540\",\"attributes\":{\"name\":\"HSpacer03655\",\"stylesheets\":[\"\\n:host(.pn-loading):before, .pn-loading:before {\\n  background-color: #c3c3c3;\\n  mask-size: auto calc(min(50%, 400px));\\n  -webkit-mask-size: auto calc(min(50%, 400px));\\n}\",{\"id\":\"p2416\"},{\"id\":\"p2414\"},{\"id\":\"p2415\"}],\"margin\":0,\"sizing_mode\":\"stretch_width\",\"align\":\"start\"}}]}}],\"defs\":[{\"type\":\"model\",\"name\":\"ReactiveHTML1\"},{\"type\":\"model\",\"name\":\"FlexBox1\",\"properties\":[{\"name\":\"align_content\",\"kind\":\"Any\",\"default\":\"flex-start\"},{\"name\":\"align_items\",\"kind\":\"Any\",\"default\":\"flex-start\"},{\"name\":\"flex_direction\",\"kind\":\"Any\",\"default\":\"row\"},{\"name\":\"flex_wrap\",\"kind\":\"Any\",\"default\":\"wrap\"},{\"name\":\"gap\",\"kind\":\"Any\",\"default\":\"\"},{\"name\":\"justify_content\",\"kind\":\"Any\",\"default\":\"flex-start\"}]},{\"type\":\"model\",\"name\":\"FloatPanel1\",\"properties\":[{\"name\":\"config\",\"kind\":\"Any\",\"default\":{\"type\":\"map\"}},{\"name\":\"contained\",\"kind\":\"Any\",\"default\":true},{\"name\":\"position\",\"kind\":\"Any\",\"default\":\"right-top\"},{\"name\":\"offsetx\",\"kind\":\"Any\",\"default\":null},{\"name\":\"offsety\",\"kind\":\"Any\",\"default\":null},{\"name\":\"theme\",\"kind\":\"Any\",\"default\":\"primary\"},{\"name\":\"status\",\"kind\":\"Any\",\"default\":\"normalized\"}]},{\"type\":\"model\",\"name\":\"GridStack1\",\"properties\":[{\"name\":\"mode\",\"kind\":\"Any\",\"default\":\"warn\"},{\"name\":\"ncols\",\"kind\":\"Any\",\"default\":null},{\"name\":\"nrows\",\"kind\":\"Any\",\"default\":null},{\"name\":\"allow_resize\",\"kind\":\"Any\",\"default\":true},{\"name\":\"allow_drag\",\"kind\":\"Any\",\"default\":true},{\"name\":\"state\",\"kind\":\"Any\",\"default\":[]}]},{\"type\":\"model\",\"name\":\"drag1\",\"properties\":[{\"name\":\"slider_width\",\"kind\":\"Any\",\"default\":5},{\"name\":\"slider_color\",\"kind\":\"Any\",\"default\":\"black\"},{\"name\":\"value\",\"kind\":\"Any\",\"default\":50}]},{\"type\":\"model\",\"name\":\"click1\",\"properties\":[{\"name\":\"terminal_output\",\"kind\":\"Any\",\"default\":\"\"},{\"name\":\"debug_name\",\"kind\":\"Any\",\"default\":\"\"},{\"name\":\"clears\",\"kind\":\"Any\",\"default\":0}]},{\"type\":\"model\",\"name\":\"FastWrapper1\",\"properties\":[{\"name\":\"object\",\"kind\":\"Any\",\"default\":null},{\"name\":\"style\",\"kind\":\"Any\",\"default\":null}]},{\"type\":\"model\",\"name\":\"NotificationAreaBase1\",\"properties\":[{\"name\":\"js_events\",\"kind\":\"Any\",\"default\":{\"type\":\"map\"}},{\"name\":\"position\",\"kind\":\"Any\",\"default\":\"bottom-right\"},{\"name\":\"_clear\",\"kind\":\"Any\",\"default\":0}]},{\"type\":\"model\",\"name\":\"NotificationArea1\",\"properties\":[{\"name\":\"js_events\",\"kind\":\"Any\",\"default\":{\"type\":\"map\"}},{\"name\":\"notifications\",\"kind\":\"Any\",\"default\":[]},{\"name\":\"position\",\"kind\":\"Any\",\"default\":\"bottom-right\"},{\"name\":\"_clear\",\"kind\":\"Any\",\"default\":0},{\"name\":\"types\",\"kind\":\"Any\",\"default\":[{\"type\":\"map\",\"entries\":[[\"type\",\"warning\"],[\"background\",\"#ffc107\"],[\"icon\",{\"type\":\"map\",\"entries\":[[\"className\",\"fas fa-exclamation-triangle\"],[\"tagName\",\"i\"],[\"color\",\"white\"]]}]]},{\"type\":\"map\",\"entries\":[[\"type\",\"info\"],[\"background\",\"#007bff\"],[\"icon\",{\"type\":\"map\",\"entries\":[[\"className\",\"fas fa-info-circle\"],[\"tagName\",\"i\"],[\"color\",\"white\"]]}]]}]}]},{\"type\":\"model\",\"name\":\"Notification\",\"properties\":[{\"name\":\"background\",\"kind\":\"Any\",\"default\":null},{\"name\":\"duration\",\"kind\":\"Any\",\"default\":3000},{\"name\":\"icon\",\"kind\":\"Any\",\"default\":null},{\"name\":\"message\",\"kind\":\"Any\",\"default\":\"\"},{\"name\":\"notification_type\",\"kind\":\"Any\",\"default\":null},{\"name\":\"_destroyed\",\"kind\":\"Any\",\"default\":false}]},{\"type\":\"model\",\"name\":\"TemplateActions1\",\"properties\":[{\"name\":\"open_modal\",\"kind\":\"Any\",\"default\":0},{\"name\":\"close_modal\",\"kind\":\"Any\",\"default\":0}]},{\"type\":\"model\",\"name\":\"BootstrapTemplateActions1\",\"properties\":[{\"name\":\"open_modal\",\"kind\":\"Any\",\"default\":0},{\"name\":\"close_modal\",\"kind\":\"Any\",\"default\":0}]},{\"type\":\"model\",\"name\":\"TemplateEditor1\",\"properties\":[{\"name\":\"layout\",\"kind\":\"Any\",\"default\":[]}]},{\"type\":\"model\",\"name\":\"MaterialTemplateActions1\",\"properties\":[{\"name\":\"open_modal\",\"kind\":\"Any\",\"default\":0},{\"name\":\"close_modal\",\"kind\":\"Any\",\"default\":0}]},{\"type\":\"model\",\"name\":\"copy_to_clipboard1\",\"properties\":[{\"name\":\"fill\",\"kind\":\"Any\",\"default\":\"none\"},{\"name\":\"value\",\"kind\":\"Any\",\"default\":null}]}]}};\n",
       "  var render_items = [{\"docid\":\"dd71a322-1a23-43c7-a06b-169ae9f9a1e8\",\"roots\":{\"p2413\":\"fcce2339-8abb-4fc3-bd19-b78d2611567e\"},\"root_ids\":[\"p2413\"]}];\n",
       "  var docs = Object.values(docs_json)\n",
       "  if (!docs) {\n",
       "    return\n",
       "  }\n",
       "  const py_version = docs[0].version.replace('rc', '-rc.').replace('.dev', '-dev.')\n",
       "  async function embed_document(root) {\n",
       "    var Bokeh = get_bokeh(root)\n",
       "    await Bokeh.embed.embed_items_notebook(docs_json, render_items);\n",
       "    for (const render_item of render_items) {\n",
       "      for (const root_id of render_item.root_ids) {\n",
       "\tconst id_el = document.getElementById(root_id)\n",
       "\tif (id_el.children.length && id_el.children[0].hasAttribute('data-root-id')) {\n",
       "\t  const root_el = id_el.children[0]\n",
       "\t  root_el.id = root_el.id + '-rendered'\n",
       "\t  for (const child of root_el.children) {\n",
       "            // Ensure JupyterLab does not capture keyboard shortcuts\n",
       "            // see: https://jupyterlab.readthedocs.io/en/4.1.x/extension/notebook.html#keyboard-interaction-model\n",
       "\t    child.setAttribute('data-lm-suppress-shortcuts', 'true')\n",
       "\t  }\n",
       "\t}\n",
       "      }\n",
       "    }\n",
       "  }\n",
       "  function get_bokeh(root) {\n",
       "    if (root.Bokeh === undefined) {\n",
       "      return null\n",
       "    } else if (root.Bokeh.version !== py_version) {\n",
       "      if (root.Bokeh.versions === undefined || !root.Bokeh.versions.has(py_version)) {\n",
       "\treturn null\n",
       "      }\n",
       "      return root.Bokeh.versions.get(py_version);\n",
       "    } else if (root.Bokeh.version === py_version) {\n",
       "      return root.Bokeh\n",
       "    }\n",
       "    return null\n",
       "  }\n",
       "  function is_loaded(root) {\n",
       "    var Bokeh = get_bokeh(root)\n",
       "    return (Bokeh != null && Bokeh.Panel !== undefined)\n",
       "  }\n",
       "  if (is_loaded(root)) {\n",
       "    embed_document(root);\n",
       "  } else {\n",
       "    var attempts = 0;\n",
       "    var timer = setInterval(function(root) {\n",
       "      if (is_loaded(root)) {\n",
       "        clearInterval(timer);\n",
       "        embed_document(root);\n",
       "      } else if (document.readyState == \"complete\") {\n",
       "        attempts++;\n",
       "        if (attempts > 200) {\n",
       "          clearInterval(timer);\n",
       "\t  var Bokeh = get_bokeh(root)\n",
       "\t  if (Bokeh == null || Bokeh.Panel == null) {\n",
       "            console.warn(\"Panel: ERROR: Unable to run Panel code because Bokeh or Panel library is missing\");\n",
       "\t  } else {\n",
       "\t    console.warn(\"Panel: WARNING: Attempting to render but not all required libraries could be resolved.\")\n",
       "\t    embed_document(root)\n",
       "\t  }\n",
       "        }\n",
       "      }\n",
       "    }, 25, root)\n",
       "  }\n",
       "})(window);</script>"
      ],
      "text/plain": [
       ":NdOverlay   [partyabbre]\n",
       "   :Curve   [year]   (pct)"
      ]
     },
     "execution_count": 95,
     "metadata": {
      "application/vnd.holoviews_exec.v0+json": {
       "id": "p2413"
      }
     },
     "output_type": "execute_result"
    }
   ],
   "source": [
    "(\n",
    "    df.filter(\n",
    "        pl.col(\"partyabbre\").is_in([\"INC\", \"BJP\", \"JD(U)\", \"RJD\", \"SP\"]),\n",
    "        # pl.col(\"st_name\").eq(st_name),\n",
    "    )\n",
    "    .group_by(\"partyabbre\", \"year\")\n",
    "    .agg(pl.sum(\"totvotpoll\"))\n",
    "    .join(\n",
    "        df.group_by(\"year\", \"pc_name\")\n",
    "        .agg(pl.sum(\"totvotpoll\"))\n",
    "        .select(\n",
    "            \"year\",\n",
    "            pl.sum(\"totvotpoll\").over(\"year\").alias(\"polled\"),\n",
    "        )\n",
    "        .unique()\n",
    "        .sort(\"year\"),\n",
    "        on=\"year\",\n",
    "    )\n",
    "    .with_columns(\n",
    "        pct=pl.col(\"totvotpoll\").mul(100).truediv(pl.col(\"polled\")).round(2),\n",
    "    )\n",
    "    .sort(\"year\")\n",
    ").plot.line(\n",
    "    x=\"year\",\n",
    "    y=\"pct\",\n",
    "    by=\"partyabbre\",\n",
    ")"
   ]
  },
  {
   "cell_type": "code",
   "execution_count": null,
   "metadata": {},
   "outputs": [],
   "source": []
  }
 ],
 "metadata": {
  "kernelspec": {
   "display_name": ".venv",
   "language": "python",
   "name": "python3"
  },
  "language_info": {
   "codemirror_mode": {
    "name": "ipython",
    "version": 3
   },
   "file_extension": ".py",
   "mimetype": "text/x-python",
   "name": "python",
   "nbconvert_exporter": "python",
   "pygments_lexer": "ipython3",
   "version": "3.11.9"
  }
 },
 "nbformat": 4,
 "nbformat_minor": 2
}
