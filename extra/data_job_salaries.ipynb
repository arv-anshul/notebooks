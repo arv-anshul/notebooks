{
 "cells": [
  {
   "cell_type": "markdown",
   "metadata": {},
   "source": [
    "# Anslysis using `polars`\n",
    "\n",
    "I have followed **CampusX's - \"SQL Case Study Course\"** where **Ajay Sati Sir** perform analysis on a **Dataset - \"Data Science Jobs Salaries in 2024\"**.\n",
    "\n",
    "> You can refer to [`data/README.md`](/data/README.md) to more about data.\n",
    "\n",
    "In addition, to that session I have solved the same questions (given by sir in the session) using [`polars`](https://pola.rs) library.\n",
    "\n",
    "> I have also provided the SQL solutions (solved by sir) from the session."
   ]
  },
  {
   "cell_type": "code",
   "execution_count": 1,
   "metadata": {},
   "outputs": [],
   "source": [
    "import polars as pl"
   ]
  },
  {
   "cell_type": "code",
   "execution_count": 2,
   "metadata": {},
   "outputs": [
    {
     "data": {
      "text/plain": [
       "polars.config.Config"
      ]
     },
     "execution_count": 2,
     "metadata": {},
     "output_type": "execute_result"
    }
   ],
   "source": [
    "pl.Config.set_fmt_str_lengths(40)"
   ]
  },
  {
   "cell_type": "code",
   "execution_count": 3,
   "metadata": {},
   "outputs": [
    {
     "name": "stdout",
     "output_type": "stream",
     "text": [
      "(13972, 11)\n"
     ]
    },
    {
     "data": {
      "text/html": [
       "<div><style>\n",
       ".dataframe > thead > tr,\n",
       ".dataframe > tbody > tr {\n",
       "  text-align: right;\n",
       "  white-space: pre-wrap;\n",
       "}\n",
       "</style>\n",
       "<small>shape: (5, 11)</small><table border=\"1\" class=\"dataframe\"><thead><tr><th>work_year</th><th>experience_level</th><th>employment_type</th><th>job_title</th><th>salary</th><th>salary_currency</th><th>salary_in_usd</th><th>employee_residence</th><th>remote_ratio</th><th>company_location</th><th>company_size</th></tr><tr><td>i64</td><td>str</td><td>str</td><td>str</td><td>i64</td><td>str</td><td>i64</td><td>str</td><td>i64</td><td>str</td><td>str</td></tr></thead><tbody><tr><td>2024</td><td>&quot;SE&quot;</td><td>&quot;FT&quot;</td><td>&quot;AI Engineer&quot;</td><td>90000</td><td>&quot;USD&quot;</td><td>90000</td><td>&quot;AE&quot;</td><td>0</td><td>&quot;AE&quot;</td><td>&quot;L&quot;</td></tr><tr><td>2024</td><td>&quot;SE&quot;</td><td>&quot;FT&quot;</td><td>&quot;Machine Learning Engineer&quot;</td><td>180500</td><td>&quot;USD&quot;</td><td>180500</td><td>&quot;US&quot;</td><td>0</td><td>&quot;US&quot;</td><td>&quot;M&quot;</td></tr><tr><td>2024</td><td>&quot;SE&quot;</td><td>&quot;FT&quot;</td><td>&quot;Machine Learning Engineer&quot;</td><td>96200</td><td>&quot;USD&quot;</td><td>96200</td><td>&quot;US&quot;</td><td>0</td><td>&quot;US&quot;</td><td>&quot;M&quot;</td></tr><tr><td>2024</td><td>&quot;SE&quot;</td><td>&quot;FT&quot;</td><td>&quot;Machine Learning Engineer&quot;</td><td>235000</td><td>&quot;USD&quot;</td><td>235000</td><td>&quot;AU&quot;</td><td>0</td><td>&quot;AU&quot;</td><td>&quot;M&quot;</td></tr><tr><td>2024</td><td>&quot;SE&quot;</td><td>&quot;FT&quot;</td><td>&quot;Machine Learning Engineer&quot;</td><td>175000</td><td>&quot;USD&quot;</td><td>175000</td><td>&quot;AU&quot;</td><td>0</td><td>&quot;AU&quot;</td><td>&quot;M&quot;</td></tr></tbody></table></div>"
      ],
      "text/plain": [
       "shape: (5, 11)\n",
       "┌───────────┬───────────┬───────────┬───────────┬───┬───────────┬───────────┬───────────┬──────────┐\n",
       "│ work_year ┆ experienc ┆ employmen ┆ job_title ┆ … ┆ employee_ ┆ remote_ra ┆ company_l ┆ company_ │\n",
       "│ ---       ┆ e_level   ┆ t_type    ┆ ---       ┆   ┆ residence ┆ tio       ┆ ocation   ┆ size     │\n",
       "│ i64       ┆ ---       ┆ ---       ┆ str       ┆   ┆ ---       ┆ ---       ┆ ---       ┆ ---      │\n",
       "│           ┆ str       ┆ str       ┆           ┆   ┆ str       ┆ i64       ┆ str       ┆ str      │\n",
       "╞═══════════╪═══════════╪═══════════╪═══════════╪═══╪═══════════╪═══════════╪═══════════╪══════════╡\n",
       "│ 2024      ┆ SE        ┆ FT        ┆ AI        ┆ … ┆ AE        ┆ 0         ┆ AE        ┆ L        │\n",
       "│           ┆           ┆           ┆ Engineer  ┆   ┆           ┆           ┆           ┆          │\n",
       "│ 2024      ┆ SE        ┆ FT        ┆ Machine   ┆ … ┆ US        ┆ 0         ┆ US        ┆ M        │\n",
       "│           ┆           ┆           ┆ Learning  ┆   ┆           ┆           ┆           ┆          │\n",
       "│           ┆           ┆           ┆ Engineer  ┆   ┆           ┆           ┆           ┆          │\n",
       "│ 2024      ┆ SE        ┆ FT        ┆ Machine   ┆ … ┆ US        ┆ 0         ┆ US        ┆ M        │\n",
       "│           ┆           ┆           ┆ Learning  ┆   ┆           ┆           ┆           ┆          │\n",
       "│           ┆           ┆           ┆ Engineer  ┆   ┆           ┆           ┆           ┆          │\n",
       "│ 2024      ┆ SE        ┆ FT        ┆ Machine   ┆ … ┆ AU        ┆ 0         ┆ AU        ┆ M        │\n",
       "│           ┆           ┆           ┆ Learning  ┆   ┆           ┆           ┆           ┆          │\n",
       "│           ┆           ┆           ┆ Engineer  ┆   ┆           ┆           ┆           ┆          │\n",
       "│ 2024      ┆ SE        ┆ FT        ┆ Machine   ┆ … ┆ AU        ┆ 0         ┆ AU        ┆ M        │\n",
       "│           ┆           ┆           ┆ Learning  ┆   ┆           ┆           ┆           ┆          │\n",
       "│           ┆           ┆           ┆ Engineer  ┆   ┆           ┆           ┆           ┆          │\n",
       "└───────────┴───────────┴───────────┴───────────┴───┴───────────┴───────────┴───────────┴──────────┘"
      ]
     },
     "execution_count": 3,
     "metadata": {},
     "output_type": "execute_result"
    }
   ],
   "source": [
    "df = pl.read_csv(\"data/data_job_salaries.csv\")\n",
    "print(df.shape)\n",
    "df.head()"
   ]
  },
  {
   "cell_type": "markdown",
   "metadata": {},
   "source": [
    "### 1. You're a compensation analyst employed by a multinational corporation. Your assignment is to pinpoint countries who give work fully remotely work , for the title `\"Managers\"` paying salaries exceeding **$90,000 USD**."
   ]
  },
  {
   "cell_type": "markdown",
   "metadata": {},
   "source": [
    "```sql\n",
    "SELECT DISTINCT company_location\n",
    "FROM            salaries\n",
    "WHERE           job _title LIKE '%Manager%'\n",
    "AND             salary_in_usd > 90000\n",
    "AND             remote_ratio=100\n",
    "```"
   ]
  },
  {
   "cell_type": "code",
   "execution_count": 13,
   "metadata": {},
   "outputs": [
    {
     "data": {
      "text/html": [
       "<div><style>\n",
       ".dataframe > thead > tr,\n",
       ".dataframe > tbody > tr {\n",
       "  text-align: right;\n",
       "  white-space: pre-wrap;\n",
       "}\n",
       "</style>\n",
       "<small>shape: (4, 1)</small><table border=\"1\" class=\"dataframe\"><thead><tr><th>company_location</th></tr><tr><td>str</td></tr></thead><tbody><tr><td>&quot;FR&quot;</td></tr><tr><td>&quot;US&quot;</td></tr><tr><td>&quot;MX&quot;</td></tr><tr><td>&quot;AU&quot;</td></tr></tbody></table></div>"
      ],
      "text/plain": [
       "shape: (4, 1)\n",
       "┌──────────────────┐\n",
       "│ company_location │\n",
       "│ ---              │\n",
       "│ str              │\n",
       "╞══════════════════╡\n",
       "│ FR               │\n",
       "│ US               │\n",
       "│ MX               │\n",
       "│ AU               │\n",
       "└──────────────────┘"
      ]
     },
     "execution_count": 13,
     "metadata": {},
     "output_type": "execute_result"
    }
   ],
   "source": [
    "(\n",
    "    df.filter(\n",
    "        pl.col(\"remote_ratio\").eq(100),\n",
    "        pl.col(\"job_title\").str.contains(r\"(?i)manager\"),\n",
    "        pl.col(\"salary_in_usd\").ge(90_000),\n",
    "    ).select(\n",
    "        pl.col(\"company_location\").unique(),\n",
    "    )\n",
    ")"
   ]
  },
  {
   "cell_type": "markdown",
   "metadata": {},
   "source": [
    "### 2. As a remote work advocate working for a progressive HR Tech Startup who place their freshers' clients in large tech firms. You're tasked with identifying top 5 country having greatest count of large (`company_size`) number of companies."
   ]
  },
  {
   "cell_type": "markdown",
   "metadata": {},
   "source": [
    "```sql\n",
    "SELECT company_location,\n",
    "       Count(*) AS 'cnt'\n",
    "FROM   (SELECT *\n",
    "        FROM   salaries\n",
    "        WHERE  experience_level = 'EN'\n",
    "               AND company_size = 'L')t\n",
    "GROUP  BY company_location\n",
    "ORDER  BY 'cnt' DESC\n",
    "LIMIT  5\n",
    "```"
   ]
  },
  {
   "cell_type": "code",
   "execution_count": 17,
   "metadata": {},
   "outputs": [
    {
     "data": {
      "text/html": [
       "<div><style>\n",
       ".dataframe > thead > tr,\n",
       ".dataframe > tbody > tr {\n",
       "  text-align: right;\n",
       "  white-space: pre-wrap;\n",
       "}\n",
       "</style>\n",
       "<small>shape: (5, 2)</small><table border=\"1\" class=\"dataframe\"><thead><tr><th>company_location</th><th>len</th></tr><tr><td>str</td><td>u32</td></tr></thead><tbody><tr><td>&quot;US&quot;</td><td>53</td></tr><tr><td>&quot;DE&quot;</td><td>10</td></tr><tr><td>&quot;CA&quot;</td><td>10</td></tr><tr><td>&quot;GB&quot;</td><td>8</td></tr><tr><td>&quot;IN&quot;</td><td>6</td></tr></tbody></table></div>"
      ],
      "text/plain": [
       "shape: (5, 2)\n",
       "┌──────────────────┬─────┐\n",
       "│ company_location ┆ len │\n",
       "│ ---              ┆ --- │\n",
       "│ str              ┆ u32 │\n",
       "╞══════════════════╪═════╡\n",
       "│ US               ┆ 53  │\n",
       "│ DE               ┆ 10  │\n",
       "│ CA               ┆ 10  │\n",
       "│ GB               ┆ 8   │\n",
       "│ IN               ┆ 6   │\n",
       "└──────────────────┴─────┘"
      ]
     },
     "execution_count": 17,
     "metadata": {},
     "output_type": "execute_result"
    }
   ],
   "source": [
    "(\n",
    "    df.filter(\n",
    "        pl.col(\"experience_level\").eq(\"EN\"),\n",
    "        pl.col(\"company_size\").eq(\"L\"),\n",
    "    )\n",
    "    .group_by(\"company_location\")\n",
    "    .len()\n",
    "    .top_k(5, by=\"len\")\n",
    ")"
   ]
  },
  {
   "cell_type": "markdown",
   "metadata": {},
   "source": [
    "### 3. Picture yourself as a data scientist working for a workforce management platform. Your objective is to calculate the percentage of employees. Who enjoy fully remote roles with salaries exceeding **$100,000 USD**, shedding light on the attractiveness of high-paying remote positions in today's job market."
   ]
  },
  {
   "cell_type": "markdown",
   "metadata": {},
   "source": [
    "```sql\n",
    "SET @total = (SELECT Count(*) FROM salaries WHERE salary_in_usd>100000);\n",
    "\n",
    "SET @count = (SELECT Count(*) FROM salaries WHERE salary_in_usd>100000 AND\n",
    "remote_ratio=100);\n",
    "\n",
    "SET @percentage= Round(((SELECT @count)/(SELECT @total))*100, 2);\n",
    "\n",
    "SELECT @percentage AS 'Percentage' \n",
    "```"
   ]
  },
  {
   "cell_type": "code",
   "execution_count": 26,
   "metadata": {},
   "outputs": [
    {
     "data": {
      "text/plain": [
       "'Percentage(%) of employees enjoying remote roles with exceeding $100,000 USD salary is 32.26%'"
      ]
     },
     "execution_count": 26,
     "metadata": {},
     "output_type": "execute_result"
    }
   ],
   "source": [
    "remote_employee_count = df.filter(\n",
    "    pl.col(\"remote_ratio\").eq(100),\n",
    "    pl.col(\"salary_in_usd\").ge(100_000),\n",
    ").height\n",
    "total_employee_count = df.filter(\n",
    "    pl.col(\"salary_in_usd\").ge(100_000),  # I don't think this is required\n",
    ").height\n",
    "\n",
    "\"Percentage(%%) of employees enjoying remote roles with exceeding $100,000 USD salary is %.2f%%\" % (\n",
    "    (remote_employee_count / total_employee_count) * 100\n",
    ")"
   ]
  },
  {
   "cell_type": "code",
   "execution_count": 28,
   "metadata": {},
   "outputs": [
    {
     "data": {
      "text/plain": [
       "'Percentage(%) of employees enjoying remote roles with exceeding $100,000 USD salary is 25.00%'"
      ]
     },
     "execution_count": 28,
     "metadata": {},
     "output_type": "execute_result"
    }
   ],
   "source": [
    "total_employee_count_wof = df.height  # Without filtering (wof)\n",
    "\"Percentage(%%) of employees enjoying remote roles with exceeding $100,000 USD salary is %.2f%%\" % (\n",
    "    (remote_employee_count / total_employee_count_wof) * 100\n",
    ")"
   ]
  },
  {
   "cell_type": "markdown",
   "metadata": {},
   "source": [
    "### 4. Imagine you're a data analyst working for a global recruitment agency. Your task is to identify the locations where average salaries exceed the average salary for that job title in market for entry level, helping your agency guide candidates towards lucrative opportunities."
   ]
  },
  {
   "cell_type": "markdown",
   "metadata": {
    "vscode": {
     "languageId": "sql"
    }
   },
   "source": [
    "```sql\n",
    "SELECT t.job_title,\n",
    "       company_location,\n",
    "       'average',\n",
    "       'avg_per_country'\n",
    "FROM   (SELECT job_title,\n",
    "               Avg(salary_in_usd) AS 'average'\n",
    "        FROM   salaries\n",
    "        GROUP  BY job_title)t\n",
    "       INNER JOIN (SELECT company_location,\n",
    "                          job_title,\n",
    "                          Avg(salary_in_usd) AS 'avg_per_country'\n",
    "                   FROM   salaries\n",
    "                   GROUP  BY job_title,\n",
    "                             company_location)m\n",
    "               ON t.job_title = m.job_title\n",
    "WHERE  'avg_per_country' > 'average'\n",
    "```"
   ]
  },
  {
   "cell_type": "code",
   "execution_count": 36,
   "metadata": {},
   "outputs": [
    {
     "data": {
      "text/html": [
       "<div><style>\n",
       ".dataframe > thead > tr,\n",
       ".dataframe > tbody > tr {\n",
       "  text-align: right;\n",
       "  white-space: pre-wrap;\n",
       "}\n",
       "</style>\n",
       "<small>shape: (141, 4)</small><table border=\"1\" class=\"dataframe\"><thead><tr><th>job_title</th><th>salary_in_usd_overall</th><th>company_location</th><th>salary_in_usd_country_wise</th></tr><tr><td>str</td><td>f64</td><td>str</td><td>f64</td></tr></thead><tbody><tr><td>&quot;Decision Scientist&quot;</td><td>166094.631579</td><td>&quot;US&quot;</td><td>167119.444444</td></tr><tr><td>&quot;Big Data Architect&quot;</td><td>126751.0</td><td>&quot;GB&quot;</td><td>153799.0</td></tr><tr><td>&quot;Machine Learning Scientist&quot;</td><td>189348.184211</td><td>&quot;US&quot;</td><td>195506.319149</td></tr><tr><td>&quot;Data Developer&quot;</td><td>99383.136364</td><td>&quot;US&quot;</td><td>101371.45</td></tr><tr><td>&quot;AI Developer&quot;</td><td>135466.789474</td><td>&quot;CA&quot;</td><td>275000.0</td></tr><tr><td>&hellip;</td><td>&hellip;</td><td>&hellip;</td><td>&hellip;</td></tr><tr><td>&quot;Computer Vision Software Engineer&quot;</td><td>77760.6</td><td>&quot;AU&quot;</td><td>150000.0</td></tr><tr><td>&quot;BI Data Analyst&quot;</td><td>69026.529412</td><td>&quot;FR&quot;</td><td>105066.0</td></tr><tr><td>&quot;AI Developer&quot;</td><td>135466.789474</td><td>&quot;DE&quot;</td><td>140358.5</td></tr><tr><td>&quot;Data Analytics Engineer&quot;</td><td>78839.4</td><td>&quot;DE&quot;</td><td>79197.0</td></tr><tr><td>&quot;AI Programmer&quot;</td><td>62042.0</td><td>&quot;FR&quot;</td><td>120000.0</td></tr></tbody></table></div>"
      ],
      "text/plain": [
       "shape: (141, 4)\n",
       "┌───────────────────────────┬───────────────────────┬──────────────────┬───────────────────────────┐\n",
       "│ job_title                 ┆ salary_in_usd_overall ┆ company_location ┆ salary_in_usd_country_wis │\n",
       "│ ---                       ┆ ---                   ┆ ---              ┆ e                         │\n",
       "│ str                       ┆ f64                   ┆ str              ┆ ---                       │\n",
       "│                           ┆                       ┆                  ┆ f64                       │\n",
       "╞═══════════════════════════╪═══════════════════════╪══════════════════╪═══════════════════════════╡\n",
       "│ Decision Scientist        ┆ 166094.631579         ┆ US               ┆ 167119.444444             │\n",
       "│ Big Data Architect        ┆ 126751.0              ┆ GB               ┆ 153799.0                  │\n",
       "│ Machine Learning          ┆ 189348.184211         ┆ US               ┆ 195506.319149             │\n",
       "│ Scientist                 ┆                       ┆                  ┆                           │\n",
       "│ Data Developer            ┆ 99383.136364          ┆ US               ┆ 101371.45                 │\n",
       "│ AI Developer              ┆ 135466.789474         ┆ CA               ┆ 275000.0                  │\n",
       "│ …                         ┆ …                     ┆ …                ┆ …                         │\n",
       "│ Computer Vision Software  ┆ 77760.6               ┆ AU               ┆ 150000.0                  │\n",
       "│ Engineer                  ┆                       ┆                  ┆                           │\n",
       "│ BI Data Analyst           ┆ 69026.529412          ┆ FR               ┆ 105066.0                  │\n",
       "│ AI Developer              ┆ 135466.789474         ┆ DE               ┆ 140358.5                  │\n",
       "│ Data Analytics Engineer   ┆ 78839.4               ┆ DE               ┆ 79197.0                   │\n",
       "│ AI Programmer             ┆ 62042.0               ┆ FR               ┆ 120000.0                  │\n",
       "└───────────────────────────┴───────────────────────┴──────────────────┴───────────────────────────┘"
      ]
     },
     "execution_count": 36,
     "metadata": {},
     "output_type": "execute_result"
    }
   ],
   "source": [
    "df.group_by(\"job_title\").agg(\n",
    "    pl.col(\"salary_in_usd\").mean().name.suffix(\"_overall\"),\n",
    ").join(\n",
    "    df.group_by(\"job_title\", \"company_location\").agg(\n",
    "        pl.col(\"salary_in_usd\").mean().name.suffix(\"_country_wise\"),\n",
    "    ),\n",
    "    on=\"job_title\",\n",
    ").filter(\n",
    "    pl.col(\"salary_in_usd_country_wise\").gt(pl.col(\"salary_in_usd_overall\")),\n",
    ")"
   ]
  },
  {
   "cell_type": "markdown",
   "metadata": {},
   "source": [
    "### 5. You've been hired by a big HR Consultancy to look at how much people get paid in different countries. Your job is to find out for each job title which country pays the maximum average salary. This helps you to place your candidates in those countries."
   ]
  },
  {
   "cell_type": "markdown",
   "metadata": {},
   "source": [
    "```sql\n",
    "SELECT *\n",
    "FROM  (SELECT *,\n",
    "              Dense_rank()\n",
    "                OVER (\n",
    "                  partition BY job_title\n",
    "                  ORDER BY 'average' DESC) AS num\n",
    "       FROM   (SELECT company_location,\n",
    "                      job_title,\n",
    "                      Avg(salary_in_usd) AS 'average'\n",
    "               FROM   salaries\n",
    "               GROUP  BY company_location,\n",
    "                         job_title)t)k\n",
    "WHERE  num = 1\n",
    "```"
   ]
  },
  {
   "cell_type": "code",
   "execution_count": 15,
   "metadata": {},
   "outputs": [
    {
     "data": {
      "text/html": [
       "<div><style>\n",
       ".dataframe > thead > tr,\n",
       ".dataframe > tbody > tr {\n",
       "  text-align: right;\n",
       "  white-space: pre-wrap;\n",
       "}\n",
       "</style>\n",
       "<small>shape: (145, 4)</small><table border=\"1\" class=\"dataframe\"><thead><tr><th>job_title</th><th>company_location</th><th>salary_in_usd</th><th>rank</th></tr><tr><td>str</td><td>str</td><td>f64</td><td>f64</td></tr></thead><tbody><tr><td>&quot;Principal Data Engineer&quot;</td><td>&quot;US&quot;</td><td>192500.0</td><td>1.0</td></tr><tr><td>&quot;Data Operations Specialist&quot;</td><td>&quot;US&quot;</td><td>87634.0</td><td>1.0</td></tr><tr><td>&quot;Head of Machine Learning&quot;</td><td>&quot;US&quot;</td><td>337000.0</td><td>1.0</td></tr><tr><td>&quot;Computer Vision Engineer&quot;</td><td>&quot;US&quot;</td><td>205278.26087</td><td>1.0</td></tr><tr><td>&quot;Data Operations Analyst&quot;</td><td>&quot;GB&quot;</td><td>110500.0</td><td>1.0</td></tr><tr><td>&hellip;</td><td>&hellip;</td><td>&hellip;</td><td>&hellip;</td></tr><tr><td>&quot;Data Architect&quot;</td><td>&quot;US&quot;</td><td>166972.970874</td><td>1.0</td></tr><tr><td>&quot;Data Strategist&quot;</td><td>&quot;US&quot;</td><td>104345.909091</td><td>1.0</td></tr><tr><td>&quot;Data Science Tech Lead&quot;</td><td>&quot;US&quot;</td><td>375000.0</td><td>1.0</td></tr><tr><td>&quot;Prompt Engineer&quot;</td><td>&quot;US&quot;</td><td>230276.0</td><td>1.0</td></tr><tr><td>&quot;Product Data Analyst&quot;</td><td>&quot;US&quot;</td><td>107733.333333</td><td>1.0</td></tr></tbody></table></div>"
      ],
      "text/plain": [
       "shape: (145, 4)\n",
       "┌────────────────────────────┬──────────────────┬───────────────┬──────┐\n",
       "│ job_title                  ┆ company_location ┆ salary_in_usd ┆ rank │\n",
       "│ ---                        ┆ ---              ┆ ---           ┆ ---  │\n",
       "│ str                        ┆ str              ┆ f64           ┆ f64  │\n",
       "╞════════════════════════════╪══════════════════╪═══════════════╪══════╡\n",
       "│ Principal Data Engineer    ┆ US               ┆ 192500.0      ┆ 1.0  │\n",
       "│ Data Operations Specialist ┆ US               ┆ 87634.0       ┆ 1.0  │\n",
       "│ Head of Machine Learning   ┆ US               ┆ 337000.0      ┆ 1.0  │\n",
       "│ Computer Vision Engineer   ┆ US               ┆ 205278.26087  ┆ 1.0  │\n",
       "│ Data Operations Analyst    ┆ GB               ┆ 110500.0      ┆ 1.0  │\n",
       "│ …                          ┆ …                ┆ …             ┆ …    │\n",
       "│ Data Architect             ┆ US               ┆ 166972.970874 ┆ 1.0  │\n",
       "│ Data Strategist            ┆ US               ┆ 104345.909091 ┆ 1.0  │\n",
       "│ Data Science Tech Lead     ┆ US               ┆ 375000.0      ┆ 1.0  │\n",
       "│ Prompt Engineer            ┆ US               ┆ 230276.0      ┆ 1.0  │\n",
       "│ Product Data Analyst       ┆ US               ┆ 107733.333333 ┆ 1.0  │\n",
       "└────────────────────────────┴──────────────────┴───────────────┴──────┘"
      ]
     },
     "execution_count": 15,
     "metadata": {},
     "output_type": "execute_result"
    }
   ],
   "source": [
    "(\n",
    "    df.group_by(\"job_title\", \"company_location\")\n",
    "    .agg(\n",
    "        pl.col(\"salary_in_usd\").mean(),\n",
    "    )\n",
    "    .with_columns(\n",
    "        pl.col(\"salary_in_usd\").rank(descending=True).over(\"job_title\").alias(\"rank\"),\n",
    "    )\n",
    "    .filter(\n",
    "        pl.col(\"rank\").eq(1),\n",
    "    )\n",
    ")"
   ]
  },
  {
   "cell_type": "code",
   "execution_count": 12,
   "metadata": {},
   "outputs": [
    {
     "data": {
      "text/html": [
       "<div><style>\n",
       ".dataframe > thead > tr,\n",
       ".dataframe > tbody > tr {\n",
       "  text-align: right;\n",
       "  white-space: pre-wrap;\n",
       "}\n",
       "</style>\n",
       "<small>shape: (564, 4)</small><table border=\"1\" class=\"dataframe\"><thead><tr><th>job_title</th><th>company_location</th><th>salary_in_usd</th><th>new</th></tr><tr><td>str</td><td>str</td><td>f64</td><td>f64</td></tr></thead><tbody><tr><td>&quot;Data Scientist&quot;</td><td>&quot;NZ&quot;</td><td>164951.5</td><td>39.0</td></tr><tr><td>&quot;Data Scientist&quot;</td><td>&quot;US&quot;</td><td>162605.5684</td><td>38.0</td></tr><tr><td>&quot;Data Scientist&quot;</td><td>&quot;CA&quot;</td><td>159513.139785</td><td>37.0</td></tr><tr><td>&quot;Data Scientist&quot;</td><td>&quot;EG&quot;</td><td>144375.0</td><td>36.0</td></tr><tr><td>&quot;Data Scientist&quot;</td><td>&quot;CH&quot;</td><td>124195.0</td><td>35.0</td></tr><tr><td>&hellip;</td><td>&hellip;</td><td>&hellip;</td><td>&hellip;</td></tr><tr><td>&quot;Data Integration Developer&quot;</td><td>&quot;US&quot;</td><td>140580.75</td><td>1.0</td></tr><tr><td>&quot;Head of Data Science&quot;</td><td>&quot;IN&quot;</td><td>60805.0</td><td>1.0</td></tr><tr><td>&quot;Lead Data Analyst&quot;</td><td>&quot;IN&quot;</td><td>25821.666667</td><td>1.0</td></tr><tr><td>&quot;Principal Data Analyst&quot;</td><td>&quot;CA&quot;</td><td>75000.0</td><td>1.0</td></tr><tr><td>&quot;Staff Machine Learning Engineer&quot;</td><td>&quot;US&quot;</td><td>185000.0</td><td>1.0</td></tr></tbody></table></div>"
      ],
      "text/plain": [
       "shape: (564, 4)\n",
       "┌─────────────────────────────────┬──────────────────┬───────────────┬──────┐\n",
       "│ job_title                       ┆ company_location ┆ salary_in_usd ┆ new  │\n",
       "│ ---                             ┆ ---              ┆ ---           ┆ ---  │\n",
       "│ str                             ┆ str              ┆ f64           ┆ f64  │\n",
       "╞═════════════════════════════════╪══════════════════╪═══════════════╪══════╡\n",
       "│ Data Scientist                  ┆ NZ               ┆ 164951.5      ┆ 39.0 │\n",
       "│ Data Scientist                  ┆ US               ┆ 162605.5684   ┆ 38.0 │\n",
       "│ Data Scientist                  ┆ CA               ┆ 159513.139785 ┆ 37.0 │\n",
       "│ Data Scientist                  ┆ EG               ┆ 144375.0      ┆ 36.0 │\n",
       "│ Data Scientist                  ┆ CH               ┆ 124195.0      ┆ 35.0 │\n",
       "│ …                               ┆ …                ┆ …             ┆ …    │\n",
       "│ Data Integration Developer      ┆ US               ┆ 140580.75     ┆ 1.0  │\n",
       "│ Head of Data Science            ┆ IN               ┆ 60805.0       ┆ 1.0  │\n",
       "│ Lead Data Analyst               ┆ IN               ┆ 25821.666667  ┆ 1.0  │\n",
       "│ Principal Data Analyst          ┆ CA               ┆ 75000.0       ┆ 1.0  │\n",
       "│ Staff Machine Learning Engineer ┆ US               ┆ 185000.0      ┆ 1.0  │\n",
       "└─────────────────────────────────┴──────────────────┴───────────────┴──────┘"
      ]
     },
     "execution_count": 12,
     "metadata": {},
     "output_type": "execute_result"
    }
   ],
   "source": [
    "(\n",
    "    df.group_by(\"job_title\", \"company_location\")\n",
    "    .agg(\n",
    "        pl.col(\"salary_in_usd\").mean(),\n",
    "    )\n",
    "    .with_columns(\n",
    "        pl.col(\"salary_in_usd\").rank().over(\"job_title\").alias(\"new\"),\n",
    "    )\n",
    "    .sort(\"new\", descending=True)\n",
    ")"
   ]
  },
  {
   "cell_type": "markdown",
   "metadata": {},
   "source": [
    "### 6. As a data-driven business consultant, you've been hired by a multinational corporation to analyze salary trends across different company locations. Your goal is to pinpoint locations where the average salary has consistently increased over the past few years. Countries where data is available for 3 years only (this and past two years) providing insights into locations experiencing sustained salary growth."
   ]
  },
  {
   "cell_type": "markdown",
   "metadata": {},
   "source": [
    "```sql\n",
    "WITH t\n",
    "     AS (SELECT *\n",
    "         FROM   salaries\n",
    "         WHERE  company_location IN (SELECT company_location\n",
    "                                     FROM   (SELECT company_location,\n",
    "                                                    Avg(salary_in_usd)        AS\n",
    "                                                    AVG_salary,\n",
    "                                                    Count(DISTINCT work_year) AS\n",
    "                                                    num_years\n",
    "                                             FROM   salaries\n",
    "                                             WHERE  work_year >= Year(\n",
    "                                                    CURRENT_DATE())\n",
    "                                                                 - 2\n",
    "                                             GROUP  BY company_location\n",
    "                                             HAVING num_years = 3)m)) -- step 4\n",
    "-- SELECT company_locatiON, work_year, AVG(salary_IN_usd) AS average FROM  t GROUP BY company_locatiON, work_year \n",
    "SELECT company_location,\n",
    "       Max(CASE\n",
    "             WHEN work_year = 2022 THEN average\n",
    "           END) AS AVG_salary_2022,\n",
    "       Max(CASE\n",
    "             WHEN work_year = 2023 THEN average\n",
    "           END) AS AVG_salary_2023,\n",
    "       Max(CASE\n",
    "             WHEN work_year = 2024 THEN average\n",
    "           END) AS AVG_salary_2024\n",
    "FROM   (SELECT company_location,\n",
    "               work_year,\n",
    "               Avg(salary_in_usd) AS average\n",
    "        FROM   t\n",
    "        GROUP  BY company_location,\n",
    "                  work_year)q\n",
    "GROUP  BY company_location\n",
    "HAVING avg_salary_2024 > avg_salary_2023\n",
    "       AND avg_salary_2023 > avg_salary_2022 -- step 3 and havINg step 4.\n",
    "\n",
    "--------------------------------------\n",
    "SELECT company_location,\n",
    "       work_year,\n",
    "       Avg(salary_in_usd) AS AVG_salary\n",
    "FROM   salaries\n",
    "GROUP  BY company_location,\n",
    "          work_year -- step 1\n",
    "\n",
    "SELECT company_location,\n",
    "       work_year,\n",
    "       Avg(salary_in_usd) AS AVG_salary\n",
    "FROM   salaries\n",
    "WHERE  work_year >= Year(CURRENT_DATE()) - 2\n",
    "GROUP  BY company_location,\n",
    "          work_year -- step 2\n",
    "\n",
    "SELECT company_location,\n",
    "       Avg(salary_in_usd)        AS AVG_salary,\n",
    "       Count(DISTINCT work_year) AS num_years\n",
    "FROM   salaries\n",
    "WHERE  work_year >= Year(CURRENT_DATE()) - 2\n",
    "GROUP  BY company_location\n",
    "HAVING num_years = 3 -- STEP 3\n",
    "```"
   ]
  },
  {
   "cell_type": "code",
   "execution_count": 8,
   "metadata": {},
   "outputs": [],
   "source": [
    "from datetime import date"
   ]
  },
  {
   "cell_type": "code",
   "execution_count": 58,
   "metadata": {},
   "outputs": [],
   "source": [
    "CURRENT_YEAR = date.today().year"
   ]
  },
  {
   "cell_type": "code",
   "execution_count": 59,
   "metadata": {},
   "outputs": [],
   "source": [
    "# Here polars's LazyFrame is working as CTE (Commonn Table Expression) in SQL\n",
    "contries_with_3_years = (\n",
    "    df.lazy()\n",
    "    .group_by(\"company_location\")\n",
    "    .agg(\n",
    "        pl.col(\"salary_in_usd\").mean(),\n",
    "        pl.col(\"work_year\").filter(pl.col(\"work_year\").ge(CURRENT_YEAR - 2)).n_unique(),\n",
    "    )\n",
    "    .filter(\n",
    "        pl.col(\"work_year\").eq(3),\n",
    "    )\n",
    "    .select(\"company_location\")\n",
    "    # Now exract those companies which has 3 continous years (current and past 2 years)\n",
    "    .join(df.lazy(), on=\"company_location\", how=\"left\")\n",
    "    # When we join all the years came in the result, so filter it out\n",
    "    .filter(\n",
    "        pl.col(\"work_year\").ge(CURRENT_YEAR - 2),\n",
    "    )\n",
    "    .select(\"company_location\", \"work_year\", \"salary_in_usd\")\n",
    ")"
   ]
  },
  {
   "cell_type": "code",
   "execution_count": 68,
   "metadata": {},
   "outputs": [
    {
     "data": {
      "text/html": [
       "<div><style>\n",
       ".dataframe > thead > tr,\n",
       ".dataframe > tbody > tr {\n",
       "  text-align: right;\n",
       "  white-space: pre-wrap;\n",
       "}\n",
       "</style>\n",
       "<small>shape: (8, 4)</small><table border=\"1\" class=\"dataframe\"><thead><tr><th>company_location</th><th>2024</th><th>2023</th><th>2022</th></tr><tr><td>str</td><td>f64</td><td>f64</td><td>f64</td></tr></thead><tbody><tr><td>&quot;PT&quot;</td><td>53054.75</td><td>51521.0</td><td>48921.375</td></tr><tr><td>&quot;IN&quot;</td><td>71538.333333</td><td>47777.521739</td><td>37328.333333</td></tr><tr><td>&quot;FR&quot;</td><td>101370.166667</td><td>100411.190476</td><td>72684.466667</td></tr><tr><td>&quot;AR&quot;</td><td>88500.0</td><td>65000.0</td><td>50000.0</td></tr><tr><td>&quot;HU&quot;</td><td>63333.0</td><td>43000.0</td><td>17684.0</td></tr><tr><td>&quot;ES&quot;</td><td>72184.666667</td><td>60327.985714</td><td>47997.341463</td></tr><tr><td>&quot;FI&quot;</td><td>77777.0</td><td>71259.0</td><td>63040.0</td></tr><tr><td>&quot;CA&quot;</td><td>153611.807692</td><td>150724.141414</td><td>126009.552632</td></tr></tbody></table></div>"
      ],
      "text/plain": [
       "shape: (8, 4)\n",
       "┌──────────────────┬───────────────┬───────────────┬───────────────┐\n",
       "│ company_location ┆ 2024          ┆ 2023          ┆ 2022          │\n",
       "│ ---              ┆ ---           ┆ ---           ┆ ---           │\n",
       "│ str              ┆ f64           ┆ f64           ┆ f64           │\n",
       "╞══════════════════╪═══════════════╪═══════════════╪═══════════════╡\n",
       "│ PT               ┆ 53054.75      ┆ 51521.0       ┆ 48921.375     │\n",
       "│ IN               ┆ 71538.333333  ┆ 47777.521739  ┆ 37328.333333  │\n",
       "│ FR               ┆ 101370.166667 ┆ 100411.190476 ┆ 72684.466667  │\n",
       "│ AR               ┆ 88500.0       ┆ 65000.0       ┆ 50000.0       │\n",
       "│ HU               ┆ 63333.0       ┆ 43000.0       ┆ 17684.0       │\n",
       "│ ES               ┆ 72184.666667  ┆ 60327.985714  ┆ 47997.341463  │\n",
       "│ FI               ┆ 77777.0       ┆ 71259.0       ┆ 63040.0       │\n",
       "│ CA               ┆ 153611.807692 ┆ 150724.141414 ┆ 126009.552632 │\n",
       "└──────────────────┴───────────────┴───────────────┴───────────────┘"
      ]
     },
     "execution_count": 68,
     "metadata": {},
     "output_type": "execute_result"
    }
   ],
   "source": [
    "contries_with_3_years.collect().pivot(\n",
    "    values=\"salary_in_usd\",\n",
    "    columns=\"work_year\",\n",
    "    index=\"company_location\",\n",
    "    aggregate_function=\"mean\",\n",
    ").filter(\n",
    "    pl.col(str(CURRENT_YEAR)).ge(pl.col(str(CURRENT_YEAR - 1))),\n",
    "    pl.col(str(CURRENT_YEAR - 1)).ge(pl.col(str(CURRENT_YEAR - 2))),\n",
    ")"
   ]
  },
  {
   "cell_type": "markdown",
   "metadata": {},
   "source": [
    "### 7. Picture yourself as a workforce strategist employed by a global HR tech startup. Your mission is to determine the percentage of  fully remote work for each experience level in 2021 and compare it with the corresponding figures for 2024, highlighting any significant increases or decreases in remote work adoption over the years."
   ]
  },
  {
   "cell_type": "markdown",
   "metadata": {},
   "source": [
    "```sql \n",
    "WITH t1\n",
    "     AS (SELECT a.experience_level,\n",
    "                total_remote,\n",
    "                total_2021,\n",
    "                Round(( ( ( total_remote ) / total_2021 ) * 100 ), 2) AS\n",
    "                '2021 remote %'\n",
    "         FROM   (SELECT experience_level,\n",
    "                        Count(experience_level) AS total_remote\n",
    "                 FROM   salaries\n",
    "                 WHERE  work_year = 2021\n",
    "                        AND remote_ratio = 100\n",
    "                 GROUP  BY experience_level)a\n",
    "                INNER JOIN (SELECT experience_level,\n",
    "                                   Count(experience_level) AS total_2021\n",
    "                            FROM   salaries\n",
    "                            WHERE  work_year = 2021\n",
    "                            GROUP  BY experience_level)b\n",
    "                        ON a.experience_level = b.experience_level),\n",
    "     t2\n",
    "     AS (SELECT a.experience_level,\n",
    "                total_remote,\n",
    "                total_2024,\n",
    "                Round(( ( ( total_remote ) / total_2024 ) * 100 ), 2)AS\n",
    "                '2024 remote %'\n",
    "         FROM   (SELECT experience_level,\n",
    "                        Count(experience_level) AS total_remote\n",
    "                 FROM   salaries\n",
    "                 WHERE  work_year = 2024\n",
    "                        AND remote_ratio = 100\n",
    "                 GROUP  BY experience_level)a\n",
    "                INNER JOIN (SELECT experience_level,\n",
    "                                   Count(experience_level) AS total_2024\n",
    "                            FROM   salaries\n",
    "                            WHERE  work_year = 2024\n",
    "                            GROUP  BY experience_level)b\n",
    "                        ON a.experience_level = b.experience_level)\n",
    "SELECT *\n",
    "FROM   t1\n",
    "       INNER JOIN t2\n",
    "               ON t1.experience_level = t2.experience_level \n",
    "```"
   ]
  },
  {
   "cell_type": "code",
   "execution_count": 69,
   "metadata": {},
   "outputs": [
    {
     "data": {
      "text/html": [
       "<div><style>\n",
       ".dataframe > thead > tr,\n",
       ".dataframe > tbody > tr {\n",
       "  text-align: right;\n",
       "  white-space: pre-wrap;\n",
       "}\n",
       "</style>\n",
       "<small>shape: (5, 11)</small><table border=\"1\" class=\"dataframe\"><thead><tr><th>work_year</th><th>experience_level</th><th>employment_type</th><th>job_title</th><th>salary</th><th>salary_currency</th><th>salary_in_usd</th><th>employee_residence</th><th>remote_ratio</th><th>company_location</th><th>company_size</th></tr><tr><td>i64</td><td>str</td><td>str</td><td>str</td><td>i64</td><td>str</td><td>i64</td><td>str</td><td>i64</td><td>str</td><td>str</td></tr></thead><tbody><tr><td>2024</td><td>&quot;SE&quot;</td><td>&quot;FT&quot;</td><td>&quot;AI Engineer&quot;</td><td>90000</td><td>&quot;USD&quot;</td><td>90000</td><td>&quot;AE&quot;</td><td>0</td><td>&quot;AE&quot;</td><td>&quot;L&quot;</td></tr><tr><td>2024</td><td>&quot;SE&quot;</td><td>&quot;FT&quot;</td><td>&quot;Machine Learning Engineer&quot;</td><td>180500</td><td>&quot;USD&quot;</td><td>180500</td><td>&quot;US&quot;</td><td>0</td><td>&quot;US&quot;</td><td>&quot;M&quot;</td></tr><tr><td>2024</td><td>&quot;SE&quot;</td><td>&quot;FT&quot;</td><td>&quot;Machine Learning Engineer&quot;</td><td>96200</td><td>&quot;USD&quot;</td><td>96200</td><td>&quot;US&quot;</td><td>0</td><td>&quot;US&quot;</td><td>&quot;M&quot;</td></tr><tr><td>2024</td><td>&quot;SE&quot;</td><td>&quot;FT&quot;</td><td>&quot;Machine Learning Engineer&quot;</td><td>235000</td><td>&quot;USD&quot;</td><td>235000</td><td>&quot;AU&quot;</td><td>0</td><td>&quot;AU&quot;</td><td>&quot;M&quot;</td></tr><tr><td>2024</td><td>&quot;SE&quot;</td><td>&quot;FT&quot;</td><td>&quot;Machine Learning Engineer&quot;</td><td>175000</td><td>&quot;USD&quot;</td><td>175000</td><td>&quot;AU&quot;</td><td>0</td><td>&quot;AU&quot;</td><td>&quot;M&quot;</td></tr></tbody></table></div>"
      ],
      "text/plain": [
       "shape: (5, 11)\n",
       "┌───────────┬───────────┬───────────┬───────────┬───┬───────────┬───────────┬───────────┬──────────┐\n",
       "│ work_year ┆ experienc ┆ employmen ┆ job_title ┆ … ┆ employee_ ┆ remote_ra ┆ company_l ┆ company_ │\n",
       "│ ---       ┆ e_level   ┆ t_type    ┆ ---       ┆   ┆ residence ┆ tio       ┆ ocation   ┆ size     │\n",
       "│ i64       ┆ ---       ┆ ---       ┆ str       ┆   ┆ ---       ┆ ---       ┆ ---       ┆ ---      │\n",
       "│           ┆ str       ┆ str       ┆           ┆   ┆ str       ┆ i64       ┆ str       ┆ str      │\n",
       "╞═══════════╪═══════════╪═══════════╪═══════════╪═══╪═══════════╪═══════════╪═══════════╪══════════╡\n",
       "│ 2024      ┆ SE        ┆ FT        ┆ AI        ┆ … ┆ AE        ┆ 0         ┆ AE        ┆ L        │\n",
       "│           ┆           ┆           ┆ Engineer  ┆   ┆           ┆           ┆           ┆          │\n",
       "│ 2024      ┆ SE        ┆ FT        ┆ Machine   ┆ … ┆ US        ┆ 0         ┆ US        ┆ M        │\n",
       "│           ┆           ┆           ┆ Learning  ┆   ┆           ┆           ┆           ┆          │\n",
       "│           ┆           ┆           ┆ Engineer  ┆   ┆           ┆           ┆           ┆          │\n",
       "│ 2024      ┆ SE        ┆ FT        ┆ Machine   ┆ … ┆ US        ┆ 0         ┆ US        ┆ M        │\n",
       "│           ┆           ┆           ┆ Learning  ┆   ┆           ┆           ┆           ┆          │\n",
       "│           ┆           ┆           ┆ Engineer  ┆   ┆           ┆           ┆           ┆          │\n",
       "│ 2024      ┆ SE        ┆ FT        ┆ Machine   ┆ … ┆ AU        ┆ 0         ┆ AU        ┆ M        │\n",
       "│           ┆           ┆           ┆ Learning  ┆   ┆           ┆           ┆           ┆          │\n",
       "│           ┆           ┆           ┆ Engineer  ┆   ┆           ┆           ┆           ┆          │\n",
       "│ 2024      ┆ SE        ┆ FT        ┆ Machine   ┆ … ┆ AU        ┆ 0         ┆ AU        ┆ M        │\n",
       "│           ┆           ┆           ┆ Learning  ┆   ┆           ┆           ┆           ┆          │\n",
       "│           ┆           ┆           ┆ Engineer  ┆   ┆           ┆           ┆           ┆          │\n",
       "└───────────┴───────────┴───────────┴───────────┴───┴───────────┴───────────┴───────────┴──────────┘"
      ]
     },
     "execution_count": 69,
     "metadata": {},
     "output_type": "execute_result"
    }
   ],
   "source": [
    "df.head()"
   ]
  },
  {
   "cell_type": "code",
   "execution_count": 81,
   "metadata": {},
   "outputs": [
    {
     "data": {
      "text/html": [
       "<div><style>\n",
       ".dataframe > thead > tr,\n",
       ".dataframe > tbody > tr {\n",
       "  text-align: right;\n",
       "  white-space: pre-wrap;\n",
       "}\n",
       "</style>\n",
       "<small>shape: (4, 5)</small><table border=\"1\" class=\"dataframe\"><thead><tr><th>experience_level</th><th>2021</th><th>2022</th><th>2023</th><th>2024</th></tr><tr><td>str</td><td>f64</td><td>f64</td><td>f64</td><td>f64</td></tr></thead><tbody><tr><td>&quot;EN&quot;</td><td>69.57</td><td>59.91</td><td>32.61</td><td>23.62</td></tr><tr><td>&quot;MI&quot;</td><td>68.97</td><td>53.21</td><td>28.35</td><td>20.87</td></tr><tr><td>&quot;SE&quot;</td><td>72.67</td><td>54.79</td><td>32.48</td><td>25.18</td></tr><tr><td>&quot;EX&quot;</td><td>60.0</td><td>71.95</td><td>36.78</td><td>33.49</td></tr></tbody></table></div>"
      ],
      "text/plain": [
       "shape: (4, 5)\n",
       "┌──────────────────┬───────┬───────┬───────┬───────┐\n",
       "│ experience_level ┆ 2021  ┆ 2022  ┆ 2023  ┆ 2024  │\n",
       "│ ---              ┆ ---   ┆ ---   ┆ ---   ┆ ---   │\n",
       "│ str              ┆ f64   ┆ f64   ┆ f64   ┆ f64   │\n",
       "╞══════════════════╪═══════╪═══════╪═══════╪═══════╡\n",
       "│ EN               ┆ 69.57 ┆ 59.91 ┆ 32.61 ┆ 23.62 │\n",
       "│ MI               ┆ 68.97 ┆ 53.21 ┆ 28.35 ┆ 20.87 │\n",
       "│ SE               ┆ 72.67 ┆ 54.79 ┆ 32.48 ┆ 25.18 │\n",
       "│ EX               ┆ 60.0  ┆ 71.95 ┆ 36.78 ┆ 33.49 │\n",
       "└──────────────────┴───────┴───────┴───────┴───────┘"
      ]
     },
     "execution_count": 81,
     "metadata": {},
     "output_type": "execute_result"
    }
   ],
   "source": [
    "# Not The Answer\n",
    "# Comparision of mean `remote_ratio` of each years\n",
    "(\n",
    "    df\n",
    "    .group_by(\"experience_level\", \"work_year\")\n",
    "    .agg(\n",
    "        pl.col(\"remote_ratio\").mean().round(2),\n",
    "    )\n",
    "    .pivot(\n",
    "        values=\"remote_ratio\",\n",
    "        index=\"experience_level\",\n",
    "        columns=\"work_year\",\n",
    "    )\n",
    "    .select(\"experience_level\", pl.col(map(str, range(2021, 2025))))\n",
    ")"
   ]
  },
  {
   "cell_type": "code",
   "execution_count": 20,
   "metadata": {},
   "outputs": [
    {
     "data": {
      "text/html": [
       "<div><style>\n",
       ".dataframe > thead > tr,\n",
       ".dataframe > tbody > tr {\n",
       "  text-align: right;\n",
       "  white-space: pre-wrap;\n",
       "}\n",
       "</style>\n",
       "<small>shape: (4, 2)</small><table border=\"1\" class=\"dataframe\"><thead><tr><th>experience_level</th><th>count</th></tr><tr><td>str</td><td>u32</td></tr></thead><tbody><tr><td>&quot;MI&quot;</td><td>3294</td></tr><tr><td>&quot;EX&quot;</td><td>403</td></tr><tr><td>&quot;SE&quot;</td><td>9248</td></tr><tr><td>&quot;EN&quot;</td><td>1027</td></tr></tbody></table></div>"
      ],
      "text/plain": [
       "shape: (4, 2)\n",
       "┌──────────────────┬───────┐\n",
       "│ experience_level ┆ count │\n",
       "│ ---              ┆ ---   │\n",
       "│ str              ┆ u32   │\n",
       "╞══════════════════╪═══════╡\n",
       "│ MI               ┆ 3294  │\n",
       "│ EX               ┆ 403   │\n",
       "│ SE               ┆ 9248  │\n",
       "│ EN               ┆ 1027  │\n",
       "└──────────────────┴───────┘"
      ]
     },
     "execution_count": 20,
     "metadata": {},
     "output_type": "execute_result"
    }
   ],
   "source": [
    "df[\"experience_level\"].value_counts()"
   ]
  },
  {
   "cell_type": "code",
   "execution_count": 21,
   "metadata": {},
   "outputs": [
    {
     "data": {
      "text/html": [
       "<div><style>\n",
       ".dataframe > thead > tr,\n",
       ".dataframe > tbody > tr {\n",
       "  text-align: right;\n",
       "  white-space: pre-wrap;\n",
       "}\n",
       "</style>\n",
       "<small>shape: (5, 2)</small><table border=\"1\" class=\"dataframe\"><thead><tr><th>work_year</th><th>count</th></tr><tr><td>i64</td><td>u32</td></tr></thead><tbody><tr><td>2021</td><td>218</td></tr><tr><td>2023</td><td>8518</td></tr><tr><td>2024</td><td>3509</td></tr><tr><td>2022</td><td>1652</td></tr><tr><td>2020</td><td>75</td></tr></tbody></table></div>"
      ],
      "text/plain": [
       "shape: (5, 2)\n",
       "┌───────────┬───────┐\n",
       "│ work_year ┆ count │\n",
       "│ ---       ┆ ---   │\n",
       "│ i64       ┆ u32   │\n",
       "╞═══════════╪═══════╡\n",
       "│ 2021      ┆ 218   │\n",
       "│ 2023      ┆ 8518  │\n",
       "│ 2024      ┆ 3509  │\n",
       "│ 2022      ┆ 1652  │\n",
       "│ 2020      ┆ 75    │\n",
       "└───────────┴───────┘"
      ]
     },
     "execution_count": 21,
     "metadata": {},
     "output_type": "execute_result"
    }
   ],
   "source": [
    "df[\"work_year\"].value_counts()"
   ]
  },
  {
   "cell_type": "code",
   "execution_count": 30,
   "metadata": {},
   "outputs": [
    {
     "data": {
      "text/html": [
       "<div><style>\n",
       ".dataframe > thead > tr,\n",
       ".dataframe > tbody > tr {\n",
       "  text-align: right;\n",
       "  white-space: pre-wrap;\n",
       "}\n",
       "</style>\n",
       "<small>shape: (4, 3)</small><table border=\"1\" class=\"dataframe\"><thead><tr><th>experience_level</th><th>remote_pct_2021</th><th>remote_pct_2024</th></tr><tr><td>str</td><td>f64</td><td>f64</td></tr></thead><tbody><tr><td>&quot;EN&quot;</td><td>47.83</td><td>22.83</td></tr><tr><td>&quot;MI&quot;</td><td>51.72</td><td>20.6</td></tr><tr><td>&quot;EX&quot;</td><td>50.0</td><td>33.02</td></tr><tr><td>&quot;SE&quot;</td><td>58.67</td><td>25.16</td></tr></tbody></table></div>"
      ],
      "text/plain": [
       "shape: (4, 3)\n",
       "┌──────────────────┬─────────────────┬─────────────────┐\n",
       "│ experience_level ┆ remote_pct_2021 ┆ remote_pct_2024 │\n",
       "│ ---              ┆ ---             ┆ ---             │\n",
       "│ str              ┆ f64             ┆ f64             │\n",
       "╞══════════════════╪═════════════════╪═════════════════╡\n",
       "│ EN               ┆ 47.83           ┆ 22.83           │\n",
       "│ MI               ┆ 51.72           ┆ 20.6            │\n",
       "│ EX               ┆ 50.0            ┆ 33.02           │\n",
       "│ SE               ┆ 58.67           ┆ 25.16           │\n",
       "└──────────────────┴─────────────────┴─────────────────┘"
      ]
     },
     "execution_count": 30,
     "metadata": {},
     "output_type": "execute_result"
    }
   ],
   "source": [
    "remote_pct_2021 = (\n",
    "    df.lazy()\n",
    "    .filter(\n",
    "        pl.col(\"work_year\").eq(2021),\n",
    "        pl.col(\"remote_ratio\").eq(100),\n",
    "    )\n",
    "    .group_by(\"experience_level\")\n",
    "    .agg(\n",
    "        pl.len().alias(\"remote_emp_2021\"),\n",
    "    )\n",
    "    .join(\n",
    "        (\n",
    "            df.lazy()\n",
    "            .filter(\n",
    "                pl.col(\"work_year\").eq(2021),\n",
    "            )\n",
    "            .group_by(\"experience_level\")\n",
    "            .agg(pl.len().alias(\"total_emp\"))\n",
    "        ),\n",
    "        on=\"experience_level\",\n",
    "    )\n",
    "    .with_columns(\n",
    "        pl.col(\"remote_emp_2021\")\n",
    "        .truediv(pl.col(\"total_emp\"))\n",
    "        .mul(100)\n",
    "        .round(2)\n",
    "        .alias(\"remote_pct_2021\"),\n",
    "    )\n",
    ")\n",
    "\n",
    "remote_pct_2024 = (\n",
    "    df.lazy()\n",
    "    .filter(\n",
    "        pl.col(\"work_year\").eq(2024),\n",
    "        pl.col(\"remote_ratio\").eq(100),\n",
    "    )\n",
    "    .group_by(\"experience_level\")\n",
    "    .agg(\n",
    "        pl.len().alias(\"remote_emp_2024\"),\n",
    "    )\n",
    "    .join(\n",
    "        (\n",
    "            df.lazy()\n",
    "            .filter(\n",
    "                pl.col(\"work_year\").eq(2024),\n",
    "            )\n",
    "            .group_by(\"experience_level\")\n",
    "            .agg(pl.len().alias(\"total_emp\"))\n",
    "        ),\n",
    "        on=\"experience_level\",\n",
    "    )\n",
    "    .with_columns(\n",
    "        pl.col(\"remote_emp_2024\")\n",
    "        .truediv(pl.col(\"total_emp\"))\n",
    "        .mul(100)\n",
    "        .round(2)\n",
    "        .alias(\"remote_pct_2024\"),\n",
    "    )\n",
    ")\n",
    "\n",
    "remote_pct_2021.select(\"experience_level\", \"remote_pct_2021\").join(\n",
    "    remote_pct_2024.select(\"experience_level\", \"remote_pct_2024\"), on=\"experience_level\"\n",
    ").collect()"
   ]
  },
  {
   "cell_type": "markdown",
   "metadata": {},
   "source": [
    "### 8. As a compensation specialist at a fortune 500 company, you're tasked with analyzing salary trends over time. Your objective is to calculate the average salary increase percentage for each experience level and job title between the years 2023 and 2024, helping the company stay competitive in the talent market."
   ]
  },
  {
   "cell_type": "markdown",
   "metadata": {},
   "source": [
    "```sql  \n",
    "WITH t\n",
    "     AS (SELECT experience_level,\n",
    "                job_title,\n",
    "                work_year,\n",
    "                Round(Avg(salary_in_usd), 2) AS 'average'\n",
    "         FROM   salaries\n",
    "         WHERE  work_year IN ( 2023, 2024 )\n",
    "         GROUP  BY experience_level,\n",
    "                   job_title,\n",
    "                   work_year) -- step 1\n",
    "SELECT *,\n",
    "       Round(( ( ( avg_salary_2024 - avg_salary_2023 ) / avg_salary_2023 ) * 100\n",
    "             ), 2)\n",
    "       AS changes\n",
    "FROM   (SELECT experience_level,\n",
    "               job_title,\n",
    "               Max(CASE\n",
    "                     WHEN work_year = 2023 THEN average\n",
    "                   END) AS AVG_salary_2023,\n",
    "               Max(CASE\n",
    "                     WHEN work_year = 2024 THEN average\n",
    "                   END) AS AVG_salary_2024\n",
    "        FROM   t\n",
    "        GROUP  BY experience_level,\n",
    "                  job_title -- step 2\n",
    "       )a\n",
    "WHERE  ( ( ( avg_salary_2024 - avg_salary_2023 ) / avg_salary_2023 ) * 100 ) IS\n",
    "       NOT\n",
    "       NULL -- STEP 3\n",
    "```"
   ]
  },
  {
   "cell_type": "markdown",
   "metadata": {},
   "source": [
    "### 9. You're a database administrator tasked with role-based access control for a company's employee database. Your goal is to implement a security measure where employees in different experience level (e.g.Entry Level, Senior level etc.) can only access details relevant to their respective experience_level, ensuring data confidentiality and minimizing the risk of unauthorized access."
   ]
  },
  {
   "cell_type": "markdown",
   "metadata": {},
   "source": [
    "```sql  \n",
    "SELECT DISTINCT experience_level FROM salaries;\n",
    "\n",
    "CREATE USER 'Entry_level'@'%' IDENTIFIED BY 'EN';\n",
    "CREATE USER 'Junior_Mid_level'@'%' IDENTIFIED BY ' MI '; \n",
    "CREATE USER 'Intermediate_Senior_level'@'%' IDENTIFIED BY 'SE';\n",
    "CREATE USER 'Expert Executive-level '@'%' IDENTIFIED BY 'EX ';\n",
    "\n",
    "CREATE VIEW entry_level AS\n",
    "SELECT * FROM salaries WHERE experience_level='EN'\n",
    "\n",
    "GRANT SELECT ON campusx.entry_level TO 'Entry_level'@'%'\n",
    "\n",
    "UPDATE view entry_level SET WORK_YEAR = 2025 WHERE EMPLOYNMENT_TYPE='FT'\n",
    "```"
   ]
  },
  {
   "cell_type": "markdown",
   "metadata": {},
   "source": [
    "### 10. You are working with an consultancy firm, your client comes to you with certain data and preferences such as ( their year of experience , their employment type, company location and company size )  and want to make an transaction into different domain in data industry (like  a person is working as a data analyst and want to move to some other domain such as data science or data engineering etc.) Your work is to  guide them to which domain they should switch to base on  the input they provided, so that they can now update thier knowledge as per the suggestion. The Suggestion should be based on average salary."
   ]
  },
  {
   "cell_type": "markdown",
   "metadata": {},
   "source": [
    "```sql  \n",
    "DELIMITER //\n",
    "CREATE PROCEDURE GetAverageSalary(IN exp_lev VARCHAR(2), IN emp_type VARCHAR(3), IN comp_loc VARCHAR(2), IN comp_size VARCHAR(2))\n",
    "BEGIN\n",
    "    SELECT job_title, experience_level, company_location, company_size, employment_type, ROUND(AVG(salary), 2) AS avg_salary \n",
    "    FROM salaries \n",
    "    WHERE experience_level = exp_lev AND company_location = comp_loc AND company_size = comp_size AND employment_type = emp_type \n",
    "    GROUP BY experience_level, employment_type, company_location, company_size, job_title ORDER BY avg_salary DESC ;\n",
    "END//\n",
    "DELIMITER ;\n",
    "-- Deliminator  By doing this, you're telling MySQL that statements within the block should be parsed as a single unit until the custom delimiter is encountered.\n",
    "\n",
    "CALL GetAverageSalary('EN','FT','AU','M')\n",
    "DROP PROCEDURE Getaveragesalary\n",
    "```"
   ]
  }
 ],
 "metadata": {
  "kernelspec": {
   "display_name": ".venv",
   "language": "python",
   "name": "python3"
  },
  "language_info": {
   "codemirror_mode": {
    "name": "ipython",
    "version": 3
   },
   "file_extension": ".py",
   "mimetype": "text/x-python",
   "name": "python",
   "nbconvert_exporter": "python",
   "pygments_lexer": "ipython3",
   "version": "3.11.8"
  }
 },
 "nbformat": 4,
 "nbformat_minor": 2
}
