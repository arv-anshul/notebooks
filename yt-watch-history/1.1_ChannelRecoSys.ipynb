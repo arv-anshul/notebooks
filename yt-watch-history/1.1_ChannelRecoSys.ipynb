{
 "cells": [
  {
   "cell_type": "code",
   "execution_count": 1,
   "metadata": {},
   "outputs": [
    {
     "data": {
      "text/plain": [
       "polars.config.Config"
      ]
     },
     "execution_count": 1,
     "metadata": {},
     "output_type": "execute_result"
    }
   ],
   "source": [
    "import re\n",
    "import string\n",
    "\n",
    "import emoji\n",
    "import numpy as np\n",
    "import polars as pl\n",
    "from sklearn.compose import ColumnTransformer\n",
    "from sklearn.feature_extraction.text import TfidfVectorizer\n",
    "from sklearn.metrics.pairwise import cosine_similarity\n",
    "from sklearn.model_selection import train_test_split\n",
    "\n",
    "pl.Config.set_fmt_str_lengths(40)"
   ]
  },
  {
   "cell_type": "markdown",
   "metadata": {},
   "source": [
    "## Recommender System\n",
    "\n",
    "I am Creating a ML model which will recommend \"Youtube Channels\" to users and for that we are **training more than one model** which are trained on different datasets:\n",
    "  1. First will train on **channel's videos titles** only.\n",
    "  3. Second will train on **channel's videos tags** only.\n",
    "  2. Other will train on other data like **video duration, categoryId** and more."
   ]
  },
  {
   "cell_type": "code",
   "execution_count": 2,
   "metadata": {},
   "outputs": [
    {
     "name": "stdout",
     "output_type": "stream",
     "text": [
      "(2275, 9)\n"
     ]
    },
    {
     "data": {
      "text/html": [
       "<div><style>\n",
       ".dataframe > thead > tr,\n",
       ".dataframe > tbody > tr {\n",
       "  text-align: right;\n",
       "  white-space: pre-wrap;\n",
       "}\n",
       "</style>\n",
       "<small>shape: (5, 9)</small><table border=\"1\" class=\"dataframe\"><thead><tr><th>categoryId</th><th>channelId</th><th>channelTitle</th><th>description</th><th>duration</th><th>id</th><th>publishedAt</th><th>tags</th><th>title</th></tr><tr><td>str</td><td>str</td><td>str</td><td>str</td><td>str</td><td>str</td><td>str</td><td>list[str]</td><td>str</td></tr></thead><tbody><tr><td>&quot;28&quot;</td><td>&quot;UCs5Y5_7XK8HLDX0SLNwkd3w&quot;</td><td>&quot;Visual Studio Code&quot;</td><td>&quot;#shorts&quot;</td><td>&quot;PT38S&quot;</td><td>&quot;4dgSwnKtVLo&quot;</td><td>&quot;2023-09-22T05:12:53&quot;</td><td>[&quot;vscode&quot;, &quot;visual studio code&quot;, &quot;vs code&quot;]</td><td>&quot;Arrow Function: Think Backwards&quot;</td></tr><tr><td>&quot;28&quot;</td><td>&quot;UC46xhU1EH7aywEgvA9syS3w&quot;</td><td>&quot;anthonywritescode&quot;</td><td>&quot;it&#x27;s here!  with ugly new typing syntax…</td><td>&quot;PT41M42S&quot;</td><td>&quot;IV8OZY4194U&quot;</td><td>&quot;2023-08-02T15:00:25&quot;</td><td>null</td><td>&quot;python 3.12 release highlights (beginne…</td></tr><tr><td>&quot;27&quot;</td><td>&quot;UCsDTy8jvHcwMvSZf_JGi-FA&quot;</td><td>&quot;Abhi and Niyu&quot;</td><td>&quot;To support our work you can consider bu…</td><td>&quot;PT14M39S&quot;</td><td>&quot;4uM7RIfMLK4&quot;</td><td>&quot;2023-10-07T13:00:12&quot;</td><td>[&quot;abhi and niyu&quot;, &quot;abhi and niyu latest&quot;, … &quot;abi n niu&quot;]</td><td>&quot;Australia&#x27;s economy is WEIRD | Australi…</td></tr><tr><td>&quot;28&quot;</td><td>&quot;UCQV-7R4qhAJXxdkrWNOglDQ&quot;</td><td>&quot;Dekho Isko&quot;</td><td>&quot;Join me on Social media:-\n",
       "📷 Instagram •…</td><td>&quot;PT4M41S&quot;</td><td>&quot;uWLooUi8in0&quot;</td><td>&quot;2023-09-06T16:52:42&quot;</td><td>[&quot;india rename&quot;, &quot;india renamed as bharat&quot;, … &quot;rename india as bharat&quot;]</td><td>&quot;Will India Change its Name to Bharat Pe…</td></tr><tr><td>&quot;24&quot;</td><td>&quot;UCgbzclo4Mfy_D68w_Bm_xHg&quot;</td><td>&quot;Tried&amp;Refused Productions.&quot;</td><td>&quot;There is always so much to watch but I …</td><td>&quot;PT10M33S&quot;</td><td>&quot;diajsqMk-mo&quot;</td><td>&quot;2023-09-02T06:45:02&quot;</td><td>[&quot;maaveeran&quot;, &quot;movie&quot;, … &quot;yogi babu&quot;]</td><td>&quot;3 Amazing Indian Movies In 2023 That De…</td></tr></tbody></table></div>"
      ],
      "text/plain": [
       "shape: (5, 9)\n",
       "┌───────────┬───────────┬───────────┬───────────┬───┬───────────┬───────────┬───────────┬──────────┐\n",
       "│ categoryI ┆ channelId ┆ channelTi ┆ descripti ┆ … ┆ id        ┆ published ┆ tags      ┆ title    │\n",
       "│ d         ┆ ---       ┆ tle       ┆ on        ┆   ┆ ---       ┆ At        ┆ ---       ┆ ---      │\n",
       "│ ---       ┆ str       ┆ ---       ┆ ---       ┆   ┆ str       ┆ ---       ┆ list[str] ┆ str      │\n",
       "│ str       ┆           ┆ str       ┆ str       ┆   ┆           ┆ str       ┆           ┆          │\n",
       "╞═══════════╪═══════════╪═══════════╪═══════════╪═══╪═══════════╪═══════════╪═══════════╪══════════╡\n",
       "│ 28        ┆ UCs5Y5_7X ┆ Visual    ┆ #shorts   ┆ … ┆ 4dgSwnKtV ┆ 2023-09-2 ┆ [\"vscode\" ┆ Arrow    │\n",
       "│           ┆ K8HLDX0SL ┆ Studio    ┆           ┆   ┆ Lo        ┆ 2T05:12:5 ┆ , \"visual ┆ Function │\n",
       "│           ┆ Nwkd3w    ┆ Code      ┆           ┆   ┆           ┆ 3         ┆ studio    ┆ : Think  │\n",
       "│           ┆           ┆           ┆           ┆   ┆           ┆           ┆ code\",    ┆ Backward │\n",
       "│           ┆           ┆           ┆           ┆   ┆           ┆           ┆ \"vs cod…  ┆ s        │\n",
       "│ 28        ┆ UC46xhU1E ┆ anthonywr ┆ it's      ┆ … ┆ IV8OZY419 ┆ 2023-08-0 ┆ null      ┆ python   │\n",
       "│           ┆ H7aywEgvA ┆ itescode  ┆ here!     ┆   ┆ 4U        ┆ 2T15:00:2 ┆           ┆ 3.12     │\n",
       "│           ┆ 9syS3w    ┆           ┆ with ugly ┆   ┆           ┆ 5         ┆           ┆ release  │\n",
       "│           ┆           ┆           ┆ new       ┆   ┆           ┆           ┆           ┆ highligh │\n",
       "│           ┆           ┆           ┆ typing    ┆   ┆           ┆           ┆           ┆ ts (begi │\n",
       "│           ┆           ┆           ┆ syntax …  ┆   ┆           ┆           ┆           ┆ nner…    │\n",
       "│ 27        ┆ UCsDTy8jv ┆ Abhi and  ┆ To        ┆ … ┆ 4uM7RIfML ┆ 2023-10-0 ┆ [\"abhi    ┆ Australi │\n",
       "│           ┆ HcwMvSZf_ ┆ Niyu      ┆ support   ┆   ┆ K4        ┆ 7T13:00:1 ┆ and       ┆ a's      │\n",
       "│           ┆ JGi-FA    ┆           ┆ our work  ┆   ┆           ┆ 2         ┆ niyu\",    ┆ economy  │\n",
       "│           ┆           ┆           ┆ you can   ┆   ┆           ┆           ┆ \"abhi and ┆ is WEIRD │\n",
       "│           ┆           ┆           ┆ consider  ┆   ┆           ┆           ┆ niyu      ┆ | Austra │\n",
       "│           ┆           ┆           ┆ buy…      ┆   ┆           ┆           ┆ latest\"…  ┆ lia…     │\n",
       "│ 28        ┆ UCQV-7R4q ┆ Dekho     ┆ Join me   ┆ … ┆ uWLooUi8i ┆ 2023-09-0 ┆ [\"india   ┆ Will     │\n",
       "│           ┆ hAJXxdkrW ┆ Isko      ┆ on Social ┆   ┆ n0        ┆ 6T16:52:4 ┆ rename\",  ┆ India    │\n",
       "│           ┆ NOglDQ    ┆           ┆ media:-   ┆   ┆           ┆ 2         ┆ \"india    ┆ Change   │\n",
       "│           ┆           ┆           ┆ 📷        ┆   ┆           ┆           ┆ renamed   ┆ its Name │\n",
       "│           ┆           ┆           ┆ Instagram ┆   ┆           ┆           ┆ as bhara… ┆ to       │\n",
       "│           ┆           ┆           ┆ • …       ┆   ┆           ┆           ┆           ┆ Bharat   │\n",
       "│           ┆           ┆           ┆           ┆   ┆           ┆           ┆           ┆ Per…     │\n",
       "│ 24        ┆ UCgbzclo4 ┆ Tried&Ref ┆ There is  ┆ … ┆ diajsqMk- ┆ 2023-09-0 ┆ [\"maaveer ┆ 3        │\n",
       "│           ┆ Mfy_D68w_ ┆ used Prod ┆ always so ┆   ┆ mo        ┆ 2T06:45:0 ┆ an\",      ┆ Amazing  │\n",
       "│           ┆ Bm_xHg    ┆ uctions.  ┆ much to   ┆   ┆           ┆ 2         ┆ \"movie\",  ┆ Indian   │\n",
       "│           ┆           ┆           ┆ watch but ┆   ┆           ┆           ┆ … \"yogi   ┆ Movies   │\n",
       "│           ┆           ┆           ┆ I m…      ┆   ┆           ┆           ┆ babu\"]    ┆ In 2023  │\n",
       "│           ┆           ┆           ┆           ┆   ┆           ┆           ┆           ┆ That     │\n",
       "│           ┆           ┆           ┆           ┆   ┆           ┆           ┆           ┆ Des…     │\n",
       "└───────────┴───────────┴───────────┴───────────┴───┴───────────┴───────────┴───────────┴──────────┘"
      ]
     },
     "execution_count": 2,
     "metadata": {},
     "output_type": "execute_result"
    }
   ],
   "source": [
    "df = pl.read_json(\"data/ctt/titles_data.json\")\n",
    "print(df.shape)\n",
    "df.head()"
   ]
  },
  {
   "cell_type": "code",
   "execution_count": 3,
   "metadata": {},
   "outputs": [
    {
     "name": "stdout",
     "output_type": "stream",
     "text": [
      "Total data points: 75\n"
     ]
    },
    {
     "data": {
      "text/html": [
       "<div><style>\n",
       ".dataframe > thead > tr,\n",
       ".dataframe > tbody > tr {\n",
       "  text-align: right;\n",
       "  white-space: pre-wrap;\n",
       "}\n",
       "</style>\n",
       "<small>shape: (5, 4)</small><table border=\"1\" class=\"dataframe\"><thead><tr><th>channelId</th><th>channelTitle</th><th>tags</th><th>title</th></tr><tr><td>str</td><td>str</td><td>str</td><td>str</td></tr></thead><tbody><tr><td>&quot;UCXgGY0wkgOzynnHvSEVmE3A&quot;</td><td>&quot;Hitesh Choudhary&quot;</td><td>&quot;pulumi best coding monitor zoho vite br…</td><td>&quot;The Real Engineering Mindset | Degree V…</td></tr><tr><td>&quot;UCLpbTDb3EKUltVAF-Ko_NXg&quot;</td><td>&quot;Loginion&quot;</td><td>&quot;garou vs saitama reaction Garou Charact…</td><td>&quot;MAKIMA - S*XY but Most EVIL Character o…</td></tr><tr><td>&quot;UCNCl2n5YZfUXaxSVL3zqlLA&quot;</td><td>&quot;Nomad Shubham&quot;</td><td>&quot;Flying For The First Time travel experi…</td><td>&quot;Scammed By Wizz air in Iceland I took M…</td></tr><tr><td>&quot;UCR4u702mibx-S0bjqBToQsw&quot;</td><td>&quot;Dee &amp; Vee&quot;</td><td>&quot;Foreigners reacts to india india reacti…</td><td>&quot;African Friends Reacts To G20 Summit: A…</td></tr><tr><td>&quot;UC4JX40jDee_tINbkjycV4Sg&quot;</td><td>&quot;Tech With Tim&quot;</td><td>&quot;how to use a debugger django crash cour…</td><td>&quot;How to Use a Debugger - Debugger Tutori…</td></tr></tbody></table></div>"
      ],
      "text/plain": [
       "shape: (5, 4)\n",
       "┌──────────────────────────┬──────────────────┬──────────────────────────┬─────────────────────────┐\n",
       "│ channelId                ┆ channelTitle     ┆ tags                     ┆ title                   │\n",
       "│ ---                      ┆ ---              ┆ ---                      ┆ ---                     │\n",
       "│ str                      ┆ str              ┆ str                      ┆ str                     │\n",
       "╞══════════════════════════╪══════════════════╪══════════════════════════╪═════════════════════════╡\n",
       "│ UCXgGY0wkgOzynnHvSEVmE3A ┆ Hitesh Choudhary ┆ pulumi best coding       ┆ The Real Engineering    │\n",
       "│                          ┆                  ┆ monitor zoho vite bro…   ┆ Mindset | Degree Vs…    │\n",
       "│ UCLpbTDb3EKUltVAF-Ko_NXg ┆ Loginion         ┆ garou vs saitama         ┆ MAKIMA - S*XY but Most  │\n",
       "│                          ┆                  ┆ reaction Garou Characte… ┆ EVIL Character of…      │\n",
       "│ UCNCl2n5YZfUXaxSVL3zqlLA ┆ Nomad Shubham    ┆ Flying For The First     ┆ Scammed By Wizz air in  │\n",
       "│                          ┆                  ┆ Time travel experie…     ┆ Iceland I took My…      │\n",
       "│ UCR4u702mibx-S0bjqBToQsw ┆ Dee & Vee        ┆ Foreigners reacts to     ┆ African Friends Reacts  │\n",
       "│                          ┆                  ┆ india india reactio…     ┆ To G20 Summit: AU…      │\n",
       "│ UC4JX40jDee_tINbkjycV4Sg ┆ Tech With Tim    ┆ how to use a debugger    ┆ How to Use a Debugger - │\n",
       "│                          ┆                  ┆ django crash cours…      ┆ Debugger Tutoria…       │\n",
       "└──────────────────────────┴──────────────────┴──────────────────────────┴─────────────────────────┘"
      ]
     },
     "execution_count": 3,
     "metadata": {},
     "output_type": "execute_result"
    }
   ],
   "source": [
    "# Get all unique tags used by each channel\n",
    "# And the video titles of each channel\n",
    "title_tags_df = (\n",
    "    df.explode(\"tags\")\n",
    "    .group_by(\"channelId\", \"channelTitle\")\n",
    "    .agg(pl.col(\"tags\", \"title\").unique())\n",
    "    .with_columns(pl.col(\"tags\", \"title\").list.join(\" \"))\n",
    "    .filter(\n",
    "        # Remove those channels which have no tags\n",
    "        pl.col(\"tags\").ne(\"null\"),\n",
    "    )\n",
    ")\n",
    "print(f\"Total data points: {title_tags_df.height}\")\n",
    "title_tags_df.head()"
   ]
  },
  {
   "cell_type": "markdown",
   "metadata": {},
   "source": [
    "### Split dataset"
   ]
  },
  {
   "cell_type": "code",
   "execution_count": 4,
   "metadata": {},
   "outputs": [
    {
     "name": "stdout",
     "output_type": "stream",
     "text": [
      "x_train.shape = (60, 4)\n",
      " x_test.shape = (15, 4)\n"
     ]
    }
   ],
   "source": [
    "x_train: pl.DataFrame  # For type hinting\n",
    "x_test: pl.DataFrame\n",
    "\n",
    "x_train, x_test = train_test_split(title_tags_df, test_size=0.2, random_state=42)\n",
    "\n",
    "print(f\"{x_train.shape = }\\n {x_test.shape = }\")"
   ]
  },
  {
   "cell_type": "code",
   "execution_count": 5,
   "metadata": {},
   "outputs": [
    {
     "data": {
      "text/html": [
       "<div><style>\n",
       ".dataframe > thead > tr,\n",
       ".dataframe > tbody > tr {\n",
       "  text-align: right;\n",
       "  white-space: pre-wrap;\n",
       "}\n",
       "</style>\n",
       "<small>shape: (5, 4)</small><table border=\"1\" class=\"dataframe\"><thead><tr><th>channelId</th><th>channelTitle</th><th>tags</th><th>title</th></tr><tr><td>str</td><td>str</td><td>str</td><td>str</td></tr></thead><tbody><tr><td>&quot;UC4JX40jDee_tINbkjycV4Sg&quot;</td><td>&quot;Tech With Tim&quot;</td><td>&quot;how to use a debugger django crash cour…</td><td>&quot;How to Use a Debugger - Debugger Tutori…</td></tr><tr><td>&quot;UCu4X846OSea5YU6S8fIpy1A&quot;</td><td>&quot;BigDawsTv&quot;</td><td>&quot;Photoshopping Wanted Posters of Strange…</td><td>&quot;TIPPING DELIVERY DRIVERS $10,000 I Gave…</td></tr><tr><td>&quot;UCnU9c8lf6Cvfz8VkD4fxbVQ&quot;</td><td>&quot;Avanti Nagral&quot;</td><td>&quot;where is your family from Avanti nagral…</td><td>&quot;Meet @JoshuaOtusanya 🤍 Happy Raksha Ban…</td></tr><tr><td>&quot;UCXgGY0wkgOzynnHvSEVmE3A&quot;</td><td>&quot;Hitesh Choudhary&quot;</td><td>&quot;pulumi best coding monitor zoho vite br…</td><td>&quot;The Real Engineering Mindset | Degree V…</td></tr><tr><td>&quot;UCw7xjxzbMwgBSmbeYwqYRMg&quot;</td><td>&quot;Sony PAL&quot;</td><td>&quot;Jetha and Popatlal taarak Mehta Ka Oolt…</td><td>&quot;Gada Electronics में हुई Problem | Taar…</td></tr></tbody></table></div>"
      ],
      "text/plain": [
       "shape: (5, 4)\n",
       "┌──────────────────────────┬──────────────────┬──────────────────────────┬─────────────────────────┐\n",
       "│ channelId                ┆ channelTitle     ┆ tags                     ┆ title                   │\n",
       "│ ---                      ┆ ---              ┆ ---                      ┆ ---                     │\n",
       "│ str                      ┆ str              ┆ str                      ┆ str                     │\n",
       "╞══════════════════════════╪══════════════════╪══════════════════════════╪═════════════════════════╡\n",
       "│ UC4JX40jDee_tINbkjycV4Sg ┆ Tech With Tim    ┆ how to use a debugger    ┆ How to Use a Debugger - │\n",
       "│                          ┆                  ┆ django crash cours…      ┆ Debugger Tutoria…       │\n",
       "│ UCu4X846OSea5YU6S8fIpy1A ┆ BigDawsTv        ┆ Photoshopping Wanted     ┆ TIPPING DELIVERY        │\n",
       "│                          ┆                  ┆ Posters of Stranger…     ┆ DRIVERS $10,000 I Gave  │\n",
       "│                          ┆                  ┆                          ┆ …                       │\n",
       "│ UCnU9c8lf6Cvfz8VkD4fxbVQ ┆ Avanti Nagral    ┆ where is your family     ┆ Meet @JoshuaOtusanya 🤍 │\n",
       "│                          ┆                  ┆ from Avanti nagral …     ┆ Happy Raksha Band…      │\n",
       "│ UCXgGY0wkgOzynnHvSEVmE3A ┆ Hitesh Choudhary ┆ pulumi best coding       ┆ The Real Engineering    │\n",
       "│                          ┆                  ┆ monitor zoho vite bro…   ┆ Mindset | Degree Vs…    │\n",
       "│ UCw7xjxzbMwgBSmbeYwqYRMg ┆ Sony PAL         ┆ Jetha and Popatlal       ┆ Gada Electronics में हुई   │\n",
       "│                          ┆                  ┆ taarak Mehta Ka Oolta…   ┆ Problem | Taara…        │\n",
       "└──────────────────────────┴──────────────────┴──────────────────────────┴─────────────────────────┘"
      ]
     },
     "execution_count": 5,
     "metadata": {},
     "output_type": "execute_result"
    }
   ],
   "source": [
    "x_test.head()"
   ]
  },
  {
   "cell_type": "markdown",
   "metadata": {},
   "source": [
    "## Build Model"
   ]
  },
  {
   "cell_type": "code",
   "execution_count": 6,
   "metadata": {},
   "outputs": [],
   "source": [
    "def preprocess_title(s: str) -> str:\n",
    "    \"\"\"Preprocessor for vectorizer to preprocess titles data.\"\"\"\n",
    "    s = re.sub(r\"\\b\\w{1,3}\\b\", \" \", s)\n",
    "    s = s.translate(str.maketrans(\"\", \"\", string.punctuation + string.digits))\n",
    "    s = emoji.replace_emoji(s, \"\")\n",
    "    s = re.sub(r\"\\s+\", \" \", s)\n",
    "    s = s.lower()\n",
    "    return s\n",
    "\n",
    "\n",
    "def preprocess_tags(s: str) -> str:\n",
    "    \"\"\"Preprocessor for vectorizer to preprocess titles data.\"\"\"\n",
    "    s = re.sub(r\"\\b\\w{1,2}\\b\", \" \", s)\n",
    "    s = s.translate(str.maketrans(\"\", \"\", string.punctuation + string.digits))\n",
    "    s = emoji.replace_emoji(s, \"\")\n",
    "    s = re.sub(r\"\\s+\", \" \", s)\n",
    "    s = s.lower()\n",
    "    return s"
   ]
  },
  {
   "cell_type": "code",
   "execution_count": 7,
   "metadata": {},
   "outputs": [],
   "source": [
    "title_transformer = TfidfVectorizer(\n",
    "    max_features=7000,\n",
    "    ngram_range=(1, 2),\n",
    "    preprocessor=preprocess_title,\n",
    "    stop_words=\"english\",\n",
    ")\n",
    "tags_transformer = TfidfVectorizer(\n",
    "    max_features=5000,\n",
    "    ngram_range=(1, 2),\n",
    "    preprocessor=preprocess_tags,\n",
    "    stop_words=\"english\",\n",
    ")"
   ]
  },
  {
   "cell_type": "code",
   "execution_count": 8,
   "metadata": {},
   "outputs": [],
   "source": [
    "transformer = ColumnTransformer(\n",
    "    [\n",
    "        (\"title_trf\", title_transformer, \"title\"),\n",
    "        (\"tags_trf\", tags_transformer, \"tags\"),\n",
    "    ]\n",
    ")"
   ]
  },
  {
   "cell_type": "markdown",
   "metadata": {},
   "source": [
    "### Calculate Similarity\n",
    "\n",
    "**How to approach?**\n",
    "\n",
    "1. Transform the data with both the **Transformers**.\n",
    "2. Multiply both the transformed data with the weights\\*.\n",
    "3. Then add both the similarity values to get the final similarity value.\n",
    "4. Sort the value and return the similar channels."
   ]
  },
  {
   "cell_type": "code",
   "execution_count": 9,
   "metadata": {},
   "outputs": [],
   "source": [
    "# Fit and tranform the x_train data\n",
    "title_tags_vector = transformer.fit_transform(\n",
    "    x_train.select(\"title\", \"tags\").to_pandas()\n",
    ")"
   ]
  },
  {
   "cell_type": "code",
   "execution_count": 10,
   "metadata": {},
   "outputs": [],
   "source": [
    "# Combine title_tags_vector, channelId, channelTitle as DataFrame\n",
    "title_tags_trf_df = x_train.select(\"channelId\", \"channelTitle\").with_columns(\n",
    "    pl.lit(title_tags_vector.toarray()).alias(\"transformed_data\")  # type: ignore\n",
    ")"
   ]
  },
  {
   "cell_type": "code",
   "execution_count": 14,
   "metadata": {},
   "outputs": [],
   "source": [
    "def get_similar_channels(data: pl.DataFrame) -> pl.DataFrame:\n",
    "    transformed_data = transformer.transform(data.to_pandas())\n",
    "    similarity = cosine_similarity(\n",
    "        np.array(title_tags_trf_df[\"transformed_data\"].to_list()),\n",
    "        transformed_data.toarray(),\n",
    "    )\n",
    "    return x_train.with_columns(\n",
    "        pl.lit(np.ravel(similarity)).mul(100).round(2).alias(\"similarity\")\n",
    "    ).sort(\"similarity\", descending=True)"
   ]
  },
  {
   "cell_type": "code",
   "execution_count": 12,
   "metadata": {},
   "outputs": [
    {
     "data": {
      "text/plain": [
       "0           Tech With Tim\n",
       "1               BigDawsTv\n",
       "2           Avanti Nagral\n",
       "3        Hitesh Choudhary\n",
       "4                Sony PAL\n",
       "5               Dr. Swole\n",
       "6             Coding Tech\n",
       "7            Tech Junkies\n",
       "8     Unfold Data Science\n",
       "9             The S2 Life\n",
       "10     Passenger Paramvir\n",
       "11              Kishanell\n",
       "12           Dhruv Rathee\n",
       "13     Elvish Yadav Vlogs\n",
       "14            anime freak\n",
       "Name: channelTitle, dtype: object"
      ]
     },
     "execution_count": 12,
     "metadata": {},
     "output_type": "execute_result"
    }
   ],
   "source": [
    "x_test[\"channelTitle\"].to_pandas()"
   ]
  },
  {
   "cell_type": "code",
   "execution_count": 15,
   "metadata": {},
   "outputs": [
    {
     "name": "stdout",
     "output_type": "stream",
     "text": [
      "Selected Channel: 'Sony LIV'\n"
     ]
    },
    {
     "data": {
      "text/html": [
       "<div><style>\n",
       ".dataframe > thead > tr,\n",
       ".dataframe > tbody > tr {\n",
       "  text-align: right;\n",
       "  white-space: pre-wrap;\n",
       "}\n",
       "</style>\n",
       "<small>shape: (10, 5)</small><table border=\"1\" class=\"dataframe\"><thead><tr><th>channelId</th><th>channelTitle</th><th>tags</th><th>title</th><th>similarity</th></tr><tr><td>str</td><td>str</td><td>str</td><td>str</td><td>f64</td></tr></thead><tbody><tr><td>&quot;UCOQNJjhXwvAScuELTT_i7cQ&quot;</td><td>&quot;Sony LIV&quot;</td><td>&quot;mcis8 Asian Games 2018 countries MCI In…</td><td>&quot;Lakshya Sen vs. Lee Y. | Badminton | Me…</td><td>100.0</td></tr><tr><td>&quot;UCBIT1FSJW6yTlzqK-31FDWg&quot;</td><td>&quot;LIV Comedy&quot;</td><td>&quot;Sodhi ka hungama TMKOC tmkoc husband te…</td><td>&quot;Weekly Reliv - Taarak Mehta Ka Ooltah C…</td><td>20.5</td></tr><tr><td>&quot;UC6-F5tO8uklgE9Zy8IvbdFw&quot;</td><td>&quot;Sony SAB&quot;</td><td>&quot;tapu sena new year episode saree sony t…</td><td>&quot;Taarak Mehta Ka Ooltah Chashmah | Throw…</td><td>18.18</td></tr><tr><td>&quot;UCnSFZ-olBoLGLRUS_3RI2Aw&quot;</td><td>&quot;Taarak Mehta Ka Ooltah Chashmah&quot;</td><td>&quot;tmkoc Taarak Mehta Ka Ooltah Chashmah t…</td><td>&quot;FULL EPISODE! 3847 - Taarak Mehta Ka Oo…</td><td>15.09</td></tr><tr><td>&quot;UCF10AG_t1AYW3mlmX7g1VJA&quot;</td><td>&quot;FanCode&quot;</td><td>&quot;chris gayle Highlights fastest fifty ll…</td><td>&quot;Highlights: India win Asian Champions T…</td><td>11.16</td></tr><tr><td>&quot;UCCJsQKOKArvDksacfT2ryQw&quot;</td><td>&quot;World Affairs by Unacademy&quot;</td><td>&quot;Justin Trudeau fatf grey list world aff…</td><td>&quot;Canada Apologises to the World | Video …</td><td>9.07</td></tr><tr><td>&quot;UCpEhnqL0y41EpW2TvWAHD7Q&quot;</td><td>&quot;SET India&quot;</td><td>&quot;new Superstar Singer Season 2 promo kri…</td><td>&quot;This Musicianship Has A &quot;Swag Of Rajast…</td><td>5.02</td></tr><tr><td>&quot;UC5fcjujOsqD-126Chn_BAuA&quot;</td><td>&quot;Sarthak Goswami&quot;</td><td>&quot;mumbaikarnikhil education neuzboy oppen…</td><td>&quot;Ye nahi bolna tha!! | Sunday Show! Why …</td><td>4.51</td></tr><tr><td>&quot;UCjAds6NXzUMkhpSI3_s90WA&quot;</td><td>&quot;Zuzana Reacts&quot;</td><td>&quot;history of india chandryan foreigners v…</td><td>&quot;Cricket WorldCup 2023 in India | Reacti…</td><td>3.27</td></tr><tr><td>&quot;UC4eIbi6N7KJJLqRQsJdH0CQ&quot;</td><td>&quot;News,views, &amp; updates.&quot;</td><td>&quot;dlf new projects in gurugram mega proje…</td><td>&quot;Pak Reacts PAV BHAJI | Mumbai Special S…</td><td>3.22</td></tr></tbody></table></div>"
      ],
      "text/plain": [
       "shape: (10, 5)\n",
       "┌──────────────────────┬─────────────────┬──────────────────────┬─────────────────────┬────────────┐\n",
       "│ channelId            ┆ channelTitle    ┆ tags                 ┆ title               ┆ similarity │\n",
       "│ ---                  ┆ ---             ┆ ---                  ┆ ---                 ┆ ---        │\n",
       "│ str                  ┆ str             ┆ str                  ┆ str                 ┆ f64        │\n",
       "╞══════════════════════╪═════════════════╪══════════════════════╪═════════════════════╪════════════╡\n",
       "│ UCOQNJjhXwvAScuELTT_ ┆ Sony LIV        ┆ mcis8 Asian Games    ┆ Lakshya Sen vs. Lee ┆ 100.0      │\n",
       "│ i7cQ                 ┆                 ┆ 2018 countries MCI   ┆ Y. | Badminton |    ┆            │\n",
       "│                      ┆                 ┆ Ind…                 ┆ Men…                ┆            │\n",
       "│ UCBIT1FSJW6yTlzqK-31 ┆ LIV Comedy      ┆ Sodhi ka hungama     ┆ Weekly Reliv -      ┆ 20.5       │\n",
       "│ FDWg                 ┆                 ┆ TMKOC tmkoc husband  ┆ Taarak Mehta Ka     ┆            │\n",
       "│                      ┆                 ┆ tes…                 ┆ Ooltah Ch…          ┆            │\n",
       "│ UC6-F5tO8uklgE9Zy8Iv ┆ Sony SAB        ┆ tapu sena new year   ┆ Taarak Mehta Ka     ┆ 18.18      │\n",
       "│ bdFw                 ┆                 ┆ episode saree sony   ┆ Ooltah Chashmah |   ┆            │\n",
       "│                      ┆                 ┆ tv…                  ┆ Throwb…             ┆            │\n",
       "│ UCnSFZ-olBoLGLRUS_3R ┆ Taarak Mehta Ka ┆ tmkoc Taarak Mehta   ┆ FULL EPISODE! 3847  ┆ 15.09      │\n",
       "│ I2Aw                 ┆ Ooltah Chashmah ┆ Ka Ooltah Chashmah   ┆ - Taarak Mehta Ka   ┆            │\n",
       "│                      ┆                 ┆ ta…                  ┆ Ool…                ┆            │\n",
       "│ …                    ┆ …               ┆ …                    ┆ …                   ┆ …          │\n",
       "│ UCpEhnqL0y41EpW2TvWA ┆ SET India       ┆ new Superstar Singer ┆ This Musicianship   ┆ 5.02       │\n",
       "│ HD7Q                 ┆                 ┆ Season 2 promo krit… ┆ Has A \"Swag Of      ┆            │\n",
       "│                      ┆                 ┆                      ┆ Rajasth…            ┆            │\n",
       "│ UC5fcjujOsqD-126Chn_ ┆ Sarthak Goswami ┆ mumbaikarnikhil      ┆ Ye nahi bolna tha!! ┆ 4.51       │\n",
       "│ BAuA                 ┆                 ┆ education neuzboy    ┆ | Sunday Show! Why  ┆            │\n",
       "│                      ┆                 ┆ oppenh…              ┆ I…                  ┆            │\n",
       "│ UCjAds6NXzUMkhpSI3_s ┆ Zuzana Reacts   ┆ history of india     ┆ Cricket WorldCup    ┆ 3.27       │\n",
       "│ 90WA                 ┆                 ┆ chandryan foreigners ┆ 2023 in India |     ┆            │\n",
       "│                      ┆                 ┆ vl…                  ┆ Reactio…            ┆            │\n",
       "│ UC4eIbi6N7KJJLqRQsJd ┆ News,views, &   ┆ dlf new projects in  ┆ Pak Reacts PAV      ┆ 3.22       │\n",
       "│ H0CQ                 ┆ updates.        ┆ gurugram mega        ┆ BHAJI | Mumbai      ┆            │\n",
       "│                      ┆                 ┆ projec…              ┆ Special St…         ┆            │\n",
       "└──────────────────────┴─────────────────┴──────────────────────┴─────────────────────┴────────────┘"
      ]
     },
     "execution_count": 15,
     "metadata": {},
     "output_type": "execute_result"
    }
   ],
   "source": [
    "sl_data = x_train[2]\n",
    "print(f\"Selected Channel: {sl_data['channelTitle'].item(0)!r}\")\n",
    "get_similar_channels(sl_data).head(10)"
   ]
  }
 ],
 "metadata": {
  "kernelspec": {
   "display_name": "Python 3",
   "language": "python",
   "name": "python3"
  },
  "language_info": {
   "codemirror_mode": {
    "name": "ipython",
    "version": 3
   },
   "file_extension": ".py",
   "mimetype": "text/x-python",
   "name": "python",
   "nbconvert_exporter": "python",
   "pygments_lexer": "ipython3",
   "version": "3.11.0"
  }
 },
 "nbformat": 4,
 "nbformat_minor": 2
}
