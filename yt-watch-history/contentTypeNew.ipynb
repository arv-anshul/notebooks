{
 "cells": [
  {
   "cell_type": "code",
   "execution_count": 1,
   "metadata": {},
   "outputs": [],
   "source": [
    "import polars as pl\n",
    "\n",
    "from youtube import IngestYtHistory"
   ]
  },
  {
   "cell_type": "code",
   "execution_count": 2,
   "metadata": {},
   "outputs": [
    {
     "data": {
      "text/plain": [
       "polars.config.Config"
      ]
     },
     "execution_count": 2,
     "metadata": {},
     "output_type": "execute_result"
    }
   ],
   "source": [
    "pl.Config.set_fmt_str_lengths(50)"
   ]
  },
  {
   "cell_type": "markdown",
   "metadata": {},
   "source": [
    "## Create dataframe for model training"
   ]
  },
  {
   "cell_type": "code",
   "execution_count": 8,
   "metadata": {},
   "outputs": [],
   "source": [
    "def create_df_for_ctt(*objs: str | pl.DataFrame) -> pl.DataFrame:\n",
    "    if not all(isinstance(i, str | pl.DataFrame) for i in objs):\n",
    "        raise TypeError(\"`paths` params must be either 'str' or 'polars.DataFrame'\")\n",
    "\n",
    "    imp_cols = [\"title\", \"channelTitle\", \"channelId\"]\n",
    "    df = pl.concat(\n",
    "        [pl.read_json(i)[imp_cols] if isinstance(i, str) else i[imp_cols] for i in objs]\n",
    "    )\n",
    "    return df.unique().drop_nulls()"
   ]
  },
  {
   "cell_type": "code",
   "execution_count": 10,
   "metadata": {},
   "outputs": [
    {
     "name": "stdout",
     "output_type": "stream",
     "text": [
      "(14071, 3)\n"
     ]
    },
    {
     "data": {
      "text/html": [
       "<div><style>\n",
       ".dataframe > thead > tr,\n",
       ".dataframe > tbody > tr {\n",
       "  text-align: right;\n",
       "  white-space: pre-wrap;\n",
       "}\n",
       "</style>\n",
       "<small>shape: (5, 3)</small><table border=\"1\" class=\"dataframe\"><thead><tr><th>title</th><th>channelTitle</th><th>channelId</th></tr><tr><td>str</td><td>str</td><td>str</td></tr></thead><tbody><tr><td>&quot;Google is payi…</td><td>&quot;Tech Junkies&quot;</td><td>&quot;UCn4fhtzOgtoEK…</td></tr><tr><td>&quot;Is Monaspace Y…</td><td>&quot;Syntax&quot;</td><td>&quot;UCyU5wkjgQYGRB…</td></tr><tr><td>&quot;Graphic Design…</td><td>&quot;KibaKibi&quot;</td><td>&quot;UCfEO65bSgEQjS…</td></tr><tr><td>&quot;Speed Up Data …</td><td>&quot;NeuralNine&quot;</td><td>&quot;UC8wZnXYK_CGKl…</td></tr><tr><td>&quot;Bihar Houses I…</td><td>&quot;Backstage with…</td><td>&quot;UCnpekFV93kB1O…</td></tr></tbody></table></div>"
      ],
      "text/plain": [
       "shape: (5, 3)\n",
       "┌───────────────────────────────────┬─────────────────────────────┬──────────────────────────┐\n",
       "│ title                             ┆ channelTitle                ┆ channelId                │\n",
       "│ ---                               ┆ ---                         ┆ ---                      │\n",
       "│ str                               ┆ str                         ┆ str                      │\n",
       "╞═══════════════════════════════════╪═════════════════════════════╪══════════════════════════╡\n",
       "│ Google is paying Samsung - Good … ┆ Tech Junkies                ┆ UCn4fhtzOgtoEKIrAAV4yCMA │\n",
       "│ Is Monaspace Your Next Coding Fo… ┆ Syntax                      ┆ UCyU5wkjgQYGRB0hIHMwm2Sg │\n",
       "│ Graphic Designer REACTING to BHU… ┆ KibaKibi                    ┆ UCfEO65bSgEQjSzmuZATTs-g │\n",
       "│ Speed Up Data Processing with Ap… ┆ NeuralNine                  ┆ UC8wZnXYK_CGKlBcZp-GxYPA │\n",
       "│ Bihar Houses India's Most Valued… ┆ Backstage with Millionaires ┆ UCnpekFV93kB1O0rVqEKSumg │\n",
       "└───────────────────────────────────┴─────────────────────────────┴──────────────────────────┘"
      ]
     },
     "execution_count": 10,
     "metadata": {},
     "output_type": "execute_result"
    }
   ],
   "source": [
    "# Best final shape is (15129, 3)\n",
    "\n",
    "df_for_ctt = create_df_for_ctt(\n",
    "    # \"data/allVideoDetails.json\",\n",
    "    IngestYtHistory(\"data/raw/arv-anshul.json\").initiate(),\n",
    "    IngestYtHistory(\"data/raw/itsarv.json\").initiate(),\n",
    "    IngestYtHistory(\n",
    "        \"data/zip/Takeout/YouTube and YouTube Music/history/watch-history.json\"\n",
    "    ).initiate(),\n",
    ")\n",
    "print(df_for_ctt.shape)\n",
    "df_for_ctt.head()"
   ]
  },
  {
   "cell_type": "markdown",
   "metadata": {},
   "source": [
    "## Initiate `ContentTypeTagging` class"
   ]
  },
  {
   "cell_type": "code",
   "execution_count": 5,
   "metadata": {},
   "outputs": [
    {
     "name": "stdout",
     "output_type": "stream",
     "text": [
      "(10578, 3)\n"
     ]
    },
    {
     "data": {
      "text/html": [
       "<div><style>\n",
       ".dataframe > thead > tr,\n",
       ".dataframe > tbody > tr {\n",
       "  text-align: right;\n",
       "  white-space: pre-wrap;\n",
       "}\n",
       "</style>\n",
       "<small>shape: (5, 3)</small><table border=\"1\" class=\"dataframe\"><thead><tr><th>title</th><th>channelTitle</th><th>contentType</th></tr><tr><td>str</td><td>str</td><td>str</td></tr></thead><tbody><tr><td>&quot;Make Fractal Art With Python!&quot;</td><td>&quot;Tech With Tim&quot;</td><td>&quot;Programming&quot;</td></tr><tr><td>&quot;The EU Will Break Apple.&quot;</td><td>&quot;TechLinked&quot;</td><td>&quot;Tech&quot;</td></tr><tr><td>&quot;Makefiles in Python For Professional Automation&quot;</td><td>&quot;NeuralNine&quot;</td><td>&quot;Programming&quot;</td></tr><tr><td>&quot;BAMBOO is the real GOLD of INDIA ! 🇮🇳&quot;</td><td>&quot;Aevy TV&quot;</td><td>&quot;Pseudo Education&quot;</td></tr><tr><td>&quot;JSON Schema Validation in Python: Bring Structure…</td><td>&quot;NeuralNine&quot;</td><td>&quot;Programming&quot;</td></tr></tbody></table></div>"
      ],
      "text/plain": [
       "shape: (5, 3)\n",
       "┌─────────────────────────────────────────────────────┬───────────────┬──────────────────┐\n",
       "│ title                                               ┆ channelTitle  ┆ contentType      │\n",
       "│ ---                                                 ┆ ---           ┆ ---              │\n",
       "│ str                                                 ┆ str           ┆ str              │\n",
       "╞═════════════════════════════════════════════════════╪═══════════════╪══════════════════╡\n",
       "│ Make Fractal Art With Python!                       ┆ Tech With Tim ┆ Programming      │\n",
       "│ The EU Will Break Apple.                            ┆ TechLinked    ┆ Tech             │\n",
       "│ Makefiles in Python For Professional Automation     ┆ NeuralNine    ┆ Programming      │\n",
       "│ BAMBOO is the real GOLD of INDIA ! 🇮🇳               ┆ Aevy TV       ┆ Pseudo Education │\n",
       "│ JSON Schema Validation in Python: Bring Structure … ┆ NeuralNine    ┆ Programming      │\n",
       "└─────────────────────────────────────────────────────┴───────────────┴──────────────────┘"
      ]
     },
     "execution_count": 5,
     "metadata": {},
     "output_type": "execute_result"
    }
   ],
   "source": [
    "ctt = TaggingWithTitle(df_for_ctt)\n",
    "print(ctt.df.shape)\n",
    "ctt.df.head()"
   ]
  },
  {
   "cell_type": "markdown",
   "metadata": {},
   "source": [
    "### Build and calculate score"
   ]
  },
  {
   "cell_type": "code",
   "execution_count": 6,
   "metadata": {},
   "outputs": [
    {
     "data": {
      "text/plain": [
       "0.7776517300056721"
      ]
     },
     "execution_count": 6,
     "metadata": {},
     "output_type": "execute_result"
    }
   ],
   "source": [
    "# Build ContentTypeTagging model\n",
    "ctt.build(force=True)\n",
    "\n",
    "# Calculate the model accuracy\n",
    "ctt.model_acc_score()"
   ]
  },
  {
   "cell_type": "markdown",
   "metadata": {},
   "source": [
    "### Predict with model"
   ]
  },
  {
   "cell_type": "code",
   "execution_count": 7,
   "metadata": {},
   "outputs": [
    {
     "name": "stdout",
     "output_type": "stream",
     "text": [
      "(10578, 4)\n"
     ]
    },
    {
     "data": {
      "text/html": [
       "<div><style>\n",
       ".dataframe > thead > tr,\n",
       ".dataframe > tbody > tr {\n",
       "  text-align: right;\n",
       "  white-space: pre-wrap;\n",
       "}\n",
       "</style>\n",
       "<small>shape: (5, 4)</small><table border=\"1\" class=\"dataframe\"><thead><tr><th>title</th><th>channelTitle</th><th>contentType</th><th>contentTypePred</th></tr><tr><td>str</td><td>str</td><td>str</td><td>str</td></tr></thead><tbody><tr><td>&quot;Make Fractal Art With Python!&quot;</td><td>&quot;Tech With Tim&quot;</td><td>&quot;Programming&quot;</td><td>&quot;Programming&quot;</td></tr><tr><td>&quot;The EU Will Break Apple.&quot;</td><td>&quot;TechLinked&quot;</td><td>&quot;Tech&quot;</td><td>&quot;Tech&quot;</td></tr><tr><td>&quot;Makefiles in Python For Professional Automation&quot;</td><td>&quot;NeuralNine&quot;</td><td>&quot;Programming&quot;</td><td>&quot;Programming&quot;</td></tr><tr><td>&quot;BAMBOO is the real GOLD of INDIA ! 🇮🇳&quot;</td><td>&quot;Aevy TV&quot;</td><td>&quot;Pseudo Education&quot;</td><td>&quot;Reaction&quot;</td></tr><tr><td>&quot;JSON Schema Validation in Python: Bring Structure…</td><td>&quot;NeuralNine&quot;</td><td>&quot;Programming&quot;</td><td>&quot;Programming&quot;</td></tr></tbody></table></div>"
      ],
      "text/plain": [
       "shape: (5, 4)\n",
       "┌─────────────────────────────────────────┬───────────────┬──────────────────┬─────────────────┐\n",
       "│ title                                   ┆ channelTitle  ┆ contentType      ┆ contentTypePred │\n",
       "│ ---                                     ┆ ---           ┆ ---              ┆ ---             │\n",
       "│ str                                     ┆ str           ┆ str              ┆ str             │\n",
       "╞═════════════════════════════════════════╪═══════════════╪══════════════════╪═════════════════╡\n",
       "│ Make Fractal Art With Python!           ┆ Tech With Tim ┆ Programming      ┆ Programming     │\n",
       "│ The EU Will Break Apple.                ┆ TechLinked    ┆ Tech             ┆ Tech            │\n",
       "│ Makefiles in Python For Professional    ┆ NeuralNine    ┆ Programming      ┆ Programming     │\n",
       "│ Automation                              ┆               ┆                  ┆                 │\n",
       "│ BAMBOO is the real GOLD of INDIA ! 🇮🇳   ┆ Aevy TV       ┆ Pseudo Education ┆ Reaction        │\n",
       "│ JSON Schema Validation in Python: Bring ┆ NeuralNine    ┆ Programming      ┆ Programming     │\n",
       "│ Structure …                             ┆               ┆                  ┆                 │\n",
       "└─────────────────────────────────────────┴───────────────┴──────────────────┴─────────────────┘"
      ]
     },
     "execution_count": 7,
     "metadata": {},
     "output_type": "execute_result"
    }
   ],
   "source": [
    "pred_df = ctt.predict()\n",
    "print(pred_df.shape)\n",
    "pred_df.head()"
   ]
  },
  {
   "cell_type": "markdown",
   "metadata": {},
   "source": [
    "### ValueCount of actual and predicted contentType"
   ]
  },
  {
   "cell_type": "code",
   "execution_count": 8,
   "metadata": {},
   "outputs": [
    {
     "data": {
      "text/html": [
       "<div><style>\n",
       ".dataframe > thead > tr,\n",
       ".dataframe > tbody > tr {\n",
       "  text-align: right;\n",
       "  white-space: pre-wrap;\n",
       "}\n",
       "</style>\n",
       "<small>shape: (11, 3)</small><table border=\"1\" class=\"dataframe\"><thead><tr><th>contentType</th><th>count</th><th>countPred</th></tr><tr><td>str</td><td>u32</td><td>u32</td></tr></thead><tbody><tr><td>&quot;Programming&quot;</td><td>2337</td><td>1958</td></tr><tr><td>&quot;Movies &amp; Reviews&quot;</td><td>2112</td><td>1924</td></tr><tr><td>&quot;News&quot;</td><td>2407</td><td>1868</td></tr><tr><td>&quot;Pseudo Education&quot;</td><td>1291</td><td>1363</td></tr><tr><td>&quot;Tech&quot;</td><td>333</td><td>817</td></tr><tr><td>&quot;Education&quot;</td><td>298</td><td>590</td></tr><tr><td>&quot;Entertainment&quot;</td><td>711</td><td>554</td></tr><tr><td>&quot;Reaction&quot;</td><td>428</td><td>510</td></tr><tr><td>&quot;Music&quot;</td><td>202</td><td>410</td></tr><tr><td>&quot;Vlogs&quot;</td><td>266</td><td>319</td></tr><tr><td>&quot;Shorts&quot;</td><td>193</td><td>265</td></tr></tbody></table></div>"
      ],
      "text/plain": [
       "shape: (11, 3)\n",
       "┌──────────────────┬───────┬───────────┐\n",
       "│ contentType      ┆ count ┆ countPred │\n",
       "│ ---              ┆ ---   ┆ ---       │\n",
       "│ str              ┆ u32   ┆ u32       │\n",
       "╞══════════════════╪═══════╪═══════════╡\n",
       "│ Programming      ┆ 2337  ┆ 1958      │\n",
       "│ Movies & Reviews ┆ 2112  ┆ 1924      │\n",
       "│ News             ┆ 2407  ┆ 1868      │\n",
       "│ Pseudo Education ┆ 1291  ┆ 1363      │\n",
       "│ …                ┆ …     ┆ …         │\n",
       "│ Reaction         ┆ 428   ┆ 510       │\n",
       "│ Music            ┆ 202   ┆ 410       │\n",
       "│ Vlogs            ┆ 266   ┆ 319       │\n",
       "│ Shorts           ┆ 193   ┆ 265       │\n",
       "└──────────────────┴───────┴───────────┘"
      ]
     },
     "execution_count": 8,
     "metadata": {},
     "output_type": "execute_result"
    }
   ],
   "source": [
    "ctt.df[\"contentType\"].value_counts().sort(\"contentType\").join(\n",
    "    pred_df[\"contentTypePred\"].value_counts(),\n",
    "    left_on=\"contentType\",\n",
    "    right_on=\"contentTypePred\",\n",
    "    suffix=\"Pred\",\n",
    ").sort(\"countPred\", descending=True)"
   ]
  },
  {
   "cell_type": "code",
   "execution_count": 9,
   "metadata": {},
   "outputs": [
    {
     "data": {
      "text/html": [
       "<div><style>\n",
       ".dataframe > thead > tr,\n",
       ".dataframe > tbody > tr {\n",
       "  text-align: right;\n",
       "  white-space: pre-wrap;\n",
       "}\n",
       "</style>\n",
       "<small>shape: (10, 3)</small><table border=\"1\" class=\"dataframe\"><thead><tr><th>channelTitle</th><th>contentTypePred</th><th>count</th></tr><tr><td>str</td><td>str</td><td>u32</td></tr></thead><tbody><tr><td>&quot;ComicVerse&quot;</td><td>&quot;Movies &amp; Reviews&quot;</td><td>109</td></tr><tr><td>&quot;ComicVerse&quot;</td><td>&quot;Entertainment&quot;</td><td>8</td></tr><tr><td>&quot;ComicVerse&quot;</td><td>&quot;Tech&quot;</td><td>7</td></tr><tr><td>&quot;ComicVerse&quot;</td><td>&quot;Pseudo Education&quot;</td><td>5</td></tr><tr><td>&quot;ComicVerse&quot;</td><td>&quot;Vlogs&quot;</td><td>3</td></tr><tr><td>&quot;ComicVerse&quot;</td><td>&quot;News&quot;</td><td>3</td></tr><tr><td>&quot;ComicVerse&quot;</td><td>&quot;Education&quot;</td><td>3</td></tr><tr><td>&quot;ComicVerse&quot;</td><td>&quot;Shorts&quot;</td><td>2</td></tr><tr><td>&quot;ComicVerse&quot;</td><td>&quot;Music&quot;</td><td>1</td></tr><tr><td>&quot;ComicVerse&quot;</td><td>&quot;Reaction&quot;</td><td>1</td></tr></tbody></table></div>"
      ],
      "text/plain": [
       "shape: (10, 3)\n",
       "┌──────────────┬──────────────────┬───────┐\n",
       "│ channelTitle ┆ contentTypePred  ┆ count │\n",
       "│ ---          ┆ ---              ┆ ---   │\n",
       "│ str          ┆ str              ┆ u32   │\n",
       "╞══════════════╪══════════════════╪═══════╡\n",
       "│ ComicVerse   ┆ Movies & Reviews ┆ 109   │\n",
       "│ ComicVerse   ┆ Entertainment    ┆ 8     │\n",
       "│ ComicVerse   ┆ Tech             ┆ 7     │\n",
       "│ ComicVerse   ┆ Pseudo Education ┆ 5     │\n",
       "│ …            ┆ …                ┆ …     │\n",
       "│ ComicVerse   ┆ Education        ┆ 3     │\n",
       "│ ComicVerse   ┆ Shorts           ┆ 2     │\n",
       "│ ComicVerse   ┆ Music            ┆ 1     │\n",
       "│ ComicVerse   ┆ Reaction         ┆ 1     │\n",
       "└──────────────┴──────────────────┴───────┘"
      ]
     },
     "execution_count": 9,
     "metadata": {},
     "output_type": "execute_result"
    }
   ],
   "source": [
    "# Get corresponding prediction with channelTitle\n",
    "pred_df.group_by(\"channelTitle\", \"contentTypePred\").count().filter(\n",
    "    pl.col(\"channelTitle\").str.contains(r\"(?i)comic\"),\n",
    ").sort(\"count\", descending=True)"
   ]
  },
  {
   "cell_type": "code",
   "execution_count": 10,
   "metadata": {},
   "outputs": [
    {
     "data": {
      "text/html": [
       "<div><style>\n",
       ".dataframe > thead > tr,\n",
       ".dataframe > tbody > tr {\n",
       "  text-align: right;\n",
       "  white-space: pre-wrap;\n",
       "}\n",
       "</style>\n",
       "<small>shape: (7, 4)</small><table border=\"1\" class=\"dataframe\"><thead><tr><th>title</th><th>channelTitle</th><th>contentType</th><th>contentTypePred</th></tr><tr><td>str</td><td>str</td><td>str</td><td>str</td></tr></thead><tbody><tr><td>&quot;Sabse Best Batman Jo Apne Nahi Dekha!&quot;</td><td>&quot;ComicVerse&quot;</td><td>&quot;Movies &amp; Reviews&quot;</td><td>&quot;Tech&quot;</td></tr><tr><td>&quot;Black Adam Was Hiding This From us!&quot;</td><td>&quot;ComicVerse&quot;</td><td>&quot;Movies &amp; Reviews&quot;</td><td>&quot;Tech&quot;</td></tr><tr><td>&quot;Ekdum Tatti! - Best &amp; Worst of 2022&quot;</td><td>&quot;ComicVerse&quot;</td><td>&quot;Movies &amp; Reviews&quot;</td><td>&quot;Tech&quot;</td></tr><tr><td>&quot;Please! Ise Miss Mat Karna - Watch This Before Th…</td><td>&quot;ComicVerse&quot;</td><td>&quot;Movies &amp; Reviews&quot;</td><td>&quot;Tech&quot;</td></tr><tr><td>&quot;Dharam Ya Karam Kise Chunoge? - Under The Banner …</td><td>&quot;ComicVerse&quot;</td><td>&quot;Movies &amp; Reviews&quot;</td><td>&quot;Tech&quot;</td></tr><tr><td>&quot;This is The Saddest Part of Revenge😔&quot;</td><td>&quot;ComicVerse&quot;</td><td>&quot;Movies &amp; Reviews&quot;</td><td>&quot;Tech&quot;</td></tr><tr><td>&quot;Loki Season 1 Recap, Watch This Before Season 2!&quot;</td><td>&quot;ComicVerse&quot;</td><td>&quot;Movies &amp; Reviews&quot;</td><td>&quot;Tech&quot;</td></tr></tbody></table></div>"
      ],
      "text/plain": [
       "shape: (7, 4)\n",
       "┌───────────────────────────────────────────┬──────────────┬──────────────────┬─────────────────┐\n",
       "│ title                                     ┆ channelTitle ┆ contentType      ┆ contentTypePred │\n",
       "│ ---                                       ┆ ---          ┆ ---              ┆ ---             │\n",
       "│ str                                       ┆ str          ┆ str              ┆ str             │\n",
       "╞═══════════════════════════════════════════╪══════════════╪══════════════════╪═════════════════╡\n",
       "│ Sabse Best Batman Jo Apne Nahi Dekha!     ┆ ComicVerse   ┆ Movies & Reviews ┆ Tech            │\n",
       "│ Black Adam Was Hiding This From us!       ┆ ComicVerse   ┆ Movies & Reviews ┆ Tech            │\n",
       "│ Ekdum Tatti! - Best & Worst of 2022       ┆ ComicVerse   ┆ Movies & Reviews ┆ Tech            │\n",
       "│ Please! Ise Miss Mat Karna - Watch This   ┆ ComicVerse   ┆ Movies & Reviews ┆ Tech            │\n",
       "│ Before The…                               ┆              ┆                  ┆                 │\n",
       "│ Dharam Ya Karam Kise Chunoge? - Under The ┆ ComicVerse   ┆ Movies & Reviews ┆ Tech            │\n",
       "│ Banner o…                                 ┆              ┆                  ┆                 │\n",
       "│ This is The Saddest Part of Revenge😔     ┆ ComicVerse   ┆ Movies & Reviews ┆ Tech            │\n",
       "│ Loki Season 1 Recap, Watch This Before    ┆ ComicVerse   ┆ Movies & Reviews ┆ Tech            │\n",
       "│ Season 2!                                 ┆              ┆                  ┆                 │\n",
       "└───────────────────────────────────────────┴──────────────┴──────────────────┴─────────────────┘"
      ]
     },
     "execution_count": 10,
     "metadata": {},
     "output_type": "execute_result"
    }
   ],
   "source": [
    "pred_df.filter(\n",
    "    pl.col(\"channelTitle\").str.contains(r\"(?i)comic\"),\n",
    "    pl.col(\"contentTypePred\").str.contains(r\"(?i)tech\"),\n",
    ")"
   ]
  },
  {
   "cell_type": "markdown",
   "metadata": {},
   "source": [
    "## Calculate the `mode` **contentType** of a channel"
   ]
  },
  {
   "cell_type": "code",
   "execution_count": 11,
   "metadata": {},
   "outputs": [
    {
     "data": {
      "text/html": [
       "<div><style>\n",
       ".dataframe > thead > tr,\n",
       ".dataframe > tbody > tr {\n",
       "  text-align: right;\n",
       "  white-space: pre-wrap;\n",
       "}\n",
       "</style>\n",
       "<small>shape: (5, 2)</small><table border=\"1\" class=\"dataframe\"><thead><tr><th>channelTitle</th><th>contentTypePredMode</th></tr><tr><td>str</td><td>str</td></tr></thead><tbody><tr><td>&quot;Krish Naik&quot;</td><td>&quot;Programming&quot;</td></tr><tr><td>&quot;TechLinked&quot;</td><td>&quot;Tech&quot;</td></tr><tr><td>&quot;PJ Explained&quot;</td><td>&quot;Movies &amp; Reviews&quot;</td></tr><tr><td>&quot;Colors&quot;</td><td>&quot;Entertainment&quot;</td></tr><tr><td>&quot;Dhruv Rathee&quot;</td><td>&quot;Pseudo Education&quot;</td></tr></tbody></table></div>"
      ],
      "text/plain": [
       "shape: (5, 2)\n",
       "┌──────────────┬─────────────────────┐\n",
       "│ channelTitle ┆ contentTypePredMode │\n",
       "│ ---          ┆ ---                 │\n",
       "│ str          ┆ str                 │\n",
       "╞══════════════╪═════════════════════╡\n",
       "│ Krish Naik   ┆ Programming         │\n",
       "│ TechLinked   ┆ Tech                │\n",
       "│ PJ Explained ┆ Movies & Reviews    │\n",
       "│ Colors       ┆ Entertainment       │\n",
       "│ Dhruv Rathee ┆ Pseudo Education    │\n",
       "└──────────────┴─────────────────────┘"
      ]
     },
     "execution_count": 11,
     "metadata": {},
     "output_type": "execute_result"
    }
   ],
   "source": [
    "mode_ctt = (\n",
    "    pred_df.group_by(\"channelTitle\")\n",
    "    .agg(pl.col(\"contentTypePred\").mode())\n",
    "    .with_columns(\n",
    "        pl.col(\"contentTypePred\").list.get(0).alias(\"contentTypePredMode\"),\n",
    "    )\n",
    "    .drop(\"contentTypePred\")\n",
    ")\n",
    "mode_ctt.head()"
   ]
  },
  {
   "cell_type": "code",
   "execution_count": 12,
   "metadata": {},
   "outputs": [
    {
     "name": "stdout",
     "output_type": "stream",
     "text": [
      "Total rows in pred_df = 10,578\n"
     ]
    },
    {
     "data": {
      "text/html": [
       "<div><style>\n",
       ".dataframe > thead > tr,\n",
       ".dataframe > tbody > tr {\n",
       "  text-align: right;\n",
       "  white-space: pre-wrap;\n",
       "}\n",
       "</style>\n",
       "<small>shape: (10_064, 5)</small><table border=\"1\" class=\"dataframe\"><thead><tr><th>title</th><th>channelTitle</th><th>contentType</th><th>contentTypePred</th><th>contentTypePredMode</th></tr><tr><td>str</td><td>str</td><td>str</td><td>str</td><td>str</td></tr></thead><tbody><tr><td>&quot;Make Fractal Art With Python!&quot;</td><td>&quot;Tech With Tim&quot;</td><td>&quot;Programming&quot;</td><td>&quot;Programming&quot;</td><td>&quot;Programming&quot;</td></tr><tr><td>&quot;The EU Will Break Apple.&quot;</td><td>&quot;TechLinked&quot;</td><td>&quot;Tech&quot;</td><td>&quot;Tech&quot;</td><td>&quot;Tech&quot;</td></tr><tr><td>&quot;Makefiles in Python For Professional Automation&quot;</td><td>&quot;NeuralNine&quot;</td><td>&quot;Programming&quot;</td><td>&quot;Programming&quot;</td><td>&quot;Programming&quot;</td></tr><tr><td>&quot;BAMBOO is the real GOLD of INDIA ! 🇮🇳&quot;</td><td>&quot;Aevy TV&quot;</td><td>&quot;Pseudo Education&quot;</td><td>&quot;Reaction&quot;</td><td>&quot;Pseudo Education&quot;</td></tr><tr><td>&quot;JSON Schema Validation in Python: Bring Structure…</td><td>&quot;NeuralNine&quot;</td><td>&quot;Programming&quot;</td><td>&quot;Programming&quot;</td><td>&quot;Programming&quot;</td></tr><tr><td>&quot;Why I Switched To Linux! And How It&#x27;s Going...&quot;</td><td>&quot;NeuralNine&quot;</td><td>&quot;Programming&quot;</td><td>&quot;Tech&quot;</td><td>&quot;Programming&quot;</td></tr><tr><td>&quot;Ye nahi bolna tha!! | Sunday Show!&quot;</td><td>&quot;Sarthak Goswami&quot;</td><td>&quot;News&quot;</td><td>&quot;News&quot;</td><td>&quot;News&quot;</td></tr><tr><td>&quot;Text Classification | NLP Lecture 6 | End to End …</td><td>&quot;CampusX&quot;</td><td>&quot;Programming&quot;</td><td>&quot;Programming&quot;</td><td>&quot;Programming&quot;</td></tr><tr><td>&quot;How To Structure A Programming Project…&quot;</td><td>&quot;Tech With Tim&quot;</td><td>&quot;Programming&quot;</td><td>&quot;Education&quot;</td><td>&quot;Programming&quot;</td></tr><tr><td>&quot;DeepFakes: When Fake Is Real &amp; REAL Is FAKE!&quot;</td><td>&quot;Sarthak Goswami&quot;</td><td>&quot;News&quot;</td><td>&quot;Pseudo Education&quot;</td><td>&quot;News&quot;</td></tr><tr><td>&quot;We Gotta Talk About This&quot;</td><td>&quot;TechLinked&quot;</td><td>&quot;Tech&quot;</td><td>&quot;Tech&quot;</td><td>&quot;Tech&quot;</td></tr><tr><td>&quot;Graduate Admission Prediction using ANN&quot;</td><td>&quot;CampusX&quot;</td><td>&quot;Programming&quot;</td><td>&quot;Programming&quot;</td><td>&quot;Programming&quot;</td></tr><tr><td>&hellip;</td><td>&hellip;</td><td>&hellip;</td><td>&hellip;</td><td>&hellip;</td></tr><tr><td>&quot;INDIAN MEME AWARDS 2019 🏆&quot;</td><td>&quot;Saiman Says&quot;</td><td>&quot;Entertainment&quot;</td><td>&quot;Reaction&quot;</td><td>&quot;Entertainment&quot;</td></tr><tr><td>&quot;Python Tutorial For Beginners In Hindi (With Note…</td><td>&quot;CodeWithHarry&quot;</td><td>&quot;Programming&quot;</td><td>&quot;Programming&quot;</td><td>&quot;Programming&quot;</td></tr><tr><td>&quot;@learnandfunclass11science  Class 11 Chemistry Ch…</td><td>&quot;Doubtnut Learn and Fun Class 12&quot;</td><td>&quot;Education&quot;</td><td>&quot;Education&quot;</td><td>&quot;Education&quot;</td></tr><tr><td>&quot;Qaafirana | Kedarnath | Sushant Rajput | Sara Ali…</td><td>&quot;Zee Music Company&quot;</td><td>&quot;Music&quot;</td><td>&quot;Music&quot;</td><td>&quot;Music&quot;</td></tr><tr><td>&quot;Biral Bideo - ग़ुब्बारों की कुश्ती- WWE - किसी एक…</td><td>&quot;Shorts Motivation&quot;</td><td>&quot;Shorts&quot;</td><td>&quot;Shorts&quot;</td><td>&quot;Shorts&quot;</td></tr><tr><td>&quot;DUBAI VLOG ft. @TechnicalGuruji ???&quot;</td><td>&quot;Saiman Says&quot;</td><td>&quot;Entertainment&quot;</td><td>&quot;Reaction&quot;</td><td>&quot;Entertainment&quot;</td></tr><tr><td>&quot;I GOT ROASTED by Reddit&quot;</td><td>&quot;Saiman Says&quot;</td><td>&quot;Entertainment&quot;</td><td>&quot;Entertainment&quot;</td><td>&quot;Entertainment&quot;</td></tr><tr><td>&quot;INDIA&#x27;S FUNNIEST TV SHOW&quot;</td><td>&quot;Tanmay Bhat&quot;</td><td>&quot;Reaction&quot;</td><td>&quot;Reaction&quot;</td><td>&quot;Reaction&quot;</td></tr><tr><td>&quot;China Launches 11 Ballistic Missiles Towards Taiw…</td><td>&quot;World Affairs by Unacademy&quot;</td><td>&quot;News&quot;</td><td>&quot;News&quot;</td><td>&quot;News&quot;</td></tr><tr><td>&quot;how to use phrase #shorts #short #ashortaday #eng…</td><td>&quot;Doubtnut Learn and Fun Class 12&quot;</td><td>&quot;Education&quot;</td><td>&quot;Education&quot;</td><td>&quot;Education&quot;</td></tr><tr><td>&quot;JEE Main 3rd Attempt | Supreme Court Official Dec…</td><td>&quot;Padhle JEE&quot;</td><td>&quot;Education&quot;</td><td>&quot;Education&quot;</td><td>&quot;Education&quot;</td></tr><tr><td>&quot;aisi story kahi nahi dekhi hogi | YOUR NAME revie…</td><td>&quot;BnfTV&quot;</td><td>&quot;Movies &amp; Reviews&quot;</td><td>&quot;Education&quot;</td><td>&quot;Movies &amp; Reviews&quot;</td></tr></tbody></table></div>"
      ],
      "text/plain": [
       "shape: (10_064, 5)\n",
       "┌────────────────────┬────────────────────┬──────────────────┬─────────────────┬───────────────────┐\n",
       "│ title              ┆ channelTitle       ┆ contentType      ┆ contentTypePred ┆ contentTypePredMo │\n",
       "│ ---                ┆ ---                ┆ ---              ┆ ---             ┆ de                │\n",
       "│ str                ┆ str                ┆ str              ┆ str             ┆ ---               │\n",
       "│                    ┆                    ┆                  ┆                 ┆ str               │\n",
       "╞════════════════════╪════════════════════╪══════════════════╪═════════════════╪═══════════════════╡\n",
       "│ Make Fractal Art   ┆ Tech With Tim      ┆ Programming      ┆ Programming     ┆ Programming       │\n",
       "│ With Python!       ┆                    ┆                  ┆                 ┆                   │\n",
       "│ The EU Will Break  ┆ TechLinked         ┆ Tech             ┆ Tech            ┆ Tech              │\n",
       "│ Apple.             ┆                    ┆                  ┆                 ┆                   │\n",
       "│ Makefiles in       ┆ NeuralNine         ┆ Programming      ┆ Programming     ┆ Programming       │\n",
       "│ Python For         ┆                    ┆                  ┆                 ┆                   │\n",
       "│ Professional       ┆                    ┆                  ┆                 ┆                   │\n",
       "│ Automation         ┆                    ┆                  ┆                 ┆                   │\n",
       "│ BAMBOO is the real ┆ Aevy TV            ┆ Pseudo Education ┆ Reaction        ┆ Pseudo Education  │\n",
       "│ GOLD of INDIA ! 🇮🇳 ┆                    ┆                  ┆                 ┆                   │\n",
       "│ …                  ┆ …                  ┆ …                ┆ …               ┆ …                 │\n",
       "│ China Launches 11  ┆ World Affairs by   ┆ News             ┆ News            ┆ News              │\n",
       "│ Ballistic Missiles ┆ Unacademy          ┆                  ┆                 ┆                   │\n",
       "│ Towards Taiwa…     ┆                    ┆                  ┆                 ┆                   │\n",
       "│ how to use phrase  ┆ Doubtnut Learn and ┆ Education        ┆ Education       ┆ Education         │\n",
       "│ #shorts #short     ┆ Fun Class 12       ┆                  ┆                 ┆                   │\n",
       "│ #ashortaday #engl… ┆                    ┆                  ┆                 ┆                   │\n",
       "│ JEE Main 3rd       ┆ Padhle JEE         ┆ Education        ┆ Education       ┆ Education         │\n",
       "│ Attempt | Supreme  ┆                    ┆                  ┆                 ┆                   │\n",
       "│ Court Official     ┆                    ┆                  ┆                 ┆                   │\n",
       "│ Deci…              ┆                    ┆                  ┆                 ┆                   │\n",
       "│ aisi story kahi    ┆ BnfTV              ┆ Movies & Reviews ┆ Education       ┆ Movies & Reviews  │\n",
       "│ nahi dekhi hogi |  ┆                    ┆                  ┆                 ┆                   │\n",
       "│ YOUR NAME review…  ┆                    ┆                  ┆                 ┆                   │\n",
       "└────────────────────┴────────────────────┴──────────────────┴─────────────────┴───────────────────┘"
      ]
     },
     "execution_count": 12,
     "metadata": {},
     "output_type": "execute_result"
    }
   ],
   "source": [
    "print(f\"Total rows in pred_df = {pred_df.height:,}\")\n",
    "(\n",
    "    pred_df.join(mode_ctt, on=\"channelTitle\").filter(\n",
    "        # pl.col(\"contentTypePred\").ne(pl.col(\"contentTypePredMode\")),  # Pred != PredMode\n",
    "        # pl.col(\"contentType\").ne(pl.col(\"contentTypePredMode\")),  # Actual != Pred\n",
    "        pl.col(\"contentType\").eq(pl.col(\"contentTypePredMode\")),  # Actual == PredMode\n",
    "    )\n",
    ")"
   ]
  },
  {
   "cell_type": "markdown",
   "metadata": {},
   "source": [
    "### Which are those channels whose (prediction mode != actual contentType)"
   ]
  },
  {
   "cell_type": "code",
   "execution_count": 13,
   "metadata": {},
   "outputs": [
    {
     "data": {
      "text/html": [
       "<div><style>\n",
       ".dataframe > thead > tr,\n",
       ".dataframe > tbody > tr {\n",
       "  text-align: right;\n",
       "  white-space: pre-wrap;\n",
       "}\n",
       "</style>\n",
       "<small>shape: (23, 1)</small><table border=\"1\" class=\"dataframe\"><thead><tr><th>channelTitle</th></tr><tr><td>str</td></tr></thead><tbody><tr><td>&quot;100x Engineers&quot;</td></tr><tr><td>&quot;The Quint&quot;</td></tr><tr><td>&quot;Naveensingh_05&quot;</td></tr><tr><td>&quot;Labour Law Advisor&quot;</td></tr><tr><td>&quot;YOGI BABA PRODUCTIONS&quot;</td></tr><tr><td>&quot;Ankit Inspires India&quot;</td></tr><tr><td>&quot;Baaten Bazar Ki (BBK)&quot;</td></tr><tr><td>&quot;Finance Wallah&quot;</td></tr><tr><td>&quot;Ishan Sharma&quot;</td></tr><tr><td>&quot;Goldmines Bollywood&quot;</td></tr><tr><td>&quot;Lallantop Cinema&quot;</td></tr><tr><td>&quot;Satish Ray&quot;</td></tr><tr><td>&quot;Slayy Point&quot;</td></tr><tr><td>&quot;Gareeb Scientist&quot;</td></tr><tr><td>&quot;Prime Video India&quot;</td></tr><tr><td>&quot;eSaral - JEE, NEET, Class 9 &amp; 10 Preparation&quot;</td></tr><tr><td>&quot;wifistudy 2.0 by Unacademy&quot;</td></tr><tr><td>&quot;BBC News Hindi&quot;</td></tr><tr><td>&quot;thePJ&quot;</td></tr><tr><td>&quot;Lex Clips&quot;</td></tr><tr><td>&quot;Logically Answered&quot;</td></tr><tr><td>&quot;Goldmines&quot;</td></tr><tr><td>&quot;Warner Bros. Pictures&quot;</td></tr></tbody></table></div>"
      ],
      "text/plain": [
       "shape: (23, 1)\n",
       "┌───────────────────────┐\n",
       "│ channelTitle          │\n",
       "│ ---                   │\n",
       "│ str                   │\n",
       "╞═══════════════════════╡\n",
       "│ 100x Engineers        │\n",
       "│ The Quint             │\n",
       "│ Naveensingh_05        │\n",
       "│ Labour Law Advisor    │\n",
       "│ …                     │\n",
       "│ Lex Clips             │\n",
       "│ Logically Answered    │\n",
       "│ Goldmines             │\n",
       "│ Warner Bros. Pictures │\n",
       "└───────────────────────┘"
      ]
     },
     "execution_count": 13,
     "metadata": {},
     "output_type": "execute_result"
    }
   ],
   "source": [
    "(\n",
    "    pred_df.join(mode_ctt, on=\"channelTitle\")\n",
    "    .filter(\n",
    "        pl.col(\"contentType\").ne(pl.col(\"contentTypePredMode\")),\n",
    "    )\n",
    "    .select(pl.col(\"channelTitle\").unique())\n",
    ")"
   ]
  },
  {
   "cell_type": "code",
   "execution_count": null,
   "metadata": {},
   "outputs": [],
   "source": []
  }
 ],
 "metadata": {
  "kernelspec": {
   "display_name": "Python 3",
   "language": "python",
   "name": "python3"
  },
  "language_info": {
   "codemirror_mode": {
    "name": "ipython",
    "version": 3
   },
   "file_extension": ".py",
   "mimetype": "text/x-python",
   "name": "python",
   "nbconvert_exporter": "python",
   "pygments_lexer": "ipython3",
   "version": "3.11.0"
  }
 },
 "nbformat": 4,
 "nbformat_minor": 2
}
