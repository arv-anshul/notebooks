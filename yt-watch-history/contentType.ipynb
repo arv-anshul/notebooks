{
 "cells": [
  {
   "cell_type": "code",
   "execution_count": 1,
   "metadata": {},
   "outputs": [],
   "source": [
    "import string\n",
    "import warnings\n",
    "\n",
    "import pandas as pd\n",
    "import polars as pl\n",
    "import seaborn as sns\n",
    "from matplotlib import pyplot as plt\n",
    "from nltk.stem import PorterStemmer\n",
    "from sklearn.calibration import LabelEncoder\n",
    "from sklearn.feature_extraction.text import TfidfVectorizer\n",
    "from sklearn.metrics import accuracy_score, confusion_matrix\n",
    "from sklearn.model_selection import train_test_split\n",
    "from sklearn.naive_bayes import MultinomialNB"
   ]
  },
  {
   "cell_type": "code",
   "execution_count": 2,
   "metadata": {},
   "outputs": [],
   "source": [
    "warnings.filterwarnings(\"ignore\")"
   ]
  },
  {
   "cell_type": "markdown",
   "metadata": {},
   "source": [
    "## Import `Watch History` Dataset"
   ]
  },
  {
   "cell_type": "code",
   "execution_count": 3,
   "metadata": {},
   "outputs": [],
   "source": [
    "from frontend.youtube import IngestYtHistory"
   ]
  },
  {
   "cell_type": "code",
   "execution_count": 4,
   "metadata": {},
   "outputs": [
    {
     "name": "stdout",
     "output_type": "stream",
     "text": [
      "(14792, 3)\n"
     ]
    },
    {
     "data": {
      "text/html": [
       "<div>\n",
       "<style scoped>\n",
       "    .dataframe tbody tr th:only-of-type {\n",
       "        vertical-align: middle;\n",
       "    }\n",
       "\n",
       "    .dataframe tbody tr th {\n",
       "        vertical-align: top;\n",
       "    }\n",
       "\n",
       "    .dataframe thead th {\n",
       "        text-align: right;\n",
       "    }\n",
       "</style>\n",
       "<table border=\"1\" class=\"dataframe\">\n",
       "  <thead>\n",
       "    <tr style=\"text-align: right;\">\n",
       "      <th></th>\n",
       "      <th>title</th>\n",
       "      <th>channelTitle</th>\n",
       "      <th>id</th>\n",
       "    </tr>\n",
       "  </thead>\n",
       "  <tbody>\n",
       "    <tr>\n",
       "      <th>0</th>\n",
       "      <td>Arrow Function: Think Backwards</td>\n",
       "      <td>Visual Studio Code</td>\n",
       "      <td>4dgSwnKtVLo</td>\n",
       "    </tr>\n",
       "    <tr>\n",
       "      <th>1</th>\n",
       "      <td>python 3.12 release highlights (beginner - adv...</td>\n",
       "      <td>anthonywritescode</td>\n",
       "      <td>IV8OZY4194U</td>\n",
       "    </tr>\n",
       "    <tr>\n",
       "      <th>2</th>\n",
       "      <td>Australia's economy is WEIRD | Australia Econo...</td>\n",
       "      <td>Abhi and Niyu</td>\n",
       "      <td>4uM7RIfMLK4</td>\n",
       "    </tr>\n",
       "    <tr>\n",
       "      <th>3</th>\n",
       "      <td>Will India Change its Name to Bharat Permanently?</td>\n",
       "      <td>Dekho Isko</td>\n",
       "      <td>uWLooUi8in0</td>\n",
       "    </tr>\n",
       "    <tr>\n",
       "      <th>4</th>\n",
       "      <td>3 Amazing Indian Movies In 2023 That Deserve M...</td>\n",
       "      <td>Tried&amp;Refused Productions.</td>\n",
       "      <td>diajsqMk-mo</td>\n",
       "    </tr>\n",
       "  </tbody>\n",
       "</table>\n",
       "</div>"
      ],
      "text/plain": [
       "                                               title  \\\n",
       "0                    Arrow Function: Think Backwards   \n",
       "1  python 3.12 release highlights (beginner - adv...   \n",
       "2  Australia's economy is WEIRD | Australia Econo...   \n",
       "3  Will India Change its Name to Bharat Permanently?   \n",
       "4  3 Amazing Indian Movies In 2023 That Deserve M...   \n",
       "\n",
       "                 channelTitle           id  \n",
       "0          Visual Studio Code  4dgSwnKtVLo  \n",
       "1           anthonywritescode  IV8OZY4194U  \n",
       "2               Abhi and Niyu  4uM7RIfMLK4  \n",
       "3                  Dekho Isko  uWLooUi8in0  \n",
       "4  Tried&Refused Productions.  diajsqMk-mo  "
      ]
     },
     "execution_count": 4,
     "metadata": {},
     "output_type": "execute_result"
    }
   ],
   "source": [
    "df = pd.concat(\n",
    "    [\n",
    "        pd.read_json(\"data/allVideoDetails.json\")[[\"title\", \"channelTitle\", \"id\"]],\n",
    "        IngestYtHistory(\"data/raw/itsarv.json\")\n",
    "        .initiate()\n",
    "        .select(\"title\", \"channelTitle\", pl.col(\"videoId\").alias(\"id\"))\n",
    "        .to_pandas(),\n",
    "        IngestYtHistory(\"data/raw/arv-anshul.json\")\n",
    "        .initiate()\n",
    "        .select(\"title\", \"channelTitle\", pl.col(\"videoId\").alias(\"id\"))\n",
    "        .to_pandas(),\n",
    "    ]\n",
    ").drop_duplicates(\"id\")\n",
    "print(df.shape)\n",
    "df.head()"
   ]
  },
  {
   "cell_type": "markdown",
   "metadata": {},
   "source": [
    "## Import `Content-Type` Mapping Dataset"
   ]
  },
  {
   "cell_type": "code",
   "execution_count": 5,
   "metadata": {},
   "outputs": [
    {
     "data": {
      "text/plain": [
       "contentType\n",
       "Programming         52\n",
       "Movies & Reviews    37\n",
       "Entertainment       35\n",
       "News                27\n",
       "Pseudo Education    14\n",
       "Education           14\n",
       "Music               13\n",
       "Shorts              12\n",
       "Tech                12\n",
       "Vlogs               10\n",
       "Reaction            10\n",
       "Infotainment         8\n",
       "Podcast              5\n",
       "Finance              4\n",
       "Psychology           4\n",
       "                     1\n",
       "Name: count, dtype: int64"
      ]
     },
     "execution_count": 5,
     "metadata": {},
     "output_type": "execute_result"
    }
   ],
   "source": [
    "content_type_map = pd.read_json(\"data/contentTypeTaggedChannelNew.json\")\n",
    "content_type_map[\"contentType\"].value_counts()"
   ]
  },
  {
   "cell_type": "code",
   "execution_count": 6,
   "metadata": {},
   "outputs": [
    {
     "data": {
      "text/html": [
       "<div>\n",
       "<style scoped>\n",
       "    .dataframe tbody tr th:only-of-type {\n",
       "        vertical-align: middle;\n",
       "    }\n",
       "\n",
       "    .dataframe tbody tr th {\n",
       "        vertical-align: top;\n",
       "    }\n",
       "\n",
       "    .dataframe thead th {\n",
       "        text-align: right;\n",
       "    }\n",
       "</style>\n",
       "<table border=\"1\" class=\"dataframe\">\n",
       "  <thead>\n",
       "    <tr style=\"text-align: right;\">\n",
       "      <th></th>\n",
       "      <th>channelTitle</th>\n",
       "      <th>contentType</th>\n",
       "    </tr>\n",
       "  </thead>\n",
       "  <tbody>\n",
       "    <tr>\n",
       "      <th>3</th>\n",
       "      <td>7clouds</td>\n",
       "      <td>Music</td>\n",
       "    </tr>\n",
       "    <tr>\n",
       "      <th>27</th>\n",
       "      <td>BLACKPINK</td>\n",
       "      <td>Music</td>\n",
       "    </tr>\n",
       "    <tr>\n",
       "      <th>68</th>\n",
       "      <td>Eros Now Music</td>\n",
       "      <td>Music</td>\n",
       "    </tr>\n",
       "    <tr>\n",
       "      <th>102</th>\n",
       "      <td>KaanPhod Music</td>\n",
       "      <td>Music</td>\n",
       "    </tr>\n",
       "    <tr>\n",
       "      <th>160</th>\n",
       "      <td>SANGEETARIST</td>\n",
       "      <td>Music</td>\n",
       "    </tr>\n",
       "    <tr>\n",
       "      <th>164</th>\n",
       "      <td>Saregama Music</td>\n",
       "      <td>Music</td>\n",
       "    </tr>\n",
       "    <tr>\n",
       "      <th>170</th>\n",
       "      <td>Shemaroo</td>\n",
       "      <td>Music</td>\n",
       "    </tr>\n",
       "    <tr>\n",
       "      <th>179</th>\n",
       "      <td>Sony Music India</td>\n",
       "      <td>Music</td>\n",
       "    </tr>\n",
       "    <tr>\n",
       "      <th>180</th>\n",
       "      <td>Sony Music South</td>\n",
       "      <td>Music</td>\n",
       "    </tr>\n",
       "    <tr>\n",
       "      <th>187</th>\n",
       "      <td>T-Series</td>\n",
       "      <td>Music</td>\n",
       "    </tr>\n",
       "    <tr>\n",
       "      <th>212</th>\n",
       "      <td>TrapMusicHDTV</td>\n",
       "      <td>Music</td>\n",
       "    </tr>\n",
       "    <tr>\n",
       "      <th>233</th>\n",
       "      <td>Yashraj Mukhate</td>\n",
       "      <td>Music</td>\n",
       "    </tr>\n",
       "    <tr>\n",
       "      <th>234</th>\n",
       "      <td>Zee Music Company</td>\n",
       "      <td>Music</td>\n",
       "    </tr>\n",
       "  </tbody>\n",
       "</table>\n",
       "</div>"
      ],
      "text/plain": [
       "          channelTitle contentType\n",
       "3              7clouds       Music\n",
       "27           BLACKPINK       Music\n",
       "68      Eros Now Music       Music\n",
       "102     KaanPhod Music       Music\n",
       "160       SANGEETARIST       Music\n",
       "164     Saregama Music       Music\n",
       "170           Shemaroo       Music\n",
       "179   Sony Music India       Music\n",
       "180   Sony Music South       Music\n",
       "187           T-Series       Music\n",
       "212      TrapMusicHDTV       Music\n",
       "233    Yashraj Mukhate       Music\n",
       "234  Zee Music Company       Music"
      ]
     },
     "execution_count": 6,
     "metadata": {},
     "output_type": "execute_result"
    }
   ],
   "source": [
    "content_type_map.query('contentType==\"Music\"')"
   ]
  },
  {
   "cell_type": "markdown",
   "metadata": {},
   "source": [
    "## Merge both dataset"
   ]
  },
  {
   "cell_type": "code",
   "execution_count": 7,
   "metadata": {},
   "outputs": [
    {
     "data": {
      "text/html": [
       "<div>\n",
       "<style scoped>\n",
       "    .dataframe tbody tr th:only-of-type {\n",
       "        vertical-align: middle;\n",
       "    }\n",
       "\n",
       "    .dataframe tbody tr th {\n",
       "        vertical-align: top;\n",
       "    }\n",
       "\n",
       "    .dataframe thead th {\n",
       "        text-align: right;\n",
       "    }\n",
       "</style>\n",
       "<table border=\"1\" class=\"dataframe\">\n",
       "  <thead>\n",
       "    <tr style=\"text-align: right;\">\n",
       "      <th></th>\n",
       "      <th>title</th>\n",
       "      <th>channelTitle</th>\n",
       "      <th>id</th>\n",
       "      <th>contentType</th>\n",
       "    </tr>\n",
       "  </thead>\n",
       "  <tbody>\n",
       "    <tr>\n",
       "      <th>0</th>\n",
       "      <td>Arrow Function: Think Backwards</td>\n",
       "      <td>Visual Studio Code</td>\n",
       "      <td>4dgSwnKtVLo</td>\n",
       "      <td>Programming</td>\n",
       "    </tr>\n",
       "    <tr>\n",
       "      <th>1</th>\n",
       "      <td>Make Folders FAST in #vscode like THIS!</td>\n",
       "      <td>Visual Studio Code</td>\n",
       "      <td>KQe2cyfIok4</td>\n",
       "      <td>Programming</td>\n",
       "    </tr>\n",
       "    <tr>\n",
       "      <th>2</th>\n",
       "      <td>Change my mind #code #windows #development</td>\n",
       "      <td>Visual Studio Code</td>\n",
       "      <td>9b4wsvlocUU</td>\n",
       "      <td>Programming</td>\n",
       "    </tr>\n",
       "    <tr>\n",
       "      <th>3</th>\n",
       "      <td>Code Runner</td>\n",
       "      <td>Visual Studio Code</td>\n",
       "      <td>zwit6f6Nuwk</td>\n",
       "      <td>Programming</td>\n",
       "    </tr>\n",
       "    <tr>\n",
       "      <th>4</th>\n",
       "      <td>Dev Containers in Your Terminal! #vscode #code</td>\n",
       "      <td>Visual Studio Code</td>\n",
       "      <td>hY4ydbV1X4k</td>\n",
       "      <td>Programming</td>\n",
       "    </tr>\n",
       "  </tbody>\n",
       "</table>\n",
       "</div>"
      ],
      "text/plain": [
       "                                            title        channelTitle  \\\n",
       "0                 Arrow Function: Think Backwards  Visual Studio Code   \n",
       "1         Make Folders FAST in #vscode like THIS!  Visual Studio Code   \n",
       "2      Change my mind #code #windows #development  Visual Studio Code   \n",
       "3                                     Code Runner  Visual Studio Code   \n",
       "4  Dev Containers in Your Terminal! #vscode #code  Visual Studio Code   \n",
       "\n",
       "            id  contentType  \n",
       "0  4dgSwnKtVLo  Programming  \n",
       "1  KQe2cyfIok4  Programming  \n",
       "2  9b4wsvlocUU  Programming  \n",
       "3  zwit6f6Nuwk  Programming  \n",
       "4  hY4ydbV1X4k  Programming  "
      ]
     },
     "execution_count": 7,
     "metadata": {},
     "output_type": "execute_result"
    }
   ],
   "source": [
    "df = df.merge(content_type_map)\n",
    "df.head()"
   ]
  },
  {
   "cell_type": "code",
   "execution_count": 8,
   "metadata": {},
   "outputs": [],
   "source": [
    "df = df[\"contentType\"].replace(\n",
    "    {\n",
    "        \"Finance\": \"Pseudo Education\",\n",
    "        \"Psychology\": \"Pseudo Education\",\n",
    "        \"Podcast\": \"Pseudo Education\",\n",
    "    },\n",
    ")"
   ]
  },
  {
   "cell_type": "code",
   "execution_count": 9,
   "metadata": {},
   "outputs": [
    {
     "data": {
      "text/plain": [
       "contentType\n",
       "Programming         2339\n",
       "Movies & Reviews    2330\n",
       "News                1829\n",
       "Pseudo Education    1076\n",
       "Entertainment        883\n",
       "Infotainment         735\n",
       "Tech                 334\n",
       "Education            298\n",
       "Reaction             232\n",
       "Shorts               212\n",
       "Music                202\n",
       "Vlogs                201\n",
       "Name: count, dtype: int64"
      ]
     },
     "execution_count": 9,
     "metadata": {},
     "output_type": "execute_result"
    }
   ],
   "source": [
    "df[\"contentType\"].value_counts()"
   ]
  },
  {
   "cell_type": "markdown",
   "metadata": {},
   "source": [
    "### Remove shorts titles"
   ]
  },
  {
   "cell_type": "code",
   "execution_count": 10,
   "metadata": {},
   "outputs": [
    {
     "data": {
      "text/plain": [
       "(9842, 4)"
      ]
     },
     "execution_count": 10,
     "metadata": {},
     "output_type": "execute_result"
    }
   ],
   "source": [
    "no_shorts_df = df[\n",
    "    (~df[\"title\"].str.contains(\"#short\", case=False)) & (df[\"contentType\"] != \"Shorts\")\n",
    "]\n",
    "no_shorts_df.shape"
   ]
  },
  {
   "cell_type": "markdown",
   "metadata": {},
   "source": [
    "## Building ML model"
   ]
  },
  {
   "cell_type": "markdown",
   "metadata": {},
   "source": [
    "### Split Dataset"
   ]
  },
  {
   "cell_type": "code",
   "execution_count": 11,
   "metadata": {},
   "outputs": [],
   "source": [
    "_t = no_shorts_df"
   ]
  },
  {
   "cell_type": "code",
   "execution_count": 12,
   "metadata": {},
   "outputs": [
    {
     "data": {
      "text/plain": [
       "((7873,), (1969,))"
      ]
     },
     "execution_count": 12,
     "metadata": {},
     "output_type": "execute_result"
    }
   ],
   "source": [
    "# Split the dataset into training and testing sets\n",
    "X_train, X_test, y_train, y_test = train_test_split(\n",
    "    _t[\"title\"],  # .add(\" \").add(_t[\"channelName\"]),\n",
    "    _t[\"contentType\"],\n",
    "    test_size=0.2,\n",
    "    random_state=42,\n",
    ")\n",
    "X_train.shape, X_test.shape"
   ]
  },
  {
   "cell_type": "markdown",
   "metadata": {},
   "source": [
    "### Combine Dataset into One"
   ]
  },
  {
   "cell_type": "code",
   "execution_count": 13,
   "metadata": {},
   "outputs": [
    {
     "data": {
      "text/html": [
       "<div>\n",
       "<style scoped>\n",
       "    .dataframe tbody tr th:only-of-type {\n",
       "        vertical-align: middle;\n",
       "    }\n",
       "\n",
       "    .dataframe tbody tr th {\n",
       "        vertical-align: top;\n",
       "    }\n",
       "\n",
       "    .dataframe thead th {\n",
       "        text-align: right;\n",
       "    }\n",
       "</style>\n",
       "<table border=\"1\" class=\"dataframe\">\n",
       "  <thead>\n",
       "    <tr style=\"text-align: right;\">\n",
       "      <th></th>\n",
       "      <th>contentType</th>\n",
       "      <th>title</th>\n",
       "    </tr>\n",
       "  </thead>\n",
       "  <tbody>\n",
       "    <tr>\n",
       "      <th>0</th>\n",
       "      <td>Education</td>\n",
       "      <td>Famous Brand Fries vs Home-made Fries😮 I Scien...</td>\n",
       "    </tr>\n",
       "    <tr>\n",
       "      <th>1</th>\n",
       "      <td>Entertainment</td>\n",
       "      <td>I woke up one day and I couldn’t see anything…...</td>\n",
       "    </tr>\n",
       "    <tr>\n",
       "      <th>2</th>\n",
       "      <td>Infotainment</td>\n",
       "      <td>Will India Change its Name to Bharat Permanent...</td>\n",
       "    </tr>\n",
       "    <tr>\n",
       "      <th>3</th>\n",
       "      <td>Movies &amp; Reviews</td>\n",
       "      <td>3 Amazing Indian Movies In 2023 That Deserve M...</td>\n",
       "    </tr>\n",
       "    <tr>\n",
       "      <th>4</th>\n",
       "      <td>Music</td>\n",
       "      <td>Alan Walker - Faded (Lyrics) Alan Walker, K-39...</td>\n",
       "    </tr>\n",
       "    <tr>\n",
       "      <th>5</th>\n",
       "      <td>News</td>\n",
       "      <td>India Middle East Europe economic corridor wil...</td>\n",
       "    </tr>\n",
       "    <tr>\n",
       "      <th>6</th>\n",
       "      <td>Programming</td>\n",
       "      <td>Arrow Function: Think Backwards Make Folders F...</td>\n",
       "    </tr>\n",
       "    <tr>\n",
       "      <th>7</th>\n",
       "      <td>Pseudo Education</td>\n",
       "      <td>Australia's economy is WEIRD | Australia Econo...</td>\n",
       "    </tr>\n",
       "    <tr>\n",
       "      <th>8</th>\n",
       "      <td>Reaction</td>\n",
       "      <td>Latinos React to Indian Idol Season 14 Auditio...</td>\n",
       "    </tr>\n",
       "    <tr>\n",
       "      <th>9</th>\n",
       "      <td>Tech</td>\n",
       "      <td>The EU Will Break Apple. Me Want Big SSD We Go...</td>\n",
       "    </tr>\n",
       "    <tr>\n",
       "      <th>10</th>\n",
       "      <td>Vlogs</td>\n",
       "      <td>Hari Mohan Crunchy Paratha, Stuffed Dal Batti,...</td>\n",
       "    </tr>\n",
       "  </tbody>\n",
       "</table>\n",
       "</div>"
      ],
      "text/plain": [
       "         contentType                                              title\n",
       "0          Education  Famous Brand Fries vs Home-made Fries😮 I Scien...\n",
       "1      Entertainment  I woke up one day and I couldn’t see anything…...\n",
       "2       Infotainment  Will India Change its Name to Bharat Permanent...\n",
       "3   Movies & Reviews  3 Amazing Indian Movies In 2023 That Deserve M...\n",
       "4              Music  Alan Walker - Faded (Lyrics) Alan Walker, K-39...\n",
       "5               News  India Middle East Europe economic corridor wil...\n",
       "6        Programming  Arrow Function: Think Backwards Make Folders F...\n",
       "7   Pseudo Education  Australia's economy is WEIRD | Australia Econo...\n",
       "8           Reaction  Latinos React to Indian Idol Season 14 Auditio...\n",
       "9               Tech  The EU Will Break Apple. Me Want Big SSD We Go...\n",
       "10             Vlogs  Hari Mohan Crunchy Paratha, Stuffed Dal Batti,..."
      ]
     },
     "execution_count": 13,
     "metadata": {},
     "output_type": "execute_result"
    }
   ],
   "source": [
    "_t.loc[:, \"title\"] = _t[\"title\"].add(\" \")\n",
    "combined_title_df = _t.groupby(\"contentType\")[\"title\"].sum().reset_index()\n",
    "combined_title_df"
   ]
  },
  {
   "cell_type": "markdown",
   "metadata": {},
   "source": [
    "## Functions for model building"
   ]
  },
  {
   "cell_type": "code",
   "execution_count": 14,
   "metadata": {},
   "outputs": [],
   "source": [
    "def preprocessor(s: str):\n",
    "    \"\"\"Proprecessor for Vectorizer.\"\"\"\n",
    "    s = s.translate(str.maketrans(\"\", \"\", string.punctuation))\n",
    "    ps = PorterStemmer()\n",
    "    s = \" \".join([ps.stem(i) for i in s.split() if i.isascii()])\n",
    "    return s"
   ]
  },
  {
   "cell_type": "code",
   "execution_count": 15,
   "metadata": {},
   "outputs": [],
   "source": [
    "def get_vectorizer(text_arr):\n",
    "    vectorizer = TfidfVectorizer(\n",
    "        preprocessor=preprocessor,\n",
    "        max_features=7_000,\n",
    "        ngram_range=(1, 2),\n",
    "        stop_words=\"english\",\n",
    "    )\n",
    "    return vectorizer.fit(text_arr)\n",
    "\n",
    "\n",
    "def train_model(model, X, y):\n",
    "    label_enc = LabelEncoder()\n",
    "    y_enc = label_enc.fit_transform(y)\n",
    "    X_vec = vectorizer.transform(X)\n",
    "\n",
    "    model.fit(X_vec, y_enc)\n",
    "    return model, label_enc\n",
    "\n",
    "\n",
    "def predict(X):\n",
    "    X_vec = vectorizer.transform(X)\n",
    "    return model.predict(X_vec)\n",
    "\n",
    "\n",
    "def calc_score(y_true, y_pred):\n",
    "    y_true_enc = label_enc.transform(y_true)\n",
    "    return accuracy_score(y_true_enc, y_pred)\n",
    "\n",
    "\n",
    "def plot_confusion_matrix(y_test, y_pred):\n",
    "    y_test_enc = label_enc.transform(y_test)\n",
    "    plot_labels = label_enc.classes_.tolist()\n",
    "\n",
    "    plt.figure(figsize=(12, 6))\n",
    "    sns.heatmap(\n",
    "        confusion_matrix(y_test_enc, y_pred),\n",
    "        annot=True,\n",
    "        fmt=\"d\",\n",
    "        cbar=False,\n",
    "        cmap=\"YlGnBu\",\n",
    "    )\n",
    "    plt.xticks([i + 0.5 for i in range(len(plot_labels))], plot_labels, rotation=90)\n",
    "    plt.yticks([i + 0.5 for i in range(len(plot_labels))], plot_labels, rotation=0)\n",
    "    plt.show()\n",
    "\n",
    "\n",
    "def word_to_vec(*s: str):\n",
    "    return vectorizer.inverse_transform(vectorizer.transform(s))\n",
    "\n",
    "\n",
    "def inverse_predict(*s: str):\n",
    "    return label_enc.inverse_transform(model.predict(vectorizer.transform(s)))\n",
    "\n",
    "\n",
    "def get_bad_predictions(X_test, y_true, y_pred):\n",
    "    y_true_vec = label_enc.transform(y_true)\n",
    "    temp = pd.DataFrame()\n",
    "\n",
    "    bool_map = y_true_vec != y_pred\n",
    "    temp[\"title\"] = X_test[bool_map]\n",
    "    temp[\"y_true\"] = y_true[bool_map]\n",
    "    temp[\"y_pred\"] = label_enc.inverse_transform(y_pred)[bool_map]\n",
    "    return temp"
   ]
  },
  {
   "cell_type": "code",
   "execution_count": 16,
   "metadata": {},
   "outputs": [
    {
     "name": "stdout",
     "output_type": "stream",
     "text": [
      "Accuracy Score: 0.808\n"
     ]
    }
   ],
   "source": [
    "# Train with X_train and y_train\n",
    "vectorizer = get_vectorizer(X_train)\n",
    "model, label_enc = train_model(MultinomialNB(alpha=0.1), X_train, y_train)\n",
    "y_pred = predict(X_test)\n",
    "print(f\"Accuracy Score: {calc_score(y_test, y_pred):.3}\")"
   ]
  },
  {
   "cell_type": "code",
   "execution_count": 17,
   "metadata": {},
   "outputs": [
    {
     "name": "stdout",
     "output_type": "stream",
     "text": [
      "Accuracy Score: 0.787\n"
     ]
    }
   ],
   "source": [
    "# Train with combined_title_df\n",
    "vectorizer = get_vectorizer(combined_title_df[\"title\"])\n",
    "model, label_enc = train_model(\n",
    "    MultinomialNB(alpha=0.1),\n",
    "    combined_title_df[\"title\"],\n",
    "    combined_title_df[\"contentType\"],\n",
    ")\n",
    "\n",
    "y_pred = predict(X_test)\n",
    "print(f\"Accuracy Score: {calc_score(y_test, y_pred):.3}\")"
   ]
  },
  {
   "cell_type": "code",
   "execution_count": 18,
   "metadata": {},
   "outputs": [
    {
     "data": {
      "image/png": "[encoded data removed]",
      "text/plain": [
       "<Figure size 1200x600 with 1 Axes>"
      ]
     },
     "metadata": {},
     "output_type": "display_data"
    }
   ],
   "source": [
    "plot_confusion_matrix(y_test, y_pred)"
   ]
  },
  {
   "cell_type": "code",
   "execution_count": 27,
   "metadata": {},
   "outputs": [
    {
     "data": {
      "text/plain": [
       "y_true\n",
       "News                99\n",
       "Movies & Reviews    84\n",
       "Programming         74\n",
       "Entertainment       60\n",
       "Pseudo Education    45\n",
       "Infotainment        32\n",
       "Education            8\n",
       "Tech                 8\n",
       "Reaction             4\n",
       "Vlogs                3\n",
       "Music                2\n",
       "Name: count, dtype: int64"
      ]
     },
     "execution_count": 27,
     "metadata": {},
     "output_type": "execute_result"
    }
   ],
   "source": [
    "missed_df = get_bad_predictions(X_test, y_test, y_pred)\n",
    "missed_df[\"y_true\"].value_counts()"
   ]
  },
  {
   "cell_type": "code",
   "execution_count": 28,
   "metadata": {},
   "outputs": [
    {
     "data": {
      "text/plain": [
       "y_pred\n",
       "Tech                84\n",
       "Infotainment        69\n",
       "Pseudo Education    59\n",
       "Education           51\n",
       "Music               42\n",
       "Reaction            41\n",
       "Movies & Reviews    25\n",
       "Vlogs               18\n",
       "News                17\n",
       "Entertainment        7\n",
       "Programming          6\n",
       "Name: count, dtype: int64"
      ]
     },
     "execution_count": 28,
     "metadata": {},
     "output_type": "execute_result"
    }
   ],
   "source": [
    "missed_df[\"y_pred\"].value_counts()"
   ]
  },
  {
   "cell_type": "code",
   "execution_count": 29,
   "metadata": {},
   "outputs": [
    {
     "data": {
      "text/plain": [
       "y_true            y_pred          \n",
       "News              Education           26\n",
       "Programming       Tech                25\n",
       "News              Infotainment        23\n",
       "Movies & Reviews  Music               21\n",
       "News              Pseudo Education    20\n",
       "                                      ..\n",
       "Movies & Reviews  Programming          1\n",
       "Music             Movies & Reviews     1\n",
       "                  News                 1\n",
       "News              Entertainment        1\n",
       "Vlogs             Tech                 1\n",
       "Name: count, Length: 74, dtype: int64"
      ]
     },
     "execution_count": 29,
     "metadata": {},
     "output_type": "execute_result"
    }
   ],
   "source": [
    "missed_df[[\"y_true\", \"y_pred\"]].value_counts()"
   ]
  },
  {
   "cell_type": "code",
   "execution_count": 31,
   "metadata": {},
   "outputs": [
    {
     "data": {
      "text/html": [
       "<div>\n",
       "<style scoped>\n",
       "    .dataframe tbody tr th:only-of-type {\n",
       "        vertical-align: middle;\n",
       "    }\n",
       "\n",
       "    .dataframe tbody tr th {\n",
       "        vertical-align: top;\n",
       "    }\n",
       "\n",
       "    .dataframe thead th {\n",
       "        text-align: right;\n",
       "    }\n",
       "</style>\n",
       "<table border=\"1\" class=\"dataframe\">\n",
       "  <thead>\n",
       "    <tr style=\"text-align: right;\">\n",
       "      <th></th>\n",
       "      <th>title</th>\n",
       "      <th>y_true</th>\n",
       "      <th>y_pred</th>\n",
       "    </tr>\n",
       "  </thead>\n",
       "  <tbody>\n",
       "    <tr>\n",
       "      <th>6045</th>\n",
       "      <td>How Apple is Winning India!</td>\n",
       "      <td>Tech</td>\n",
       "      <td>Infotainment</td>\n",
       "    </tr>\n",
       "    <tr>\n",
       "      <th>1152</th>\n",
       "      <td>𝕏</td>\n",
       "      <td>Tech</td>\n",
       "      <td>Education</td>\n",
       "    </tr>\n",
       "    <tr>\n",
       "      <th>1589</th>\n",
       "      <td>I Lost Money on the India's Biggest Platform!</td>\n",
       "      <td>Tech</td>\n",
       "      <td>Infotainment</td>\n",
       "    </tr>\n",
       "    <tr>\n",
       "      <th>1141</th>\n",
       "      <td>Europe Will Save Us</td>\n",
       "      <td>Tech</td>\n",
       "      <td>Pseudo Education</td>\n",
       "    </tr>\n",
       "    <tr>\n",
       "      <th>1599</th>\n",
       "      <td>How REDMI is Destroying REALME?</td>\n",
       "      <td>Tech</td>\n",
       "      <td>Pseudo Education</td>\n",
       "    </tr>\n",
       "    <tr>\n",
       "      <th>10546</th>\n",
       "      <td>How a Tragic Childhood Lifted Elon Musk to the...</td>\n",
       "      <td>Tech</td>\n",
       "      <td>Infotainment</td>\n",
       "    </tr>\n",
       "    <tr>\n",
       "      <th>1139</th>\n",
       "      <td>Watch Out, Apple...</td>\n",
       "      <td>Tech</td>\n",
       "      <td>Infotainment</td>\n",
       "    </tr>\n",
       "    <tr>\n",
       "      <th>1583</th>\n",
       "      <td>Why Indian TECH Companies SCAM Indians?</td>\n",
       "      <td>Tech</td>\n",
       "      <td>Pseudo Education</td>\n",
       "    </tr>\n",
       "  </tbody>\n",
       "</table>\n",
       "</div>"
      ],
      "text/plain": [
       "                                                   title y_true  \\\n",
       "6045                         How Apple is Winning India!   Tech   \n",
       "1152                                                   𝕏   Tech   \n",
       "1589       I Lost Money on the India's Biggest Platform!   Tech   \n",
       "1141                                 Europe Will Save Us   Tech   \n",
       "1599                     How REDMI is Destroying REALME?   Tech   \n",
       "10546  How a Tragic Childhood Lifted Elon Musk to the...   Tech   \n",
       "1139                                 Watch Out, Apple...   Tech   \n",
       "1583             Why Indian TECH Companies SCAM Indians?   Tech   \n",
       "\n",
       "                 y_pred  \n",
       "6045       Infotainment  \n",
       "1152          Education  \n",
       "1589       Infotainment  \n",
       "1141   Pseudo Education  \n",
       "1599   Pseudo Education  \n",
       "10546      Infotainment  \n",
       "1139       Infotainment  \n",
       "1583   Pseudo Education  "
      ]
     },
     "execution_count": 31,
     "metadata": {},
     "output_type": "execute_result"
    }
   ],
   "source": [
    "missed_df[missed_df[\"y_true\"] == \"Tech\"]"
   ]
  },
  {
   "cell_type": "code",
   "execution_count": 26,
   "metadata": {},
   "outputs": [
    {
     "data": {
      "text/html": [
       "<div>\n",
       "<style scoped>\n",
       "    .dataframe tbody tr th:only-of-type {\n",
       "        vertical-align: middle;\n",
       "    }\n",
       "\n",
       "    .dataframe tbody tr th {\n",
       "        vertical-align: top;\n",
       "    }\n",
       "\n",
       "    .dataframe thead th {\n",
       "        text-align: right;\n",
       "    }\n",
       "</style>\n",
       "<table border=\"1\" class=\"dataframe\">\n",
       "  <thead>\n",
       "    <tr style=\"text-align: right;\">\n",
       "      <th></th>\n",
       "      <th>title</th>\n",
       "      <th>channelTitle</th>\n",
       "      <th>id</th>\n",
       "      <th>contentType</th>\n",
       "    </tr>\n",
       "  </thead>\n",
       "  <tbody>\n",
       "    <tr>\n",
       "      <th>6308</th>\n",
       "      <td>SQL Course Movie Trailer</td>\n",
       "      <td>codebasics</td>\n",
       "      <td>ezrT1H-6DMY</td>\n",
       "      <td>Programming</td>\n",
       "    </tr>\n",
       "  </tbody>\n",
       "</table>\n",
       "</div>"
      ],
      "text/plain": [
       "                          title channelTitle           id  contentType\n",
       "6308  SQL Course Movie Trailer    codebasics  ezrT1H-6DMY  Programming"
      ]
     },
     "execution_count": 26,
     "metadata": {},
     "output_type": "execute_result"
    }
   ],
   "source": [
    "_t[_t[\"title\"].str.contains(\"SQL Course Movie Trailer\")]"
   ]
  },
  {
   "cell_type": "code",
   "execution_count": 22,
   "metadata": {},
   "outputs": [],
   "source": [
    "s = [\n",
    "    \"code is fun, and you are awesome.\",\n",
    "    \"abhi and niyu\",\n",
    "    \"campusx writes code and krish naik teaches ML.\",\n",
    "    \"tere te | new music | T-series | Guru Randhawa | Music\",\n",
    "    \"GitHub Universe 2023 day 2 keynote\",\n",
    "    \"samsung mobile with new feature\",\n",
    "    \"How British LOOTED India?\",\n",
    "    \"Equality is a SCAM\",\n",
    "    \"Finally अमेरिका ने भारत को बेच ही दिया अपना माल ! | |by Ankit Avasthi Sir\",\n",
    "]"
   ]
  },
  {
   "cell_type": "code",
   "execution_count": 23,
   "metadata": {},
   "outputs": [
    {
     "data": {
      "text/plain": [
       "array(['Programming', 'Pseudo Education', 'Programming', 'Music',\n",
       "       'Programming', 'Tech', 'News', 'Infotainment', 'Education'],\n",
       "      dtype=object)"
      ]
     },
     "execution_count": 23,
     "metadata": {},
     "output_type": "execute_result"
    }
   ],
   "source": [
    "inverse_predict(*s)"
   ]
  },
  {
   "cell_type": "code",
   "execution_count": 24,
   "metadata": {},
   "outputs": [
    {
     "data": {
      "text/plain": [
       "[array(['fun', 'code', 'awesom'], dtype='<U28'),\n",
       " array(['niyu', 'abhi niyu', 'abhi'], dtype='<U28'),\n",
       " array(['write', 'teach', 'naik', 'ml', 'krish naik', 'krish', 'code',\n",
       "        'campusx'], dtype='<U28'),\n",
       " array(['tseri', 'tere', 'new', 'music'], dtype='<U28'),\n",
       " array(['univers', 'github', 'day', '2023'], dtype='<U28'),\n",
       " array(['samsung', 'new featur', 'new', 'mobil', 'featur'], dtype='<U28'),\n",
       " array(['loot', 'india', 'british'], dtype='<U28'),\n",
       " array(['scam', 'equal'], dtype='<U28'),\n",
       " array(['sir', 'final', 'avasthi sir', 'avasthi', 'ankit avasthi', 'ankit'],\n",
       "       dtype='<U28')]"
      ]
     },
     "execution_count": 24,
     "metadata": {},
     "output_type": "execute_result"
    }
   ],
   "source": [
    "word_to_vec(*s)"
   ]
  }
 ],
 "metadata": {
  "kernelspec": {
   "display_name": "Python 3",
   "language": "python",
   "name": "python3"
  },
  "language_info": {
   "codemirror_mode": {
    "name": "ipython",
    "version": 3
   },
   "file_extension": ".py",
   "mimetype": "text/x-python",
   "name": "python",
   "nbconvert_exporter": "python",
   "pygments_lexer": "ipython3",
   "version": "3.11.0"
  }
 },
 "nbformat": 4,
 "nbformat_minor": 2
}
