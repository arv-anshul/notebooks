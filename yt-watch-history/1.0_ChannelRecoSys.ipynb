{
 "cells": [
  {
   "cell_type": "code",
   "execution_count": 1,
   "metadata": {},
   "outputs": [
    {
     "data": {
      "text/plain": [
       "polars.config.Config"
      ]
     },
     "execution_count": 1,
     "metadata": {},
     "output_type": "execute_result"
    }
   ],
   "source": [
    "import re\n",
    "import string\n",
    "from typing import Any\n",
    "\n",
    "import emoji\n",
    "import polars as pl\n",
    "from sklearn.feature_extraction.text import TfidfVectorizer\n",
    "from sklearn.metrics.pairwise import cosine_similarity\n",
    "from sklearn.model_selection import train_test_split\n",
    "\n",
    "pl.Config.set_fmt_str_lengths(40)"
   ]
  },
  {
   "cell_type": "markdown",
   "metadata": {},
   "source": [
    "## Recommender System\n",
    "\n",
    "I am Creating a ML model which will recommend \"Youtube Channels\" to users and for that we are **training more than one model** which are trained on different datasets:\n",
    "  1. First will train on **channel's videos titles** only.\n",
    "  3. Second will train on **channel's videos tags** only.\n",
    "  2. Other will train on other data like **video duration, categoryId** and more."
   ]
  },
  {
   "cell_type": "code",
   "execution_count": 2,
   "metadata": {},
   "outputs": [
    {
     "name": "stdout",
     "output_type": "stream",
     "text": [
      "(2275, 9)\n"
     ]
    },
    {
     "data": {
      "text/html": [
       "<div><style>\n",
       ".dataframe > thead > tr,\n",
       ".dataframe > tbody > tr {\n",
       "  text-align: right;\n",
       "  white-space: pre-wrap;\n",
       "}\n",
       "</style>\n",
       "<small>shape: (5, 9)</small><table border=\"1\" class=\"dataframe\"><thead><tr><th>categoryId</th><th>channelId</th><th>channelTitle</th><th>description</th><th>duration</th><th>id</th><th>publishedAt</th><th>tags</th><th>title</th></tr><tr><td>str</td><td>str</td><td>str</td><td>str</td><td>str</td><td>str</td><td>str</td><td>list[str]</td><td>str</td></tr></thead><tbody><tr><td>&quot;28&quot;</td><td>&quot;UCs5Y5_7XK8HLDX0SLNwkd3w&quot;</td><td>&quot;Visual Studio Code&quot;</td><td>&quot;#shorts&quot;</td><td>&quot;PT38S&quot;</td><td>&quot;4dgSwnKtVLo&quot;</td><td>&quot;2023-09-22T05:12:53&quot;</td><td>[&quot;vscode&quot;, &quot;visual studio code&quot;, &quot;vs code&quot;]</td><td>&quot;Arrow Function: Think Backwards&quot;</td></tr><tr><td>&quot;28&quot;</td><td>&quot;UC46xhU1EH7aywEgvA9syS3w&quot;</td><td>&quot;anthonywritescode&quot;</td><td>&quot;it&#x27;s here!  with ugly new typing syntax…</td><td>&quot;PT41M42S&quot;</td><td>&quot;IV8OZY4194U&quot;</td><td>&quot;2023-08-02T15:00:25&quot;</td><td>null</td><td>&quot;python 3.12 release highlights (beginne…</td></tr><tr><td>&quot;27&quot;</td><td>&quot;UCsDTy8jvHcwMvSZf_JGi-FA&quot;</td><td>&quot;Abhi and Niyu&quot;</td><td>&quot;To support our work you can consider bu…</td><td>&quot;PT14M39S&quot;</td><td>&quot;4uM7RIfMLK4&quot;</td><td>&quot;2023-10-07T13:00:12&quot;</td><td>[&quot;abhi and niyu&quot;, &quot;abhi and niyu latest&quot;, … &quot;abi n niu&quot;]</td><td>&quot;Australia&#x27;s economy is WEIRD | Australi…</td></tr><tr><td>&quot;28&quot;</td><td>&quot;UCQV-7R4qhAJXxdkrWNOglDQ&quot;</td><td>&quot;Dekho Isko&quot;</td><td>&quot;Join me on Social media:-\n",
       "📷 Instagram •…</td><td>&quot;PT4M41S&quot;</td><td>&quot;uWLooUi8in0&quot;</td><td>&quot;2023-09-06T16:52:42&quot;</td><td>[&quot;india rename&quot;, &quot;india renamed as bharat&quot;, … &quot;rename india as bharat&quot;]</td><td>&quot;Will India Change its Name to Bharat Pe…</td></tr><tr><td>&quot;24&quot;</td><td>&quot;UCgbzclo4Mfy_D68w_Bm_xHg&quot;</td><td>&quot;Tried&amp;Refused Productions.&quot;</td><td>&quot;There is always so much to watch but I …</td><td>&quot;PT10M33S&quot;</td><td>&quot;diajsqMk-mo&quot;</td><td>&quot;2023-09-02T06:45:02&quot;</td><td>[&quot;maaveeran&quot;, &quot;movie&quot;, … &quot;yogi babu&quot;]</td><td>&quot;3 Amazing Indian Movies In 2023 That De…</td></tr></tbody></table></div>"
      ],
      "text/plain": [
       "shape: (5, 9)\n",
       "┌───────────┬───────────┬───────────┬───────────┬───┬───────────┬───────────┬───────────┬──────────┐\n",
       "│ categoryI ┆ channelId ┆ channelTi ┆ descripti ┆ … ┆ id        ┆ published ┆ tags      ┆ title    │\n",
       "│ d         ┆ ---       ┆ tle       ┆ on        ┆   ┆ ---       ┆ At        ┆ ---       ┆ ---      │\n",
       "│ ---       ┆ str       ┆ ---       ┆ ---       ┆   ┆ str       ┆ ---       ┆ list[str] ┆ str      │\n",
       "│ str       ┆           ┆ str       ┆ str       ┆   ┆           ┆ str       ┆           ┆          │\n",
       "╞═══════════╪═══════════╪═══════════╪═══════════╪═══╪═══════════╪═══════════╪═══════════╪══════════╡\n",
       "│ 28        ┆ UCs5Y5_7X ┆ Visual    ┆ #shorts   ┆ … ┆ 4dgSwnKtV ┆ 2023-09-2 ┆ [\"vscode\" ┆ Arrow    │\n",
       "│           ┆ K8HLDX0SL ┆ Studio    ┆           ┆   ┆ Lo        ┆ 2T05:12:5 ┆ , \"visual ┆ Function │\n",
       "│           ┆ Nwkd3w    ┆ Code      ┆           ┆   ┆           ┆ 3         ┆ studio    ┆ : Think  │\n",
       "│           ┆           ┆           ┆           ┆   ┆           ┆           ┆ code\",    ┆ Backward │\n",
       "│           ┆           ┆           ┆           ┆   ┆           ┆           ┆ \"vs cod…  ┆ s        │\n",
       "│ 28        ┆ UC46xhU1E ┆ anthonywr ┆ it's      ┆ … ┆ IV8OZY419 ┆ 2023-08-0 ┆ null      ┆ python   │\n",
       "│           ┆ H7aywEgvA ┆ itescode  ┆ here!     ┆   ┆ 4U        ┆ 2T15:00:2 ┆           ┆ 3.12     │\n",
       "│           ┆ 9syS3w    ┆           ┆ with ugly ┆   ┆           ┆ 5         ┆           ┆ release  │\n",
       "│           ┆           ┆           ┆ new       ┆   ┆           ┆           ┆           ┆ highligh │\n",
       "│           ┆           ┆           ┆ typing    ┆   ┆           ┆           ┆           ┆ ts (begi │\n",
       "│           ┆           ┆           ┆ syntax …  ┆   ┆           ┆           ┆           ┆ nner…    │\n",
       "│ 27        ┆ UCsDTy8jv ┆ Abhi and  ┆ To        ┆ … ┆ 4uM7RIfML ┆ 2023-10-0 ┆ [\"abhi    ┆ Australi │\n",
       "│           ┆ HcwMvSZf_ ┆ Niyu      ┆ support   ┆   ┆ K4        ┆ 7T13:00:1 ┆ and       ┆ a's      │\n",
       "│           ┆ JGi-FA    ┆           ┆ our work  ┆   ┆           ┆ 2         ┆ niyu\",    ┆ economy  │\n",
       "│           ┆           ┆           ┆ you can   ┆   ┆           ┆           ┆ \"abhi and ┆ is WEIRD │\n",
       "│           ┆           ┆           ┆ consider  ┆   ┆           ┆           ┆ niyu      ┆ | Austra │\n",
       "│           ┆           ┆           ┆ buy…      ┆   ┆           ┆           ┆ latest\"…  ┆ lia…     │\n",
       "│ 28        ┆ UCQV-7R4q ┆ Dekho     ┆ Join me   ┆ … ┆ uWLooUi8i ┆ 2023-09-0 ┆ [\"india   ┆ Will     │\n",
       "│           ┆ hAJXxdkrW ┆ Isko      ┆ on Social ┆   ┆ n0        ┆ 6T16:52:4 ┆ rename\",  ┆ India    │\n",
       "│           ┆ NOglDQ    ┆           ┆ media:-   ┆   ┆           ┆ 2         ┆ \"india    ┆ Change   │\n",
       "│           ┆           ┆           ┆ 📷        ┆   ┆           ┆           ┆ renamed   ┆ its Name │\n",
       "│           ┆           ┆           ┆ Instagram ┆   ┆           ┆           ┆ as bhara… ┆ to       │\n",
       "│           ┆           ┆           ┆ • …       ┆   ┆           ┆           ┆           ┆ Bharat   │\n",
       "│           ┆           ┆           ┆           ┆   ┆           ┆           ┆           ┆ Per…     │\n",
       "│ 24        ┆ UCgbzclo4 ┆ Tried&Ref ┆ There is  ┆ … ┆ diajsqMk- ┆ 2023-09-0 ┆ [\"maaveer ┆ 3        │\n",
       "│           ┆ Mfy_D68w_ ┆ used Prod ┆ always so ┆   ┆ mo        ┆ 2T06:45:0 ┆ an\",      ┆ Amazing  │\n",
       "│           ┆ Bm_xHg    ┆ uctions.  ┆ much to   ┆   ┆           ┆ 2         ┆ \"movie\",  ┆ Indian   │\n",
       "│           ┆           ┆           ┆ watch but ┆   ┆           ┆           ┆ … \"yogi   ┆ Movies   │\n",
       "│           ┆           ┆           ┆ I m…      ┆   ┆           ┆           ┆ babu\"]    ┆ In 2023  │\n",
       "│           ┆           ┆           ┆           ┆   ┆           ┆           ┆           ┆ That     │\n",
       "│           ┆           ┆           ┆           ┆   ┆           ┆           ┆           ┆ Des…     │\n",
       "└───────────┴───────────┴───────────┴───────────┴───┴───────────┴───────────┴───────────┴──────────┘"
      ]
     },
     "execution_count": 2,
     "metadata": {},
     "output_type": "execute_result"
    }
   ],
   "source": [
    "df = pl.read_json(\"data.arv/ctt/titles_data.json\")\n",
    "print(df.shape)\n",
    "df.head()"
   ]
  },
  {
   "cell_type": "code",
   "execution_count": 3,
   "metadata": {},
   "outputs": [
    {
     "data": {
      "text/html": [
       "<div><style>\n",
       ".dataframe > thead > tr,\n",
       ".dataframe > tbody > tr {\n",
       "  text-align: right;\n",
       "  white-space: pre-wrap;\n",
       "}\n",
       "</style>\n",
       "<small>shape: (5, 2)</small><table border=\"1\" class=\"dataframe\"><thead><tr><th>channelTitle</th><th>tags</th></tr><tr><td>str</td><td>str</td></tr></thead><tbody><tr><td>&quot;Soch by Mohak Mangal&quot;</td><td>&quot;girlfriend mukesh ambani launch Chandra…</td></tr><tr><td>&quot;Foodie Saand&quot;</td><td>&quot;Haridwar Kadhi Chawal Special Grilled S…</td></tr><tr><td>&quot;Aaj Tak&quot;</td><td>&quot;chandrayaan 2 crash video chandrayaan 3…</td></tr><tr><td>&quot;Mr Techpedia&quot;</td><td>&quot;best smartphone 2023 psychology phone 2…</td></tr><tr><td>&quot;CineDesi&quot;</td><td>&quot;achara kirk Achara Kirk kristen stephen…</td></tr></tbody></table></div>"
      ],
      "text/plain": [
       "shape: (5, 2)\n",
       "┌──────────────────────┬───────────────────────────────────────────┐\n",
       "│ channelTitle         ┆ tags                                      │\n",
       "│ ---                  ┆ ---                                       │\n",
       "│ str                  ┆ str                                       │\n",
       "╞══════════════════════╪═══════════════════════════════════════════╡\n",
       "│ Soch by Mohak Mangal ┆ girlfriend mukesh ambani launch Chandray… │\n",
       "│ Foodie Saand         ┆ Haridwar Kadhi Chawal Special Grilled Sa… │\n",
       "│ Aaj Tak              ┆ chandrayaan 2 crash video chandrayaan 3 … │\n",
       "│ Mr Techpedia         ┆ best smartphone 2023 psychology phone 2 … │\n",
       "│ CineDesi             ┆ achara kirk Achara Kirk kristen stephens… │\n",
       "└──────────────────────┴───────────────────────────────────────────┘"
      ]
     },
     "execution_count": 3,
     "metadata": {},
     "output_type": "execute_result"
    }
   ],
   "source": [
    "# Get all unique tags used by each channel\n",
    "tags_grp = (\n",
    "    df.explode(\"tags\")\n",
    "    .group_by(\"channelTitle\")\n",
    "    .agg(pl.col(\"tags\").unique())\n",
    "    .with_columns(pl.col(\"tags\").list.join(\" \"))\n",
    ")\n",
    "tags_grp.head()"
   ]
  },
  {
   "cell_type": "code",
   "execution_count": 4,
   "metadata": {},
   "outputs": [
    {
     "data": {
      "text/html": [
       "<div><style>\n",
       ".dataframe > thead > tr,\n",
       ".dataframe > tbody > tr {\n",
       "  text-align: right;\n",
       "  white-space: pre-wrap;\n",
       "}\n",
       "</style>\n",
       "<small>shape: (5, 2)</small><table border=\"1\" class=\"dataframe\"><thead><tr><th>channelTitle</th><th>title</th></tr><tr><td>str</td><td>str</td></tr></thead><tbody><tr><td>&quot;The S2 Life&quot;</td><td>&quot;Celebrities in Big Boss | Harsh Beniwal…</td></tr><tr><td>&quot;BnfTV&quot;</td><td>&quot;Kismat hi kharab hai 😂 (Number 1 Hindi …</td></tr><tr><td>&quot;Foodie Saand&quot;</td><td>&quot;Sonu OVERLOADED Chur Chur Naan, Shree R…</td></tr><tr><td>&quot;Pakistani Reacts&quot;</td><td>&quot;MEMES THAT ARE REALLY WILD ❤️ | MEME RE…</td></tr><tr><td>&quot;Backstage with Millionaires&quot;</td><td>&quot;Ola Electric Did WHAT?! Gaming Companie…</td></tr></tbody></table></div>"
      ],
      "text/plain": [
       "shape: (5, 2)\n",
       "┌─────────────────────────────┬───────────────────────────────────────────┐\n",
       "│ channelTitle                ┆ title                                     │\n",
       "│ ---                         ┆ ---                                       │\n",
       "│ str                         ┆ str                                       │\n",
       "╞═════════════════════════════╪═══════════════════════════════════════════╡\n",
       "│ The S2 Life                 ┆ Celebrities in Big Boss | Harsh Beniwal … │\n",
       "│ BnfTV                       ┆ Kismat hi kharab hai 😂 (Number 1 Hindi   │\n",
       "│                             ┆ m…                                        │\n",
       "│ Foodie Saand                ┆ Sonu OVERLOADED Chur Chur Naan, Shree Ra… │\n",
       "│ Pakistani Reacts            ┆ MEMES THAT ARE REALLY WILD ❤️ | MEME REV…  │\n",
       "│ Backstage with Millionaires ┆ Ola Electric Did WHAT?! Gaming Companies… │\n",
       "└─────────────────────────────┴───────────────────────────────────────────┘"
      ]
     },
     "execution_count": 4,
     "metadata": {},
     "output_type": "execute_result"
    }
   ],
   "source": [
    "# Get all the video titles of each channel\n",
    "title_grp = (\n",
    "    df.group_by(\"channelTitle\")\n",
    "    .agg(pl.col(\"title\").unique())\n",
    "    .with_columns(pl.col(\"title\").list.join(\" \"))\n",
    ")\n",
    "title_grp.head()"
   ]
  },
  {
   "cell_type": "code",
   "execution_count": 5,
   "metadata": {},
   "outputs": [
    {
     "name": "stdout",
     "output_type": "stream",
     "text": [
      "(85, 3)\n"
     ]
    },
    {
     "data": {
      "text/html": [
       "<div><style>\n",
       ".dataframe > thead > tr,\n",
       ".dataframe > tbody > tr {\n",
       "  text-align: right;\n",
       "  white-space: pre-wrap;\n",
       "}\n",
       "</style>\n",
       "<small>shape: (5, 3)</small><table border=\"1\" class=\"dataframe\"><thead><tr><th>channelTitle</th><th>title</th><th>tags</th></tr><tr><td>str</td><td>str</td><td>str</td></tr></thead><tbody><tr><td>&quot;Soch by Mohak Mangal&quot;</td><td>&quot;Will Reservation REALLY help Women? How…</td><td>&quot;girlfriend mukesh ambani launch Chandra…</td></tr><tr><td>&quot;Foodie Saand&quot;</td><td>&quot;Sonu OVERLOADED Chur Chur Naan, Shree R…</td><td>&quot;Haridwar Kadhi Chawal Special Grilled S…</td></tr><tr><td>&quot;Aaj Tak&quot;</td><td>&quot;Elvish Yadav EXCLUSIVE Interview: Bigg …</td><td>&quot;chandrayaan 2 crash video chandrayaan 3…</td></tr><tr><td>&quot;Mr Techpedia&quot;</td><td>&quot;The trap behind expensive smartphones i…</td><td>&quot;best smartphone 2023 psychology phone 2…</td></tr><tr><td>&quot;CineDesi&quot;</td><td>&quot;HOUSEFULL Movie Reaction Part 1/3! | Ak…</td><td>&quot;achara kirk Achara Kirk kristen stephen…</td></tr></tbody></table></div>"
      ],
      "text/plain": [
       "shape: (5, 3)\n",
       "┌──────────────────────┬─────────────────────────────────────────┬─────────────────────────────────┐\n",
       "│ channelTitle         ┆ title                                   ┆ tags                            │\n",
       "│ ---                  ┆ ---                                     ┆ ---                             │\n",
       "│ str                  ┆ str                                     ┆ str                             │\n",
       "╞══════════════════════╪═════════════════════════════════════════╪═════════════════════════════════╡\n",
       "│ Soch by Mohak Mangal ┆ Will Reservation REALLY help Women? How ┆ girlfriend mukesh ambani launch │\n",
       "│                      ┆ …                                       ┆ Chandray…                       │\n",
       "│ Foodie Saand         ┆ Sonu OVERLOADED Chur Chur Naan, Shree   ┆ Haridwar Kadhi Chawal Special   │\n",
       "│                      ┆ Ra…                                     ┆ Grilled Sa…                     │\n",
       "│ Aaj Tak              ┆ Elvish Yadav EXCLUSIVE Interview: Bigg  ┆ chandrayaan 2 crash video       │\n",
       "│                      ┆ B…                                      ┆ chandrayaan 3 …                 │\n",
       "│ Mr Techpedia         ┆ The trap behind expensive smartphones   ┆ best smartphone 2023 psychology │\n",
       "│                      ┆ iP…                                     ┆ phone 2 …                       │\n",
       "│ CineDesi             ┆ HOUSEFULL Movie Reaction Part 1/3! |    ┆ achara kirk Achara Kirk kristen │\n",
       "│                      ┆ Aks…                                    ┆ stephens…                       │\n",
       "└──────────────────────┴─────────────────────────────────────────┴─────────────────────────────────┘"
      ]
     },
     "execution_count": 5,
     "metadata": {},
     "output_type": "execute_result"
    }
   ],
   "source": [
    "# Merge both titles_grp and tags_grp to create a training set\n",
    "title_tags_df = title_grp.join(tags_grp, on=\"channelTitle\")\n",
    "print(title_tags_df.shape)\n",
    "title_tags_df.head()"
   ]
  },
  {
   "cell_type": "code",
   "execution_count": 6,
   "metadata": {},
   "outputs": [
    {
     "name": "stdout",
     "output_type": "stream",
     "text": [
      "Total data points: 75\n"
     ]
    }
   ],
   "source": [
    "title_tags_df = title_tags_df.filter(pl.col(\"tags\").ne(\"null\"))\n",
    "print(f\"Total data points: {title_tags_df.height}\")"
   ]
  },
  {
   "cell_type": "markdown",
   "metadata": {},
   "source": [
    "### Split dataset"
   ]
  },
  {
   "cell_type": "code",
   "execution_count": 7,
   "metadata": {},
   "outputs": [
    {
     "name": "stdout",
     "output_type": "stream",
     "text": [
      "x_train.shape = (60, 3)\n",
      " x_test.shape = (15, 3)\n"
     ]
    }
   ],
   "source": [
    "x_train: pl.DataFrame  # For type hinting\n",
    "x_test: pl.DataFrame\n",
    "\n",
    "x_train, x_test = train_test_split(\n",
    "    title_tags_df,\n",
    "    test_size=0.2,\n",
    "    random_state=42,\n",
    ")\n",
    "\n",
    "print(f\"{x_train.shape = }\\n {x_test.shape = }\")"
   ]
  },
  {
   "cell_type": "code",
   "execution_count": 8,
   "metadata": {},
   "outputs": [
    {
     "data": {
      "text/html": [
       "<div><style>\n",
       ".dataframe > thead > tr,\n",
       ".dataframe > tbody > tr {\n",
       "  text-align: right;\n",
       "  white-space: pre-wrap;\n",
       "}\n",
       "</style>\n",
       "<small>shape: (5, 3)</small><table border=\"1\" class=\"dataframe\"><thead><tr><th>channelTitle</th><th>title</th><th>tags</th></tr><tr><td>str</td><td>str</td><td>str</td></tr></thead><tbody><tr><td>&quot;CineDesi&quot;</td><td>&quot;HOUSEFULL Movie Reaction Part 1/3! | Ak…</td><td>&quot;achara kirk Achara Kirk kristen stephen…</td></tr><tr><td>&quot;Thugesh Unfiltered&quot;</td><td>&quot;MC STAN &amp; BIG BOSS IS FUNNY! Nora Fateh…</td><td>&quot;worst street food thugesh wierd foods a…</td></tr><tr><td>&quot;LIV Comedy&quot;</td><td>&quot;नकली Nawaz की Mimicry सुनकर हंस पड़े अस…</td><td>&quot;daya comedy gokuldham society ki proble…</td></tr><tr><td>&quot;Soch by Mohak Mangal&quot;</td><td>&quot;Will Reservation REALLY help Women? How…</td><td>&quot;girlfriend mukesh ambani launch Chandra…</td></tr><tr><td>&quot;Abhi and Niyu&quot;</td><td>&quot;Why does INDIA flood so easily? | India…</td><td>&quot;khalistan in canada israel war hindi Na…</td></tr></tbody></table></div>"
      ],
      "text/plain": [
       "shape: (5, 3)\n",
       "┌──────────────────────┬────────────────────────────────────────┬──────────────────────────────────┐\n",
       "│ channelTitle         ┆ title                                  ┆ tags                             │\n",
       "│ ---                  ┆ ---                                    ┆ ---                              │\n",
       "│ str                  ┆ str                                    ┆ str                              │\n",
       "╞══════════════════════╪════════════════════════════════════════╪══════════════════════════════════╡\n",
       "│ CineDesi             ┆ HOUSEFULL Movie Reaction Part 1/3! |   ┆ achara kirk Achara Kirk kristen  │\n",
       "│                      ┆ Aks…                                   ┆ stephens…                        │\n",
       "│ Thugesh Unfiltered   ┆ MC STAN & BIG BOSS IS FUNNY! Nora      ┆ worst street food thugesh wierd  │\n",
       "│                      ┆ Fatehi…                                ┆ foods ak…                        │\n",
       "│ LIV Comedy           ┆ नकली Nawaz की Mimicry सुनकर हंस पड़े असल…  ┆ daya comedy gokuldham society ki │\n",
       "│                      ┆                                        ┆ problem…                         │\n",
       "│ Soch by Mohak Mangal ┆ Will Reservation REALLY help Women?    ┆ girlfriend mukesh ambani launch  │\n",
       "│                      ┆ How …                                  ┆ Chandray…                        │\n",
       "│ Abhi and Niyu        ┆ Why does INDIA flood so easily? |      ┆ khalistan in canada israel war   │\n",
       "│                      ┆ Indian…                                ┆ hindi Nat…                       │\n",
       "└──────────────────────┴────────────────────────────────────────┴──────────────────────────────────┘"
      ]
     },
     "execution_count": 8,
     "metadata": {},
     "output_type": "execute_result"
    }
   ],
   "source": [
    "x_test.head()"
   ]
  },
  {
   "cell_type": "markdown",
   "metadata": {},
   "source": [
    "## Build Model"
   ]
  },
  {
   "cell_type": "code",
   "execution_count": 9,
   "metadata": {},
   "outputs": [],
   "source": [
    "def preprocess_title(s: str) -> str:\n",
    "    \"\"\"Preprocessor for vectorizer to preprocess titles data.\"\"\"\n",
    "    s = re.sub(r\"\\b\\w{1,3}\\b\", \" \", s)\n",
    "    s = s.translate(str.maketrans(\"\", \"\", string.punctuation + string.digits))\n",
    "    s = emoji.replace_emoji(s, \"\")\n",
    "    s = re.sub(r\"\\s+\", \" \", s)\n",
    "    s = s.lower()\n",
    "    return s\n",
    "\n",
    "\n",
    "def preprocess_tags(s: str) -> str:\n",
    "    \"\"\"Preprocessor for vectorizer to preprocess titles data.\"\"\"\n",
    "    s = re.sub(r\"\\b\\w{1,2}\\b\", \" \", s)\n",
    "    s = s.translate(str.maketrans(\"\", \"\", string.punctuation + string.digits))\n",
    "    s = emoji.replace_emoji(s, \"\")\n",
    "    s = re.sub(r\"\\s+\", \" \", s)\n",
    "    s = s.lower()\n",
    "    return s"
   ]
  },
  {
   "cell_type": "code",
   "execution_count": 10,
   "metadata": {},
   "outputs": [],
   "source": [
    "titles_transformer = TfidfVectorizer(\n",
    "    max_features=7000,\n",
    "    ngram_range=(1, 2),\n",
    "    preprocessor=preprocess_title,\n",
    "    stop_words=\"english\",\n",
    ")\n",
    "tags_transformer = TfidfVectorizer(\n",
    "    max_features=5000,\n",
    "    ngram_range=(1, 2),\n",
    "    preprocessor=preprocess_tags,\n",
    "    stop_words=\"english\",\n",
    ")"
   ]
  },
  {
   "cell_type": "markdown",
   "metadata": {},
   "source": [
    "### Calculate Similarity\n",
    "\n",
    "**How to approach?**\n",
    "\n",
    "1. Transform the data with both the **Transformers**.\n",
    "2. Multiply both the transformed data with the weights\\*.\n",
    "3. Then add both the similarity values to get the final similarity value.\n",
    "4. Sort the value and return the similar channels."
   ]
  },
  {
   "cell_type": "code",
   "execution_count": 11,
   "metadata": {},
   "outputs": [],
   "source": [
    "# Fit and tranform the x_train data\n",
    "x_train_titles_trf = titles_transformer.fit_transform(x_train[\"title\"])\n",
    "x_train_tags_trf = tags_transformer.fit_transform(x_train[\"tags\"])"
   ]
  },
  {
   "cell_type": "code",
   "execution_count": 12,
   "metadata": {},
   "outputs": [],
   "source": [
    "def transform_data(data: pl.DataFrame):\n",
    "    title_trf = titles_transformer.transform(data[\"title\"])\n",
    "    tags_trf = tags_transformer.transform(data[\"tags\"])\n",
    "    return title_trf, tags_trf\n",
    "\n",
    "\n",
    "def calc_similarity(title, tags, *, weights: tuple[float, float]) -> dict[str, Any]:\n",
    "    title_simi = cosine_similarity(x_train_titles_trf, title)\n",
    "    tags_simi = cosine_similarity(x_train_tags_trf, tags)\n",
    "    # Multiply with weights and add the similarity\n",
    "    return {\n",
    "        \"titles_similarity\": title_simi,\n",
    "        \"tags_similarity\": tags_simi,\n",
    "        \"weights_similarity\": (title_simi * weights[0]) + (tags_simi * weights[1]),\n",
    "    }\n",
    "\n",
    "\n",
    "def get_similar_channels(\n",
    "    data: pl.DataFrame,\n",
    "    weights: tuple[float, float] = (0.5, 0.5),\n",
    ") -> pl.DataFrame:\n",
    "    title_trf, tags_trf = transform_data(data)\n",
    "    similarity = calc_similarity(title_trf, tags_trf, weights=weights)\n",
    "    return x_train.with_columns(\n",
    "        [pl.lit(v.ravel()).alias(k) for k, v in similarity.items()]\n",
    "    ).sort(\"weights_similarity\", descending=True)"
   ]
  },
  {
   "cell_type": "code",
   "execution_count": 15,
   "metadata": {},
   "outputs": [
    {
     "data": {
      "text/plain": [
       "0                 CineDesi\n",
       "1       Thugesh Unfiltered\n",
       "2               LIV Comedy\n",
       "3     Soch by Mohak Mangal\n",
       "4            Abhi and Niyu\n",
       "5             News18 India\n",
       "6       Elvish Yadav Vlogs\n",
       "7                 KibaKibi\n",
       "8             Dhruv Rathee\n",
       "9                Kishanell\n",
       "10             anime freak\n",
       "11             The S2 Life\n",
       "12      Visual Studio Code\n",
       "13              ArjanCodes\n",
       "14                Indently\n",
       "Name: channelTitle, dtype: object"
      ]
     },
     "execution_count": 15,
     "metadata": {},
     "output_type": "execute_result"
    }
   ],
   "source": [
    "x_test[\"channelTitle\"].to_pandas()"
   ]
  },
  {
   "cell_type": "code",
   "execution_count": 17,
   "metadata": {},
   "outputs": [
    {
     "name": "stdout",
     "output_type": "stream",
     "text": [
      "Selected Channel: 'News18 India'\n"
     ]
    },
    {
     "data": {
      "text/html": [
       "<div><style>\n",
       ".dataframe > thead > tr,\n",
       ".dataframe > tbody > tr {\n",
       "  text-align: right;\n",
       "  white-space: pre-wrap;\n",
       "}\n",
       "</style>\n",
       "<small>shape: (5, 6)</small><table border=\"1\" class=\"dataframe\"><thead><tr><th>channelTitle</th><th>title</th><th>tags</th><th>titles_similarity</th><th>tags_similarity</th><th>weights_similarity</th></tr><tr><td>str</td><td>str</td><td>str</td><td>f64</td><td>f64</td><td>f64</td></tr></thead><tbody><tr><td>&quot;TV9 Bharatvarsh&quot;</td><td>&quot;Israel-Hamas Conflict News Live: तबाही …</td><td>&quot;israel war updates today Israel-Palesti…</td><td>0.227587</td><td>0.471182</td><td>0.349385</td></tr><tr><td>&quot;World Affairs by Unacademy&quot;</td><td>&quot;USA is Sending 2000 Soldiers to Israel …</td><td>&quot;Trump&#x27;s Vice President india and china …</td><td>0.18722</td><td>0.265762</td><td>0.226491</td></tr><tr><td>&quot;Zee News&quot;</td><td>&quot;Ujjain Rape Case Encounter: आरोपी के पि…</td><td>&quot;Shoaib Akhtar On Indian Team swastik ri…</td><td>0.131865</td><td>0.224428</td><td>0.178146</td></tr><tr><td>&quot;The Deshbhakt&quot;</td><td>&quot;Beyond the Karan Sangwan Controversy &amp; …</td><td>&quot;isro live indian student in canada indi…</td><td>0.029471</td><td>0.229258</td><td>0.129364</td></tr><tr><td>&quot;Aaj Tak&quot;</td><td>&quot;Elvish Yadav EXCLUSIVE Interview: Bigg …</td><td>&quot;chandrayaan 2 crash video chandrayaan 3…</td><td>0.079508</td><td>0.102036</td><td>0.090772</td></tr></tbody></table></div>"
      ],
      "text/plain": [
       "shape: (5, 6)\n",
       "┌────────────────┬────────────────┬────────────────┬───────────────┬───────────────┬───────────────┐\n",
       "│ channelTitle   ┆ title          ┆ tags           ┆ titles_simila ┆ tags_similari ┆ weights_simil │\n",
       "│ ---            ┆ ---            ┆ ---            ┆ rity          ┆ ty            ┆ arity         │\n",
       "│ str            ┆ str            ┆ str            ┆ ---           ┆ ---           ┆ ---           │\n",
       "│                ┆                ┆                ┆ f64           ┆ f64           ┆ f64           │\n",
       "╞════════════════╪════════════════╪════════════════╪═══════════════╪═══════════════╪═══════════════╡\n",
       "│ TV9            ┆ Israel-Hamas   ┆ israel war     ┆ 0.227587      ┆ 0.471182      ┆ 0.349385      │\n",
       "│ Bharatvarsh    ┆ Conflict News  ┆ updates today  ┆               ┆               ┆               │\n",
       "│                ┆ Live: तबाही क… ┆ Israel-Palesti ┆               ┆               ┆               │\n",
       "│                ┆                ┆ n…             ┆               ┆               ┆               │\n",
       "│ World Affairs  ┆ USA is Sending ┆ Trump's Vice   ┆ 0.18722       ┆ 0.265762      ┆ 0.226491      │\n",
       "│ by Unacademy   ┆ 2000 Soldiers  ┆ President      ┆               ┆               ┆               │\n",
       "│                ┆ to Israel |…   ┆ india and      ┆               ┆               ┆               │\n",
       "│                ┆                ┆ china c…       ┆               ┆               ┆               │\n",
       "│ Zee News       ┆ Ujjain Rape    ┆ Shoaib Akhtar  ┆ 0.131865      ┆ 0.224428      ┆ 0.178146      │\n",
       "│                ┆ Case           ┆ On Indian Team ┆               ┆               ┆               │\n",
       "│                ┆ Encounter:     ┆ swastik ris…   ┆               ┆               ┆               │\n",
       "│                ┆ आरोपी के पित…   ┆                ┆               ┆               ┆               │\n",
       "│ The Deshbhakt  ┆ Beyond the     ┆ isro live      ┆ 0.029471      ┆ 0.229258      ┆ 0.129364      │\n",
       "│                ┆ Karan Sangwan  ┆ indian student ┆               ┆               ┆               │\n",
       "│                ┆ Controversy &  ┆ in canada      ┆               ┆               ┆               │\n",
       "│                ┆ t…             ┆ india…         ┆               ┆               ┆               │\n",
       "│ Aaj Tak        ┆ Elvish Yadav   ┆ chandrayaan 2  ┆ 0.079508      ┆ 0.102036      ┆ 0.090772      │\n",
       "│                ┆ EXCLUSIVE      ┆ crash video    ┆               ┆               ┆               │\n",
       "│                ┆ Interview:     ┆ chandrayaan 3  ┆               ┆               ┆               │\n",
       "│                ┆ Bigg B…        ┆ …              ┆               ┆               ┆               │\n",
       "└────────────────┴────────────────┴────────────────┴───────────────┴───────────────┴───────────────┘"
      ]
     },
     "execution_count": 17,
     "metadata": {},
     "output_type": "execute_result"
    }
   ],
   "source": [
    "sl_data = x_test[5]\n",
    "print(f\"Selected Channel: {sl_data['channelTitle'].item()!r}\")\n",
    "get_similar_channels(sl_data).head()"
   ]
  },
  {
   "cell_type": "markdown",
   "metadata": {},
   "source": [
    "## Conclusion\n",
    "\n",
    "The system gives promising result because it suggests very similar channels based on the content of passed channel.\n",
    "\n",
    "**`Problem`:** I am able to create a Pipeline here due to that this seems difficult to deal with.\n",
    "\n",
    "So, in the next iteration I am going to tackle the Pipeline building part and make this system easy to calcualte the results."
   ]
  }
 ],
 "metadata": {
  "kernelspec": {
   "display_name": "Python 3",
   "language": "python",
   "name": "python3"
  },
  "language_info": {
   "codemirror_mode": {
    "name": "ipython",
    "version": 3
   },
   "file_extension": ".py",
   "mimetype": "text/x-python",
   "name": "python",
   "nbconvert_exporter": "python",
   "pygments_lexer": "ipython3",
   "version": "3.11.0"
  }
 },
 "nbformat": 4,
 "nbformat_minor": 2
}
