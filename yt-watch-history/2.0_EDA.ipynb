{
 "cells": [
  {
   "cell_type": "code",
   "execution_count": 1,
   "metadata": {},
   "outputs": [],
   "source": [
    "import re\n",
    "\n",
    "import polars as pl\n",
    "import wordcloud\n",
    "from frontend.configs import CATEGORY_ID_MAP_PATH, VIDEO_DETAILS_JSON_PATH\n",
    "from frontend.youtube import IngestYtHistory\n",
    "from matplotlib import pyplot as plt\n",
    "from plotly import express as px"
   ]
  },
  {
   "cell_type": "code",
   "execution_count": 2,
   "metadata": {},
   "outputs": [
    {
     "data": {
      "text/plain": [
       "polars.config.Config"
      ]
     },
     "execution_count": 2,
     "metadata": {},
     "output_type": "execute_result"
    }
   ],
   "source": [
    "pl.Config.set_fmt_str_lengths(40)"
   ]
  },
  {
   "cell_type": "code",
   "execution_count": null,
   "metadata": {},
   "outputs": [],
   "source": [
    "df = IngestYtHistory.from_ingested_data()\n",
    "df.head()"
   ]
  },
  {
   "cell_type": "code",
   "execution_count": 4,
   "metadata": {},
   "outputs": [
    {
     "data": {
      "text/html": [
       "<div><style>\n",
       ".dataframe > thead > tr,\n",
       ".dataframe > tbody > tr {\n",
       "  text-align: right;\n",
       "  white-space: pre-wrap;\n",
       "}\n",
       "</style>\n",
       "<small>shape: (5, 9)</small><table border=\"1\" class=\"dataframe\"><thead><tr><th>categoryId</th><th>channelId</th><th>channelTitle</th><th>description</th><th>duration</th><th>id</th><th>publishedAt</th><th>tags</th><th>title</th></tr><tr><td>str</td><td>str</td><td>str</td><td>str</td><td>str</td><td>str</td><td>str</td><td>list[str]</td><td>str</td></tr></thead><tbody><tr><td>&quot;28&quot;</td><td>&quot;UCs5Y5_7XK8HLDX0SLNwkd3w&quot;</td><td>&quot;Visual Studio Code&quot;</td><td>&quot;#shorts&quot;</td><td>&quot;PT38S&quot;</td><td>&quot;4dgSwnKtVLo&quot;</td><td>&quot;2023-09-22T05:12:53&quot;</td><td>[&quot;vscode&quot;, &quot;visual studio code&quot;, &quot;vs code&quot;]</td><td>&quot;Arrow Function: Think Backwards&quot;</td></tr><tr><td>&quot;28&quot;</td><td>&quot;UC46xhU1EH7aywEgvA9syS3w&quot;</td><td>&quot;anthonywritescode&quot;</td><td>&quot;it&#x27;s here!  with ugly new typing syntax…</td><td>&quot;PT41M42S&quot;</td><td>&quot;IV8OZY4194U&quot;</td><td>&quot;2023-08-02T15:00:25&quot;</td><td>null</td><td>&quot;python 3.12 release highlights (beginne…</td></tr><tr><td>&quot;27&quot;</td><td>&quot;UCsDTy8jvHcwMvSZf_JGi-FA&quot;</td><td>&quot;Abhi and Niyu&quot;</td><td>&quot;To support our work you can consider bu…</td><td>&quot;PT14M39S&quot;</td><td>&quot;4uM7RIfMLK4&quot;</td><td>&quot;2023-10-07T13:00:12&quot;</td><td>[&quot;abhi and niyu&quot;, &quot;abhi and niyu latest&quot;, … &quot;abi n niu&quot;]</td><td>&quot;Australia&#x27;s economy is WEIRD | Australi…</td></tr><tr><td>&quot;28&quot;</td><td>&quot;UCQV-7R4qhAJXxdkrWNOglDQ&quot;</td><td>&quot;Dekho Isko&quot;</td><td>&quot;Join me on Social media:-\n",
       "📷 Instagram •…</td><td>&quot;PT4M41S&quot;</td><td>&quot;uWLooUi8in0&quot;</td><td>&quot;2023-09-06T16:52:42&quot;</td><td>[&quot;india rename&quot;, &quot;india renamed as bharat&quot;, … &quot;rename india as bharat&quot;]</td><td>&quot;Will India Change its Name to Bharat Pe…</td></tr><tr><td>&quot;24&quot;</td><td>&quot;UCgbzclo4Mfy_D68w_Bm_xHg&quot;</td><td>&quot;Tried&amp;Refused Productions.&quot;</td><td>&quot;There is always so much to watch but I …</td><td>&quot;PT10M33S&quot;</td><td>&quot;diajsqMk-mo&quot;</td><td>&quot;2023-09-02T06:45:02&quot;</td><td>[&quot;maaveeran&quot;, &quot;movie&quot;, … &quot;yogi babu&quot;]</td><td>&quot;3 Amazing Indian Movies In 2023 That De…</td></tr></tbody></table></div>"
      ],
      "text/plain": [
       "shape: (5, 9)\n",
       "┌───────────┬───────────┬───────────┬───────────┬───┬───────────┬───────────┬───────────┬──────────┐\n",
       "│ categoryI ┆ channelId ┆ channelTi ┆ descripti ┆ … ┆ id        ┆ published ┆ tags      ┆ title    │\n",
       "│ d         ┆ ---       ┆ tle       ┆ on        ┆   ┆ ---       ┆ At        ┆ ---       ┆ ---      │\n",
       "│ ---       ┆ str       ┆ ---       ┆ ---       ┆   ┆ str       ┆ ---       ┆ list[str] ┆ str      │\n",
       "│ str       ┆           ┆ str       ┆ str       ┆   ┆           ┆ str       ┆           ┆          │\n",
       "╞═══════════╪═══════════╪═══════════╪═══════════╪═══╪═══════════╪═══════════╪═══════════╪══════════╡\n",
       "│ 28        ┆ UCs5Y5_7X ┆ Visual    ┆ #shorts   ┆ … ┆ 4dgSwnKtV ┆ 2023-09-2 ┆ [\"vscode\" ┆ Arrow    │\n",
       "│           ┆ K8HLDX0SL ┆ Studio    ┆           ┆   ┆ Lo        ┆ 2T05:12:5 ┆ , \"visual ┆ Function │\n",
       "│           ┆ Nwkd3w    ┆ Code      ┆           ┆   ┆           ┆ 3         ┆ studio    ┆ : Think  │\n",
       "│           ┆           ┆           ┆           ┆   ┆           ┆           ┆ code\",    ┆ Backward │\n",
       "│           ┆           ┆           ┆           ┆   ┆           ┆           ┆ \"vs cod…  ┆ s        │\n",
       "│ 28        ┆ UC46xhU1E ┆ anthonywr ┆ it's      ┆ … ┆ IV8OZY419 ┆ 2023-08-0 ┆ null      ┆ python   │\n",
       "│           ┆ H7aywEgvA ┆ itescode  ┆ here!     ┆   ┆ 4U        ┆ 2T15:00:2 ┆           ┆ 3.12     │\n",
       "│           ┆ 9syS3w    ┆           ┆ with ugly ┆   ┆           ┆ 5         ┆           ┆ release  │\n",
       "│           ┆           ┆           ┆ new       ┆   ┆           ┆           ┆           ┆ highligh │\n",
       "│           ┆           ┆           ┆ typing    ┆   ┆           ┆           ┆           ┆ ts (begi │\n",
       "│           ┆           ┆           ┆ syntax …  ┆   ┆           ┆           ┆           ┆ nner…    │\n",
       "│ 27        ┆ UCsDTy8jv ┆ Abhi and  ┆ To        ┆ … ┆ 4uM7RIfML ┆ 2023-10-0 ┆ [\"abhi    ┆ Australi │\n",
       "│           ┆ HcwMvSZf_ ┆ Niyu      ┆ support   ┆   ┆ K4        ┆ 7T13:00:1 ┆ and       ┆ a's      │\n",
       "│           ┆ JGi-FA    ┆           ┆ our work  ┆   ┆           ┆ 2         ┆ niyu\",    ┆ economy  │\n",
       "│           ┆           ┆           ┆ you can   ┆   ┆           ┆           ┆ \"abhi and ┆ is WEIRD │\n",
       "│           ┆           ┆           ┆ consider  ┆   ┆           ┆           ┆ niyu      ┆ | Austra │\n",
       "│           ┆           ┆           ┆ buy…      ┆   ┆           ┆           ┆ latest\"…  ┆ lia…     │\n",
       "│ 28        ┆ UCQV-7R4q ┆ Dekho     ┆ Join me   ┆ … ┆ uWLooUi8i ┆ 2023-09-0 ┆ [\"india   ┆ Will     │\n",
       "│           ┆ hAJXxdkrW ┆ Isko      ┆ on Social ┆   ┆ n0        ┆ 6T16:52:4 ┆ rename\",  ┆ India    │\n",
       "│           ┆ NOglDQ    ┆           ┆ media:-   ┆   ┆           ┆ 2         ┆ \"india    ┆ Change   │\n",
       "│           ┆           ┆           ┆ 📷        ┆   ┆           ┆           ┆ renamed   ┆ its Name │\n",
       "│           ┆           ┆           ┆ Instagram ┆   ┆           ┆           ┆ as bhara… ┆ to       │\n",
       "│           ┆           ┆           ┆ • …       ┆   ┆           ┆           ┆           ┆ Bharat   │\n",
       "│           ┆           ┆           ┆           ┆   ┆           ┆           ┆           ┆ Per…     │\n",
       "│ 24        ┆ UCgbzclo4 ┆ Tried&Ref ┆ There is  ┆ … ┆ diajsqMk- ┆ 2023-09-0 ┆ [\"maaveer ┆ 3        │\n",
       "│           ┆ Mfy_D68w_ ┆ used Prod ┆ always so ┆   ┆ mo        ┆ 2T06:45:0 ┆ an\",      ┆ Amazing  │\n",
       "│           ┆ Bm_xHg    ┆ uctions.  ┆ much to   ┆   ┆           ┆ 2         ┆ \"movie\",  ┆ Indian   │\n",
       "│           ┆           ┆           ┆ watch but ┆   ┆           ┆           ┆ … \"yogi   ┆ Movies   │\n",
       "│           ┆           ┆           ┆ I m…      ┆   ┆           ┆           ┆ babu\"]    ┆ In 2023  │\n",
       "│           ┆           ┆           ┆           ┆   ┆           ┆           ┆           ┆ That     │\n",
       "│           ┆           ┆           ┆           ┆   ┆           ┆           ┆           ┆ Des…     │\n",
       "└───────────┴───────────┴───────────┴───────────┴───┴───────────┴───────────┴───────────┴──────────┘"
      ]
     },
     "execution_count": 4,
     "metadata": {},
     "output_type": "execute_result"
    }
   ],
   "source": [
    "vdf = pl.read_json(VIDEO_DETAILS_JSON_PATH)\n",
    "vdf.head()"
   ]
  },
  {
   "cell_type": "code",
   "execution_count": 5,
   "metadata": {},
   "outputs": [
    {
     "data": {
      "text/html": [
       "<div><style>\n",
       ".dataframe > thead > tr,\n",
       ".dataframe > tbody > tr {\n",
       "  text-align: right;\n",
       "  white-space: pre-wrap;\n",
       "}\n",
       "</style>\n",
       "<small>shape: (5, 2)</small><table border=\"1\" class=\"dataframe\"><thead><tr><th>categoryId</th><th>categoryName</th></tr><tr><td>str</td><td>str</td></tr></thead><tbody><tr><td>&quot;01&quot;</td><td>&quot;Film &amp; Animation&quot;</td></tr><tr><td>&quot;02&quot;</td><td>&quot;Autos &amp; Vehicles&quot;</td></tr><tr><td>&quot;10&quot;</td><td>&quot;Music&quot;</td></tr><tr><td>&quot;15&quot;</td><td>&quot;Pets &amp; Animals&quot;</td></tr><tr><td>&quot;17&quot;</td><td>&quot;Sports&quot;</td></tr></tbody></table></div>"
      ],
      "text/plain": [
       "shape: (5, 2)\n",
       "┌────────────┬──────────────────┐\n",
       "│ categoryId ┆ categoryName     │\n",
       "│ ---        ┆ ---              │\n",
       "│ str        ┆ str              │\n",
       "╞════════════╪══════════════════╡\n",
       "│ 01         ┆ Film & Animation │\n",
       "│ 02         ┆ Autos & Vehicles │\n",
       "│ 10         ┆ Music            │\n",
       "│ 15         ┆ Pets & Animals   │\n",
       "│ 17         ┆ Sports           │\n",
       "└────────────┴──────────────────┘"
      ]
     },
     "execution_count": 5,
     "metadata": {},
     "output_type": "execute_result"
    }
   ],
   "source": [
    "cat_id_df = pl.read_json(CATEGORY_ID_MAP_PATH).transpose(\n",
    "    include_header=True,\n",
    "    header_name=\"categoryId\",\n",
    "    column_names=[\"categoryName\"],\n",
    ")\n",
    "cat_id_df.head()"
   ]
  },
  {
   "cell_type": "code",
   "execution_count": 6,
   "metadata": {},
   "outputs": [
    {
     "data": {
      "text/html": [
       "<div><style>\n",
       ".dataframe > thead > tr,\n",
       ".dataframe > tbody > tr {\n",
       "  text-align: right;\n",
       "  white-space: pre-wrap;\n",
       "}\n",
       "</style>\n",
       "<small>shape: (5, 23)</small><table border=\"1\" class=\"dataframe\"><thead><tr><th>title</th><th>titleUrl</th><th>time</th><th>fromYtSearchHistActivity</th><th>fromYtWatchHistActivity</th><th>fromWebAppActivity</th><th>videoId</th><th>channelTitle</th><th>channelId</th><th>year</th><th>month</th><th>weekday</th><th>hour</th><th>isShorts</th><th>titleTags</th><th>titleEmojis</th><th>contentType</th><th>categoryId</th><th>description</th><th>duration</th><th>publishedAt</th><th>tags</th><th>categoryName</th></tr><tr><td>str</td><td>str</td><td>datetime[μs, UTC]</td><td>bool</td><td>bool</td><td>bool</td><td>str</td><td>str</td><td>str</td><td>i64</td><td>i64</td><td>i64</td><td>i64</td><td>bool</td><td>list[str]</td><td>list[str]</td><td>str</td><td>str</td><td>str</td><td>str</td><td>str</td><td>list[str]</td><td>str</td></tr></thead><tbody><tr><td>&quot;The EU Will Break Apple.&quot;</td><td>&quot;https://youtu.be/Hod69Y1aVlY&quot;</td><td>2023-11-14 03:33:58.802 UTC</td><td>false</td><td>true</td><td>false</td><td>&quot;Hod69Y1aVlY&quot;</td><td>&quot;TechLinked&quot;</td><td>&quot;UCeeFfhMcJa1kjtfZAGskOCA&quot;</td><td>2023</td><td>11</td><td>2</td><td>3</td><td>false</td><td>[]</td><td>[]</td><td>&quot;News&quot;</td><td>&quot;28&quot;</td><td>&quot;See why Gcore is an industry leader in …</td><td>&quot;PT7M55S&quot;</td><td>&quot;2023-11-14T02:33:35&quot;</td><td>[&quot;Linus&quot;, &quot;LinusTechTips&quot;, … &quot;Google Play Store&quot;]</td><td>&quot;Science &amp; Technology&quot;</td></tr><tr><td>&quot;Why are Rajasthanis unemployed?&quot;</td><td>&quot;https://youtu.be/_GkAzfDD-uc&quot;</td><td>2023-11-14 03:19:08.026 UTC</td><td>false</td><td>true</td><td>false</td><td>&quot;_GkAzfDD-uc&quot;</td><td>&quot;Soch by Mohak Mangal&quot;</td><td>&quot;UCz4a7agVFr1TxU-mpAP8hkw&quot;</td><td>2023</td><td>11</td><td>2</td><td>3</td><td>false</td><td>[]</td><td>[]</td><td>&quot;News&quot;</td><td>&quot;27&quot;</td><td>&quot;Follow me on LinkedIn: https://www.link…</td><td>&quot;PT23M1S&quot;</td><td>&quot;2023-11-13T09:30:08&quot;</td><td>[&quot;India&quot;]</td><td>&quot;Education&quot;</td></tr><tr><td>&quot;Google is paying Samsung - Good news fo…</td><td>&quot;https://youtu.be/3K9miZLIBfg&quot;</td><td>2023-11-14 03:11:42.709 UTC</td><td>false</td><td>true</td><td>false</td><td>&quot;3K9miZLIBfg&quot;</td><td>&quot;Tech Junkies&quot;</td><td>&quot;UCn4fhtzOgtoEKIrAAV4yCMA&quot;</td><td>2023</td><td>11</td><td>2</td><td>3</td><td>false</td><td>[]</td><td>[]</td><td>&quot;News&quot;</td><td>&quot;28&quot;</td><td>&quot;Google is bribing Samsung for all andro…</td><td>&quot;PT10M30S&quot;</td><td>&quot;2023-11-13T12:46:56&quot;</td><td>[&quot;tech junkies&quot;, &quot;google&quot;, … &quot;elon musk&quot;]</td><td>&quot;Science &amp; Technology&quot;</td></tr><tr><td>&quot;Apple Ultra Saved Diabetic, Qualcomm Sa…</td><td>&quot;https://youtu.be/Z5F2Q1h2OY4&quot;</td><td>2023-11-13 15:34:50.137 UTC</td><td>false</td><td>true</td><td>false</td><td>&quot;Z5F2Q1h2OY4&quot;</td><td>&quot;Dekho Isko&quot;</td><td>&quot;UCQV-7R4qhAJXxdkrWNOglDQ&quot;</td><td>2023</td><td>11</td><td>1</td><td>15</td><td>false</td><td>[]</td><td>[]</td><td>&quot;News&quot;</td><td>&quot;28&quot;</td><td>&quot;Join me on Social media:-\n",
       "📷 Instagram •…</td><td>&quot;PT7M4S&quot;</td><td>&quot;2023-11-13T15:30:11&quot;</td><td>[&quot;Apple ultra watch&quot;, &quot;apple watch life save&quot;, … &quot;daily internet news&quot;]</td><td>&quot;Science &amp; Technology&quot;</td></tr><tr><td>&quot;Memer Job 1 Lakh Salary, Cybertruck No …</td><td>&quot;https://youtu.be/CP5bWH51VNM&quot;</td><td>2023-11-13 02:38:33.505 UTC</td><td>false</td><td>true</td><td>false</td><td>&quot;CP5bWH51VNM&quot;</td><td>&quot;Dekho Isko&quot;</td><td>&quot;UCQV-7R4qhAJXxdkrWNOglDQ&quot;</td><td>2023</td><td>11</td><td>1</td><td>2</td><td>false</td><td>[]</td><td>[]</td><td>&quot;News&quot;</td><td>&quot;28&quot;</td><td>&quot;Join me on Social media:-\n",
       "📷 Instagram •…</td><td>&quot;PT7M2S&quot;</td><td>&quot;2023-11-12T15:40:17&quot;</td><td>[&quot;cybertruck&quot;, &quot;tesla cybertruck&quot;, … &quot;dekho isko&quot;]</td><td>&quot;Science &amp; Technology&quot;</td></tr></tbody></table></div>"
      ],
      "text/plain": [
       "shape: (5, 23)\n",
       "┌───────────┬───────────┬───────────┬───────────┬───┬──────────┬───────────┬───────────┬───────────┐\n",
       "│ title     ┆ titleUrl  ┆ time      ┆ fromYtSea ┆ … ┆ duration ┆ published ┆ tags      ┆ categoryN │\n",
       "│ ---       ┆ ---       ┆ ---       ┆ rchHistAc ┆   ┆ ---      ┆ At        ┆ ---       ┆ ame       │\n",
       "│ str       ┆ str       ┆ datetime[ ┆ tivity    ┆   ┆ str      ┆ ---       ┆ list[str] ┆ ---       │\n",
       "│           ┆           ┆ μs, UTC]  ┆ ---       ┆   ┆          ┆ str       ┆           ┆ str       │\n",
       "│           ┆           ┆           ┆ bool      ┆   ┆          ┆           ┆           ┆           │\n",
       "╞═══════════╪═══════════╪═══════════╪═══════════╪═══╪══════════╪═══════════╪═══════════╪═══════════╡\n",
       "│ The EU    ┆ https://y ┆ 2023-11-1 ┆ false     ┆ … ┆ PT7M55S  ┆ 2023-11-1 ┆ [\"Linus\", ┆ Science & │\n",
       "│ Will      ┆ outu.be/H ┆ 4 03:33:5 ┆           ┆   ┆          ┆ 4T02:33:3 ┆ \"LinusTec ┆ Technolog │\n",
       "│ Break     ┆ od69Y1aVl ┆ 8.802 UTC ┆           ┆   ┆          ┆ 5         ┆ hTips\", … ┆ y         │\n",
       "│ Apple.    ┆ Y         ┆           ┆           ┆   ┆          ┆           ┆ \"Google   ┆           │\n",
       "│           ┆           ┆           ┆           ┆   ┆          ┆           ┆ Pla…      ┆           │\n",
       "│ Why are   ┆ https://y ┆ 2023-11-1 ┆ false     ┆ … ┆ PT23M1S  ┆ 2023-11-1 ┆ [\"India\"] ┆ Education │\n",
       "│ Rajasthan ┆ outu.be/_ ┆ 4 03:19:0 ┆           ┆   ┆          ┆ 3T09:30:0 ┆           ┆           │\n",
       "│ is unempl ┆ GkAzfDD-u ┆ 8.026 UTC ┆           ┆   ┆          ┆ 8         ┆           ┆           │\n",
       "│ oyed?     ┆ c         ┆           ┆           ┆   ┆          ┆           ┆           ┆           │\n",
       "│ Google is ┆ https://y ┆ 2023-11-1 ┆ false     ┆ … ┆ PT10M30S ┆ 2023-11-1 ┆ [\"tech    ┆ Science & │\n",
       "│ paying    ┆ outu.be/3 ┆ 4 03:11:4 ┆           ┆   ┆          ┆ 3T12:46:5 ┆ junkies\", ┆ Technolog │\n",
       "│ Samsung - ┆ K9miZLIBf ┆ 2.709 UTC ┆           ┆   ┆          ┆ 6         ┆ \"google\", ┆ y         │\n",
       "│ Good news ┆ g         ┆           ┆           ┆   ┆          ┆           ┆ … \"elon   ┆           │\n",
       "│ for…      ┆           ┆           ┆           ┆   ┆          ┆           ┆ musk\"…    ┆           │\n",
       "│ Apple     ┆ https://y ┆ 2023-11-1 ┆ false     ┆ … ┆ PT7M4S   ┆ 2023-11-1 ┆ [\"Apple   ┆ Science & │\n",
       "│ Ultra     ┆ outu.be/Z ┆ 3 15:34:5 ┆           ┆   ┆          ┆ 3T15:30:1 ┆ ultra     ┆ Technolog │\n",
       "│ Saved     ┆ 5F2Q1h2OY ┆ 0.137 UTC ┆           ┆   ┆          ┆ 1         ┆ watch\",   ┆ y         │\n",
       "│ Diabetic, ┆ 4         ┆           ┆           ┆   ┆          ┆           ┆ \"apple    ┆           │\n",
       "│ Qualcomm  ┆           ┆           ┆           ┆   ┆          ┆           ┆ watch     ┆           │\n",
       "│ Sat…      ┆           ┆           ┆           ┆   ┆          ┆           ┆ life …    ┆           │\n",
       "│ Memer Job ┆ https://y ┆ 2023-11-1 ┆ false     ┆ … ┆ PT7M2S   ┆ 2023-11-1 ┆ [\"cybertr ┆ Science & │\n",
       "│ 1 Lakh    ┆ outu.be/C ┆ 3 02:38:3 ┆           ┆   ┆          ┆ 2T15:40:1 ┆ uck\",     ┆ Technolog │\n",
       "│ Salary,   ┆ P5bWH51VN ┆ 3.505 UTC ┆           ┆   ┆          ┆ 7         ┆ \"tesla    ┆ y         │\n",
       "│ Cybertruc ┆ M         ┆           ┆           ┆   ┆          ┆           ┆ cybertruc ┆           │\n",
       "│ k No R…   ┆           ┆           ┆           ┆   ┆          ┆           ┆ k\", …     ┆           │\n",
       "│           ┆           ┆           ┆           ┆   ┆          ┆           ┆ \"de…      ┆           │\n",
       "└───────────┴───────────┴───────────┴───────────┴───┴──────────┴───────────┴───────────┴───────────┘"
      ]
     },
     "execution_count": 6,
     "metadata": {},
     "output_type": "execute_result"
    }
   ],
   "source": [
    "mdf = df.join(\n",
    "    vdf.drop(\"title\", \"channelTitle\", \"channelId\"), left_on=\"videoId\", right_on=\"id\"\n",
    ").join(cat_id_df, on=\"categoryId\")\n",
    "mdf.head()"
   ]
  },
  {
   "cell_type": "code",
   "execution_count": null,
   "metadata": {},
   "outputs": [],
   "source": [
    "def handle_duration(x: str):\n",
    "    total_sec = 0\n",
    "    # Hours\n",
    "    hr = re.search(r\"(\\d+)H\", x)\n",
    "    total_sec += int(hr.group(1)) * 3600 if hr else 0\n",
    "    # Minutes\n",
    "    min = re.search(r\"(\\d+)M\", x)  # noqa: A001\n",
    "    total_sec += int(min.group(1)) * 60 if min else 0\n",
    "    # Seconds\n",
    "    sec = re.search(r\"(\\d+)S\", x)\n",
    "    total_sec += int(sec.group(1)) if sec else 0\n",
    "    return total_sec"
   ]
  },
  {
   "cell_type": "code",
   "execution_count": 8,
   "metadata": {},
   "outputs": [
    {
     "data": {
      "text/html": [
       "<div><style>\n",
       ".dataframe > thead > tr,\n",
       ".dataframe > tbody > tr {\n",
       "  text-align: right;\n",
       "  white-space: pre-wrap;\n",
       "}\n",
       "</style>\n",
       "<small>shape: (5, 24)</small><table border=\"1\" class=\"dataframe\"><thead><tr><th>title</th><th>titleUrl</th><th>time</th><th>fromYtSearchHistActivity</th><th>fromYtWatchHistActivity</th><th>fromWebAppActivity</th><th>videoId</th><th>channelTitle</th><th>channelId</th><th>year</th><th>month</th><th>weekday</th><th>hour</th><th>isShorts</th><th>titleTags</th><th>titleEmojis</th><th>contentType</th><th>description</th><th>publishedAt</th><th>tags</th><th>categoryName</th><th>durationInSec</th><th>durationHasDay</th><th>daytime</th></tr><tr><td>str</td><td>str</td><td>datetime[μs, UTC]</td><td>bool</td><td>bool</td><td>bool</td><td>str</td><td>str</td><td>str</td><td>i64</td><td>i64</td><td>i64</td><td>i64</td><td>bool</td><td>list[str]</td><td>list[str]</td><td>str</td><td>str</td><td>datetime[μs]</td><td>list[str]</td><td>str</td><td>i64</td><td>bool</td><td>cat</td></tr></thead><tbody><tr><td>&quot;The EU Will Break Apple.&quot;</td><td>&quot;https://youtu.be/Hod69Y1aVlY&quot;</td><td>2023-11-14 03:33:58.802 UTC</td><td>false</td><td>true</td><td>false</td><td>&quot;Hod69Y1aVlY&quot;</td><td>&quot;TechLinked&quot;</td><td>&quot;UCeeFfhMcJa1kjtfZAGskOCA&quot;</td><td>2023</td><td>11</td><td>2</td><td>3</td><td>false</td><td>[]</td><td>[]</td><td>&quot;News&quot;</td><td>&quot;See why Gcore is an industry leader in …</td><td>2023-11-14 02:33:35</td><td>[&quot;Linus&quot;, &quot;LinusTechTips&quot;, … &quot;Google Play Store&quot;]</td><td>&quot;Science &amp; Technology&quot;</td><td>475</td><td>false</td><td>&quot;Night&quot;</td></tr><tr><td>&quot;Why are Rajasthanis unemployed?&quot;</td><td>&quot;https://youtu.be/_GkAzfDD-uc&quot;</td><td>2023-11-14 03:19:08.026 UTC</td><td>false</td><td>true</td><td>false</td><td>&quot;_GkAzfDD-uc&quot;</td><td>&quot;Soch by Mohak Mangal&quot;</td><td>&quot;UCz4a7agVFr1TxU-mpAP8hkw&quot;</td><td>2023</td><td>11</td><td>2</td><td>3</td><td>false</td><td>[]</td><td>[]</td><td>&quot;News&quot;</td><td>&quot;Follow me on LinkedIn: https://www.link…</td><td>2023-11-13 09:30:08</td><td>[&quot;India&quot;]</td><td>&quot;Education&quot;</td><td>1381</td><td>false</td><td>&quot;Night&quot;</td></tr><tr><td>&quot;Google is paying Samsung - Good news fo…</td><td>&quot;https://youtu.be/3K9miZLIBfg&quot;</td><td>2023-11-14 03:11:42.709 UTC</td><td>false</td><td>true</td><td>false</td><td>&quot;3K9miZLIBfg&quot;</td><td>&quot;Tech Junkies&quot;</td><td>&quot;UCn4fhtzOgtoEKIrAAV4yCMA&quot;</td><td>2023</td><td>11</td><td>2</td><td>3</td><td>false</td><td>[]</td><td>[]</td><td>&quot;News&quot;</td><td>&quot;Google is bribing Samsung for all andro…</td><td>2023-11-13 12:46:56</td><td>[&quot;tech junkies&quot;, &quot;google&quot;, … &quot;elon musk&quot;]</td><td>&quot;Science &amp; Technology&quot;</td><td>630</td><td>false</td><td>&quot;Night&quot;</td></tr><tr><td>&quot;Apple Ultra Saved Diabetic, Qualcomm Sa…</td><td>&quot;https://youtu.be/Z5F2Q1h2OY4&quot;</td><td>2023-11-13 15:34:50.137 UTC</td><td>false</td><td>true</td><td>false</td><td>&quot;Z5F2Q1h2OY4&quot;</td><td>&quot;Dekho Isko&quot;</td><td>&quot;UCQV-7R4qhAJXxdkrWNOglDQ&quot;</td><td>2023</td><td>11</td><td>1</td><td>15</td><td>false</td><td>[]</td><td>[]</td><td>&quot;News&quot;</td><td>&quot;Join me on Social media:-\n",
       "📷 Instagram •…</td><td>2023-11-13 15:30:11</td><td>[&quot;Apple ultra watch&quot;, &quot;apple watch life save&quot;, … &quot;daily internet news&quot;]</td><td>&quot;Science &amp; Technology&quot;</td><td>424</td><td>false</td><td>&quot;Afternoon&quot;</td></tr><tr><td>&quot;Memer Job 1 Lakh Salary, Cybertruck No …</td><td>&quot;https://youtu.be/CP5bWH51VNM&quot;</td><td>2023-11-13 02:38:33.505 UTC</td><td>false</td><td>true</td><td>false</td><td>&quot;CP5bWH51VNM&quot;</td><td>&quot;Dekho Isko&quot;</td><td>&quot;UCQV-7R4qhAJXxdkrWNOglDQ&quot;</td><td>2023</td><td>11</td><td>1</td><td>2</td><td>false</td><td>[]</td><td>[]</td><td>&quot;News&quot;</td><td>&quot;Join me on Social media:-\n",
       "📷 Instagram •…</td><td>2023-11-12 15:40:17</td><td>[&quot;cybertruck&quot;, &quot;tesla cybertruck&quot;, … &quot;dekho isko&quot;]</td><td>&quot;Science &amp; Technology&quot;</td><td>422</td><td>false</td><td>&quot;Night&quot;</td></tr></tbody></table></div>"
      ],
      "text/plain": [
       "shape: (5, 24)\n",
       "┌───────────┬───────────┬───────────┬───────────┬───┬───────────┬───────────┬───────────┬──────────┐\n",
       "│ title     ┆ titleUrl  ┆ time      ┆ fromYtSea ┆ … ┆ categoryN ┆ durationI ┆ durationH ┆ daytime  │\n",
       "│ ---       ┆ ---       ┆ ---       ┆ rchHistAc ┆   ┆ ame       ┆ nSec      ┆ asDay     ┆ ---      │\n",
       "│ str       ┆ str       ┆ datetime[ ┆ tivity    ┆   ┆ ---       ┆ ---       ┆ ---       ┆ cat      │\n",
       "│           ┆           ┆ μs, UTC]  ┆ ---       ┆   ┆ str       ┆ i64       ┆ bool      ┆          │\n",
       "│           ┆           ┆           ┆ bool      ┆   ┆           ┆           ┆           ┆          │\n",
       "╞═══════════╪═══════════╪═══════════╪═══════════╪═══╪═══════════╪═══════════╪═══════════╪══════════╡\n",
       "│ The EU    ┆ https://y ┆ 2023-11-1 ┆ false     ┆ … ┆ Science & ┆ 475       ┆ false     ┆ Night    │\n",
       "│ Will      ┆ outu.be/H ┆ 4 03:33:5 ┆           ┆   ┆ Technolog ┆           ┆           ┆          │\n",
       "│ Break     ┆ od69Y1aVl ┆ 8.802 UTC ┆           ┆   ┆ y         ┆           ┆           ┆          │\n",
       "│ Apple.    ┆ Y         ┆           ┆           ┆   ┆           ┆           ┆           ┆          │\n",
       "│ Why are   ┆ https://y ┆ 2023-11-1 ┆ false     ┆ … ┆ Education ┆ 1381      ┆ false     ┆ Night    │\n",
       "│ Rajasthan ┆ outu.be/_ ┆ 4 03:19:0 ┆           ┆   ┆           ┆           ┆           ┆          │\n",
       "│ is unempl ┆ GkAzfDD-u ┆ 8.026 UTC ┆           ┆   ┆           ┆           ┆           ┆          │\n",
       "│ oyed?     ┆ c         ┆           ┆           ┆   ┆           ┆           ┆           ┆          │\n",
       "│ Google is ┆ https://y ┆ 2023-11-1 ┆ false     ┆ … ┆ Science & ┆ 630       ┆ false     ┆ Night    │\n",
       "│ paying    ┆ outu.be/3 ┆ 4 03:11:4 ┆           ┆   ┆ Technolog ┆           ┆           ┆          │\n",
       "│ Samsung - ┆ K9miZLIBf ┆ 2.709 UTC ┆           ┆   ┆ y         ┆           ┆           ┆          │\n",
       "│ Good news ┆ g         ┆           ┆           ┆   ┆           ┆           ┆           ┆          │\n",
       "│ for…      ┆           ┆           ┆           ┆   ┆           ┆           ┆           ┆          │\n",
       "│ Apple     ┆ https://y ┆ 2023-11-1 ┆ false     ┆ … ┆ Science & ┆ 424       ┆ false     ┆ Afternoo │\n",
       "│ Ultra     ┆ outu.be/Z ┆ 3 15:34:5 ┆           ┆   ┆ Technolog ┆           ┆           ┆ n        │\n",
       "│ Saved     ┆ 5F2Q1h2OY ┆ 0.137 UTC ┆           ┆   ┆ y         ┆           ┆           ┆          │\n",
       "│ Diabetic, ┆ 4         ┆           ┆           ┆   ┆           ┆           ┆           ┆          │\n",
       "│ Qualcomm  ┆           ┆           ┆           ┆   ┆           ┆           ┆           ┆          │\n",
       "│ Sat…      ┆           ┆           ┆           ┆   ┆           ┆           ┆           ┆          │\n",
       "│ Memer Job ┆ https://y ┆ 2023-11-1 ┆ false     ┆ … ┆ Science & ┆ 422       ┆ false     ┆ Night    │\n",
       "│ 1 Lakh    ┆ outu.be/C ┆ 3 02:38:3 ┆           ┆   ┆ Technolog ┆           ┆           ┆          │\n",
       "│ Salary,   ┆ P5bWH51VN ┆ 3.505 UTC ┆           ┆   ┆ y         ┆           ┆           ┆          │\n",
       "│ Cybertruc ┆ M         ┆           ┆           ┆   ┆           ┆           ┆           ┆          │\n",
       "│ k No R…   ┆           ┆           ┆           ┆   ┆           ┆           ┆           ┆          │\n",
       "└───────────┴───────────┴───────────┴───────────┴───┴───────────┴───────────┴───────────┴──────────┘"
      ]
     },
     "execution_count": 8,
     "metadata": {},
     "output_type": "execute_result"
    }
   ],
   "source": [
    "mdf = mdf.with_columns(\n",
    "    pl.col(\"publishedAt\").str.to_datetime(),\n",
    "    pl.col(\"duration\").map_elements(handle_duration, pl.Int64).alias(\"durationInSec\"),\n",
    "    pl.col(\"duration\").str.contains(\"D\").alias(\"durationHasDay\"),\n",
    "    pl.col(\"tags\").is_null().add(pl.col(\"isShorts\")).cast(bool).alias(\"isShorts\"),\n",
    "    pl.col(\"hour\")\n",
    "    .cut(\n",
    "        breaks=[5, 12, 17, 21],\n",
    "        labels=[\"Night\", \"Morning\", \"Afternoon\", \"Evening\", \"Night\"],\n",
    "        left_closed=True,\n",
    "    )\n",
    "    .alias(\"daytime\"),\n",
    ").drop(\"duration\", \"categoryId\")\n",
    "mdf.head()"
   ]
  },
  {
   "cell_type": "markdown",
   "metadata": {},
   "source": [
    "### Sunbrust between `caetgoryName` and `channelTitle`\n"
   ]
  },
  {
   "cell_type": "code",
   "execution_count": null,
   "metadata": {},
   "outputs": [],
   "source": [
    "px.sunburst(\n",
    "    mdf.group_by([\"channelTitle\", \"categoryName\"]).count(),\n",
    "    path=[\"categoryName\", \"channelTitle\"],\n",
    "    values=\"count\",\n",
    "    title=\"Video Distribution by Category and Channel\",\n",
    ")"
   ]
  },
  {
   "cell_type": "markdown",
   "metadata": {},
   "source": [
    "### WorldCloud of `titleEmojis`\n"
   ]
  },
  {
   "cell_type": "code",
   "execution_count": 9,
   "metadata": {},
   "outputs": [
    {
     "name": "stdout",
     "output_type": "stream",
     "text": [
      "{'😱': 11, '👏': 9, '😮': 8, '🇮🇳': 6, '😂': 3, '🤯': 3, '🔥': 3, '⭐': 2, '🙏': 2, '🍀': 2, '☹️': 2, '😰': 2, '👀': 1, '❤️': 1, '😎': 1, '📢': 1, '🔴': 1, '⚡': 1, '😅': 1, '🛑': 1, '⚠️': 1, '💡': 1, '🎁': 1, '🇲🇾': 1, '🇲🇽': 1, '🤨': 1, '😭': 1, '💼': 1, '⚖️': 1, '🤔': 1}\n"
     ]
    }
   ],
   "source": [
    "emoji_freq = dict(\n",
    "    zip(\n",
    "        *mdf[\"titleEmojis\"]\n",
    "        .explode()\n",
    "        .value_counts(sort=True)\n",
    "        .drop_nulls()\n",
    "        .to_dict(as_series=False)\n",
    "        .values(),\n",
    "        strict=False,\n",
    "    )\n",
    ")\n",
    "print(emoji_freq)"
   ]
  },
  {
   "cell_type": "code",
   "execution_count": null,
   "metadata": {},
   "outputs": [],
   "source": [
    "cloud = wordcloud.WordCloud(\"Menlo\", height=800, width=800).generate_from_frequencies(\n",
    "    emoji_freq\n",
    ")\n",
    "plt.imshow(cloud, interpolation=\"bilinear\")\n",
    "plt.axis(\"off\")\n",
    "plt.title(\"Word Cloud of Emojis in Titles\")\n",
    "plt.show()"
   ]
  },
  {
   "cell_type": "markdown",
   "metadata": {},
   "source": [
    "### Wordcloud of `titleTags`\n"
   ]
  },
  {
   "cell_type": "code",
   "execution_count": 19,
   "metadata": {},
   "outputs": [
    {
     "data": {
      "text/plain": [
       "'10 07 06 06 05 python code windows development python lambda vscode code javascript programming code vscode vscode 04 semiconductor business startup 03 6 5 4 3 2 1 startup business entrepreneurship iphone iphone15 bigbilliondays2023 gif bbd 357 043 iphone iphone15 iphone15promax startup business entrepreneurship 01 3 modi 434 102 427 423 433 550 430 368 164 534 540 548 166 167'"
      ]
     },
     "execution_count": 19,
     "metadata": {},
     "output_type": "execute_result"
    }
   ],
   "source": [
    "tags_text = \" \".join(\n",
    "    mdf[\"titleTags\"]\n",
    "    .explode()\n",
    "    .drop_nulls()\n",
    "    .str.strip_prefix(\"#\")\n",
    "    .str.to_lowercase()\n",
    "    .to_list()\n",
    ")\n",
    "tags_text"
   ]
  },
  {
   "cell_type": "code",
   "execution_count": null,
   "metadata": {},
   "outputs": [],
   "source": [
    "cloud = wordcloud.WordCloud(height=800, width=800).generate(tags_text)\n",
    "plt.figure(figsize=(10, 10))\n",
    "plt.imshow(cloud, interpolation=\"bilinear\")\n",
    "plt.axis(\"off\")\n",
    "plt.title(\"Word Cloud of Emojis in Titles\")\n",
    "plt.show()"
   ]
  },
  {
   "cell_type": "markdown",
   "metadata": {},
   "source": [
    "### User's watching patterns\n"
   ]
  },
  {
   "cell_type": "code",
   "execution_count": null,
   "metadata": {},
   "outputs": [],
   "source": [
    "px.sunburst(\n",
    "    mdf.group_by([\"daytime\", \"categoryName\"]).count(),\n",
    "    path=[\"daytime\", \"categoryName\"],\n",
    "    values=\"count\",\n",
    "    title=\"User's watching behaviour during daytime\",\n",
    ")"
   ]
  },
  {
   "cell_type": "markdown",
   "metadata": {},
   "source": [
    "#### Patterns in `month` and `year`\n"
   ]
  },
  {
   "cell_type": "code",
   "execution_count": null,
   "metadata": {},
   "outputs": [],
   "source": [
    "__year = 2023\n",
    "\n",
    "px.sunburst(\n",
    "    mdf.filter(pl.col(\"year\") == __year).group_by([\"month\", \"categoryName\"]).count(),\n",
    "    path=[\"month\", \"categoryName\"],\n",
    "    values=\"count\",\n",
    "    title=\"Watching patterns for months.\",\n",
    ")"
   ]
  },
  {
   "cell_type": "markdown",
   "metadata": {},
   "source": [
    "### EDA of video `duration`\n"
   ]
  },
  {
   "cell_type": "code",
   "execution_count": null,
   "metadata": {},
   "outputs": [],
   "source": [
    "px.pie(\n",
    "    mdf[\"isShorts\"]\n",
    "    .map_elements(lambda x: \"Shorts Video\" if x else \"Long Videos\")\n",
    "    .value_counts(),\n",
    "    names=\"isShorts\",\n",
    "    values=\"counts\",\n",
    "    title=\"Ratio between Shorts and Long Form Video\",\n",
    ")"
   ]
  },
  {
   "cell_type": "markdown",
   "metadata": {},
   "source": [
    "Suggestion to get insights from `duration` column:\n",
    "\n",
    "- **Average duration by content type:** This can help you identify the types of content that the user typically watches\n",
    "  for longer periods of time. For example, you might find that the user watches longer videos on entertainment channels\n",
    "  than on news channels.\n",
    "\n",
    "- **Average duration by time period:** This can help you identify when the user is most likely to watch longer videos.\n",
    "  For example, you might find that the user watches longer videos in the evening than in the morning.\n",
    "\n",
    "- **Distribution of durations:** This can help you understand how the user's watch time is distributed across different\n",
    "  video lengths. For example, you might find that the user watches a lot of short videos, but also watches a few long\n",
    "  videos each week.\n",
    "\n",
    "- **Correlation between duration and other features:** This can help you identify other factors that are related to how\n",
    "  long the user watches videos. For example, you might find that the user watches longer videos on channels that they\n",
    "  subscribe to, or that they watch longer videos when they are using the YouTube app on their phone.\n"
   ]
  },
  {
   "cell_type": "code",
   "execution_count": null,
   "metadata": {},
   "outputs": [],
   "source": [
    "px.sunburst(\n",
    "    mdf.group_by(\"categoryName\", \"channelTitle\").agg(\n",
    "        pl.col(\"durationInSec\").mean().cast(int).alias(\"durationMean\"),\n",
    "    ),\n",
    "    path=[\"categoryName\", \"channelTitle\"],\n",
    "    values=\"durationMean\",\n",
    "    title=\"Average Video Duration by Category and Channel\",\n",
    ")"
   ]
  },
  {
   "cell_type": "code",
   "execution_count": null,
   "metadata": {},
   "outputs": [],
   "source": [
    "px.sunburst(\n",
    "    mdf.group_by(\"categoryName\", \"channelTitle\").agg(\n",
    "        pl.col(\"isShorts\").sum(),\n",
    "    ),\n",
    "    path=[\"categoryName\", \"channelTitle\"],\n",
    "    values=\"isShorts\",\n",
    "    title=\"Distribution of Shorts by Channels\",\n",
    ")"
   ]
  }
 ],
 "metadata": {
  "kernelspec": {
   "display_name": "Python 3",
   "language": "python",
   "name": "python3"
  },
  "language_info": {
   "codemirror_mode": {
    "name": "ipython",
    "version": 3
   },
   "file_extension": ".py",
   "mimetype": "text/x-python",
   "name": "python",
   "nbconvert_exporter": "python",
   "pygments_lexer": "ipython3",
   "version": "3.11.0"
  }
 },
 "nbformat": 4,
 "nbformat_minor": 2
}
