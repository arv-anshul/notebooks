{
 "cells": [
  {
   "cell_type": "code",
   "execution_count": 219,
   "id": "b70b9123",
   "metadata": {},
   "outputs": [],
   "source": [
    "import pandas as pd\n",
    "import numpy as np\n",
    "import os\n",
    "import matplotlib.pyplot as plt"
   ]
  },
  {
   "cell_type": "markdown",
   "id": "451a3727",
   "metadata": {},
   "source": [
    "# Load the Dataset"
   ]
  },
  {
   "cell_type": "code",
   "execution_count": 220,
   "id": "691c73d2",
   "metadata": {},
   "outputs": [
    {
     "name": "stdout",
     "output_type": "stream",
     "text": [
      "C:\\Users\\Laptop House\\Data Science\\CreditRisk\\Dataset\\case_study1.xlsx\n",
      "C:\\Users\\Laptop House\\Data Science\\CreditRisk\\Dataset\\case_study2.xlsx\n",
      "C:\\Users\\Laptop House\\Data Science\\CreditRisk\\Dataset\\Features_Target_Description.xlsx\n"
     ]
    }
   ],
   "source": [
    "files_path=[]\n",
    "for i in os.listdir(\"Dataset\"):\n",
    "    files_path.append(f\"{os.path.join(os.getcwd())}\\Dataset\\{i}\")\n",
    "    print(f\"{os.path.join(os.getcwd())}\\Dataset\\{i}\")"
   ]
  },
  {
   "cell_type": "markdown",
   "id": "1842392d",
   "metadata": {},
   "source": [
    "# Now we have files path now we can read the dataset"
   ]
  },
  {
   "cell_type": "code",
   "execution_count": 221,
   "id": "ef91839c",
   "metadata": {},
   "outputs": [],
   "source": [
    "df1=pd.read_excel(files_path[0])\n",
    "df2=pd.read_excel(files_path[1])"
   ]
  },
  {
   "cell_type": "code",
   "execution_count": 222,
   "id": "7f5aa3a5",
   "metadata": {},
   "outputs": [
    {
     "data": {
      "text/html": [
       "<div>\n",
       "<style scoped>\n",
       "    .dataframe tbody tr th:only-of-type {\n",
       "        vertical-align: middle;\n",
       "    }\n",
       "\n",
       "    .dataframe tbody tr th {\n",
       "        vertical-align: top;\n",
       "    }\n",
       "\n",
       "    .dataframe thead th {\n",
       "        text-align: right;\n",
       "    }\n",
       "</style>\n",
       "<table border=\"1\" class=\"dataframe\">\n",
       "  <thead>\n",
       "    <tr style=\"text-align: right;\">\n",
       "      <th></th>\n",
       "      <th>PROSPECTID</th>\n",
       "      <th>Total_TL</th>\n",
       "      <th>Tot_Closed_TL</th>\n",
       "      <th>Tot_Active_TL</th>\n",
       "      <th>Total_TL_opened_L6M</th>\n",
       "      <th>Tot_TL_closed_L6M</th>\n",
       "      <th>pct_tl_open_L6M</th>\n",
       "      <th>pct_tl_closed_L6M</th>\n",
       "      <th>pct_active_tl</th>\n",
       "      <th>pct_closed_tl</th>\n",
       "      <th>...</th>\n",
       "      <th>CC_TL</th>\n",
       "      <th>Consumer_TL</th>\n",
       "      <th>Gold_TL</th>\n",
       "      <th>Home_TL</th>\n",
       "      <th>PL_TL</th>\n",
       "      <th>Secured_TL</th>\n",
       "      <th>Unsecured_TL</th>\n",
       "      <th>Other_TL</th>\n",
       "      <th>Age_Oldest_TL</th>\n",
       "      <th>Age_Newest_TL</th>\n",
       "    </tr>\n",
       "  </thead>\n",
       "  <tbody>\n",
       "    <tr>\n",
       "      <th>0</th>\n",
       "      <td>1</td>\n",
       "      <td>5</td>\n",
       "      <td>4</td>\n",
       "      <td>1</td>\n",
       "      <td>0</td>\n",
       "      <td>0</td>\n",
       "      <td>0.000</td>\n",
       "      <td>0.0</td>\n",
       "      <td>0.200</td>\n",
       "      <td>0.800</td>\n",
       "      <td>...</td>\n",
       "      <td>0</td>\n",
       "      <td>0</td>\n",
       "      <td>1</td>\n",
       "      <td>0</td>\n",
       "      <td>4</td>\n",
       "      <td>1</td>\n",
       "      <td>4</td>\n",
       "      <td>0</td>\n",
       "      <td>72</td>\n",
       "      <td>18</td>\n",
       "    </tr>\n",
       "    <tr>\n",
       "      <th>1</th>\n",
       "      <td>2</td>\n",
       "      <td>1</td>\n",
       "      <td>0</td>\n",
       "      <td>1</td>\n",
       "      <td>0</td>\n",
       "      <td>0</td>\n",
       "      <td>0.000</td>\n",
       "      <td>0.0</td>\n",
       "      <td>1.000</td>\n",
       "      <td>0.000</td>\n",
       "      <td>...</td>\n",
       "      <td>0</td>\n",
       "      <td>1</td>\n",
       "      <td>0</td>\n",
       "      <td>0</td>\n",
       "      <td>0</td>\n",
       "      <td>0</td>\n",
       "      <td>1</td>\n",
       "      <td>0</td>\n",
       "      <td>7</td>\n",
       "      <td>7</td>\n",
       "    </tr>\n",
       "    <tr>\n",
       "      <th>2</th>\n",
       "      <td>3</td>\n",
       "      <td>8</td>\n",
       "      <td>0</td>\n",
       "      <td>8</td>\n",
       "      <td>1</td>\n",
       "      <td>0</td>\n",
       "      <td>0.125</td>\n",
       "      <td>0.0</td>\n",
       "      <td>1.000</td>\n",
       "      <td>0.000</td>\n",
       "      <td>...</td>\n",
       "      <td>0</td>\n",
       "      <td>6</td>\n",
       "      <td>1</td>\n",
       "      <td>0</td>\n",
       "      <td>0</td>\n",
       "      <td>2</td>\n",
       "      <td>6</td>\n",
       "      <td>0</td>\n",
       "      <td>47</td>\n",
       "      <td>2</td>\n",
       "    </tr>\n",
       "    <tr>\n",
       "      <th>3</th>\n",
       "      <td>4</td>\n",
       "      <td>1</td>\n",
       "      <td>0</td>\n",
       "      <td>1</td>\n",
       "      <td>1</td>\n",
       "      <td>0</td>\n",
       "      <td>1.000</td>\n",
       "      <td>0.0</td>\n",
       "      <td>1.000</td>\n",
       "      <td>0.000</td>\n",
       "      <td>...</td>\n",
       "      <td>0</td>\n",
       "      <td>0</td>\n",
       "      <td>0</td>\n",
       "      <td>0</td>\n",
       "      <td>0</td>\n",
       "      <td>0</td>\n",
       "      <td>1</td>\n",
       "      <td>1</td>\n",
       "      <td>5</td>\n",
       "      <td>5</td>\n",
       "    </tr>\n",
       "    <tr>\n",
       "      <th>4</th>\n",
       "      <td>5</td>\n",
       "      <td>3</td>\n",
       "      <td>2</td>\n",
       "      <td>1</td>\n",
       "      <td>0</td>\n",
       "      <td>0</td>\n",
       "      <td>0.000</td>\n",
       "      <td>0.0</td>\n",
       "      <td>0.333</td>\n",
       "      <td>0.667</td>\n",
       "      <td>...</td>\n",
       "      <td>0</td>\n",
       "      <td>0</td>\n",
       "      <td>0</td>\n",
       "      <td>0</td>\n",
       "      <td>0</td>\n",
       "      <td>3</td>\n",
       "      <td>0</td>\n",
       "      <td>2</td>\n",
       "      <td>131</td>\n",
       "      <td>32</td>\n",
       "    </tr>\n",
       "  </tbody>\n",
       "</table>\n",
       "<p>5 rows × 26 columns</p>\n",
       "</div>"
      ],
      "text/plain": [
       "   PROSPECTID  Total_TL  Tot_Closed_TL  Tot_Active_TL  Total_TL_opened_L6M  \\\n",
       "0           1         5              4              1                    0   \n",
       "1           2         1              0              1                    0   \n",
       "2           3         8              0              8                    1   \n",
       "3           4         1              0              1                    1   \n",
       "4           5         3              2              1                    0   \n",
       "\n",
       "   Tot_TL_closed_L6M  pct_tl_open_L6M  pct_tl_closed_L6M  pct_active_tl  \\\n",
       "0                  0            0.000                0.0          0.200   \n",
       "1                  0            0.000                0.0          1.000   \n",
       "2                  0            0.125                0.0          1.000   \n",
       "3                  0            1.000                0.0          1.000   \n",
       "4                  0            0.000                0.0          0.333   \n",
       "\n",
       "   pct_closed_tl  ...  CC_TL  Consumer_TL  Gold_TL  Home_TL  PL_TL  \\\n",
       "0          0.800  ...      0            0        1        0      4   \n",
       "1          0.000  ...      0            1        0        0      0   \n",
       "2          0.000  ...      0            6        1        0      0   \n",
       "3          0.000  ...      0            0        0        0      0   \n",
       "4          0.667  ...      0            0        0        0      0   \n",
       "\n",
       "   Secured_TL  Unsecured_TL  Other_TL  Age_Oldest_TL  Age_Newest_TL  \n",
       "0           1             4         0             72             18  \n",
       "1           0             1         0              7              7  \n",
       "2           2             6         0             47              2  \n",
       "3           0             1         1              5              5  \n",
       "4           3             0         2            131             32  \n",
       "\n",
       "[5 rows x 26 columns]"
      ]
     },
     "execution_count": 222,
     "metadata": {},
     "output_type": "execute_result"
    }
   ],
   "source": [
    "df1.head()"
   ]
  },
  {
   "cell_type": "code",
   "execution_count": 223,
   "id": "266a587e",
   "metadata": {},
   "outputs": [
    {
     "data": {
      "text/html": [
       "<div>\n",
       "<style scoped>\n",
       "    .dataframe tbody tr th:only-of-type {\n",
       "        vertical-align: middle;\n",
       "    }\n",
       "\n",
       "    .dataframe tbody tr th {\n",
       "        vertical-align: top;\n",
       "    }\n",
       "\n",
       "    .dataframe thead th {\n",
       "        text-align: right;\n",
       "    }\n",
       "</style>\n",
       "<table border=\"1\" class=\"dataframe\">\n",
       "  <thead>\n",
       "    <tr style=\"text-align: right;\">\n",
       "      <th></th>\n",
       "      <th>PROSPECTID</th>\n",
       "      <th>time_since_recent_payment</th>\n",
       "      <th>time_since_first_deliquency</th>\n",
       "      <th>time_since_recent_deliquency</th>\n",
       "      <th>num_times_delinquent</th>\n",
       "      <th>max_delinquency_level</th>\n",
       "      <th>max_recent_level_of_deliq</th>\n",
       "      <th>num_deliq_6mts</th>\n",
       "      <th>num_deliq_12mts</th>\n",
       "      <th>num_deliq_6_12mts</th>\n",
       "      <th>...</th>\n",
       "      <th>pct_CC_enq_L6m_of_L12m</th>\n",
       "      <th>pct_PL_enq_L6m_of_ever</th>\n",
       "      <th>pct_CC_enq_L6m_of_ever</th>\n",
       "      <th>max_unsec_exposure_inPct</th>\n",
       "      <th>HL_Flag</th>\n",
       "      <th>GL_Flag</th>\n",
       "      <th>last_prod_enq2</th>\n",
       "      <th>first_prod_enq2</th>\n",
       "      <th>Credit_Score</th>\n",
       "      <th>Approved_Flag</th>\n",
       "    </tr>\n",
       "  </thead>\n",
       "  <tbody>\n",
       "    <tr>\n",
       "      <th>0</th>\n",
       "      <td>1</td>\n",
       "      <td>549</td>\n",
       "      <td>35</td>\n",
       "      <td>15</td>\n",
       "      <td>11</td>\n",
       "      <td>29</td>\n",
       "      <td>29</td>\n",
       "      <td>0</td>\n",
       "      <td>0</td>\n",
       "      <td>0</td>\n",
       "      <td>...</td>\n",
       "      <td>0.0</td>\n",
       "      <td>0.0</td>\n",
       "      <td>0.0</td>\n",
       "      <td>13.333</td>\n",
       "      <td>1</td>\n",
       "      <td>0</td>\n",
       "      <td>PL</td>\n",
       "      <td>PL</td>\n",
       "      <td>696</td>\n",
       "      <td>P2</td>\n",
       "    </tr>\n",
       "    <tr>\n",
       "      <th>1</th>\n",
       "      <td>2</td>\n",
       "      <td>47</td>\n",
       "      <td>-99999</td>\n",
       "      <td>-99999</td>\n",
       "      <td>0</td>\n",
       "      <td>-99999</td>\n",
       "      <td>0</td>\n",
       "      <td>0</td>\n",
       "      <td>0</td>\n",
       "      <td>0</td>\n",
       "      <td>...</td>\n",
       "      <td>0.0</td>\n",
       "      <td>0.0</td>\n",
       "      <td>0.0</td>\n",
       "      <td>0.860</td>\n",
       "      <td>0</td>\n",
       "      <td>0</td>\n",
       "      <td>ConsumerLoan</td>\n",
       "      <td>ConsumerLoan</td>\n",
       "      <td>685</td>\n",
       "      <td>P2</td>\n",
       "    </tr>\n",
       "    <tr>\n",
       "      <th>2</th>\n",
       "      <td>3</td>\n",
       "      <td>302</td>\n",
       "      <td>11</td>\n",
       "      <td>3</td>\n",
       "      <td>9</td>\n",
       "      <td>25</td>\n",
       "      <td>25</td>\n",
       "      <td>1</td>\n",
       "      <td>9</td>\n",
       "      <td>8</td>\n",
       "      <td>...</td>\n",
       "      <td>0.0</td>\n",
       "      <td>0.0</td>\n",
       "      <td>0.0</td>\n",
       "      <td>5741.667</td>\n",
       "      <td>1</td>\n",
       "      <td>0</td>\n",
       "      <td>ConsumerLoan</td>\n",
       "      <td>others</td>\n",
       "      <td>693</td>\n",
       "      <td>P2</td>\n",
       "    </tr>\n",
       "    <tr>\n",
       "      <th>3</th>\n",
       "      <td>4</td>\n",
       "      <td>-99999</td>\n",
       "      <td>-99999</td>\n",
       "      <td>-99999</td>\n",
       "      <td>0</td>\n",
       "      <td>-99999</td>\n",
       "      <td>0</td>\n",
       "      <td>0</td>\n",
       "      <td>0</td>\n",
       "      <td>0</td>\n",
       "      <td>...</td>\n",
       "      <td>0.0</td>\n",
       "      <td>0.0</td>\n",
       "      <td>0.0</td>\n",
       "      <td>9.900</td>\n",
       "      <td>0</td>\n",
       "      <td>0</td>\n",
       "      <td>others</td>\n",
       "      <td>others</td>\n",
       "      <td>673</td>\n",
       "      <td>P2</td>\n",
       "    </tr>\n",
       "    <tr>\n",
       "      <th>4</th>\n",
       "      <td>5</td>\n",
       "      <td>583</td>\n",
       "      <td>-99999</td>\n",
       "      <td>-99999</td>\n",
       "      <td>0</td>\n",
       "      <td>-99999</td>\n",
       "      <td>0</td>\n",
       "      <td>0</td>\n",
       "      <td>0</td>\n",
       "      <td>0</td>\n",
       "      <td>...</td>\n",
       "      <td>0.0</td>\n",
       "      <td>0.0</td>\n",
       "      <td>0.0</td>\n",
       "      <td>-99999.000</td>\n",
       "      <td>0</td>\n",
       "      <td>0</td>\n",
       "      <td>AL</td>\n",
       "      <td>AL</td>\n",
       "      <td>753</td>\n",
       "      <td>P1</td>\n",
       "    </tr>\n",
       "  </tbody>\n",
       "</table>\n",
       "<p>5 rows × 62 columns</p>\n",
       "</div>"
      ],
      "text/plain": [
       "   PROSPECTID  time_since_recent_payment  time_since_first_deliquency  \\\n",
       "0           1                        549                           35   \n",
       "1           2                         47                       -99999   \n",
       "2           3                        302                           11   \n",
       "3           4                     -99999                       -99999   \n",
       "4           5                        583                       -99999   \n",
       "\n",
       "   time_since_recent_deliquency  num_times_delinquent  max_delinquency_level  \\\n",
       "0                            15                    11                     29   \n",
       "1                        -99999                     0                 -99999   \n",
       "2                             3                     9                     25   \n",
       "3                        -99999                     0                 -99999   \n",
       "4                        -99999                     0                 -99999   \n",
       "\n",
       "   max_recent_level_of_deliq  num_deliq_6mts  num_deliq_12mts  \\\n",
       "0                         29               0                0   \n",
       "1                          0               0                0   \n",
       "2                         25               1                9   \n",
       "3                          0               0                0   \n",
       "4                          0               0                0   \n",
       "\n",
       "   num_deliq_6_12mts  ...  pct_CC_enq_L6m_of_L12m  pct_PL_enq_L6m_of_ever  \\\n",
       "0                  0  ...                     0.0                     0.0   \n",
       "1                  0  ...                     0.0                     0.0   \n",
       "2                  8  ...                     0.0                     0.0   \n",
       "3                  0  ...                     0.0                     0.0   \n",
       "4                  0  ...                     0.0                     0.0   \n",
       "\n",
       "   pct_CC_enq_L6m_of_ever  max_unsec_exposure_inPct  HL_Flag  GL_Flag  \\\n",
       "0                     0.0                    13.333        1        0   \n",
       "1                     0.0                     0.860        0        0   \n",
       "2                     0.0                  5741.667        1        0   \n",
       "3                     0.0                     9.900        0        0   \n",
       "4                     0.0                -99999.000        0        0   \n",
       "\n",
       "   last_prod_enq2  first_prod_enq2  Credit_Score  Approved_Flag  \n",
       "0              PL               PL           696             P2  \n",
       "1    ConsumerLoan     ConsumerLoan           685             P2  \n",
       "2    ConsumerLoan           others           693             P2  \n",
       "3          others           others           673             P2  \n",
       "4              AL               AL           753             P1  \n",
       "\n",
       "[5 rows x 62 columns]"
      ]
     },
     "execution_count": 223,
     "metadata": {},
     "output_type": "execute_result"
    }
   ],
   "source": [
    "df2.head()"
   ]
  },
  {
   "cell_type": "markdown",
   "id": "64e52df0",
   "metadata": {},
   "source": [
    "# Null values for df1 and df2"
   ]
  },
  {
   "cell_type": "markdown",
   "id": "41b38e01",
   "metadata": {},
   "source": [
    "1. -99999 is a null values so check this if there are less nbr remove them"
   ]
  },
  {
   "cell_type": "code",
   "execution_count": 224,
   "id": "53253bf8",
   "metadata": {},
   "outputs": [],
   "source": [
    "df1=df1[~(df1[\"Age_Oldest_TL\"]==-99999)]"
   ]
  },
  {
   "cell_type": "code",
   "execution_count": 225,
   "id": "2b132ecc",
   "metadata": {},
   "outputs": [
    {
     "data": {
      "text/plain": [
       "(51296, 26)"
      ]
     },
     "execution_count": 225,
     "metadata": {},
     "output_type": "execute_result"
    }
   ],
   "source": [
    "df1.shape"
   ]
  },
  {
   "cell_type": "code",
   "execution_count": 226,
   "id": "895d457f",
   "metadata": {},
   "outputs": [
    {
     "data": {
      "text/html": [
       "<div>\n",
       "<style scoped>\n",
       "    .dataframe tbody tr th:only-of-type {\n",
       "        vertical-align: middle;\n",
       "    }\n",
       "\n",
       "    .dataframe tbody tr th {\n",
       "        vertical-align: top;\n",
       "    }\n",
       "\n",
       "    .dataframe thead th {\n",
       "        text-align: right;\n",
       "    }\n",
       "</style>\n",
       "<table border=\"1\" class=\"dataframe\">\n",
       "  <thead>\n",
       "    <tr style=\"text-align: right;\">\n",
       "      <th></th>\n",
       "      <th>PROSPECTID</th>\n",
       "      <th>time_since_recent_payment</th>\n",
       "      <th>time_since_first_deliquency</th>\n",
       "      <th>time_since_recent_deliquency</th>\n",
       "      <th>num_times_delinquent</th>\n",
       "      <th>max_delinquency_level</th>\n",
       "      <th>max_recent_level_of_deliq</th>\n",
       "      <th>num_deliq_6mts</th>\n",
       "      <th>num_deliq_12mts</th>\n",
       "      <th>num_deliq_6_12mts</th>\n",
       "      <th>...</th>\n",
       "      <th>pct_CC_enq_L6m_of_L12m</th>\n",
       "      <th>pct_PL_enq_L6m_of_ever</th>\n",
       "      <th>pct_CC_enq_L6m_of_ever</th>\n",
       "      <th>max_unsec_exposure_inPct</th>\n",
       "      <th>HL_Flag</th>\n",
       "      <th>GL_Flag</th>\n",
       "      <th>last_prod_enq2</th>\n",
       "      <th>first_prod_enq2</th>\n",
       "      <th>Credit_Score</th>\n",
       "      <th>Approved_Flag</th>\n",
       "    </tr>\n",
       "  </thead>\n",
       "  <tbody>\n",
       "    <tr>\n",
       "      <th>0</th>\n",
       "      <td>1</td>\n",
       "      <td>549</td>\n",
       "      <td>35</td>\n",
       "      <td>15</td>\n",
       "      <td>11</td>\n",
       "      <td>29</td>\n",
       "      <td>29</td>\n",
       "      <td>0</td>\n",
       "      <td>0</td>\n",
       "      <td>0</td>\n",
       "      <td>...</td>\n",
       "      <td>0.0</td>\n",
       "      <td>0.0</td>\n",
       "      <td>0.0</td>\n",
       "      <td>13.333</td>\n",
       "      <td>1</td>\n",
       "      <td>0</td>\n",
       "      <td>PL</td>\n",
       "      <td>PL</td>\n",
       "      <td>696</td>\n",
       "      <td>P2</td>\n",
       "    </tr>\n",
       "    <tr>\n",
       "      <th>1</th>\n",
       "      <td>2</td>\n",
       "      <td>47</td>\n",
       "      <td>-99999</td>\n",
       "      <td>-99999</td>\n",
       "      <td>0</td>\n",
       "      <td>-99999</td>\n",
       "      <td>0</td>\n",
       "      <td>0</td>\n",
       "      <td>0</td>\n",
       "      <td>0</td>\n",
       "      <td>...</td>\n",
       "      <td>0.0</td>\n",
       "      <td>0.0</td>\n",
       "      <td>0.0</td>\n",
       "      <td>0.860</td>\n",
       "      <td>0</td>\n",
       "      <td>0</td>\n",
       "      <td>ConsumerLoan</td>\n",
       "      <td>ConsumerLoan</td>\n",
       "      <td>685</td>\n",
       "      <td>P2</td>\n",
       "    </tr>\n",
       "    <tr>\n",
       "      <th>2</th>\n",
       "      <td>3</td>\n",
       "      <td>302</td>\n",
       "      <td>11</td>\n",
       "      <td>3</td>\n",
       "      <td>9</td>\n",
       "      <td>25</td>\n",
       "      <td>25</td>\n",
       "      <td>1</td>\n",
       "      <td>9</td>\n",
       "      <td>8</td>\n",
       "      <td>...</td>\n",
       "      <td>0.0</td>\n",
       "      <td>0.0</td>\n",
       "      <td>0.0</td>\n",
       "      <td>5741.667</td>\n",
       "      <td>1</td>\n",
       "      <td>0</td>\n",
       "      <td>ConsumerLoan</td>\n",
       "      <td>others</td>\n",
       "      <td>693</td>\n",
       "      <td>P2</td>\n",
       "    </tr>\n",
       "    <tr>\n",
       "      <th>3</th>\n",
       "      <td>4</td>\n",
       "      <td>-99999</td>\n",
       "      <td>-99999</td>\n",
       "      <td>-99999</td>\n",
       "      <td>0</td>\n",
       "      <td>-99999</td>\n",
       "      <td>0</td>\n",
       "      <td>0</td>\n",
       "      <td>0</td>\n",
       "      <td>0</td>\n",
       "      <td>...</td>\n",
       "      <td>0.0</td>\n",
       "      <td>0.0</td>\n",
       "      <td>0.0</td>\n",
       "      <td>9.900</td>\n",
       "      <td>0</td>\n",
       "      <td>0</td>\n",
       "      <td>others</td>\n",
       "      <td>others</td>\n",
       "      <td>673</td>\n",
       "      <td>P2</td>\n",
       "    </tr>\n",
       "    <tr>\n",
       "      <th>4</th>\n",
       "      <td>5</td>\n",
       "      <td>583</td>\n",
       "      <td>-99999</td>\n",
       "      <td>-99999</td>\n",
       "      <td>0</td>\n",
       "      <td>-99999</td>\n",
       "      <td>0</td>\n",
       "      <td>0</td>\n",
       "      <td>0</td>\n",
       "      <td>0</td>\n",
       "      <td>...</td>\n",
       "      <td>0.0</td>\n",
       "      <td>0.0</td>\n",
       "      <td>0.0</td>\n",
       "      <td>-99999.000</td>\n",
       "      <td>0</td>\n",
       "      <td>0</td>\n",
       "      <td>AL</td>\n",
       "      <td>AL</td>\n",
       "      <td>753</td>\n",
       "      <td>P1</td>\n",
       "    </tr>\n",
       "  </tbody>\n",
       "</table>\n",
       "<p>5 rows × 62 columns</p>\n",
       "</div>"
      ],
      "text/plain": [
       "   PROSPECTID  time_since_recent_payment  time_since_first_deliquency  \\\n",
       "0           1                        549                           35   \n",
       "1           2                         47                       -99999   \n",
       "2           3                        302                           11   \n",
       "3           4                     -99999                       -99999   \n",
       "4           5                        583                       -99999   \n",
       "\n",
       "   time_since_recent_deliquency  num_times_delinquent  max_delinquency_level  \\\n",
       "0                            15                    11                     29   \n",
       "1                        -99999                     0                 -99999   \n",
       "2                             3                     9                     25   \n",
       "3                        -99999                     0                 -99999   \n",
       "4                        -99999                     0                 -99999   \n",
       "\n",
       "   max_recent_level_of_deliq  num_deliq_6mts  num_deliq_12mts  \\\n",
       "0                         29               0                0   \n",
       "1                          0               0                0   \n",
       "2                         25               1                9   \n",
       "3                          0               0                0   \n",
       "4                          0               0                0   \n",
       "\n",
       "   num_deliq_6_12mts  ...  pct_CC_enq_L6m_of_L12m  pct_PL_enq_L6m_of_ever  \\\n",
       "0                  0  ...                     0.0                     0.0   \n",
       "1                  0  ...                     0.0                     0.0   \n",
       "2                  8  ...                     0.0                     0.0   \n",
       "3                  0  ...                     0.0                     0.0   \n",
       "4                  0  ...                     0.0                     0.0   \n",
       "\n",
       "   pct_CC_enq_L6m_of_ever  max_unsec_exposure_inPct  HL_Flag  GL_Flag  \\\n",
       "0                     0.0                    13.333        1        0   \n",
       "1                     0.0                     0.860        0        0   \n",
       "2                     0.0                  5741.667        1        0   \n",
       "3                     0.0                     9.900        0        0   \n",
       "4                     0.0                -99999.000        0        0   \n",
       "\n",
       "   last_prod_enq2  first_prod_enq2  Credit_Score  Approved_Flag  \n",
       "0              PL               PL           696             P2  \n",
       "1    ConsumerLoan     ConsumerLoan           685             P2  \n",
       "2    ConsumerLoan           others           693             P2  \n",
       "3          others           others           673             P2  \n",
       "4              AL               AL           753             P1  \n",
       "\n",
       "[5 rows x 62 columns]"
      ]
     },
     "execution_count": 226,
     "metadata": {},
     "output_type": "execute_result"
    }
   ],
   "source": [
    "df2.head()"
   ]
  },
  {
   "cell_type": "markdown",
   "id": "b34c6459",
   "metadata": {},
   "source": [
    "1. df2 Contain a lot a -99999 values.\n",
    "2. set the threshold check.\n",
    "3. Check that the selected col count -99999 is greater then threshold remove the column else remove the row"
   ]
  },
  {
   "cell_type": "code",
   "execution_count": 227,
   "id": "5b516ca8",
   "metadata": {},
   "outputs": [
    {
     "name": "stdout",
     "output_type": "stream",
     "text": [
      "time_since_first_deliquency\n",
      "time_since_recent_deliquency\n",
      "max_delinquency_level\n",
      "max_deliq_6mts\n",
      "max_deliq_12mts\n",
      "CC_utilization\n",
      "PL_utilization\n",
      "max_unsec_exposure_inPct\n"
     ]
    }
   ],
   "source": [
    "col_to_drop=[]\n",
    "for i in df2.columns:\n",
    "#     print(df2[df2[i]==-99999].shape[0])\n",
    "    if(df2[df2[i]==-99999].shape[0])>10000:\n",
    "        col_to_drop.append(i)\n",
    "        print(i)"
   ]
  },
  {
   "cell_type": "markdown",
   "id": "cc0e9768",
   "metadata": {},
   "source": [
    "# Now drop the columns"
   ]
  },
  {
   "cell_type": "code",
   "execution_count": 228,
   "id": "9efdcf33",
   "metadata": {},
   "outputs": [],
   "source": [
    "df2.drop(columns=col_to_drop,inplace=True)"
   ]
  },
  {
   "cell_type": "code",
   "execution_count": 229,
   "id": "86a89115",
   "metadata": {},
   "outputs": [
    {
     "data": {
      "text/plain": [
       "(51336, 54)"
      ]
     },
     "execution_count": 229,
     "metadata": {},
     "output_type": "execute_result"
    }
   ],
   "source": [
    "df2.shape"
   ]
  },
  {
   "cell_type": "markdown",
   "id": "da0e7c71",
   "metadata": {},
   "source": [
    "1. Now remove those rows that contain -9999 values"
   ]
  },
  {
   "cell_type": "code",
   "execution_count": 230,
   "id": "04b7cf1b",
   "metadata": {},
   "outputs": [
    {
     "name": "stdout",
     "output_type": "stream",
     "text": [
      "0\n",
      "4291\n",
      "0\n",
      "0\n",
      "0\n",
      "0\n",
      "0\n",
      "0\n",
      "0\n",
      "0\n",
      "0\n",
      "0\n",
      "0\n",
      "0\n",
      "0\n",
      "0\n",
      "0\n",
      "0\n",
      "0\n",
      "0\n",
      "0\n",
      "0\n",
      "4944\n",
      "0\n",
      "0\n",
      "0\n",
      "0\n",
      "0\n",
      "0\n",
      "0\n",
      "0\n",
      "0\n",
      "0\n",
      "0\n",
      "0\n",
      "0\n",
      "0\n",
      "0\n",
      "0\n",
      "0\n",
      "0\n",
      "35\n",
      "0\n",
      "0\n",
      "0\n",
      "0\n",
      "0\n",
      "0\n",
      "0\n",
      "0\n",
      "0\n",
      "0\n",
      "0\n",
      "0\n"
     ]
    }
   ],
   "source": [
    "for i in df2.columns:\n",
    "    print(df2[df2[i]==-99999].shape[0])\n",
    "    df2=df2[~(df2[i]==-99999)]"
   ]
  },
  {
   "cell_type": "code",
   "execution_count": 231,
   "id": "7e5ae8a9",
   "metadata": {},
   "outputs": [
    {
     "data": {
      "text/plain": [
       "(42066, 54)"
      ]
     },
     "execution_count": 231,
     "metadata": {},
     "output_type": "execute_result"
    }
   ],
   "source": [
    "df2.shape"
   ]
  },
  {
   "cell_type": "markdown",
   "id": "00947de1",
   "metadata": {},
   "source": [
    "# Now Check the null values again"
   ]
  },
  {
   "cell_type": "code",
   "execution_count": 232,
   "id": "f702aaa1",
   "metadata": {},
   "outputs": [
    {
     "data": {
      "text/plain": [
       "PROSPECTID                    0\n",
       "time_since_recent_payment     0\n",
       "num_times_delinquent          0\n",
       "max_recent_level_of_deliq     0\n",
       "num_deliq_6mts                0\n",
       "num_deliq_12mts               0\n",
       "num_deliq_6_12mts             0\n",
       "num_times_30p_dpd             0\n",
       "num_times_60p_dpd             0\n",
       "num_std                       0\n",
       "num_std_6mts                  0\n",
       "num_std_12mts                 0\n",
       "num_sub                       0\n",
       "num_sub_6mts                  0\n",
       "num_sub_12mts                 0\n",
       "num_dbt                       0\n",
       "num_dbt_6mts                  0\n",
       "num_dbt_12mts                 0\n",
       "num_lss                       0\n",
       "num_lss_6mts                  0\n",
       "num_lss_12mts                 0\n",
       "recent_level_of_deliq         0\n",
       "tot_enq                       0\n",
       "CC_enq                        0\n",
       "CC_enq_L6m                    0\n",
       "CC_enq_L12m                   0\n",
       "PL_enq                        0\n",
       "PL_enq_L6m                    0\n",
       "PL_enq_L12m                   0\n",
       "time_since_recent_enq         0\n",
       "enq_L12m                      0\n",
       "enq_L6m                       0\n",
       "enq_L3m                       0\n",
       "MARITALSTATUS                 0\n",
       "EDUCATION                     0\n",
       "AGE                           0\n",
       "GENDER                        0\n",
       "NETMONTHLYINCOME              0\n",
       "Time_With_Curr_Empr           0\n",
       "pct_of_active_TLs_ever        0\n",
       "pct_opened_TLs_L6m_of_L12m    0\n",
       "pct_currentBal_all_TL         0\n",
       "CC_Flag                       0\n",
       "PL_Flag                       0\n",
       "pct_PL_enq_L6m_of_L12m        0\n",
       "pct_CC_enq_L6m_of_L12m        0\n",
       "pct_PL_enq_L6m_of_ever        0\n",
       "pct_CC_enq_L6m_of_ever        0\n",
       "HL_Flag                       0\n",
       "GL_Flag                       0\n",
       "last_prod_enq2                0\n",
       "first_prod_enq2               0\n",
       "Credit_Score                  0\n",
       "Approved_Flag                 0\n",
       "dtype: int64"
      ]
     },
     "execution_count": 232,
     "metadata": {},
     "output_type": "execute_result"
    }
   ],
   "source": [
    "df2.isnull().sum()"
   ]
  },
  {
   "cell_type": "code",
   "execution_count": 233,
   "id": "f446f5be",
   "metadata": {},
   "outputs": [
    {
     "data": {
      "text/plain": [
       "PROSPECTID              0\n",
       "Total_TL                0\n",
       "Tot_Closed_TL           0\n",
       "Tot_Active_TL           0\n",
       "Total_TL_opened_L6M     0\n",
       "Tot_TL_closed_L6M       0\n",
       "pct_tl_open_L6M         0\n",
       "pct_tl_closed_L6M       0\n",
       "pct_active_tl           0\n",
       "pct_closed_tl           0\n",
       "Total_TL_opened_L12M    0\n",
       "Tot_TL_closed_L12M      0\n",
       "pct_tl_open_L12M        0\n",
       "pct_tl_closed_L12M      0\n",
       "Tot_Missed_Pmnt         0\n",
       "Auto_TL                 0\n",
       "CC_TL                   0\n",
       "Consumer_TL             0\n",
       "Gold_TL                 0\n",
       "Home_TL                 0\n",
       "PL_TL                   0\n",
       "Secured_TL              0\n",
       "Unsecured_TL            0\n",
       "Other_TL                0\n",
       "Age_Oldest_TL           0\n",
       "Age_Newest_TL           0\n",
       "dtype: int64"
      ]
     },
     "execution_count": 233,
     "metadata": {},
     "output_type": "execute_result"
    }
   ],
   "source": [
    "df1.isnull().sum()"
   ]
  },
  {
   "cell_type": "markdown",
   "id": "832572f4",
   "metadata": {},
   "source": [
    "# Now merge both Dataframe"
   ]
  },
  {
   "cell_type": "code",
   "execution_count": 234,
   "id": "64ca83e0",
   "metadata": {},
   "outputs": [],
   "source": [
    "df=pd.merge(df1,df2,how='inner',left_on='PROSPECTID',right_on='PROSPECTID')"
   ]
  },
  {
   "cell_type": "code",
   "execution_count": 235,
   "id": "e8ede6d4",
   "metadata": {},
   "outputs": [
    {
     "data": {
      "text/html": [
       "<div>\n",
       "<style scoped>\n",
       "    .dataframe tbody tr th:only-of-type {\n",
       "        vertical-align: middle;\n",
       "    }\n",
       "\n",
       "    .dataframe tbody tr th {\n",
       "        vertical-align: top;\n",
       "    }\n",
       "\n",
       "    .dataframe thead th {\n",
       "        text-align: right;\n",
       "    }\n",
       "</style>\n",
       "<table border=\"1\" class=\"dataframe\">\n",
       "  <thead>\n",
       "    <tr style=\"text-align: right;\">\n",
       "      <th></th>\n",
       "      <th>PROSPECTID</th>\n",
       "      <th>Total_TL</th>\n",
       "      <th>Tot_Closed_TL</th>\n",
       "      <th>Tot_Active_TL</th>\n",
       "      <th>Total_TL_opened_L6M</th>\n",
       "      <th>Tot_TL_closed_L6M</th>\n",
       "      <th>pct_tl_open_L6M</th>\n",
       "      <th>pct_tl_closed_L6M</th>\n",
       "      <th>pct_active_tl</th>\n",
       "      <th>pct_closed_tl</th>\n",
       "      <th>...</th>\n",
       "      <th>pct_PL_enq_L6m_of_L12m</th>\n",
       "      <th>pct_CC_enq_L6m_of_L12m</th>\n",
       "      <th>pct_PL_enq_L6m_of_ever</th>\n",
       "      <th>pct_CC_enq_L6m_of_ever</th>\n",
       "      <th>HL_Flag</th>\n",
       "      <th>GL_Flag</th>\n",
       "      <th>last_prod_enq2</th>\n",
       "      <th>first_prod_enq2</th>\n",
       "      <th>Credit_Score</th>\n",
       "      <th>Approved_Flag</th>\n",
       "    </tr>\n",
       "  </thead>\n",
       "  <tbody>\n",
       "    <tr>\n",
       "      <th>0</th>\n",
       "      <td>1</td>\n",
       "      <td>5</td>\n",
       "      <td>4</td>\n",
       "      <td>1</td>\n",
       "      <td>0</td>\n",
       "      <td>0</td>\n",
       "      <td>0.0</td>\n",
       "      <td>0.0</td>\n",
       "      <td>0.2</td>\n",
       "      <td>0.8</td>\n",
       "      <td>...</td>\n",
       "      <td>0.0</td>\n",
       "      <td>0.0</td>\n",
       "      <td>0.0</td>\n",
       "      <td>0.0</td>\n",
       "      <td>1</td>\n",
       "      <td>0</td>\n",
       "      <td>PL</td>\n",
       "      <td>PL</td>\n",
       "      <td>696</td>\n",
       "      <td>P2</td>\n",
       "    </tr>\n",
       "    <tr>\n",
       "      <th>1</th>\n",
       "      <td>2</td>\n",
       "      <td>1</td>\n",
       "      <td>0</td>\n",
       "      <td>1</td>\n",
       "      <td>0</td>\n",
       "      <td>0</td>\n",
       "      <td>0.0</td>\n",
       "      <td>0.0</td>\n",
       "      <td>1.0</td>\n",
       "      <td>0.0</td>\n",
       "      <td>...</td>\n",
       "      <td>0.0</td>\n",
       "      <td>0.0</td>\n",
       "      <td>0.0</td>\n",
       "      <td>0.0</td>\n",
       "      <td>0</td>\n",
       "      <td>0</td>\n",
       "      <td>ConsumerLoan</td>\n",
       "      <td>ConsumerLoan</td>\n",
       "      <td>685</td>\n",
       "      <td>P2</td>\n",
       "    </tr>\n",
       "  </tbody>\n",
       "</table>\n",
       "<p>2 rows × 79 columns</p>\n",
       "</div>"
      ],
      "text/plain": [
       "   PROSPECTID  Total_TL  Tot_Closed_TL  Tot_Active_TL  Total_TL_opened_L6M  \\\n",
       "0           1         5              4              1                    0   \n",
       "1           2         1              0              1                    0   \n",
       "\n",
       "   Tot_TL_closed_L6M  pct_tl_open_L6M  pct_tl_closed_L6M  pct_active_tl  \\\n",
       "0                  0              0.0                0.0            0.2   \n",
       "1                  0              0.0                0.0            1.0   \n",
       "\n",
       "   pct_closed_tl  ...  pct_PL_enq_L6m_of_L12m  pct_CC_enq_L6m_of_L12m  \\\n",
       "0            0.8  ...                     0.0                     0.0   \n",
       "1            0.0  ...                     0.0                     0.0   \n",
       "\n",
       "   pct_PL_enq_L6m_of_ever  pct_CC_enq_L6m_of_ever  HL_Flag  GL_Flag  \\\n",
       "0                     0.0                     0.0        1        0   \n",
       "1                     0.0                     0.0        0        0   \n",
       "\n",
       "   last_prod_enq2  first_prod_enq2  Credit_Score  Approved_Flag  \n",
       "0              PL               PL           696             P2  \n",
       "1    ConsumerLoan     ConsumerLoan           685             P2  \n",
       "\n",
       "[2 rows x 79 columns]"
      ]
     },
     "execution_count": 235,
     "metadata": {},
     "output_type": "execute_result"
    }
   ],
   "source": [
    "df.head(2)"
   ]
  },
  {
   "cell_type": "markdown",
   "id": "61d14fd0",
   "metadata": {},
   "source": [
    "# Duplicates Values"
   ]
  },
  {
   "cell_type": "code",
   "execution_count": 236,
   "id": "996ac1a6",
   "metadata": {},
   "outputs": [
    {
     "data": {
      "text/plain": [
       "0"
      ]
     },
     "execution_count": 236,
     "metadata": {},
     "output_type": "execute_result"
    }
   ],
   "source": [
    "df.duplicated().sum()"
   ]
  },
  {
   "cell_type": "code",
   "execution_count": 237,
   "id": "6d4e9395",
   "metadata": {},
   "outputs": [
    {
     "name": "stdout",
     "output_type": "stream",
     "text": [
      "<class 'pandas.core.frame.DataFrame'>\n",
      "RangeIndex: 42064 entries, 0 to 42063\n",
      "Data columns (total 79 columns):\n",
      " #   Column                      Non-Null Count  Dtype  \n",
      "---  ------                      --------------  -----  \n",
      " 0   PROSPECTID                  42064 non-null  int64  \n",
      " 1   Total_TL                    42064 non-null  int64  \n",
      " 2   Tot_Closed_TL               42064 non-null  int64  \n",
      " 3   Tot_Active_TL               42064 non-null  int64  \n",
      " 4   Total_TL_opened_L6M         42064 non-null  int64  \n",
      " 5   Tot_TL_closed_L6M           42064 non-null  int64  \n",
      " 6   pct_tl_open_L6M             42064 non-null  float64\n",
      " 7   pct_tl_closed_L6M           42064 non-null  float64\n",
      " 8   pct_active_tl               42064 non-null  float64\n",
      " 9   pct_closed_tl               42064 non-null  float64\n",
      " 10  Total_TL_opened_L12M        42064 non-null  int64  \n",
      " 11  Tot_TL_closed_L12M          42064 non-null  int64  \n",
      " 12  pct_tl_open_L12M            42064 non-null  float64\n",
      " 13  pct_tl_closed_L12M          42064 non-null  float64\n",
      " 14  Tot_Missed_Pmnt             42064 non-null  int64  \n",
      " 15  Auto_TL                     42064 non-null  int64  \n",
      " 16  CC_TL                       42064 non-null  int64  \n",
      " 17  Consumer_TL                 42064 non-null  int64  \n",
      " 18  Gold_TL                     42064 non-null  int64  \n",
      " 19  Home_TL                     42064 non-null  int64  \n",
      " 20  PL_TL                       42064 non-null  int64  \n",
      " 21  Secured_TL                  42064 non-null  int64  \n",
      " 22  Unsecured_TL                42064 non-null  int64  \n",
      " 23  Other_TL                    42064 non-null  int64  \n",
      " 24  Age_Oldest_TL               42064 non-null  int64  \n",
      " 25  Age_Newest_TL               42064 non-null  int64  \n",
      " 26  time_since_recent_payment   42064 non-null  int64  \n",
      " 27  num_times_delinquent        42064 non-null  int64  \n",
      " 28  max_recent_level_of_deliq   42064 non-null  int64  \n",
      " 29  num_deliq_6mts              42064 non-null  int64  \n",
      " 30  num_deliq_12mts             42064 non-null  int64  \n",
      " 31  num_deliq_6_12mts           42064 non-null  int64  \n",
      " 32  num_times_30p_dpd           42064 non-null  int64  \n",
      " 33  num_times_60p_dpd           42064 non-null  int64  \n",
      " 34  num_std                     42064 non-null  int64  \n",
      " 35  num_std_6mts                42064 non-null  int64  \n",
      " 36  num_std_12mts               42064 non-null  int64  \n",
      " 37  num_sub                     42064 non-null  int64  \n",
      " 38  num_sub_6mts                42064 non-null  int64  \n",
      " 39  num_sub_12mts               42064 non-null  int64  \n",
      " 40  num_dbt                     42064 non-null  int64  \n",
      " 41  num_dbt_6mts                42064 non-null  int64  \n",
      " 42  num_dbt_12mts               42064 non-null  int64  \n",
      " 43  num_lss                     42064 non-null  int64  \n",
      " 44  num_lss_6mts                42064 non-null  int64  \n",
      " 45  num_lss_12mts               42064 non-null  int64  \n",
      " 46  recent_level_of_deliq       42064 non-null  int64  \n",
      " 47  tot_enq                     42064 non-null  int64  \n",
      " 48  CC_enq                      42064 non-null  int64  \n",
      " 49  CC_enq_L6m                  42064 non-null  int64  \n",
      " 50  CC_enq_L12m                 42064 non-null  int64  \n",
      " 51  PL_enq                      42064 non-null  int64  \n",
      " 52  PL_enq_L6m                  42064 non-null  int64  \n",
      " 53  PL_enq_L12m                 42064 non-null  int64  \n",
      " 54  time_since_recent_enq       42064 non-null  int64  \n",
      " 55  enq_L12m                    42064 non-null  int64  \n",
      " 56  enq_L6m                     42064 non-null  int64  \n",
      " 57  enq_L3m                     42064 non-null  int64  \n",
      " 58  MARITALSTATUS               42064 non-null  object \n",
      " 59  EDUCATION                   42064 non-null  object \n",
      " 60  AGE                         42064 non-null  int64  \n",
      " 61  GENDER                      42064 non-null  object \n",
      " 62  NETMONTHLYINCOME            42064 non-null  int64  \n",
      " 63  Time_With_Curr_Empr         42064 non-null  int64  \n",
      " 64  pct_of_active_TLs_ever      42064 non-null  float64\n",
      " 65  pct_opened_TLs_L6m_of_L12m  42064 non-null  float64\n",
      " 66  pct_currentBal_all_TL       42064 non-null  float64\n",
      " 67  CC_Flag                     42064 non-null  int64  \n",
      " 68  PL_Flag                     42064 non-null  int64  \n",
      " 69  pct_PL_enq_L6m_of_L12m      42064 non-null  float64\n",
      " 70  pct_CC_enq_L6m_of_L12m      42064 non-null  float64\n",
      " 71  pct_PL_enq_L6m_of_ever      42064 non-null  float64\n",
      " 72  pct_CC_enq_L6m_of_ever      42064 non-null  float64\n",
      " 73  HL_Flag                     42064 non-null  int64  \n",
      " 74  GL_Flag                     42064 non-null  int64  \n",
      " 75  last_prod_enq2              42064 non-null  object \n",
      " 76  first_prod_enq2             42064 non-null  object \n",
      " 77  Credit_Score                42064 non-null  int64  \n",
      " 78  Approved_Flag               42064 non-null  object \n",
      "dtypes: float64(13), int64(60), object(6)\n",
      "memory usage: 25.4+ MB\n"
     ]
    }
   ],
   "source": [
    "df.info()"
   ]
  },
  {
   "cell_type": "code",
   "execution_count": 238,
   "id": "0bd7a5fd",
   "metadata": {},
   "outputs": [
    {
     "data": {
      "text/plain": [
       "0"
      ]
     },
     "execution_count": 238,
     "metadata": {},
     "output_type": "execute_result"
    }
   ],
   "source": [
    "df.isnull().sum().sum()"
   ]
  },
  {
   "cell_type": "markdown",
   "id": "3874b323",
   "metadata": {},
   "source": [
    "# Saperate the Features\n",
    "1. Numerical\n",
    "2. Categorical"
   ]
  },
  {
   "cell_type": "code",
   "execution_count": 239,
   "id": "67d91ab7",
   "metadata": {},
   "outputs": [],
   "source": [
    "cat_col=df.select_dtypes(\"object\").columns"
   ]
  },
  {
   "cell_type": "code",
   "execution_count": 240,
   "id": "d5529857",
   "metadata": {},
   "outputs": [],
   "source": [
    "num_col=df.select_dtypes(\"number\").columns"
   ]
  },
  {
   "cell_type": "code",
   "execution_count": 241,
   "id": "5dece07e",
   "metadata": {},
   "outputs": [
    {
     "data": {
      "text/plain": [
       "73"
      ]
     },
     "execution_count": 241,
     "metadata": {},
     "output_type": "execute_result"
    }
   ],
   "source": [
    "len(num_col)"
   ]
  },
  {
   "cell_type": "markdown",
   "id": "060e7254",
   "metadata": {},
   "source": [
    "# Now check the `unique values` in cat_col"
   ]
  },
  {
   "cell_type": "code",
   "execution_count": 242,
   "id": "1f664c1e",
   "metadata": {},
   "outputs": [
    {
     "name": "stdout",
     "output_type": "stream",
     "text": [
      "Unique values in:  MARITALSTATUS\n",
      "MARITALSTATUS\n",
      "Married    30886\n",
      "Single     11178\n",
      "Name: count, dtype: int64\n",
      "Total Unique Values are: 2\n",
      "**************************************************\n",
      "\n",
      "Unique values in:  EDUCATION\n",
      "EDUCATION\n",
      "GRADUATE          14140\n",
      "12TH              11703\n",
      "SSC                7241\n",
      "UNDER GRADUATE     4572\n",
      "OTHERS             2291\n",
      "POST-GRADUATE      1898\n",
      "PROFESSIONAL        219\n",
      "Name: count, dtype: int64\n",
      "Total Unique Values are: 7\n",
      "**************************************************\n",
      "\n",
      "Unique values in:  GENDER\n",
      "GENDER\n",
      "M    37345\n",
      "F     4719\n",
      "Name: count, dtype: int64\n",
      "Total Unique Values are: 2\n",
      "**************************************************\n",
      "\n",
      "Unique values in:  last_prod_enq2\n",
      "last_prod_enq2\n",
      "ConsumerLoan    16480\n",
      "others          13653\n",
      "PL               7553\n",
      "CC               2195\n",
      "AL               1353\n",
      "HL                830\n",
      "Name: count, dtype: int64\n",
      "Total Unique Values are: 6\n",
      "**************************************************\n",
      "\n",
      "Unique values in:  first_prod_enq2\n",
      "first_prod_enq2\n",
      "others          20640\n",
      "ConsumerLoan    11075\n",
      "PL               4431\n",
      "AL               2641\n",
      "CC               1988\n",
      "HL               1289\n",
      "Name: count, dtype: int64\n",
      "Total Unique Values are: 6\n",
      "**************************************************\n",
      "\n",
      "Unique values in:  Approved_Flag\n",
      "Approved_Flag\n",
      "P2    25452\n",
      "P3     6440\n",
      "P4     5264\n",
      "P1     4908\n",
      "Name: count, dtype: int64\n",
      "Total Unique Values are: 4\n",
      "**************************************************\n",
      "\n"
     ]
    }
   ],
   "source": [
    "for i in cat_col:\n",
    "    print(\"Unique values in: \",i)\n",
    "    print(df[i].value_counts())\n",
    "    print(\"Total Unique Values are:\",df[i].nunique())\n",
    "    print(\"*\"*50)\n",
    "    print()"
   ]
  },
  {
   "cell_type": "markdown",
   "id": "f12d88cd",
   "metadata": {},
   "source": [
    "# Feature Selection for Cat-Col"
   ]
  },
  {
   "cell_type": "markdown",
   "id": "c9422c11",
   "metadata": {},
   "source": [
    "### Apply Tests\n",
    "1. Chie-Square(Cat-Cat)\n",
    "2. T-Test(num -cat)(cat >2)\n",
    "3. ANOVA(num-cat)(cat>=3)\n",
    "4. We will apply Chie square test to check the relation of each cat col to target col."
   ]
  },
  {
   "cell_type": "markdown",
   "id": "2c2dfd65",
   "metadata": {},
   "source": [
    "**So we can apply `Chie-Square` tests for `cat-cat` col**"
   ]
  },
  {
   "cell_type": "code",
   "execution_count": 243,
   "id": "bce2e839",
   "metadata": {},
   "outputs": [],
   "source": [
    "from scipy.stats import chi2_contingency,chisquare"
   ]
  },
  {
   "cell_type": "code",
   "execution_count": 244,
   "id": "a443a261",
   "metadata": {},
   "outputs": [
    {
     "name": "stdout",
     "output_type": "stream",
     "text": [
      "MARITALSTATUS  --  3.578180861038862e-233\n",
      "EDUCATION  --  2.6942265249737532e-30\n",
      "GENDER  --  1.907936100186563e-05\n",
      "last_prod_enq2  --  0.0\n",
      "first_prod_enq2  --  7.84997610555419e-287\n"
     ]
    }
   ],
   "source": [
    "for i in cat_col[:-1]:\n",
    "    chie,p_value,_,_=chi2_contingency(pd.crosstab(df[i],df[cat_col[-1]]))\n",
    "    print(i,\" -- \",p_value)"
   ]
  },
  {
   "cell_type": "markdown",
   "id": "82e792d3",
   "metadata": {},
   "source": [
    "**Since p-values< 0.05 so we will accept all**"
   ]
  },
  {
   "cell_type": "markdown",
   "id": "ccf08445",
   "metadata": {},
   "source": [
    "# Now working on Num-Col\n",
    "1. we will check the relation of each num to every other num col.\n",
    "2. we will check the relation of num col to target col that is also a catagorical col."
   ]
  },
  {
   "cell_type": "markdown",
   "id": "047b13e3",
   "metadata": {},
   "source": [
    "# Remove Multi-colarnity(Num-col)\n",
    "1. VIF -> `1/1-r^2`\n",
    "    1. Parallel VIF(Wring)\n",
    "    2. Sequential VIF(Best)"
   ]
  },
  {
   "cell_type": "markdown",
   "id": "751ff691",
   "metadata": {},
   "source": [
    "# Sequential Method"
   ]
  },
  {
   "cell_type": "code",
   "execution_count": 245,
   "id": "18280e6e",
   "metadata": {},
   "outputs": [],
   "source": [
    "from statsmodels.stats.outliers_influence import variance_inflation_factor\n",
    "import warnings\n",
    "warnings.filterwarnings('ignore')"
   ]
  },
  {
   "cell_type": "markdown",
   "id": "c8043d28",
   "metadata": {},
   "source": [
    "# Important"
   ]
  },
  {
   "cell_type": "code",
   "execution_count": 246,
   "id": "f2661eba",
   "metadata": {},
   "outputs": [
    {
     "name": "stdout",
     "output_type": "stream",
     "text": [
      "0 ----- 1.0014714453751743\n",
      "1 ----- inf\n",
      "2 ----- inf\n",
      "3 ----- 11.320645246142803\n",
      "4 ----- 8.364064272336133\n",
      "5 ----- 6.520792569522158\n",
      "6 ----- 5.1498060557107745\n",
      "7 ----- 2.6112073771674944\n",
      "8 ----- inf\n",
      "9 ----- 1789.5578922792413\n",
      "10 ----- 8.601096683974646\n",
      "11 ----- 3.832851362174614\n",
      "12 ----- 6.099768198336671\n",
      "13 ----- 5.581446751193094\n",
      "14 ----- 1.985655138966978\n",
      "15 ----- inf\n",
      "16 ----- 4.809807520859604\n",
      "17 ----- 23.27288184101288\n",
      "18 ----- 30.596519319624697\n",
      "19 ----- 4.3848122091115815\n",
      "20 ----- 3.06467356246316\n",
      "21 ----- 2.8986527303140033\n",
      "22 ----- 4.377945210179215\n",
      "23 ----- 2.207856265954658\n",
      "24 ----- 4.9200182258988345\n",
      "25 ----- 5.215354852494453\n",
      "26 ----- 3.3862072703025055\n",
      "27 ----- 7.841101396160445\n",
      "28 ----- 5.255263829126264\n",
      "29 ----- inf\n",
      "30 ----- 7.380644570758274\n",
      "31 ----- 1.421011976182927\n",
      "32 ----- 8.083354471350239\n",
      "33 ----- 1.6241477619270308\n",
      "34 ----- 7.257891375429919\n",
      "35 ----- 15.596252041665208\n",
      "36 ----- 1.826132969676547\n",
      "37 ----- 1.5080847785865654\n",
      "38 ----- 2.1721267159513573\n",
      "39 ----- 2.623469861333445\n",
      "40 ----- 2.2960054074057377\n",
      "41 ----- 7.36062257827916\n",
      "42 ----- 2.160238831045292\n",
      "43 ----- 2.8686338012754256\n",
      "44 ----- 6.458304472622984\n",
      "45 ----- 2.847480877355158\n",
      "46 ----- 4.753230129394101\n",
      "47 ----- 16.227613600991763\n",
      "48 ----- 6.424833892811063\n",
      "49 ----- 8.887156094086967\n",
      "50 ----- 2.38051089833245\n",
      "51 ----- 8.609683496623786\n",
      "52 ----- 13.067631026848238\n",
      "53 ----- 3.500117421477055\n",
      "54 ----- 1.9091201747437845\n",
      "55 ----- 17.007386818210737\n",
      "56 ----- 10.730705629466753\n",
      "57 ----- 2.3558875075565617\n",
      "58 ----- 22.10495526579042\n",
      "59 ----- 2.797253587418863\n",
      "60 ----- 3.4241803843132606\n",
      "61 ----- 10.175437630379681\n",
      "62 ----- 6.4094402464813545\n",
      "63 ----- 1.0011627214059162\n",
      "64 ----- 3.069223764845478\n",
      "65 ----- 2.8091270098505094\n",
      "66 ----- 20.250688538227966\n",
      "67 ----- 15.864583114854529\n",
      "68 ----- 1.8332179956453976\n",
      "69 ----- 1.5680880470216507\n",
      "70 ----- 1.9308798109877527\n",
      "71 ----- 4.331658144114445\n",
      "72 ----- 12.394142002287238\n"
     ]
    }
   ],
   "source": [
    "col_to_kept=[]\n",
    "vif_data=df[num_col]\n",
    "columns_index=0\n",
    "for i in range(num_col.shape[0]):\n",
    "    var_value=variance_inflation_factor(vif_data,columns_index)\n",
    "    print(i,\"-----\",var_value)\n",
    "    \n",
    "    if(var_value<=6):\n",
    "        col_to_kept.append(num_col[i])\n",
    "        columns_index+=1\n",
    "    else:\n",
    "        vif_data=vif_data.drop(columns=num_col[i],axis=1)"
   ]
  },
  {
   "cell_type": "code",
   "execution_count": 247,
   "id": "9739e0a7",
   "metadata": {},
   "outputs": [
    {
     "data": {
      "text/plain": [
       "40"
      ]
     },
     "execution_count": 247,
     "metadata": {},
     "output_type": "execute_result"
    }
   ],
   "source": [
    "len(col_to_kept)"
   ]
  },
  {
   "cell_type": "code",
   "execution_count": null,
   "id": "f0d85bd8",
   "metadata": {},
   "outputs": [],
   "source": []
  },
  {
   "cell_type": "markdown",
   "id": "1118d2e0",
   "metadata": {},
   "source": [
    "# Now compare the remaing col to target variable\n",
    "1. Apply Anova Test"
   ]
  },
  {
   "cell_type": "markdown",
   "id": "c2f61366",
   "metadata": {},
   "source": [
    "# ANOVA Test"
   ]
  },
  {
   "cell_type": "code",
   "execution_count": 248,
   "id": "f82133c4",
   "metadata": {},
   "outputs": [],
   "source": [
    "from scipy.stats import f_oneway"
   ]
  },
  {
   "cell_type": "code",
   "execution_count": 249,
   "id": "d461a8a8",
   "metadata": {},
   "outputs": [
    {
     "name": "stdout",
     "output_type": "stream",
     "text": [
      "PROSPECTID ----- 0.04216738785382283\n",
      "pct_tl_open_L6M ----- 0.0\n",
      "pct_tl_closed_L6M ----- 2.676086811190998e-52\n",
      "Tot_TL_closed_L12M ----- 1.762685578230421e-99\n",
      "pct_tl_closed_L12M ----- 4.1384568281483056e-49\n",
      "Tot_Missed_Pmnt ----- 9.572404615942641e-210\n",
      "CC_TL ----- 5.710261952999025e-57\n",
      "Home_TL ----- 0.0\n",
      "PL_TL ----- 7.991892389241125e-235\n",
      "Secured_TL ----- 0.0\n",
      "Unsecured_TL ----- 2.102384431982427e-118\n",
      "Other_TL ----- 0.0\n",
      "Age_Oldest_TL ----- 0.0\n",
      "Age_Newest_TL ----- 1.0465965445912546e-88\n",
      "time_since_recent_payment ----- 8.943912807416738e-81\n",
      "max_recent_level_of_deliq ----- 6.699932727692095e-81\n",
      "num_deliq_6_12mts ----- 2.0772229883600566e-59\n",
      "num_times_60p_dpd ----- 3.3833576401764997e-59\n",
      "num_std_12mts ----- 0.0\n",
      "num_sub ----- 1.6985545450345584e-22\n",
      "num_sub_6mts ----- 0.016579119048249723\n",
      "num_sub_12mts ----- 0.001299484021242129\n",
      "num_dbt ----- 3.135918708089289e-11\n",
      "num_dbt_12mts ----- 0.005446087209172642\n",
      "num_lss ----- 0.009340555562870471\n",
      "num_lss_12mts ----- 0.354899152686773\n",
      "recent_level_of_deliq ----- 1.150955072948535e-97\n",
      "CC_enq_L12m ----- 0.0\n",
      "PL_enq_L12m ----- 0.0\n",
      "time_since_recent_enq ----- 0.0\n",
      "enq_L3m ----- 0.0\n",
      "NETMONTHLYINCOME ----- 5.357633705622659e-26\n",
      "Time_With_Curr_Empr ----- 6.743539696556877e-271\n",
      "pct_currentBal_all_TL ----- 0.6082760667441989\n",
      "CC_Flag ----- 8.166585968451402e-51\n",
      "PL_Flag ----- 9.95638250565676e-146\n",
      "pct_PL_enq_L6m_of_ever ----- 0.0\n",
      "pct_CC_enq_L6m_of_ever ----- 0.0\n",
      "HL_Flag ----- 1.1327801855129724e-237\n",
      "GL_Flag ----- 5e-324\n"
     ]
    }
   ],
   "source": [
    "col_to_kept_remaing=[]\n",
    "for i in col_to_kept:\n",
    "    curr_col=df[i]\n",
    "    target_col=df[cat_col[-1]]\n",
    "    \n",
    "    group1=[value for value,group in zip(curr_col,target_col) if group=='P1']\n",
    "    group2=[value for value,group in zip(curr_col,target_col) if group=='P2']\n",
    "    group3=[value for value,group in zip(curr_col,target_col) if group=='P3']\n",
    "    group4=[value for value,group in zip(curr_col,target_col) if group=='P4']\n",
    "    \n",
    "    f_stats,p_value=f_oneway(group1,group2,group3,group4)\n",
    "    print(i,\"-----\",p_value)\n",
    "    if(p_value<0.05):\n",
    "        col_to_kept_remaing.append(i)"
   ]
  },
  {
   "cell_type": "code",
   "execution_count": 250,
   "id": "dde2db69",
   "metadata": {},
   "outputs": [
    {
     "data": {
      "text/plain": [
       "38"
      ]
     },
     "execution_count": 250,
     "metadata": {},
     "output_type": "execute_result"
    }
   ],
   "source": [
    "len(col_to_kept_remaing)"
   ]
  },
  {
   "cell_type": "markdown",
   "id": "24a516ab",
   "metadata": {},
   "source": [
    "# Model Building"
   ]
  },
  {
   "cell_type": "code",
   "execution_count": 251,
   "id": "7d84c9c1",
   "metadata": {},
   "outputs": [
    {
     "data": {
      "text/html": [
       "<div>\n",
       "<style scoped>\n",
       "    .dataframe tbody tr th:only-of-type {\n",
       "        vertical-align: middle;\n",
       "    }\n",
       "\n",
       "    .dataframe tbody tr th {\n",
       "        vertical-align: top;\n",
       "    }\n",
       "\n",
       "    .dataframe thead th {\n",
       "        text-align: right;\n",
       "    }\n",
       "</style>\n",
       "<table border=\"1\" class=\"dataframe\">\n",
       "  <thead>\n",
       "    <tr style=\"text-align: right;\">\n",
       "      <th></th>\n",
       "      <th>PROSPECTID</th>\n",
       "      <th>pct_tl_open_L6M</th>\n",
       "      <th>pct_tl_closed_L6M</th>\n",
       "      <th>Tot_TL_closed_L12M</th>\n",
       "      <th>pct_tl_closed_L12M</th>\n",
       "      <th>Tot_Missed_Pmnt</th>\n",
       "      <th>CC_TL</th>\n",
       "      <th>Home_TL</th>\n",
       "      <th>PL_TL</th>\n",
       "      <th>Secured_TL</th>\n",
       "      <th>...</th>\n",
       "      <th>time_since_recent_enq</th>\n",
       "      <th>enq_L3m</th>\n",
       "      <th>NETMONTHLYINCOME</th>\n",
       "      <th>Time_With_Curr_Empr</th>\n",
       "      <th>CC_Flag</th>\n",
       "      <th>PL_Flag</th>\n",
       "      <th>pct_PL_enq_L6m_of_ever</th>\n",
       "      <th>pct_CC_enq_L6m_of_ever</th>\n",
       "      <th>HL_Flag</th>\n",
       "      <th>GL_Flag</th>\n",
       "    </tr>\n",
       "  </thead>\n",
       "  <tbody>\n",
       "    <tr>\n",
       "      <th>0</th>\n",
       "      <td>1</td>\n",
       "      <td>0.000</td>\n",
       "      <td>0.00</td>\n",
       "      <td>0</td>\n",
       "      <td>0.000</td>\n",
       "      <td>0</td>\n",
       "      <td>0</td>\n",
       "      <td>0</td>\n",
       "      <td>4</td>\n",
       "      <td>1</td>\n",
       "      <td>...</td>\n",
       "      <td>566</td>\n",
       "      <td>0</td>\n",
       "      <td>51000</td>\n",
       "      <td>114</td>\n",
       "      <td>0</td>\n",
       "      <td>1</td>\n",
       "      <td>0.000</td>\n",
       "      <td>0.0</td>\n",
       "      <td>1</td>\n",
       "      <td>0</td>\n",
       "    </tr>\n",
       "    <tr>\n",
       "      <th>1</th>\n",
       "      <td>2</td>\n",
       "      <td>0.000</td>\n",
       "      <td>0.00</td>\n",
       "      <td>0</td>\n",
       "      <td>0.000</td>\n",
       "      <td>0</td>\n",
       "      <td>0</td>\n",
       "      <td>0</td>\n",
       "      <td>0</td>\n",
       "      <td>0</td>\n",
       "      <td>...</td>\n",
       "      <td>209</td>\n",
       "      <td>0</td>\n",
       "      <td>19000</td>\n",
       "      <td>50</td>\n",
       "      <td>0</td>\n",
       "      <td>0</td>\n",
       "      <td>0.000</td>\n",
       "      <td>0.0</td>\n",
       "      <td>0</td>\n",
       "      <td>0</td>\n",
       "    </tr>\n",
       "    <tr>\n",
       "      <th>2</th>\n",
       "      <td>3</td>\n",
       "      <td>0.125</td>\n",
       "      <td>0.00</td>\n",
       "      <td>0</td>\n",
       "      <td>0.000</td>\n",
       "      <td>1</td>\n",
       "      <td>0</td>\n",
       "      <td>0</td>\n",
       "      <td>0</td>\n",
       "      <td>2</td>\n",
       "      <td>...</td>\n",
       "      <td>587</td>\n",
       "      <td>0</td>\n",
       "      <td>18</td>\n",
       "      <td>191</td>\n",
       "      <td>0</td>\n",
       "      <td>0</td>\n",
       "      <td>0.000</td>\n",
       "      <td>0.0</td>\n",
       "      <td>1</td>\n",
       "      <td>0</td>\n",
       "    </tr>\n",
       "    <tr>\n",
       "      <th>3</th>\n",
       "      <td>5</td>\n",
       "      <td>0.000</td>\n",
       "      <td>0.00</td>\n",
       "      <td>0</td>\n",
       "      <td>0.000</td>\n",
       "      <td>0</td>\n",
       "      <td>0</td>\n",
       "      <td>0</td>\n",
       "      <td>0</td>\n",
       "      <td>3</td>\n",
       "      <td>...</td>\n",
       "      <td>3951</td>\n",
       "      <td>0</td>\n",
       "      <td>15000</td>\n",
       "      <td>75</td>\n",
       "      <td>0</td>\n",
       "      <td>0</td>\n",
       "      <td>0.000</td>\n",
       "      <td>0.0</td>\n",
       "      <td>0</td>\n",
       "      <td>0</td>\n",
       "    </tr>\n",
       "    <tr>\n",
       "      <th>4</th>\n",
       "      <td>6</td>\n",
       "      <td>0.000</td>\n",
       "      <td>0.00</td>\n",
       "      <td>1</td>\n",
       "      <td>0.167</td>\n",
       "      <td>0</td>\n",
       "      <td>0</td>\n",
       "      <td>0</td>\n",
       "      <td>0</td>\n",
       "      <td>6</td>\n",
       "      <td>...</td>\n",
       "      <td>7</td>\n",
       "      <td>4</td>\n",
       "      <td>0</td>\n",
       "      <td>154</td>\n",
       "      <td>0</td>\n",
       "      <td>0</td>\n",
       "      <td>0.429</td>\n",
       "      <td>0.0</td>\n",
       "      <td>1</td>\n",
       "      <td>0</td>\n",
       "    </tr>\n",
       "    <tr>\n",
       "      <th>...</th>\n",
       "      <td>...</td>\n",
       "      <td>...</td>\n",
       "      <td>...</td>\n",
       "      <td>...</td>\n",
       "      <td>...</td>\n",
       "      <td>...</td>\n",
       "      <td>...</td>\n",
       "      <td>...</td>\n",
       "      <td>...</td>\n",
       "      <td>...</td>\n",
       "      <td>...</td>\n",
       "      <td>...</td>\n",
       "      <td>...</td>\n",
       "      <td>...</td>\n",
       "      <td>...</td>\n",
       "      <td>...</td>\n",
       "      <td>...</td>\n",
       "      <td>...</td>\n",
       "      <td>...</td>\n",
       "      <td>...</td>\n",
       "      <td>...</td>\n",
       "    </tr>\n",
       "    <tr>\n",
       "      <th>42059</th>\n",
       "      <td>51332</td>\n",
       "      <td>0.333</td>\n",
       "      <td>0.00</td>\n",
       "      <td>0</td>\n",
       "      <td>0.000</td>\n",
       "      <td>0</td>\n",
       "      <td>0</td>\n",
       "      <td>0</td>\n",
       "      <td>0</td>\n",
       "      <td>0</td>\n",
       "      <td>...</td>\n",
       "      <td>0</td>\n",
       "      <td>1</td>\n",
       "      <td>18500</td>\n",
       "      <td>249</td>\n",
       "      <td>0</td>\n",
       "      <td>0</td>\n",
       "      <td>0.000</td>\n",
       "      <td>0.0</td>\n",
       "      <td>0</td>\n",
       "      <td>0</td>\n",
       "    </tr>\n",
       "    <tr>\n",
       "      <th>42060</th>\n",
       "      <td>51333</td>\n",
       "      <td>0.000</td>\n",
       "      <td>0.25</td>\n",
       "      <td>1</td>\n",
       "      <td>0.250</td>\n",
       "      <td>0</td>\n",
       "      <td>0</td>\n",
       "      <td>0</td>\n",
       "      <td>0</td>\n",
       "      <td>2</td>\n",
       "      <td>...</td>\n",
       "      <td>203</td>\n",
       "      <td>0</td>\n",
       "      <td>25000</td>\n",
       "      <td>186</td>\n",
       "      <td>0</td>\n",
       "      <td>0</td>\n",
       "      <td>0.000</td>\n",
       "      <td>0.0</td>\n",
       "      <td>0</td>\n",
       "      <td>0</td>\n",
       "    </tr>\n",
       "    <tr>\n",
       "      <th>42061</th>\n",
       "      <td>51334</td>\n",
       "      <td>0.500</td>\n",
       "      <td>0.50</td>\n",
       "      <td>1</td>\n",
       "      <td>0.500</td>\n",
       "      <td>0</td>\n",
       "      <td>0</td>\n",
       "      <td>0</td>\n",
       "      <td>0</td>\n",
       "      <td>0</td>\n",
       "      <td>...</td>\n",
       "      <td>1</td>\n",
       "      <td>2</td>\n",
       "      <td>18000</td>\n",
       "      <td>66</td>\n",
       "      <td>0</td>\n",
       "      <td>0</td>\n",
       "      <td>1.000</td>\n",
       "      <td>0.0</td>\n",
       "      <td>0</td>\n",
       "      <td>0</td>\n",
       "    </tr>\n",
       "    <tr>\n",
       "      <th>42062</th>\n",
       "      <td>51335</td>\n",
       "      <td>0.000</td>\n",
       "      <td>0.00</td>\n",
       "      <td>1</td>\n",
       "      <td>0.500</td>\n",
       "      <td>0</td>\n",
       "      <td>0</td>\n",
       "      <td>0</td>\n",
       "      <td>0</td>\n",
       "      <td>0</td>\n",
       "      <td>...</td>\n",
       "      <td>242</td>\n",
       "      <td>0</td>\n",
       "      <td>12802</td>\n",
       "      <td>54</td>\n",
       "      <td>0</td>\n",
       "      <td>0</td>\n",
       "      <td>0.000</td>\n",
       "      <td>0.0</td>\n",
       "      <td>0</td>\n",
       "      <td>0</td>\n",
       "    </tr>\n",
       "    <tr>\n",
       "      <th>42063</th>\n",
       "      <td>51336</td>\n",
       "      <td>0.000</td>\n",
       "      <td>0.00</td>\n",
       "      <td>0</td>\n",
       "      <td>0.000</td>\n",
       "      <td>0</td>\n",
       "      <td>0</td>\n",
       "      <td>0</td>\n",
       "      <td>0</td>\n",
       "      <td>1</td>\n",
       "      <td>...</td>\n",
       "      <td>13</td>\n",
       "      <td>1</td>\n",
       "      <td>16000</td>\n",
       "      <td>102</td>\n",
       "      <td>0</td>\n",
       "      <td>0</td>\n",
       "      <td>0.000</td>\n",
       "      <td>0.0</td>\n",
       "      <td>0</td>\n",
       "      <td>0</td>\n",
       "    </tr>\n",
       "  </tbody>\n",
       "</table>\n",
       "<p>42064 rows × 38 columns</p>\n",
       "</div>"
      ],
      "text/plain": [
       "       PROSPECTID  pct_tl_open_L6M  pct_tl_closed_L6M  Tot_TL_closed_L12M  \\\n",
       "0               1            0.000               0.00                   0   \n",
       "1               2            0.000               0.00                   0   \n",
       "2               3            0.125               0.00                   0   \n",
       "3               5            0.000               0.00                   0   \n",
       "4               6            0.000               0.00                   1   \n",
       "...           ...              ...                ...                 ...   \n",
       "42059       51332            0.333               0.00                   0   \n",
       "42060       51333            0.000               0.25                   1   \n",
       "42061       51334            0.500               0.50                   1   \n",
       "42062       51335            0.000               0.00                   1   \n",
       "42063       51336            0.000               0.00                   0   \n",
       "\n",
       "       pct_tl_closed_L12M  Tot_Missed_Pmnt  CC_TL  Home_TL  PL_TL  Secured_TL  \\\n",
       "0                   0.000                0      0        0      4           1   \n",
       "1                   0.000                0      0        0      0           0   \n",
       "2                   0.000                1      0        0      0           2   \n",
       "3                   0.000                0      0        0      0           3   \n",
       "4                   0.167                0      0        0      0           6   \n",
       "...                   ...              ...    ...      ...    ...         ...   \n",
       "42059               0.000                0      0        0      0           0   \n",
       "42060               0.250                0      0        0      0           2   \n",
       "42061               0.500                0      0        0      0           0   \n",
       "42062               0.500                0      0        0      0           0   \n",
       "42063               0.000                0      0        0      0           1   \n",
       "\n",
       "       ...  time_since_recent_enq  enq_L3m  NETMONTHLYINCOME  \\\n",
       "0      ...                    566        0             51000   \n",
       "1      ...                    209        0             19000   \n",
       "2      ...                    587        0                18   \n",
       "3      ...                   3951        0             15000   \n",
       "4      ...                      7        4                 0   \n",
       "...    ...                    ...      ...               ...   \n",
       "42059  ...                      0        1             18500   \n",
       "42060  ...                    203        0             25000   \n",
       "42061  ...                      1        2             18000   \n",
       "42062  ...                    242        0             12802   \n",
       "42063  ...                     13        1             16000   \n",
       "\n",
       "       Time_With_Curr_Empr  CC_Flag  PL_Flag  pct_PL_enq_L6m_of_ever  \\\n",
       "0                      114        0        1                   0.000   \n",
       "1                       50        0        0                   0.000   \n",
       "2                      191        0        0                   0.000   \n",
       "3                       75        0        0                   0.000   \n",
       "4                      154        0        0                   0.429   \n",
       "...                    ...      ...      ...                     ...   \n",
       "42059                  249        0        0                   0.000   \n",
       "42060                  186        0        0                   0.000   \n",
       "42061                   66        0        0                   1.000   \n",
       "42062                   54        0        0                   0.000   \n",
       "42063                  102        0        0                   0.000   \n",
       "\n",
       "       pct_CC_enq_L6m_of_ever  HL_Flag  GL_Flag  \n",
       "0                         0.0        1        0  \n",
       "1                         0.0        0        0  \n",
       "2                         0.0        1        0  \n",
       "3                         0.0        0        0  \n",
       "4                         0.0        1        0  \n",
       "...                       ...      ...      ...  \n",
       "42059                     0.0        0        0  \n",
       "42060                     0.0        0        0  \n",
       "42061                     0.0        0        0  \n",
       "42062                     0.0        0        0  \n",
       "42063                     0.0        0        0  \n",
       "\n",
       "[42064 rows x 38 columns]"
      ]
     },
     "execution_count": 251,
     "metadata": {},
     "output_type": "execute_result"
    }
   ],
   "source": [
    "df[col_to_kept_remaing]"
   ]
  },
  {
   "cell_type": "markdown",
   "id": "91a36cc6",
   "metadata": {},
   "source": [
    "# Add the cat col in cal_to_remaining"
   ]
  },
  {
   "cell_type": "code",
   "execution_count": 252,
   "id": "a0512251",
   "metadata": {},
   "outputs": [],
   "source": [
    "col_to_kept_remaing.extend(cat_col)"
   ]
  },
  {
   "cell_type": "code",
   "execution_count": 253,
   "id": "d0f19bb5",
   "metadata": {},
   "outputs": [
    {
     "data": {
      "text/html": [
       "<div>\n",
       "<style scoped>\n",
       "    .dataframe tbody tr th:only-of-type {\n",
       "        vertical-align: middle;\n",
       "    }\n",
       "\n",
       "    .dataframe tbody tr th {\n",
       "        vertical-align: top;\n",
       "    }\n",
       "\n",
       "    .dataframe thead th {\n",
       "        text-align: right;\n",
       "    }\n",
       "</style>\n",
       "<table border=\"1\" class=\"dataframe\">\n",
       "  <thead>\n",
       "    <tr style=\"text-align: right;\">\n",
       "      <th></th>\n",
       "      <th>PROSPECTID</th>\n",
       "      <th>pct_tl_open_L6M</th>\n",
       "      <th>pct_tl_closed_L6M</th>\n",
       "      <th>Tot_TL_closed_L12M</th>\n",
       "      <th>pct_tl_closed_L12M</th>\n",
       "      <th>Tot_Missed_Pmnt</th>\n",
       "      <th>CC_TL</th>\n",
       "      <th>Home_TL</th>\n",
       "      <th>PL_TL</th>\n",
       "      <th>Secured_TL</th>\n",
       "      <th>...</th>\n",
       "      <th>pct_PL_enq_L6m_of_ever</th>\n",
       "      <th>pct_CC_enq_L6m_of_ever</th>\n",
       "      <th>HL_Flag</th>\n",
       "      <th>GL_Flag</th>\n",
       "      <th>MARITALSTATUS</th>\n",
       "      <th>EDUCATION</th>\n",
       "      <th>GENDER</th>\n",
       "      <th>last_prod_enq2</th>\n",
       "      <th>first_prod_enq2</th>\n",
       "      <th>Approved_Flag</th>\n",
       "    </tr>\n",
       "  </thead>\n",
       "  <tbody>\n",
       "    <tr>\n",
       "      <th>0</th>\n",
       "      <td>1</td>\n",
       "      <td>0.000</td>\n",
       "      <td>0.00</td>\n",
       "      <td>0</td>\n",
       "      <td>0.000</td>\n",
       "      <td>0</td>\n",
       "      <td>0</td>\n",
       "      <td>0</td>\n",
       "      <td>4</td>\n",
       "      <td>1</td>\n",
       "      <td>...</td>\n",
       "      <td>0.000</td>\n",
       "      <td>0.0</td>\n",
       "      <td>1</td>\n",
       "      <td>0</td>\n",
       "      <td>Married</td>\n",
       "      <td>12TH</td>\n",
       "      <td>M</td>\n",
       "      <td>PL</td>\n",
       "      <td>PL</td>\n",
       "      <td>P2</td>\n",
       "    </tr>\n",
       "    <tr>\n",
       "      <th>1</th>\n",
       "      <td>2</td>\n",
       "      <td>0.000</td>\n",
       "      <td>0.00</td>\n",
       "      <td>0</td>\n",
       "      <td>0.000</td>\n",
       "      <td>0</td>\n",
       "      <td>0</td>\n",
       "      <td>0</td>\n",
       "      <td>0</td>\n",
       "      <td>0</td>\n",
       "      <td>...</td>\n",
       "      <td>0.000</td>\n",
       "      <td>0.0</td>\n",
       "      <td>0</td>\n",
       "      <td>0</td>\n",
       "      <td>Single</td>\n",
       "      <td>GRADUATE</td>\n",
       "      <td>F</td>\n",
       "      <td>ConsumerLoan</td>\n",
       "      <td>ConsumerLoan</td>\n",
       "      <td>P2</td>\n",
       "    </tr>\n",
       "    <tr>\n",
       "      <th>2</th>\n",
       "      <td>3</td>\n",
       "      <td>0.125</td>\n",
       "      <td>0.00</td>\n",
       "      <td>0</td>\n",
       "      <td>0.000</td>\n",
       "      <td>1</td>\n",
       "      <td>0</td>\n",
       "      <td>0</td>\n",
       "      <td>0</td>\n",
       "      <td>2</td>\n",
       "      <td>...</td>\n",
       "      <td>0.000</td>\n",
       "      <td>0.0</td>\n",
       "      <td>1</td>\n",
       "      <td>0</td>\n",
       "      <td>Married</td>\n",
       "      <td>SSC</td>\n",
       "      <td>M</td>\n",
       "      <td>ConsumerLoan</td>\n",
       "      <td>others</td>\n",
       "      <td>P2</td>\n",
       "    </tr>\n",
       "    <tr>\n",
       "      <th>3</th>\n",
       "      <td>5</td>\n",
       "      <td>0.000</td>\n",
       "      <td>0.00</td>\n",
       "      <td>0</td>\n",
       "      <td>0.000</td>\n",
       "      <td>0</td>\n",
       "      <td>0</td>\n",
       "      <td>0</td>\n",
       "      <td>0</td>\n",
       "      <td>3</td>\n",
       "      <td>...</td>\n",
       "      <td>0.000</td>\n",
       "      <td>0.0</td>\n",
       "      <td>0</td>\n",
       "      <td>0</td>\n",
       "      <td>Married</td>\n",
       "      <td>POST-GRADUATE</td>\n",
       "      <td>M</td>\n",
       "      <td>AL</td>\n",
       "      <td>AL</td>\n",
       "      <td>P1</td>\n",
       "    </tr>\n",
       "    <tr>\n",
       "      <th>4</th>\n",
       "      <td>6</td>\n",
       "      <td>0.000</td>\n",
       "      <td>0.00</td>\n",
       "      <td>1</td>\n",
       "      <td>0.167</td>\n",
       "      <td>0</td>\n",
       "      <td>0</td>\n",
       "      <td>0</td>\n",
       "      <td>0</td>\n",
       "      <td>6</td>\n",
       "      <td>...</td>\n",
       "      <td>0.429</td>\n",
       "      <td>0.0</td>\n",
       "      <td>1</td>\n",
       "      <td>0</td>\n",
       "      <td>Married</td>\n",
       "      <td>12TH</td>\n",
       "      <td>M</td>\n",
       "      <td>ConsumerLoan</td>\n",
       "      <td>PL</td>\n",
       "      <td>P3</td>\n",
       "    </tr>\n",
       "    <tr>\n",
       "      <th>...</th>\n",
       "      <td>...</td>\n",
       "      <td>...</td>\n",
       "      <td>...</td>\n",
       "      <td>...</td>\n",
       "      <td>...</td>\n",
       "      <td>...</td>\n",
       "      <td>...</td>\n",
       "      <td>...</td>\n",
       "      <td>...</td>\n",
       "      <td>...</td>\n",
       "      <td>...</td>\n",
       "      <td>...</td>\n",
       "      <td>...</td>\n",
       "      <td>...</td>\n",
       "      <td>...</td>\n",
       "      <td>...</td>\n",
       "      <td>...</td>\n",
       "      <td>...</td>\n",
       "      <td>...</td>\n",
       "      <td>...</td>\n",
       "      <td>...</td>\n",
       "    </tr>\n",
       "    <tr>\n",
       "      <th>42059</th>\n",
       "      <td>51332</td>\n",
       "      <td>0.333</td>\n",
       "      <td>0.00</td>\n",
       "      <td>0</td>\n",
       "      <td>0.000</td>\n",
       "      <td>0</td>\n",
       "      <td>0</td>\n",
       "      <td>0</td>\n",
       "      <td>0</td>\n",
       "      <td>0</td>\n",
       "      <td>...</td>\n",
       "      <td>0.000</td>\n",
       "      <td>0.0</td>\n",
       "      <td>0</td>\n",
       "      <td>0</td>\n",
       "      <td>Married</td>\n",
       "      <td>12TH</td>\n",
       "      <td>M</td>\n",
       "      <td>ConsumerLoan</td>\n",
       "      <td>ConsumerLoan</td>\n",
       "      <td>P4</td>\n",
       "    </tr>\n",
       "    <tr>\n",
       "      <th>42060</th>\n",
       "      <td>51333</td>\n",
       "      <td>0.000</td>\n",
       "      <td>0.25</td>\n",
       "      <td>1</td>\n",
       "      <td>0.250</td>\n",
       "      <td>0</td>\n",
       "      <td>0</td>\n",
       "      <td>0</td>\n",
       "      <td>0</td>\n",
       "      <td>2</td>\n",
       "      <td>...</td>\n",
       "      <td>0.000</td>\n",
       "      <td>0.0</td>\n",
       "      <td>0</td>\n",
       "      <td>0</td>\n",
       "      <td>Married</td>\n",
       "      <td>SSC</td>\n",
       "      <td>M</td>\n",
       "      <td>others</td>\n",
       "      <td>others</td>\n",
       "      <td>P1</td>\n",
       "    </tr>\n",
       "    <tr>\n",
       "      <th>42061</th>\n",
       "      <td>51334</td>\n",
       "      <td>0.500</td>\n",
       "      <td>0.50</td>\n",
       "      <td>1</td>\n",
       "      <td>0.500</td>\n",
       "      <td>0</td>\n",
       "      <td>0</td>\n",
       "      <td>0</td>\n",
       "      <td>0</td>\n",
       "      <td>0</td>\n",
       "      <td>...</td>\n",
       "      <td>1.000</td>\n",
       "      <td>0.0</td>\n",
       "      <td>0</td>\n",
       "      <td>0</td>\n",
       "      <td>Married</td>\n",
       "      <td>SSC</td>\n",
       "      <td>M</td>\n",
       "      <td>ConsumerLoan</td>\n",
       "      <td>others</td>\n",
       "      <td>P3</td>\n",
       "    </tr>\n",
       "    <tr>\n",
       "      <th>42062</th>\n",
       "      <td>51335</td>\n",
       "      <td>0.000</td>\n",
       "      <td>0.00</td>\n",
       "      <td>1</td>\n",
       "      <td>0.500</td>\n",
       "      <td>0</td>\n",
       "      <td>0</td>\n",
       "      <td>0</td>\n",
       "      <td>0</td>\n",
       "      <td>0</td>\n",
       "      <td>...</td>\n",
       "      <td>0.000</td>\n",
       "      <td>0.0</td>\n",
       "      <td>0</td>\n",
       "      <td>0</td>\n",
       "      <td>Single</td>\n",
       "      <td>UNDER GRADUATE</td>\n",
       "      <td>F</td>\n",
       "      <td>ConsumerLoan</td>\n",
       "      <td>others</td>\n",
       "      <td>P2</td>\n",
       "    </tr>\n",
       "    <tr>\n",
       "      <th>42063</th>\n",
       "      <td>51336</td>\n",
       "      <td>0.000</td>\n",
       "      <td>0.00</td>\n",
       "      <td>0</td>\n",
       "      <td>0.000</td>\n",
       "      <td>0</td>\n",
       "      <td>0</td>\n",
       "      <td>0</td>\n",
       "      <td>0</td>\n",
       "      <td>1</td>\n",
       "      <td>...</td>\n",
       "      <td>0.000</td>\n",
       "      <td>0.0</td>\n",
       "      <td>0</td>\n",
       "      <td>0</td>\n",
       "      <td>Married</td>\n",
       "      <td>SSC</td>\n",
       "      <td>M</td>\n",
       "      <td>others</td>\n",
       "      <td>others</td>\n",
       "      <td>P2</td>\n",
       "    </tr>\n",
       "  </tbody>\n",
       "</table>\n",
       "<p>42064 rows × 44 columns</p>\n",
       "</div>"
      ],
      "text/plain": [
       "       PROSPECTID  pct_tl_open_L6M  pct_tl_closed_L6M  Tot_TL_closed_L12M  \\\n",
       "0               1            0.000               0.00                   0   \n",
       "1               2            0.000               0.00                   0   \n",
       "2               3            0.125               0.00                   0   \n",
       "3               5            0.000               0.00                   0   \n",
       "4               6            0.000               0.00                   1   \n",
       "...           ...              ...                ...                 ...   \n",
       "42059       51332            0.333               0.00                   0   \n",
       "42060       51333            0.000               0.25                   1   \n",
       "42061       51334            0.500               0.50                   1   \n",
       "42062       51335            0.000               0.00                   1   \n",
       "42063       51336            0.000               0.00                   0   \n",
       "\n",
       "       pct_tl_closed_L12M  Tot_Missed_Pmnt  CC_TL  Home_TL  PL_TL  Secured_TL  \\\n",
       "0                   0.000                0      0        0      4           1   \n",
       "1                   0.000                0      0        0      0           0   \n",
       "2                   0.000                1      0        0      0           2   \n",
       "3                   0.000                0      0        0      0           3   \n",
       "4                   0.167                0      0        0      0           6   \n",
       "...                   ...              ...    ...      ...    ...         ...   \n",
       "42059               0.000                0      0        0      0           0   \n",
       "42060               0.250                0      0        0      0           2   \n",
       "42061               0.500                0      0        0      0           0   \n",
       "42062               0.500                0      0        0      0           0   \n",
       "42063               0.000                0      0        0      0           1   \n",
       "\n",
       "       ...  pct_PL_enq_L6m_of_ever  pct_CC_enq_L6m_of_ever  HL_Flag  GL_Flag  \\\n",
       "0      ...                   0.000                     0.0        1        0   \n",
       "1      ...                   0.000                     0.0        0        0   \n",
       "2      ...                   0.000                     0.0        1        0   \n",
       "3      ...                   0.000                     0.0        0        0   \n",
       "4      ...                   0.429                     0.0        1        0   \n",
       "...    ...                     ...                     ...      ...      ...   \n",
       "42059  ...                   0.000                     0.0        0        0   \n",
       "42060  ...                   0.000                     0.0        0        0   \n",
       "42061  ...                   1.000                     0.0        0        0   \n",
       "42062  ...                   0.000                     0.0        0        0   \n",
       "42063  ...                   0.000                     0.0        0        0   \n",
       "\n",
       "       MARITALSTATUS       EDUCATION  GENDER  last_prod_enq2  first_prod_enq2  \\\n",
       "0            Married            12TH       M              PL               PL   \n",
       "1             Single        GRADUATE       F    ConsumerLoan     ConsumerLoan   \n",
       "2            Married             SSC       M    ConsumerLoan           others   \n",
       "3            Married   POST-GRADUATE       M              AL               AL   \n",
       "4            Married            12TH       M    ConsumerLoan               PL   \n",
       "...              ...             ...     ...             ...              ...   \n",
       "42059        Married            12TH       M    ConsumerLoan     ConsumerLoan   \n",
       "42060        Married             SSC       M          others           others   \n",
       "42061        Married             SSC       M    ConsumerLoan           others   \n",
       "42062         Single  UNDER GRADUATE       F    ConsumerLoan           others   \n",
       "42063        Married             SSC       M          others           others   \n",
       "\n",
       "       Approved_Flag  \n",
       "0                 P2  \n",
       "1                 P2  \n",
       "2                 P2  \n",
       "3                 P1  \n",
       "4                 P3  \n",
       "...              ...  \n",
       "42059             P4  \n",
       "42060             P1  \n",
       "42061             P3  \n",
       "42062             P2  \n",
       "42063             P2  \n",
       "\n",
       "[42064 rows x 44 columns]"
      ]
     },
     "execution_count": 253,
     "metadata": {},
     "output_type": "execute_result"
    }
   ],
   "source": [
    "df[col_to_kept_remaing]"
   ]
  },
  {
   "cell_type": "markdown",
   "id": "eaad712a",
   "metadata": {},
   "source": [
    "# encode the target col"
   ]
  },
  {
   "cell_type": "code",
   "execution_count": 254,
   "id": "2d0d7643",
   "metadata": {},
   "outputs": [],
   "source": [
    "from sklearn.preprocessing import OneHotEncoder,OrdinalEncoder,LabelEncoder"
   ]
  },
  {
   "cell_type": "code",
   "execution_count": 255,
   "id": "78962d2d",
   "metadata": {},
   "outputs": [
    {
     "data": {
      "text/plain": [
       "Approved_Flag\n",
       "P2    25452\n",
       "P3     6440\n",
       "P4     5264\n",
       "P1     4908\n",
       "Name: count, dtype: int64"
      ]
     },
     "execution_count": 255,
     "metadata": {},
     "output_type": "execute_result"
    }
   ],
   "source": [
    "df['Approved_Flag'].value_counts()"
   ]
  },
  {
   "cell_type": "markdown",
   "id": "4c0bce84",
   "metadata": {},
   "source": [
    "# Encode Target Columns"
   ]
  },
  {
   "cell_type": "code",
   "execution_count": 259,
   "id": "e9e69041",
   "metadata": {},
   "outputs": [],
   "source": [
    "df['Approved_Flag']=df['Approved_Flag'].map({\n",
    "    \"P1\":0,\n",
    "    \"P2\":1,\n",
    "    \"P3\":2,\n",
    "    \"P4\":3\n",
    "})"
   ]
  },
  {
   "cell_type": "code",
   "execution_count": 260,
   "id": "66875502",
   "metadata": {},
   "outputs": [
    {
     "data": {
      "text/plain": [
       "Approved_Flag\n",
       "1    25452\n",
       "2     6440\n",
       "3     5264\n",
       "0     4908\n",
       "Name: count, dtype: int64"
      ]
     },
     "execution_count": 260,
     "metadata": {},
     "output_type": "execute_result"
    }
   ],
   "source": [
    "df['Approved_Flag'].value_counts()"
   ]
  },
  {
   "cell_type": "code",
   "execution_count": null,
   "id": "67052a64",
   "metadata": {},
   "outputs": [],
   "source": []
  },
  {
   "cell_type": "markdown",
   "id": "bb0f650c",
   "metadata": {},
   "source": [
    "# saperate the feature and label"
   ]
  },
  {
   "cell_type": "code",
   "execution_count": 266,
   "id": "ca4da6e0",
   "metadata": {},
   "outputs": [],
   "source": [
    "feature=df.drop(columns='Approved_Flag')\n",
    "label=df['Approved_Flag']"
   ]
  },
  {
   "cell_type": "code",
   "execution_count": 267,
   "id": "ae8878f7",
   "metadata": {},
   "outputs": [
    {
     "data": {
      "text/html": [
       "<div>\n",
       "<style scoped>\n",
       "    .dataframe tbody tr th:only-of-type {\n",
       "        vertical-align: middle;\n",
       "    }\n",
       "\n",
       "    .dataframe tbody tr th {\n",
       "        vertical-align: top;\n",
       "    }\n",
       "\n",
       "    .dataframe thead th {\n",
       "        text-align: right;\n",
       "    }\n",
       "</style>\n",
       "<table border=\"1\" class=\"dataframe\">\n",
       "  <thead>\n",
       "    <tr style=\"text-align: right;\">\n",
       "      <th></th>\n",
       "      <th>PROSPECTID</th>\n",
       "      <th>Total_TL</th>\n",
       "      <th>Tot_Closed_TL</th>\n",
       "      <th>Tot_Active_TL</th>\n",
       "      <th>Total_TL_opened_L6M</th>\n",
       "      <th>Tot_TL_closed_L6M</th>\n",
       "      <th>pct_tl_open_L6M</th>\n",
       "      <th>pct_tl_closed_L6M</th>\n",
       "      <th>pct_active_tl</th>\n",
       "      <th>pct_closed_tl</th>\n",
       "      <th>...</th>\n",
       "      <th>PL_Flag</th>\n",
       "      <th>pct_PL_enq_L6m_of_L12m</th>\n",
       "      <th>pct_CC_enq_L6m_of_L12m</th>\n",
       "      <th>pct_PL_enq_L6m_of_ever</th>\n",
       "      <th>pct_CC_enq_L6m_of_ever</th>\n",
       "      <th>HL_Flag</th>\n",
       "      <th>GL_Flag</th>\n",
       "      <th>last_prod_enq2</th>\n",
       "      <th>first_prod_enq2</th>\n",
       "      <th>Credit_Score</th>\n",
       "    </tr>\n",
       "  </thead>\n",
       "  <tbody>\n",
       "    <tr>\n",
       "      <th>0</th>\n",
       "      <td>1</td>\n",
       "      <td>5</td>\n",
       "      <td>4</td>\n",
       "      <td>1</td>\n",
       "      <td>0</td>\n",
       "      <td>0</td>\n",
       "      <td>0.0</td>\n",
       "      <td>0.0</td>\n",
       "      <td>0.2</td>\n",
       "      <td>0.8</td>\n",
       "      <td>...</td>\n",
       "      <td>1</td>\n",
       "      <td>0.0</td>\n",
       "      <td>0.0</td>\n",
       "      <td>0.0</td>\n",
       "      <td>0.0</td>\n",
       "      <td>1</td>\n",
       "      <td>0</td>\n",
       "      <td>PL</td>\n",
       "      <td>PL</td>\n",
       "      <td>696</td>\n",
       "    </tr>\n",
       "    <tr>\n",
       "      <th>1</th>\n",
       "      <td>2</td>\n",
       "      <td>1</td>\n",
       "      <td>0</td>\n",
       "      <td>1</td>\n",
       "      <td>0</td>\n",
       "      <td>0</td>\n",
       "      <td>0.0</td>\n",
       "      <td>0.0</td>\n",
       "      <td>1.0</td>\n",
       "      <td>0.0</td>\n",
       "      <td>...</td>\n",
       "      <td>0</td>\n",
       "      <td>0.0</td>\n",
       "      <td>0.0</td>\n",
       "      <td>0.0</td>\n",
       "      <td>0.0</td>\n",
       "      <td>0</td>\n",
       "      <td>0</td>\n",
       "      <td>ConsumerLoan</td>\n",
       "      <td>ConsumerLoan</td>\n",
       "      <td>685</td>\n",
       "    </tr>\n",
       "  </tbody>\n",
       "</table>\n",
       "<p>2 rows × 78 columns</p>\n",
       "</div>"
      ],
      "text/plain": [
       "   PROSPECTID  Total_TL  Tot_Closed_TL  Tot_Active_TL  Total_TL_opened_L6M  \\\n",
       "0           1         5              4              1                    0   \n",
       "1           2         1              0              1                    0   \n",
       "\n",
       "   Tot_TL_closed_L6M  pct_tl_open_L6M  pct_tl_closed_L6M  pct_active_tl  \\\n",
       "0                  0              0.0                0.0            0.2   \n",
       "1                  0              0.0                0.0            1.0   \n",
       "\n",
       "   pct_closed_tl  ...  PL_Flag  pct_PL_enq_L6m_of_L12m  \\\n",
       "0            0.8  ...        1                     0.0   \n",
       "1            0.0  ...        0                     0.0   \n",
       "\n",
       "   pct_CC_enq_L6m_of_L12m  pct_PL_enq_L6m_of_ever  pct_CC_enq_L6m_of_ever  \\\n",
       "0                     0.0                     0.0                     0.0   \n",
       "1                     0.0                     0.0                     0.0   \n",
       "\n",
       "   HL_Flag  GL_Flag  last_prod_enq2  first_prod_enq2  Credit_Score  \n",
       "0        1        0              PL               PL           696  \n",
       "1        0        0    ConsumerLoan     ConsumerLoan           685  \n",
       "\n",
       "[2 rows x 78 columns]"
      ]
     },
     "execution_count": 267,
     "metadata": {},
     "output_type": "execute_result"
    }
   ],
   "source": [
    "feature.head(2)"
   ]
  },
  {
   "cell_type": "code",
   "execution_count": 268,
   "id": "93161435",
   "metadata": {},
   "outputs": [
    {
     "data": {
      "text/plain": [
       "0    1\n",
       "1    1\n",
       "2    1\n",
       "Name: Approved_Flag, dtype: int64"
      ]
     },
     "execution_count": 268,
     "metadata": {},
     "output_type": "execute_result"
    }
   ],
   "source": [
    "label.head(3)"
   ]
  },
  {
   "cell_type": "markdown",
   "id": "b00ee9c7",
   "metadata": {},
   "source": [
    "# Train test split"
   ]
  },
  {
   "cell_type": "code",
   "execution_count": 269,
   "id": "f26ec82e",
   "metadata": {},
   "outputs": [],
   "source": [
    "from sklearn.model_selection import train_test_split,cross_val_score"
   ]
  },
  {
   "cell_type": "code",
   "execution_count": 270,
   "id": "3357ed7f",
   "metadata": {},
   "outputs": [],
   "source": [
    "x_train,x_test,y_train,y_test=train_test_split(feature,label,test_size=0.2,random_state=42)"
   ]
  },
  {
   "cell_type": "code",
   "execution_count": 271,
   "id": "d3875168",
   "metadata": {},
   "outputs": [
    {
     "data": {
      "text/plain": [
       "(33651, 78)"
      ]
     },
     "execution_count": 271,
     "metadata": {},
     "output_type": "execute_result"
    }
   ],
   "source": [
    "x_train.shape"
   ]
  },
  {
   "cell_type": "code",
   "execution_count": 272,
   "id": "95b1cce3",
   "metadata": {},
   "outputs": [
    {
     "data": {
      "text/plain": [
       "(8413, 78)"
      ]
     },
     "execution_count": 272,
     "metadata": {},
     "output_type": "execute_result"
    }
   ],
   "source": [
    "x_test.shape"
   ]
  },
  {
   "cell_type": "markdown",
   "id": "b1851d08",
   "metadata": {},
   "source": [
    "# Saperate the num and cat col for encoding"
   ]
  },
  {
   "cell_type": "code",
   "execution_count": 273,
   "id": "9e3c04c2",
   "metadata": {},
   "outputs": [],
   "source": [
    "num_col=feature.select_dtypes('number').columns"
   ]
  },
  {
   "cell_type": "code",
   "execution_count": 274,
   "id": "14897a55",
   "metadata": {},
   "outputs": [],
   "source": [
    "cat_col=feature.select_dtypes('object').columns"
   ]
  },
  {
   "cell_type": "code",
   "execution_count": 275,
   "id": "c2c425bf",
   "metadata": {},
   "outputs": [
    {
     "data": {
      "text/plain": [
       "Index(['MARITALSTATUS', 'EDUCATION', 'GENDER', 'last_prod_enq2',\n",
       "       'first_prod_enq2'],\n",
       "      dtype='object')"
      ]
     },
     "execution_count": 275,
     "metadata": {},
     "output_type": "execute_result"
    }
   ],
   "source": [
    "cat_col"
   ]
  },
  {
   "cell_type": "markdown",
   "id": "dff1acf4",
   "metadata": {},
   "source": [
    "# Make the pipelines"
   ]
  },
  {
   "cell_type": "code",
   "execution_count": 276,
   "id": "a2d52ed1",
   "metadata": {},
   "outputs": [],
   "source": [
    "from sklearn.pipeline import Pipeline\n",
    "from sklearn.compose import ColumnTransformer\n",
    "from sklearn.preprocessing import StandardScaler"
   ]
  },
  {
   "cell_type": "markdown",
   "id": "460654e7",
   "metadata": {},
   "source": [
    "# Num-Pipeline"
   ]
  },
  {
   "cell_type": "code",
   "execution_count": 277,
   "id": "c28e066b",
   "metadata": {},
   "outputs": [
    {
     "data": {
      "text/html": [
       "<style>#sk-container-id-30 {color: black;}#sk-container-id-30 pre{padding: 0;}#sk-container-id-30 div.sk-toggleable {background-color: white;}#sk-container-id-30 label.sk-toggleable__label {cursor: pointer;display: block;width: 100%;margin-bottom: 0;padding: 0.3em;box-sizing: border-box;text-align: center;}#sk-container-id-30 label.sk-toggleable__label-arrow:before {content: \"▸\";float: left;margin-right: 0.25em;color: #696969;}#sk-container-id-30 label.sk-toggleable__label-arrow:hover:before {color: black;}#sk-container-id-30 div.sk-estimator:hover label.sk-toggleable__label-arrow:before {color: black;}#sk-container-id-30 div.sk-toggleable__content {max-height: 0;max-width: 0;overflow: hidden;text-align: left;background-color: #f0f8ff;}#sk-container-id-30 div.sk-toggleable__content pre {margin: 0.2em;color: black;border-radius: 0.25em;background-color: #f0f8ff;}#sk-container-id-30 input.sk-toggleable__control:checked~div.sk-toggleable__content {max-height: 200px;max-width: 100%;overflow: auto;}#sk-container-id-30 input.sk-toggleable__control:checked~label.sk-toggleable__label-arrow:before {content: \"▾\";}#sk-container-id-30 div.sk-estimator input.sk-toggleable__control:checked~label.sk-toggleable__label {background-color: #d4ebff;}#sk-container-id-30 div.sk-label input.sk-toggleable__control:checked~label.sk-toggleable__label {background-color: #d4ebff;}#sk-container-id-30 input.sk-hidden--visually {border: 0;clip: rect(1px 1px 1px 1px);clip: rect(1px, 1px, 1px, 1px);height: 1px;margin: -1px;overflow: hidden;padding: 0;position: absolute;width: 1px;}#sk-container-id-30 div.sk-estimator {font-family: monospace;background-color: #f0f8ff;border: 1px dotted black;border-radius: 0.25em;box-sizing: border-box;margin-bottom: 0.5em;}#sk-container-id-30 div.sk-estimator:hover {background-color: #d4ebff;}#sk-container-id-30 div.sk-parallel-item::after {content: \"\";width: 100%;border-bottom: 1px solid gray;flex-grow: 1;}#sk-container-id-30 div.sk-label:hover label.sk-toggleable__label {background-color: #d4ebff;}#sk-container-id-30 div.sk-serial::before {content: \"\";position: absolute;border-left: 1px solid gray;box-sizing: border-box;top: 0;bottom: 0;left: 50%;z-index: 0;}#sk-container-id-30 div.sk-serial {display: flex;flex-direction: column;align-items: center;background-color: white;padding-right: 0.2em;padding-left: 0.2em;position: relative;}#sk-container-id-30 div.sk-item {position: relative;z-index: 1;}#sk-container-id-30 div.sk-parallel {display: flex;align-items: stretch;justify-content: center;background-color: white;position: relative;}#sk-container-id-30 div.sk-item::before, #sk-container-id-30 div.sk-parallel-item::before {content: \"\";position: absolute;border-left: 1px solid gray;box-sizing: border-box;top: 0;bottom: 0;left: 50%;z-index: -1;}#sk-container-id-30 div.sk-parallel-item {display: flex;flex-direction: column;z-index: 1;position: relative;background-color: white;}#sk-container-id-30 div.sk-parallel-item:first-child::after {align-self: flex-end;width: 50%;}#sk-container-id-30 div.sk-parallel-item:last-child::after {align-self: flex-start;width: 50%;}#sk-container-id-30 div.sk-parallel-item:only-child::after {width: 0;}#sk-container-id-30 div.sk-dashed-wrapped {border: 1px dashed gray;margin: 0 0.4em 0.5em 0.4em;box-sizing: border-box;padding-bottom: 0.4em;background-color: white;}#sk-container-id-30 div.sk-label label {font-family: monospace;font-weight: bold;display: inline-block;line-height: 1.2em;}#sk-container-id-30 div.sk-label-container {text-align: center;}#sk-container-id-30 div.sk-container {/* jupyter's `normalize.less` sets `[hidden] { display: none; }` but bootstrap.min.css set `[hidden] { display: none !important; }` so we also need the `!important` here to be able to override the default hidden behavior on the sphinx rendered scikit-learn.org. See: https://github.com/scikit-learn/scikit-learn/issues/21755 */display: inline-block !important;position: relative;}#sk-container-id-30 div.sk-text-repr-fallback {display: none;}</style><div id=\"sk-container-id-30\" class=\"sk-top-container\"><div class=\"sk-text-repr-fallback\"><pre>Pipeline(steps=[(&#x27;scale&#x27;, StandardScaler())])</pre><b>In a Jupyter environment, please rerun this cell to show the HTML representation or trust the notebook. <br />On GitHub, the HTML representation is unable to render, please try loading this page with nbviewer.org.</b></div><div class=\"sk-container\" hidden><div class=\"sk-item sk-dashed-wrapped\"><div class=\"sk-label-container\"><div class=\"sk-label sk-toggleable\"><input class=\"sk-toggleable__control sk-hidden--visually\" id=\"sk-estimator-id-129\" type=\"checkbox\" ><label for=\"sk-estimator-id-129\" class=\"sk-toggleable__label sk-toggleable__label-arrow\">Pipeline</label><div class=\"sk-toggleable__content\"><pre>Pipeline(steps=[(&#x27;scale&#x27;, StandardScaler())])</pre></div></div></div><div class=\"sk-serial\"><div class=\"sk-item\"><div class=\"sk-estimator sk-toggleable\"><input class=\"sk-toggleable__control sk-hidden--visually\" id=\"sk-estimator-id-130\" type=\"checkbox\" ><label for=\"sk-estimator-id-130\" class=\"sk-toggleable__label sk-toggleable__label-arrow\">StandardScaler</label><div class=\"sk-toggleable__content\"><pre>StandardScaler()</pre></div></div></div></div></div></div></div>"
      ],
      "text/plain": [
       "Pipeline(steps=[('scale', StandardScaler())])"
      ]
     },
     "execution_count": 277,
     "metadata": {},
     "output_type": "execute_result"
    }
   ],
   "source": [
    "num_pipe=Pipeline(steps=[\n",
    "    ('scale',StandardScaler())\n",
    "])\n",
    "num_pipe"
   ]
  },
  {
   "cell_type": "code",
   "execution_count": 278,
   "id": "9775cee1",
   "metadata": {},
   "outputs": [],
   "source": [
    "# cat_pipe1=Pipeline(steps=[\n",
    "#     ('label_encode',OrdinalEncoder())\n",
    "# ])\n",
    "# cat_pipe1"
   ]
  },
  {
   "cell_type": "code",
   "execution_count": null,
   "id": "9a253232",
   "metadata": {},
   "outputs": [
    {
     "data": {
      "text/html": [
       "<style>#sk-container-id-33 {color: black;}#sk-container-id-33 pre{padding: 0;}#sk-container-id-33 div.sk-toggleable {background-color: white;}#sk-container-id-33 label.sk-toggleable__label {cursor: pointer;display: block;width: 100%;margin-bottom: 0;padding: 0.3em;box-sizing: border-box;text-align: center;}#sk-container-id-33 label.sk-toggleable__label-arrow:before {content: \"▸\";float: left;margin-right: 0.25em;color: #696969;}#sk-container-id-33 label.sk-toggleable__label-arrow:hover:before {color: black;}#sk-container-id-33 div.sk-estimator:hover label.sk-toggleable__label-arrow:before {color: black;}#sk-container-id-33 div.sk-toggleable__content {max-height: 0;max-width: 0;overflow: hidden;text-align: left;background-color: #f0f8ff;}#sk-container-id-33 div.sk-toggleable__content pre {margin: 0.2em;color: black;border-radius: 0.25em;background-color: #f0f8ff;}#sk-container-id-33 input.sk-toggleable__control:checked~div.sk-toggleable__content {max-height: 200px;max-width: 100%;overflow: auto;}#sk-container-id-33 input.sk-toggleable__control:checked~label.sk-toggleable__label-arrow:before {content: \"▾\";}#sk-container-id-33 div.sk-estimator input.sk-toggleable__control:checked~label.sk-toggleable__label {background-color: #d4ebff;}#sk-container-id-33 div.sk-label input.sk-toggleable__control:checked~label.sk-toggleable__label {background-color: #d4ebff;}#sk-container-id-33 input.sk-hidden--visually {border: 0;clip: rect(1px 1px 1px 1px);clip: rect(1px, 1px, 1px, 1px);height: 1px;margin: -1px;overflow: hidden;padding: 0;position: absolute;width: 1px;}#sk-container-id-33 div.sk-estimator {font-family: monospace;background-color: #f0f8ff;border: 1px dotted black;border-radius: 0.25em;box-sizing: border-box;margin-bottom: 0.5em;}#sk-container-id-33 div.sk-estimator:hover {background-color: #d4ebff;}#sk-container-id-33 div.sk-parallel-item::after {content: \"\";width: 100%;border-bottom: 1px solid gray;flex-grow: 1;}#sk-container-id-33 div.sk-label:hover label.sk-toggleable__label {background-color: #d4ebff;}#sk-container-id-33 div.sk-serial::before {content: \"\";position: absolute;border-left: 1px solid gray;box-sizing: border-box;top: 0;bottom: 0;left: 50%;z-index: 0;}#sk-container-id-33 div.sk-serial {display: flex;flex-direction: column;align-items: center;background-color: white;padding-right: 0.2em;padding-left: 0.2em;position: relative;}#sk-container-id-33 div.sk-item {position: relative;z-index: 1;}#sk-container-id-33 div.sk-parallel {display: flex;align-items: stretch;justify-content: center;background-color: white;position: relative;}#sk-container-id-33 div.sk-item::before, #sk-container-id-33 div.sk-parallel-item::before {content: \"\";position: absolute;border-left: 1px solid gray;box-sizing: border-box;top: 0;bottom: 0;left: 50%;z-index: -1;}#sk-container-id-33 div.sk-parallel-item {display: flex;flex-direction: column;z-index: 1;position: relative;background-color: white;}#sk-container-id-33 div.sk-parallel-item:first-child::after {align-self: flex-end;width: 50%;}#sk-container-id-33 div.sk-parallel-item:last-child::after {align-self: flex-start;width: 50%;}#sk-container-id-33 div.sk-parallel-item:only-child::after {width: 0;}#sk-container-id-33 div.sk-dashed-wrapped {border: 1px dashed gray;margin: 0 0.4em 0.5em 0.4em;box-sizing: border-box;padding-bottom: 0.4em;background-color: white;}#sk-container-id-33 div.sk-label label {font-family: monospace;font-weight: bold;display: inline-block;line-height: 1.2em;}#sk-container-id-33 div.sk-label-container {text-align: center;}#sk-container-id-33 div.sk-container {/* jupyter's `normalize.less` sets `[hidden] { display: none; }` but bootstrap.min.css set `[hidden] { display: none !important; }` so we also need the `!important` here to be able to override the default hidden behavior on the sphinx rendered scikit-learn.org. See: https://github.com/scikit-learn/scikit-learn/issues/21755 */display: inline-block !important;position: relative;}#sk-container-id-33 div.sk-text-repr-fallback {display: none;}</style><div id=\"sk-container-id-33\" class=\"sk-top-container\"><div class=\"sk-text-repr-fallback\"><pre>Pipeline(steps=[(&#x27;onehot&#x27;,\n",
       "                 OneHotEncoder(drop=&#x27;first&#x27;, handle_unknown=&#x27;ignore&#x27;,\n",
       "                               sparse=False))])</pre><b>In a Jupyter environment, please rerun this cell to show the HTML representation or trust the notebook. <br />On GitHub, the HTML representation is unable to render, please try loading this page with nbviewer.org.</b></div><div class=\"sk-container\" hidden><div class=\"sk-item sk-dashed-wrapped\"><div class=\"sk-label-container\"><div class=\"sk-label sk-toggleable\"><input class=\"sk-toggleable__control sk-hidden--visually\" id=\"sk-estimator-id-140\" type=\"checkbox\" ><label for=\"sk-estimator-id-140\" class=\"sk-toggleable__label sk-toggleable__label-arrow\">Pipeline</label><div class=\"sk-toggleable__content\"><pre>Pipeline(steps=[(&#x27;onehot&#x27;,\n",
       "                 OneHotEncoder(drop=&#x27;first&#x27;, handle_unknown=&#x27;ignore&#x27;,\n",
       "                               sparse=False))])</pre></div></div></div><div class=\"sk-serial\"><div class=\"sk-item\"><div class=\"sk-estimator sk-toggleable\"><input class=\"sk-toggleable__control sk-hidden--visually\" id=\"sk-estimator-id-141\" type=\"checkbox\" ><label for=\"sk-estimator-id-141\" class=\"sk-toggleable__label sk-toggleable__label-arrow\">OneHotEncoder</label><div class=\"sk-toggleable__content\"><pre>OneHotEncoder(drop=&#x27;first&#x27;, handle_unknown=&#x27;ignore&#x27;, sparse=False)</pre></div></div></div></div></div></div></div>"
      ],
      "text/plain": [
       "Pipeline(steps=[('onehot',\n",
       "                 OneHotEncoder(drop='first', handle_unknown='ignore',\n",
       "                               sparse=False))])"
      ]
     },
     "execution_count": 281,
     "metadata": {},
     "output_type": "execute_result"
    }
   ],
   "source": [
    "cat_pipe=Pipeline(steps=[\n",
    "    ('onehot',OneHotEncoder(drop='first',handle_unknown='ignore',sparse=False))\n",
    "])\n",
    "cat_pipe"
   ]
  },
  {
   "cell_type": "markdown",
   "id": "41077066",
   "metadata": {},
   "source": [
    "# Make the transformer\n",
    "1. In transformer we can combine all the steps"
   ]
  },
  {
   "cell_type": "code",
   "execution_count": 282,
   "id": "21c11732",
   "metadata": {},
   "outputs": [
    {
     "data": {
      "text/html": [
       "<style>#sk-container-id-34 {color: black;}#sk-container-id-34 pre{padding: 0;}#sk-container-id-34 div.sk-toggleable {background-color: white;}#sk-container-id-34 label.sk-toggleable__label {cursor: pointer;display: block;width: 100%;margin-bottom: 0;padding: 0.3em;box-sizing: border-box;text-align: center;}#sk-container-id-34 label.sk-toggleable__label-arrow:before {content: \"▸\";float: left;margin-right: 0.25em;color: #696969;}#sk-container-id-34 label.sk-toggleable__label-arrow:hover:before {color: black;}#sk-container-id-34 div.sk-estimator:hover label.sk-toggleable__label-arrow:before {color: black;}#sk-container-id-34 div.sk-toggleable__content {max-height: 0;max-width: 0;overflow: hidden;text-align: left;background-color: #f0f8ff;}#sk-container-id-34 div.sk-toggleable__content pre {margin: 0.2em;color: black;border-radius: 0.25em;background-color: #f0f8ff;}#sk-container-id-34 input.sk-toggleable__control:checked~div.sk-toggleable__content {max-height: 200px;max-width: 100%;overflow: auto;}#sk-container-id-34 input.sk-toggleable__control:checked~label.sk-toggleable__label-arrow:before {content: \"▾\";}#sk-container-id-34 div.sk-estimator input.sk-toggleable__control:checked~label.sk-toggleable__label {background-color: #d4ebff;}#sk-container-id-34 div.sk-label input.sk-toggleable__control:checked~label.sk-toggleable__label {background-color: #d4ebff;}#sk-container-id-34 input.sk-hidden--visually {border: 0;clip: rect(1px 1px 1px 1px);clip: rect(1px, 1px, 1px, 1px);height: 1px;margin: -1px;overflow: hidden;padding: 0;position: absolute;width: 1px;}#sk-container-id-34 div.sk-estimator {font-family: monospace;background-color: #f0f8ff;border: 1px dotted black;border-radius: 0.25em;box-sizing: border-box;margin-bottom: 0.5em;}#sk-container-id-34 div.sk-estimator:hover {background-color: #d4ebff;}#sk-container-id-34 div.sk-parallel-item::after {content: \"\";width: 100%;border-bottom: 1px solid gray;flex-grow: 1;}#sk-container-id-34 div.sk-label:hover label.sk-toggleable__label {background-color: #d4ebff;}#sk-container-id-34 div.sk-serial::before {content: \"\";position: absolute;border-left: 1px solid gray;box-sizing: border-box;top: 0;bottom: 0;left: 50%;z-index: 0;}#sk-container-id-34 div.sk-serial {display: flex;flex-direction: column;align-items: center;background-color: white;padding-right: 0.2em;padding-left: 0.2em;position: relative;}#sk-container-id-34 div.sk-item {position: relative;z-index: 1;}#sk-container-id-34 div.sk-parallel {display: flex;align-items: stretch;justify-content: center;background-color: white;position: relative;}#sk-container-id-34 div.sk-item::before, #sk-container-id-34 div.sk-parallel-item::before {content: \"\";position: absolute;border-left: 1px solid gray;box-sizing: border-box;top: 0;bottom: 0;left: 50%;z-index: -1;}#sk-container-id-34 div.sk-parallel-item {display: flex;flex-direction: column;z-index: 1;position: relative;background-color: white;}#sk-container-id-34 div.sk-parallel-item:first-child::after {align-self: flex-end;width: 50%;}#sk-container-id-34 div.sk-parallel-item:last-child::after {align-self: flex-start;width: 50%;}#sk-container-id-34 div.sk-parallel-item:only-child::after {width: 0;}#sk-container-id-34 div.sk-dashed-wrapped {border: 1px dashed gray;margin: 0 0.4em 0.5em 0.4em;box-sizing: border-box;padding-bottom: 0.4em;background-color: white;}#sk-container-id-34 div.sk-label label {font-family: monospace;font-weight: bold;display: inline-block;line-height: 1.2em;}#sk-container-id-34 div.sk-label-container {text-align: center;}#sk-container-id-34 div.sk-container {/* jupyter's `normalize.less` sets `[hidden] { display: none; }` but bootstrap.min.css set `[hidden] { display: none !important; }` so we also need the `!important` here to be able to override the default hidden behavior on the sphinx rendered scikit-learn.org. See: https://github.com/scikit-learn/scikit-learn/issues/21755 */display: inline-block !important;position: relative;}#sk-container-id-34 div.sk-text-repr-fallback {display: none;}</style><div id=\"sk-container-id-34\" class=\"sk-top-container\"><div class=\"sk-text-repr-fallback\"><pre>ColumnTransformer(remainder=&#x27;passthrough&#x27;,\n",
       "                  transformers=[(&#x27;num_tran&#x27;,\n",
       "                                 Pipeline(steps=[(&#x27;scale&#x27;, StandardScaler())]),\n",
       "                                 Index([&#x27;PROSPECTID&#x27;, &#x27;Total_TL&#x27;, &#x27;Tot_Closed_TL&#x27;, &#x27;Tot_Active_TL&#x27;,\n",
       "       &#x27;Total_TL_opened_L6M&#x27;, &#x27;Tot_TL_closed_L6M&#x27;, &#x27;pct_tl_open_L6M&#x27;,\n",
       "       &#x27;pct_tl_closed_L6M&#x27;, &#x27;pct_active_tl&#x27;, &#x27;pct_closed_tl&#x27;,\n",
       "       &#x27;Total_TL_opened_L12M&#x27;, &#x27;Tot_TL_closed_L12M&#x27;, &#x27;pct_tl_open_L12M&#x27;...\n",
       "       &#x27;pct_currentBal_all_TL&#x27;, &#x27;CC_Flag&#x27;, &#x27;PL_Flag&#x27;, &#x27;pct_PL_enq_L6m_of_L12m&#x27;,\n",
       "       &#x27;pct_CC_enq_L6m_of_L12m&#x27;, &#x27;pct_PL_enq_L6m_of_ever&#x27;,\n",
       "       &#x27;pct_CC_enq_L6m_of_ever&#x27;, &#x27;HL_Flag&#x27;, &#x27;GL_Flag&#x27;, &#x27;Credit_Score&#x27;],\n",
       "      dtype=&#x27;object&#x27;)),\n",
       "                                (&#x27;cat_tran2&#x27;,\n",
       "                                 Pipeline(steps=[(&#x27;onehot&#x27;,\n",
       "                                                  OneHotEncoder(drop=&#x27;first&#x27;,\n",
       "                                                                handle_unknown=&#x27;ignore&#x27;,\n",
       "                                                                sparse=False))]),\n",
       "                                 Index([&#x27;MARITALSTATUS&#x27;, &#x27;EDUCATION&#x27;, &#x27;GENDER&#x27;, &#x27;last_prod_enq2&#x27;,\n",
       "       &#x27;first_prod_enq2&#x27;],\n",
       "      dtype=&#x27;object&#x27;))])</pre><b>In a Jupyter environment, please rerun this cell to show the HTML representation or trust the notebook. <br />On GitHub, the HTML representation is unable to render, please try loading this page with nbviewer.org.</b></div><div class=\"sk-container\" hidden><div class=\"sk-item sk-dashed-wrapped\"><div class=\"sk-label-container\"><div class=\"sk-label sk-toggleable\"><input class=\"sk-toggleable__control sk-hidden--visually\" id=\"sk-estimator-id-142\" type=\"checkbox\" ><label for=\"sk-estimator-id-142\" class=\"sk-toggleable__label sk-toggleable__label-arrow\">ColumnTransformer</label><div class=\"sk-toggleable__content\"><pre>ColumnTransformer(remainder=&#x27;passthrough&#x27;,\n",
       "                  transformers=[(&#x27;num_tran&#x27;,\n",
       "                                 Pipeline(steps=[(&#x27;scale&#x27;, StandardScaler())]),\n",
       "                                 Index([&#x27;PROSPECTID&#x27;, &#x27;Total_TL&#x27;, &#x27;Tot_Closed_TL&#x27;, &#x27;Tot_Active_TL&#x27;,\n",
       "       &#x27;Total_TL_opened_L6M&#x27;, &#x27;Tot_TL_closed_L6M&#x27;, &#x27;pct_tl_open_L6M&#x27;,\n",
       "       &#x27;pct_tl_closed_L6M&#x27;, &#x27;pct_active_tl&#x27;, &#x27;pct_closed_tl&#x27;,\n",
       "       &#x27;Total_TL_opened_L12M&#x27;, &#x27;Tot_TL_closed_L12M&#x27;, &#x27;pct_tl_open_L12M&#x27;...\n",
       "       &#x27;pct_currentBal_all_TL&#x27;, &#x27;CC_Flag&#x27;, &#x27;PL_Flag&#x27;, &#x27;pct_PL_enq_L6m_of_L12m&#x27;,\n",
       "       &#x27;pct_CC_enq_L6m_of_L12m&#x27;, &#x27;pct_PL_enq_L6m_of_ever&#x27;,\n",
       "       &#x27;pct_CC_enq_L6m_of_ever&#x27;, &#x27;HL_Flag&#x27;, &#x27;GL_Flag&#x27;, &#x27;Credit_Score&#x27;],\n",
       "      dtype=&#x27;object&#x27;)),\n",
       "                                (&#x27;cat_tran2&#x27;,\n",
       "                                 Pipeline(steps=[(&#x27;onehot&#x27;,\n",
       "                                                  OneHotEncoder(drop=&#x27;first&#x27;,\n",
       "                                                                handle_unknown=&#x27;ignore&#x27;,\n",
       "                                                                sparse=False))]),\n",
       "                                 Index([&#x27;MARITALSTATUS&#x27;, &#x27;EDUCATION&#x27;, &#x27;GENDER&#x27;, &#x27;last_prod_enq2&#x27;,\n",
       "       &#x27;first_prod_enq2&#x27;],\n",
       "      dtype=&#x27;object&#x27;))])</pre></div></div></div><div class=\"sk-parallel\"><div class=\"sk-parallel-item\"><div class=\"sk-item\"><div class=\"sk-label-container\"><div class=\"sk-label sk-toggleable\"><input class=\"sk-toggleable__control sk-hidden--visually\" id=\"sk-estimator-id-143\" type=\"checkbox\" ><label for=\"sk-estimator-id-143\" class=\"sk-toggleable__label sk-toggleable__label-arrow\">num_tran</label><div class=\"sk-toggleable__content\"><pre>Index([&#x27;PROSPECTID&#x27;, &#x27;Total_TL&#x27;, &#x27;Tot_Closed_TL&#x27;, &#x27;Tot_Active_TL&#x27;,\n",
       "       &#x27;Total_TL_opened_L6M&#x27;, &#x27;Tot_TL_closed_L6M&#x27;, &#x27;pct_tl_open_L6M&#x27;,\n",
       "       &#x27;pct_tl_closed_L6M&#x27;, &#x27;pct_active_tl&#x27;, &#x27;pct_closed_tl&#x27;,\n",
       "       &#x27;Total_TL_opened_L12M&#x27;, &#x27;Tot_TL_closed_L12M&#x27;, &#x27;pct_tl_open_L12M&#x27;,\n",
       "       &#x27;pct_tl_closed_L12M&#x27;, &#x27;Tot_Missed_Pmnt&#x27;, &#x27;Auto_TL&#x27;, &#x27;CC_TL&#x27;,\n",
       "       &#x27;Consumer_TL&#x27;, &#x27;Gold_TL&#x27;, &#x27;Home_TL&#x27;, &#x27;PL_TL&#x27;, &#x27;Secured_TL&#x27;,\n",
       "       &#x27;Unsecured_TL&#x27;, &#x27;Other_TL&#x27;, &#x27;Age_Oldest_TL&#x27;, &#x27;Age_Newest_TL&#x27;,\n",
       "       &#x27;time_since_recent_payment&#x27;, &#x27;num_times_delinquent&#x27;,\n",
       "       &#x27;max_recent_level_of_deliq&#x27;, &#x27;num_deliq_6mts&#x27;, &#x27;num_deliq_12mts&#x27;,\n",
       "       &#x27;num_deliq_6_12mts&#x27;, &#x27;num_times_30p_dpd&#x27;, &#x27;num_times_60p_dpd&#x27;,\n",
       "       &#x27;num_std&#x27;, &#x27;num_std_6mts&#x27;, &#x27;num_std_12mts&#x27;, &#x27;num_sub&#x27;, &#x27;num_sub_6mts&#x27;,\n",
       "       &#x27;num_sub_12mts&#x27;, &#x27;num_dbt&#x27;, &#x27;num_dbt_6mts&#x27;, &#x27;num_dbt_12mts&#x27;, &#x27;num_lss&#x27;,\n",
       "       &#x27;num_lss_6mts&#x27;, &#x27;num_lss_12mts&#x27;, &#x27;recent_level_of_deliq&#x27;, &#x27;tot_enq&#x27;,\n",
       "       &#x27;CC_enq&#x27;, &#x27;CC_enq_L6m&#x27;, &#x27;CC_enq_L12m&#x27;, &#x27;PL_enq&#x27;, &#x27;PL_enq_L6m&#x27;,\n",
       "       &#x27;PL_enq_L12m&#x27;, &#x27;time_since_recent_enq&#x27;, &#x27;enq_L12m&#x27;, &#x27;enq_L6m&#x27;,\n",
       "       &#x27;enq_L3m&#x27;, &#x27;AGE&#x27;, &#x27;NETMONTHLYINCOME&#x27;, &#x27;Time_With_Curr_Empr&#x27;,\n",
       "       &#x27;pct_of_active_TLs_ever&#x27;, &#x27;pct_opened_TLs_L6m_of_L12m&#x27;,\n",
       "       &#x27;pct_currentBal_all_TL&#x27;, &#x27;CC_Flag&#x27;, &#x27;PL_Flag&#x27;, &#x27;pct_PL_enq_L6m_of_L12m&#x27;,\n",
       "       &#x27;pct_CC_enq_L6m_of_L12m&#x27;, &#x27;pct_PL_enq_L6m_of_ever&#x27;,\n",
       "       &#x27;pct_CC_enq_L6m_of_ever&#x27;, &#x27;HL_Flag&#x27;, &#x27;GL_Flag&#x27;, &#x27;Credit_Score&#x27;],\n",
       "      dtype=&#x27;object&#x27;)</pre></div></div></div><div class=\"sk-serial\"><div class=\"sk-item\"><div class=\"sk-serial\"><div class=\"sk-item\"><div class=\"sk-estimator sk-toggleable\"><input class=\"sk-toggleable__control sk-hidden--visually\" id=\"sk-estimator-id-144\" type=\"checkbox\" ><label for=\"sk-estimator-id-144\" class=\"sk-toggleable__label sk-toggleable__label-arrow\">StandardScaler</label><div class=\"sk-toggleable__content\"><pre>StandardScaler()</pre></div></div></div></div></div></div></div></div><div class=\"sk-parallel-item\"><div class=\"sk-item\"><div class=\"sk-label-container\"><div class=\"sk-label sk-toggleable\"><input class=\"sk-toggleable__control sk-hidden--visually\" id=\"sk-estimator-id-145\" type=\"checkbox\" ><label for=\"sk-estimator-id-145\" class=\"sk-toggleable__label sk-toggleable__label-arrow\">cat_tran2</label><div class=\"sk-toggleable__content\"><pre>Index([&#x27;MARITALSTATUS&#x27;, &#x27;EDUCATION&#x27;, &#x27;GENDER&#x27;, &#x27;last_prod_enq2&#x27;,\n",
       "       &#x27;first_prod_enq2&#x27;],\n",
       "      dtype=&#x27;object&#x27;)</pre></div></div></div><div class=\"sk-serial\"><div class=\"sk-item\"><div class=\"sk-serial\"><div class=\"sk-item\"><div class=\"sk-estimator sk-toggleable\"><input class=\"sk-toggleable__control sk-hidden--visually\" id=\"sk-estimator-id-146\" type=\"checkbox\" ><label for=\"sk-estimator-id-146\" class=\"sk-toggleable__label sk-toggleable__label-arrow\">OneHotEncoder</label><div class=\"sk-toggleable__content\"><pre>OneHotEncoder(drop=&#x27;first&#x27;, handle_unknown=&#x27;ignore&#x27;, sparse=False)</pre></div></div></div></div></div></div></div></div><div class=\"sk-parallel-item\"><div class=\"sk-item\"><div class=\"sk-label-container\"><div class=\"sk-label sk-toggleable\"><input class=\"sk-toggleable__control sk-hidden--visually\" id=\"sk-estimator-id-147\" type=\"checkbox\" ><label for=\"sk-estimator-id-147\" class=\"sk-toggleable__label sk-toggleable__label-arrow\">remainder</label><div class=\"sk-toggleable__content\"><pre></pre></div></div></div><div class=\"sk-serial\"><div class=\"sk-item\"><div class=\"sk-estimator sk-toggleable\"><input class=\"sk-toggleable__control sk-hidden--visually\" id=\"sk-estimator-id-148\" type=\"checkbox\" ><label for=\"sk-estimator-id-148\" class=\"sk-toggleable__label sk-toggleable__label-arrow\">passthrough</label><div class=\"sk-toggleable__content\"><pre>passthrough</pre></div></div></div></div></div></div></div></div></div></div>"
      ],
      "text/plain": [
       "ColumnTransformer(remainder='passthrough',\n",
       "                  transformers=[('num_tran',\n",
       "                                 Pipeline(steps=[('scale', StandardScaler())]),\n",
       "                                 Index(['PROSPECTID', 'Total_TL', 'Tot_Closed_TL', 'Tot_Active_TL',\n",
       "       'Total_TL_opened_L6M', 'Tot_TL_closed_L6M', 'pct_tl_open_L6M',\n",
       "       'pct_tl_closed_L6M', 'pct_active_tl', 'pct_closed_tl',\n",
       "       'Total_TL_opened_L12M', 'Tot_TL_closed_L12M', 'pct_tl_open_L12M'...\n",
       "       'pct_currentBal_all_TL', 'CC_Flag', 'PL_Flag', 'pct_PL_enq_L6m_of_L12m',\n",
       "       'pct_CC_enq_L6m_of_L12m', 'pct_PL_enq_L6m_of_ever',\n",
       "       'pct_CC_enq_L6m_of_ever', 'HL_Flag', 'GL_Flag', 'Credit_Score'],\n",
       "      dtype='object')),\n",
       "                                ('cat_tran2',\n",
       "                                 Pipeline(steps=[('onehot',\n",
       "                                                  OneHotEncoder(drop='first',\n",
       "                                                                handle_unknown='ignore',\n",
       "                                                                sparse=False))]),\n",
       "                                 Index(['MARITALSTATUS', 'EDUCATION', 'GENDER', 'last_prod_enq2',\n",
       "       'first_prod_enq2'],\n",
       "      dtype='object'))])"
      ]
     },
     "execution_count": 282,
     "metadata": {},
     "output_type": "execute_result"
    }
   ],
   "source": [
    "process=ColumnTransformer(transformers=[\n",
    "    ('num_tran',num_pipe,num_col),\n",
    "    ('cat_tran2',cat_pipe,cat_col)\n",
    "],remainder='passthrough')\n",
    "process"
   ]
  },
  {
   "cell_type": "markdown",
   "id": "5358409e",
   "metadata": {},
   "source": [
    "# Fit the `RandomForest` model"
   ]
  },
  {
   "cell_type": "code",
   "execution_count": 283,
   "id": "8d34c779",
   "metadata": {},
   "outputs": [],
   "source": [
    "from sklearn.ensemble import RandomForestClassifier"
   ]
  },
  {
   "cell_type": "code",
   "execution_count": 284,
   "id": "249d5d2c",
   "metadata": {},
   "outputs": [
    {
     "data": {
      "text/html": [
       "<style>#sk-container-id-35 {color: black;}#sk-container-id-35 pre{padding: 0;}#sk-container-id-35 div.sk-toggleable {background-color: white;}#sk-container-id-35 label.sk-toggleable__label {cursor: pointer;display: block;width: 100%;margin-bottom: 0;padding: 0.3em;box-sizing: border-box;text-align: center;}#sk-container-id-35 label.sk-toggleable__label-arrow:before {content: \"▸\";float: left;margin-right: 0.25em;color: #696969;}#sk-container-id-35 label.sk-toggleable__label-arrow:hover:before {color: black;}#sk-container-id-35 div.sk-estimator:hover label.sk-toggleable__label-arrow:before {color: black;}#sk-container-id-35 div.sk-toggleable__content {max-height: 0;max-width: 0;overflow: hidden;text-align: left;background-color: #f0f8ff;}#sk-container-id-35 div.sk-toggleable__content pre {margin: 0.2em;color: black;border-radius: 0.25em;background-color: #f0f8ff;}#sk-container-id-35 input.sk-toggleable__control:checked~div.sk-toggleable__content {max-height: 200px;max-width: 100%;overflow: auto;}#sk-container-id-35 input.sk-toggleable__control:checked~label.sk-toggleable__label-arrow:before {content: \"▾\";}#sk-container-id-35 div.sk-estimator input.sk-toggleable__control:checked~label.sk-toggleable__label {background-color: #d4ebff;}#sk-container-id-35 div.sk-label input.sk-toggleable__control:checked~label.sk-toggleable__label {background-color: #d4ebff;}#sk-container-id-35 input.sk-hidden--visually {border: 0;clip: rect(1px 1px 1px 1px);clip: rect(1px, 1px, 1px, 1px);height: 1px;margin: -1px;overflow: hidden;padding: 0;position: absolute;width: 1px;}#sk-container-id-35 div.sk-estimator {font-family: monospace;background-color: #f0f8ff;border: 1px dotted black;border-radius: 0.25em;box-sizing: border-box;margin-bottom: 0.5em;}#sk-container-id-35 div.sk-estimator:hover {background-color: #d4ebff;}#sk-container-id-35 div.sk-parallel-item::after {content: \"\";width: 100%;border-bottom: 1px solid gray;flex-grow: 1;}#sk-container-id-35 div.sk-label:hover label.sk-toggleable__label {background-color: #d4ebff;}#sk-container-id-35 div.sk-serial::before {content: \"\";position: absolute;border-left: 1px solid gray;box-sizing: border-box;top: 0;bottom: 0;left: 50%;z-index: 0;}#sk-container-id-35 div.sk-serial {display: flex;flex-direction: column;align-items: center;background-color: white;padding-right: 0.2em;padding-left: 0.2em;position: relative;}#sk-container-id-35 div.sk-item {position: relative;z-index: 1;}#sk-container-id-35 div.sk-parallel {display: flex;align-items: stretch;justify-content: center;background-color: white;position: relative;}#sk-container-id-35 div.sk-item::before, #sk-container-id-35 div.sk-parallel-item::before {content: \"\";position: absolute;border-left: 1px solid gray;box-sizing: border-box;top: 0;bottom: 0;left: 50%;z-index: -1;}#sk-container-id-35 div.sk-parallel-item {display: flex;flex-direction: column;z-index: 1;position: relative;background-color: white;}#sk-container-id-35 div.sk-parallel-item:first-child::after {align-self: flex-end;width: 50%;}#sk-container-id-35 div.sk-parallel-item:last-child::after {align-self: flex-start;width: 50%;}#sk-container-id-35 div.sk-parallel-item:only-child::after {width: 0;}#sk-container-id-35 div.sk-dashed-wrapped {border: 1px dashed gray;margin: 0 0.4em 0.5em 0.4em;box-sizing: border-box;padding-bottom: 0.4em;background-color: white;}#sk-container-id-35 div.sk-label label {font-family: monospace;font-weight: bold;display: inline-block;line-height: 1.2em;}#sk-container-id-35 div.sk-label-container {text-align: center;}#sk-container-id-35 div.sk-container {/* jupyter's `normalize.less` sets `[hidden] { display: none; }` but bootstrap.min.css set `[hidden] { display: none !important; }` so we also need the `!important` here to be able to override the default hidden behavior on the sphinx rendered scikit-learn.org. See: https://github.com/scikit-learn/scikit-learn/issues/21755 */display: inline-block !important;position: relative;}#sk-container-id-35 div.sk-text-repr-fallback {display: none;}</style><div id=\"sk-container-id-35\" class=\"sk-top-container\"><div class=\"sk-text-repr-fallback\"><pre>Pipeline(steps=[(&#x27;process&#x27;,\n",
       "                 ColumnTransformer(remainder=&#x27;passthrough&#x27;,\n",
       "                                   transformers=[(&#x27;num_tran&#x27;,\n",
       "                                                  Pipeline(steps=[(&#x27;scale&#x27;,\n",
       "                                                                   StandardScaler())]),\n",
       "                                                  Index([&#x27;PROSPECTID&#x27;, &#x27;Total_TL&#x27;, &#x27;Tot_Closed_TL&#x27;, &#x27;Tot_Active_TL&#x27;,\n",
       "       &#x27;Total_TL_opened_L6M&#x27;, &#x27;Tot_TL_closed_L6M&#x27;, &#x27;pct_tl_open_L6M&#x27;,\n",
       "       &#x27;pct_tl_closed_L6M&#x27;, &#x27;pct_active_tl&#x27;, &#x27;pct_closed_tl&#x27;,\n",
       "       &#x27;Total_TL_opened_L12M&#x27;, &#x27;Tot_TL_clos...\n",
       "       &#x27;pct_CC_enq_L6m_of_L12m&#x27;, &#x27;pct_PL_enq_L6m_of_ever&#x27;,\n",
       "       &#x27;pct_CC_enq_L6m_of_ever&#x27;, &#x27;HL_Flag&#x27;, &#x27;GL_Flag&#x27;, &#x27;Credit_Score&#x27;],\n",
       "      dtype=&#x27;object&#x27;)),\n",
       "                                                 (&#x27;cat_tran2&#x27;,\n",
       "                                                  Pipeline(steps=[(&#x27;onehot&#x27;,\n",
       "                                                                   OneHotEncoder(drop=&#x27;first&#x27;,\n",
       "                                                                                 handle_unknown=&#x27;ignore&#x27;,\n",
       "                                                                                 sparse=False))]),\n",
       "                                                  Index([&#x27;MARITALSTATUS&#x27;, &#x27;EDUCATION&#x27;, &#x27;GENDER&#x27;, &#x27;last_prod_enq2&#x27;,\n",
       "       &#x27;first_prod_enq2&#x27;],\n",
       "      dtype=&#x27;object&#x27;))])),\n",
       "                (&#x27;model&#x27;, RandomForestClassifier())])</pre><b>In a Jupyter environment, please rerun this cell to show the HTML representation or trust the notebook. <br />On GitHub, the HTML representation is unable to render, please try loading this page with nbviewer.org.</b></div><div class=\"sk-container\" hidden><div class=\"sk-item sk-dashed-wrapped\"><div class=\"sk-label-container\"><div class=\"sk-label sk-toggleable\"><input class=\"sk-toggleable__control sk-hidden--visually\" id=\"sk-estimator-id-149\" type=\"checkbox\" ><label for=\"sk-estimator-id-149\" class=\"sk-toggleable__label sk-toggleable__label-arrow\">Pipeline</label><div class=\"sk-toggleable__content\"><pre>Pipeline(steps=[(&#x27;process&#x27;,\n",
       "                 ColumnTransformer(remainder=&#x27;passthrough&#x27;,\n",
       "                                   transformers=[(&#x27;num_tran&#x27;,\n",
       "                                                  Pipeline(steps=[(&#x27;scale&#x27;,\n",
       "                                                                   StandardScaler())]),\n",
       "                                                  Index([&#x27;PROSPECTID&#x27;, &#x27;Total_TL&#x27;, &#x27;Tot_Closed_TL&#x27;, &#x27;Tot_Active_TL&#x27;,\n",
       "       &#x27;Total_TL_opened_L6M&#x27;, &#x27;Tot_TL_closed_L6M&#x27;, &#x27;pct_tl_open_L6M&#x27;,\n",
       "       &#x27;pct_tl_closed_L6M&#x27;, &#x27;pct_active_tl&#x27;, &#x27;pct_closed_tl&#x27;,\n",
       "       &#x27;Total_TL_opened_L12M&#x27;, &#x27;Tot_TL_clos...\n",
       "       &#x27;pct_CC_enq_L6m_of_L12m&#x27;, &#x27;pct_PL_enq_L6m_of_ever&#x27;,\n",
       "       &#x27;pct_CC_enq_L6m_of_ever&#x27;, &#x27;HL_Flag&#x27;, &#x27;GL_Flag&#x27;, &#x27;Credit_Score&#x27;],\n",
       "      dtype=&#x27;object&#x27;)),\n",
       "                                                 (&#x27;cat_tran2&#x27;,\n",
       "                                                  Pipeline(steps=[(&#x27;onehot&#x27;,\n",
       "                                                                   OneHotEncoder(drop=&#x27;first&#x27;,\n",
       "                                                                                 handle_unknown=&#x27;ignore&#x27;,\n",
       "                                                                                 sparse=False))]),\n",
       "                                                  Index([&#x27;MARITALSTATUS&#x27;, &#x27;EDUCATION&#x27;, &#x27;GENDER&#x27;, &#x27;last_prod_enq2&#x27;,\n",
       "       &#x27;first_prod_enq2&#x27;],\n",
       "      dtype=&#x27;object&#x27;))])),\n",
       "                (&#x27;model&#x27;, RandomForestClassifier())])</pre></div></div></div><div class=\"sk-serial\"><div class=\"sk-item sk-dashed-wrapped\"><div class=\"sk-label-container\"><div class=\"sk-label sk-toggleable\"><input class=\"sk-toggleable__control sk-hidden--visually\" id=\"sk-estimator-id-150\" type=\"checkbox\" ><label for=\"sk-estimator-id-150\" class=\"sk-toggleable__label sk-toggleable__label-arrow\">process: ColumnTransformer</label><div class=\"sk-toggleable__content\"><pre>ColumnTransformer(remainder=&#x27;passthrough&#x27;,\n",
       "                  transformers=[(&#x27;num_tran&#x27;,\n",
       "                                 Pipeline(steps=[(&#x27;scale&#x27;, StandardScaler())]),\n",
       "                                 Index([&#x27;PROSPECTID&#x27;, &#x27;Total_TL&#x27;, &#x27;Tot_Closed_TL&#x27;, &#x27;Tot_Active_TL&#x27;,\n",
       "       &#x27;Total_TL_opened_L6M&#x27;, &#x27;Tot_TL_closed_L6M&#x27;, &#x27;pct_tl_open_L6M&#x27;,\n",
       "       &#x27;pct_tl_closed_L6M&#x27;, &#x27;pct_active_tl&#x27;, &#x27;pct_closed_tl&#x27;,\n",
       "       &#x27;Total_TL_opened_L12M&#x27;, &#x27;Tot_TL_closed_L12M&#x27;, &#x27;pct_tl_open_L12M&#x27;...\n",
       "       &#x27;pct_currentBal_all_TL&#x27;, &#x27;CC_Flag&#x27;, &#x27;PL_Flag&#x27;, &#x27;pct_PL_enq_L6m_of_L12m&#x27;,\n",
       "       &#x27;pct_CC_enq_L6m_of_L12m&#x27;, &#x27;pct_PL_enq_L6m_of_ever&#x27;,\n",
       "       &#x27;pct_CC_enq_L6m_of_ever&#x27;, &#x27;HL_Flag&#x27;, &#x27;GL_Flag&#x27;, &#x27;Credit_Score&#x27;],\n",
       "      dtype=&#x27;object&#x27;)),\n",
       "                                (&#x27;cat_tran2&#x27;,\n",
       "                                 Pipeline(steps=[(&#x27;onehot&#x27;,\n",
       "                                                  OneHotEncoder(drop=&#x27;first&#x27;,\n",
       "                                                                handle_unknown=&#x27;ignore&#x27;,\n",
       "                                                                sparse=False))]),\n",
       "                                 Index([&#x27;MARITALSTATUS&#x27;, &#x27;EDUCATION&#x27;, &#x27;GENDER&#x27;, &#x27;last_prod_enq2&#x27;,\n",
       "       &#x27;first_prod_enq2&#x27;],\n",
       "      dtype=&#x27;object&#x27;))])</pre></div></div></div><div class=\"sk-parallel\"><div class=\"sk-parallel-item\"><div class=\"sk-item\"><div class=\"sk-label-container\"><div class=\"sk-label sk-toggleable\"><input class=\"sk-toggleable__control sk-hidden--visually\" id=\"sk-estimator-id-151\" type=\"checkbox\" ><label for=\"sk-estimator-id-151\" class=\"sk-toggleable__label sk-toggleable__label-arrow\">num_tran</label><div class=\"sk-toggleable__content\"><pre>Index([&#x27;PROSPECTID&#x27;, &#x27;Total_TL&#x27;, &#x27;Tot_Closed_TL&#x27;, &#x27;Tot_Active_TL&#x27;,\n",
       "       &#x27;Total_TL_opened_L6M&#x27;, &#x27;Tot_TL_closed_L6M&#x27;, &#x27;pct_tl_open_L6M&#x27;,\n",
       "       &#x27;pct_tl_closed_L6M&#x27;, &#x27;pct_active_tl&#x27;, &#x27;pct_closed_tl&#x27;,\n",
       "       &#x27;Total_TL_opened_L12M&#x27;, &#x27;Tot_TL_closed_L12M&#x27;, &#x27;pct_tl_open_L12M&#x27;,\n",
       "       &#x27;pct_tl_closed_L12M&#x27;, &#x27;Tot_Missed_Pmnt&#x27;, &#x27;Auto_TL&#x27;, &#x27;CC_TL&#x27;,\n",
       "       &#x27;Consumer_TL&#x27;, &#x27;Gold_TL&#x27;, &#x27;Home_TL&#x27;, &#x27;PL_TL&#x27;, &#x27;Secured_TL&#x27;,\n",
       "       &#x27;Unsecured_TL&#x27;, &#x27;Other_TL&#x27;, &#x27;Age_Oldest_TL&#x27;, &#x27;Age_Newest_TL&#x27;,\n",
       "       &#x27;time_since_recent_payment&#x27;, &#x27;num_times_delinquent&#x27;,\n",
       "       &#x27;max_recent_level_of_deliq&#x27;, &#x27;num_deliq_6mts&#x27;, &#x27;num_deliq_12mts&#x27;,\n",
       "       &#x27;num_deliq_6_12mts&#x27;, &#x27;num_times_30p_dpd&#x27;, &#x27;num_times_60p_dpd&#x27;,\n",
       "       &#x27;num_std&#x27;, &#x27;num_std_6mts&#x27;, &#x27;num_std_12mts&#x27;, &#x27;num_sub&#x27;, &#x27;num_sub_6mts&#x27;,\n",
       "       &#x27;num_sub_12mts&#x27;, &#x27;num_dbt&#x27;, &#x27;num_dbt_6mts&#x27;, &#x27;num_dbt_12mts&#x27;, &#x27;num_lss&#x27;,\n",
       "       &#x27;num_lss_6mts&#x27;, &#x27;num_lss_12mts&#x27;, &#x27;recent_level_of_deliq&#x27;, &#x27;tot_enq&#x27;,\n",
       "       &#x27;CC_enq&#x27;, &#x27;CC_enq_L6m&#x27;, &#x27;CC_enq_L12m&#x27;, &#x27;PL_enq&#x27;, &#x27;PL_enq_L6m&#x27;,\n",
       "       &#x27;PL_enq_L12m&#x27;, &#x27;time_since_recent_enq&#x27;, &#x27;enq_L12m&#x27;, &#x27;enq_L6m&#x27;,\n",
       "       &#x27;enq_L3m&#x27;, &#x27;AGE&#x27;, &#x27;NETMONTHLYINCOME&#x27;, &#x27;Time_With_Curr_Empr&#x27;,\n",
       "       &#x27;pct_of_active_TLs_ever&#x27;, &#x27;pct_opened_TLs_L6m_of_L12m&#x27;,\n",
       "       &#x27;pct_currentBal_all_TL&#x27;, &#x27;CC_Flag&#x27;, &#x27;PL_Flag&#x27;, &#x27;pct_PL_enq_L6m_of_L12m&#x27;,\n",
       "       &#x27;pct_CC_enq_L6m_of_L12m&#x27;, &#x27;pct_PL_enq_L6m_of_ever&#x27;,\n",
       "       &#x27;pct_CC_enq_L6m_of_ever&#x27;, &#x27;HL_Flag&#x27;, &#x27;GL_Flag&#x27;, &#x27;Credit_Score&#x27;],\n",
       "      dtype=&#x27;object&#x27;)</pre></div></div></div><div class=\"sk-serial\"><div class=\"sk-item\"><div class=\"sk-serial\"><div class=\"sk-item\"><div class=\"sk-estimator sk-toggleable\"><input class=\"sk-toggleable__control sk-hidden--visually\" id=\"sk-estimator-id-152\" type=\"checkbox\" ><label for=\"sk-estimator-id-152\" class=\"sk-toggleable__label sk-toggleable__label-arrow\">StandardScaler</label><div class=\"sk-toggleable__content\"><pre>StandardScaler()</pre></div></div></div></div></div></div></div></div><div class=\"sk-parallel-item\"><div class=\"sk-item\"><div class=\"sk-label-container\"><div class=\"sk-label sk-toggleable\"><input class=\"sk-toggleable__control sk-hidden--visually\" id=\"sk-estimator-id-153\" type=\"checkbox\" ><label for=\"sk-estimator-id-153\" class=\"sk-toggleable__label sk-toggleable__label-arrow\">cat_tran2</label><div class=\"sk-toggleable__content\"><pre>Index([&#x27;MARITALSTATUS&#x27;, &#x27;EDUCATION&#x27;, &#x27;GENDER&#x27;, &#x27;last_prod_enq2&#x27;,\n",
       "       &#x27;first_prod_enq2&#x27;],\n",
       "      dtype=&#x27;object&#x27;)</pre></div></div></div><div class=\"sk-serial\"><div class=\"sk-item\"><div class=\"sk-serial\"><div class=\"sk-item\"><div class=\"sk-estimator sk-toggleable\"><input class=\"sk-toggleable__control sk-hidden--visually\" id=\"sk-estimator-id-154\" type=\"checkbox\" ><label for=\"sk-estimator-id-154\" class=\"sk-toggleable__label sk-toggleable__label-arrow\">OneHotEncoder</label><div class=\"sk-toggleable__content\"><pre>OneHotEncoder(drop=&#x27;first&#x27;, handle_unknown=&#x27;ignore&#x27;, sparse=False)</pre></div></div></div></div></div></div></div></div><div class=\"sk-parallel-item\"><div class=\"sk-item\"><div class=\"sk-label-container\"><div class=\"sk-label sk-toggleable\"><input class=\"sk-toggleable__control sk-hidden--visually\" id=\"sk-estimator-id-155\" type=\"checkbox\" ><label for=\"sk-estimator-id-155\" class=\"sk-toggleable__label sk-toggleable__label-arrow\">remainder</label><div class=\"sk-toggleable__content\"><pre>[]</pre></div></div></div><div class=\"sk-serial\"><div class=\"sk-item\"><div class=\"sk-estimator sk-toggleable\"><input class=\"sk-toggleable__control sk-hidden--visually\" id=\"sk-estimator-id-156\" type=\"checkbox\" ><label for=\"sk-estimator-id-156\" class=\"sk-toggleable__label sk-toggleable__label-arrow\">passthrough</label><div class=\"sk-toggleable__content\"><pre>passthrough</pre></div></div></div></div></div></div></div></div><div class=\"sk-item\"><div class=\"sk-estimator sk-toggleable\"><input class=\"sk-toggleable__control sk-hidden--visually\" id=\"sk-estimator-id-157\" type=\"checkbox\" ><label for=\"sk-estimator-id-157\" class=\"sk-toggleable__label sk-toggleable__label-arrow\">RandomForestClassifier</label><div class=\"sk-toggleable__content\"><pre>RandomForestClassifier()</pre></div></div></div></div></div></div></div>"
      ],
      "text/plain": [
       "Pipeline(steps=[('process',\n",
       "                 ColumnTransformer(remainder='passthrough',\n",
       "                                   transformers=[('num_tran',\n",
       "                                                  Pipeline(steps=[('scale',\n",
       "                                                                   StandardScaler())]),\n",
       "                                                  Index(['PROSPECTID', 'Total_TL', 'Tot_Closed_TL', 'Tot_Active_TL',\n",
       "       'Total_TL_opened_L6M', 'Tot_TL_closed_L6M', 'pct_tl_open_L6M',\n",
       "       'pct_tl_closed_L6M', 'pct_active_tl', 'pct_closed_tl',\n",
       "       'Total_TL_opened_L12M', 'Tot_TL_clos...\n",
       "       'pct_CC_enq_L6m_of_L12m', 'pct_PL_enq_L6m_of_ever',\n",
       "       'pct_CC_enq_L6m_of_ever', 'HL_Flag', 'GL_Flag', 'Credit_Score'],\n",
       "      dtype='object')),\n",
       "                                                 ('cat_tran2',\n",
       "                                                  Pipeline(steps=[('onehot',\n",
       "                                                                   OneHotEncoder(drop='first',\n",
       "                                                                                 handle_unknown='ignore',\n",
       "                                                                                 sparse=False))]),\n",
       "                                                  Index(['MARITALSTATUS', 'EDUCATION', 'GENDER', 'last_prod_enq2',\n",
       "       'first_prod_enq2'],\n",
       "      dtype='object'))])),\n",
       "                ('model', RandomForestClassifier())])"
      ]
     },
     "execution_count": 284,
     "metadata": {},
     "output_type": "execute_result"
    }
   ],
   "source": [
    "final=Pipeline(steps=[\n",
    "    ('process',process),\n",
    "    ('model',RandomForestClassifier())\n",
    "])\n",
    "final.fit(x_train,y_train)"
   ]
  },
  {
   "cell_type": "markdown",
   "id": "44c83f37",
   "metadata": {},
   "source": [
    "# Prediction"
   ]
  },
  {
   "cell_type": "code",
   "execution_count": 285,
   "id": "c83a267a",
   "metadata": {},
   "outputs": [
    {
     "data": {
      "text/plain": [
       "array([2, 2, 1, ..., 1, 2, 3], dtype=int64)"
      ]
     },
     "execution_count": 285,
     "metadata": {},
     "output_type": "execute_result"
    }
   ],
   "source": [
    "pre=final.predict(x_test)\n",
    "pre"
   ]
  },
  {
   "cell_type": "markdown",
   "id": "5d209ed2",
   "metadata": {},
   "source": [
    "# Accuracy"
   ]
  },
  {
   "cell_type": "code",
   "execution_count": 286,
   "id": "c5eb07a4",
   "metadata": {},
   "outputs": [],
   "source": [
    "from sklearn.metrics import accuracy_score,precision_score,recall_score,f1_score,confusion_matrix"
   ]
  },
  {
   "cell_type": "code",
   "execution_count": 288,
   "id": "e870527f",
   "metadata": {},
   "outputs": [],
   "source": [
    "def evulation(actual,pre):\n",
    "    acc=accuracy_score(actual,pre)\n",
    "    pr=precision_score(actual,pre,average='macro')\n",
    "    re=recall_score(actual,pre,average='macro')\n",
    "    f_score=f1_score(actual,pre,average='macro')\n",
    "    c_f=confusion_matrix(actual,pre)\n",
    "    \n",
    "    return {\n",
    "        \"accuracy\":acc,\n",
    "        \"pre\":pr,\n",
    "        \"recal\":re,\n",
    "        \"f_score\":f_score,\n",
    "        \"matrix\":c_f\n",
    "    }"
   ]
  },
  {
   "cell_type": "code",
   "execution_count": 289,
   "id": "f560a673",
   "metadata": {},
   "outputs": [
    {
     "data": {
      "text/plain": [
       "0.9907286342565078"
      ]
     },
     "execution_count": 289,
     "metadata": {},
     "output_type": "execute_result"
    }
   ],
   "source": [
    "accuracy_score(y_test,pre)"
   ]
  },
  {
   "cell_type": "code",
   "execution_count": 290,
   "id": "50c5d81d",
   "metadata": {},
   "outputs": [
    {
     "data": {
      "text/plain": [
       "{'accuracy': 0.9907286342565078,\n",
       " 'pre': 0.9850075907277173,\n",
       " 'recal': 0.9845522848447821,\n",
       " 'f_score': 0.9845270538410602,\n",
       " 'matrix': array([[1007,    6,    1,    0],\n",
       "        [   0, 5045,    0,    0],\n",
       "        [  54,   10, 1260,    1],\n",
       "        [   0,    1,    5, 1023]], dtype=int64)}"
      ]
     },
     "execution_count": 290,
     "metadata": {},
     "output_type": "execute_result"
    }
   ],
   "source": [
    "evulation(y_test,pre)"
   ]
  },
  {
   "cell_type": "code",
   "execution_count": 291,
   "id": "89b10a76",
   "metadata": {},
   "outputs": [
    {
     "data": {
      "text/plain": [
       "array([[1007,    6,    1,    0],\n",
       "       [   0, 5045,    0,    0],\n",
       "       [  54,   10, 1260,    1],\n",
       "       [   0,    1,    5, 1023]], dtype=int64)"
      ]
     },
     "execution_count": 291,
     "metadata": {},
     "output_type": "execute_result"
    }
   ],
   "source": [
    "evulation(y_test,pre)['matrix']"
   ]
  },
  {
   "cell_type": "markdown",
   "id": "1de4f2bf",
   "metadata": {},
   "source": [
    "# Classification Report"
   ]
  },
  {
   "cell_type": "code",
   "execution_count": 292,
   "id": "64f9d7c9",
   "metadata": {},
   "outputs": [
    {
     "name": "stdout",
     "output_type": "stream",
     "text": [
      "              precision    recall  f1-score   support\n",
      "\n",
      "           0       0.95      0.99      0.97      1014\n",
      "           1       1.00      1.00      1.00      5045\n",
      "           2       1.00      0.95      0.97      1325\n",
      "           3       1.00      0.99      1.00      1029\n",
      "\n",
      "    accuracy                           0.99      8413\n",
      "   macro avg       0.99      0.98      0.98      8413\n",
      "weighted avg       0.99      0.99      0.99      8413\n",
      "\n"
     ]
    }
   ],
   "source": [
    "from sklearn.metrics import classification_report\n",
    "# Generate classification report\n",
    "report = classification_report(y_test, pre)\n",
    "\n",
    "print(report)"
   ]
  },
  {
   "cell_type": "markdown",
   "id": "d1c60c77",
   "metadata": {},
   "source": [
    "# Cross_validation"
   ]
  },
  {
   "cell_type": "code",
   "execution_count": 293,
   "id": "323af612",
   "metadata": {},
   "outputs": [],
   "source": [
    "train_score=cross_val_score(final,x_train,y_train,cv=5,scoring='accuracy')\n",
    "test_score=cross_val_score(final,x_test,y_test,cv=5,scoring='accuracy')"
   ]
  },
  {
   "cell_type": "code",
   "execution_count": 297,
   "id": "88ff9fca",
   "metadata": {},
   "outputs": [
    {
     "name": "stdout",
     "output_type": "stream",
     "text": [
      "Train Score:  0.9877864565339717\n",
      "Tesst Score:  0.9822887898358278\n"
     ]
    }
   ],
   "source": [
    "print(\"Train Score: \",train_score.mean())\n",
    "print(\"Tesst Score: \",test_score.mean())"
   ]
  },
  {
   "cell_type": "markdown",
   "id": "db05aece",
   "metadata": {},
   "source": [
    "# Fit the `xgboost` model"
   ]
  },
  {
   "cell_type": "code",
   "execution_count": 303,
   "id": "8c008456",
   "metadata": {},
   "outputs": [],
   "source": [
    "# !pip install xgboost"
   ]
  },
  {
   "cell_type": "code",
   "execution_count": 300,
   "id": "4292cbcb",
   "metadata": {},
   "outputs": [],
   "source": [
    "import xgboost as xgb"
   ]
  },
  {
   "cell_type": "code",
   "execution_count": 301,
   "id": "7517eb05",
   "metadata": {},
   "outputs": [],
   "source": [
    "model=xgb.XGBClassifier()"
   ]
  },
  {
   "cell_type": "code",
   "execution_count": 304,
   "id": "221bfbd6",
   "metadata": {},
   "outputs": [
    {
     "data": {
      "text/html": [
       "<style>#sk-container-id-36 {color: black;}#sk-container-id-36 pre{padding: 0;}#sk-container-id-36 div.sk-toggleable {background-color: white;}#sk-container-id-36 label.sk-toggleable__label {cursor: pointer;display: block;width: 100%;margin-bottom: 0;padding: 0.3em;box-sizing: border-box;text-align: center;}#sk-container-id-36 label.sk-toggleable__label-arrow:before {content: \"▸\";float: left;margin-right: 0.25em;color: #696969;}#sk-container-id-36 label.sk-toggleable__label-arrow:hover:before {color: black;}#sk-container-id-36 div.sk-estimator:hover label.sk-toggleable__label-arrow:before {color: black;}#sk-container-id-36 div.sk-toggleable__content {max-height: 0;max-width: 0;overflow: hidden;text-align: left;background-color: #f0f8ff;}#sk-container-id-36 div.sk-toggleable__content pre {margin: 0.2em;color: black;border-radius: 0.25em;background-color: #f0f8ff;}#sk-container-id-36 input.sk-toggleable__control:checked~div.sk-toggleable__content {max-height: 200px;max-width: 100%;overflow: auto;}#sk-container-id-36 input.sk-toggleable__control:checked~label.sk-toggleable__label-arrow:before {content: \"▾\";}#sk-container-id-36 div.sk-estimator input.sk-toggleable__control:checked~label.sk-toggleable__label {background-color: #d4ebff;}#sk-container-id-36 div.sk-label input.sk-toggleable__control:checked~label.sk-toggleable__label {background-color: #d4ebff;}#sk-container-id-36 input.sk-hidden--visually {border: 0;clip: rect(1px 1px 1px 1px);clip: rect(1px, 1px, 1px, 1px);height: 1px;margin: -1px;overflow: hidden;padding: 0;position: absolute;width: 1px;}#sk-container-id-36 div.sk-estimator {font-family: monospace;background-color: #f0f8ff;border: 1px dotted black;border-radius: 0.25em;box-sizing: border-box;margin-bottom: 0.5em;}#sk-container-id-36 div.sk-estimator:hover {background-color: #d4ebff;}#sk-container-id-36 div.sk-parallel-item::after {content: \"\";width: 100%;border-bottom: 1px solid gray;flex-grow: 1;}#sk-container-id-36 div.sk-label:hover label.sk-toggleable__label {background-color: #d4ebff;}#sk-container-id-36 div.sk-serial::before {content: \"\";position: absolute;border-left: 1px solid gray;box-sizing: border-box;top: 0;bottom: 0;left: 50%;z-index: 0;}#sk-container-id-36 div.sk-serial {display: flex;flex-direction: column;align-items: center;background-color: white;padding-right: 0.2em;padding-left: 0.2em;position: relative;}#sk-container-id-36 div.sk-item {position: relative;z-index: 1;}#sk-container-id-36 div.sk-parallel {display: flex;align-items: stretch;justify-content: center;background-color: white;position: relative;}#sk-container-id-36 div.sk-item::before, #sk-container-id-36 div.sk-parallel-item::before {content: \"\";position: absolute;border-left: 1px solid gray;box-sizing: border-box;top: 0;bottom: 0;left: 50%;z-index: -1;}#sk-container-id-36 div.sk-parallel-item {display: flex;flex-direction: column;z-index: 1;position: relative;background-color: white;}#sk-container-id-36 div.sk-parallel-item:first-child::after {align-self: flex-end;width: 50%;}#sk-container-id-36 div.sk-parallel-item:last-child::after {align-self: flex-start;width: 50%;}#sk-container-id-36 div.sk-parallel-item:only-child::after {width: 0;}#sk-container-id-36 div.sk-dashed-wrapped {border: 1px dashed gray;margin: 0 0.4em 0.5em 0.4em;box-sizing: border-box;padding-bottom: 0.4em;background-color: white;}#sk-container-id-36 div.sk-label label {font-family: monospace;font-weight: bold;display: inline-block;line-height: 1.2em;}#sk-container-id-36 div.sk-label-container {text-align: center;}#sk-container-id-36 div.sk-container {/* jupyter's `normalize.less` sets `[hidden] { display: none; }` but bootstrap.min.css set `[hidden] { display: none !important; }` so we also need the `!important` here to be able to override the default hidden behavior on the sphinx rendered scikit-learn.org. See: https://github.com/scikit-learn/scikit-learn/issues/21755 */display: inline-block !important;position: relative;}#sk-container-id-36 div.sk-text-repr-fallback {display: none;}</style><div id=\"sk-container-id-36\" class=\"sk-top-container\"><div class=\"sk-text-repr-fallback\"><pre>Pipeline(steps=[(&#x27;process&#x27;,\n",
       "                 ColumnTransformer(remainder=&#x27;passthrough&#x27;,\n",
       "                                   transformers=[(&#x27;num_tran&#x27;,\n",
       "                                                  Pipeline(steps=[(&#x27;scale&#x27;,\n",
       "                                                                   StandardScaler())]),\n",
       "                                                  Index([&#x27;PROSPECTID&#x27;, &#x27;Total_TL&#x27;, &#x27;Tot_Closed_TL&#x27;, &#x27;Tot_Active_TL&#x27;,\n",
       "       &#x27;Total_TL_opened_L6M&#x27;, &#x27;Tot_TL_closed_L6M&#x27;, &#x27;pct_tl_open_L6M&#x27;,\n",
       "       &#x27;pct_tl_closed_L6M&#x27;, &#x27;pct_active_tl&#x27;, &#x27;pct_closed_tl&#x27;,\n",
       "       &#x27;Total_TL_opened_L12M&#x27;, &#x27;Tot_TL_clos...\n",
       "                               feature_types=None, gamma=None, grow_policy=None,\n",
       "                               importance_type=None,\n",
       "                               interaction_constraints=None, learning_rate=None,\n",
       "                               max_bin=None, max_cat_threshold=None,\n",
       "                               max_cat_to_onehot=None, max_delta_step=None,\n",
       "                               max_depth=None, max_leaves=None,\n",
       "                               min_child_weight=None, missing=nan,\n",
       "                               monotone_constraints=None, multi_strategy=None,\n",
       "                               n_estimators=None, n_jobs=None,\n",
       "                               num_parallel_tree=None,\n",
       "                               objective=&#x27;multi:softprob&#x27;, ...))])</pre><b>In a Jupyter environment, please rerun this cell to show the HTML representation or trust the notebook. <br />On GitHub, the HTML representation is unable to render, please try loading this page with nbviewer.org.</b></div><div class=\"sk-container\" hidden><div class=\"sk-item sk-dashed-wrapped\"><div class=\"sk-label-container\"><div class=\"sk-label sk-toggleable\"><input class=\"sk-toggleable__control sk-hidden--visually\" id=\"sk-estimator-id-158\" type=\"checkbox\" ><label for=\"sk-estimator-id-158\" class=\"sk-toggleable__label sk-toggleable__label-arrow\">Pipeline</label><div class=\"sk-toggleable__content\"><pre>Pipeline(steps=[(&#x27;process&#x27;,\n",
       "                 ColumnTransformer(remainder=&#x27;passthrough&#x27;,\n",
       "                                   transformers=[(&#x27;num_tran&#x27;,\n",
       "                                                  Pipeline(steps=[(&#x27;scale&#x27;,\n",
       "                                                                   StandardScaler())]),\n",
       "                                                  Index([&#x27;PROSPECTID&#x27;, &#x27;Total_TL&#x27;, &#x27;Tot_Closed_TL&#x27;, &#x27;Tot_Active_TL&#x27;,\n",
       "       &#x27;Total_TL_opened_L6M&#x27;, &#x27;Tot_TL_closed_L6M&#x27;, &#x27;pct_tl_open_L6M&#x27;,\n",
       "       &#x27;pct_tl_closed_L6M&#x27;, &#x27;pct_active_tl&#x27;, &#x27;pct_closed_tl&#x27;,\n",
       "       &#x27;Total_TL_opened_L12M&#x27;, &#x27;Tot_TL_clos...\n",
       "                               feature_types=None, gamma=None, grow_policy=None,\n",
       "                               importance_type=None,\n",
       "                               interaction_constraints=None, learning_rate=None,\n",
       "                               max_bin=None, max_cat_threshold=None,\n",
       "                               max_cat_to_onehot=None, max_delta_step=None,\n",
       "                               max_depth=None, max_leaves=None,\n",
       "                               min_child_weight=None, missing=nan,\n",
       "                               monotone_constraints=None, multi_strategy=None,\n",
       "                               n_estimators=None, n_jobs=None,\n",
       "                               num_parallel_tree=None,\n",
       "                               objective=&#x27;multi:softprob&#x27;, ...))])</pre></div></div></div><div class=\"sk-serial\"><div class=\"sk-item sk-dashed-wrapped\"><div class=\"sk-label-container\"><div class=\"sk-label sk-toggleable\"><input class=\"sk-toggleable__control sk-hidden--visually\" id=\"sk-estimator-id-159\" type=\"checkbox\" ><label for=\"sk-estimator-id-159\" class=\"sk-toggleable__label sk-toggleable__label-arrow\">process: ColumnTransformer</label><div class=\"sk-toggleable__content\"><pre>ColumnTransformer(remainder=&#x27;passthrough&#x27;,\n",
       "                  transformers=[(&#x27;num_tran&#x27;,\n",
       "                                 Pipeline(steps=[(&#x27;scale&#x27;, StandardScaler())]),\n",
       "                                 Index([&#x27;PROSPECTID&#x27;, &#x27;Total_TL&#x27;, &#x27;Tot_Closed_TL&#x27;, &#x27;Tot_Active_TL&#x27;,\n",
       "       &#x27;Total_TL_opened_L6M&#x27;, &#x27;Tot_TL_closed_L6M&#x27;, &#x27;pct_tl_open_L6M&#x27;,\n",
       "       &#x27;pct_tl_closed_L6M&#x27;, &#x27;pct_active_tl&#x27;, &#x27;pct_closed_tl&#x27;,\n",
       "       &#x27;Total_TL_opened_L12M&#x27;, &#x27;Tot_TL_closed_L12M&#x27;, &#x27;pct_tl_open_L12M&#x27;...\n",
       "       &#x27;pct_currentBal_all_TL&#x27;, &#x27;CC_Flag&#x27;, &#x27;PL_Flag&#x27;, &#x27;pct_PL_enq_L6m_of_L12m&#x27;,\n",
       "       &#x27;pct_CC_enq_L6m_of_L12m&#x27;, &#x27;pct_PL_enq_L6m_of_ever&#x27;,\n",
       "       &#x27;pct_CC_enq_L6m_of_ever&#x27;, &#x27;HL_Flag&#x27;, &#x27;GL_Flag&#x27;, &#x27;Credit_Score&#x27;],\n",
       "      dtype=&#x27;object&#x27;)),\n",
       "                                (&#x27;cat_tran2&#x27;,\n",
       "                                 Pipeline(steps=[(&#x27;onehot&#x27;,\n",
       "                                                  OneHotEncoder(drop=&#x27;first&#x27;,\n",
       "                                                                handle_unknown=&#x27;ignore&#x27;,\n",
       "                                                                sparse=False))]),\n",
       "                                 Index([&#x27;MARITALSTATUS&#x27;, &#x27;EDUCATION&#x27;, &#x27;GENDER&#x27;, &#x27;last_prod_enq2&#x27;,\n",
       "       &#x27;first_prod_enq2&#x27;],\n",
       "      dtype=&#x27;object&#x27;))])</pre></div></div></div><div class=\"sk-parallel\"><div class=\"sk-parallel-item\"><div class=\"sk-item\"><div class=\"sk-label-container\"><div class=\"sk-label sk-toggleable\"><input class=\"sk-toggleable__control sk-hidden--visually\" id=\"sk-estimator-id-160\" type=\"checkbox\" ><label for=\"sk-estimator-id-160\" class=\"sk-toggleable__label sk-toggleable__label-arrow\">num_tran</label><div class=\"sk-toggleable__content\"><pre>Index([&#x27;PROSPECTID&#x27;, &#x27;Total_TL&#x27;, &#x27;Tot_Closed_TL&#x27;, &#x27;Tot_Active_TL&#x27;,\n",
       "       &#x27;Total_TL_opened_L6M&#x27;, &#x27;Tot_TL_closed_L6M&#x27;, &#x27;pct_tl_open_L6M&#x27;,\n",
       "       &#x27;pct_tl_closed_L6M&#x27;, &#x27;pct_active_tl&#x27;, &#x27;pct_closed_tl&#x27;,\n",
       "       &#x27;Total_TL_opened_L12M&#x27;, &#x27;Tot_TL_closed_L12M&#x27;, &#x27;pct_tl_open_L12M&#x27;,\n",
       "       &#x27;pct_tl_closed_L12M&#x27;, &#x27;Tot_Missed_Pmnt&#x27;, &#x27;Auto_TL&#x27;, &#x27;CC_TL&#x27;,\n",
       "       &#x27;Consumer_TL&#x27;, &#x27;Gold_TL&#x27;, &#x27;Home_TL&#x27;, &#x27;PL_TL&#x27;, &#x27;Secured_TL&#x27;,\n",
       "       &#x27;Unsecured_TL&#x27;, &#x27;Other_TL&#x27;, &#x27;Age_Oldest_TL&#x27;, &#x27;Age_Newest_TL&#x27;,\n",
       "       &#x27;time_since_recent_payment&#x27;, &#x27;num_times_delinquent&#x27;,\n",
       "       &#x27;max_recent_level_of_deliq&#x27;, &#x27;num_deliq_6mts&#x27;, &#x27;num_deliq_12mts&#x27;,\n",
       "       &#x27;num_deliq_6_12mts&#x27;, &#x27;num_times_30p_dpd&#x27;, &#x27;num_times_60p_dpd&#x27;,\n",
       "       &#x27;num_std&#x27;, &#x27;num_std_6mts&#x27;, &#x27;num_std_12mts&#x27;, &#x27;num_sub&#x27;, &#x27;num_sub_6mts&#x27;,\n",
       "       &#x27;num_sub_12mts&#x27;, &#x27;num_dbt&#x27;, &#x27;num_dbt_6mts&#x27;, &#x27;num_dbt_12mts&#x27;, &#x27;num_lss&#x27;,\n",
       "       &#x27;num_lss_6mts&#x27;, &#x27;num_lss_12mts&#x27;, &#x27;recent_level_of_deliq&#x27;, &#x27;tot_enq&#x27;,\n",
       "       &#x27;CC_enq&#x27;, &#x27;CC_enq_L6m&#x27;, &#x27;CC_enq_L12m&#x27;, &#x27;PL_enq&#x27;, &#x27;PL_enq_L6m&#x27;,\n",
       "       &#x27;PL_enq_L12m&#x27;, &#x27;time_since_recent_enq&#x27;, &#x27;enq_L12m&#x27;, &#x27;enq_L6m&#x27;,\n",
       "       &#x27;enq_L3m&#x27;, &#x27;AGE&#x27;, &#x27;NETMONTHLYINCOME&#x27;, &#x27;Time_With_Curr_Empr&#x27;,\n",
       "       &#x27;pct_of_active_TLs_ever&#x27;, &#x27;pct_opened_TLs_L6m_of_L12m&#x27;,\n",
       "       &#x27;pct_currentBal_all_TL&#x27;, &#x27;CC_Flag&#x27;, &#x27;PL_Flag&#x27;, &#x27;pct_PL_enq_L6m_of_L12m&#x27;,\n",
       "       &#x27;pct_CC_enq_L6m_of_L12m&#x27;, &#x27;pct_PL_enq_L6m_of_ever&#x27;,\n",
       "       &#x27;pct_CC_enq_L6m_of_ever&#x27;, &#x27;HL_Flag&#x27;, &#x27;GL_Flag&#x27;, &#x27;Credit_Score&#x27;],\n",
       "      dtype=&#x27;object&#x27;)</pre></div></div></div><div class=\"sk-serial\"><div class=\"sk-item\"><div class=\"sk-serial\"><div class=\"sk-item\"><div class=\"sk-estimator sk-toggleable\"><input class=\"sk-toggleable__control sk-hidden--visually\" id=\"sk-estimator-id-161\" type=\"checkbox\" ><label for=\"sk-estimator-id-161\" class=\"sk-toggleable__label sk-toggleable__label-arrow\">StandardScaler</label><div class=\"sk-toggleable__content\"><pre>StandardScaler()</pre></div></div></div></div></div></div></div></div><div class=\"sk-parallel-item\"><div class=\"sk-item\"><div class=\"sk-label-container\"><div class=\"sk-label sk-toggleable\"><input class=\"sk-toggleable__control sk-hidden--visually\" id=\"sk-estimator-id-162\" type=\"checkbox\" ><label for=\"sk-estimator-id-162\" class=\"sk-toggleable__label sk-toggleable__label-arrow\">cat_tran2</label><div class=\"sk-toggleable__content\"><pre>Index([&#x27;MARITALSTATUS&#x27;, &#x27;EDUCATION&#x27;, &#x27;GENDER&#x27;, &#x27;last_prod_enq2&#x27;,\n",
       "       &#x27;first_prod_enq2&#x27;],\n",
       "      dtype=&#x27;object&#x27;)</pre></div></div></div><div class=\"sk-serial\"><div class=\"sk-item\"><div class=\"sk-serial\"><div class=\"sk-item\"><div class=\"sk-estimator sk-toggleable\"><input class=\"sk-toggleable__control sk-hidden--visually\" id=\"sk-estimator-id-163\" type=\"checkbox\" ><label for=\"sk-estimator-id-163\" class=\"sk-toggleable__label sk-toggleable__label-arrow\">OneHotEncoder</label><div class=\"sk-toggleable__content\"><pre>OneHotEncoder(drop=&#x27;first&#x27;, handle_unknown=&#x27;ignore&#x27;, sparse=False)</pre></div></div></div></div></div></div></div></div><div class=\"sk-parallel-item\"><div class=\"sk-item\"><div class=\"sk-label-container\"><div class=\"sk-label sk-toggleable\"><input class=\"sk-toggleable__control sk-hidden--visually\" id=\"sk-estimator-id-164\" type=\"checkbox\" ><label for=\"sk-estimator-id-164\" class=\"sk-toggleable__label sk-toggleable__label-arrow\">remainder</label><div class=\"sk-toggleable__content\"><pre>[]</pre></div></div></div><div class=\"sk-serial\"><div class=\"sk-item\"><div class=\"sk-estimator sk-toggleable\"><input class=\"sk-toggleable__control sk-hidden--visually\" id=\"sk-estimator-id-165\" type=\"checkbox\" ><label for=\"sk-estimator-id-165\" class=\"sk-toggleable__label sk-toggleable__label-arrow\">passthrough</label><div class=\"sk-toggleable__content\"><pre>passthrough</pre></div></div></div></div></div></div></div></div><div class=\"sk-item\"><div class=\"sk-estimator sk-toggleable\"><input class=\"sk-toggleable__control sk-hidden--visually\" id=\"sk-estimator-id-166\" type=\"checkbox\" ><label for=\"sk-estimator-id-166\" class=\"sk-toggleable__label sk-toggleable__label-arrow\">XGBClassifier</label><div class=\"sk-toggleable__content\"><pre>XGBClassifier(base_score=None, booster=None, callbacks=None,\n",
       "              colsample_bylevel=None, colsample_bynode=None,\n",
       "              colsample_bytree=None, device=None, early_stopping_rounds=None,\n",
       "              enable_categorical=False, eval_metric=None, feature_types=None,\n",
       "              gamma=None, grow_policy=None, importance_type=None,\n",
       "              interaction_constraints=None, learning_rate=None, max_bin=None,\n",
       "              max_cat_threshold=None, max_cat_to_onehot=None,\n",
       "              max_delta_step=None, max_depth=None, max_leaves=None,\n",
       "              min_child_weight=None, missing=nan, monotone_constraints=None,\n",
       "              multi_strategy=None, n_estimators=None, n_jobs=None,\n",
       "              num_parallel_tree=None, objective=&#x27;multi:softprob&#x27;, ...)</pre></div></div></div></div></div></div></div>"
      ],
      "text/plain": [
       "Pipeline(steps=[('process',\n",
       "                 ColumnTransformer(remainder='passthrough',\n",
       "                                   transformers=[('num_tran',\n",
       "                                                  Pipeline(steps=[('scale',\n",
       "                                                                   StandardScaler())]),\n",
       "                                                  Index(['PROSPECTID', 'Total_TL', 'Tot_Closed_TL', 'Tot_Active_TL',\n",
       "       'Total_TL_opened_L6M', 'Tot_TL_closed_L6M', 'pct_tl_open_L6M',\n",
       "       'pct_tl_closed_L6M', 'pct_active_tl', 'pct_closed_tl',\n",
       "       'Total_TL_opened_L12M', 'Tot_TL_clos...\n",
       "                               feature_types=None, gamma=None, grow_policy=None,\n",
       "                               importance_type=None,\n",
       "                               interaction_constraints=None, learning_rate=None,\n",
       "                               max_bin=None, max_cat_threshold=None,\n",
       "                               max_cat_to_onehot=None, max_delta_step=None,\n",
       "                               max_depth=None, max_leaves=None,\n",
       "                               min_child_weight=None, missing=nan,\n",
       "                               monotone_constraints=None, multi_strategy=None,\n",
       "                               n_estimators=None, n_jobs=None,\n",
       "                               num_parallel_tree=None,\n",
       "                               objective='multi:softprob', ...))])"
      ]
     },
     "execution_count": 304,
     "metadata": {},
     "output_type": "execute_result"
    }
   ],
   "source": [
    "final=Pipeline(steps=[\n",
    "    ('process',process),\n",
    "    ('model',model)\n",
    "])\n",
    "final.fit(x_train,y_train)"
   ]
  },
  {
   "cell_type": "code",
   "execution_count": 305,
   "id": "50dfeac2",
   "metadata": {},
   "outputs": [
    {
     "data": {
      "text/plain": [
       "array([2, 2, 1, ..., 1, 2, 3], dtype=int64)"
      ]
     },
     "execution_count": 305,
     "metadata": {},
     "output_type": "execute_result"
    }
   ],
   "source": [
    "pre=final.predict(x_test)\n",
    "pre"
   ]
  },
  {
   "cell_type": "code",
   "execution_count": 306,
   "id": "7d87e0c2",
   "metadata": {},
   "outputs": [
    {
     "data": {
      "text/plain": [
       "{'accuracy': 1.0,\n",
       " 'pre': 1.0,\n",
       " 'recal': 1.0,\n",
       " 'f_score': 1.0,\n",
       " 'matrix': array([[1014,    0,    0,    0],\n",
       "        [   0, 5045,    0,    0],\n",
       "        [   0,    0, 1325,    0],\n",
       "        [   0,    0,    0, 1029]], dtype=int64)}"
      ]
     },
     "execution_count": 306,
     "metadata": {},
     "output_type": "execute_result"
    }
   ],
   "source": [
    "evulation(y_test,pre)"
   ]
  },
  {
   "cell_type": "code",
   "execution_count": 307,
   "id": "ebfecb31",
   "metadata": {},
   "outputs": [
    {
     "data": {
      "text/plain": [
       "array([[1014,    0,    0,    0],\n",
       "       [   0, 5045,    0,    0],\n",
       "       [   0,    0, 1325,    0],\n",
       "       [   0,    0,    0, 1029]], dtype=int64)"
      ]
     },
     "execution_count": 307,
     "metadata": {},
     "output_type": "execute_result"
    }
   ],
   "source": [
    "evulation(y_test,pre)['matrix']"
   ]
  },
  {
   "cell_type": "markdown",
   "id": "210932b9",
   "metadata": {},
   "source": [
    "# Classification Report"
   ]
  },
  {
   "cell_type": "code",
   "execution_count": 310,
   "id": "9e512c16",
   "metadata": {},
   "outputs": [
    {
     "name": "stdout",
     "output_type": "stream",
     "text": [
      "              precision    recall  f1-score   support\n",
      "\n",
      "           0       1.00      1.00      1.00      1014\n",
      "           1       1.00      1.00      1.00      5045\n",
      "           2       1.00      1.00      1.00      1325\n",
      "           3       1.00      1.00      1.00      1029\n",
      "\n",
      "    accuracy                           1.00      8413\n",
      "   macro avg       1.00      1.00      1.00      8413\n",
      "weighted avg       1.00      1.00      1.00      8413\n",
      "\n"
     ]
    }
   ],
   "source": [
    "report = classification_report(y_test, pre)\n",
    "\n",
    "print(report)"
   ]
  },
  {
   "cell_type": "code",
   "execution_count": null,
   "id": "94ae9732",
   "metadata": {},
   "outputs": [],
   "source": []
  },
  {
   "cell_type": "markdown",
   "id": "ad6422bd",
   "metadata": {},
   "source": [
    "# Cross Validation"
   ]
  },
  {
   "cell_type": "code",
   "execution_count": 308,
   "id": "c5d76b04",
   "metadata": {},
   "outputs": [],
   "source": [
    "train_score=cross_val_score(final,x_train,y_train,cv=5,scoring='accuracy')\n",
    "test_score=cross_val_score(final,x_test,y_test,cv=5,scoring='accuracy')"
   ]
  },
  {
   "cell_type": "code",
   "execution_count": 309,
   "id": "3cee240c",
   "metadata": {},
   "outputs": [
    {
     "name": "stdout",
     "output_type": "stream",
     "text": [
      "Train Score:  0.9998216939078752\n",
      "Tesst Score:  0.999762329174094\n"
     ]
    }
   ],
   "source": [
    "print(\"Train Score: \",train_score.mean())\n",
    "print(\"Tesst Score: \",test_score.mean())"
   ]
  },
  {
   "cell_type": "code",
   "execution_count": null,
   "id": "34233a5e",
   "metadata": {},
   "outputs": [],
   "source": []
  },
  {
   "cell_type": "code",
   "execution_count": null,
   "id": "7388a6d8",
   "metadata": {},
   "outputs": [],
   "source": []
  },
  {
   "cell_type": "markdown",
   "id": "fd0ae934",
   "metadata": {},
   "source": [
    "# Without Any  Transformation"
   ]
  },
  {
   "cell_type": "code",
   "execution_count": 313,
   "id": "772e3698",
   "metadata": {},
   "outputs": [],
   "source": [
    "new=pd.get_dummies(df,columns=['MARITALSTATUS', 'EDUCATION', 'GENDER', 'last_prod_enq2','first_prod_enq2'])"
   ]
  },
  {
   "cell_type": "code",
   "execution_count": 314,
   "id": "19cfac28",
   "metadata": {},
   "outputs": [],
   "source": [
    "x_train,x_test,y_train,y_test=train_test_split(new.drop(columns=['Approved_Flag']),new['Approved_Flag'],test_size=0.2,random_state=42)"
   ]
  },
  {
   "cell_type": "code",
   "execution_count": 315,
   "id": "1008d502",
   "metadata": {},
   "outputs": [
    {
     "data": {
      "text/html": [
       "<style>#sk-container-id-37 {color: black;}#sk-container-id-37 pre{padding: 0;}#sk-container-id-37 div.sk-toggleable {background-color: white;}#sk-container-id-37 label.sk-toggleable__label {cursor: pointer;display: block;width: 100%;margin-bottom: 0;padding: 0.3em;box-sizing: border-box;text-align: center;}#sk-container-id-37 label.sk-toggleable__label-arrow:before {content: \"▸\";float: left;margin-right: 0.25em;color: #696969;}#sk-container-id-37 label.sk-toggleable__label-arrow:hover:before {color: black;}#sk-container-id-37 div.sk-estimator:hover label.sk-toggleable__label-arrow:before {color: black;}#sk-container-id-37 div.sk-toggleable__content {max-height: 0;max-width: 0;overflow: hidden;text-align: left;background-color: #f0f8ff;}#sk-container-id-37 div.sk-toggleable__content pre {margin: 0.2em;color: black;border-radius: 0.25em;background-color: #f0f8ff;}#sk-container-id-37 input.sk-toggleable__control:checked~div.sk-toggleable__content {max-height: 200px;max-width: 100%;overflow: auto;}#sk-container-id-37 input.sk-toggleable__control:checked~label.sk-toggleable__label-arrow:before {content: \"▾\";}#sk-container-id-37 div.sk-estimator input.sk-toggleable__control:checked~label.sk-toggleable__label {background-color: #d4ebff;}#sk-container-id-37 div.sk-label input.sk-toggleable__control:checked~label.sk-toggleable__label {background-color: #d4ebff;}#sk-container-id-37 input.sk-hidden--visually {border: 0;clip: rect(1px 1px 1px 1px);clip: rect(1px, 1px, 1px, 1px);height: 1px;margin: -1px;overflow: hidden;padding: 0;position: absolute;width: 1px;}#sk-container-id-37 div.sk-estimator {font-family: monospace;background-color: #f0f8ff;border: 1px dotted black;border-radius: 0.25em;box-sizing: border-box;margin-bottom: 0.5em;}#sk-container-id-37 div.sk-estimator:hover {background-color: #d4ebff;}#sk-container-id-37 div.sk-parallel-item::after {content: \"\";width: 100%;border-bottom: 1px solid gray;flex-grow: 1;}#sk-container-id-37 div.sk-label:hover label.sk-toggleable__label {background-color: #d4ebff;}#sk-container-id-37 div.sk-serial::before {content: \"\";position: absolute;border-left: 1px solid gray;box-sizing: border-box;top: 0;bottom: 0;left: 50%;z-index: 0;}#sk-container-id-37 div.sk-serial {display: flex;flex-direction: column;align-items: center;background-color: white;padding-right: 0.2em;padding-left: 0.2em;position: relative;}#sk-container-id-37 div.sk-item {position: relative;z-index: 1;}#sk-container-id-37 div.sk-parallel {display: flex;align-items: stretch;justify-content: center;background-color: white;position: relative;}#sk-container-id-37 div.sk-item::before, #sk-container-id-37 div.sk-parallel-item::before {content: \"\";position: absolute;border-left: 1px solid gray;box-sizing: border-box;top: 0;bottom: 0;left: 50%;z-index: -1;}#sk-container-id-37 div.sk-parallel-item {display: flex;flex-direction: column;z-index: 1;position: relative;background-color: white;}#sk-container-id-37 div.sk-parallel-item:first-child::after {align-self: flex-end;width: 50%;}#sk-container-id-37 div.sk-parallel-item:last-child::after {align-self: flex-start;width: 50%;}#sk-container-id-37 div.sk-parallel-item:only-child::after {width: 0;}#sk-container-id-37 div.sk-dashed-wrapped {border: 1px dashed gray;margin: 0 0.4em 0.5em 0.4em;box-sizing: border-box;padding-bottom: 0.4em;background-color: white;}#sk-container-id-37 div.sk-label label {font-family: monospace;font-weight: bold;display: inline-block;line-height: 1.2em;}#sk-container-id-37 div.sk-label-container {text-align: center;}#sk-container-id-37 div.sk-container {/* jupyter's `normalize.less` sets `[hidden] { display: none; }` but bootstrap.min.css set `[hidden] { display: none !important; }` so we also need the `!important` here to be able to override the default hidden behavior on the sphinx rendered scikit-learn.org. See: https://github.com/scikit-learn/scikit-learn/issues/21755 */display: inline-block !important;position: relative;}#sk-container-id-37 div.sk-text-repr-fallback {display: none;}</style><div id=\"sk-container-id-37\" class=\"sk-top-container\"><div class=\"sk-text-repr-fallback\"><pre>XGBClassifier(base_score=None, booster=None, callbacks=None,\n",
       "              colsample_bylevel=None, colsample_bynode=None,\n",
       "              colsample_bytree=None, device=None, early_stopping_rounds=None,\n",
       "              enable_categorical=False, eval_metric=None, feature_types=None,\n",
       "              gamma=None, grow_policy=None, importance_type=None,\n",
       "              interaction_constraints=None, learning_rate=None, max_bin=None,\n",
       "              max_cat_threshold=None, max_cat_to_onehot=None,\n",
       "              max_delta_step=None, max_depth=None, max_leaves=None,\n",
       "              min_child_weight=None, missing=nan, monotone_constraints=None,\n",
       "              multi_strategy=None, n_estimators=None, n_jobs=None,\n",
       "              num_parallel_tree=None, objective=&#x27;multi:softprob&#x27;, ...)</pre><b>In a Jupyter environment, please rerun this cell to show the HTML representation or trust the notebook. <br />On GitHub, the HTML representation is unable to render, please try loading this page with nbviewer.org.</b></div><div class=\"sk-container\" hidden><div class=\"sk-item\"><div class=\"sk-estimator sk-toggleable\"><input class=\"sk-toggleable__control sk-hidden--visually\" id=\"sk-estimator-id-167\" type=\"checkbox\" checked><label for=\"sk-estimator-id-167\" class=\"sk-toggleable__label sk-toggleable__label-arrow\">XGBClassifier</label><div class=\"sk-toggleable__content\"><pre>XGBClassifier(base_score=None, booster=None, callbacks=None,\n",
       "              colsample_bylevel=None, colsample_bynode=None,\n",
       "              colsample_bytree=None, device=None, early_stopping_rounds=None,\n",
       "              enable_categorical=False, eval_metric=None, feature_types=None,\n",
       "              gamma=None, grow_policy=None, importance_type=None,\n",
       "              interaction_constraints=None, learning_rate=None, max_bin=None,\n",
       "              max_cat_threshold=None, max_cat_to_onehot=None,\n",
       "              max_delta_step=None, max_depth=None, max_leaves=None,\n",
       "              min_child_weight=None, missing=nan, monotone_constraints=None,\n",
       "              multi_strategy=None, n_estimators=None, n_jobs=None,\n",
       "              num_parallel_tree=None, objective=&#x27;multi:softprob&#x27;, ...)</pre></div></div></div></div></div>"
      ],
      "text/plain": [
       "XGBClassifier(base_score=None, booster=None, callbacks=None,\n",
       "              colsample_bylevel=None, colsample_bynode=None,\n",
       "              colsample_bytree=None, device=None, early_stopping_rounds=None,\n",
       "              enable_categorical=False, eval_metric=None, feature_types=None,\n",
       "              gamma=None, grow_policy=None, importance_type=None,\n",
       "              interaction_constraints=None, learning_rate=None, max_bin=None,\n",
       "              max_cat_threshold=None, max_cat_to_onehot=None,\n",
       "              max_delta_step=None, max_depth=None, max_leaves=None,\n",
       "              min_child_weight=None, missing=nan, monotone_constraints=None,\n",
       "              multi_strategy=None, n_estimators=None, n_jobs=None,\n",
       "              num_parallel_tree=None, objective='multi:softprob', ...)"
      ]
     },
     "execution_count": 315,
     "metadata": {},
     "output_type": "execute_result"
    }
   ],
   "source": [
    "model=xgb.XGBClassifier()\n",
    "model.fit(x_train,y_train)"
   ]
  },
  {
   "cell_type": "code",
   "execution_count": 316,
   "id": "dae21990",
   "metadata": {},
   "outputs": [],
   "source": [
    "pre=model.predict(x_test)"
   ]
  },
  {
   "cell_type": "code",
   "execution_count": 317,
   "id": "48271a5f",
   "metadata": {},
   "outputs": [
    {
     "data": {
      "text/plain": [
       "array([[1014,    0,    0,    0],\n",
       "       [   0, 5045,    0,    0],\n",
       "       [   0,    0, 1325,    0],\n",
       "       [   0,    0,    0, 1029]], dtype=int64)"
      ]
     },
     "execution_count": 317,
     "metadata": {},
     "output_type": "execute_result"
    }
   ],
   "source": [
    "evulation(y_test,pre)['matrix']"
   ]
  },
  {
   "cell_type": "code",
   "execution_count": 318,
   "id": "bc1582d5",
   "metadata": {},
   "outputs": [
    {
     "data": {
      "text/plain": [
       "{'accuracy': 1.0,\n",
       " 'pre': 1.0,\n",
       " 'recal': 1.0,\n",
       " 'f_score': 1.0,\n",
       " 'matrix': array([[1014,    0,    0,    0],\n",
       "        [   0, 5045,    0,    0],\n",
       "        [   0,    0, 1325,    0],\n",
       "        [   0,    0,    0, 1029]], dtype=int64)}"
      ]
     },
     "execution_count": 318,
     "metadata": {},
     "output_type": "execute_result"
    }
   ],
   "source": [
    "evulation(y_test,pre)"
   ]
  },
  {
   "cell_type": "code",
   "execution_count": null,
   "id": "09855a6a",
   "metadata": {},
   "outputs": [],
   "source": []
  }
 ],
 "metadata": {
  "kernelspec": {
   "display_name": "Python 3 (ipykernel)",
   "language": "python",
   "name": "python3"
  },
  "language_info": {
   "codemirror_mode": {
    "name": "ipython",
    "version": 3
   },
   "file_extension": ".py",
   "mimetype": "text/x-python",
   "name": "python",
   "nbconvert_exporter": "python",
   "pygments_lexer": "ipython3",
   "version": "3.11.5"
  }
 },
 "nbformat": 4,
 "nbformat_minor": 5
}
