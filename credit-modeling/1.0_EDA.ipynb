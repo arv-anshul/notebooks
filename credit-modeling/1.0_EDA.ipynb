{
 "cells": [
  {
   "cell_type": "markdown",
   "metadata": {},
   "source": [
    "1. In this notebook, I've used `polars` library to load and mainuplate the datasets.\n",
    "2. I am following **\"Credit Risk Modeling Course - CampusX\"** to perform EDA."
   ]
  },
  {
   "cell_type": "code",
   "execution_count": 2,
   "metadata": {},
   "outputs": [],
   "source": [
    "import polars as pl"
   ]
  },
  {
   "cell_type": "markdown",
   "metadata": {},
   "source": [
    "# Import dataset (one-by-one)\n",
    "\n",
    "**🙅 Not Recommended**"
   ]
  },
  {
   "cell_type": "code",
   "execution_count": 2,
   "metadata": {},
   "outputs": [],
   "source": [
    "# WARNING: Import merged dataset in parquet format (if exists)\n",
    "# because importing excel file is ``very slow``\n",
    "bank_data = pl.read_excel(\"data/bank_data.xlsx\")\n",
    "cibil_data = pl.read_excel(\n",
    "    \"data/cibil_data.xlsx\",\n",
    "    engine=\"openpyxl\",\n",
    "    # read_options={\"ignore_errors\": True,},  # while using `xlsx2csv` library\n",
    ")"
   ]
  },
  {
   "cell_type": "code",
   "execution_count": 3,
   "metadata": {},
   "outputs": [
    {
     "data": {
      "text/html": [
       "<div><style>\n",
       ".dataframe > thead > tr,\n",
       ".dataframe > tbody > tr {\n",
       "  text-align: right;\n",
       "  white-space: pre-wrap;\n",
       "}\n",
       "</style>\n",
       "<small>shape: (5, 26)</small><table border=\"1\" class=\"dataframe\"><thead><tr><th>PROSPECTID</th><th>Total_TL</th><th>Tot_Closed_TL</th><th>Tot_Active_TL</th><th>Total_TL_opened_L6M</th><th>Tot_TL_closed_L6M</th><th>pct_tl_open_L6M</th><th>pct_tl_closed_L6M</th><th>pct_active_tl</th><th>pct_closed_tl</th><th>Total_TL_opened_L12M</th><th>Tot_TL_closed_L12M</th><th>pct_tl_open_L12M</th><th>pct_tl_closed_L12M</th><th>Tot_Missed_Pmnt</th><th>Auto_TL</th><th>CC_TL</th><th>Consumer_TL</th><th>Gold_TL</th><th>Home_TL</th><th>PL_TL</th><th>Secured_TL</th><th>Unsecured_TL</th><th>Other_TL</th><th>Age_Oldest_TL</th><th>Age_Newest_TL</th></tr><tr><td>i64</td><td>i64</td><td>i64</td><td>i64</td><td>i64</td><td>i64</td><td>f64</td><td>f64</td><td>f64</td><td>f64</td><td>i64</td><td>i64</td><td>f64</td><td>f64</td><td>i64</td><td>i64</td><td>i64</td><td>i64</td><td>i64</td><td>i64</td><td>i64</td><td>i64</td><td>i64</td><td>i64</td><td>i64</td><td>i64</td></tr></thead><tbody><tr><td>1</td><td>5</td><td>4</td><td>1</td><td>0</td><td>0</td><td>0.0</td><td>0.0</td><td>0.2</td><td>0.8</td><td>0</td><td>0</td><td>0.0</td><td>0.0</td><td>0</td><td>0</td><td>0</td><td>0</td><td>1</td><td>0</td><td>4</td><td>1</td><td>4</td><td>0</td><td>72</td><td>18</td></tr><tr><td>2</td><td>1</td><td>0</td><td>1</td><td>0</td><td>0</td><td>0.0</td><td>0.0</td><td>1.0</td><td>0.0</td><td>1</td><td>0</td><td>1.0</td><td>0.0</td><td>0</td><td>0</td><td>0</td><td>1</td><td>0</td><td>0</td><td>0</td><td>0</td><td>1</td><td>0</td><td>7</td><td>7</td></tr><tr><td>3</td><td>8</td><td>0</td><td>8</td><td>1</td><td>0</td><td>0.125</td><td>0.0</td><td>1.0</td><td>0.0</td><td>2</td><td>0</td><td>0.25</td><td>0.0</td><td>1</td><td>1</td><td>0</td><td>6</td><td>1</td><td>0</td><td>0</td><td>2</td><td>6</td><td>0</td><td>47</td><td>2</td></tr><tr><td>4</td><td>1</td><td>0</td><td>1</td><td>1</td><td>0</td><td>1.0</td><td>0.0</td><td>1.0</td><td>0.0</td><td>1</td><td>0</td><td>1.0</td><td>0.0</td><td>1</td><td>0</td><td>0</td><td>0</td><td>0</td><td>0</td><td>0</td><td>0</td><td>1</td><td>1</td><td>5</td><td>5</td></tr><tr><td>5</td><td>3</td><td>2</td><td>1</td><td>0</td><td>0</td><td>0.0</td><td>0.0</td><td>0.333</td><td>0.667</td><td>0</td><td>0</td><td>0.0</td><td>0.0</td><td>0</td><td>1</td><td>0</td><td>0</td><td>0</td><td>0</td><td>0</td><td>3</td><td>0</td><td>2</td><td>131</td><td>32</td></tr></tbody></table></div>"
      ],
      "text/plain": [
       "shape: (5, 26)\n",
       "┌────────────┬──────────┬───────────┬───────────┬───┬───────────┬──────────┬───────────┬───────────┐\n",
       "│ PROSPECTID ┆ Total_TL ┆ Tot_Close ┆ Tot_Activ ┆ … ┆ Unsecured ┆ Other_TL ┆ Age_Oldes ┆ Age_Newes │\n",
       "│ ---        ┆ ---      ┆ d_TL      ┆ e_TL      ┆   ┆ _TL       ┆ ---      ┆ t_TL      ┆ t_TL      │\n",
       "│ i64        ┆ i64      ┆ ---       ┆ ---       ┆   ┆ ---       ┆ i64      ┆ ---       ┆ ---       │\n",
       "│            ┆          ┆ i64       ┆ i64       ┆   ┆ i64       ┆          ┆ i64       ┆ i64       │\n",
       "╞════════════╪══════════╪═══════════╪═══════════╪═══╪═══════════╪══════════╪═══════════╪═══════════╡\n",
       "│ 1          ┆ 5        ┆ 4         ┆ 1         ┆ … ┆ 4         ┆ 0        ┆ 72        ┆ 18        │\n",
       "│ 2          ┆ 1        ┆ 0         ┆ 1         ┆ … ┆ 1         ┆ 0        ┆ 7         ┆ 7         │\n",
       "│ 3          ┆ 8        ┆ 0         ┆ 8         ┆ … ┆ 6         ┆ 0        ┆ 47        ┆ 2         │\n",
       "│ 4          ┆ 1        ┆ 0         ┆ 1         ┆ … ┆ 1         ┆ 1        ┆ 5         ┆ 5         │\n",
       "│ 5          ┆ 3        ┆ 2         ┆ 1         ┆ … ┆ 0         ┆ 2        ┆ 131       ┆ 32        │\n",
       "└────────────┴──────────┴───────────┴───────────┴───┴───────────┴──────────┴───────────┴───────────┘"
      ]
     },
     "execution_count": 3,
     "metadata": {},
     "output_type": "execute_result"
    }
   ],
   "source": [
    "bank_data.head()"
   ]
  },
  {
   "cell_type": "code",
   "execution_count": 4,
   "metadata": {},
   "outputs": [
    {
     "data": {
      "text/html": [
       "<div><style>\n",
       ".dataframe > thead > tr,\n",
       ".dataframe > tbody > tr {\n",
       "  text-align: right;\n",
       "  white-space: pre-wrap;\n",
       "}\n",
       "</style>\n",
       "<small>shape: (5, 62)</small><table border=\"1\" class=\"dataframe\"><thead><tr><th>PROSPECTID</th><th>time_since_recent_payment</th><th>time_since_first_deliquency</th><th>time_since_recent_deliquency</th><th>num_times_delinquent</th><th>max_delinquency_level</th><th>max_recent_level_of_deliq</th><th>num_deliq_6mts</th><th>num_deliq_12mts</th><th>num_deliq_6_12mts</th><th>max_deliq_6mts</th><th>max_deliq_12mts</th><th>num_times_30p_dpd</th><th>num_times_60p_dpd</th><th>num_std</th><th>num_std_6mts</th><th>num_std_12mts</th><th>num_sub</th><th>num_sub_6mts</th><th>num_sub_12mts</th><th>num_dbt</th><th>num_dbt_6mts</th><th>num_dbt_12mts</th><th>num_lss</th><th>num_lss_6mts</th><th>num_lss_12mts</th><th>recent_level_of_deliq</th><th>tot_enq</th><th>CC_enq</th><th>CC_enq_L6m</th><th>CC_enq_L12m</th><th>PL_enq</th><th>PL_enq_L6m</th><th>PL_enq_L12m</th><th>time_since_recent_enq</th><th>enq_L12m</th><th>enq_L6m</th><th>enq_L3m</th><th>MARITALSTATUS</th><th>EDUCATION</th><th>AGE</th><th>GENDER</th><th>NETMONTHLYINCOME</th><th>Time_With_Curr_Empr</th><th>pct_of_active_TLs_ever</th><th>pct_opened_TLs_L6m_of_L12m</th><th>pct_currentBal_all_TL</th><th>CC_utilization</th><th>CC_Flag</th><th>PL_utilization</th><th>PL_Flag</th><th>pct_PL_enq_L6m_of_L12m</th><th>pct_CC_enq_L6m_of_L12m</th><th>pct_PL_enq_L6m_of_ever</th><th>pct_CC_enq_L6m_of_ever</th><th>max_unsec_exposure_inPct</th><th>HL_Flag</th><th>GL_Flag</th><th>last_prod_enq2</th><th>first_prod_enq2</th><th>Credit_Score</th><th>Approved_Flag</th></tr><tr><td>i64</td><td>i64</td><td>i64</td><td>i64</td><td>i64</td><td>i64</td><td>i64</td><td>i64</td><td>i64</td><td>i64</td><td>i64</td><td>i64</td><td>i64</td><td>i64</td><td>i64</td><td>i64</td><td>i64</td><td>i64</td><td>i64</td><td>i64</td><td>i64</td><td>i64</td><td>i64</td><td>i64</td><td>i64</td><td>i64</td><td>i64</td><td>i64</td><td>i64</td><td>i64</td><td>i64</td><td>i64</td><td>i64</td><td>i64</td><td>i64</td><td>i64</td><td>i64</td><td>i64</td><td>str</td><td>str</td><td>i64</td><td>str</td><td>i64</td><td>i64</td><td>f64</td><td>f64</td><td>f64</td><td>f64</td><td>i64</td><td>f64</td><td>i64</td><td>f64</td><td>f64</td><td>f64</td><td>f64</td><td>f64</td><td>i64</td><td>i64</td><td>str</td><td>str</td><td>i64</td><td>str</td></tr></thead><tbody><tr><td>1</td><td>549</td><td>35</td><td>15</td><td>11</td><td>29</td><td>29</td><td>0</td><td>0</td><td>0</td><td>-99999</td><td>-99999</td><td>0</td><td>0</td><td>21</td><td>5</td><td>11</td><td>0</td><td>0</td><td>0</td><td>0</td><td>0</td><td>0</td><td>0</td><td>0</td><td>0</td><td>29</td><td>6</td><td>0</td><td>0</td><td>0</td><td>6</td><td>0</td><td>0</td><td>566</td><td>0</td><td>0</td><td>0</td><td>&quot;Married&quot;</td><td>&quot;12TH&quot;</td><td>48</td><td>&quot;M&quot;</td><td>51000</td><td>114</td><td>0.2</td><td>0.0</td><td>0.798</td><td>-99999.0</td><td>0</td><td>0.798</td><td>1</td><td>0.0</td><td>0.0</td><td>0.0</td><td>0.0</td><td>13.333</td><td>1</td><td>0</td><td>&quot;PL&quot;</td><td>&quot;PL&quot;</td><td>696</td><td>&quot;P2&quot;</td></tr><tr><td>2</td><td>47</td><td>-99999</td><td>-99999</td><td>0</td><td>-99999</td><td>0</td><td>0</td><td>0</td><td>0</td><td>0</td><td>0</td><td>0</td><td>0</td><td>0</td><td>0</td><td>0</td><td>0</td><td>0</td><td>0</td><td>0</td><td>0</td><td>0</td><td>0</td><td>0</td><td>0</td><td>0</td><td>1</td><td>0</td><td>0</td><td>0</td><td>0</td><td>0</td><td>0</td><td>209</td><td>1</td><td>0</td><td>0</td><td>&quot;Single&quot;</td><td>&quot;GRADUATE&quot;</td><td>23</td><td>&quot;F&quot;</td><td>19000</td><td>50</td><td>1.0</td><td>0.0</td><td>0.37</td><td>-99999.0</td><td>0</td><td>-99999.0</td><td>0</td><td>0.0</td><td>0.0</td><td>0.0</td><td>0.0</td><td>0.86</td><td>0</td><td>0</td><td>&quot;ConsumerLoan&quot;</td><td>&quot;ConsumerLoan&quot;</td><td>685</td><td>&quot;P2&quot;</td></tr><tr><td>3</td><td>302</td><td>11</td><td>3</td><td>9</td><td>25</td><td>25</td><td>1</td><td>9</td><td>8</td><td>25</td><td>25</td><td>0</td><td>0</td><td>10</td><td>5</td><td>10</td><td>0</td><td>0</td><td>0</td><td>0</td><td>0</td><td>0</td><td>0</td><td>0</td><td>0</td><td>25</td><td>4</td><td>0</td><td>0</td><td>0</td><td>0</td><td>0</td><td>0</td><td>587</td><td>0</td><td>0</td><td>0</td><td>&quot;Married&quot;</td><td>&quot;SSC&quot;</td><td>40</td><td>&quot;M&quot;</td><td>18</td><td>191</td><td>1.0</td><td>0.5</td><td>0.585</td><td>-99999.0</td><td>0</td><td>-99999.0</td><td>0</td><td>0.0</td><td>0.0</td><td>0.0</td><td>0.0</td><td>5741.667</td><td>1</td><td>0</td><td>&quot;ConsumerLoan&quot;</td><td>&quot;others&quot;</td><td>693</td><td>&quot;P2&quot;</td></tr><tr><td>4</td><td>-99999</td><td>-99999</td><td>-99999</td><td>0</td><td>-99999</td><td>0</td><td>0</td><td>0</td><td>0</td><td>-99999</td><td>-99999</td><td>0</td><td>0</td><td>5</td><td>4</td><td>5</td><td>0</td><td>0</td><td>0</td><td>0</td><td>0</td><td>0</td><td>0</td><td>0</td><td>0</td><td>0</td><td>-99999</td><td>-99999</td><td>-99999</td><td>-99999</td><td>-99999</td><td>-99999</td><td>-99999</td><td>-99999</td><td>-99999</td><td>-99999</td><td>-99999</td><td>&quot;Married&quot;</td><td>&quot;SSC&quot;</td><td>34</td><td>&quot;M&quot;</td><td>10000</td><td>246</td><td>1.0</td><td>1.0</td><td>0.99</td><td>-99999.0</td><td>0</td><td>-99999.0</td><td>0</td><td>0.0</td><td>0.0</td><td>0.0</td><td>0.0</td><td>9.9</td><td>0</td><td>0</td><td>&quot;others&quot;</td><td>&quot;others&quot;</td><td>673</td><td>&quot;P2&quot;</td></tr><tr><td>5</td><td>583</td><td>-99999</td><td>-99999</td><td>0</td><td>-99999</td><td>0</td><td>0</td><td>0</td><td>0</td><td>-99999</td><td>-99999</td><td>0</td><td>0</td><td>53</td><td>4</td><td>16</td><td>0</td><td>0</td><td>0</td><td>0</td><td>0</td><td>0</td><td>0</td><td>0</td><td>0</td><td>0</td><td>1</td><td>0</td><td>0</td><td>0</td><td>0</td><td>0</td><td>0</td><td>3951</td><td>0</td><td>0</td><td>0</td><td>&quot;Married&quot;</td><td>&quot;POST-GRADUATE&quot;</td><td>48</td><td>&quot;M&quot;</td><td>15000</td><td>75</td><td>0.333</td><td>0.0</td><td>0.0</td><td>-99999.0</td><td>0</td><td>-99999.0</td><td>0</td><td>0.0</td><td>0.0</td><td>0.0</td><td>0.0</td><td>-99999.0</td><td>0</td><td>0</td><td>&quot;AL&quot;</td><td>&quot;AL&quot;</td><td>753</td><td>&quot;P1&quot;</td></tr></tbody></table></div>"
      ],
      "text/plain": [
       "shape: (5, 62)\n",
       "┌───────────┬───────────┬───────────┬───────────┬───┬───────────┬───────────┬───────────┬──────────┐\n",
       "│ PROSPECTI ┆ time_sinc ┆ time_sinc ┆ time_sinc ┆ … ┆ last_prod ┆ first_pro ┆ Credit_Sc ┆ Approved │\n",
       "│ D         ┆ e_recent_ ┆ e_first_d ┆ e_recent_ ┆   ┆ _enq2     ┆ d_enq2    ┆ ore       ┆ _Flag    │\n",
       "│ ---       ┆ payment   ┆ eliquency ┆ deliquenc ┆   ┆ ---       ┆ ---       ┆ ---       ┆ ---      │\n",
       "│ i64       ┆ ---       ┆ ---       ┆ y         ┆   ┆ str       ┆ str       ┆ i64       ┆ str      │\n",
       "│           ┆ i64       ┆ i64       ┆ ---       ┆   ┆           ┆           ┆           ┆          │\n",
       "│           ┆           ┆           ┆ i64       ┆   ┆           ┆           ┆           ┆          │\n",
       "╞═══════════╪═══════════╪═══════════╪═══════════╪═══╪═══════════╪═══════════╪═══════════╪══════════╡\n",
       "│ 1         ┆ 549       ┆ 35        ┆ 15        ┆ … ┆ PL        ┆ PL        ┆ 696       ┆ P2       │\n",
       "│ 2         ┆ 47        ┆ -99999    ┆ -99999    ┆ … ┆ ConsumerL ┆ ConsumerL ┆ 685       ┆ P2       │\n",
       "│           ┆           ┆           ┆           ┆   ┆ oan       ┆ oan       ┆           ┆          │\n",
       "│ 3         ┆ 302       ┆ 11        ┆ 3         ┆ … ┆ ConsumerL ┆ others    ┆ 693       ┆ P2       │\n",
       "│           ┆           ┆           ┆           ┆   ┆ oan       ┆           ┆           ┆          │\n",
       "│ 4         ┆ -99999    ┆ -99999    ┆ -99999    ┆ … ┆ others    ┆ others    ┆ 673       ┆ P2       │\n",
       "│ 5         ┆ 583       ┆ -99999    ┆ -99999    ┆ … ┆ AL        ┆ AL        ┆ 753       ┆ P1       │\n",
       "└───────────┴───────────┴───────────┴───────────┴───┴───────────┴───────────┴───────────┴──────────┘"
      ]
     },
     "execution_count": 4,
     "metadata": {},
     "output_type": "execute_result"
    }
   ],
   "source": [
    "cibil_data.head()"
   ]
  },
  {
   "cell_type": "markdown",
   "metadata": {},
   "source": [
    "## Join Dataset"
   ]
  },
  {
   "cell_type": "code",
   "execution_count": 5,
   "metadata": {},
   "outputs": [
    {
     "data": {
      "text/plain": [
       "['PROSPECTID']"
      ]
     },
     "execution_count": 5,
     "metadata": {},
     "output_type": "execute_result"
    }
   ],
   "source": [
    "# Infer common columns\n",
    "[i for i in cibil_data.columns if i in bank_data.columns]"
   ]
  },
  {
   "cell_type": "code",
   "execution_count": 3,
   "metadata": {},
   "outputs": [
    {
     "name": "stdout",
     "output_type": "stream",
     "text": [
      "(51336, 87)\n"
     ]
    },
    {
     "data": {
      "text/html": [
       "<div><style>\n",
       ".dataframe > thead > tr,\n",
       ".dataframe > tbody > tr {\n",
       "  text-align: right;\n",
       "  white-space: pre-wrap;\n",
       "}\n",
       "</style>\n",
       "<small>shape: (5, 87)</small><table border=\"1\" class=\"dataframe\"><thead><tr><th>PROSPECTID</th><th>Total_TL</th><th>Tot_Closed_TL</th><th>Tot_Active_TL</th><th>Total_TL_opened_L6M</th><th>Tot_TL_closed_L6M</th><th>pct_tl_open_L6M</th><th>pct_tl_closed_L6M</th><th>pct_active_tl</th><th>pct_closed_tl</th><th>Total_TL_opened_L12M</th><th>Tot_TL_closed_L12M</th><th>pct_tl_open_L12M</th><th>pct_tl_closed_L12M</th><th>Tot_Missed_Pmnt</th><th>Auto_TL</th><th>CC_TL</th><th>Consumer_TL</th><th>Gold_TL</th><th>Home_TL</th><th>PL_TL</th><th>Secured_TL</th><th>Unsecured_TL</th><th>Other_TL</th><th>Age_Oldest_TL</th><th>Age_Newest_TL</th><th>time_since_recent_payment</th><th>time_since_first_deliquency</th><th>time_since_recent_deliquency</th><th>num_times_delinquent</th><th>max_delinquency_level</th><th>max_recent_level_of_deliq</th><th>num_deliq_6mts</th><th>num_deliq_12mts</th><th>num_deliq_6_12mts</th><th>max_deliq_6mts</th><th>max_deliq_12mts</th><th>&hellip;</th><th>num_lss_12mts</th><th>recent_level_of_deliq</th><th>tot_enq</th><th>CC_enq</th><th>CC_enq_L6m</th><th>CC_enq_L12m</th><th>PL_enq</th><th>PL_enq_L6m</th><th>PL_enq_L12m</th><th>time_since_recent_enq</th><th>enq_L12m</th><th>enq_L6m</th><th>enq_L3m</th><th>MARITALSTATUS</th><th>EDUCATION</th><th>AGE</th><th>GENDER</th><th>NETMONTHLYINCOME</th><th>Time_With_Curr_Empr</th><th>pct_of_active_TLs_ever</th><th>pct_opened_TLs_L6m_of_L12m</th><th>pct_currentBal_all_TL</th><th>CC_utilization</th><th>CC_Flag</th><th>PL_utilization</th><th>PL_Flag</th><th>pct_PL_enq_L6m_of_L12m</th><th>pct_CC_enq_L6m_of_L12m</th><th>pct_PL_enq_L6m_of_ever</th><th>pct_CC_enq_L6m_of_ever</th><th>max_unsec_exposure_inPct</th><th>HL_Flag</th><th>GL_Flag</th><th>last_prod_enq2</th><th>first_prod_enq2</th><th>Credit_Score</th><th>Approved_Flag</th></tr><tr><td>i64</td><td>i64</td><td>i64</td><td>i64</td><td>i64</td><td>i64</td><td>f64</td><td>f64</td><td>f64</td><td>f64</td><td>i64</td><td>i64</td><td>f64</td><td>f64</td><td>i64</td><td>i64</td><td>i64</td><td>i64</td><td>i64</td><td>i64</td><td>i64</td><td>i64</td><td>i64</td><td>i64</td><td>i64</td><td>i64</td><td>i64</td><td>i64</td><td>i64</td><td>i64</td><td>i64</td><td>i64</td><td>i64</td><td>i64</td><td>i64</td><td>i64</td><td>i64</td><td>&hellip;</td><td>i64</td><td>i64</td><td>i64</td><td>i64</td><td>i64</td><td>i64</td><td>i64</td><td>i64</td><td>i64</td><td>i64</td><td>i64</td><td>i64</td><td>i64</td><td>str</td><td>str</td><td>i64</td><td>str</td><td>i64</td><td>i64</td><td>f64</td><td>f64</td><td>f64</td><td>f64</td><td>i64</td><td>f64</td><td>i64</td><td>f64</td><td>f64</td><td>f64</td><td>f64</td><td>f64</td><td>i64</td><td>i64</td><td>str</td><td>str</td><td>i64</td><td>str</td></tr></thead><tbody><tr><td>1</td><td>5</td><td>4</td><td>1</td><td>0</td><td>0</td><td>0.0</td><td>0.0</td><td>0.2</td><td>0.8</td><td>0</td><td>0</td><td>0.0</td><td>0.0</td><td>0</td><td>0</td><td>0</td><td>0</td><td>1</td><td>0</td><td>4</td><td>1</td><td>4</td><td>0</td><td>72</td><td>18</td><td>549</td><td>35</td><td>15</td><td>11</td><td>29</td><td>29</td><td>0</td><td>0</td><td>0</td><td>-99999</td><td>-99999</td><td>&hellip;</td><td>0</td><td>29</td><td>6</td><td>0</td><td>0</td><td>0</td><td>6</td><td>0</td><td>0</td><td>566</td><td>0</td><td>0</td><td>0</td><td>&quot;Married&quot;</td><td>&quot;12TH&quot;</td><td>48</td><td>&quot;M&quot;</td><td>51000</td><td>114</td><td>0.2</td><td>0.0</td><td>0.798</td><td>-99999.0</td><td>0</td><td>0.798</td><td>1</td><td>0.0</td><td>0.0</td><td>0.0</td><td>0.0</td><td>13.333</td><td>1</td><td>0</td><td>&quot;PL&quot;</td><td>&quot;PL&quot;</td><td>696</td><td>&quot;P2&quot;</td></tr><tr><td>2</td><td>1</td><td>0</td><td>1</td><td>0</td><td>0</td><td>0.0</td><td>0.0</td><td>1.0</td><td>0.0</td><td>1</td><td>0</td><td>1.0</td><td>0.0</td><td>0</td><td>0</td><td>0</td><td>1</td><td>0</td><td>0</td><td>0</td><td>0</td><td>1</td><td>0</td><td>7</td><td>7</td><td>47</td><td>-99999</td><td>-99999</td><td>0</td><td>-99999</td><td>0</td><td>0</td><td>0</td><td>0</td><td>0</td><td>0</td><td>&hellip;</td><td>0</td><td>0</td><td>1</td><td>0</td><td>0</td><td>0</td><td>0</td><td>0</td><td>0</td><td>209</td><td>1</td><td>0</td><td>0</td><td>&quot;Single&quot;</td><td>&quot;GRADUATE&quot;</td><td>23</td><td>&quot;F&quot;</td><td>19000</td><td>50</td><td>1.0</td><td>0.0</td><td>0.37</td><td>-99999.0</td><td>0</td><td>-99999.0</td><td>0</td><td>0.0</td><td>0.0</td><td>0.0</td><td>0.0</td><td>0.86</td><td>0</td><td>0</td><td>&quot;ConsumerLoan&quot;</td><td>&quot;ConsumerLoan&quot;</td><td>685</td><td>&quot;P2&quot;</td></tr><tr><td>3</td><td>8</td><td>0</td><td>8</td><td>1</td><td>0</td><td>0.125</td><td>0.0</td><td>1.0</td><td>0.0</td><td>2</td><td>0</td><td>0.25</td><td>0.0</td><td>1</td><td>1</td><td>0</td><td>6</td><td>1</td><td>0</td><td>0</td><td>2</td><td>6</td><td>0</td><td>47</td><td>2</td><td>302</td><td>11</td><td>3</td><td>9</td><td>25</td><td>25</td><td>1</td><td>9</td><td>8</td><td>25</td><td>25</td><td>&hellip;</td><td>0</td><td>25</td><td>4</td><td>0</td><td>0</td><td>0</td><td>0</td><td>0</td><td>0</td><td>587</td><td>0</td><td>0</td><td>0</td><td>&quot;Married&quot;</td><td>&quot;SSC&quot;</td><td>40</td><td>&quot;M&quot;</td><td>18</td><td>191</td><td>1.0</td><td>0.5</td><td>0.585</td><td>-99999.0</td><td>0</td><td>-99999.0</td><td>0</td><td>0.0</td><td>0.0</td><td>0.0</td><td>0.0</td><td>5741.667</td><td>1</td><td>0</td><td>&quot;ConsumerLoan&quot;</td><td>&quot;others&quot;</td><td>693</td><td>&quot;P2&quot;</td></tr><tr><td>4</td><td>1</td><td>0</td><td>1</td><td>1</td><td>0</td><td>1.0</td><td>0.0</td><td>1.0</td><td>0.0</td><td>1</td><td>0</td><td>1.0</td><td>0.0</td><td>1</td><td>0</td><td>0</td><td>0</td><td>0</td><td>0</td><td>0</td><td>0</td><td>1</td><td>1</td><td>5</td><td>5</td><td>-99999</td><td>-99999</td><td>-99999</td><td>0</td><td>-99999</td><td>0</td><td>0</td><td>0</td><td>0</td><td>-99999</td><td>-99999</td><td>&hellip;</td><td>0</td><td>0</td><td>-99999</td><td>-99999</td><td>-99999</td><td>-99999</td><td>-99999</td><td>-99999</td><td>-99999</td><td>-99999</td><td>-99999</td><td>-99999</td><td>-99999</td><td>&quot;Married&quot;</td><td>&quot;SSC&quot;</td><td>34</td><td>&quot;M&quot;</td><td>10000</td><td>246</td><td>1.0</td><td>1.0</td><td>0.99</td><td>-99999.0</td><td>0</td><td>-99999.0</td><td>0</td><td>0.0</td><td>0.0</td><td>0.0</td><td>0.0</td><td>9.9</td><td>0</td><td>0</td><td>&quot;others&quot;</td><td>&quot;others&quot;</td><td>673</td><td>&quot;P2&quot;</td></tr><tr><td>5</td><td>3</td><td>2</td><td>1</td><td>0</td><td>0</td><td>0.0</td><td>0.0</td><td>0.333</td><td>0.667</td><td>0</td><td>0</td><td>0.0</td><td>0.0</td><td>0</td><td>1</td><td>0</td><td>0</td><td>0</td><td>0</td><td>0</td><td>3</td><td>0</td><td>2</td><td>131</td><td>32</td><td>583</td><td>-99999</td><td>-99999</td><td>0</td><td>-99999</td><td>0</td><td>0</td><td>0</td><td>0</td><td>-99999</td><td>-99999</td><td>&hellip;</td><td>0</td><td>0</td><td>1</td><td>0</td><td>0</td><td>0</td><td>0</td><td>0</td><td>0</td><td>3951</td><td>0</td><td>0</td><td>0</td><td>&quot;Married&quot;</td><td>&quot;POST-GRADUATE&quot;</td><td>48</td><td>&quot;M&quot;</td><td>15000</td><td>75</td><td>0.333</td><td>0.0</td><td>0.0</td><td>-99999.0</td><td>0</td><td>-99999.0</td><td>0</td><td>0.0</td><td>0.0</td><td>0.0</td><td>0.0</td><td>-99999.0</td><td>0</td><td>0</td><td>&quot;AL&quot;</td><td>&quot;AL&quot;</td><td>753</td><td>&quot;P1&quot;</td></tr></tbody></table></div>"
      ],
      "text/plain": [
       "shape: (5, 87)\n",
       "┌───────────┬──────────┬───────────┬───────────┬───┬───────────┬───────────┬───────────┬───────────┐\n",
       "│ PROSPECTI ┆ Total_TL ┆ Tot_Close ┆ Tot_Activ ┆ … ┆ last_prod ┆ first_pro ┆ Credit_Sc ┆ Approved_ │\n",
       "│ D         ┆ ---      ┆ d_TL      ┆ e_TL      ┆   ┆ _enq2     ┆ d_enq2    ┆ ore       ┆ Flag      │\n",
       "│ ---       ┆ i64      ┆ ---       ┆ ---       ┆   ┆ ---       ┆ ---       ┆ ---       ┆ ---       │\n",
       "│ i64       ┆          ┆ i64       ┆ i64       ┆   ┆ str       ┆ str       ┆ i64       ┆ str       │\n",
       "╞═══════════╪══════════╪═══════════╪═══════════╪═══╪═══════════╪═══════════╪═══════════╪═══════════╡\n",
       "│ 1         ┆ 5        ┆ 4         ┆ 1         ┆ … ┆ PL        ┆ PL        ┆ 696       ┆ P2        │\n",
       "│ 2         ┆ 1        ┆ 0         ┆ 1         ┆ … ┆ ConsumerL ┆ ConsumerL ┆ 685       ┆ P2        │\n",
       "│           ┆          ┆           ┆           ┆   ┆ oan       ┆ oan       ┆           ┆           │\n",
       "│ 3         ┆ 8        ┆ 0         ┆ 8         ┆ … ┆ ConsumerL ┆ others    ┆ 693       ┆ P2        │\n",
       "│           ┆          ┆           ┆           ┆   ┆ oan       ┆           ┆           ┆           │\n",
       "│ 4         ┆ 1        ┆ 0         ┆ 1         ┆ … ┆ others    ┆ others    ┆ 673       ┆ P2        │\n",
       "│ 5         ┆ 3        ┆ 2         ┆ 1         ┆ … ┆ AL        ┆ AL        ┆ 753       ┆ P1        │\n",
       "└───────────┴──────────┴───────────┴───────────┴───┴───────────┴───────────┴───────────┴───────────┘"
      ]
     },
     "execution_count": 3,
     "metadata": {},
     "output_type": "execute_result"
    }
   ],
   "source": [
    "df = bank_data.join(cibil_data, on=\"PROSPECTID\")\n",
    "print(df.shape)\n",
    "df.head()"
   ]
  },
  {
   "cell_type": "code",
   "execution_count": 4,
   "metadata": {},
   "outputs": [],
   "source": [
    "# Export merged dataset as parquet for future use\n",
    "# df.write_parquet(\"data/credit-modeling.parquet\")"
   ]
  },
  {
   "cell_type": "markdown",
   "metadata": {},
   "source": [
    "# Import merged dataset\n",
    "\n",
    "**🙋 Recommended Processs**"
   ]
  },
  {
   "cell_type": "code",
   "execution_count": 3,
   "metadata": {},
   "outputs": [],
   "source": [
    "import polars as pl\n",
    "import seaborn as sns\n",
    "from matplotlib import pyplot as plt\n",
    "from polars import selectors as cs\n",
    "from scipy.stats import chi2_contingency\n",
    "from scipy.stats import f_oneway as oneway_anova\n",
    "from statsmodels.stats.outliers_influence import variance_inflation_factor"
   ]
  },
  {
   "cell_type": "code",
   "execution_count": 4,
   "metadata": {},
   "outputs": [
    {
     "name": "stdout",
     "output_type": "stream",
     "text": [
      "(51336, 87)\n"
     ]
    },
    {
     "data": {
      "text/html": [
       "<div><style>\n",
       ".dataframe > thead > tr,\n",
       ".dataframe > tbody > tr {\n",
       "  text-align: right;\n",
       "  white-space: pre-wrap;\n",
       "}\n",
       "</style>\n",
       "<small>shape: (5, 87)</small><table border=\"1\" class=\"dataframe\"><thead><tr><th>PROSPECTID</th><th>Total_TL</th><th>Tot_Closed_TL</th><th>Tot_Active_TL</th><th>Total_TL_opened_L6M</th><th>Tot_TL_closed_L6M</th><th>pct_tl_open_L6M</th><th>pct_tl_closed_L6M</th><th>pct_active_tl</th><th>pct_closed_tl</th><th>Total_TL_opened_L12M</th><th>Tot_TL_closed_L12M</th><th>pct_tl_open_L12M</th><th>pct_tl_closed_L12M</th><th>Tot_Missed_Pmnt</th><th>Auto_TL</th><th>CC_TL</th><th>Consumer_TL</th><th>Gold_TL</th><th>Home_TL</th><th>PL_TL</th><th>Secured_TL</th><th>Unsecured_TL</th><th>Other_TL</th><th>Age_Oldest_TL</th><th>Age_Newest_TL</th><th>time_since_recent_payment</th><th>time_since_first_deliquency</th><th>time_since_recent_deliquency</th><th>num_times_delinquent</th><th>max_delinquency_level</th><th>max_recent_level_of_deliq</th><th>num_deliq_6mts</th><th>num_deliq_12mts</th><th>num_deliq_6_12mts</th><th>max_deliq_6mts</th><th>max_deliq_12mts</th><th>&hellip;</th><th>num_lss_12mts</th><th>recent_level_of_deliq</th><th>tot_enq</th><th>CC_enq</th><th>CC_enq_L6m</th><th>CC_enq_L12m</th><th>PL_enq</th><th>PL_enq_L6m</th><th>PL_enq_L12m</th><th>time_since_recent_enq</th><th>enq_L12m</th><th>enq_L6m</th><th>enq_L3m</th><th>MARITALSTATUS</th><th>EDUCATION</th><th>AGE</th><th>GENDER</th><th>NETMONTHLYINCOME</th><th>Time_With_Curr_Empr</th><th>pct_of_active_TLs_ever</th><th>pct_opened_TLs_L6m_of_L12m</th><th>pct_currentBal_all_TL</th><th>CC_utilization</th><th>CC_Flag</th><th>PL_utilization</th><th>PL_Flag</th><th>pct_PL_enq_L6m_of_L12m</th><th>pct_CC_enq_L6m_of_L12m</th><th>pct_PL_enq_L6m_of_ever</th><th>pct_CC_enq_L6m_of_ever</th><th>max_unsec_exposure_inPct</th><th>HL_Flag</th><th>GL_Flag</th><th>last_prod_enq2</th><th>first_prod_enq2</th><th>Credit_Score</th><th>Approved_Flag</th></tr><tr><td>i64</td><td>i64</td><td>i64</td><td>i64</td><td>i64</td><td>i64</td><td>f64</td><td>f64</td><td>f64</td><td>f64</td><td>i64</td><td>i64</td><td>f64</td><td>f64</td><td>i64</td><td>i64</td><td>i64</td><td>i64</td><td>i64</td><td>i64</td><td>i64</td><td>i64</td><td>i64</td><td>i64</td><td>i64</td><td>i64</td><td>i64</td><td>i64</td><td>i64</td><td>i64</td><td>i64</td><td>i64</td><td>i64</td><td>i64</td><td>i64</td><td>i64</td><td>i64</td><td>&hellip;</td><td>i64</td><td>i64</td><td>i64</td><td>i64</td><td>i64</td><td>i64</td><td>i64</td><td>i64</td><td>i64</td><td>i64</td><td>i64</td><td>i64</td><td>i64</td><td>str</td><td>str</td><td>i64</td><td>str</td><td>i64</td><td>i64</td><td>f64</td><td>f64</td><td>f64</td><td>f64</td><td>i64</td><td>f64</td><td>i64</td><td>f64</td><td>f64</td><td>f64</td><td>f64</td><td>f64</td><td>i64</td><td>i64</td><td>str</td><td>str</td><td>i64</td><td>str</td></tr></thead><tbody><tr><td>1</td><td>5</td><td>4</td><td>1</td><td>0</td><td>0</td><td>0.0</td><td>0.0</td><td>0.2</td><td>0.8</td><td>0</td><td>0</td><td>0.0</td><td>0.0</td><td>0</td><td>0</td><td>0</td><td>0</td><td>1</td><td>0</td><td>4</td><td>1</td><td>4</td><td>0</td><td>72</td><td>18</td><td>549</td><td>35</td><td>15</td><td>11</td><td>29</td><td>29</td><td>0</td><td>0</td><td>0</td><td>-99999</td><td>-99999</td><td>&hellip;</td><td>0</td><td>29</td><td>6</td><td>0</td><td>0</td><td>0</td><td>6</td><td>0</td><td>0</td><td>566</td><td>0</td><td>0</td><td>0</td><td>&quot;Married&quot;</td><td>&quot;12TH&quot;</td><td>48</td><td>&quot;M&quot;</td><td>51000</td><td>114</td><td>0.2</td><td>0.0</td><td>0.798</td><td>-99999.0</td><td>0</td><td>0.798</td><td>1</td><td>0.0</td><td>0.0</td><td>0.0</td><td>0.0</td><td>13.333</td><td>1</td><td>0</td><td>&quot;PL&quot;</td><td>&quot;PL&quot;</td><td>696</td><td>&quot;P2&quot;</td></tr><tr><td>2</td><td>1</td><td>0</td><td>1</td><td>0</td><td>0</td><td>0.0</td><td>0.0</td><td>1.0</td><td>0.0</td><td>1</td><td>0</td><td>1.0</td><td>0.0</td><td>0</td><td>0</td><td>0</td><td>1</td><td>0</td><td>0</td><td>0</td><td>0</td><td>1</td><td>0</td><td>7</td><td>7</td><td>47</td><td>-99999</td><td>-99999</td><td>0</td><td>-99999</td><td>0</td><td>0</td><td>0</td><td>0</td><td>0</td><td>0</td><td>&hellip;</td><td>0</td><td>0</td><td>1</td><td>0</td><td>0</td><td>0</td><td>0</td><td>0</td><td>0</td><td>209</td><td>1</td><td>0</td><td>0</td><td>&quot;Single&quot;</td><td>&quot;GRADUATE&quot;</td><td>23</td><td>&quot;F&quot;</td><td>19000</td><td>50</td><td>1.0</td><td>0.0</td><td>0.37</td><td>-99999.0</td><td>0</td><td>-99999.0</td><td>0</td><td>0.0</td><td>0.0</td><td>0.0</td><td>0.0</td><td>0.86</td><td>0</td><td>0</td><td>&quot;ConsumerLoan&quot;</td><td>&quot;ConsumerLoan&quot;</td><td>685</td><td>&quot;P2&quot;</td></tr><tr><td>3</td><td>8</td><td>0</td><td>8</td><td>1</td><td>0</td><td>0.125</td><td>0.0</td><td>1.0</td><td>0.0</td><td>2</td><td>0</td><td>0.25</td><td>0.0</td><td>1</td><td>1</td><td>0</td><td>6</td><td>1</td><td>0</td><td>0</td><td>2</td><td>6</td><td>0</td><td>47</td><td>2</td><td>302</td><td>11</td><td>3</td><td>9</td><td>25</td><td>25</td><td>1</td><td>9</td><td>8</td><td>25</td><td>25</td><td>&hellip;</td><td>0</td><td>25</td><td>4</td><td>0</td><td>0</td><td>0</td><td>0</td><td>0</td><td>0</td><td>587</td><td>0</td><td>0</td><td>0</td><td>&quot;Married&quot;</td><td>&quot;SSC&quot;</td><td>40</td><td>&quot;M&quot;</td><td>18</td><td>191</td><td>1.0</td><td>0.5</td><td>0.585</td><td>-99999.0</td><td>0</td><td>-99999.0</td><td>0</td><td>0.0</td><td>0.0</td><td>0.0</td><td>0.0</td><td>5741.667</td><td>1</td><td>0</td><td>&quot;ConsumerLoan&quot;</td><td>&quot;others&quot;</td><td>693</td><td>&quot;P2&quot;</td></tr><tr><td>4</td><td>1</td><td>0</td><td>1</td><td>1</td><td>0</td><td>1.0</td><td>0.0</td><td>1.0</td><td>0.0</td><td>1</td><td>0</td><td>1.0</td><td>0.0</td><td>1</td><td>0</td><td>0</td><td>0</td><td>0</td><td>0</td><td>0</td><td>0</td><td>1</td><td>1</td><td>5</td><td>5</td><td>-99999</td><td>-99999</td><td>-99999</td><td>0</td><td>-99999</td><td>0</td><td>0</td><td>0</td><td>0</td><td>-99999</td><td>-99999</td><td>&hellip;</td><td>0</td><td>0</td><td>-99999</td><td>-99999</td><td>-99999</td><td>-99999</td><td>-99999</td><td>-99999</td><td>-99999</td><td>-99999</td><td>-99999</td><td>-99999</td><td>-99999</td><td>&quot;Married&quot;</td><td>&quot;SSC&quot;</td><td>34</td><td>&quot;M&quot;</td><td>10000</td><td>246</td><td>1.0</td><td>1.0</td><td>0.99</td><td>-99999.0</td><td>0</td><td>-99999.0</td><td>0</td><td>0.0</td><td>0.0</td><td>0.0</td><td>0.0</td><td>9.9</td><td>0</td><td>0</td><td>&quot;others&quot;</td><td>&quot;others&quot;</td><td>673</td><td>&quot;P2&quot;</td></tr><tr><td>5</td><td>3</td><td>2</td><td>1</td><td>0</td><td>0</td><td>0.0</td><td>0.0</td><td>0.333</td><td>0.667</td><td>0</td><td>0</td><td>0.0</td><td>0.0</td><td>0</td><td>1</td><td>0</td><td>0</td><td>0</td><td>0</td><td>0</td><td>3</td><td>0</td><td>2</td><td>131</td><td>32</td><td>583</td><td>-99999</td><td>-99999</td><td>0</td><td>-99999</td><td>0</td><td>0</td><td>0</td><td>0</td><td>-99999</td><td>-99999</td><td>&hellip;</td><td>0</td><td>0</td><td>1</td><td>0</td><td>0</td><td>0</td><td>0</td><td>0</td><td>0</td><td>3951</td><td>0</td><td>0</td><td>0</td><td>&quot;Married&quot;</td><td>&quot;POST-GRADUATE&quot;</td><td>48</td><td>&quot;M&quot;</td><td>15000</td><td>75</td><td>0.333</td><td>0.0</td><td>0.0</td><td>-99999.0</td><td>0</td><td>-99999.0</td><td>0</td><td>0.0</td><td>0.0</td><td>0.0</td><td>0.0</td><td>-99999.0</td><td>0</td><td>0</td><td>&quot;AL&quot;</td><td>&quot;AL&quot;</td><td>753</td><td>&quot;P1&quot;</td></tr></tbody></table></div>"
      ],
      "text/plain": [
       "shape: (5, 87)\n",
       "┌───────────┬──────────┬───────────┬───────────┬───┬───────────┬───────────┬───────────┬───────────┐\n",
       "│ PROSPECTI ┆ Total_TL ┆ Tot_Close ┆ Tot_Activ ┆ … ┆ last_prod ┆ first_pro ┆ Credit_Sc ┆ Approved_ │\n",
       "│ D         ┆ ---      ┆ d_TL      ┆ e_TL      ┆   ┆ _enq2     ┆ d_enq2    ┆ ore       ┆ Flag      │\n",
       "│ ---       ┆ i64      ┆ ---       ┆ ---       ┆   ┆ ---       ┆ ---       ┆ ---       ┆ ---       │\n",
       "│ i64       ┆          ┆ i64       ┆ i64       ┆   ┆ str       ┆ str       ┆ i64       ┆ str       │\n",
       "╞═══════════╪══════════╪═══════════╪═══════════╪═══╪═══════════╪═══════════╪═══════════╪═══════════╡\n",
       "│ 1         ┆ 5        ┆ 4         ┆ 1         ┆ … ┆ PL        ┆ PL        ┆ 696       ┆ P2        │\n",
       "│ 2         ┆ 1        ┆ 0         ┆ 1         ┆ … ┆ ConsumerL ┆ ConsumerL ┆ 685       ┆ P2        │\n",
       "│           ┆          ┆           ┆           ┆   ┆ oan       ┆ oan       ┆           ┆           │\n",
       "│ 3         ┆ 8        ┆ 0         ┆ 8         ┆ … ┆ ConsumerL ┆ others    ┆ 693       ┆ P2        │\n",
       "│           ┆          ┆           ┆           ┆   ┆ oan       ┆           ┆           ┆           │\n",
       "│ 4         ┆ 1        ┆ 0         ┆ 1         ┆ … ┆ others    ┆ others    ┆ 673       ┆ P2        │\n",
       "│ 5         ┆ 3        ┆ 2         ┆ 1         ┆ … ┆ AL        ┆ AL        ┆ 753       ┆ P1        │\n",
       "└───────────┴──────────┴───────────┴───────────┴───┴───────────┴───────────┴───────────┴───────────┘"
      ]
     },
     "execution_count": 4,
     "metadata": {},
     "output_type": "execute_result"
    }
   ],
   "source": [
    "df = pl.read_parquet(\"data/credit-modeling.parquet\")\n",
    "print(df.shape)\n",
    "df.head()"
   ]
  },
  {
   "cell_type": "markdown",
   "metadata": {},
   "source": [
    "# Preprocessing"
   ]
  },
  {
   "cell_type": "code",
   "execution_count": 5,
   "metadata": {},
   "outputs": [
    {
     "name": "stdout",
     "output_type": "stream",
     "text": [
      "target_col = 'Approved_Flag'\n",
      "\n",
      "5 cat_cols = ['MARITALSTATUS', 'EDUCATION', 'GENDER', 'last_prod_enq2', 'first_prod_enq2']\n",
      "\n",
      "80 num_cols = ['Total_TL', 'Tot_Closed_TL', 'Tot_Active_TL', 'Total_TL_opened_L6M', 'Tot_TL_closed_L6M', 'pct_tl_open_L6M', 'pct_tl_closed_L6M', 'pct_active_tl', 'pct_closed_tl', 'Total_TL_opened_L12M', 'Tot_TL_closed_L12M', 'pct_tl_open_L12M', 'pct_tl_closed_L12M', 'Tot_Missed_Pmnt', 'Auto_TL', 'CC_TL', 'Consumer_TL', 'Gold_TL', 'Home_TL', 'PL_TL', 'Secured_TL', 'Unsecured_TL', 'Other_TL', 'Age_Oldest_TL', 'Age_Newest_TL', 'time_since_recent_payment', 'time_since_first_deliquency', 'time_since_recent_deliquency', 'num_times_delinquent', 'max_delinquency_level', 'max_recent_level_of_deliq', 'num_deliq_6mts', 'num_deliq_12mts', 'num_deliq_6_12mts', 'max_deliq_6mts', 'max_deliq_12mts', 'num_times_30p_dpd', 'num_times_60p_dpd', 'num_std', 'num_std_6mts', 'num_std_12mts', 'num_sub', 'num_sub_6mts', 'num_sub_12mts', 'num_dbt', 'num_dbt_6mts', 'num_dbt_12mts', 'num_lss', 'num_lss_6mts', 'num_lss_12mts', 'recent_level_of_deliq', 'tot_enq', 'CC_enq', 'CC_enq_L6m', 'CC_enq_L12m', 'PL_enq', 'PL_enq_L6m', 'PL_enq_L12m', 'time_since_recent_enq', 'enq_L12m', 'enq_L6m', 'enq_L3m', 'AGE', 'NETMONTHLYINCOME', 'Time_With_Curr_Empr', 'pct_of_active_TLs_ever', 'pct_opened_TLs_L6m_of_L12m', 'pct_currentBal_all_TL', 'CC_utilization', 'CC_Flag', 'PL_utilization', 'PL_Flag', 'pct_PL_enq_L6m_of_L12m', 'pct_CC_enq_L6m_of_L12m', 'pct_PL_enq_L6m_of_ever', 'pct_CC_enq_L6m_of_ever', 'max_unsec_exposure_inPct', 'HL_Flag', 'GL_Flag', 'Credit_Score']\n",
      "\n"
     ]
    }
   ],
   "source": [
    "# segregate cols of dataset\n",
    "target_col = \"Approved_Flag\"\n",
    "cat_cols = df.select(cs.string().exclude(target_col)).columns\n",
    "num_cols = df.select(cs.numeric().exclude(target_col, \"PROSPECTID\")).columns\n",
    "\n",
    "print(f\"{target_col = }\", end=\"\\n\\n\")\n",
    "print(f\"{len(cat_cols)} {cat_cols = }\", end=\"\\n\\n\")\n",
    "print(f\"{len(num_cols)} {num_cols = }\", end=\"\\n\\n\")"
   ]
  },
  {
   "cell_type": "code",
   "execution_count": 6,
   "metadata": {},
   "outputs": [
    {
     "data": {
      "text/plain": [
       "['PROSPECTID', 'Approved_Flag']"
      ]
     },
     "execution_count": 6,
     "metadata": {},
     "output_type": "execute_result"
    }
   ],
   "source": [
    "# Any which is not selected as cat_cols or num_cols\n",
    "[i for i in df.columns if i not in cat_cols + num_cols]"
   ]
  },
  {
   "cell_type": "markdown",
   "metadata": {},
   "source": [
    "## NULL Values"
   ]
  },
  {
   "cell_type": "code",
   "execution_count": 7,
   "metadata": {},
   "outputs": [],
   "source": [
    "# Convert all -99999 value to None (null/nan)\n",
    "df = df.with_columns(\n",
    "    [\n",
    "        pl.when(pl.col(name).eq(-99999))\n",
    "        .then(pl.lit(None))\n",
    "        .otherwise(pl.col(name))\n",
    "        .alias(name)\n",
    "        for name in num_cols\n",
    "    ]\n",
    ")"
   ]
  },
  {
   "cell_type": "code",
   "execution_count": 8,
   "metadata": {},
   "outputs": [
    {
     "data": {
      "text/html": [
       "<div><style>\n",
       ".dataframe > thead > tr,\n",
       ".dataframe > tbody > tr {\n",
       "  text-align: right;\n",
       "  white-space: pre-wrap;\n",
       "}\n",
       "</style>\n",
       "<small>shape: (23, 2)</small><table border=\"1\" class=\"dataframe\"><thead><tr><th>variable</th><th>value</th></tr><tr><td>str</td><td>u32</td></tr></thead><tbody><tr><td>&quot;CC_utilization…</td><td>47636</td></tr><tr><td>&quot;PL_utilization…</td><td>44435</td></tr><tr><td>&quot;time_since_fir…</td><td>35949</td></tr><tr><td>&quot;time_since_rec…</td><td>35949</td></tr><tr><td>&quot;max_delinquenc…</td><td>35949</td></tr><tr><td>&hellip;</td><td>&hellip;</td></tr><tr><td>&quot;enq_L3m&quot;</td><td>6321</td></tr><tr><td>&quot;time_since_rec…</td><td>4291</td></tr><tr><td>&quot;pct_currentBal…</td><td>72</td></tr><tr><td>&quot;Age_Oldest_TL&quot;</td><td>40</td></tr><tr><td>&quot;Age_Newest_TL&quot;</td><td>40</td></tr></tbody></table></div>"
      ],
      "text/plain": [
       "shape: (23, 2)\n",
       "┌──────────────────────────────┬───────┐\n",
       "│ variable                     ┆ value │\n",
       "│ ---                          ┆ ---   │\n",
       "│ str                          ┆ u32   │\n",
       "╞══════════════════════════════╪═══════╡\n",
       "│ CC_utilization               ┆ 47636 │\n",
       "│ PL_utilization               ┆ 44435 │\n",
       "│ time_since_first_deliquency  ┆ 35949 │\n",
       "│ time_since_recent_deliquency ┆ 35949 │\n",
       "│ max_delinquency_level        ┆ 35949 │\n",
       "│ …                            ┆ …     │\n",
       "│ enq_L3m                      ┆ 6321  │\n",
       "│ time_since_recent_payment    ┆ 4291  │\n",
       "│ pct_currentBal_all_TL        ┆ 72    │\n",
       "│ Age_Oldest_TL                ┆ 40    │\n",
       "│ Age_Newest_TL                ┆ 40    │\n",
       "└──────────────────────────────┴───────┘"
      ]
     },
     "execution_count": 8,
     "metadata": {},
     "output_type": "execute_result"
    }
   ],
   "source": [
    "null_count = (\n",
    "    df.lazy()\n",
    "    .select(\n",
    "        [pl.col(col).is_null().sum() for col in num_cols],\n",
    "    )\n",
    "    .melt()\n",
    "    .filter(\n",
    "        pl.col(\"value\").ne(0),\n",
    "    )\n",
    "    .sort(\"value\", descending=True)\n",
    ")\n",
    "null_count.collect()"
   ]
  },
  {
   "cell_type": "code",
   "execution_count": 9,
   "metadata": {},
   "outputs": [
    {
     "data": {
      "text/plain": [
       "['CC_utilization',\n",
       " 'PL_utilization',\n",
       " 'time_since_first_deliquency',\n",
       " 'time_since_recent_deliquency',\n",
       " 'max_delinquency_level',\n",
       " 'max_unsec_exposure_inPct',\n",
       " 'max_deliq_6mts',\n",
       " 'max_deliq_12mts']"
      ]
     },
     "execution_count": 9,
     "metadata": {},
     "output_type": "execute_result"
    }
   ],
   "source": [
    "# null count over 10K\n",
    "null_count_over_10k = (\n",
    "    null_count.filter(\n",
    "        pl.col(\"value\").ge(10_000),\n",
    "    )\n",
    "    .collect()\n",
    "    .get_column(\"variable\")\n",
    "    .to_list()\n",
    ")\n",
    "null_count_over_10k"
   ]
  },
  {
   "cell_type": "markdown",
   "metadata": {},
   "source": [
    "### Drop columns containing many null values"
   ]
  },
  {
   "cell_type": "code",
   "execution_count": 10,
   "metadata": {},
   "outputs": [
    {
     "data": {
      "text/plain": [
       "(51336, 79)"
      ]
     },
     "execution_count": 10,
     "metadata": {},
     "output_type": "execute_result"
    }
   ],
   "source": [
    "df = df.drop(null_count_over_10k)\n",
    "df.shape"
   ]
  },
  {
   "cell_type": "code",
   "execution_count": 11,
   "metadata": {},
   "outputs": [
    {
     "name": "stdout",
     "output_type": "stream",
     "text": [
      "['Total_TL', 'Tot_Closed_TL', 'Tot_Active_TL', 'Total_TL_opened_L6M', 'Tot_TL_closed_L6M', 'pct_tl_open_L6M', 'pct_tl_closed_L6M', 'pct_active_tl', 'pct_closed_tl', 'Total_TL_opened_L12M', 'Tot_TL_closed_L12M', 'pct_tl_open_L12M', 'pct_tl_closed_L12M', 'Tot_Missed_Pmnt', 'Auto_TL', 'CC_TL', 'Consumer_TL', 'Gold_TL', 'Home_TL', 'PL_TL', 'Secured_TL', 'Unsecured_TL', 'Other_TL', 'Age_Oldest_TL', 'Age_Newest_TL', 'time_since_recent_payment', 'num_times_delinquent', 'max_recent_level_of_deliq', 'num_deliq_6mts', 'num_deliq_12mts', 'num_deliq_6_12mts', 'num_times_30p_dpd', 'num_times_60p_dpd', 'num_std', 'num_std_6mts', 'num_std_12mts', 'num_sub', 'num_sub_6mts', 'num_sub_12mts', 'num_dbt', 'num_dbt_6mts', 'num_dbt_12mts', 'num_lss', 'num_lss_6mts', 'num_lss_12mts', 'recent_level_of_deliq', 'tot_enq', 'CC_enq', 'CC_enq_L6m', 'CC_enq_L12m', 'PL_enq', 'PL_enq_L6m', 'PL_enq_L12m', 'time_since_recent_enq', 'enq_L12m', 'enq_L6m', 'enq_L3m', 'AGE', 'NETMONTHLYINCOME', 'Time_With_Curr_Empr', 'pct_of_active_TLs_ever', 'pct_opened_TLs_L6m_of_L12m', 'pct_currentBal_all_TL', 'CC_Flag', 'PL_Flag', 'pct_PL_enq_L6m_of_L12m', 'pct_CC_enq_L6m_of_L12m', 'pct_PL_enq_L6m_of_ever', 'pct_CC_enq_L6m_of_ever', 'HL_Flag', 'GL_Flag', 'Credit_Score']\n"
     ]
    }
   ],
   "source": [
    "# Remove dropped cols from num_cols list\n",
    "[num_cols.remove(i) for i in null_count_over_10k]\n",
    "print(num_cols)"
   ]
  },
  {
   "cell_type": "code",
   "execution_count": 12,
   "metadata": {},
   "outputs": [
    {
     "data": {
      "text/html": [
       "<div><style>\n",
       ".dataframe > thead > tr,\n",
       ".dataframe > tbody > tr {\n",
       "  text-align: right;\n",
       "  white-space: pre-wrap;\n",
       "}\n",
       "</style>\n",
       "<small>shape: (15, 2)</small><table border=\"1\" class=\"dataframe\"><thead><tr><th>variable</th><th>value</th></tr><tr><td>str</td><td>u32</td></tr></thead><tbody><tr><td>&quot;tot_enq&quot;</td><td>6321</td></tr><tr><td>&quot;CC_enq&quot;</td><td>6321</td></tr><tr><td>&quot;CC_enq_L6m&quot;</td><td>6321</td></tr><tr><td>&quot;CC_enq_L12m&quot;</td><td>6321</td></tr><tr><td>&quot;PL_enq&quot;</td><td>6321</td></tr><tr><td>&hellip;</td><td>&hellip;</td></tr><tr><td>&quot;enq_L3m&quot;</td><td>6321</td></tr><tr><td>&quot;time_since_rec…</td><td>4291</td></tr><tr><td>&quot;pct_currentBal…</td><td>72</td></tr><tr><td>&quot;Age_Oldest_TL&quot;</td><td>40</td></tr><tr><td>&quot;Age_Newest_TL&quot;</td><td>40</td></tr></tbody></table></div>"
      ],
      "text/plain": [
       "shape: (15, 2)\n",
       "┌───────────────────────────┬───────┐\n",
       "│ variable                  ┆ value │\n",
       "│ ---                       ┆ ---   │\n",
       "│ str                       ┆ u32   │\n",
       "╞═══════════════════════════╪═══════╡\n",
       "│ tot_enq                   ┆ 6321  │\n",
       "│ CC_enq                    ┆ 6321  │\n",
       "│ CC_enq_L6m                ┆ 6321  │\n",
       "│ CC_enq_L12m               ┆ 6321  │\n",
       "│ PL_enq                    ┆ 6321  │\n",
       "│ …                         ┆ …     │\n",
       "│ enq_L3m                   ┆ 6321  │\n",
       "│ time_since_recent_payment ┆ 4291  │\n",
       "│ pct_currentBal_all_TL     ┆ 72    │\n",
       "│ Age_Oldest_TL             ┆ 40    │\n",
       "│ Age_Newest_TL             ┆ 40    │\n",
       "└───────────────────────────┴───────┘"
      ]
     },
     "execution_count": 12,
     "metadata": {},
     "output_type": "execute_result"
    }
   ],
   "source": [
    "(\n",
    "    df.select(\n",
    "        [\n",
    "            pl.col(col).is_null().sum()\n",
    "            for col in num_cols\n",
    "            if col not in null_count_over_10k\n",
    "        ],\n",
    "    )\n",
    "    .melt()\n",
    "    .filter(\n",
    "        pl.col(\"value\").ne(0),\n",
    "    )\n",
    "    .sort(\"value\", descending=True)\n",
    ")"
   ]
  },
  {
   "cell_type": "markdown",
   "metadata": {},
   "source": [
    "## Unique values in `num_cols`"
   ]
  },
  {
   "cell_type": "code",
   "execution_count": 36,
   "metadata": {},
   "outputs": [
    {
     "data": {
      "text/html": [
       "<div><style>\n",
       ".dataframe > thead > tr,\n",
       ".dataframe > tbody > tr {\n",
       "  text-align: right;\n",
       "  white-space: pre-wrap;\n",
       "}\n",
       "</style>\n",
       "<small>shape: (72, 2)</small><table border=\"1\" class=\"dataframe\"><thead><tr><th>columns</th><th>n_unique</th></tr><tr><td>str</td><td>u32</td></tr></thead><tbody><tr><td>&quot;time_since_rec…</td><td>2435</td></tr><tr><td>&quot;time_since_rec…</td><td>2382</td></tr><tr><td>&quot;pct_currentBal…</td><td>1529</td></tr><tr><td>&quot;NETMONTHLYINCO…</td><td>1316</td></tr><tr><td>&quot;Time_With_Curr…</td><td>490</td></tr><tr><td>&hellip;</td><td>&hellip;</td></tr><tr><td>&quot;num_dbt_6mts&quot;</td><td>6</td></tr><tr><td>&quot;CC_Flag&quot;</td><td>2</td></tr><tr><td>&quot;PL_Flag&quot;</td><td>2</td></tr><tr><td>&quot;HL_Flag&quot;</td><td>2</td></tr><tr><td>&quot;GL_Flag&quot;</td><td>2</td></tr></tbody></table></div>"
      ],
      "text/plain": [
       "shape: (72, 2)\n",
       "┌───────────────────────────┬──────────┐\n",
       "│ columns                   ┆ n_unique │\n",
       "│ ---                       ┆ ---      │\n",
       "│ str                       ┆ u32      │\n",
       "╞═══════════════════════════╪══════════╡\n",
       "│ time_since_recent_payment ┆ 2435     │\n",
       "│ time_since_recent_enq     ┆ 2382     │\n",
       "│ pct_currentBal_all_TL     ┆ 1529     │\n",
       "│ NETMONTHLYINCOME          ┆ 1316     │\n",
       "│ Time_With_Curr_Empr       ┆ 490      │\n",
       "│ …                         ┆ …        │\n",
       "│ num_dbt_6mts              ┆ 6        │\n",
       "│ CC_Flag                   ┆ 2        │\n",
       "│ PL_Flag                   ┆ 2        │\n",
       "│ HL_Flag                   ┆ 2        │\n",
       "│ GL_Flag                   ┆ 2        │\n",
       "└───────────────────────────┴──────────┘"
      ]
     },
     "execution_count": 36,
     "metadata": {},
     "output_type": "execute_result"
    }
   ],
   "source": [
    "df.select([pl.n_unique(i) for i in num_cols]).melt(\n",
    "    variable_name=\"columns\", value_name=\"n_unique\"\n",
    ").sort(\"n_unique\", descending=True)"
   ]
  },
  {
   "cell_type": "markdown",
   "metadata": {},
   "source": [
    "## Unique values in `cat_cols`"
   ]
  },
  {
   "cell_type": "code",
   "execution_count": 13,
   "metadata": {},
   "outputs": [
    {
     "name": "stdout",
     "output_type": "stream",
     "text": [
      "  MARITALSTATUS - ['Married', 'Single']\n",
      "      EDUCATION - ['UNDER GRADUATE', 'OTHERS', 'SSC', 'GRADUATE', 'POST-GRADUATE', '12TH', 'PROFESSIONAL']\n",
      "         GENDER - ['F', 'M']\n",
      " last_prod_enq2 - ['ConsumerLoan', 'AL', 'CC', 'PL', 'others', 'HL']\n",
      "first_prod_enq2 - ['CC', 'PL', 'others', 'AL', 'ConsumerLoan', 'HL']\n"
     ]
    }
   ],
   "source": [
    "for col in cat_cols:\n",
    "    print(f\"{col:>15} - {df.get_column(col).unique().to_list()}\")"
   ]
  },
  {
   "cell_type": "code",
   "execution_count": null,
   "metadata": {},
   "outputs": [
    {
     "data": {
      "image/png": "[encoded data removed]",
      "text/plain": [
       "<Figure size 1000x400 with 1 Axes>"
      ]
     },
     "metadata": {},
     "output_type": "display_data"
    },
    {
     "data": {
      "image/png": "[encoded data removed]",
      "text/plain": [
       "<Figure size 1000x400 with 1 Axes>"
      ]
     },
     "metadata": {},
     "output_type": "display_data"
    },
    {
     "data": {
      "image/png": "[encoded data removed]",
      "text/plain": [
       "<Figure size 1000x400 with 1 Axes>"
      ]
     },
     "metadata": {},
     "output_type": "display_data"
    },
    {
     "data": {
      "image/png": "[encoded data removed]",
      "text/plain": [
       "<Figure size 1000x400 with 1 Axes>"
      ]
     },
     "metadata": {},
     "output_type": "display_data"
    },
    {
     "data": {
      "image/png": "[encoded data removed]",
      "text/plain": [
       "<Figure size 1000x400 with 1 Axes>"
      ]
     },
     "metadata": {},
     "output_type": "display_data"
    }
   ],
   "source": [
    "# Plot unique values count with bar plot\n",
    "for col in cat_cols:\n",
    "    plt.figure(figsize=(10, 4))\n",
    "    sns.countplot(df.get_column(col).to_numpy())\n",
    "    plt.title(f\"Count Plot of {col!r} column\")\n",
    "    plt.show()"
   ]
  },
  {
   "cell_type": "markdown",
   "metadata": {},
   "source": [
    "## VIF of Numerical Columns"
   ]
  },
  {
   "cell_type": "markdown",
   "metadata": {},
   "source": [
    "**❓ QUESTION**\n",
    "\n",
    "1. Does VIF affected by Normalisation?\n",
    "2. What if I remove previous columns; will it affect the VIF if the previous columns exists? (Sir had mentioned this in the trail session)"
   ]
  },
  {
   "cell_type": "code",
   "execution_count": null,
   "metadata": {},
   "outputs": [],
   "source": [
    "# Generally threshold value for VIF is 5 (you can choose on your domain knowledge)\n",
    "VIF_THRESHOLD = 5"
   ]
  },
  {
   "cell_type": "code",
   "execution_count": null,
   "metadata": {},
   "outputs": [
    {
     "name": "stderr",
     "output_type": "stream",
     "text": [
      "/Users/iarv/Developer/notebooks/credit-modeling/.venv/lib/python3.11/site-packages/statsmodels/stats/outliers_influence.py:197: RuntimeWarning: divide by zero encountered in scalar divide\n",
      "  vif = 1. / (1. - r_squared_i)\n"
     ]
    },
    {
     "name": "stdout",
     "output_type": "stream",
     "text": [
      "                 Total_TL - inf\n",
      "            Tot_Closed_TL - inf\n",
      "            Tot_Active_TL - inf\n",
      "      Total_TL_opened_L6M - 8.386094184170567\n",
      "        Tot_TL_closed_L6M - 6.822916488054288\n",
      "          pct_tl_open_L6M - 5.344199901464039\n",
      "            pct_active_tl - inf\n",
      "            pct_closed_tl - 1788.95771490895\n",
      "     Total_TL_opened_L12M - 15.200137933469819\n",
      "       Tot_TL_closed_L12M - 9.044617706396677\n",
      "                  Auto_TL - inf\n",
      "                    CC_TL - inf\n",
      "              Consumer_TL - inf\n",
      "                  Gold_TL - inf\n",
      "                  Home_TL - inf\n",
      "                    PL_TL - inf\n",
      "               Secured_TL - inf\n",
      "             Unsecured_TL - inf\n",
      "                 Other_TL - inf\n",
      "     num_times_delinquent - 6.96131446746582\n",
      "           num_deliq_6mts - inf\n",
      "          num_deliq_12mts - inf\n",
      "        num_deliq_6_12mts - inf\n",
      "        num_times_30p_dpd - 12.754547497478903\n",
      "        num_times_60p_dpd - 7.664123029753517\n",
      "                  num_std - 6.319428106041929\n",
      "             num_std_6mts - 14.347518490310222\n",
      "            num_std_12mts - 22.676698796484057\n",
      "             num_dbt_6mts - 7.359834228686917\n",
      "            num_dbt_12mts - 9.477320189403187\n",
      "             num_lss_6mts - 6.530587744367455\n",
      "            num_lss_12mts - 8.171238534079553\n",
      "                  tot_enq - 12.066242728970064\n",
      "                   CC_enq - 7.237096207319056\n",
      "               CC_enq_L6m - 8.504957073040297\n",
      "              CC_enq_L12m - 11.264651252660999\n",
      "                   PL_enq - 9.19020408532642\n",
      "               PL_enq_L6m - 11.584674563541057\n",
      "              PL_enq_L12m - 16.336597728333427\n",
      "                 enq_L12m - 24.88092030903539\n",
      "                  enq_L6m - 21.955636481011936\n",
      "                  enq_L3m - 6.602898858366672\n",
      "   pct_of_active_TLs_ever - inf\n",
      "pct_opened_TLs_L6m_of_L12m - 5.099673429716452\n",
      "   pct_PL_enq_L6m_of_L12m - 18.58817436155374\n",
      "   pct_CC_enq_L6m_of_L12m - 17.61637866599812\n",
      "   pct_PL_enq_L6m_of_ever - 18.10774635412635\n",
      "   pct_CC_enq_L6m_of_ever - 15.980814878035979\n",
      "             Credit_Score - 5.6286548016808675\n"
     ]
    }
   ],
   "source": [
    "# If we doesn't drop the high VIF columns on-the-spot then all the high coorelated\n",
    "# columns had the high VIF.\n",
    "for col in num_cols:\n",
    "    the_vif = variance_inflation_factor(df[num_cols].drop_nulls(), num_cols.index(col))\n",
    "    if the_vif > VIF_THRESHOLD:\n",
    "        print(f\"{col:>25} - {the_vif}\")"
   ]
  },
  {
   "cell_type": "code",
   "execution_count": null,
   "metadata": {},
   "outputs": [
    {
     "data": {
      "text/plain": [
       "['Total_TL',\n",
       " 'Tot_Closed_TL',\n",
       " 'Tot_Active_TL',\n",
       " 'Total_TL_opened_L6M',\n",
       " 'Tot_TL_closed_L6M',\n",
       " 'pct_tl_open_L6M',\n",
       " 'pct_tl_closed_L6M',\n",
       " 'pct_active_tl',\n",
       " 'pct_closed_tl',\n",
       " 'Total_TL_opened_L12M',\n",
       " 'Tot_TL_closed_L12M',\n",
       " 'pct_tl_open_L12M',\n",
       " 'pct_tl_closed_L12M',\n",
       " 'Tot_Missed_Pmnt',\n",
       " 'Auto_TL',\n",
       " 'CC_TL',\n",
       " 'Consumer_TL',\n",
       " 'Gold_TL',\n",
       " 'Home_TL',\n",
       " 'PL_TL',\n",
       " 'Secured_TL',\n",
       " 'Unsecured_TL',\n",
       " 'Other_TL',\n",
       " 'Age_Oldest_TL',\n",
       " 'Age_Newest_TL',\n",
       " 'time_since_recent_payment',\n",
       " 'num_times_delinquent',\n",
       " 'max_recent_level_of_deliq',\n",
       " 'num_deliq_6mts',\n",
       " 'num_deliq_12mts',\n",
       " 'num_deliq_6_12mts',\n",
       " 'num_times_30p_dpd',\n",
       " 'num_times_60p_dpd',\n",
       " 'num_std',\n",
       " 'num_std_6mts',\n",
       " 'num_std_12mts',\n",
       " 'num_sub',\n",
       " 'num_sub_6mts',\n",
       " 'num_sub_12mts',\n",
       " 'num_dbt',\n",
       " 'num_dbt_6mts',\n",
       " 'num_dbt_12mts',\n",
       " 'num_lss',\n",
       " 'num_lss_6mts',\n",
       " 'num_lss_12mts',\n",
       " 'recent_level_of_deliq',\n",
       " 'tot_enq',\n",
       " 'CC_enq',\n",
       " 'CC_enq_L6m',\n",
       " 'CC_enq_L12m',\n",
       " 'PL_enq',\n",
       " 'PL_enq_L6m',\n",
       " 'PL_enq_L12m',\n",
       " 'time_since_recent_enq',\n",
       " 'enq_L12m',\n",
       " 'enq_L6m',\n",
       " 'enq_L3m',\n",
       " 'AGE',\n",
       " 'NETMONTHLYINCOME',\n",
       " 'Time_With_Curr_Empr',\n",
       " 'pct_of_active_TLs_ever',\n",
       " 'pct_opened_TLs_L6m_of_L12m',\n",
       " 'pct_currentBal_all_TL',\n",
       " 'CC_Flag',\n",
       " 'PL_Flag',\n",
       " 'pct_PL_enq_L6m_of_L12m',\n",
       " 'pct_CC_enq_L6m_of_L12m',\n",
       " 'pct_PL_enq_L6m_of_ever',\n",
       " 'pct_CC_enq_L6m_of_ever',\n",
       " 'HL_Flag',\n",
       " 'GL_Flag',\n",
       " 'Credit_Score']"
      ]
     },
     "execution_count": 22,
     "metadata": {},
     "output_type": "execute_result"
    }
   ],
   "source": [
    "num_cols"
   ]
  },
  {
   "cell_type": "code",
   "execution_count": null,
   "metadata": {},
   "outputs": [
    {
     "data": {
      "text/plain": [
       "['HL_Flag', 'GL_Flag', 'Credit_Score']"
      ]
     },
     "execution_count": 25,
     "metadata": {},
     "output_type": "execute_result"
    }
   ],
   "source": [
    "# num_cols.index(\"HL_Flag\")\n",
    "num_cols[69:]"
   ]
  },
  {
   "cell_type": "code",
   "execution_count": null,
   "metadata": {},
   "outputs": [
    {
     "name": "stdout",
     "output_type": "stream",
     "text": [
      "                 Total_TL - inf\n",
      "            Tot_Closed_TL - inf\n",
      "            Tot_Active_TL - 11.320180023968081\n",
      "      Total_TL_opened_L6M - 8.363698035000327\n",
      "        Tot_TL_closed_L6M - 6.520647877790933\n",
      "          pct_tl_open_L6M - 5.14950161821264\n",
      "            pct_active_tl - inf\n",
      "            pct_closed_tl - 1788.1379270380778\n",
      "     Total_TL_opened_L12M - 8.574183995580643\n",
      "                  Auto_TL - inf\n",
      "              Consumer_TL - 19.428642906643795\n",
      "                  Gold_TL - 29.467804467370065\n",
      "     num_times_delinquent - 7.707632559040148\n",
      "max_recent_level_of_deliq - 5.300604965473001\n",
      "           num_deliq_6mts - inf\n",
      "          num_deliq_12mts - 7.3323259990811485\n",
      "        num_times_30p_dpd - 6.9386984900648\n",
      "                  num_std - 6.140804394322846\n",
      "             num_std_6mts - 15.068322401777072\n",
      "             num_dbt_6mts - 7.1087934663877554\n",
      "             num_lss_6mts - 6.429191127318508\n",
      "                  tot_enq - 13.245115388557519\n",
      "               CC_enq_L6m - 8.826890621448827\n",
      "                   PL_enq - 7.3782793717496356\n",
      "               PL_enq_L6m - 12.962089418914655\n",
      "                 enq_L12m - 11.299803878062798\n",
      "                  enq_L6m - 7.675770339002944\n",
      "                      AGE - 20.75854299265936\n",
      "   pct_PL_enq_L6m_of_L12m - 18.69970213275273\n",
      "   pct_CC_enq_L6m_of_L12m - 14.604590729015035\n"
     ]
    }
   ],
   "source": [
    "# In this process I am excluding all the previous columns whose VIF is calculated\n",
    "for col in num_cols[:-1]:\n",
    "    curr_col_index = num_cols.index(col)\n",
    "    the_vif = variance_inflation_factor(\n",
    "        df.select(num_cols[curr_col_index:]).drop_nulls(),\n",
    "        0,\n",
    "    )\n",
    "    if the_vif > VIF_THRESHOLD:\n",
    "        print(f\"{col:>25} - {the_vif}\")"
   ]
  },
  {
   "cell_type": "markdown",
   "metadata": {},
   "source": [
    "In the second approach, very less number of columns have show high VIF value compare to first approach."
   ]
  },
  {
   "cell_type": "markdown",
   "metadata": {},
   "source": [
    "## Chi-Square (cat/target)"
   ]
  },
  {
   "cell_type": "code",
   "execution_count": 14,
   "metadata": {},
   "outputs": [
    {
     "data": {
      "text/html": [
       "<div><style>\n",
       ".dataframe > thead > tr,\n",
       ".dataframe > tbody > tr {\n",
       "  text-align: right;\n",
       "  white-space: pre-wrap;\n",
       "}\n",
       "</style>\n",
       "<small>shape: (7, 5)</small><table border=\"1\" class=\"dataframe\"><thead><tr><th>EDUCATION</th><th>P2</th><th>P1</th><th>P3</th><th>P4</th></tr><tr><td>str</td><td>u32</td><td>u32</td><td>u32</td><td>u32</td></tr></thead><tbody><tr><td>&quot;12TH&quot;</td><td>9347</td><td>1430</td><td>2196</td><td>1494</td></tr><tr><td>&quot;GRADUATE&quot;</td><td>10086</td><td>1994</td><td>2433</td><td>2160</td></tr><tr><td>&quot;SSC&quot;</td><td>6014</td><td>982</td><td>1305</td><td>975</td></tr><tr><td>&quot;POST-GRADUATE&quot;</td><td>1353</td><td>348</td><td>289</td><td>252</td></tr><tr><td>&quot;UNDER GRADUATE…</td><td>3361</td><td>616</td><td>809</td><td>706</td></tr><tr><td>&quot;OTHERS&quot;</td><td>1878</td><td>381</td><td>379</td><td>279</td></tr><tr><td>&quot;PROFESSIONAL&quot;</td><td>160</td><td>52</td><td>41</td><td>16</td></tr></tbody></table></div>"
      ],
      "text/plain": [
       "shape: (7, 5)\n",
       "┌────────────────┬───────┬──────┬──────┬──────┐\n",
       "│ EDUCATION      ┆ P2    ┆ P1   ┆ P3   ┆ P4   │\n",
       "│ ---            ┆ ---   ┆ ---  ┆ ---  ┆ ---  │\n",
       "│ str            ┆ u32   ┆ u32  ┆ u32  ┆ u32  │\n",
       "╞════════════════╪═══════╪══════╪══════╪══════╡\n",
       "│ 12TH           ┆ 9347  ┆ 1430 ┆ 2196 ┆ 1494 │\n",
       "│ GRADUATE       ┆ 10086 ┆ 1994 ┆ 2433 ┆ 2160 │\n",
       "│ SSC            ┆ 6014  ┆ 982  ┆ 1305 ┆ 975  │\n",
       "│ POST-GRADUATE  ┆ 1353  ┆ 348  ┆ 289  ┆ 252  │\n",
       "│ UNDER GRADUATE ┆ 3361  ┆ 616  ┆ 809  ┆ 706  │\n",
       "│ OTHERS         ┆ 1878  ┆ 381  ┆ 379  ┆ 279  │\n",
       "│ PROFESSIONAL   ┆ 160   ┆ 52   ┆ 41   ┆ 16   │\n",
       "└────────────────┴───────┴──────┴──────┴──────┘"
      ]
     },
     "execution_count": 14,
     "metadata": {},
     "output_type": "execute_result"
    }
   ],
   "source": [
    "df.pivot(\n",
    "    values=\"EDUCATION\",\n",
    "    index=\"EDUCATION\",\n",
    "    columns=target_col,\n",
    "    aggregate_function=\"len\",\n",
    ")"
   ]
  },
  {
   "cell_type": "code",
   "execution_count": null,
   "metadata": {},
   "outputs": [],
   "source": [
    "CHI2_PVALUE_THRESHOLD = 0.05"
   ]
  },
  {
   "cell_type": "code",
   "execution_count": 15,
   "metadata": {},
   "outputs": [
    {
     "name": "stdout",
     "output_type": "stream",
     "text": [
      "p_value of MARITALSTATUS : 2.7588304433709322e-257\n",
      "p_value of EDUCATION : 8.464676085080213e-38\n",
      "p_value of GENDER : 0.00024506679895417094\n",
      "p_value of last_prod_enq2 : 0.0\n"
     ]
    }
   ],
   "source": [
    "for col in cat_cols[:-1]:\n",
    "    _, pval, _, _ = chi2_contingency(\n",
    "        df.pivot(  # works as ``pd.crosstab`` function\n",
    "            values=col,\n",
    "            index=target_col,\n",
    "            columns=col,\n",
    "            aggregate_function=\"len\",\n",
    "        ).drop(target_col),\n",
    "    )\n",
    "    # cat_cols are less so we don't filter them with threshold\n",
    "    print(f\"p_value of {col} : {pval}\")"
   ]
  },
  {
   "cell_type": "markdown",
   "metadata": {},
   "source": [
    "All the categorical columns have very low `pvalue` _(less than 0.05)_ so, we don't drop any `cat_cols`."
   ]
  },
  {
   "cell_type": "markdown",
   "metadata": {},
   "source": [
    "## ANOVA (num/target)"
   ]
  },
  {
   "cell_type": "code",
   "execution_count": 26,
   "metadata": {},
   "outputs": [],
   "source": [
    "ANOVA_PVALUE_THRESHOLD = 0.05"
   ]
  },
  {
   "cell_type": "code",
   "execution_count": 37,
   "metadata": {},
   "outputs": [
    {
     "name": "stdout",
     "output_type": "stream",
     "text": [
      "      num_sub_6mts - 0.0758316430790429\n",
      "      num_dbt_6mts - 0.05196339061523531\n",
      "      num_lss_6mts - 0.588775550367156\n",
      "     num_lss_12mts - 0.3651521309345726\n",
      "pct_currentBal_all_TL - 0.5820733859304024\n"
     ]
    }
   ],
   "source": [
    "for col in num_cols:\n",
    "    grouped_data = (\n",
    "        df.lazy()\n",
    "        .select(col, target_col)\n",
    "        .drop_nulls()\n",
    "        .group_by(target_col)\n",
    "        .agg(col)\n",
    "        .sort(target_col)\n",
    "        .collect()\n",
    "    )\n",
    "    _, p_value = oneway_anova(*[g[1] for g in grouped_data.iter_rows()])\n",
    "    if p_value > ANOVA_PVALUE_THRESHOLD:\n",
    "        print(f\"{col:>18} - {p_value}\")"
   ]
  },
  {
   "cell_type": "markdown",
   "metadata": {},
   "source": [
    "## Drop Columns\n",
    "\n",
    "Those columns who fails in VIF, Chi-Square and ANOVA test."
   ]
  },
  {
   "cell_type": "code",
   "execution_count": 39,
   "metadata": {},
   "outputs": [],
   "source": [
    "# Considering the second approach in VIF test\n",
    "failed_at_vif = {\n",
    "    \"Total_TL\",\n",
    "    \"Tot_Closed_TL\",\n",
    "    \"Tot_Active_TL\",\n",
    "    \"Total_TL_opened_L6M\",\n",
    "    \"Tot_TL_closed_L6M\",\n",
    "    \"pct_tl_open_L6M\",\n",
    "    \"pct_active_tl\",\n",
    "    \"pct_closed_tl\",\n",
    "    \"Total_TL_opened_L12M\",\n",
    "    \"Auto_TL\",\n",
    "    \"Consumer_TL\",\n",
    "    \"Gold_TL\",\n",
    "    \"num_times_delinquent\",\n",
    "    \"max_recent_level_of_deliq\",\n",
    "    \"num_deliq_6mts\",\n",
    "    \"num_deliq_12mts\",\n",
    "    \"num_times_30p_dpd\",\n",
    "    \"num_std\",\n",
    "    \"num_std_6mts\",\n",
    "    \"num_dbt_6mts\",\n",
    "    \"num_lss_6mts\",\n",
    "    \"tot_enq\",\n",
    "    \"CC_enq_L6m\",\n",
    "    \"PL_enq\",\n",
    "    \"PL_enq_L6m\",\n",
    "    \"enq_L12m\",\n",
    "    \"enq_L6m\",\n",
    "    \"AGE\",\n",
    "    \"pct_PL_enq_L6m_of_L12m\",\n",
    "    \"pct_CC_enq_L6m_of_L12m\",\n",
    "}\n",
    "\n",
    "failed_at_chi2 = set()\n",
    "\n",
    "failed_at_anova = {\n",
    "    \"num_sub_6mts\",\n",
    "    \"num_dbt_6mts\",\n",
    "    \"num_lss_6mts\",\n",
    "    \"num_lss_12mts\",\n",
    "    \"pct_currentBal_all_TL\",\n",
    "}"
   ]
  },
  {
   "cell_type": "code",
   "execution_count": 40,
   "metadata": {},
   "outputs": [
    {
     "data": {
      "text/plain": [
       "{'AGE',\n",
       " 'Auto_TL',\n",
       " 'CC_enq_L6m',\n",
       " 'Consumer_TL',\n",
       " 'Gold_TL',\n",
       " 'PL_enq',\n",
       " 'PL_enq_L6m',\n",
       " 'Tot_Active_TL',\n",
       " 'Tot_Closed_TL',\n",
       " 'Tot_TL_closed_L6M',\n",
       " 'Total_TL',\n",
       " 'Total_TL_opened_L12M',\n",
       " 'Total_TL_opened_L6M',\n",
       " 'enq_L12m',\n",
       " 'enq_L6m',\n",
       " 'max_recent_level_of_deliq',\n",
       " 'num_dbt_6mts',\n",
       " 'num_deliq_12mts',\n",
       " 'num_deliq_6mts',\n",
       " 'num_lss_12mts',\n",
       " 'num_lss_6mts',\n",
       " 'num_std',\n",
       " 'num_std_6mts',\n",
       " 'num_sub_6mts',\n",
       " 'num_times_30p_dpd',\n",
       " 'num_times_delinquent',\n",
       " 'pct_CC_enq_L6m_of_L12m',\n",
       " 'pct_PL_enq_L6m_of_L12m',\n",
       " 'pct_active_tl',\n",
       " 'pct_closed_tl',\n",
       " 'pct_currentBal_all_TL',\n",
       " 'pct_tl_open_L6M',\n",
       " 'tot_enq'}"
      ]
     },
     "execution_count": 40,
     "metadata": {},
     "output_type": "execute_result"
    }
   ],
   "source": [
    "cols_to_drop = failed_at_vif | failed_at_chi2 | failed_at_anova\n",
    "cols_to_drop"
   ]
  },
  {
   "cell_type": "code",
   "execution_count": 43,
   "metadata": {},
   "outputs": [],
   "source": [
    "# These may a powerful column for model\n",
    "dropping_exception_cols = {\n",
    "    \"AGE\",\n",
    "    \"Gold_TL\",\n",
    "    \"tot_enq\",\n",
    "}"
   ]
  },
  {
   "cell_type": "code",
   "execution_count": 45,
   "metadata": {},
   "outputs": [
    {
     "data": {
      "text/plain": [
       "{'Auto_TL',\n",
       " 'CC_enq_L6m',\n",
       " 'Consumer_TL',\n",
       " 'PL_enq',\n",
       " 'PL_enq_L6m',\n",
       " 'Tot_Active_TL',\n",
       " 'Tot_Closed_TL',\n",
       " 'Tot_TL_closed_L6M',\n",
       " 'Total_TL',\n",
       " 'Total_TL_opened_L12M',\n",
       " 'Total_TL_opened_L6M',\n",
       " 'enq_L12m',\n",
       " 'enq_L6m',\n",
       " 'max_recent_level_of_deliq',\n",
       " 'num_dbt_6mts',\n",
       " 'num_deliq_12mts',\n",
       " 'num_deliq_6mts',\n",
       " 'num_lss_12mts',\n",
       " 'num_lss_6mts',\n",
       " 'num_std',\n",
       " 'num_std_6mts',\n",
       " 'num_sub_6mts',\n",
       " 'num_times_30p_dpd',\n",
       " 'num_times_delinquent',\n",
       " 'pct_CC_enq_L6m_of_L12m',\n",
       " 'pct_PL_enq_L6m_of_L12m',\n",
       " 'pct_active_tl',\n",
       " 'pct_closed_tl',\n",
       " 'pct_currentBal_all_TL',\n",
       " 'pct_tl_open_L6M'}"
      ]
     },
     "execution_count": 45,
     "metadata": {},
     "output_type": "execute_result"
    }
   ],
   "source": [
    "cols_to_drop = cols_to_drop - dropping_exception_cols\n",
    "cols_to_drop"
   ]
  },
  {
   "cell_type": "code",
   "execution_count": 47,
   "metadata": {},
   "outputs": [
    {
     "name": "stdout",
     "output_type": "stream",
     "text": [
      "(51336, 49)\n"
     ]
    },
    {
     "data": {
      "text/html": [
       "<div><style>\n",
       ".dataframe > thead > tr,\n",
       ".dataframe > tbody > tr {\n",
       "  text-align: right;\n",
       "  white-space: pre-wrap;\n",
       "}\n",
       "</style>\n",
       "<small>shape: (5, 49)</small><table border=\"1\" class=\"dataframe\"><thead><tr><th>PROSPECTID</th><th>pct_tl_closed_L6M</th><th>Tot_TL_closed_L12M</th><th>pct_tl_open_L12M</th><th>pct_tl_closed_L12M</th><th>Tot_Missed_Pmnt</th><th>CC_TL</th><th>Gold_TL</th><th>Home_TL</th><th>PL_TL</th><th>Secured_TL</th><th>Unsecured_TL</th><th>Other_TL</th><th>Age_Oldest_TL</th><th>Age_Newest_TL</th><th>time_since_recent_payment</th><th>num_deliq_6_12mts</th><th>num_times_60p_dpd</th><th>num_std_12mts</th><th>num_sub</th><th>num_sub_12mts</th><th>num_dbt</th><th>num_dbt_12mts</th><th>num_lss</th><th>recent_level_of_deliq</th><th>tot_enq</th><th>CC_enq</th><th>CC_enq_L12m</th><th>PL_enq_L12m</th><th>time_since_recent_enq</th><th>enq_L3m</th><th>MARITALSTATUS</th><th>EDUCATION</th><th>AGE</th><th>GENDER</th><th>NETMONTHLYINCOME</th><th>Time_With_Curr_Empr</th><th>pct_of_active_TLs_ever</th><th>pct_opened_TLs_L6m_of_L12m</th><th>CC_Flag</th><th>PL_Flag</th><th>pct_PL_enq_L6m_of_ever</th><th>pct_CC_enq_L6m_of_ever</th><th>HL_Flag</th><th>GL_Flag</th><th>last_prod_enq2</th><th>first_prod_enq2</th><th>Credit_Score</th><th>Approved_Flag</th></tr><tr><td>i64</td><td>f64</td><td>i64</td><td>f64</td><td>f64</td><td>i64</td><td>i64</td><td>i64</td><td>i64</td><td>i64</td><td>i64</td><td>i64</td><td>i64</td><td>i64</td><td>i64</td><td>i64</td><td>i64</td><td>i64</td><td>i64</td><td>i64</td><td>i64</td><td>i64</td><td>i64</td><td>i64</td><td>i64</td><td>i64</td><td>i64</td><td>i64</td><td>i64</td><td>i64</td><td>i64</td><td>str</td><td>str</td><td>i64</td><td>str</td><td>i64</td><td>i64</td><td>f64</td><td>f64</td><td>i64</td><td>i64</td><td>f64</td><td>f64</td><td>i64</td><td>i64</td><td>str</td><td>str</td><td>i64</td><td>str</td></tr></thead><tbody><tr><td>1</td><td>0.0</td><td>0</td><td>0.0</td><td>0.0</td><td>0</td><td>0</td><td>1</td><td>0</td><td>4</td><td>1</td><td>4</td><td>0</td><td>72</td><td>18</td><td>549</td><td>0</td><td>0</td><td>11</td><td>0</td><td>0</td><td>0</td><td>0</td><td>0</td><td>29</td><td>6</td><td>0</td><td>0</td><td>0</td><td>566</td><td>0</td><td>&quot;Married&quot;</td><td>&quot;12TH&quot;</td><td>48</td><td>&quot;M&quot;</td><td>51000</td><td>114</td><td>0.2</td><td>0.0</td><td>0</td><td>1</td><td>0.0</td><td>0.0</td><td>1</td><td>0</td><td>&quot;PL&quot;</td><td>&quot;PL&quot;</td><td>696</td><td>&quot;P2&quot;</td></tr><tr><td>2</td><td>0.0</td><td>0</td><td>1.0</td><td>0.0</td><td>0</td><td>0</td><td>0</td><td>0</td><td>0</td><td>0</td><td>1</td><td>0</td><td>7</td><td>7</td><td>47</td><td>0</td><td>0</td><td>0</td><td>0</td><td>0</td><td>0</td><td>0</td><td>0</td><td>0</td><td>1</td><td>0</td><td>0</td><td>0</td><td>209</td><td>0</td><td>&quot;Single&quot;</td><td>&quot;GRADUATE&quot;</td><td>23</td><td>&quot;F&quot;</td><td>19000</td><td>50</td><td>1.0</td><td>0.0</td><td>0</td><td>0</td><td>0.0</td><td>0.0</td><td>0</td><td>0</td><td>&quot;ConsumerLoan&quot;</td><td>&quot;ConsumerLoan&quot;</td><td>685</td><td>&quot;P2&quot;</td></tr><tr><td>3</td><td>0.0</td><td>0</td><td>0.25</td><td>0.0</td><td>1</td><td>0</td><td>1</td><td>0</td><td>0</td><td>2</td><td>6</td><td>0</td><td>47</td><td>2</td><td>302</td><td>8</td><td>0</td><td>10</td><td>0</td><td>0</td><td>0</td><td>0</td><td>0</td><td>25</td><td>4</td><td>0</td><td>0</td><td>0</td><td>587</td><td>0</td><td>&quot;Married&quot;</td><td>&quot;SSC&quot;</td><td>40</td><td>&quot;M&quot;</td><td>18</td><td>191</td><td>1.0</td><td>0.5</td><td>0</td><td>0</td><td>0.0</td><td>0.0</td><td>1</td><td>0</td><td>&quot;ConsumerLoan&quot;</td><td>&quot;others&quot;</td><td>693</td><td>&quot;P2&quot;</td></tr><tr><td>4</td><td>0.0</td><td>0</td><td>1.0</td><td>0.0</td><td>1</td><td>0</td><td>0</td><td>0</td><td>0</td><td>0</td><td>1</td><td>1</td><td>5</td><td>5</td><td>null</td><td>0</td><td>0</td><td>5</td><td>0</td><td>0</td><td>0</td><td>0</td><td>0</td><td>0</td><td>null</td><td>null</td><td>null</td><td>null</td><td>null</td><td>null</td><td>&quot;Married&quot;</td><td>&quot;SSC&quot;</td><td>34</td><td>&quot;M&quot;</td><td>10000</td><td>246</td><td>1.0</td><td>1.0</td><td>0</td><td>0</td><td>0.0</td><td>0.0</td><td>0</td><td>0</td><td>&quot;others&quot;</td><td>&quot;others&quot;</td><td>673</td><td>&quot;P2&quot;</td></tr><tr><td>5</td><td>0.0</td><td>0</td><td>0.0</td><td>0.0</td><td>0</td><td>0</td><td>0</td><td>0</td><td>0</td><td>3</td><td>0</td><td>2</td><td>131</td><td>32</td><td>583</td><td>0</td><td>0</td><td>16</td><td>0</td><td>0</td><td>0</td><td>0</td><td>0</td><td>0</td><td>1</td><td>0</td><td>0</td><td>0</td><td>3951</td><td>0</td><td>&quot;Married&quot;</td><td>&quot;POST-GRADUATE&quot;</td><td>48</td><td>&quot;M&quot;</td><td>15000</td><td>75</td><td>0.333</td><td>0.0</td><td>0</td><td>0</td><td>0.0</td><td>0.0</td><td>0</td><td>0</td><td>&quot;AL&quot;</td><td>&quot;AL&quot;</td><td>753</td><td>&quot;P1&quot;</td></tr></tbody></table></div>"
      ],
      "text/plain": [
       "shape: (5, 49)\n",
       "┌───────────┬───────────┬───────────┬───────────┬───┬───────────┬───────────┬───────────┬──────────┐\n",
       "│ PROSPECTI ┆ pct_tl_cl ┆ Tot_TL_cl ┆ pct_tl_op ┆ … ┆ last_prod ┆ first_pro ┆ Credit_Sc ┆ Approved │\n",
       "│ D         ┆ osed_L6M  ┆ osed_L12M ┆ en_L12M   ┆   ┆ _enq2     ┆ d_enq2    ┆ ore       ┆ _Flag    │\n",
       "│ ---       ┆ ---       ┆ ---       ┆ ---       ┆   ┆ ---       ┆ ---       ┆ ---       ┆ ---      │\n",
       "│ i64       ┆ f64       ┆ i64       ┆ f64       ┆   ┆ str       ┆ str       ┆ i64       ┆ str      │\n",
       "╞═══════════╪═══════════╪═══════════╪═══════════╪═══╪═══════════╪═══════════╪═══════════╪══════════╡\n",
       "│ 1         ┆ 0.0       ┆ 0         ┆ 0.0       ┆ … ┆ PL        ┆ PL        ┆ 696       ┆ P2       │\n",
       "│ 2         ┆ 0.0       ┆ 0         ┆ 1.0       ┆ … ┆ ConsumerL ┆ ConsumerL ┆ 685       ┆ P2       │\n",
       "│           ┆           ┆           ┆           ┆   ┆ oan       ┆ oan       ┆           ┆          │\n",
       "│ 3         ┆ 0.0       ┆ 0         ┆ 0.25      ┆ … ┆ ConsumerL ┆ others    ┆ 693       ┆ P2       │\n",
       "│           ┆           ┆           ┆           ┆   ┆ oan       ┆           ┆           ┆          │\n",
       "│ 4         ┆ 0.0       ┆ 0         ┆ 1.0       ┆ … ┆ others    ┆ others    ┆ 673       ┆ P2       │\n",
       "│ 5         ┆ 0.0       ┆ 0         ┆ 0.0       ┆ … ┆ AL        ┆ AL        ┆ 753       ┆ P1       │\n",
       "└───────────┴───────────┴───────────┴───────────┴───┴───────────┴───────────┴───────────┴──────────┘"
      ]
     },
     "execution_count": 47,
     "metadata": {},
     "output_type": "execute_result"
    }
   ],
   "source": [
    "# Finally drop with (exception columns)\n",
    "df = df.drop(cols_to_drop)\n",
    "print(df.shape)\n",
    "df.head()"
   ]
  },
  {
   "cell_type": "markdown",
   "metadata": {},
   "source": [
    "# Export preprocessed dataset"
   ]
  },
  {
   "cell_type": "code",
   "execution_count": 48,
   "metadata": {},
   "outputs": [],
   "source": [
    "df.write_parquet(\"preprocessed_data.parquet\")"
   ]
  }
 ],
 "metadata": {
  "kernelspec": {
   "display_name": ".venv",
   "language": "python",
   "name": "python3"
  },
  "language_info": {
   "codemirror_mode": {
    "name": "ipython",
    "version": 3
   },
   "file_extension": ".py",
   "mimetype": "text/x-python",
   "name": "python",
   "nbconvert_exporter": "python",
   "pygments_lexer": "ipython3",
   "version": "3.11.8"
  }
 },
 "nbformat": 4,
 "nbformat_minor": 2
}
